{
  "nbformat": 4,
  "nbformat_minor": 0,
  "metadata": {
    "colab": {
      "provenance": [],
      "toc_visible": true,
      "authorship_tag": "ABX9TyPPh2wpOsnwKiUwZuIOfTyj",
      "include_colab_link": true
    },
    "kernelspec": {
      "name": "python3",
      "display_name": "Python 3"
    },
    "language_info": {
      "name": "python"
    }
  },
  "cells": [
    {
      "cell_type": "markdown",
      "metadata": {
        "id": "view-in-github",
        "colab_type": "text"
      },
      "source": [
        "<a href=\"https://colab.research.google.com/github/takatakamanbou/MVA/blob/main/MVA2024_ex10notebookC.ipynb\" target=\"_parent\"><img src=\"https://colab.research.google.com/assets/colab-badge.svg\" alt=\"Open In Colab\"/></a>"
      ]
    },
    {
      "cell_type": "markdown",
      "source": [
        "# MVA2024 ex10notebookC\n",
        "\n",
        "<img width=64 src=\"https://www-tlab.math.ryukoku.ac.jp/~takataka/course/MVA/MVA-logo.png\"> https://www-tlab.math.ryukoku.ac.jp/wiki/?MVA/2024"
      ],
      "metadata": {
        "id": "P4preLw7SzqH"
      }
    },
    {
      "cell_type": "markdown",
      "source": [
        "----\n",
        "## マハラノビス距離 / 正規分布の当てはめの応用\n",
        "---\n",
        "\n",
        "ex10notebookA 「正規分布のパラメータの推定」の項では，最尤推定という手法によって，データに正規分布を当てはめられる（正規分布の平均と分散共分散行列を推定できる）ことを学びました．データに確率分布を当てはめるこのような方法は，様々な場面で応用がききます．この notebook の後半でそのような応用事例を紹介するのですが，その話の導入として，「マハラノビス距離」というものを説明します．ここで説明していることは，次回以降の内容である「判別分析」でも活用することになります．\n",
        "\n",
        "<b><font color=\"#ff0000\">\n",
        "注意:\n",
        "今回の notebook の中には，コードセルを実行すると問題の解答が表示されるようになっている箇所があります．\n",
        "</font>\n",
        "</b>\n"
      ],
      "metadata": {
        "id": "FIjU8Zup0VCa"
      }
    },
    {
      "cell_type": "code",
      "metadata": {
        "id": "I226xIKJbqtM"
      },
      "source": [
        "# 必要なパッケージのインポート\n",
        "import numpy as np\n",
        "import matplotlib.pyplot as plt\n",
        "import pandas as pd\n",
        "import seaborn\n",
        "seaborn.set()\n",
        "\n",
        "# SciPy のもろもろ\n",
        "import scipy as sp\n",
        "from scipy.spatial import distance\n",
        "from scipy.stats import norm, multivariate_normal\n",
        "\n",
        "# Python による「コンピュータビジョン(Computer Vision)」のためのライブラリ OpenCV のパッケージをインポート\n",
        "import cv2\n",
        "\n",
        "# 「解答」を示す際に文字列を復号するのに使う\n",
        "import base64\n",
        "# 復号した文字列を Markdown 形式で（数式は LaTeX でフォーマットして）表示\n",
        "from IPython.display import display, Markdown"
      ],
      "execution_count": null,
      "outputs": []
    },
    {
      "cell_type": "markdown",
      "source": [
        "---\n",
        "### 正規分布に対する尤度とマハラノビス距離"
      ],
      "metadata": {
        "id": "kL70cv0myALI"
      }
    },
    {
      "cell_type": "markdown",
      "source": [
        "マハラノビス距離とはどんなものか，以前にも使った，この授業の第7回までの Quiz の得点率 [%]（Quiz）と先日の小テストの得点率 [%]（Exam）のデータを使って説明します．"
      ],
      "metadata": {
        "id": "hpAdF9U5K4HO"
      }
    },
    {
      "cell_type": "code",
      "source": [
        "##### CSV ファイルを読み込む #####\n",
        "URL = 'https://www-tlab.math.ryukoku.ac.jp/~takataka/course/MVA/MVA2024-QvsE1107.csv'\n",
        "df = pd.read_csv(URL, index_col=0)\n",
        "X = df.to_numpy()\n",
        "N, D = X.shape\n",
        "print(f'N = {N}, D = {D}')\n",
        "#df"
      ],
      "metadata": {
        "id": "Uye52dAiyFc8"
      },
      "execution_count": null,
      "outputs": []
    },
    {
      "cell_type": "markdown",
      "source": [
        "このデータに2次元正規分布を当てはめる（平均と分散共分散行列を推定する）と，次のような結果となります．"
      ],
      "metadata": {
        "id": "-vsdWyXcPWqq"
      }
    },
    {
      "cell_type": "code",
      "source": [
        "# 平均 mu 分散共分散行列 cov を推定\n",
        "mu = np.mean(X, axis=0)\n",
        "print(f'mu = {mu}')\n",
        "Xd = X - mu\n",
        "cov = Xd.T @ Xd / N\n",
        "print('cov = ')\n",
        "print(cov)\n",
        "\n",
        "# 2点 P, Q\n",
        "P = np.array([90, 90])\n",
        "Q = np.array([40, 90])\n",
        "\n",
        "# 確率密度描画のためのグリッドデータの作成\n",
        "xmin, xmax = -10, 110\n",
        "xx, yy = np.mgrid[xmin:xmax:1.0, xmin:xmax:1.0]\n",
        "zz = multivariate_normal.pdf(np.dstack((xx, yy)), mean=mu, cov=cov)\n",
        "\n",
        "# データの散布図と正規分布の確率密度関数を重ねて描く\n",
        "fig, ax = plt.subplots(figsize=(5, 5))\n",
        "ax.scatter(X[:, 0], X[:, 1], s=10)\n",
        "ax.scatter(P[0], P[1], s=100, marker='*', label=f'P({P[0]},{P[1]})')\n",
        "ax.scatter(Q[0], Q[1], s=100, marker='*', label=f'Q({Q[0]},{Q[1]})')\n",
        "tmp = np.vstack((mu, P))\n",
        "ax.plot(tmp[:, 0], tmp[:, 1], linestyle='-', color='gray')\n",
        "tmp = np.vstack((mu, Q))\n",
        "ax.plot(tmp[:, 0], tmp[:, 1], linestyle='-', color='gray')\n",
        "ax.contour(xx, yy, zz, colors=['#ffa0a0', '#ff5050', '#ff0000'], levels=[0.00002, 0.0001, 0.0005])\n",
        "ax.plot(mu[0], mu[1], '+', markersize=16, color='r')\n",
        "ax.axvline(mu[0], linestyle='dotted', color='gray')\n",
        "ax.axhline(mu[1], linestyle='dotted', color='gray')\n",
        "ax.axvline(0, color='gray')\n",
        "ax.axhline(0, color='gray')\n",
        "ax.set_xlim(xmin, xmax)\n",
        "ax.set_ylim(xmin, xmax)\n",
        "ax.set_xlabel('Quiz')\n",
        "ax.set_ylabel('Exam')\n",
        "ax.set_aspect('equal')\n",
        "ax.legend()\n",
        "plt.show()"
      ],
      "metadata": {
        "id": "iTZPr0gDyLBW"
      },
      "execution_count": null,
      "outputs": []
    },
    {
      "cell_type": "markdown",
      "source": [
        "この散布図には，正規分布の確率密度関数を可視化するための同心楕円と，2つの点 $P(90, 90), Q(40, 90)$ も描かれています．\n",
        "2つの線分は，これらの点と正規分布の平均との間を結んでいます．\n",
        "\n",
        "この2点 $P, Q$ は，平均から同じくらい離れているように見えます．$P, Q$ がそれぞれ平均とどのくらい離れているかを測るため，ユークリッド距離（最も一般的な距離）を計算してみましょう．ある点 $\\pmb{x}$ と $\\pmb{y}$ の間のユークリッド距離は $\\|\\pmb{x} - \\pmb{y}\\|$ と表されます．"
      ],
      "metadata": {
        "id": "l96hGOTh2pWE"
      }
    },
    {
      "cell_type": "code",
      "source": [
        "# 平均と点PおよびQの間のユークリッド距離\n",
        "v = mu - P\n",
        "edistP = np.sqrt(v @ v)\n",
        "v = mu - Q\n",
        "edistQ = np.sqrt(v @ v)\n",
        "print(f'平均と点 P({P[0]},{P[1]}) の間のユークリッド距離 = {edistP:.2f}')\n",
        "print(f'平均と点 Q({Q[0]},{Q[1]}) の間のユークリッド距離 = {edistQ:.2f}')"
      ],
      "metadata": {
        "id": "3PsrlAAj2dd5"
      },
      "execution_count": null,
      "outputs": []
    },
    {
      "cell_type": "markdown",
      "source": [
        "ユークリッド距離を測ると，$P, Q$ は平均からほぼ同じくらい離れていることが分かります．\n",
        "しかし，図を見ると，点 $P$ は散らばったデータ点たちに近い所に位置している一方，点 $Q$ はそれらから少し離れています．\n",
        "したがって，このデータのサンプルとしては，点 $Q$ よりも点 $P$ の方がより適当なように思えます．最尤推定の項で説明したように，このことは，**尤度** によって定量的に測ることができます．\n",
        "\n",
        "平均 $\\pmb{\\mu}$，分散共分散行列 $\\Sigma$ の $D$ 次元正規分布の確率密度関数を $f(\\pmb{x})$ とおくと，\n",
        "\n",
        "$$\n",
        "f(\\pmb{x}) =\n",
        " \\frac{1}{\\sqrt{(2\\pi)^D|\\Sigma|}}\\exp\\left(-\\frac{1}{2}(\\pmb{x}-\\pmb{\\mu})^{\\top}\\Sigma^{-1}(\\pmb{x}-\\pmb{\\mu})\\right) \\qquad (1)\n",
        "$$\n",
        "\n",
        "です．この正規分布に対する $\\pmb{x}$ の尤度を $\\ell(\\pmb{x})$ とおくと，$\\ell(\\pmb{x}) = f(\\pmb{x})$ ですが，対数をとった値の方が扱いやすいので，**対数尤度** を求めると，\n",
        "\n",
        "$$\n",
        "\\log\\ell(\\pmb{x}) = -\\frac{D}{2}\\log{(2\\pi)} -\\frac{1}{2}\\log{|\\Sigma|} - \\frac{1}{2}(\\pmb{x}-\\pmb{\\mu})^{\\top}\\Sigma^{-1}(\\pmb{x}-\\pmb{\\mu}) \\qquad (2)\n",
        "$$\n",
        "\n",
        "となります．実際に，2点 $P,Q$ の対数尤度を計算すると，次のようになります．"
      ],
      "metadata": {
        "id": "oh8opyFZ3XQ8"
      }
    },
    {
      "cell_type": "code",
      "source": [
        "# 推定された正規分布に対する点P, Qの対数尤度\n",
        "llP = multivariate_normal.logpdf(P, mean=mu, cov=cov)\n",
        "llQ = multivariate_normal.logpdf(Q, mean=mu, cov=cov)\n",
        "print(f'推定された正規分布に対する点 P({P[0]},{P[1]}) の対数尤度 = {llP:.2f}')\n",
        "print(f'推定された正規分布に対する点 Q({Q[0]},{Q[1]}) の対数尤度 = {llQ:.2f}')"
      ],
      "metadata": {
        "id": "tsZwfnT1352W"
      },
      "execution_count": null,
      "outputs": []
    },
    {
      "cell_type": "markdown",
      "source": [
        "平均との間のユークリッド距離では点 $P, Q$ にほとんど差がありませんでしたが，対数尤度を測ると，$Q$ よりも $P$ の方がその値が大きく，この正規分布から生成された標本としてより尤もらしいことが分かります．このように，尤度/対数尤度を用いると「対象とする正規分布から生成されたことの尤もらしさ」を評価することができます．\n",
        "\n",
        "さて，ここで式 $(2)$ をよく見ると，$\\mu, \\Sigma$ が固定されているとき、この対数尤度は次のような形をしています．\n",
        "\n",
        "$$\n",
        "\\log\\ell(\\pmb{x}) = - \\frac{1}{2}(\\pmb{x}-\\pmb{\\mu})^{\\top}\\Sigma^{-1}(\\pmb{x}-\\pmb{\\mu}) + (定数) \\qquad (3)\n",
        "$$\n",
        "\n",
        "$(定数)$ の項は $\\pmb{x}$ によらず一定です．したがって，ある一つの正規分布に対する異なる2点の尤度の大小を比較するという目的においては，\n",
        "\n",
        "$$\n",
        "(\\pmb{x}-\\pmb{\\mu})^{\\top}\\Sigma^{-1}(\\pmb{x}-\\pmb{\\mu}) \\qquad (4)\n",
        "$$\n",
        "\n",
        "という量を計算すればよいことが分かります．ただし，式$(3)$にあった負号がなくなっているので，式$(4)$の値が小さい方が尤度が大きくなります．\n",
        "\n",
        "以上をふまえて，ユークリッド距離に代わる新しい距離の規準として，次式で定義される **マハラノビス距離** (Mahalanobis' distance) （注）を導入します．\n",
        "\n",
        "$$\n",
        "d_M(\\pmb{x}) = \\sqrt{(\\pmb{x}-\\pmb{\\mu})^{\\top}\\Sigma^{-1}(\\pmb{x}-\\pmb{\\mu})} \\qquad (5)\n",
        "$$\n",
        "\n",
        "このマハラノビス距離は，点 $\\pmb{x}$ が，平均 $\\pmb{\\mu}$ 分散共分散行列 $\\Sigma$ の正規分布からどのくらい離れているかを表す量です．特に，分散共分散行列 $\\Sigma$ が単位行列に等しい場合，$d_M(\\pmb{x}) = \\sqrt{(\\pmb{x}-\\pmb{\\mu})^{\\top}(\\pmb{x}-\\pmb{\\mu})} = \\sqrt{\\|\\pmb{x} - \\pmb{\\mu}\\|^2} = \\|\\pmb{x} - \\pmb{\\mu}\\|$ となり，$\\pmb{x}$ と $\\pmb{\\mu}$ の間のユークリッド距離に一致します．\n",
        "\n",
        "<br>\n",
        "<hr width=\"50%\" align=\"left\">\n",
        "<span style=\"font-size: 75%\">\n",
        "※ 注意: 余談ですが，マハラノビスは統計学者の名前です．\n",
        "Prasanta Chandra Mahalanobis（プラサンタ・チャンドラ・マハラノビス）：  インドの統計学者， 1893 - 1972，<a href=\"https://ja.wikipedia.org/wiki/%E3%83%97%E3%83%A9%E3%82%B5%E3%83%B3%E3%82%BF%E3%83%BB%E3%83%81%E3%83%A3%E3%83%B3%E3%83%89%E3%83%A9%E3%83%BB%E3%83%9E%E3%83%8F%E3%83%A9%E3%83%8E%E3%83%93%E3%82%B9\">Wikipedia</a>\n",
        "</span>"
      ],
      "metadata": {
        "id": "AwSQXjyv3e3u"
      }
    },
    {
      "cell_type": "markdown",
      "source": [
        "上で推定された正規分布に対する点 $P, Q$ のマハラノビス距離の値を求めてみると，次のようになります．"
      ],
      "metadata": {
        "id": "ptMR_Muh1NL4"
      }
    },
    {
      "cell_type": "code",
      "source": [
        "# 推定された正規分布に対する点P, Qのマハラノビス距離\n",
        "covInv = np.linalg.inv(cov)\n",
        "mdistP = distance.mahalanobis(P, mu, covInv)\n",
        "mdistQ = distance.mahalanobis(Q, mu, covInv)\n",
        "print(f'推定された正規分布に対する点 P({P[0]},{P[1]}) のマハラノビス距離 = {mdistP:.2f}')\n",
        "print(f'推定された正規分布に対する点 Q({Q[0]},{Q[1]}) のマハラノビス距離 = {mdistQ:.2f}')"
      ],
      "metadata": {
        "id": "7vzTObSp47hE"
      },
      "execution_count": null,
      "outputs": []
    },
    {
      "cell_type": "markdown",
      "source": [
        "対数尤度の大小を反映して，点$P$の方がマハラノビス距離が小さくなっています．\n",
        "\n"
      ],
      "metadata": {
        "id": "h0nWqyeGv7Th"
      }
    },
    {
      "cell_type": "markdown",
      "source": [
        "#### 問題1"
      ],
      "metadata": {
        "id": "DfR6Qf2H0TeW"
      }
    },
    {
      "cell_type": "markdown",
      "source": [
        "3つの2次元ベクトル（$2\\times 1$ 行列） $\\pmb{x}, \\pmb{y}, \\pmb{\\mu}$ を\n",
        "\n",
        "$$\n",
        "\\pmb{x} = \\begin{pmatrix} 4 \\\\ 3 \\end{pmatrix}\\qquad\n",
        "\\pmb{y} = \\begin{pmatrix} 5 \\\\ 5 \\end{pmatrix}\\qquad\n",
        "\\pmb{\\mu} = \\begin{pmatrix} 3 \\\\ 4 \\end{pmatrix}\n",
        "$$\n",
        "\n",
        "とおく．また，行列 $\\Sigma$ を\n",
        "\n",
        "$$\n",
        "\\Sigma = \\begin{pmatrix} 2 & 1 \\\\ 1 & 1 \\end{pmatrix}\n",
        "$$\n",
        "\n",
        "とおく．このとき，次の問に答えなさい．"
      ],
      "metadata": {
        "id": "KLOclSBb2GKA"
      }
    },
    {
      "cell_type": "markdown",
      "source": [
        "(1) $\\pmb{x}$ と $\\pmb{\\mu}$ との間のユークリッド距離 $\\| \\pmb{x} - \\pmb{\\mu}\\|$ および $\\pmb{y}$ と $\\pmb{\\mu}$ との間のユークリッド距離 $\\|\\pmb{y}-\\pmb{\\mu}\\|$ を求め，この距離規準では $\\pmb{x}$ と $\\pmb{y}$ のどちらの方が $\\pmb{\\mu}$ に近いか答えなさい．\n",
        "\n",
        "(2) 式$(5)$の定義を用いて，平均 $\\pmb{\\mu}$，分散共分散行列 $\\Sigma$ の正規分布に対する $\\pmb{x}, \\pmb{y}$ のマハラノビス距離 $d_M(\\pmb{x}), d_M(\\pmb{y})$ を求め，この距離規準では $\\pmb{x}$ と $\\pmb{y}$ のどちらの方がこの正規分布に近いか（この正規分布から生成されたデータとして尤もらしいか）答えなさい．\n",
        "\n"
      ],
      "metadata": {
        "id": "2SeEwUxQ2Oxy"
      }
    },
    {
      "cell_type": "markdown",
      "source": [
        "次のコードを実行すると，上記の略解を表示します．また，上記問題の状況を視覚的に表示させることができます．"
      ],
      "metadata": {
        "id": "6rpRl22T_iK3"
      }
    },
    {
      "cell_type": "code",
      "source": [
        "# 正規分布の平均と分散共分散行列\n",
        "mu = np.array([3.0, 4.0])\n",
        "cov = np.array([[2.0, 1.0], [1.0, 1.0]])\n",
        "# 2点 R, S\n",
        "R = np.array([4, 3])\n",
        "S = np.array([5, 5])\n",
        "\n",
        "fig, ax = plt.subplots(figsize=(6, 6))\n",
        "xmin, xmax = -1, 7\n",
        "ymin, ymax = -1, 7\n",
        "xx, yy = np.mgrid[xmin:xmax:0.1, xmin:xmax:0.1]\n",
        "# 等高線を描くマハラノビス距離の値\n",
        "levels = [0, 0.5, 1.0, 1.5, 2.0, 2.5, 3.0]\n",
        "X = np.dstack((xx, yy)).reshape((-1, 2))\n",
        "d2 = np.sum(((X - mu) @ np.linalg.inv(cov)) * (X - mu), axis=1)\n",
        "zz = np.sqrt(d2).reshape((xx.shape[0], yy.shape[0]))\n",
        "cs = ax.contour(xx, yy, zz, cmap='Blues_r', levels=levels)\n",
        "ax.clabel(cs)\n",
        "ax.scatter(R[0], R[1], s=100, marker='*', label=r'$\\mathbf{x}$')\n",
        "ax.scatter(S[0], S[1], s=100, marker='*', label=r'$\\mathbf{y}$')\n",
        "ax.scatter(mu[0], mu[1], s=100, marker='+', color='blue', label=r'$\\mathbf{\\mu}$')\n",
        "ax.axhline(0, color='gray')\n",
        "ax.axvline(0, color='gray')\n",
        "ax.set_xlim(xmin, xmax)\n",
        "ax.set_ylim(ymin, ymax)\n",
        "ax.set_aspect('equal')\n",
        "ax.legend()\n",
        "plt.show()\n",
        "\n",
        "# ユークリッド距離とマハラノビス距離\n",
        "tmp = R - mu\n",
        "edistR = np.sqrt(tmp @ tmp)\n",
        "tmp = S - mu\n",
        "edistS = np.sqrt(tmp @ tmp)\n",
        "covInv = np.linalg.inv(cov)\n",
        "mdistR = distance.mahalanobis(R, mu, covInv)\n",
        "mdistS = distance.mahalanobis(S, mu, covInv)\n",
        "print(f'点 x と平均のユークリッド距離 = {edistR:.4f}   マハラノビス距離 = {mdistR:.4f}')\n",
        "print(f'点 y と平均のユークリッド距離 = {edistS:.4f}   マハラノビス距離 = {mdistS:.4f}')\n",
        "\n",
        "Q = b'CigxKSAkXHwgXHBtYnt4fSAtIFxwbWJ7XG11fVx8ID0gXHNxcnR7KDQtMyleMisoMy00KV4yfSA9IFxzcXJ0ezJ9LFwgIFx8IFxwbWJ7eX0gLSBccG1ie1xtdX1cfCA9IFxzcXJ0ezV9JO+8jiRccG1ie3h9JCDjga7mlrnjgYzov5HjgYTvvI4KCigyKSAkXFNpZ21hXnstMX0gPSBcYmVnaW57cG1hdHJpeH0gMSAmIC0xIFxcIC0xICYyIFxlbmR7cG1hdHJpeH0kIOOCiOOCiu+8jAokZF9NXjIoXHBtYnt4fSkgPSBcYmVnaW57cG1hdHJpeH0gNCAtIDMgJiAzIC0gNFxlbmR7cG1hdHJpeH1cYmVnaW57cG1hdHJpeH0gMSAmIC0xIFxcIC0xICYyIFxlbmR7cG1hdHJpeH1cYmVnaW57cG1hdHJpeH0gNC0zIFxcIDMtNCBcZW5ke3BtYXRyaXh9ID0gMiTvvIzjgojjgaPjgaYgJGRfTShccG1ie3h9KSA9IFxzcXJ0ezV9JO+8jgrlkIzmp5jjgavvvIwkZF9NKFxwbWJ7eX0pID0gXHNxcnR7Mn0k77yOJFxwbWJ7eX0kIOOBruaWueOBjOi/keOBhO+8jgo='\n",
        "display(Markdown(base64.b64decode(Q).decode('utf-8')))"
      ],
      "metadata": {
        "id": "9m-vSXFf2daz"
      },
      "execution_count": null,
      "outputs": []
    },
    {
      "cell_type": "markdown",
      "source": [
        "---\n",
        "### 正規分布の当てはめの応用"
      ],
      "metadata": {
        "id": "tfmU_NKhE8Ok"
      }
    },
    {
      "cell_type": "markdown",
      "source": [
        "データに正規分布を当てはめて，この正規分布に対する個々のデータ点の尤度やマハラノビス距離を求めると，それらがこの正規分布から生成されたことの尤もらしさを評価できます．あるデータのマハラノビス距離がとても大きい（尤度がとても小さい）場合，そのデータは，通常のデータの分布から外れた「異常な」ものと判断できそうです．このような考えに基づいて，次のような手順で「異常検出」/「異常検知」（anomaly detection）の仕組みを作ることができます．\n",
        "\n",
        "1. データを集める．例えば，多数の人々の医療検査のデータ，稼働中の工業機械のデータ（様々な場所の温度，圧力，回転数，etc.）など．\n",
        "1. 集めたデータに正規分布を当てはめる．\n",
        "1. 正常/異常を判断するためのマハラノビス距離のしきい値を定める．\n",
        "1. 新しいデータのマハラノビス距離を測り，その値がしきい値より小さければ正常，大きければ異常と判断する"
      ],
      "metadata": {
        "id": "CeMsFDDrXg1u"
      }
    },
    {
      "cell_type": "markdown",
      "source": [
        "#### 画像の顔らしさの数値化"
      ],
      "metadata": {
        "id": "kp377ObyapVG"
      }
    },
    {
      "cell_type": "markdown",
      "source": [
        "「異常検出」とは少し異なりますが，顔の画像をたくさん集めて正規分布を当てはめ，マハラノビス距離によって画像の「顔らしさ」を測る実験をやってみましょう．次のような手順です．\n",
        "\n",
        "1. 顔画像の位置や大きさを揃えて $64\\times 64$ 画素にしたものを大量に用意する．ひとつの顔画像のデータを $\\pmb{x}_n$ （$4096\\times 1$ 行列，$n = 1, 2, \\ldots, N$）と表す（グレイスケール画像なのでデータの次元数は $64\\times 64 = 4096$）．\n",
        "1. 次元削減のため $\\{ \\pmb{x}_n \\}$ に主成分分析を適用．累積寄与率 0.99 以上となる最小の次元数は $700$ だったため，$\\{ \\pmb{x}_n \\}$ の分散共分散行列の大きい方の固有値 $\\lambda_1, \\lambda_2, \\ldots \\lambda_{700}$ に対応する固有ベクトルをこの順にならべた $4096\\times 700$ の行列 $U$ をつくる．\n",
        "1. 次元削減したデータ $\\pmb{y}_n = U^{\\top}(\\pmb{x}_n - \\pmb{\\mu})$ （$\\pmb{\\mu}$ は $\\{ \\pmb{x}_n \\}$ の平均）の平均は $\\pmb{0}$ で分散共分散行列は $\\textrm{diag}(\\lambda_1, \\lambda_2, \\ldots, \\lambda_{700})$ なので，これらのデータが正規分布に従うと仮定すると，この正規分布に対するマハラノビス距離は\n",
        "$$\n",
        "d_M(\\pmb{y}) = \\pmb{y}^{\\top}\n",
        "\\begin{pmatrix}\n",
        "\\lambda_1 & & 0\\\\\n",
        "& \\ddots & \\\\\n",
        "0 & & \\lambda_{700}\n",
        "\\end{pmatrix}\\pmb{y} = \\frac{y_1^2}{\\lambda_1} + \\frac{y_2^2}{\\lambda_2} + \\cdots + \\frac{y_{700}^2}{\\lambda_{700}}\n",
        "$$\n",
        "となる．\n",
        "1. 画像 $\\pmb{x}$ が与えられたら，$\\pmb{y} = U^{\\top}(\\pmb{x} - \\pmb{\\mu})$ として $d_M(\\pmb{y})$ をその画像の「顔らしさ」とする．\n",
        "\n",
        "上記のうち 1. と 2. の手順はあらかじめ行ってあります．以下では，そこで得られた $\\pmb{\\mu}, U, \\lambda_1, \\ldots, \\lambda_{700}$ をファイルから読み込んで，4. の計算を行うようになっています．\n",
        "\n",
        "この実験では，[LFW (Labeled Faces in the Wild)](https://vis-www.cs.umass.edu/lfw/) という顔画像データセットを用いています．およそ1.3万枚の顔画像から成っています．"
      ],
      "metadata": {
        "id": "2uqot567b0au"
      }
    },
    {
      "cell_type": "code",
      "source": [
        "# takataka のウェブサイトからデータを入手\n",
        "! wget -nc https://www-tlab.math.ryukoku.ac.jp/~takataka/course/MVA/faciallikelihood.npz\n",
        "import os\n",
        "path = 'faciallikelihood.npz'\n",
        "if os.path.exists(path):\n",
        "    FL = np.load(path)\n",
        "else:\n",
        "    print(f'ファイル {path} の読み込みに失敗したようです．再実行してみてください')"
      ],
      "metadata": {
        "id": "L0STPnFcFDoC"
      },
      "execution_count": null,
      "outputs": []
    },
    {
      "cell_type": "code",
      "source": [
        "# PCA のパラメータ（平均，固有ベクトル，固有値）\n",
        "mu, U, lam = FL['mu'], FL['U'], FL['lam']\n",
        "print(f'mu.shape= {mu.shape}')\n",
        "print(f'U.shape = {U.shape}')\n",
        "print(f'lam.shape = {lam.shape}')"
      ],
      "metadata": {
        "id": "lqgSPQsVFY0R"
      },
      "execution_count": null,
      "outputs": []
    },
    {
      "cell_type": "markdown",
      "source": [
        "次のセルを実行すると，様々なサンプル画像に対して顔らしさを計算し，それらを表示します．"
      ],
      "metadata": {
        "id": "B0gNo699mUoh"
      }
    },
    {
      "cell_type": "code",
      "source": [
        "# サンプル画像\n",
        "samples = FL['samples']\n",
        "X = samples.reshape((samples.shape[0], -1)) / 255\n",
        "# 主成分分析による次元削減\n",
        "Y = (X - mu) @ U.T\n",
        "# 推定された正規分布に対するマハラノビス距離の計算\n",
        "dM = np.sqrt(np.sum((Y**2 / lam), axis=1))\n",
        "# 画像とそのマハラノビス距離の表示\n",
        "fig, ax = plt.subplots(4, 6, figsize=(6, 5))\n",
        "for i in range(4):\n",
        "    for j in range(6):\n",
        "        k = i*6 + j\n",
        "        ax[i, j].imshow(samples[k], cmap='gray', vmin=0, vmax=255)\n",
        "        ax[i, j].axis('off')\n",
        "        ax[i, j].set_title(f'{dM[k]:.1f}', fontsize=16)\n",
        "fig.tight_layout()\n",
        "plt.show()"
      ],
      "metadata": {
        "id": "vY9saC0SGITb"
      },
      "execution_count": null,
      "outputs": []
    },
    {
      "cell_type": "markdown",
      "source": [
        "左上の画像は，パラメータの推定に用いたデータの平均 $\\pmb{\\mu}$ です．定義から明らかなように，この画像のマハラノビス距離は $0$ です．\n",
        "\n",
        "左上の画像を除いた上から3行の17枚の画像は，パラメータの推定に用いたデータの一部を，マハラノビス距離の小さい方から順にならべたものです．\n",
        "画像を見ると分かるように，「顔らしさ」とは言いつつも，顔の向きが正面でない，濃い陰がある，メガネやゴーグルをかけている等の，顔そのもののつくりとは異なる要素のために顔らしさの数値が小さくなっているようです．\n",
        "\n",
        "最下行は，ヒトの顔ではない画像を用いた実験の結果です．左から，MVAのロゴ，ネコの顔画像3枚，顔のイラスト（「いらすとや」の素材を利用させていただきました），アルチンボルド作の絵画（注）です．\n",
        "\n",
        "見ての通り，あまり良い結果は得られませんでした．画素値をそのまま用いる方法であるため，顔そのもののつくりを表す特徴と，顔の向きや陰影，アクセサリ等の特徴を区別できていないことが原因と考えられます．機械学習の技術を用いて顔本来の特徴をうまく抽出できるようにすると，改善できるかもしれません．その辺りのことは，学部3年の「機械学習I/II」で少しだけ，大学院の「機械学習特論I/II」などでしっかり学べるかも．\n",
        "\n",
        "<br>\n",
        "<hr width=\"50%\" align=\"left\">\n",
        "<span style=\"font-size: 75%\">\n",
        "※ 注意: <a href=\"https://ja.wikipedia.org/wiki/%E3%82%B8%E3%83%A5%E3%82%BC%E3%83%83%E3%83%9A%E3%83%BB%E3%82%A2%E3%83%AB%E3%83%81%E3%83%B3%E3%83%9C%E3%83%AB%E3%83%89\">アルチンボルド</a> の「<a href=\"https://ja.wikipedia.org/wiki/%E3%82%A6%E3%82%A7%E3%83%AB%E3%83%88%E3%82%A5%E3%83%A0%E3%83%8C%E3%82%B9%E3%81%A8%E3%81%97%E3%81%A6%E3%81%AE%E7%9A%87%E5%B8%9D%E3%83%AB%E3%83%89%E3%83%AB%E3%83%952%E4%B8%96%E5%83%8F\">ウェルトゥムヌスとしての皇帝ルドルフ2世像</a>」．アルチンボルドは，野菜・果物や花などを組み合わせた肖像画でよく知られた16世紀の画家．\n",
        "</span>"
      ],
      "metadata": {
        "id": "w2PRpRJLnnYW"
      }
    },
    {
      "cell_type": "markdown",
      "source": [
        "以下では，自分で用意した顔画像で顔らしさを計算できます．"
      ],
      "metadata": {
        "id": "_N2Jdev22i1z"
      }
    },
    {
      "cell_type": "code",
      "source": [
        "# 顔検出器の準備\n",
        "faceCascade = cv2.CascadeClassifier(cv2.data.haarcascades + 'haarcascade_frontalface_alt2.xml')\n",
        "\n",
        "# Colab へのファイルアップロードを実行する関数\n",
        "#\n",
        "def uploadToColab():\n",
        "    try:\n",
        "        from google.colab import files\n",
        "        rv = files.upload()\n",
        "    except:\n",
        "        print('このコードは Colab 以外の環境では実行できないよ．')\n",
        "\n",
        "# OpenCVの形式の画像を表示する関数\n",
        "#\n",
        "def imshow(img):\n",
        "    try:\n",
        "        from google.colab.patches import cv2_imshow\n",
        "        cv2_imshow(img) # Colab上で実行している場合\n",
        "    except:\n",
        "        cv2.imshow(img)  # それ以外の場合\n",
        "\n",
        "# 与えられた画像の中から顔を検出する\n",
        "#\n",
        "def faceDetector(img, faceCascade, maxSize=400):\n",
        "\n",
        "    h, w = img.shape[:2]\n",
        "\n",
        "    # (短辺の長さ) <= maxSize にリサイズ\n",
        "    if min(w, h) > maxSize:\n",
        "        if w <= h:\n",
        "            w2, h2 = maxSize, h*maxSize//w\n",
        "        else:\n",
        "            w2, h2 = w*maxSize//h, maxSize\n",
        "        imgDisp = cv2.resize(img, (w2, h2))\n",
        "    else:\n",
        "        imgDisp = np.copy(img)\n",
        "\n",
        "    # 顔検出を実行\n",
        "    imgGray = cv2.cvtColor(imgDisp, cv2.COLOR_BGR2GRAY)\n",
        "    faces = faceCascade.detectMultiScale(imgGray, 1.05, 4)\n",
        "    nFace = len(faces)\n",
        "\n",
        "    # 検出した顔のうち最初のひとりを選んで切り取り\n",
        "    if nFace > 0:\n",
        "        print(faces)\n",
        "        x, y, ww, hh = faces[0]\n",
        "        imgFace = np.copy(imgDisp[y:y+hh, x:x+ww, :])\n",
        "        cv2.rectangle(imgDisp, (x, y), (x+ww, y+hh), color=(0, 255, 0), thickness=2)\n",
        "        return nFace, imgDisp, imgFace\n",
        "    else:\n",
        "        return nFace, imgDisp, None\n"
      ],
      "metadata": {
        "id": "yaET5ayh2QHJ"
      },
      "execution_count": null,
      "outputs": []
    },
    {
      "cell_type": "markdown",
      "source": [
        "(1) 画像を Colab へアップロードします．次のような画像にしてください\n",
        "\n",
        "- ひとりのひとのほぼ正面を向いた顔全体が写ってる．複数人を検出した場合，ひとりだけ抜き出します（あとで条件に合わない画像をわざと与えて実験してみるのもよいでしょう）．\n",
        "- 画像全体に顔がドアップで写っているような場合はうまく顔検出ができないかもしれません．顔がもう少し小さく写ってる画像を探してみましょう．\n",
        "- ファイル名に空白やマルチバイト文字（日本語など）が含まれているとうまく動作しない場合があるので，自分のPCの方で適当な名前に変えておく（拡張子は変えてはいけない）．"
      ],
      "metadata": {
        "id": "8F6Z_CrA20Dl"
      }
    },
    {
      "cell_type": "code",
      "source": [
        "# Colab へファイルをアップロード\n",
        "uploadToColab()\n",
        "\n",
        "# ls コマンドでファイルを一覧\n",
        "! ls"
      ],
      "metadata": {
        "id": "kdmtsQrVzlRP"
      },
      "execution_count": null,
      "outputs": []
    },
    {
      "cell_type": "markdown",
      "source": [
        "上のセルを実行してファイルをアップロードできたら，次のセルのファイル名の部分にその名前を指定して，読み込ませましょう．"
      ],
      "metadata": {
        "id": "W4kvExJU26nL"
      }
    },
    {
      "cell_type": "code",
      "source": [
        "# 画像を読み込む．`hoge.jpg` を自分がアップロードしたファイルの名前に修正\n",
        "img = cv2.imread('hoge.png')\n",
        "if img is None:\n",
        "    print('画像を読み込めませんでした．やり直してください')"
      ],
      "metadata": {
        "id": "Qh3XZ4S2zocE"
      },
      "execution_count": null,
      "outputs": []
    },
    {
      "cell_type": "markdown",
      "source": [
        "(2) 顔検出を実行して顔領域を切り取った画像を作る"
      ],
      "metadata": {
        "id": "7ggTCs3sdxjN"
      }
    },
    {
      "cell_type": "code",
      "source": [
        "# 顔を検出する\n",
        "numFace, imgDisp, imgFace = faceDetector(img, faceCascade, maxSize=400)\n",
        "if numFace > 0:\n",
        "    imshow(imgDisp)\n",
        "    imshow(imgFace)\n",
        "else:\n",
        "    imshow(imgDisp)\n",
        "    print('顔を検出できませんでした')"
      ],
      "metadata": {
        "id": "QmaZtg2azqWf"
      },
      "execution_count": null,
      "outputs": []
    },
    {
      "cell_type": "markdown",
      "source": [
        "(3) 顔を所定の大きさにリサイズしてから次元削減し，マハラノビス距離を計算．"
      ],
      "metadata": {
        "id": "U5-5lzO3exb9"
      }
    },
    {
      "cell_type": "code",
      "source": [
        "# 使用する画像の選択\n",
        "imgInput = imgFace  # 顔検出して切り取ったものを使用\n",
        "#imgInput = img     # 読み込んだ画像をそのまま使用\n",
        "\n",
        "# 顔画像を 64 x 64 にリサイズ\n",
        "imgInput2 = cv2.resize(cv2.cvtColor(imgInput, cv2.COLOR_BGR2GRAY), (64, 64))\n",
        "# 4096 次元ベクトルにする\n",
        "xvec = imgInput2.reshape(-1) / 255\n",
        "# PCAを利用した次元削減\n",
        "yvec = (xvec - mu) @ U.T\n",
        "# マハラノビス距離の計算\n",
        "dM = np.sqrt(np.sum((yvec**2 / lam)))\n",
        "# 画像を表示\n",
        "imshow(imgInput2)\n",
        "# 結果の表示\n",
        "print(f'顔らしさ {dM:.2f}')"
      ],
      "metadata": {
        "id": "RQ8JkBEj0CZF"
      },
      "execution_count": null,
      "outputs": []
    },
    {
      "cell_type": "markdown",
      "source": [
        "上記の実験では，顔検出を経由するため，顔検出ができないような画像で試すことができません．顔でない画像で試したいひとは，次のように実行してみてね．\n",
        "\n",
        "1. (1) を普通に実行\n",
        "1. (2) は実行しない\n",
        "1. (3) のコードセル上部を次のように修正（`#`の場所を変える）して実行する\n",
        "```\n",
        "#imgInput = imgFace  # 顔検出して切り取ったものを使用\n",
        "imgInput = img     # 読み込んだ画像をそのまま使用\n",
        "```\n",
        "\n",
        "ただし，入力した画像全体を 64 x 64 に縮小して用いることになります．画像の一部を使い対場合は，アップロードする前に手元で画像を加工するか，画像の一部を切り取るコードを追加する必要があります．後者を試したいひとは takataka に相談してね．"
      ],
      "metadata": {
        "id": "D1TfY_nD3QLy"
      }
    },
    {
      "cell_type": "code",
      "source": [],
      "metadata": {
        "id": "MIA1vSrV0p5Y"
      },
      "execution_count": null,
      "outputs": []
    }
  ]
}