{
  "nbformat": 4,
  "nbformat_minor": 0,
  "metadata": {
    "colab": {
      "provenance": [],
      "toc_visible": true,
      "authorship_tag": "ABX9TyPmO0ih1VPisedHpsAgyBqc",
      "include_colab_link": true
    },
    "kernelspec": {
      "name": "python3",
      "display_name": "Python 3"
    },
    "language_info": {
      "name": "python"
    }
  },
  "cells": [
    {
      "cell_type": "markdown",
      "metadata": {
        "id": "view-in-github",
        "colab_type": "text"
      },
      "source": [
        "<a href=\"https://colab.research.google.com/github/takatakamanbou/MVA/blob/2023/ex02notebookA.ipynb\" target=\"_parent\"><img src=\"https://colab.research.google.com/assets/colab-badge.svg\" alt=\"Open In Colab\"/></a>"
      ]
    },
    {
      "cell_type": "markdown",
      "source": [
        "# MVA2023 ex02notebookA\n",
        "\n",
        "<img width=64 src=\"https://www-tlab.math.ryukoku.ac.jp/~takataka/course/MVA/MVA-logo.png\"> https://www-tlab.math.ryukoku.ac.jp/wiki/?MVA/2023"
      ],
      "metadata": {
        "id": "P4preLw7SzqH"
      }
    },
    {
      "cell_type": "markdown",
      "source": [
        "----\n",
        "## ［復習］回帰分析と最小二乗法"
      ],
      "metadata": {
        "id": "Kjddq7j6S48o"
      }
    },
    {
      "cell_type": "markdown",
      "source": [
        "回帰分析は，**最小二乗法** の問題として定式化できるのでした．\n"
      ],
      "metadata": {
        "id": "hHiVhy3jHUm-"
      }
    },
    {
      "cell_type": "markdown",
      "source": [
        "### 回帰分析と最小二乗法"
      ],
      "metadata": {
        "id": "DSO66qjtmXIk"
      }
    },
    {
      "cell_type": "markdown",
      "source": [
        "> 2つの変数$x,y$の値の組 $N$ 個から成るデータ\n",
        "> $$(x_1, y_1), (x_2, y_2), \\ldots , (x_N, y_N)$$\n",
        "> が与えられる．\n",
        "> $x$と$y$の間の関係が直線\n",
        "$$\n",
        "y = \\hat{a}x+\\hat{b}\n",
        "$$\n",
        "> で表せると仮定できるとして，これらのデータにこの直線を当てはめたときの「残差平方和」（二乗誤差）\n",
        "$$\n",
        "\\begin{aligned}\n",
        "E(\\hat{a}, \\hat{b}) &=  \\sum_{n=1}^{N}(y_n - (\\hat{a}x_n + \\hat{b}))^2\n",
        "\\end{aligned}\n",
        "$$\n",
        "> が最小となる $(\\hat{a},\\hat{b})$ を求めなさい．\n",
        "\n",
        "<img width=600 src=\"https://www-tlab.math.ryukoku.ac.jp/~takataka/course/Data/ex09-spring.png\">"
      ],
      "metadata": {
        "id": "xCm4W1QDP6Cw"
      }
    },
    {
      "cell_type": "markdown",
      "source": [
        "\n",
        "この問題の解は，次のようになるのでした．\n",
        "\n",
        "> $ E(\\hat{a}, \\hat{b}) $ を最小にする $(\\hat{a}, \\hat{b})$ は，次式を満たす．\n",
        ">\n",
        "> $$\n",
        "\\hat{a} = \\frac{s_{xy}}{s_x^2}\\qquad \\hat{b} = \\bar{y} - \\hat{a}\\bar{x} \\tag{*}\n",
        "$$\n",
        ">\n",
        "> ただし， $\\bar{x}, \\bar{y}$ は $x, y$ の平均，$s_{x}^2$ は $x$ の分散，$s_{xy}$ は $x$ と $y$ の共分散，つまり，\n",
        ">\n",
        "> $$\n",
        "\\begin{aligned}\n",
        "\\bar{x} &= \\frac{1}{N}\\sum_{n=1}^N x_n\\\\\n",
        "\\bar{y} &= \\frac{1}{N}\\sum_{n=1}^N y_n\\\\\n",
        "s_{x}^2 &= \\frac{1}{N}\\sum_{n=1}^{N}(x_n - \\bar{x})^2\\\\\n",
        "s_{xy} &= \\frac{1}{N}\\sum_{n=1}^{N}(x_n - \\bar{x})(y_n - \\bar{y})\\\\\n",
        "\\end{aligned}\n",
        "$$\n",
        "> である．"
      ],
      "metadata": {
        "id": "Av5fz4fcT72s"
      }
    },
    {
      "cell_type": "markdown",
      "source": [
        "以下に，この解の導出過程の一部を示します．\n",
        "「データ分析」で学んだことですが，次回以降のこの授業で学ぶ内容とも強く関連しています．\n",
        "簡単のため，以下では回帰係数の推定値の $\\hat{}$ を省略して $a, b$ と表記していることがあります．\n",
        "また，$\\Sigma$の上下の式を省略していることがあります．"
      ],
      "metadata": {
        "id": "pqYPQ_eyV23V"
      }
    },
    {
      "cell_type": "markdown",
      "metadata": {
        "id": "H0r86M-fTW8T"
      },
      "source": [
        "方針: $E(a, b)$ は， 2つの変数 $a, b$ に対する2次式であり，いわゆる「下に凸」な形なので，「$E(a, b)$ を平方完成する」か，「$E(a, b)$ を $a, b$ で偏微分して $0$ とおく」ことで，最小解を得ることができます．\n",
        "ここでは後者のやり方で考えてみます．"
      ]
    },
    {
      "cell_type": "markdown",
      "metadata": {
        "id": "zQD4QuJ-7Q9Q"
      },
      "source": [
        "$E(a, b)$ を $a$ で偏微分すると，\n",
        "\n",
        "$$\n",
        "\\begin{aligned}\n",
        "\\frac{\\partial E(a, b)}{\\partial a} &= \\frac{\\partial}{\\partial a} \\sum_{n=1}^{N}(y_n - (ax_n + b))^2 \\\\\n",
        "&= \\sum_{n} \\frac{\\partial}{\\partial a}(y_n - (ax_n + b))^2 \\\\\n",
        "&= \\sum_{n} 2(y_n - (ax_n + b)) \\frac{\\partial}{\\partial a}(y_n - (ax_n + b)) \\\\\n",
        "&= \\sum_{n} 2(y_n - (ax_n + b))(-x_n)\\\\\n",
        "&= 2\\sum_{n}(ax_n^2+bx_n - x_ny_n)\n",
        "\\end{aligned}\n",
        "$$\n",
        "\n",
        "となります．\n",
        "したがって，$\\frac{\\partial E(a, b)}{\\partial a} = 0$ とおくと，次の方程式が得られます．\n",
        "\n",
        "$$\n",
        "\\sum_{n=1}^{N}(ax_n^2+bx_n - x_ny_n) = a\\sum_{n=1}^{N} x_n^2 + b\\sum_{n=1}^{N} x_n - \\sum_{n=1}^{N}x_ny_n = 0 \\tag{1}\n",
        "$$\n"
      ]
    },
    {
      "cell_type": "markdown",
      "metadata": {
        "id": "xvubfbeJ9g01"
      },
      "source": [
        "\n",
        "また， $E(a, b)$ を $b$ で偏微分すると，\n",
        "\n",
        "$$\n",
        "\\begin{aligned}\n",
        "\\frac{\\partial E(a, b)}{\\partial b} &= \\frac{\\partial}{\\partial b} \\sum_{n=1}^{N}(y_n - (ax_n + b))^2 \\\\\n",
        "&= \\sum_{n} \\frac{\\partial}{\\partial b}(y_n - (ax_n + b))^2 \\\\\n",
        "&= \\sum_{n} 2(y_n - (ax_n + b)) \\frac{\\partial}{\\partial b}(y_n - (ax_n + b)) \\\\\n",
        "&= \\sum_{n} 2(y_n - (ax_n + b))(-1)\\\\\n",
        "&= 2\\sum_{n=1}^{N}(ax_n + b - y_n)\n",
        "\\end{aligned}\n",
        "$$\n",
        "\n",
        "となります．したがって，$\\frac{\\partial E(a, b)}{\\partial b} = 0$ とおくと，次の方程式が得られます．\n",
        "\n",
        "$$\n",
        "\\sum_{n=1}^{N}(ax_n + b - y_n) =  a\\sum_{n=1}^{N}x_n + b\\sum_{n=1}^{N}1 - \\sum_{n=1}^{N}y_n = 0 \\tag{2}\n",
        "$$"
      ]
    },
    {
      "cell_type": "markdown",
      "metadata": {
        "id": "FBPsIXCtXCEv"
      },
      "source": [
        "以上より，$E(a, b)$ を最小にする $(a, b)$ は，式(1)と(2)の二つの方程式を連立した方程式の解でなければならないことがわかります．\n",
        "それぞれの式の左辺の最後の項を右辺へ移項した形で書くと，この連立方程式は次のようになります．\n",
        "\n",
        "$$\n",
        "\\begin{aligned}\n",
        "a\\sum_{n=1}^{N}x_n^2 + b\\sum_{n=1}^{N}x_n &= \\sum_{n=1}^{N}x_ny_n \\qquad (3)\\\\\n",
        "a\\sum_{n=1}^{N}x_n + b\\sum_{n=1}^{N}1 &= \\sum_{n=1}^{N}y_n\\quad\\qquad (4)\n",
        "\\end{aligned}\n",
        "$$\n",
        "\n",
        "この連立方程式のことを，**正規方程式** と呼びます．\n",
        "これは，行列を使って次のように表すこともできます．\n",
        "\n",
        "$$\n",
        "\\begin{pmatrix}\n",
        "\\displaystyle\\sum_{n=1}^{N}x_n^2 & \\displaystyle\\sum_{n=1}^{N}x_n\\\\\n",
        "\\displaystyle\\sum_{n=1}^{N}x_n & \\displaystyle\\sum_{n=1}^{N}1\\\\\n",
        "\\end{pmatrix}\n",
        "\\begin{pmatrix}\n",
        "a \\\\ b\n",
        "\\end{pmatrix} =\n",
        "\\begin{pmatrix}\n",
        "\\displaystyle\\sum_{n=1}^{N}x_ny_n\\\\\n",
        "\\displaystyle\\sum_{n=1}^{N}y_n\n",
        "\\end{pmatrix}\n",
        "$$\n",
        "\n",
        "\n",
        "正規方程式を $a, b$ について解けば，$E(a, b)$ を最小にする $(a, b)$ が求まります．\n",
        "\n"
      ]
    },
    {
      "cell_type": "markdown",
      "source": [
        "正規方程式を解いて式を整理すれば式(\\*)を導出できますが，その過程はここでは省略します．気になるひとは「データ分析」の資料を参照してね．"
      ],
      "metadata": {
        "id": "AWaEpeHlXkDj"
      }
    },
    {
      "cell_type": "markdown",
      "source": [
        "### 最小二乗法の解を行列の計算で求める"
      ],
      "metadata": {
        "id": "dRKl6kyMmdMh"
      }
    },
    {
      "cell_type": "markdown",
      "source": [
        "ここから先は，「データ分析」の授業では説明しなかったことです．\n",
        "\n",
        "回帰分析のための最小二乗法の解は式(\\*)で表せますが，コンピュータを用いる場合は，式(*)の形は経由せず，上記の連立方程式を直接解くこともあります．\n",
        "その方が計算の手間と数値計算の誤差を減らせます．\n",
        "数値計算のためのソフトウェアにはたいてい連立方程式を効率よく解く仕組みが備わっているので，それを利用することができます．\n",
        "\n"
      ],
      "metadata": {
        "id": "wOQdYJBeZs25"
      }
    },
    {
      "cell_type": "markdown",
      "source": [
        "というわけで，与えられたデータから，\n",
        "行列で表した正規方程式の左辺の $2\\times 2$ 行列と右辺の $2\\times 1$ 行列を求める方法を考えてみましょう．\n",
        "\n",
        "まず，$x_1, x_2, \\ldots, x_N$ と $1$ をならべた,\n",
        "次のような $N\\times 2$ 行列 $X$ を用意します．\n",
        "$$\n",
        "X = \\begin{pmatrix}\n",
        "x_1 & 1\\\\\n",
        "x_2 & 1\\\\\n",
        "\\vdots & \\vdots \\\\\n",
        "x_N& 1\n",
        "\\end{pmatrix}\n",
        "$$\n",
        "次に，$y_1, y_2, \\ldots , y_N$ をならべた $N\\times 1$ 行列 $Y$ を用意します．\n",
        "$$\n",
        "Y = \\begin{pmatrix}\n",
        "y_1 \\\\ y_2 \\\\ \\vdots \\\\ y_N\n",
        "\\end{pmatrix}\n",
        "$$\n",
        "\n",
        "このとき，\n",
        "$$\n",
        "X^{\\top}X = \\begin{pmatrix}\n",
        "x_1 & x_2 & \\cdots & x_N \\\\\n",
        "1 & 1 & \\cdots & 1\n",
        "\\end{pmatrix}\n",
        "\\begin{pmatrix}\n",
        "x_1 & 1 \\\\\n",
        "x_2 & 1 \\\\\n",
        "\\vdots & \\vdots \\\\\n",
        "x_N & 1\n",
        "\\end{pmatrix}\n",
        "= \\begin{pmatrix}\n",
        "\\displaystyle\\sum_{n=1}^{N}x_n^2 & \\displaystyle\\sum_{n=1}^{N}x_n\\\\\n",
        "\\displaystyle\\sum_{n=1}^{N}x_n & \\displaystyle\\sum_{n=1}^{N}1\\\\\n",
        "\\end{pmatrix}\n",
        "$$\n",
        "となり，これは正規方程式の左辺の $2\\times 2$ 行列に一致しています．\n",
        "\n",
        "また，\n",
        "$$\n",
        "X^{\\top}Y = \\begin{pmatrix}\n",
        "x_1 & x_2 & \\cdots & x_N \\\\\n",
        "1 & 1 & \\cdots & 1\n",
        "\\end{pmatrix}\n",
        "\\begin{pmatrix}\n",
        "y_1 \\\\\n",
        "y_2 \\\\\n",
        "\\vdots \\\\\n",
        "y_N\n",
        "\\end{pmatrix}\n",
        "=\n",
        "\\begin{pmatrix}\n",
        "\\displaystyle\\sum_{n=1}^{N}x_ny_n\\\\\n",
        "\\displaystyle\\sum_{n=1}^{N}y_n\n",
        "\\end{pmatrix}\n",
        "$$\n",
        "となり，これは正規方程式の右辺の $2\\times 1$ 行列に一致しています．\n",
        "\n",
        "すなわち，行列$X, Y$を用いると，正規方程式を次のように表せます．\n",
        "$$\n",
        "X^{\\top}X\n",
        "\\begin{pmatrix}\n",
        "a \\\\ b\n",
        "\\end{pmatrix} =\n",
        "X^{\\top}Y\n",
        "$$\n",
        "したがって，与えられたデータから行列$X, Y$を作る → $X^{\\top}X$ と $X^{\\top}Y$ を計算する → それらが表す連立方程式を解く，という手順で解 $(a, b)$ が求まります．"
      ],
      "metadata": {
        "id": "w1_An5aIfaJ4"
      }
    },
    {
      "cell_type": "markdown",
      "source": [
        "［よだんだよん］ 上記の式から，正規方程式の解は，数学的には\n",
        "$$\n",
        "\\begin{pmatrix}\n",
        "a \\\\ b\n",
        "\\end{pmatrix} =\n",
        "\\left( X^{\\top}X\\right)^{-1}\n",
        "X^{\\top}Y\n",
        "$$\n",
        "と表せることが分かります．\n",
        "しかし，特殊な場合を除いて，コンピュータでこの式の右辺の計算を行って解を求めることはありません．\n",
        "逆行列を求める数値計算は計算量が大きく，また誤差が大きくなりやすいので，避けるべきものだからです．\n",
        "連立方程式を解く方がずっと効率よく誤差も少なくできます．"
      ],
      "metadata": {
        "id": "IEwQRLHvk_A5"
      }
    },
    {
      "cell_type": "code",
      "source": [],
      "metadata": {
        "id": "goHSdnjinbSx"
      },
      "execution_count": null,
      "outputs": []
    }
  ]
}