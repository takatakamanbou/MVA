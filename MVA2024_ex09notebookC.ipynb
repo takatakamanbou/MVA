{
  "nbformat": 4,
  "nbformat_minor": 0,
  "metadata": {
    "colab": {
      "provenance": [],
      "toc_visible": true,
      "authorship_tag": "ABX9TyNdToAGVgpUfV9xVW+xehD5",
      "include_colab_link": true
    },
    "kernelspec": {
      "name": "python3",
      "display_name": "Python 3"
    },
    "language_info": {
      "name": "python"
    }
  },
  "cells": [
    {
      "cell_type": "markdown",
      "metadata": {
        "id": "view-in-github",
        "colab_type": "text"
      },
      "source": [
        "<a href=\"https://colab.research.google.com/github/takatakamanbou/MVA/blob/main/MVA2024_ex09notebookC.ipynb\" target=\"_parent\"><img src=\"https://colab.research.google.com/assets/colab-badge.svg\" alt=\"Open In Colab\"/></a>"
      ]
    },
    {
      "cell_type": "markdown",
      "source": [
        "# MVA2024 ex09notebookC\n",
        "\n",
        "<img width=64 src=\"https://www-tlab.math.ryukoku.ac.jp/~takataka/course/MVA/MVA-logo09.png\"> https://www-tlab.math.ryukoku.ac.jp/wiki/?MVA/2024"
      ],
      "metadata": {
        "id": "P4preLw7SzqH"
      }
    },
    {
      "cell_type": "markdown",
      "source": [
        "----\n",
        "## 演習課題: 多次元正規分布と親しくなろう (2)\n",
        "---\n",
        "\n",
        "<b><font color=\"#ff0000\">\n",
        "注意:\n",
        "今回の notebook の中には，コードセルを実行すると問題の解答が表示されるようになっている箇所があります．\n",
        "</font>\n",
        "</b>\n"
      ],
      "metadata": {
        "id": "FIjU8Zup0VCa"
      }
    },
    {
      "cell_type": "code",
      "metadata": {
        "id": "I226xIKJbqtM"
      },
      "source": [
        "# 必要なパッケージのインポート\n",
        "import numpy as np\n",
        "import matplotlib.pyplot as plt\n",
        "import pandas as pd\n",
        "import seaborn\n",
        "seaborn.set()\n",
        "\n",
        "# NumPy の 疑似乱数生成器（rng = random number generator）\n",
        "from numpy.random import default_rng\n",
        "rng = default_rng() # 疑似乱数生成器を初期化\n",
        "\n",
        "# SciPy の 統計関数群の中の正規分布モジュール (scipy.stats.norm) と多変量正規分布モジュール (scipy.stats.multivariate_normal)\n",
        "from scipy.stats import norm, multivariate_normal\n",
        "\n",
        "# 「解答」を示す際に文字列を復号するのに使う\n",
        "import base64\n",
        "# 復号した文字列を Markdown 形式で（数式は LaTeX でフォーマットして）表示\n",
        "from IPython.display import display, Markdown"
      ],
      "execution_count": null,
      "outputs": []
    },
    {
      "cell_type": "markdown",
      "source": [
        "---\n",
        "### $f(\\pmb{x}) = (定数)$ を満たす $\\pmb{x}$ はどんな図形を描く？\n",
        "\n"
      ],
      "metadata": {
        "id": "gXEY1V1LG-aG"
      }
    },
    {
      "cell_type": "markdown",
      "source": [
        "正規分布の確率密度関数\n",
        "\n",
        "$$\n",
        "f(\\pmb{x}) =\n",
        " \\frac{1}{\\sqrt{(2\\pi)^2|\\Sigma|}}\\exp\\left(-\\frac{1}{2}(\\pmb{x}-\\pmb{\\mu})^{\\top}\\Sigma^{-1}(\\pmb{x}-\\pmb{\\mu})\\right)\n",
        "$$\n",
        "\n",
        "の式の中にある $(\\pmb{x}-\\pmb{\\mu})^{\\top}\\Sigma^{-1}(\\pmb{x}-\\pmb{\\mu}) $ が等しければ，$f(\\pmb{x})$ の値も等しくなります．\n",
        "$f(\\pmb{x})$ がどんな形をしているのかを理解するための手がかりとして，$(\\pmb{x}-\\pmb{\\mu})^{\\top}\\Sigma^{-1}(\\pmb{x}-\\pmb{\\mu})  = c$ （$c$は定数）がどんな図形かを考えてみましょう．\n",
        "\n",
        "ただし，ここでは簡単のため，主に2次元の正規分布の場合について考えます．3次元以上の正規分布についても，同じように議論できます．"
      ],
      "metadata": {
        "id": "icYtS-NA2FRR"
      }
    },
    {
      "cell_type": "markdown",
      "source": [
        "#### $\\Sigma$ が対角行列の場合"
      ],
      "metadata": {
        "id": "jv7tiM9K7RYM"
      }
    },
    {
      "cell_type": "markdown",
      "source": [
        "まずは，$\\Sigma$ が対角行列の場合に限定して考えてみましょう．"
      ],
      "metadata": {
        "id": "1kzb1I3CXH3n"
      }
    },
    {
      "cell_type": "markdown",
      "source": [
        "##### 問題1\n",
        "\n",
        "この問題は，手計算で答えを求める＆紙に手書きでグラフを描くものです．\n",
        "\n",
        "(1) $\\pmb{x} = \\begin{pmatrix} x_1 \\\\ x_2 \\end{pmatrix}, \\pmb{\\mu} = \\begin{pmatrix} \\mu_1 \\\\ \\mu_2 \\end{pmatrix}, \\Sigma = \\begin{pmatrix} \\sigma_1^2 & 0 \\\\ 0 & \\sigma_2^2 \\end{pmatrix}$ とおいて， $(\\pmb{x}-\\pmb{\\mu})^{\\top}\\Sigma^{-1}(\\pmb{x}-\\pmb{\\mu})  = 1$ を $x_1, x_2, \\mu_1, \\mu_2, \\sigma_1^2, \\sigma_2^2$ で表しなさい．\n",
        "\n",
        "(2) (1) で得られた方程式が表す曲線はどのようなものか答えなさい．\n",
        "\n",
        "(3) $\\mu_1 = 2, \\mu_2 = 1, \\sigma_1^2 = 4, \\sigma_2^2 = 1$ のとき，この曲線のグラフを描きなさい．"
      ],
      "metadata": {
        "id": "gz4r8feAj6m8"
      }
    },
    {
      "cell_type": "code",
      "source": [
        "# このセルを実行すると上記 (1), (2) の略解を表示します\n",
        "Q = b'CigxKQoKJCQgXGRpc3BsYXlzdHlsZQooXHBtYnt4fS1ccG1ie1xtdX0pXntcdG9wfVxTaWdtYV57LTF9KFxwbWJ7eH0tXHBtYntcbXV9KSA9Cih4XzEgLSBcbXVfMSBcIHhfMiAtIFxtdV8yKSBcYmVnaW57cG1hdHJpeH0KXGZyYWN7MX17XHNpZ21hXjJfMX0gJiAwIFxcIDAgJiBcZnJhY3sxfXtcc2lnbWFeMl8yfQpcZW5ke3BtYXRyaXh9ClxiZWdpbntwbWF0cml4fQp4XzEgLSBcbXVfMSBcXCB4XzIgLSBcbXVfMgpcZW5ke3BtYXRyaXh9Cj0KXGZyYWN7KHhfMS1cbXVfMSleMn17XHNpZ21hXjJfMX0gKyBcZnJhY3soeF8yLVxtdV8yKV4yfXtcc2lnbWFeMl8yfQokJAoK44KI44KKCgokJCBcZGlzcGxheXN0eWxlClxmcmFjeyh4XzEtXG11XzEpXjJ9e1xzaWdtYV4yXzF9ICsgXGZyYWN7KHhfMi1cbXVfMileMn17XHNpZ21hXjJfMn0gPSAxCiQkCgooMikg6Lu444GMICR4XzEkIOi7uCAkeF8yJCDou7jjgavlubPooYzjgarmpZXlhobvvI4kKFxtdV8xIC1cc3FydHtcc2lnbWFfMV4yfSwgXG11XzIpJCDjgacgJHhfMSQg44GM5pyA5bCP77yMICQoXG11XzEgKyBcc3FydHtcc2lnbWFfMV4yfSwgXG11XzIpJCDjgacgJHhfMSQg44GM5pyA5aSn44Go44Gq44KL77yOCuOBvuOBn++8jCQoXG11XzEsIFxtdV8yLVxzcXJ0e1xzaWdtYV8yXjJ9KSQg44GnICR4XzIkIOOBjOacgOWwj++8jCAkKFxtdV8xLCBcbXVfMitcc3FydHtcc2lnbWFfMl4yfSkkIOOBpyAkeF8yJCDjgYzmnIDlpKfjgajjgarjgovvvI4K'\n",
        "display(Markdown(base64.b64decode(Q).decode('utf-8')))"
      ],
      "metadata": {
        "id": "_30TRBWb4Eei"
      },
      "execution_count": null,
      "outputs": []
    },
    {
      "cell_type": "code",
      "source": [
        "# このセルを実行すると上記 (3) の図を描きます．\n",
        "\n",
        "mu_1, mu_2 = 2, 1\n",
        "s2_1, s2_2 = 4, 1\n",
        "th = np.linspace(0, 2*np.pi, 100)\n",
        "x1 = mu_1 + np.sqrt(s2_1) * np.cos(th)\n",
        "x2 = mu_2 + np.sqrt(s2_2) * np.sin(th)\n",
        "\n",
        "fig, ax = plt.subplots(figsize=(4, 4))\n",
        "ax.plot(x1, x2)\n",
        "ax.set_aspect('equal')\n",
        "ax.set_xlabel(r'$x_1$')\n",
        "ax.set_ylabel(r'$x_2$')\n",
        "ax.axhline(0.0, color='gray')\n",
        "ax.axvline(0.0, color='gray')\n",
        "ax.set_xlim(-1, 5)\n",
        "ax.set_ylim(-1, 5)\n",
        "plt.show()"
      ],
      "metadata": {
        "id": "h-NOxEQe-uAQ"
      },
      "execution_count": null,
      "outputs": []
    },
    {
      "cell_type": "markdown",
      "source": [
        "以上から分かるように，$(\\pmb{x}-\\pmb{\\mu})^{\\top}\\Sigma^{-1}(\\pmb{x}-\\pmb{\\mu})  = 1$ は，楕円となります．その中心は $\\pmb{\\mu}$ の位置にあります．楕円の軸は座標軸に平行で，軸の長さは対応する変数の標準偏差の2倍となります．上の例では $\\sigma_1^2 = 4, \\sigma_2^2 = 1$ なので，$x_1$ 軸の方向に長い楕円となっています．\n",
        "\n",
        "このように，分散共分散行列が対角行列であるような2次元正規分布の確率密度関数 $f(\\pmb{x})$ について，$f(\\pmb{x}) = (定数)$ を満たす $\\pmb{x}$ は，$\\pmb{\\mu}$ を中心とする楕円上にあります．\n"
      ],
      "metadata": {
        "id": "p8fA_551YDtG"
      }
    },
    {
      "cell_type": "markdown",
      "source": [
        "#### 一般の $\\Sigma$ の場合"
      ],
      "metadata": {
        "id": "ousv3oOq76fx"
      }
    },
    {
      "cell_type": "markdown",
      "source": [
        "$\\Sigma$ が対角行列に限らない一般の分散共分散行列である場合，$\\Sigma$ の対角化を利用した式変形によって，$(\\pmb{x}-\\pmb{\\mu})^{\\top}\\Sigma^{-1}(\\pmb{x}-\\pmb{\\mu})  = c$ （$c$は定数）がどんな図形かを理解することができます．\n",
        "\n",
        "$\\Sigma$ は対称行列なので，その固有値を $\\lambda_1, \\lambda_2, \\ldots, \\lambda_D$ とおき，$\\lambda_d$ に対応する単位固有ベクトルを $\\pmb{u}_d$ （$d = 1, 2, \\ldots, D$）とおくと，次のように対角化できるのでした．\n",
        "\n",
        "$$\n",
        "U^{\\top}\\Sigma U = \\Lambda\n",
        "$$\n",
        "\n",
        "ただし，$\\Lambda = \\textrm{diag} (\\lambda_1, \\lambda_2, \\ldots, \\lambda_D)$ であり，$ U = \\begin{pmatrix} \\pmb{u}_1 &\\pmb{u}_2 & \\cdots & \\pmb{u}_D\\end{pmatrix} $ です．また，$U^{\\top}U = UU^{\\top} = I$ を満たします．\n",
        "\n",
        "このとき，$\\pmb{y} = U^{\\top}(\\pmb{x} - \\pmb{\\mu})$ という変数変換を考えます．この式は $\\pmb{x} - \\pmb{\\mu} = U\\pmb{y}$ と変形できるので，\n",
        "\n",
        "$$\n",
        "\\begin{aligned}\n",
        "(\\pmb{x}-\\pmb{\\mu})^{\\top}\\Sigma^{-1}(\\pmb{x}-\\pmb{\\mu})  &= \\left( U\\pmb{y} \\right)^{\\top} \\Sigma^{-1} \\left(U\\pmb{y}\\right) = \\pmb{y}^{\\top}U^{\\top}\\Sigma^{-1}U\\pmb{y}\\\\\n",
        "& = \\pmb{y}^{\\top}\\Sigma^{-1}\\pmb{y}\n",
        "=\n",
        "\\pmb{y}^{\\top}\n",
        "\\begin{pmatrix}\n",
        "\\frac{1}{\\lambda_1} & & & \\\\\n",
        " & \\frac{1}{\\lambda_2} &  & \\\\\n",
        " & & \\ddots & \\\\\n",
        " & & & \\frac{1}{\\lambda_D} \\\\\n",
        "\\end{pmatrix}\n",
        "\\pmb{y}\n",
        "\\end{aligned}\n",
        "$$\n",
        "\n",
        "となります（※1）．これは，$(\\pmb{x}-\\pmb{\\mu})^{\\top}\\Sigma^{-1}(\\pmb{x}-\\pmb{\\mu})  = c$ という図形は，$\\pmb{y} = U^{\\top}(\\pmb{x} - \\pmb{\\mu})$ と変換して眺めると，平均が $\\pmb{0}$ で分散共分散行列が対角行列の場合に等しいことを意味します（※2）．\n",
        "\n",
        "<br>\n",
        "<hr width=\"50%\" align=\"left\">\n",
        "<span style=\"font-size: 75%\">\n",
        "※注1： 詳しい説明は省略しますが，この計算の過程では $U^{\\top}\\Sigma^{-1}U =  \\Sigma^{-1}$ という性質を使っています．</br>\n",
        "※注2： 平均が $\\pmb{0}$ で，分散共分散行列が $\\textrm{diag}(\\lambda_1, \\lambda_2, \\ldots, \\lambda_D)$\n",
        "</span>\n"
      ],
      "metadata": {
        "id": "tMn7vbE2nQNK"
      }
    },
    {
      "cell_type": "markdown",
      "source": [
        "##### 問題2\n",
        "\n",
        "この問題は，手計算で答えを求めるものです．\n",
        "$\\pmb{\\mu} = \\begin{pmatrix} 2 \\\\ 1 \\end{pmatrix},  \\Sigma =  \\begin{pmatrix} 7 & \\sqrt{3} \\\\ \\sqrt{3} & 5 \\end{pmatrix}$ として，次の問に答えなさい．\n",
        "\n",
        "(1) $\\Sigma$ の固有値と単位固有ベクトル（大きさ1の固有ベクトル）を求めなさい．ただし，2つの固有値のうち大きい方を $\\lambda_1$，小さい方を $\\lambda_2$ とし，それぞれに対応する固有ベクトルを $\\pmb{u}_1, \\pmb{u}_2$ とすること．固有ベクトルの向きは好きに選んでよいのだが，ここでは後のことを考えて，$\\pmb{u}_1$ はすべての要素が正となるように，$\\pmb{u}_2$ は一つ目の要素が負になるようにとろう．\n",
        "\n",
        "(2) (1) の固有ベクトルをならべた行列 $U$ を $U = \\begin{pmatrix} \\pmb{u}_1 & \\pmb{u}_2 \\end{pmatrix}$ とおくと，$U = \\begin{pmatrix} \\cos\\theta & -\\sin\\theta \\\\ \\sin\\theta & \\cos\\theta \\end{pmatrix}$ と表せる．このような $\\theta$ を求めなさい．ただし，$0 \\le \\theta \\le \\pi$ とする．\n",
        "\n",
        "(3) $(\\pmb{x}-\\pmb{\\mu})^{\\top}\\Sigma^{-1}(\\pmb{x}-\\pmb{\\mu})  = 1$ を $y_1, y_2$ で表しなさい．また，$(y_1, y_2)$ 平面にこの図形を描きなさい．"
      ],
      "metadata": {
        "id": "YL5OCidDqS2U"
      }
    },
    {
      "cell_type": "code",
      "source": [
        "# このセルを実行すると上記の略解を表示します\n",
        "Q = b'CigxKQokIFxkaXNwbGF5c3R5bGUKXGxhbWJkYV8xID0gOCwgXHBtYnt1fV8xID0gXGJlZ2lue3BtYXRyaXh9IFxmcmFje1xzcXJ0ezN9fXsyfSBcXCBcZnJhY3sxfXsyfSBcZW5ke3BtYXRyaXh9LApcbGFtYmRhXzIgPSA0LCBccG1ie3V9XzIgPSBcYmVnaW57cG1hdHJpeH0gLVxmcmFjezF9ezJ9IFxcIFxmcmFje1xzcXJ0ezN9fXsyfSBcZW5ke3BtYXRyaXh9CiQKCigyKSAkXHRoZXRhID0gXGZyYWN7XHBpfXs2fSQKCigzKQokXGZyYWN7eV8xXjJ9e1xsYW1iZGFfMX0gKyBcZnJhY3t5XzJeMn17XGxhbWJkYV8yfSA9IFxmcmFje3lfMV4yfXs4fSArIFxmcmFje3lfMl4yfXs0fSA9IDEgICQK'\n",
        "display(Markdown(base64.b64decode(Q).decode('utf-8')))"
      ],
      "metadata": {
        "id": "g7nqVoFyQXAb"
      },
      "execution_count": null,
      "outputs": []
    },
    {
      "cell_type": "code",
      "source": [
        "# このセルを実行すると上記 (3) の図を描きます．\n",
        "\n",
        "# (y1, y2) 平面に描く図形の座標を求める\n",
        "lam1, lam2 = 8, 4\n",
        "th = np.linspace(0, 2*np.pi, 100)\n",
        "y1 = np.sqrt(lam1) * np.cos(th)\n",
        "y2 = np.sqrt(lam2) * np.sin(th)\n",
        "Y = np.vstack((y1, y2)).T\n",
        "\n",
        "# (x1, x2) 平面に描く図形の座標を求める\n",
        "theta = np.pi/6\n",
        "U = np.array([[np.cos(theta), -np.sin(theta)], [np.sin(theta), np.cos(theta)]])\n",
        "print('U = ')\n",
        "print(U)\n",
        "mu = np.array([2, 1])\n",
        "X = Y @ U.T +  mu\n",
        "\n",
        "# 2つの図形を描く\n",
        "fig, ax = plt.subplots(1, 2, figsize=(8, 4))\n",
        "\n",
        "# 左が (x_1, x_2) 平面\n",
        "ax[0].plot(X[:, 0], X[:, 1])\n",
        "ax[0].set_aspect('equal')\n",
        "ax[0].set_xlabel(r'$x_1$')\n",
        "ax[0].set_ylabel(r'$x_2$')\n",
        "ax[0].axhline(0.0, color='gray')\n",
        "ax[0].axvline(0.0, color='gray')\n",
        "ax[0].set_xlim(-5, 5)\n",
        "ax[0].set_ylim(-5, 5)\n",
        "\n",
        "# 右が (y_1, y_2) 平面\n",
        "ax[1].plot(Y[:, 0], Y[:, 1])\n",
        "ax[1].set_aspect('equal')\n",
        "ax[1].set_xlabel(r'$y_1$')\n",
        "ax[1].set_ylabel(r'$y_2$')\n",
        "ax[1].axhline(0.0, color='gray')\n",
        "ax[1].axvline(0.0, color='gray')\n",
        "ax[1].set_xlim(-5, 5)\n",
        "ax[1].set_ylim(-5, 5)\n",
        "\n",
        "fig.tight_layout()\n",
        "plt.show()"
      ],
      "metadata": {
        "id": "7F_cmgiPKEEE"
      },
      "execution_count": null,
      "outputs": []
    },
    {
      "cell_type": "markdown",
      "source": [
        "図の右が，曲線 $(\\pmb{x}-\\pmb{\\mu})^{\\top}\\Sigma^{-1}(\\pmb{x}-\\pmb{\\mu})  = 1$ を $(y_1, y_2)$ 平面に描いたものです．(3) で得た式から分かるように，この曲線は，長軸が $y_1$ 軸に平行でその長さが $2\\sqrt{\\lambda_1} = 4\\sqrt{2}$ ，短軸が $y_2$ 軸に平行でその長さが $2\\sqrt{\\lambda_2} = 4$ の楕円です．\n",
        "\n",
        "一方，図の左は，$\\pmb{x} = U\\pmb{y} + \\pmb{\\mu}$ によって右図の楕円上の各点を変換したものを描いています．$U$ は座標平面上の各点を原点を中心として反時計回りに $\\frac{\\pi}{6}$ 回転させる変換です．したがって，$(x_1, x_2)$ 平面に $(\\pmb{x}-\\pmb{\\mu})^{\\top}\\Sigma^{-1}(\\pmb{x}-\\pmb{\\mu})  = 1$ を描くと，右図の楕円を反時計回りに $\\frac{\\pi}{6}$ 回転させてから $\\pmb{\\mu}$ 平行移動したものになっています．\n",
        "\n",
        "このように，分散共分散行列が対角行列とは限らない一般の場合についても，2次元正規分布の確率密度関数 $f(\\pmb{x})$ について $f(\\pmb{x}) = (定数)$ を満たす $\\pmb{x}$ は，$\\pmb{\\mu}$ を中心とする楕円上にあることが分かります．\n",
        "\n",
        "上記の具体例では，平均 $\\mathbf{0}$ 分散共分散行列 $\\begin{pmatrix} 8 & 0 \\\\ 0 & 4 \\end{pmatrix}$ の2次元正規分布の確率密度関数を，原点を中心に反時計回りに $\\frac{\\pi}{6}$ 回転し，$\\pmb{\\mu} = \\begin{pmatrix} 2 \\\\ 1 \\end{pmatrix}$ だけ平行移動させると，平均 $\\pmb{\\mu} = \\begin{pmatrix} 2 \\\\ 1 \\end{pmatrix}$ 分散共分散行列 $\\Sigma =  \\begin{pmatrix} 7 & \\sqrt{3} \\\\ \\sqrt{3} & 5 \\end{pmatrix}$ の確率密度関数が得られています．\n",
        "\n"
      ],
      "metadata": {
        "id": "C-AlUa1Z0hXH"
      }
    },
    {
      "cell_type": "markdown",
      "source": [
        "---\n",
        "### 実験"
      ],
      "metadata": {
        "id": "K0tWJunShN38"
      }
    },
    {
      "cell_type": "markdown",
      "source": [
        "いくつかの2次元正規分布の確率密度関数 $f(\\pmb{x})$ について，曲線 $f(\\pmb{x}) = c$ （$c$は定数）を描いてみよう．\n",
        "\n"
      ],
      "metadata": {
        "id": "I0oo7wMJin0a"
      }
    },
    {
      "cell_type": "code",
      "source": [
        "### 2次元正規分布を描画する関数\n",
        "\n",
        "def plotGaussian(ax, mu, cov):\n",
        "\n",
        "    # 平均 mu 分散共分散行列 cov に従う正規乱数でデータを生成\n",
        "    samples = rng.multivariate_normal(mu, cov, size=500)\n",
        "\n",
        "    # 確率密度描画のためのグリッドデータの作成\n",
        "    xmin, xmax = -10, 10\n",
        "    xx, yy = np.mgrid[xmin:xmax:0.05, xmin:xmax:0.05]\n",
        "    zz = multivariate_normal.pdf(np.dstack((xx, yy)), mean=mu, cov=cov)\n",
        "\n",
        "    # データの散布図と正規分布の確率密度関数を重ねて描く\n",
        "    ax.scatter(samples[:, 0], samples[:, 1], label='samples', s=4)\n",
        "    ax.contour(xx, yy, zz, colors=['#ffa0a0', '#ff5050', '#ff0000'], levels=[0.005, 0.01, 0.02])\n",
        "    ax.plot(mu[0], mu[1], '+', markersize=16, color='r')\n",
        "    ax.set_xlim(xmin, xmax)\n",
        "    ax.axvline(0, color='gray')\n",
        "    ax.axhline(0, color='gray')\n",
        "    ax.set_xlim(xmin, xmax)\n",
        "    ax.set_ylim(xmin, xmax)\n",
        "    ax.set_aspect('equal')\n",
        "    ax.legend()"
      ],
      "metadata": {
        "id": "1JCeJIX_q0UX"
      },
      "execution_count": null,
      "outputs": []
    },
    {
      "cell_type": "code",
      "source": [
        "fig, ax = plt.subplots(4, 1, figsize=(4, 16))\n",
        "\n",
        "##### (1)\n",
        "mu = np.array([2, 1])\n",
        "cov = np.array([[7, np.sqrt(3)], [np.sqrt(3), 5]])\n",
        "plotGaussian(ax[0], mu, cov)\n",
        "ax[0].set_title('(a)')\n",
        "\n",
        "##### (2)\n",
        "mu = np.array([-3, -2])\n",
        "cov = np.array([[6, -4], [-4, 4]])\n",
        "plotGaussian(ax[1], mu, cov)\n",
        "ax[1].set_title('(b)')\n",
        "\n",
        "##### (3)\n",
        "mu = np.array([5, 2])\n",
        "cov = np.array([[1, 0], [0, 8]])\n",
        "plotGaussian(ax[2], mu, cov)\n",
        "ax[2].set_title('(c)')\n",
        "\n",
        "##### (4)\n",
        "mu = np.array([5, 2])\n",
        "cov = np.array([[4, 0], [0, 4]])\n",
        "plotGaussian(ax[3], mu, cov)\n",
        "ax[3].set_title('(d)')\n",
        "\n",
        "plt.show()"
      ],
      "metadata": {
        "id": "kA4XnNq1KFRJ"
      },
      "execution_count": null,
      "outputs": []
    },
    {
      "cell_type": "markdown",
      "source": [
        "各図に描かれた3つの楕円は，$f(\\pmb{x}) = c$ （$c = 0.02, 0.01, 0.005$）を表す．また，各図には，それぞれの正規分布に従うデータをランダムに 500 個生成したものも描いてある．"
      ],
      "metadata": {
        "id": "Vp2mZQQDulwL"
      }
    },
    {
      "cell_type": "markdown",
      "source": [
        "##### 問題3\n",
        "\n",
        "上記の図(a)から(d)は，次の4つの場合に対応している．どれがどれに対応するか答えなさい．メモしておこう．\n",
        "\n",
        "(1) $\\pmb{\\mu} = \\begin{pmatrix} 5 \\\\ 2 \\end{pmatrix}, \\Sigma = \\begin{pmatrix} 4 & 0 \\\\ 0 & 4 \\end{pmatrix}$\n",
        "\n",
        "(2) $\\pmb{\\mu} = \\begin{pmatrix} 5 \\\\ 2 \\end{pmatrix}, \\Sigma = \\begin{pmatrix} 1 & 0 \\\\ 0 & 8 \\end{pmatrix}$\n",
        "\n",
        "\n",
        "(3) $\\pmb{\\mu} = \\begin{pmatrix} -3 \\\\ -2 \\end{pmatrix}, \\Sigma = \\begin{pmatrix} 6 & -4 \\\\ -4 & 6 \\end{pmatrix}$\n",
        "\n",
        "\n",
        "(4) $\\pmb{\\mu} = \\begin{pmatrix} 2 \\\\ 1 \\end{pmatrix}, \\Sigma = \\begin{pmatrix} 7 & \\sqrt{3} \\\\ \\sqrt{3} & 5 \\end{pmatrix}$\n",
        "\n",
        "\n"
      ],
      "metadata": {
        "id": "ayUmKXjlv3io"
      }
    },
    {
      "cell_type": "code",
      "source": [],
      "metadata": {
        "id": "xNEUkbuFfOfj"
      },
      "execution_count": null,
      "outputs": []
    }
  ]
}