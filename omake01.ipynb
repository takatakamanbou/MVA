{
  "nbformat": 4,
  "nbformat_minor": 0,
  "metadata": {
    "colab": {
      "provenance": [],
      "toc_visible": true,
      "authorship_tag": "ABX9TyOMdLWBRMh62p8H23zgUUd1",
      "include_colab_link": true
    },
    "kernelspec": {
      "name": "python3",
      "display_name": "Python 3"
    },
    "language_info": {
      "name": "python"
    }
  },
  "cells": [
    {
      "cell_type": "markdown",
      "metadata": {
        "id": "view-in-github",
        "colab_type": "text"
      },
      "source": [
        "<a href=\"https://colab.research.google.com/github/takatakamanbou/MVA/blob/2023/omake01.ipynb\" target=\"_parent\"><img src=\"https://colab.research.google.com/assets/colab-badge.svg\" alt=\"Open In Colab\"/></a>"
      ]
    },
    {
      "cell_type": "markdown",
      "source": [
        "# MVA2023 omake01\n",
        "\n",
        "<img width=64 src=\"https://www-tlab.math.ryukoku.ac.jp/~takataka/course/MVA/MVA-logo.png\"> https://www-tlab.math.ryukoku.ac.jp/wiki/?MVA/2023"
      ],
      "metadata": {
        "id": "P4preLw7SzqH"
      }
    },
    {
      "cell_type": "markdown",
      "source": [
        "----\n",
        "## おまけ課題 01\n",
        "----\n",
        "\n",
        "\n"
      ],
      "metadata": {
        "id": "zDtnBWKha6vx"
      }
    },
    {
      "cell_type": "markdown",
      "source": [
        "### 準備\n",
        "\n",
        "以下に，ex02notebookC の問題7 のコードを再現しましょう．セルとセルの間にマウスカーソルを置く → 「+コード」「+テキスト」というボタンが現れる → 「+コード」の方を押す，で新しいコードセルを追加できます．または，ex02notebookC のコードセルを選択した状態でセルの右上の「:」からセルをコピーして，こちらへ貼り付けることもできます．"
      ],
      "metadata": {
        "id": "2S20Kx6rIYt4"
      }
    },
    {
      "cell_type": "code",
      "source": [],
      "metadata": {
        "id": "h8WG0MA5lKKR"
      },
      "execution_count": null,
      "outputs": []
    },
    {
      "cell_type": "markdown",
      "source": [
        "### 問題\n"
      ],
      "metadata": {
        "id": "sGAMOAuG4ouA"
      }
    },
    {
      "cell_type": "markdown",
      "source": [
        "(1) 次のセルを実行すると，`xvec2` と `yvec2` という変数に，1960年より前の年のデータが入ります．これらを使った回帰直線を求めましょう．"
      ],
      "metadata": {
        "id": "yxjjarU84wNw"
      }
    },
    {
      "cell_type": "code",
      "source": [
        "xvec2 = xvec[xvec < 1960]\n",
        "yvec2 = yvec[xvec < 1960]"
      ],
      "metadata": {
        "id": "O5bLGu8s5OCX"
      },
      "execution_count": null,
      "outputs": []
    },
    {
      "cell_type": "markdown",
      "source": [
        "(2) 求めた回帰直線を散布図に重ねて描きましょう．"
      ],
      "metadata": {
        "id": "dstRqtBr6ER2"
      }
    },
    {
      "cell_type": "markdown",
      "source": [
        "(3) 同様にして，1960年以降のデータのみにも回帰分析を適用して回帰直線を求め，それも重ねてグラフを描いてみましょう．"
      ],
      "metadata": {
        "id": "SW2IH_mI6oiV"
      }
    },
    {
      "cell_type": "markdown",
      "source": [
        "(4) 結果を考察しましょう．参考: https://www.data.jma.go.jp/cpdinfo/temp/list/an_wld.html\n",
        "\n",
        "例えば，それぞれの回帰式で 2023 年と 2033 年の気温の予測値を求めてみましょう．"
      ],
      "metadata": {
        "id": "Lr7vaisLoWU5"
      }
    },
    {
      "cell_type": "markdown",
      "source": [
        "(5) おまけのおまけ．上記リンク先の気象庁のページでは，\n",
        "```\n",
        "各年の平均気温の基準値からの偏差を示します。基準値は1991〜2020年の30年平均値です。\n",
        "```\n",
        "と説明されています．そのことを確認してみます．"
      ],
      "metadata": {
        "id": "hcb-cfucpGjL"
      }
    },
    {
      "cell_type": "markdown",
      "source": [
        "まずは，`xvec` の値が 1991 以上 2020 以下である箇所のみ True となる boolean 配列をつくります．"
      ],
      "metadata": {
        "id": "jvsrdIenp9_h"
      }
    },
    {
      "cell_type": "code",
      "source": [
        "idx = (xvec >= 1991) & (xvec <= 2020)\n",
        "idx"
      ],
      "metadata": {
        "id": "79yl3LLtoYBC"
      },
      "execution_count": null,
      "outputs": []
    },
    {
      "cell_type": "markdown",
      "source": [
        "次のように `idx` を使うと，1991 年から 2020 年までの `yvec` を取り出したものが得られます．"
      ],
      "metadata": {
        "id": "gHeHqwTYqDHh"
      }
    },
    {
      "cell_type": "code",
      "source": [
        "yvec[idx]"
      ],
      "metadata": {
        "id": "BV356zVXoyzv"
      },
      "execution_count": null,
      "outputs": []
    },
    {
      "cell_type": "markdown",
      "source": [
        "その平均を求めてみると..."
      ],
      "metadata": {
        "id": "j7ZKw_fTqNYx"
      }
    },
    {
      "cell_type": "code",
      "source": [
        "np.mean(yvec[idx])"
      ],
      "metadata": {
        "id": "4MfvHyn3o9sR"
      },
      "execution_count": null,
      "outputs": []
    },
    {
      "cell_type": "markdown",
      "source": [
        "少し誤差があり，ぴったり 0 にはなりませんでした．これはおそらく，元の気温偏差データを作成する際に用いられた気温の値に比べて，入手できた値の桁数が限られている（小数点以下2桁しかない）のが原因と思われます．"
      ],
      "metadata": {
        "id": "SxmJ189FqTFs"
      }
    }
  ]
}