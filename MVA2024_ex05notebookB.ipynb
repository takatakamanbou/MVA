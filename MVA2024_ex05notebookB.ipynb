{
  "nbformat": 4,
  "nbformat_minor": 0,
  "metadata": {
    "colab": {
      "provenance": [],
      "toc_visible": true,
      "authorship_tag": "ABX9TyNyG6l60AcAuwtZSAMXy9Zd",
      "include_colab_link": true
    },
    "kernelspec": {
      "name": "python3",
      "display_name": "Python 3"
    },
    "language_info": {
      "name": "python"
    }
  },
  "cells": [
    {
      "cell_type": "markdown",
      "metadata": {
        "id": "view-in-github",
        "colab_type": "text"
      },
      "source": [
        "<a href=\"https://colab.research.google.com/github/takatakamanbou/MVA/blob/main/MVA2024_ex05notebookB.ipynb\" target=\"_parent\"><img src=\"https://colab.research.google.com/assets/colab-badge.svg\" alt=\"Open In Colab\"/></a>"
      ]
    },
    {
      "cell_type": "markdown",
      "source": [
        "# MVA2024 ex05notebookB\n",
        "\n",
        "<img width=64 src=\"https://www-tlab.math.ryukoku.ac.jp/~takataka/course/MVA/MVA-logo.png\"> https://www-tlab.math.ryukoku.ac.jp/wiki/?MVA/2024"
      ],
      "metadata": {
        "id": "P4preLw7SzqH"
      }
    },
    {
      "cell_type": "markdown",
      "source": [
        "----\n",
        "## 演習課題\n",
        "----"
      ],
      "metadata": {
        "id": "Kjddq7j6S48o"
      }
    },
    {
      "cell_type": "markdown",
      "source": [
        "<b><font color=\"#ff0000\">\n",
        "注意:\n",
        "- 今回の notebook の中には，コードセルを実行すると問題の解答が表示されるようになっている箇所があります．\n",
        "何も考えずに「すべてのセルを実行」とかやっちゃうと解答が見えちゃいます．\n",
        "問題を自分で解きながらセルを逐次実行していくようにしてください．\n",
        "- 計算の助けとして電卓やコンピュータを利用するのは禁止です．手計算してください．\n",
        "</font>\n",
        "</b>\n",
        "\n"
      ],
      "metadata": {
        "id": "278DugTteUQ2"
      }
    },
    {
      "cell_type": "markdown",
      "source": [
        "---\n",
        "### 準備"
      ],
      "metadata": {
        "id": "7fsQzzLr6_qF"
      }
    },
    {
      "cell_type": "code",
      "source": [
        "import pandas as pd\n",
        "import numpy as np\n",
        "import matplotlib.pyplot as plt\n",
        "import seaborn\n",
        "seaborn.set()\n",
        "\n",
        "# 「解答」を示す際に文字列を符号化・復号するのに使う\n",
        "import base64\n",
        "# 復号した文字列を Markdown 形式で（数式は LaTeX でフォーマットして）表示\n",
        "from IPython.display import display, Markdown"
      ],
      "metadata": {
        "id": "cctqDki5y55F"
      },
      "execution_count": null,
      "outputs": []
    },
    {
      "cell_type": "code",
      "source": [
        "# 同じようなグラフを何度も描くので関数化しておく\n",
        "#\n",
        "def plotHogeo(ax, dataList, labelList, xylabel=(r'$x_1$', r'$x_2$')):\n",
        "    for data, label in zip(dataList, labelList):\n",
        "        ax.plot(data[0, :], data[1, :], label=label)\n",
        "    ax.axhline(0, color='gray', linestyle=':')\n",
        "    ax.axvline(0, color='gray', linestyle=':')\n",
        "    ax.set_xlim(-2.1, 2.1)\n",
        "    ax.set_ylim(-2.1, 2.1)\n",
        "    ax.set_aspect('equal')\n",
        "    ax.set_xlabel(xylabel[0])\n",
        "    ax.set_ylabel(xylabel[1])\n",
        "    ax.legend()"
      ],
      "metadata": {
        "id": "bOsDxN_-oJi0"
      },
      "execution_count": null,
      "outputs": []
    },
    {
      "cell_type": "code",
      "source": [
        "# ほげおくんの顔\n",
        "hogeCoor = np.array([\n",
        "    # x_1 座標\n",
        "    [1.    , 1.    , 0.125 , 0.125 , 0.    , 0.    , 1.    , 0.8625,\n",
        "     0.8   , 0.8   , 0.175 , 0.175 , 0.8625, 0.8625, 0.8625, 0.8625,\n",
        "     0.7125, 0.7125, 0.7625, 0.7625, 0.6125, 0.6125, 0.675 , 0.675 ,\n",
        "     0.8   , 0.8   , 0.8625, 0.8625, 0.6125, 0.6125, 0.4875, 0.4875,\n",
        "     0.3375, 0.3375, 0.3875, 0.3875, 0.2375, 0.2375, 0.3   , 0.3   ,\n",
        "     0.425 , 0.425 , 0.4875],\n",
        "    # x_2 座標\n",
        "    [0.    , 0.75  , 0.75  , 0.3125, 0.3125, 0.    , 0.    , 0.1125,\n",
        "     0.1125, 0.175 , 0.175 , 0.2375, 0.2375, 0.1125, 0.425 , 0.6125,\n",
        "     0.6125, 0.5625, 0.5625, 0.6125, 0.6125, 0.425 , 0.425 , 0.4875,\n",
        "     0.4875, 0.425 , 0.425 , 0.6125, 0.6125, 0.425 , 0.425 , 0.6125,\n",
        "     0.6125, 0.5625, 0.5625, 0.6125, 0.6125, 0.425 , 0.425 , 0.4875,\n",
        "     0.4875, 0.425 , 0.425 ]\n",
        "    ])\n",
        "print(hogeCoor.shape)"
      ],
      "metadata": {
        "id": "hIq-cAz6e_ys"
      },
      "execution_count": null,
      "outputs": []
    },
    {
      "cell_type": "code",
      "source": [
        "fig, ax = plt.subplots(figsize=(3, 3))\n",
        "plotHogeo(ax, [hogeCoor], ['Hogeo'])\n",
        "plt.show()"
      ],
      "metadata": {
        "id": "3-poFNTad8s8"
      },
      "execution_count": null,
      "outputs": []
    },
    {
      "cell_type": "markdown",
      "source": [
        "---\n",
        "### 「線形代数の復習」に関する演習問題"
      ],
      "metadata": {
        "id": "12xo8hG5OYLC"
      }
    },
    {
      "cell_type": "markdown",
      "source": [
        "#### 問題1"
      ],
      "metadata": {
        "id": "W5T5yH9SOirm"
      }
    },
    {
      "cell_type": "markdown",
      "source": [
        "2つの4次元ベクトル $\\pmb{a} = (0, 1, 2, 3), \\pmb{b} = (4, 0, -2, 6)$ について，次の問に答えなさい．\n",
        "\n",
        "(1) $\\pmb{a}\\cdot\\pmb{b}, \\|\\pmb{a}\\|, \\|\\pmb{b}\\|$ を求めなさい．\n",
        "\n",
        "(2) $\\pmb{a}$ と $\\pmb{b}$ のなす角を求めなさい．\n",
        "\n",
        "(3) $c$ を実数として $\\pmb{x} = \\pmb{a} + c\\pmb{b}$ とおく．$\\pmb{x}$ と $\\pmb{a}$ が直交するような $c$ の値を求めなさい．"
      ],
      "metadata": {
        "id": "LGzBLhPQOqX2"
      }
    },
    {
      "cell_type": "markdown",
      "source": [
        "次のセルを実行すると，解答が表示されます．自分で解いてから実行してね．"
      ],
      "metadata": {
        "id": "G_IZUMSVeJCW"
      }
    },
    {
      "cell_type": "code",
      "source": [
        "Q = b'CigxKSAkXHBtYnthfVxjZG90XHBtYntifSA9IDE0JCwgJFx8XHBtYnthfVx8ID0gXHNxcnR7XHxccG1ie2F9XHxeMn0gPSBcc3FydHsxNH0kLCAkXHxccG1ie2J9XHwgPSAyXHNxcnR7MTR9JAoKKDIpIOOBquOBmeinkuOCkiAkXHRoZXRhJCDjgajjgYrjgY/jgajvvIwkXGNvc1x0aGV0YSA9IFxmcmFje1xwbWJ7YX1cY2RvdFxwbWJ7Yn19e1x8XHBtYnthfVx8IFx8XHBtYntifVx8fSA9IFxmcmFjezF9ezJ9JO+8juOCiOOBo+OBpu+8jCRcdGhldGEgPSBcZnJhY3tccGl9ezN9JAoKKDMpICRccG1ie3h9XGNkb3RccG1ie2F9ID0gKFxwbWJ7YX0gKyBjXHBtYntifSlcY2RvdFxwbWJ7YX0gPSBcfFxwbWJ7YX1cfF4yICsgYyhccG1ie2J9XGNkb3RccG1ie2F9KSA9IDE0ICsgMTRjID0gMCQg44KI44KKICRjID0gLTEkCg=='\n",
        "display(Markdown(base64.b64decode(Q).decode('utf-8')))"
      ],
      "metadata": {
        "id": "_Wj_Gc4JUtPy"
      },
      "execution_count": null,
      "outputs": []
    },
    {
      "cell_type": "markdown",
      "source": [
        "#### 問題2"
      ],
      "metadata": {
        "id": "3gvG3zrXPZOP"
      }
    },
    {
      "cell_type": "markdown",
      "source": [
        "3つの2次元列ベクトル\n",
        "\n",
        "$$\n",
        "\\pmb{x}_1 = \\begin{pmatrix} 1 \\\\ 1 \\end{pmatrix},\\\n",
        "\\pmb{x}_2 = \\begin{pmatrix} 5 \\\\ 1 \\end{pmatrix},\\\n",
        "\\pmb{x}_3 = \\begin{pmatrix} 5 \\\\ 4 \\end{pmatrix}\n",
        "$$\n",
        "\n",
        "に対して，$\\pmb{y}_n = A\\pmb{x}_n$ （$n = 1, 2, 3$） とおく．次の問に答えなさい．"
      ],
      "metadata": {
        "id": "iayGaw8i5i4o"
      }
    },
    {
      "cell_type": "markdown",
      "source": [
        "(1) $A = A_1 = \\begin{pmatrix} 2 & -2 \\\\ -2 & 1 \\end{pmatrix}$ のとき，$\\pmb{y}_1, \\pmb{y}_2, \\pmb{y}_3$ を求めなさい．さらに，6点 $\\pmb{x}_n, \\pmb{y}_n$ （$n = 1, 2, 3$）を一つの平面上に図示しなさい．\n",
        "\n",
        "(2) $A = A_2 = \\begin{pmatrix} -1 & 0 \\\\ 0 & 2 \\end{pmatrix}$ のとき，(1) と同じことをしなさい．\n",
        "\n",
        "(3) $\\theta = \\frac{3}{4}\\pi$ として，$A = A_3 = \\begin{pmatrix} \\cos\\theta & -\\sin\\theta \\\\ \\sin\\theta & \\cos\\theta \\end{pmatrix}$ のとき，(1) と同じことをしなさい．\n"
      ],
      "metadata": {
        "id": "mRA_ivO86R4a"
      }
    },
    {
      "cell_type": "markdown",
      "source": [
        "次のセルを実行すると，上記の答えを確認できます．ただし，3つの点を線分で結んで三角形を描いた方がわかりやすいと考えて，`X` の最後に最初の点を付け足しています．そのことに注意して結果を観察してください．"
      ],
      "metadata": {
        "id": "ZJ2IwbbG8HjJ"
      }
    },
    {
      "cell_type": "code",
      "source": [
        "# 線分で結んで三角形を描くために，最初の点を最後にも付けている\n",
        "X = np.array([[1, 5, 5, 1], [1, 1, 4, 1]])\n",
        "print('X = ')\n",
        "print(X)\n",
        "print()\n",
        "\n",
        "A1 = np.array([[2, -2], [-2, 1]])\n",
        "A2 = np.array([[-1, 0], [0, 2]])\n",
        "theta = 3*np.pi/4\n",
        "A3 = np.array([[np.cos(theta), -np.sin(theta)], [np.sin(theta), np.cos(theta)]])\n",
        "\n",
        "Y1 = A1 @ X\n",
        "print('A1 @ X = ')\n",
        "print(Y1)\n",
        "print()\n",
        "Y2 = A2 @ X\n",
        "print('A2 @ X = ')\n",
        "print(Y2)\n",
        "print()\n",
        "Y3 = A3 @ X\n",
        "print('A3 @ X = ')\n",
        "print(Y3)\n",
        "print()\n",
        "\n",
        "fig, ax = plt.subplots(figsize=(4, 4))\n",
        "plotHogeo(ax, [X, Y1, Y2, Y3], ['X', 'A1 @ X', 'A2 @ X', 'A3 @ X'])\n",
        "ax.set_xlim(-10, 10)\n",
        "ax.set_ylim(-10, 10)\n",
        "plt.show()"
      ],
      "metadata": {
        "id": "7CjgNRRd7nz3"
      },
      "execution_count": null,
      "outputs": []
    },
    {
      "cell_type": "markdown",
      "source": [
        "#### 問題3"
      ],
      "metadata": {
        "id": "iHh3YjrhPys5"
      }
    },
    {
      "cell_type": "markdown",
      "source": [
        "次の問に答えなさい．\n",
        "\n",
        "(1) 回転行列は，忘れてしまっても，次のようにしてその場で作ることができます．\n",
        "次の文中の箱に当てはまる数または式を答えなさい．\n",
        "\n",
        "座標平面上で点 $(1, 0)$ を原点中心反時計回りに $\\theta$ 回転させた点を作図すると，$(\\fbox{あ}, \\fbox{い})$ に移ることが分かる．同様に，点 $(0, 1)$ は，$(\\fbox{う}, \\fbox{え})$ に移る．したがって，この変換を表す行列（つまり回転行列）を $R$ とおくと，\n",
        "\n",
        "$$\n",
        "R\\begin{pmatrix}\n",
        "1 & 0 \\\\\n",
        "0 & 1\n",
        "\\end{pmatrix}\n",
        "=\n",
        "\\begin{pmatrix}\n",
        "\\fbox{あ} & \\fbox{う} \\\\\n",
        "\\fbox{い} & \\fbox{え}\n",
        "\\end{pmatrix}\n",
        "$$\n",
        "\n",
        "が成り立つ．ここで，左辺は\n",
        "\n",
        "$$\n",
        "R\\begin{pmatrix}\n",
        "1 & 0 \\\\\n",
        "0 & 1\n",
        "\\end{pmatrix}\n",
        "= R I = R\n",
        "$$\n",
        "\n",
        "である．したがって，$R$ は上の式の右辺に等しい．\n",
        "\n",
        "(2) $\\sin$ と $\\cos$ の加法定理は，忘れてしまっても，次のようにしてその場で得ることができます．このようにして $\\sin$ と $\\cos$ の加法定理を証明しなさい．\n",
        "\n",
        "原点中心反時計回りに $\\alpha$ 回転させてから $\\beta$ 回転させるのは $\\alpha+\\beta$ 回転させるのと同じだから，\n",
        "\n",
        "$$\n",
        "\\begin{pmatrix}\n",
        "\\cos(\\alpha + \\beta) & -\\sin(\\alpha + \\beta)\\\\\n",
        "\\sin(\\alpha + \\beta) & \\cos(\\alpha + \\beta)\n",
        "\\end{pmatrix}\n",
        "=\n",
        "\\begin{pmatrix}\n",
        "\\cos\\beta & -\\sin\\beta\\\\\n",
        "\\sin\\beta & \\cos\\beta\n",
        "\\end{pmatrix}\n",
        "\\begin{pmatrix}\n",
        "\\cos\\alpha & -\\sin\\alpha\\\\\n",
        "\\sin\\alpha & \\cos\\alpha\n",
        "\\end{pmatrix}\n",
        "$$\n",
        "\n",
        "が成り立つ．右辺の行列の積を計算して両辺の要素同士を等号で結べば，$\\sin$ と $\\cos$ の加法定理が得られる．\n",
        "\n"
      ],
      "metadata": {
        "id": "ctQc_b0NP00Q"
      }
    },
    {
      "cell_type": "markdown",
      "source": [
        "#### 問題4\n",
        "\n"
      ],
      "metadata": {
        "id": "sdkq33_TQW-X"
      }
    },
    {
      "cell_type": "markdown",
      "source": [
        "次の問に答えなさい．\n",
        "\n",
        "(1) 点 $\\pmb{x} = \\begin{pmatrix} 1 \\\\ 2 \\\\ 3\\end{pmatrix}$ は，3次正方行列\n",
        "\n",
        "$$\n",
        "\\begin{pmatrix}\n",
        "1 & 2 & 1\\\\\n",
        "0 & 1 & -1\\\\\n",
        "-1 & 2 & 1\n",
        "\\end{pmatrix}\n",
        "$$\n",
        "\n",
        "の表す線形変換によってどこへ移るか．\n",
        "\n",
        "(2) 3次正方行列 $B$ を\n",
        "\n",
        "$$\n",
        "B =\n",
        "\\begin{pmatrix}\n",
        "0 & 1 & 2\\\\\n",
        "0 & 0 & 3\\\\\n",
        "0 & 0 & 0\n",
        "\\end{pmatrix}\n",
        "$$\n",
        "\n",
        "とおくとき，$B^3$ を求めなさい．\n",
        "3次元空間中の任意の点は，$B$ による変換を3回繰り返すとどこへ移るか．"
      ],
      "metadata": {
        "id": "S1_ALxKUQcHh"
      }
    },
    {
      "cell_type": "code",
      "source": [
        "Q = b'CigxKSAkXGJlZ2lue3BtYXRyaXh9IDggXFwgLTEgXFwgNiBcZW5ke3BtYXRyaXh9JAoKKDIpICQgQl4zID0gXHBtYnswfSQg77yIM+asoeOBrumbtuihjOWIl++8ie+8juWOn+eCueOBuOenu+OCi++8jgo='\n",
        "display(Markdown(base64.b64decode(Q).decode('utf-8')))"
      ],
      "metadata": {
        "id": "FnSGuQS5ZLsy"
      },
      "execution_count": null,
      "outputs": []
    },
    {
      "cell_type": "markdown",
      "source": [
        "#### 問題5"
      ],
      "metadata": {
        "id": "4J2-yGKAQqrt"
      }
    },
    {
      "cell_type": "markdown",
      "source": [
        "次の行列の逆行列を求めなさい．逆行列が存在しない場合は，その根拠を示すこと（行列式の値を示す，etc.）．\n",
        "\n",
        "$$\n",
        "C_1 = \\begin{pmatrix} 2 & 4 \\\\ -1 & -2 \\end{pmatrix},\n",
        "\\quad\n",
        "C_2 =\n",
        "\\begin{pmatrix}\n",
        "\\cos\\theta & -\\sin\\theta \\\\\n",
        "\\sin\\theta & \\cos\\theta\n",
        "\\end{pmatrix}\\ (\\theta \\mbox{は任意の実数})\\ ,\n",
        "C_3 =\n",
        "\\begin{pmatrix}\n",
        "p & 0 & 0\\\\\n",
        "0 & q & 0\\\\\n",
        "0 & 0 & r\n",
        "\\end{pmatrix}\n",
        "\\ (p, q, r \\mbox{は} 0 \\mbox{でない実数})\n",
        "$$\n",
        "\n",
        "［ヒント］ $C_3$ の逆行列については，定義にしたがって求めよう．すなわり，\n",
        "\n",
        "$$\n",
        "C_3^{-1} = \\begin{pmatrix}\n",
        "c_{1,1} & c_{1, 2} & c_{1, 3} \\\\\n",
        "c_{2, 1} & c_{2, 2} & c_{2, 3} \\\\\n",
        "c_{3, 1} & c_{3, 2} & c_{3, 3}\n",
        " \\end{pmatrix}\n",
        "$$\n",
        "\n",
        "とおいて， $C_3^{-1}C_3 = I$ を解こう．"
      ],
      "metadata": {
        "id": "GjtV7JF-Qi9l"
      }
    },
    {
      "cell_type": "code",
      "source": [
        "Q = b'CigxKSAkfENfMXwgPSAtNCAtICgtNCkgPSAwJCDjgaDjgYvjgokgJENfMSQg44Gv6YCG6KGM5YiX44KS5oyB44Gf44Gq44GE77yO44Gh44Gq44G/44Gr77yM5piO44KJ44GL44Gr77yMMeihjOebruOBjDLooYznm67jga4gJCgtMikkIOWAjeOBq+OBquOBo+OBpuOBvuOBmeOBre+8iOWIl+OBp+iAg+OBiOOBpuOCguWQjOanmO+8ie+8jgoKKDIpICRDXzJeey0xfSA9IFxiZWdpbntwbWF0cml4fSBcY29zXHRoZXRhICYgXHNpblx0aGV0YSBcXCAtXHNpblx0aGV0YSAmIFxjb3NcdGhldGEgIFxlbmR7cG1hdHJpeH0k77yOCiRcY29zKC1cdGhldGEpID0gXGNvc1x0aGV0YSwgXHNpbigtXHRoZXRhKSA9IC1cc2luXHRoZXRhJCDjgarjga7jgafvvIwKJENfMl57LTF9ID0gXGJlZ2lue3BtYXRyaXh9IFxjb3MoLVx0aGV0YSkgJiAtXHNpbigtXHRoZXRhKSBcXCBcc2luKC1cdGhldGEpICYgXGNvcygtXHRoZXRhKSAgXGVuZHtwbWF0cml4fSQg44GM5oiQ44KK56uL44Gj44Gm44GE44G+44GZ77yIJFx0aGV0YSQg5Zue6Lui44Gu6YCG5aSJ5o+b44GvICQtXHRoZXRhJCDlm57ou6LvvInvvI4K44G+44Gf77yMJENfMiQg44Gv55u05Lqk6KGM5YiX44Gq44Gu44Gn77yMJENfMl57LTF9ID0gQ18yXntcdG9wfSQg44GM5oiQ44KK56uL44Gj44Gm44GE44G+44GZ77yOCgooMykgJGNfezEsMX0gPSBcZnJhY3sxfXtwfSwgY197MiwgMn0gPSBcZnJhY3sxfXtxfSwgY197MywzfSA9IFxmcmFjezF9e3J9JO+8jOOBp+OBguOCiu+8jOOBk+OCjOS7peWkluOBruimgee0oOOBr+WFqOOBpiAkMCQg44Gn44GC44KL77yOCuOBl+OBn+OBjOOBo+OBpu+8jCRDXzNeey0xfSA9IFxiZWdpbntwbWF0cml4fSBcZnJhY3sxfXtwfSAmIDAgJiAwXFwgMCAmIFxmcmFjezF9e3F9ICYgMCBcXCAwICYgMCAmIFxmcmFjezF9e3J9IFxlbmR7cG1hdHJpeH0k77yOCgrkuIDoiKzjgavvvIzlr77op5LooYzliJfjga/vvIzlhajjgabjga7lr77op5LopoHntKDjgYwgJDAkIOOBp+OBquOBkeOCjOOBsOmAhuihjOWIl+OCkuaMgeOBoe+8jOOBneOBrumAhuihjOWIl+OBr++8jOWFg+OBruWvvuinkuimgee0oOOBrumAhuaVsOOCkuWvvuinkuOBq+OBquOCieOBueOBn+OCguOBruOBqOOBquOCiuOBvuOBme+8jgoK'\n",
        "display(Markdown(base64.b64decode(Q).decode('utf-8')))"
      ],
      "metadata": {
        "id": "eWEkb0PDSqFI"
      },
      "execution_count": null,
      "outputs": []
    },
    {
      "cell_type": "markdown",
      "source": [
        "## 数学の教科書は列ベクトルで式を書いてるけどコンピュータでデータを扱うときは行ベクトルで表すことが多いよって話"
      ],
      "metadata": {
        "id": "h86yfvqGQ1Yr"
      }
    },
    {
      "cell_type": "markdown",
      "source": [
        "問題2では，$(1, 1), (5, 1), (5, 4)$ という3つの2次元ベクトルを，\n",
        "\n",
        "$$\n",
        "\\pmb{x}_1 = \\begin{pmatrix} 1 \\\\ 1 \\end{pmatrix},\\\n",
        "\\pmb{x}_2 = \\begin{pmatrix} 5 \\\\ 1 \\end{pmatrix},\\\n",
        "\\pmb{x}_3 = \\begin{pmatrix} 5 \\\\ 4 \\end{pmatrix}\n",
        "$$\n",
        "\n",
        "のように列ベクトルとして（$2\\times 1$行列として）表していました．\n",
        "これらに対して，行列 $A$ を適当に定め，$\\pmb{y}_n = A\\pmb{x}_n$ （$n = 1, 2, 3$） という計算を行っていました．\n",
        "\n",
        "このとき，$\\pmb{x}_1, \\pmb{x}_2, \\pmb{x}_3$ を横にならべた行列を\n",
        "$\n",
        "X = \\begin{pmatrix}\n",
        "\\pmb{x}_1 & \\pmb{x}_2 & \\pmb{x}_3\n",
        "\\end{pmatrix}\n",
        "$\n",
        "とおき，$\\pmb{y}_1, \\pmb{y}_2, \\pmb{y}_3$ を横にならべた行列を\n",
        "$\n",
        "Y = \\begin{pmatrix}\n",
        "\\pmb{y}_1 & \\pmb{y}_2 & \\pmb{y}_3\n",
        "\\end{pmatrix}\n",
        "$\n",
        "とおくと，$X, Y$ はいずれも $2\\times 3$ 行列で，$\\pmb{x}_n$ を $\\pmb{y}_n$ に変換する計算は次のように表せます．\n",
        "\n",
        "$$\n",
        "\\begin{aligned}\n",
        "Y &=\n",
        "\\begin{pmatrix}\n",
        "\\pmb{y}_1 & \\pmb{y}_2 &\\pmb{y}_3\n",
        "\\end{pmatrix}\n",
        "=\n",
        "\\begin{pmatrix}\n",
        "A\\pmb{x}_1 & A\\pmb{x}_2 &A\\pmb{x}_3\n",
        "\\end{pmatrix}\n",
        "=\n",
        "A\n",
        "\\begin{pmatrix}\n",
        "\\pmb{x}_1 & \\pmb{x}_2 &\\pmb{x}_3\n",
        "\\end{pmatrix}\\\\\n",
        "&= AX\n",
        "\\end{aligned}\n",
        "$$\n",
        "\n",
        "次のコードセルは，この計算を Python + NumPy で行う具体例です．\n"
      ],
      "metadata": {
        "id": "KUXXhR0BhbOi"
      }
    },
    {
      "cell_type": "code",
      "source": [
        "X = np.array([[1, 5, 5],\n",
        "              [1, 1, 4]])\n",
        "A = np.array([[1, 2],\n",
        "              [3, 4]])\n",
        "print('X = ')\n",
        "print(X)\n",
        "print()\n",
        "Y = A @ X\n",
        "print('Y = A @ X = ')\n",
        "print(Y)"
      ],
      "metadata": {
        "id": "GW9lwKg2HhCX"
      },
      "execution_count": null,
      "outputs": []
    },
    {
      "cell_type": "markdown",
      "source": [
        "数学の教科書では，ベクトルはこのように列ベクトルで表すのが一般的です（今回の授業の資料もほとんどがそうなっていますね）．\n",
        "この場合，正方行列 $A$ によってベクトル $\\pmb{x}$ を $\\pmb{y}$ に移す変換は $\\pmb{y} = A\\pmb{x}$ と表されます（$\\pmb{x}, \\pmb{y}$は列ベクトル）．一方，コンピュータでデータを扱う際には，データを行ベクトルで表すことがよくあります（その理由については後述します）．\n",
        "\n",
        "\n",
        "実際に，問題2の例を行ベクトルで表してみましょう．\n",
        "問題2で出てきた $(1, 1), (5, 1), (5, 4)$ という3つの2次元ベクトルを，\n",
        "\n",
        "$$\n",
        "\\pmb{x}_1' = \\begin{pmatrix} 1 & 1 \\end{pmatrix},\\\n",
        "\\pmb{x}_2' = \\begin{pmatrix} 5 & 1 \\end{pmatrix},\\\n",
        "\\pmb{x}_3' = \\begin{pmatrix} 5 & 4 \\end{pmatrix}\n",
        "$$\n",
        "\n",
        "という行ベクトル（$1\\times 2$行列）として表してみます．さらに，これらを正方行列 $A$ で変換して得られる行ベクトルを $\\pmb{y}_1', \\pmb{y}_2',\\pmb{y}_3'$ とおきます．\n",
        "このとき，$\\pmb{x}_n' = \\pmb{x}_n^{\\top}, \\pmb{y}_n' = \\pmb{y}_n^{\\top}$ という関係があることに注意すると，\n",
        "$\\pmb{y}_n = A\\pmb{x}_n$ の両辺を転置して，$\\pmb{y}_n^{\\top} = (A\\pmb{x}_n)^{\\top} = \\pmb{x}_n^{\\top}A^{\\top}$ となることから，同じ変換は\n",
        "\n",
        "$$\n",
        "\\pmb{y}_n' = \\pmb{x}_n'A^{\\top}\n",
        "$$\n",
        "\n",
        "という式で表されることが分かります．つまり，ベクトルを列ベクトルで表したときに正方行列 $A$ を左から掛ける計算は，行ベクトルの場合には，$A^{\\top}$ を右から掛ける計算が対応します．"
      ],
      "metadata": {
        "id": "KM_7Qr6KJDhd"
      }
    },
    {
      "cell_type": "markdown",
      "source": [
        "このとき，$\\pmb{x}_1', \\pmb{x}_2', \\pmb{x}_3'$ を縦にならべた行列を\n",
        "$\n",
        "X' = \\begin{pmatrix}\n",
        "\\pmb{x}_1' \\\\ \\pmb{x}_2' \\\\ \\pmb{x}_3'\n",
        "\\end{pmatrix}\n",
        "$\n",
        "とおき，$\\pmb{y}_1', \\pmb{y}_2', \\pmb{y}_3'$ を縦にならべた行列を\n",
        "$\n",
        "Y' = \\begin{pmatrix}\n",
        "\\pmb{y}_1' \\\\ \\pmb{y}_2' \\\\ \\pmb{y}_3'\n",
        "\\end{pmatrix}\n",
        "$\n",
        "とおくと，$X', Y'$ はいずれも $3\\times 2$ 行列で，$\\pmb{x}_n'$ を $\\pmb{y}_n'$ に変換する計算は次のように表せます．\n",
        "\n",
        "$$\n",
        "\\begin{aligned}\n",
        "Y' &=\n",
        "\\begin{pmatrix}\n",
        "\\pmb{y}_1' \\\\ \\pmb{y}_2' \\\\ \\pmb{y}_3'\n",
        "\\end{pmatrix}\n",
        "=\n",
        "\\begin{pmatrix}\n",
        "\\pmb{x}_1'A^{\\top} \\\\ \\pmb{x}_2'A^{\\top} \\\\ \\pmb{x}_3'A^{\\top}\n",
        "\\end{pmatrix}\n",
        "=\n",
        "\\begin{pmatrix}\n",
        "\\pmb{x}_1' \\\\ \\pmb{x}_2' \\\\\\pmb{x}_3'\n",
        "\\end{pmatrix}A^{\\top}\\\\\n",
        "&= X'A^{\\top}\n",
        "\\end{aligned}\n",
        "$$\n",
        "\n",
        "次のコードセルは，この計算を Python + NumPy で行う具体例です．\n",
        "前の例と見比べると，互いに転置になっているだけで同じ数値になっていることが分かります．\n"
      ],
      "metadata": {
        "id": "DnIUUSeeQQpE"
      }
    },
    {
      "cell_type": "code",
      "source": [
        "X2 = np.array([[1, 1],\n",
        "               [5, 1],\n",
        "               [5, 4]])\n",
        "# A はすでに上で定義している\n",
        "print('X2 = ')\n",
        "print(X2)\n",
        "print()\n",
        "Y2 = X2 @ A.T\n",
        "print('Y2 = X2 @ A.T = ')\n",
        "print(Y2)"
      ],
      "metadata": {
        "id": "_oAtxRu-RAkz"
      },
      "execution_count": null,
      "outputs": []
    },
    {
      "cell_type": "markdown",
      "source": [
        "このコードセルの `X2` の定義では，ベクトルを行ベクトルで表しているため，データが行毎にならんでいます．この場合，`X2` にデータを追加したり削除したりする操作は，行の追加・削除でできます．\n",
        "一方，前のコードセルの `X` の定義では，列ベクトルで表しているため，このような操作が少々面倒です．\n",
        "このように，コンピュータでテキストデータを扱う際には列をかたまりとするよりも行をかたまりとする方が便利なことが多いため，多変量のデータをコンピュータで扱う場合には，ベクトルを行ベクトルとして扱うことが多くなっています．"
      ],
      "metadata": {
        "id": "JBFnoHQESddk"
      }
    },
    {
      "cell_type": "markdown",
      "source": [
        "次のセルを実行すると，ほげおくんの顔の座標を列ベクトルとしてならべた行列と，行ベクトルとしてならべた行列を表示します．"
      ],
      "metadata": {
        "id": "JUGWnWuLUru5"
      }
    },
    {
      "cell_type": "code",
      "source": [
        "X = hogeCoor\n",
        "print(X)\n",
        "print()\n",
        "print(X.T)"
      ],
      "metadata": {
        "id": "YZnSHuhDUlCq"
      },
      "execution_count": null,
      "outputs": []
    },
    {
      "cell_type": "markdown",
      "source": [
        "#### 問題6"
      ],
      "metadata": {
        "id": "gvhTX4ODZxR2"
      }
    },
    {
      "cell_type": "markdown",
      "source": [
        "少し大きいデータで上記のような変換の計算を行ってみましょう．"
      ],
      "metadata": {
        "id": "3znU_12uWZ7t"
      }
    },
    {
      "cell_type": "code",
      "source": [
        "# データを読み込む\n",
        "dfRawData = pd.read_csv('https://www-tlab.math.ryukoku.ac.jp/~takataka/course/MVA/HighSchoolPhysicalFitnessMeasurement.csv')\n",
        "dfData = dfRawData[['身長[cm]', '体重[kg]']]\n",
        "dfData -= dfData.mean() # 平均を差し引く => 平均が (0, 0) になる\n",
        "dfData"
      ],
      "metadata": {
        "id": "BTxLF6yygP76"
      },
      "execution_count": null,
      "outputs": []
    },
    {
      "cell_type": "markdown",
      "source": [
        "上記のデータは，高校生の身長体重のデータから，それらの平均を差し引いたものになっています．これを `XX` という変数名の numpy.array に格納します．"
      ],
      "metadata": {
        "id": "MqH0q7_7Z7SX"
      }
    },
    {
      "cell_type": "code",
      "source": [
        "# このセルの内容は変更してはいけない\n",
        "XX = dfData.to_numpy()\n",
        "print('XX.shape =', XX.shape)\n",
        "theta = np.pi/4\n",
        "R = np.array(([np.cos(theta), -np.sin(theta)], [np.sin(theta), np.cos(theta)]))\n",
        "print('R = ')\n",
        "print(R)"
      ],
      "metadata": {
        "id": "XHKLUIZ4XpGQ"
      },
      "execution_count": null,
      "outputs": []
    },
    {
      "cell_type": "markdown",
      "source": [
        "このとき，次の2つのセルを実行すると，`XX` と `YY` の散布図を描きます．一つ目のセルを修正せずにそのまま実行したときは， `YY` は `XX` と等しいので，`XX` と `YY` は同じの散布図を描きます．平均が $(0, 0)$ になっているので，点たちは原点のまわりに散らばっています．\n",
        "\n",
        "一度実行して観察したら，次のセルの式を，上のセルで定義した `R` を用いるように修正し，`XX` の各点を原点を中心に反時計回りに $\\frac{\\pi}{4}$ 回転させたものが `YY` になるようにしなさい．"
      ],
      "metadata": {
        "id": "mriE1o9PaLHD"
      }
    },
    {
      "cell_type": "code",
      "source": [
        "# この式を修正する\n",
        "YY = XX"
      ],
      "metadata": {
        "id": "1HWD7n0HX0ug"
      },
      "execution_count": null,
      "outputs": []
    },
    {
      "cell_type": "code",
      "source": [
        "# このセルの内容は変更してはいけない\n",
        "fig, ax = plt.subplots(1, 2, figsize=(8, 4))\n",
        "ax[0].scatter(XX[:, 0], XX[:, 1], marker='.', label='XX')\n",
        "ax[0].axhline(0, color='gray', linestyle=':')\n",
        "ax[0].axvline(0, color='gray', linestyle=':')\n",
        "ax[0].set_xlim(-50, 50)\n",
        "ax[0].set_ylim(-50, 50)\n",
        "ax[0].set_aspect('equal')\n",
        "ax[0].legend()\n",
        "ax[1].scatter(YY[:, 0], YY[:, 1], marker='.', label='YY')\n",
        "ax[1].axhline(0, color='gray', linestyle=':')\n",
        "ax[1].axvline(0, color='gray', linestyle=':')\n",
        "ax[1].set_xlim(-50, 50)\n",
        "ax[1].set_ylim(-50, 50)\n",
        "ax[1].set_aspect('equal')\n",
        "ax[1].legend()\n",
        "plt.show()"
      ],
      "metadata": {
        "id": "dara-rDXYAw0"
      },
      "execution_count": null,
      "outputs": []
    },
    {
      "cell_type": "markdown",
      "source": [
        "次のセルを実行すると正解が表示されます．なぜそうなるのかは↑で説明していますから，分からなかったらしっかり読んでね．"
      ],
      "metadata": {
        "id": "recaR9t9VvNr"
      }
    },
    {
      "cell_type": "code",
      "source": [
        "Q = b'YFlZID0gWFggQCBSLlRg'\n",
        "display(Markdown(base64.b64decode(Q).decode('utf-8')))"
      ],
      "metadata": {
        "id": "C5PabPNhVgDR"
      },
      "execution_count": null,
      "outputs": []
    },
    {
      "cell_type": "code",
      "source": [],
      "metadata": {
        "id": "1_qeboGhY8lx"
      },
      "execution_count": null,
      "outputs": []
    }
  ]
}