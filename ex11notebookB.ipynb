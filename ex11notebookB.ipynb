{
  "nbformat": 4,
  "nbformat_minor": 0,
  "metadata": {
    "colab": {
      "provenance": [],
      "toc_visible": true,
      "authorship_tag": "ABX9TyMCmyadk4xJIEJMVTxxhgD9",
      "include_colab_link": true
    },
    "kernelspec": {
      "name": "python3",
      "display_name": "Python 3"
    },
    "language_info": {
      "name": "python"
    }
  },
  "cells": [
    {
      "cell_type": "markdown",
      "metadata": {
        "id": "view-in-github",
        "colab_type": "text"
      },
      "source": [
        "<a href=\"https://colab.research.google.com/github/takatakamanbou/MVA/blob/2023/ex11notebookB.ipynb\" target=\"_parent\"><img src=\"https://colab.research.google.com/assets/colab-badge.svg\" alt=\"Open In Colab\"/></a>"
      ]
    },
    {
      "cell_type": "markdown",
      "source": [
        "# MVA2023 ex11notebookB\n",
        "\n",
        "<img width=64 src=\"https://www-tlab.math.ryukoku.ac.jp/~takataka/course/MVA/MVA-logo11.png\"> https://www-tlab.math.ryukoku.ac.jp/wiki/?MVA/2023"
      ],
      "metadata": {
        "id": "P4preLw7SzqH"
      }
    },
    {
      "cell_type": "code",
      "metadata": {
        "id": "I226xIKJbqtM"
      },
      "source": [
        "# 準備あれこれ\n",
        "import numpy as np\n",
        "import matplotlib.pyplot as plt\n",
        "import pandas as pd\n",
        "import seaborn\n",
        "seaborn.set()"
      ],
      "execution_count": null,
      "outputs": []
    },
    {
      "cell_type": "code",
      "source": [
        "# scikit-learn の判別分析のためのクラスを使えるように import\n",
        "from sklearn.discriminant_analysis import LinearDiscriminantAnalysis, QuadraticDiscriminantAnalysis\n",
        "\n",
        "# 学習データとテストデータを分ける関数\n",
        "from sklearn.model_selection import train_test_split"
      ],
      "metadata": {
        "id": "y_UwFVR_wd3X"
      },
      "execution_count": null,
      "outputs": []
    },
    {
      "cell_type": "markdown",
      "source": [
        "----\n",
        "## もっと判別分析してみよう\n",
        "----\n"
      ],
      "metadata": {
        "id": "zDtnBWKha6vx"
      }
    },
    {
      "cell_type": "markdown",
      "source": [
        "---\n",
        "### ワインの判別\n",
        "\n"
      ],
      "metadata": {
        "id": "Qt_sp5_v07Ef"
      }
    },
    {
      "cell_type": "markdown",
      "source": [
        "前回とは別のデータで判別分析してみましょう．ここで扱うのは，[UCI Machine Learning Repository](https://archive.ics.uci.edu/ml/index.php) にある [Wine Data Set](https://archive.ics.uci.edu/ml/datasets/wine) です．\n",
        "scikit-learn にこのデータを扱う関数 [sklearn.datasets.load_wine](https://scikit-learn.org/stable/modules/generated/sklearn.datasets.load_wine.html) があるので，それを使います．\n",
        "\n"
      ],
      "metadata": {
        "id": "PLpcVO3S1GKC"
      }
    },
    {
      "cell_type": "code",
      "source": [
        "# Wine Data Set\n",
        "from sklearn.datasets import load_wine\n",
        "data = load_wine(as_frame=True)\n",
        "dfWine = data.frame\n",
        "dfWine"
      ],
      "metadata": {
        "id": "PDPDqEbWvJ_T"
      },
      "execution_count": null,
      "outputs": []
    },
    {
      "cell_type": "markdown",
      "source": [
        "これは，イタリアのある地方で作られた3種類（おそらくブドウの品種が異なる3種類）のワインに対して化学的な分析を行って得られた数値から成るデータです．\n",
        "13個の数値から3クラスの判別を行います．"
      ],
      "metadata": {
        "id": "4VXYr5_f1LGy"
      }
    },
    {
      "cell_type": "code",
      "source": [
        "# ペアプロット（実行に少し時間がかかります）\n",
        "seaborn.pairplot(dfWine, hue='target', palette='tab10', corner=True)"
      ],
      "metadata": {
        "id": "o_kIXS_NauhR"
      },
      "execution_count": null,
      "outputs": []
    },
    {
      "cell_type": "markdown",
      "source": [
        "上記のデータを np.array に加工します．"
      ],
      "metadata": {
        "id": "o8Z3pTPxVqZA"
      }
    },
    {
      "cell_type": "code",
      "source": [
        "# dfWine の target 列以外を X に，target 列を Y に\n",
        "X = dfWine.drop(columns='target').to_numpy()\n",
        "print(X[:5, :], X.shape)\n",
        "Y = dfWine['target'].to_numpy(dtype=int)\n",
        "print(Y, Y.shape)"
      ],
      "metadata": {
        "id": "8Cykr8YwvRKc"
      },
      "execution_count": null,
      "outputs": []
    },
    {
      "cell_type": "markdown",
      "source": [
        "#### 問題1\n",
        "\n",
        "次のセルに，次のことを行うコードを書きなさい\n",
        "1. `X` と `Y` のデータに対して線形判別分析を行い，各データのクラスを予測した結果を変数 `Yt` に代入する\n",
        "1. `Y` と `Yt` を使っていくつのデータで正解したかを計算し，その数とデータの総数を表示する"
      ],
      "metadata": {
        "id": "pmiFoV3ec3aR"
      }
    },
    {
      "cell_type": "code",
      "source": [],
      "metadata": {
        "id": "7neweIGEdfom"
      },
      "execution_count": null,
      "outputs": []
    },
    {
      "cell_type": "markdown",
      "source": [
        "#### 問題2\n",
        "\n",
        "問題1と同じことを，二次判別分析でやろう．scikit-learn の [sklearn.discriminant_analysis.QuadraticDiscriminantAnalysis](https://scikit-learn.org/stable/modules/generated/sklearn.discriminant_analysis.QuadraticDiscriminantAnalysis.html) を使いましょう．"
      ],
      "metadata": {
        "id": "a_n5na-7QCh4"
      }
    },
    {
      "cell_type": "code",
      "source": [],
      "metadata": {
        "id": "goj5wJsXSSTq"
      },
      "execution_count": null,
      "outputs": []
    },
    {
      "cell_type": "markdown",
      "source": [
        "#### 問題3\n",
        "\n",
        "上記のワインの判別の問題について，次の問の答えをメモしておきなさい．\n",
        "\n",
        "1. データの次元数（変数の数）\n",
        "1. 平均は何次元のものが何個？分散共分散行列は何行何列のものが何個？\n",
        "\n",
        "クラス数とデータの次元数がわかれば 2. の答えはすぐ分かりますが，コードの出力を見て確認したい場合は，`LinearDiscriminantAnalysis(store_covariance=True)` や `QuadraticDiscriminantAnalysis(store_covariance=True)` のように `store_covariance` オプションを `True` にして，生成されるオブジェクトの `means_` や `covariance_` という変数の shape を調べたらよいでしょう．ただし，`covariance_` に複数の分散共分散行列が格納される場合，np.array のリストの形となるので，`len(hoge.covariance_)` が行列の個数，`hoge.covariance_[0].shape` がその中の先頭の行列の shape を表します．"
      ],
      "metadata": {
        "id": "2KJhc4Y_QMSt"
      }
    },
    {
      "cell_type": "markdown",
      "source": [
        "---\n",
        "### 学習とテスト"
      ],
      "metadata": {
        "id": "NnYummJEenof"
      }
    },
    {
      "cell_type": "markdown",
      "source": [
        "上記の実験では，与えられたデータを全て使って判別分析のパラメータを推定し，同じデータに対して予測結果の精度を調べています．この場合，正解を知っているデータで予測の精度を評価しているので，クラスが未知のデータに対しても同様の精度が得られるかどうか不確かです．\n",
        "\n",
        "予測の精度をもっときちんと評価したい場合，データを二つに分けて，一方のデータのみを使ってパラメータを推定し，他方の（パラメータ推定に使わなかった方の）データで予測の精度を評価する，というやり方をします．このとき，前者のデータを **学習データ** (learning data)または **訓練データ** (training data) といい，後者のデータを **テストデータ** (test data) といいます．\n",
        "\n"
      ],
      "metadata": {
        "id": "4VNizCCSV1xc"
      }
    },
    {
      "cell_type": "markdown",
      "source": [
        "以下で，Wine Data Set を学習データとテストデータに分けて判別分析する実験をやってみましょう．\n",
        "学習データとテストデータをあらかじめ分けて提供するデータセットもありますが，Wine Data Set では分けられていませんので，適当に自分で分けることにします．\n",
        "\n",
        "scikit-learn の [sklearn.model_selection.train_test_split](https://scikit-learn.org/stable/modules/generated/sklearn.model_selection.train_test_split.html) 関数を使うと，与えられたデータを簡単に学習用とテスト用に分けることができます．\n",
        "次のセルのコードを実行すると，`X` と `Y` に格納されている値のうち，ランダムに選んだ 6 割のものが `X_train` と `Y_train` に入り，残りが `X_test` と `Y_test` に入ります．"
      ],
      "metadata": {
        "id": "06QWesTMajAT"
      }
    },
    {
      "cell_type": "code",
      "source": [
        "# データのうち6割を学習データとし，残りをテストデータとする\n",
        "#   デフォルトではランダムに選ばれるが，ここでは同じ条件で実験できるように random_state を指定\n",
        "X_train, X_test, Y_train, Y_test = train_test_split(X, Y, train_size=0.6, random_state=2)\n",
        "print('### 学習データ')\n",
        "print(X_train[:3, :], X_train.shape)\n",
        "print(Y_train, Y_train.shape)\n",
        "print()\n",
        "print('### テストデータ')\n",
        "print(X_test[:3, :], X_test.shape)\n",
        "print(Y_test, Y_test.shape)\n",
        "print()"
      ],
      "metadata": {
        "id": "_ta7M09Fe1V_"
      },
      "execution_count": null,
      "outputs": []
    },
    {
      "cell_type": "markdown",
      "source": [
        "次のセルを実行すると，学習データを使って線形判別分析の学習（パラメータの推定）を行い，判別を行います．"
      ],
      "metadata": {
        "id": "oUQAiRCmK74b"
      }
    },
    {
      "cell_type": "code",
      "source": [
        "model = LinearDiscriminantAnalysis(store_covariance=True)\n",
        "model.fit(X_train, Y_train)\n",
        "Yt = model.predict(X_train)\n",
        "ncorrect = np.sum(Yt == Y_train)\n",
        "print(f'学習データ: 正解数/データ数 = {ncorrect}/{len(X_train)}')"
      ],
      "metadata": {
        "id": "gDyp3gd-LVHa"
      },
      "execution_count": null,
      "outputs": []
    },
    {
      "cell_type": "markdown",
      "source": [
        "#### 問題4\n",
        "\n",
        "テストデータを判別し正解数を出力するコードを書きなさい．\n",
        "\n",
        "**注意**\n",
        "線形判別のパラメータはすでに学習データ（ `X_train` と `Y_train` ）を使って推定されています（上記の `fit` がそれをやっている）．ここで `fit` を呼ぶことはないはず．\n"
      ],
      "metadata": {
        "id": "RzH-6Up-fo2G"
      }
    },
    {
      "cell_type": "code",
      "source": [],
      "metadata": {
        "id": "QstqH294vz7x",
        "collapsed": true
      },
      "execution_count": null,
      "outputs": []
    },
    {
      "cell_type": "markdown",
      "source": [
        "このデータセットの判別は簡単すぎて，学習データとテストデータを分けたことの影響はあまり実感できないかもしれません．そこは notebookC の方で...．"
      ],
      "metadata": {
        "id": "Usg-vurqvJj1"
      }
    },
    {
      "cell_type": "markdown",
      "source": [
        "#### 問題5\n",
        "\n",
        "問題2と同じことを，二次判別分析でやろう．scikit-learn の [sklearn.discriminant_analysis.QuadraticDiscriminantAnalysis](https://scikit-learn.org/stable/modules/generated/sklearn.discriminant_analysis.QuadraticDiscriminantAnalysis.html) を使いましょう．"
      ],
      "metadata": {
        "id": "lYRenGrQgfRN"
      }
    },
    {
      "cell_type": "code",
      "source": [],
      "metadata": {
        "id": "usVCBr11g8LJ"
      },
      "execution_count": null,
      "outputs": []
    },
    {
      "cell_type": "markdown",
      "source": [
        "このデータセットでは，線形判別と二次判別の違いも見えないかもしれません．そこは notebookC の方で...．"
      ],
      "metadata": {
        "id": "10LXyl9Iveme"
      }
    },
    {
      "cell_type": "markdown",
      "source": [
        "#### 問題4 & 5 の答え"
      ],
      "metadata": {
        "id": "jLkuHVq9S2Em"
      }
    },
    {
      "cell_type": "markdown",
      "source": [
        "以下のコードセルの `False` を `True` にして実行すると，答えの数字が print されます．\n"
      ],
      "metadata": {
        "id": "l3sKmjBpTBMv"
      }
    },
    {
      "cell_type": "code",
      "source": [
        "himitsu = np.array([5858, 5892, 5857, 5893], dtype=int)\n",
        "if False:\n",
        "    hoge = 5963 - himitsu\n",
        "    print('問題4')\n",
        "    print(f'   学習データ: 正解数/データ数 = {hoge[0]}/{len(X_train)}')\n",
        "    print(f'   テストデータ: 正解数/データ数 = {hoge[1]}/{len(X_test)}')\n",
        "    print()\n",
        "    print('問題5')\n",
        "    print(f'   学習データ: 正解数/データ数 = {hoge[2]}/{len(X_train)}')\n",
        "    print(f'   テストデータ: 正解数/データ数 = {hoge[3]}/{len(X_test)}')"
      ],
      "metadata": {
        "id": "lNyjH-sCsIFV"
      },
      "execution_count": null,
      "outputs": []
    },
    {
      "cell_type": "code",
      "source": [],
      "metadata": {
        "id": "oUPEiXGfUKla"
      },
      "execution_count": null,
      "outputs": []
    }
  ]
}