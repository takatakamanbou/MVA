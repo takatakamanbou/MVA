{
  "nbformat": 4,
  "nbformat_minor": 0,
  "metadata": {
    "colab": {
      "provenance": [],
      "toc_visible": true,
      "authorship_tag": "ABX9TyPXNn8x8pWkg1qaMRgmk1I/",
      "include_colab_link": true
    },
    "kernelspec": {
      "name": "python3",
      "display_name": "Python 3"
    },
    "language_info": {
      "name": "python"
    }
  },
  "cells": [
    {
      "cell_type": "markdown",
      "metadata": {
        "id": "view-in-github",
        "colab_type": "text"
      },
      "source": [
        "<a href=\"https://colab.research.google.com/github/takatakamanbou/MVA/blob/main/MVA2024_ex11notebookB.ipynb\" target=\"_parent\"><img src=\"https://colab.research.google.com/assets/colab-badge.svg\" alt=\"Open In Colab\"/></a>"
      ]
    },
    {
      "cell_type": "markdown",
      "source": [
        "# MVA2024 ex11notebookB\n",
        "\n",
        "<img width=64 src=\"https://www-tlab.math.ryukoku.ac.jp/~takataka/course/MVA/MVA-logo.png\"> https://www-tlab.math.ryukoku.ac.jp/wiki/?MVA/2024"
      ],
      "metadata": {
        "id": "P4preLw7SzqH"
      }
    },
    {
      "cell_type": "markdown",
      "source": [
        "----\n",
        "## 演習課題: 手計算で / コンピュータで判別分析\n",
        "---\n",
        "\n",
        "<b><font color=\"#ff0000\">\n",
        "注意:\n",
        "今回の notebook の中には，コードセルを実行すると問題の解答が表示されるようになっている箇所があります．\n",
        "</font>\n",
        "</b>\n"
      ],
      "metadata": {
        "id": "Snu_5I6aGJS8"
      }
    },
    {
      "cell_type": "code",
      "source": [
        "# いつものいろいろインポート\n",
        "import numpy as np\n",
        "import matplotlib.pyplot as plt\n",
        "import pandas as pd\n",
        "import seaborn\n",
        "seaborn.set()\n",
        "\n",
        "# SciPy のもろもろ\n",
        "import scipy as sp\n",
        "from scipy.spatial import distance\n",
        "from scipy.stats import norm, multivariate_normal\n",
        "\n",
        "# scikit-learn のもろもろ\n",
        "from sklearn.discriminant_analysis import QuadraticDiscriminantAnalysis\n",
        "from sklearn.metrics import confusion_matrix\n",
        "\n",
        "# 「解答」を示す際に文字列を復号するのに使う\n",
        "import base64\n",
        "# 復号した文字列を Markdown 形式で（数式は LaTeX でフォーマットして）表示\n",
        "from IPython.display import display, Markdown"
      ],
      "metadata": {
        "id": "9HCsHgFjR6jo"
      },
      "execution_count": null,
      "outputs": []
    },
    {
      "cell_type": "markdown",
      "source": [
        "---\n",
        "### 手計算で判別分析\n"
      ],
      "metadata": {
        "id": "cA17J9lk7-mA"
      }
    },
    {
      "cell_type": "markdown",
      "source": [
        "手計算で判別分析をやってみましょう．ただし，実際のデータで平均と分散共分散行列を推定するところからやるのはさすがに大変すぎるので，それらは与えられるものとします．"
      ],
      "metadata": {
        "id": "Mtz6YMpg6ai-"
      }
    },
    {
      "cell_type": "markdown",
      "source": [
        "#### 問題1"
      ],
      "metadata": {
        "id": "UsW7kjRz7KwR"
      }
    },
    {
      "cell_type": "markdown",
      "source": [
        "電卓・コンピュータは使わず，手計算で答えを求めること．\n",
        "\n",
        "2次元のデータをクラスAとクラスBの2クラスに分類する問題を，判別分析によって解きたい．\n",
        "それぞれのクラスのデータに正規分布を当てはめると，クラスAの正規分布の平均 $\\pmb{\\mu}_A$，分散共分散行列 $\\Sigma_A$，クラスBの正規分布の平均 $\\pmb{\\mu}_B$，分散共分散行列 $\\Sigma_B$ はそれぞれ次の値だった．\n",
        "\n",
        "\n",
        "$$\n",
        "\\pmb{\\mu}_A = \\begin{pmatrix} 3 \\\\ 4 \\end{pmatrix}\\qquad\n",
        "\\Sigma_A = \\begin{pmatrix}\n",
        "2 & 1 \\\\ 1 & 1\n",
        "\\end{pmatrix}\\qquad\n",
        "\\pmb{\\mu}_B = \\begin{pmatrix} 5 \\\\ 2 \\end{pmatrix}\\qquad\n",
        "\\Sigma_B = \\begin{pmatrix}\n",
        "1 & 0 \\\\ 0 & 2\n",
        "\\end{pmatrix}\\qquad\n",
        "$$\n",
        "\n",
        "このとき，notebookA の式(12)の形の判別関数を用いるなら，$\\pmb{x} = \\begin{pmatrix} 4 \\\\ 3 \\end{pmatrix}$ はどちらのクラスに属すと予測されるか．"
      ],
      "metadata": {
        "id": "VkwhD5aj7TRk"
      }
    },
    {
      "cell_type": "code",
      "source": [
        "# 正規分布 A 平均と分散共分散行列\n",
        "muA = np.array([3.0, 4.0])\n",
        "covA = np.array([[2.0, 1.0], [1.0, 1.0]])\n",
        "# 正規分布 B 平均と分散共分散行列\n",
        "muB = np.array([5.0, 2.0])\n",
        "covB = np.array([[1.0, 0.0], [0.0, 2.0]])\n",
        "# 点 P\n",
        "P = np.array([4, 3])\n",
        "# グラフを描く\n",
        "fig, ax = plt.subplots(figsize=(6, 6))\n",
        "xmin, xmax = -1, 7\n",
        "ymin, ymax = -1, 7\n",
        "xx, yy = np.mgrid[xmin:xmax:0.1, xmin:xmax:0.1]\n",
        "levels = [0, 0.5, 1.0, 1.5, 2.0, 2.5, 3.0]\n",
        "X = np.dstack((xx, yy)).reshape((-1, 2))\n",
        "d2 = np.sum(((X - muA) @ np.linalg.inv(covA)) * (X - muA), axis=1)\n",
        "zz = np.sqrt(d2).reshape((xx.shape[0], yy.shape[0]))\n",
        "cs = ax.contour(xx, yy, zz, cmap='Blues_r', levels=levels)\n",
        "ax.clabel(cs)\n",
        "d2 = np.sum(((X - muB) @ np.linalg.inv(covB)) * (X - muB), axis=1)\n",
        "zz = np.sqrt(d2).reshape((xx.shape[0], yy.shape[0]))\n",
        "cs = ax.contour(xx, yy, zz, cmap='Reds_r', levels=levels)\n",
        "ax.clabel(cs)\n",
        "ax.scatter(P[0], P[1], s=100, marker='*', color='green', label=r'$\\mathbf{x}$')\n",
        "ax.scatter(muA[0], muA[1], s=100, marker='+', color='blue', label=r'$\\mathbf{\\mu}_A$')\n",
        "ax.scatter(muB[0], muB[1], s=100, marker='+', color='red', label=r'$\\mathbf{\\mu}_B$')\n",
        "ax.axhline(0, color='gray')\n",
        "ax.axvline(0, color='gray')\n",
        "ax.set_xlim(xmin, xmax)\n",
        "ax.set_ylim(ymin, ymax)\n",
        "ax.set_aspect('equal')\n",
        "ax.legend()\n",
        "plt.show()\n",
        "\n",
        "# ユークリッド距離とマハラノビス距離\n",
        "tmp = P - muA\n",
        "edistA = np.sqrt(tmp @ tmp)\n",
        "tmp = P - muB\n",
        "edistB = np.sqrt(tmp @ tmp)\n",
        "mdistA = distance.mahalanobis(P, muA, np.linalg.inv(covA))\n",
        "mdistB = distance.mahalanobis(P, muB, np.linalg.inv(covB))\n",
        "print(f'muA との間のユークリッド距離 = {edistA:.4f}   N(muA, covA) との間のマハラノビス距離 = {mdistA:.4f}')\n",
        "print(f'muB との間のユークリッド距離 = {edistB:.4f}   N(muB, covB) との間のマハラノビス距離 = {mdistB:.4f}')\n",
        "\n",
        "Q = b'CuWIpOWIpemWouaVsOOCkgoKJCQKXGJlZ2lue2FsaWduZWR9CmgoXHBtYnt4fSkgJj0gLVxmcmFjezF9ezJ9IChccG1ie3h9LVxwbWJ7XG11fV9BKV57XHRvcH1cU2lnbWFfQV57LTF9KFxwbWJ7eH0tXHBtYntcbXV9X0EpCiArIFxmcmFjezF9ezJ9IChccG1ie3h9LVxwbWJ7XG11fV9CKV57XHRvcH1cU2lnbWFfQl57LTF9KFxwbWJ7eH0tXHBtYntcbXV9X0IpXFwKICY9IFxmcmFjezF9ezJ9IFxsZWZ0KCAoXHBtYnt4fS1ccG1ie1xtdX1fQilee1x0b3B9XFNpZ21hX0Jeey0xfShccG1ie3h9LVxwbWJ7XG11fV9CKQogIC0gKFxwbWJ7eH0tXHBtYntcbXV9X0EpXntcdG9wfVxTaWdtYV9BXnstMX0oXHBtYnt4fS1ccG1ie1xtdX1fQSlccmlnaHQpCiBcZW5ke2FsaWduZWR9CiQkCgrjgajjgYrjgY/vvI4KCiQkClxTaWdtYV9BXnstMX0gPSBcYmVnaW57cG1hdHJpeH0gMSAmIC0xIFxcIC0xICYyIFxlbmR7cG1hdHJpeH0gXHFxdWFkClxTaWdtYV9CXnstMX0gPSBcYmVnaW57cG1hdHJpeH0gMSAmIDAgXFwgMCAmIFxmcmFjezF9ezJ9IFxlbmR7cG1hdHJpeH0KJCQKCuOCiOOCiu+8jAoKJCQKXGJlZ2lue2FsaWduZWR9CihccG1ie3h9LVxwbWJ7XG11fV9BKV57XHRvcH1cU2lnbWFfQV57LTF9KFxwbWJ7eH0tXHBtYntcbXV9X0EpICY9ClxiZWdpbntwbWF0cml4fSA0IC0gMyAmIDMgLSA0IFxlbmR7cG1hdHJpeH0gXGJlZ2lue3BtYXRyaXh9IDEgJiAtMSBcXCAtMSAmMiBcZW5ke3BtYXRyaXh9ClxiZWdpbntwbWF0cml4fSA0IC0gMyBcXCAzIC0gNCBcZW5ke3BtYXRyaXh9ID0gNVxcCihccG1ie3h9LVxwbWJ7XG11fV9CKV57XHRvcH1cU2lnbWFfQl57LTF9KFxwbWJ7eH0tXHBtYntcbXV9X0IpICY9ClxiZWdpbntwbWF0cml4fSA0IC0gMyAmIDMgLSA0IFxlbmR7cG1hdHJpeH0gXGJlZ2lue3BtYXRyaXh9IDEgJiAwIFxcIDAgJiBcZnJhY3sxfXsyfSBcZW5ke3BtYXRyaXh9ClxiZWdpbntwbWF0cml4fSA0IC0gMyBcXCAzIC0gNCBcZW5ke3BtYXRyaXh9ID0gXGZyYWN7M317Mn1cXApcZW5ke2FsaWduZWR9CiQkCgrjgafjgYLjgovvvI7jgZfjgZ/jgYzjgaPjgabvvIwkaChccG1ie3h9KSA8IDAkIOOBqOOBquOCi+OBruOBp++8jCRccG1ie3h9JCDjga/jgq/jg6njgrlC44Gr5bGe44GZ44KL77yOCgrlm7Pjga7nrYnpq5jnt5rjgpLopovjgabjgoLjgYrjgojjgZ3jga7lgKTjga/liIbjgYvjgovjgYzvvIwKJFxwbWJ7eH0kIOOBqOOCr+ODqeOCuUHjga7mraPopo/liIbluIPjgajjga7plpPjga7jg57jg4/jg6njg47jg5Pjgrnot53pm6Ljga8gJFxzcXJ0ezV9IFxhcHByb3ggMi4yNCTvvIwKJFxwbWJ7eH0kIOOBqOOCr+ODqeOCuULjga7mraPopo/liIbluIPjgajjga7plpPjga7jg57jg4/jg6njg47jg5Pjgrnot53pm6Ljga8gJFxzcXJ0e1xmcmFjezN9ezJ9fSBcYXBwcm94IDEuMjIkIOOBp+OBguOCiwoK'\n",
        "display(Markdown(base64.b64decode(Q).decode('utf-8')))"
      ],
      "metadata": {
        "id": "fYyJt7QwZD1V"
      },
      "execution_count": null,
      "outputs": []
    },
    {
      "cell_type": "markdown",
      "source": [
        "---\n",
        "### コンピュータで判別分析"
      ],
      "metadata": {
        "id": "_EXLLWxeGOSq"
      }
    },
    {
      "cell_type": "markdown",
      "source": [
        "notebookA で行った「人間 vs ほげ星人」の判別分析の実験を，[scikit-learn](https://scikit-learn.org/) という機械学習ライブラリを利用して，もっと簡単にやってみましょう．\n",
        "\n"
      ],
      "metadata": {
        "id": "Gn4bC3aIGyrP"
      }
    },
    {
      "cell_type": "markdown",
      "source": [
        "まずはデータを用意します．配列 `X` に (身長, 体重) の値を，配列 `y` に Human か Hoge かを表す値（0ならHuman，1ならHoge）を，それぞれ代入しておきます．"
      ],
      "metadata": {
        "id": "1j6MWlLZmW6B"
      }
    },
    {
      "cell_type": "code",
      "source": [
        "# 人間 vs ほげ星人\n",
        "URL = 'https://www-tlab.math.ryukoku.ac.jp/~takataka/course/MVA/humanvshoge.csv'\n",
        "dfHoge = pd.read_csv(URL)\n",
        "#dfHoge\n",
        "\n",
        "# (身長, 体重) の2次元データ\n",
        "X = dfHoge[['Height', 'Weight']].to_numpy()\n",
        "# クラスラベル  Human が 0 で Hoge が 1\n",
        "y = (dfHoge['Class'] == 'Hoge').to_numpy().astype(int)\n",
        "\n",
        "# 最初の5件を表示\n",
        "print(' X[n, 0] X[n, 1] y[n]')\n",
        "for n in range(5):\n",
        "    print(f'{n} {X[n, 0]}   {X[n, 1]}    {y[n]}')\n",
        "print(f'X.shape = {X.shape}')"
      ],
      "metadata": {
        "id": "-5nJiTgQZLLA"
      },
      "execution_count": null,
      "outputs": []
    },
    {
      "cell_type": "markdown",
      "source": [
        "次のコードセルで判別分析を実行し，結果を表示します．\n",
        "ここでは，scikit-learn に含まれる判別分析の機能 [sklearn.discriminant_analysis.QuadraticDiscriminantAnalysis](https://scikit-learn.org/stable/modules/generated/sklearn.discriminant_analysis.QuadraticDiscriminantAnalysis.html) を用いています．\n",
        "この場合，notebookA の式(8)および(11)を判別関数とすることに相当します．"
      ],
      "metadata": {
        "id": "xDU_X9mKpiUh"
      }
    },
    {
      "cell_type": "code",
      "source": [
        "# 判別分析のための QuadraticDiscriminantAnalysis クラスのインスタンスを生成\n",
        "qda = QuadraticDiscriminantAnalysis(priors=(0.5, 0.5))\n",
        "\n",
        "# X, y を用いて正規分布のパラメータを推定\n",
        "qda.fit(X, y)\n",
        "\n",
        "# X に含まれる個々のデータの所属クラスを予測\n",
        "y_pred = qda.predict(X)\n",
        "\n",
        "# 結果を表示\n",
        "print(' X[n, 0] X[n, 1] y[n]  y_pred[n]')\n",
        "for n in range(5):\n",
        "    print(f'{n} {X[n, 0]}   {X[n, 1]}    {y[n]}   {y_pred[n]}')\n",
        "\n",
        "# 混同行列を求めて Markdown の表形式で表示\n",
        "confusion = confusion_matrix(y, y_pred)\n",
        "ss = f'''\n",
        "| |予測が Human|予測が Hoge|\n",
        "|:--|--:|--:|\n",
        "|**正解が Human**|{confusion[0, 0]}|{confusion[0, 1]}|\n",
        "|**正解が Hoge**|{confusion[1, 0]}|{confusion[1, 1]}|\n",
        "'''\n",
        "display(Markdown(ss))"
      ],
      "metadata": {
        "id": "aa5vBTsEGc7w"
      },
      "execution_count": null,
      "outputs": []
    },
    {
      "cell_type": "markdown",
      "source": [
        "全てのデータのクラスを正しく予測できていますね．\n",
        "\n",
        "次は，所属するクラスが未知のデータを用意して，それらのクラスを予測させてみましょう．"
      ],
      "metadata": {
        "id": "4nM7K-hnsakF"
      }
    },
    {
      "cell_type": "code",
      "source": [
        "# 新しいデータ\n",
        "X2 = np.array([[150.0,  40.0],\n",
        "               [150.0,  60.0],\n",
        "               [150.0,  80.0],\n",
        "               [150.0, 100.0],\n",
        "               [150.0, 120.0]])"
      ],
      "metadata": {
        "id": "gC3yaFDEH0Tf"
      },
      "execution_count": null,
      "outputs": []
    },
    {
      "cell_type": "markdown",
      "source": [
        "次のコードセルで予測を実行し，結果を表示します．\n",
        "このコードセルでは，正規分布のパラメータ（平均と分散共分散行列）を推定する計算は行わないことに注意してください．その計算は，所属クラスの正解を知っているデータ `X` と `y` を使ってすでに実行済みです．ここでは，そこで求めたパラメータを用いてクラスの予測を行っています．つまり，判別関数の計算と，その符号に基づいて所属クラスを決める計算です．"
      ],
      "metadata": {
        "id": "yu6ONBi_trPh"
      }
    },
    {
      "cell_type": "code",
      "source": [
        "# X2 に含まれる個々のデータの所属クラスを予測\n",
        "y2_pred = qda.predict(X2)\n",
        "# 結果を表示\n",
        "print(' X2[n, 0] X2[n, 1]  y2_pred[n]')\n",
        "for n in range(X2.shape[0]):\n",
        "    print(f'{n} {X2[n, 0]}   {X2[n, 1]}    {y2_pred[n]}')"
      ],
      "metadata": {
        "id": "AazDfzc8q03x"
      },
      "execution_count": null,
      "outputs": []
    },
    {
      "cell_type": "code",
      "source": [],
      "metadata": {
        "id": "TPCV9ZlIrIlO"
      },
      "execution_count": null,
      "outputs": []
    }
  ]
}