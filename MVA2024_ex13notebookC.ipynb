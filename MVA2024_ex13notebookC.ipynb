{
  "nbformat": 4,
  "nbformat_minor": 0,
  "metadata": {
    "colab": {
      "provenance": [],
      "toc_visible": true,
      "authorship_tag": "ABX9TyMwMHXJ1q4Ng88r4MD1MpXw",
      "include_colab_link": true
    },
    "kernelspec": {
      "name": "python3",
      "display_name": "Python 3"
    },
    "language_info": {
      "name": "python"
    }
  },
  "cells": [
    {
      "cell_type": "markdown",
      "metadata": {
        "id": "view-in-github",
        "colab_type": "text"
      },
      "source": [
        "<a href=\"https://colab.research.google.com/github/takatakamanbou/MVA/blob/main/MVA2024_ex13notebookC.ipynb\" target=\"_parent\"><img src=\"https://colab.research.google.com/assets/colab-badge.svg\" alt=\"Open In Colab\"/></a>"
      ]
    },
    {
      "cell_type": "markdown",
      "source": [
        "# MVA2024 ex13notebookC\n",
        "\n",
        "<img width=64 src=\"https://www-tlab.math.ryukoku.ac.jp/~takataka/course/MVA/MVA-logo.png\"> https://www-tlab.math.ryukoku.ac.jp/wiki/?MVA/2024"
      ],
      "metadata": {
        "id": "P4preLw7SzqH"
      }
    },
    {
      "cell_type": "markdown",
      "source": [
        "----\n",
        "## 演習問題 - 猫顔画像および手書き数字画像のクラスタリング\n",
        "----\n",
        "\n",
        "次の二種類のデータでクラスタリングの実験をやってみましょう．\n",
        "\n",
        "- 猫の顔の画像131枚\n",
        "- 手書き数字の画像 5000 枚\n",
        "\n",
        "\n"
      ],
      "metadata": {
        "id": "zDtnBWKha6vx"
      }
    },
    {
      "cell_type": "code",
      "metadata": {
        "id": "I226xIKJbqtM"
      },
      "source": [
        "# 準備あれこれ\n",
        "import numpy as np\n",
        "import matplotlib.pyplot as plt\n",
        "import pandas as pd\n",
        "import seaborn\n",
        "seaborn.set_theme()\n",
        "\n",
        "# SciPy の階層型クラスタリングパッケージ\n",
        "import scipy.cluster.hierarchy as hierarchy"
      ],
      "execution_count": null,
      "outputs": []
    },
    {
      "cell_type": "markdown",
      "source": [
        "---\n",
        "### 猫顔画像のクラスタリング"
      ],
      "metadata": {
        "id": "rWM2_gcVY-Ek"
      }
    },
    {
      "cell_type": "markdown",
      "source": [
        "#### 準備"
      ],
      "metadata": {
        "id": "zajrwcMtBO2I"
      }
    },
    {
      "cell_type": "markdown",
      "source": [
        "画像を並べて表示する関数を定義しておきます．"
      ],
      "metadata": {
        "id": "OeywR4C1BaGq"
      }
    },
    {
      "cell_type": "code",
      "source": [
        "#####  データの最初の nx x ny 枚を可視化\n",
        "#\n",
        "def mosaicImage(ax, dat, nx, ny, nrow=64, ncol=64, gap=4):\n",
        "\n",
        "    # 並べた画像の幅と高さ\n",
        "    width  = nx * (ncol + gap) + gap\n",
        "    height = ny * (nrow + gap) + gap\n",
        "\n",
        "    # 画像の作成\n",
        "    img = np.zeros((height, width), dtype=int) + 128\n",
        "    for iy in range(ny):\n",
        "        lty = iy*(nrow + gap) + gap\n",
        "        for ix in range(nx):\n",
        "            if iy*nx+ix >= dat.shape[0]:\n",
        "                break\n",
        "            ltx = ix*(ncol + gap) + gap\n",
        "            img[lty:lty+nrow, ltx:ltx+ncol] = dat[iy*nx+ix, :].reshape((nrow, ncol))\n",
        "\n",
        "    # 表示\n",
        "    ax.axis('off')\n",
        "    ax.imshow(img, cmap='gray')"
      ],
      "metadata": {
        "id": "jV0GfV6n39Wi"
      },
      "execution_count": null,
      "outputs": []
    },
    {
      "cell_type": "markdown",
      "source": [
        "猫顔画像データを入手して一部を表示してみます．"
      ],
      "metadata": {
        "id": "9XG_-Er6Be5x"
      }
    },
    {
      "cell_type": "code",
      "source": [
        "# 猫顔画像データを入手\n",
        "! wget -nc https://www-tlab.math.ryukoku.ac.jp/~takataka/course/MVA/cat131.npz\n",
        "X_cat = np.load('cat131.npz')['cat131']\n",
        "N_cat, D_cat = X_cat.shape\n",
        "print(f'データ数 x 次元数 = {N_cat} x {D_cat}')\n",
        "\n",
        "# 最初の 20 枚を表示\n",
        "fig, ax = plt.subplots(figsize=(6, 6))\n",
        "mosaicImage(ax, X_cat, 5, 4)\n",
        "plt.show()"
      ],
      "metadata": {
        "id": "waXlsaXF31gU"
      },
      "execution_count": null,
      "outputs": []
    },
    {
      "cell_type": "markdown",
      "source": [
        "このデータは，猫の顔の画像 131 枚から成ります．1枚の画像は $64\\times 64$ 画素のグレイスケール画像です．上のコードセルを実行すると，`X_cat` という変数にデータが格納されます．"
      ],
      "metadata": {
        "id": "o0fDwxAjb8sW"
      }
    },
    {
      "cell_type": "markdown",
      "source": [
        "#### 階層型クラスタリングしてみよう\n",
        "\n"
      ],
      "metadata": {
        "id": "3Y6cgkmtJ4Hy"
      }
    },
    {
      "cell_type": "markdown",
      "source": [
        "上記の配列 `X_cat` に格納されたデータを対象に階層型クラスタリングを実行します．\n",
        "[scipy.cluster.hiearchy.linkage](https://docs.scipy.org/doc/scipy/reference/generated/scipy.cluster.hierarchy.linkage.html) でクラスタリングして，\n",
        "[scipy.cluster.hierarchy.dendrogram](https://docs.scipy.org/doc/scipy/reference/generated/scipy.cluster.hierarchy.dendrogram.html) でデンドログラムを描きます．\n",
        "標本間の距離はユークリッド距離，クラスタ間の距離はウォード法で測ります．"
      ],
      "metadata": {
        "id": "NDnxplQspxx1"
      }
    },
    {
      "cell_type": "code",
      "source": [
        "link = hierarchy.linkage(X_cat, method='ward', metric='euclidean')\n",
        "fig, ax = plt.subplots(figsize=(8, 20))\n",
        "hierarchy.dendrogram(link, orientation='right', distance_sort='descending', show_leaf_counts=True, leaf_font_size=8, ax=ax)\n",
        "plt.show()"
      ],
      "metadata": {
        "id": "aW9hRlfj_TaK"
      },
      "execution_count": null,
      "outputs": []
    },
    {
      "cell_type": "markdown",
      "source": [
        "次のセルを実行すると，`threshold` で指定した値をクラスタ間距離のしきい値として画像をクラスタに分け，それぞれのクラスタに属する画像の数を表示します．"
      ],
      "metadata": {
        "id": "XpyqGERQrPhw"
      }
    },
    {
      "cell_type": "code",
      "source": [
        "threshold = 20000 # クラスタ間距離のしきい値\n",
        "label = hierarchy.fcluster(link, t=threshold, criterion='distance')\n",
        "K = max(label) # クラスタ数\n",
        "print(f'threshold = {threshold}, K = {K}')\n",
        "for ik in range(K):\n",
        "    print(f'cluster{ik+1}: num = {np.sum(label == ik+1)}')"
      ],
      "metadata": {
        "id": "4yJXWcjAqtqg"
      },
      "execution_count": null,
      "outputs": []
    },
    {
      "cell_type": "markdown",
      "source": [
        "次のセルを実行すると，上で得られたクラスタリングの結果を画像として表示します．\n",
        "一つのクラスタに属する画像が横に並んでいます（横一行が同じクラスタに属する画像たちの集まり）．"
      ],
      "metadata": {
        "id": "Ct6CUGBIChMD"
      }
    },
    {
      "cell_type": "code",
      "source": [
        "# 各クラスタに属する画像を表示\n",
        "\n",
        "nc = 10  # 1行に並べる画像の最大数\n",
        "\n",
        "dat = np.zeros((K, nc, D_cat))\n",
        "for ik in range(K):\n",
        "    idx = label == (ik+1)\n",
        "    n = np.sum(idx)\n",
        "    if n < nc:\n",
        "        dat[ik, :n, :] = X_cat[idx, :]\n",
        "    else:\n",
        "        dat[ik, :, :] = X_cat[idx, :][:nc, :]\n",
        "\n",
        "dat = dat.reshape((-1, D_cat))\n",
        "\n",
        "fig, ax = plt.subplots(figsize=(10, 10))\n",
        "mosaicImage(ax, dat, nc, K)\n",
        "plt.show()"
      ],
      "metadata": {
        "id": "t7KpSHPPCbPs"
      },
      "execution_count": null,
      "outputs": []
    },
    {
      "cell_type": "markdown",
      "source": [
        "**問題1**\n",
        "\n",
        "次のことを考えて／調べて書き留めておこう：\n",
        "\n",
        "(1) この実験では何をやっている？どんな手法を使っている？\n",
        "\n",
        "(2) 使っているデータのデータ数と次元数はいくつ？\n"
      ],
      "metadata": {
        "id": "gXXKcqAJN8OX"
      }
    },
    {
      "cell_type": "markdown",
      "source": [
        "**問題2**\n",
        "\n",
        "次のことをやろう：\n",
        "\n",
        "(1) クラスタ間距離のしきい値をいろいろ変えて結果を観察しよう．\n",
        "\n",
        "(2) クラスタ間距離のしきい値が 6000 のときのクラスタ数と，各クラスタに属する画像の数の最大と最小を書き留めておこう．\n",
        "\n",
        "(3) クラスタ数が 13 になるようなクラスタ間距離のしきい値を求め，そのときに各クラスタに属する画像の数の最大と最小を書き留めておこう．"
      ],
      "metadata": {
        "id": "ScQfE5VyYxaa"
      }
    },
    {
      "cell_type": "markdown",
      "source": [
        "---\n",
        "### 手書き数字画像のクラスタリング\n",
        "\n",
        "判別分析の回でも用いた手書き数字の画像でクラスタリングの実験をやってみましょう．"
      ],
      "metadata": {
        "id": "KGpaDQ2AbngQ"
      }
    },
    {
      "cell_type": "markdown",
      "source": [
        "#### 準備\n"
      ],
      "metadata": {
        "id": "itQbtbepOYfY"
      }
    },
    {
      "cell_type": "code",
      "source": [
        "# 手書き数字データの入手\n",
        "! wget -nc https://www-tlab.math.ryukoku.ac.jp/~takataka/course/ML/minimnist.npz\n",
        "rv = np.load('minimnist.npz')\n",
        "X_digits = rv['datL'].astype(float)\n",
        "N_digits, D_digits = X_digits.shape"
      ],
      "metadata": {
        "id": "bKzNDtm7ORj0"
      },
      "execution_count": null,
      "outputs": []
    },
    {
      "cell_type": "code",
      "source": [
        "print(f'データ数 x 次元数 = {X_digits.shape[0]} x {X_digits.shape[1]}')\n",
        "# 最初の 60 枚を表示\n",
        "fig, ax = plt.subplots(figsize=(10, 6))\n",
        "mosaicImage(ax, X_digits, 15, 4, nrow=28, ncol=28)\n",
        "plt.show()"
      ],
      "metadata": {
        "id": "abyFN-d1Ole9"
      },
      "execution_count": null,
      "outputs": []
    },
    {
      "cell_type": "markdown",
      "source": [
        "このデータは，上図のような 0 から 9 までの手書き数字画像 5000 枚から成ります．1枚の画像は $28\\times 28$ 画素のグレイスケール画像です．上のコードセルを実行すると，`X_digits` という変数にデータが格納されます．\n",
        "\n",
        "このデータセットは，機械学習の分野で例題としてよく用いられる MNIST（[Wikipediaの記事](https://ja.wikipedia.org/wiki/MNIST%E3%83%87%E3%83%BC%E3%82%BF%E3%83%99%E3%83%BC%E3%82%B9)） という手書き数字画像のデータセットから一部を抽出したものになっています．"
      ],
      "metadata": {
        "id": "f4nY2KGud0eN"
      }
    },
    {
      "cell_type": "markdown",
      "source": [
        "#### 階層型クラスタリングしてみよう"
      ],
      "metadata": {
        "id": "cPutEPisPAim"
      }
    },
    {
      "cell_type": "markdown",
      "source": [
        "上記の配列 `X_digits` に格納されたデータを対象に階層型クラスタリングを実行します．\n",
        "[scipy.cluster.hiearchy.linkage](https://docs.scipy.org/doc/scipy/reference/generated/scipy.cluster.hierarchy.linkage.html) でクラスタリングして，\n",
        "[scipy.cluster.hierarchy.dendrogram](https://docs.scipy.org/doc/scipy/reference/generated/scipy.cluster.hierarchy.dendrogram.html) でデンドログラムを描きます．\n",
        "標本間の距離はユークリッド距離，クラスタ間の距離はウォード法で測ります．"
      ],
      "metadata": {
        "id": "ke3ma30SPXiZ"
      }
    },
    {
      "cell_type": "code",
      "source": [
        "link = hierarchy.linkage(X_digits, method='ward', metric='euclidean')\n",
        "fig, ax = plt.subplots(figsize=(10, 8))\n",
        "hierarchy.dendrogram(link, ax=ax, truncate_mode='lastp', p=50, distance_sort='descending')\n",
        "plt.show()"
      ],
      "metadata": {
        "id": "VJlYcU-JO0tG"
      },
      "execution_count": null,
      "outputs": []
    },
    {
      "cell_type": "markdown",
      "source": [
        "この実験ではデータ数が非常に多く，完全なデンドログラムを描くのは大変です．そのため，上記の図では，クラスター数が50以上になる枝分かれは省略して描いてあります．実際のデンドログラムは，一つのクラスタに一つのデータしか入らないところまで枝分かれしていることに注意．"
      ],
      "metadata": {
        "id": "7qQekTUEPq1G"
      }
    },
    {
      "cell_type": "markdown",
      "source": [
        "次の二つのセルを実行すると，猫顔画像の実験と同様にクラスタリング結果を出力させることができます．"
      ],
      "metadata": {
        "id": "uMAm6cBBQl-Z"
      }
    },
    {
      "cell_type": "code",
      "source": [
        "threshold = 30000 # クラスタ間距離のしきい値\n",
        "label = hierarchy.fcluster(link, t=threshold, criterion='distance')\n",
        "K = max(label) # クラスタ数\n",
        "print(f'threshold = {threshold}, K = {K}')\n",
        "for ik in range(K):\n",
        "    print(f'cluster{ik+1}: num = {np.sum(label == ik+1)}')"
      ],
      "metadata": {
        "id": "8MiOyAUlPJiH"
      },
      "execution_count": null,
      "outputs": []
    },
    {
      "cell_type": "code",
      "source": [
        "# 各クラスタに属する画像を表示\n",
        "#    1行が1クラスタ．1行あたり最大 nc 枚を表示\n",
        "nc = 16\n",
        "dat = np.zeros((K, nc, D_digits))\n",
        "for ik in range(K):\n",
        "    idx = label == (ik+1)\n",
        "    n = np.sum(idx)\n",
        "    if n < nc:\n",
        "        dat[ik, :n, :] = X_digits[idx, :]\n",
        "    else:\n",
        "        dat[ik, :, :] = X_digits[idx, :][:nc, :]\n",
        "\n",
        "dat = dat.reshape((-1, D_digits))\n",
        "\n",
        "fig, ax = plt.subplots(figsize=(10, 12))\n",
        "mosaicImage(ax, dat, nc, K, nrow=28, ncol=28)\n",
        "plt.show()"
      ],
      "metadata": {
        "id": "LZihVMF8Q96b"
      },
      "execution_count": null,
      "outputs": []
    },
    {
      "cell_type": "markdown",
      "source": [
        "**問題3**\n",
        "\n",
        "次のことを考えて／調べてメモしておこう：\n",
        "\n",
        "(1) この実験では何をやっている？どんな手法を使っている？\n",
        "\n",
        "(2) 使っているデータのデータ数と次元数はいくつ？\n"
      ],
      "metadata": {
        "id": "H-kPrrlBRWDE"
      }
    },
    {
      "cell_type": "markdown",
      "source": [
        "**問題4**\n",
        "\n",
        "次のことをやろう：\n",
        "\n",
        "(1) クラスタ間距離のしきい値をいろいろ変えて結果を観察しよう．\n",
        "\n",
        "(2) クラスタ間距離のしきい値が 18800 のときのクラスタ数を書き留めておこう．"
      ],
      "metadata": {
        "id": "udSzJYgRRWDE"
      }
    },
    {
      "cell_type": "code",
      "source": [],
      "metadata": {
        "id": "ZkIEi7EjRY-X"
      },
      "execution_count": null,
      "outputs": []
    }
  ]
}