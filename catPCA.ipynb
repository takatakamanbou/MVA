{
  "nbformat": 4,
  "nbformat_minor": 0,
  "metadata": {
    "colab": {
      "provenance": [],
      "collapsed_sections": [],
      "toc_visible": true,
      "authorship_tag": "ABX9TyN9SxBoY+Vn9qrpPsLmv9An",
      "include_colab_link": true
    },
    "kernelspec": {
      "name": "python3",
      "display_name": "Python 3"
    },
    "language_info": {
      "name": "python"
    }
  },
  "cells": [
    {
      "cell_type": "markdown",
      "metadata": {
        "id": "view-in-github",
        "colab_type": "text"
      },
      "source": [
        "<a href=\"https://colab.research.google.com/github/takatakamanbou/MVA/blob/2022/catPCA.ipynb\" target=\"_parent\"><img src=\"https://colab.research.google.com/assets/colab-badge.svg\" alt=\"Open In Colab\"/></a>"
      ]
    },
    {
      "cell_type": "markdown",
      "source": [
        "# 主成分分析の応用: 猫顔画像の次元圧縮，再構成，生成\n",
        "\n"
      ],
      "metadata": {
        "id": "P4preLw7SzqH"
      }
    },
    {
      "cell_type": "markdown",
      "source": [
        "## はじめに\n",
        "\n",
        "主成分分析の応用例を紹介します．猫の顔画像を次元圧縮したりさらにほげほげ（ほげほげが何かは↓で説明してます）したりする実験をやりましょう．\n",
        "\n"
      ],
      "metadata": {
        "id": "udr_9OQzR2d_"
      }
    },
    {
      "cell_type": "markdown",
      "source": [
        "### 猫画像の主成分分析\n",
        "\n",
        "ここで使う猫顔画像はすべてグレイスケール画像（いわゆる白黒画像）で，$D = 64\\times 64 = 4096$ 個の画素から成ります．\n",
        "このような画像の画素値を並べた $D\\times 1$ 行列を $\\mathbf{x}$ と表し，$\\mathbf{x}$ の平均を $\\bar{\\mathbf{x}}$ と表すことにします．\n",
        "\n",
        "また，このデータの分散共分散行列の固有値を $\\lambda_1 \\geq \\lambda_2 \\geq \\ldots \\geq \\lambda_D$ として，それぞれに対応する固有ベクトルを $\\mathbf{u}_1, \\mathbf{u}_2, \\ldots, \\mathbf{u}_D$ とします．\n",
        "固有値の大きい方の $H$ 本の固有ベクトルを並べて作った行列を\n",
        "\n",
        "$$\n",
        "U_H = \\begin{pmatrix}\n",
        "\\mathbf{u}_1 & \\mathbf{u}_2 & \\cdots & \\mathbf{u}_H\n",
        "\\end{pmatrix}\n",
        "$$\n",
        "\n",
        "とします．$U_H$ は $D\\times H$ 行列です．\n",
        "\n",
        "このとき，\n",
        "\n",
        "$$\n",
        "\\mathbf{y} = U_H^{\\top}(\\mathbf{x} - \\bar{\\mathbf{x}})\\qquad (1)\n",
        "$$\n",
        "\n",
        "という変換によって，$D$ 次元の画像 $\\mathbf{x}$ が $H \\leq D$ 次元の情報 $\\mathbf{y}$ に変換されます．\n"
      ],
      "metadata": {
        "id": "cut3xydTHsQR"
      }
    },
    {
      "cell_type": "markdown",
      "source": [
        "### 猫画像の次元削減と再構成\n",
        "\n",
        "上記は，授業で説明したことを具体的な猫画像の例で説明しているだけですが，この主成分分析による次元削減の話には実は続きがあります．\n",
        "式$(1)$の変換によって得られた $\\mathbf{y}$ をさらに次のように変換すると，次元数が $D$ に戻ります．この $\\mathbf{z}$ のことを，ここでは $\\mathbf{x}$ の「再構成」と呼ぶことにします．\n",
        "\n",
        "$$\n",
        "\\mathbf{z} = U_H\\mathbf{y} + \\bar{\\mathbf{x}} \\qquad (2)\n",
        "$$\n",
        "\n",
        "$\\mathbf{y}$ は $\\mathbf{x}$ のもつ情報を $H$ 次元で表しており，$\\mathbf{z}$ はそれを $D$ 次元に戻していますので，再構成 $\\mathbf{z}$ は $\\mathbf{x}$ がもっていた情報をすべて保持しているわけではありません．\n",
        "しかし，再構成 $\\mathbf{z}$ は，元のデータ $\\mathbf{x}$ の良い近似になっています（ここではこれくらいのざっくりした説明にとどめておきます．「機械学習I,II」の授業でこの辺を扱うかも）．\n",
        "特に，$H = D$ の場合，つまり次元を削減しない場合，式 $(1),(2)$ で得られる再構成 $\\mathbf{z}$ は完全に $\\mathbf{x}$ に一致します．\n"
      ],
      "metadata": {
        "id": "-UA-3FP_IkyF"
      }
    },
    {
      "cell_type": "markdown",
      "source": [
        "このようなデータの次元削減と再構成の組み合わせは，コンピュータで扱うデータの量を削減する「データ圧縮」のために使うことができます．\n",
        "例えば，上記の猫画像 $\\mathbf{x}$ ひとつは $D = 4096$ 個の画素値から成ります．これを $H = 100$ 次元の $\\mathbf{y}$ に変換してから再構成した $\\mathbf{z}$ が元画像に十分近かったとしてみましょう．この場合，あるコンピュータから別のコンピュータへ猫顔画像を送りたいならば，送信側が式$(1)$の計算をして $\\mathbf{y}$ を送信し，受信側が式$(2)$の計算をして $\\mathbf{z}$ を得ることにすれば，送信するデータの量を $\\frac{100}{4096}$ にすることができます．\n",
        "\n",
        "実際のデータ圧縮はこれほど単純ではありませんが，画像や音声の圧縮の技術（JPEGとか）もこのような話の先にあります（ここでは説明していない他の情報の科学・技術がいろいろ出てきます．コンピュータの仕組みの基礎とかアルゴリズムの話とかフーリエ変換等の数学とか）．\n"
      ],
      "metadata": {
        "id": "O55rK5IdM0Lx"
      }
    },
    {
      "cell_type": "markdown",
      "source": [
        "### 猫画像の生成\n",
        "\n",
        "上記の説明では，元のデータ $\\mathbf{x}$ から $\\mathbf{y}$ を求め，そこから再構成 $\\mathbf{z}$ を得ていました．しかし，$\\mathbf{y}$ に適当な数値を与えて式$(2)$ の計算をすれば，画像 $\\mathbf{z}$ を得ることができます．このようにすることで，存在しない猫顔画像を作り出す（生成）することもできます．"
      ],
      "metadata": {
        "id": "YxRhDbPRQyyF"
      }
    },
    {
      "cell_type": "markdown",
      "source": [
        "## 準備"
      ],
      "metadata": {
        "id": "6qnegh5zVlHh"
      }
    },
    {
      "cell_type": "code",
      "metadata": {
        "id": "I226xIKJbqtM"
      },
      "source": [
        "# 必要なパッケージのインポート\n",
        "import numpy as np\n",
        "import matplotlib.pyplot as plt\n",
        "import pandas as pd\n",
        "import seaborn\n",
        "seaborn.set()"
      ],
      "execution_count": null,
      "outputs": []
    },
    {
      "cell_type": "markdown",
      "source": [
        "次のセルではあとで使う関数を定義しています．このセルを実行しただけでは何も起こりませんが，あらかじめ実行して関数を定義しておかないと後のセルが動きません．"
      ],
      "metadata": {
        "id": "Mb_MCcgrV6Hi"
      }
    },
    {
      "cell_type": "code",
      "source": [
        "#####  データの最初の nx x ny 枚を画像化\n",
        "#\n",
        "def mosaicImage(dat, nx, ny, nrow=64, ncol=64, gap=4):\n",
        "\n",
        "    # 並べた画像の幅と高さ\n",
        "    width  = nx * (ncol + gap) + gap\n",
        "    height = ny * (nrow + gap) + gap\n",
        "\n",
        "    # 画像の作成\n",
        "    img = np.zeros((height, width), dtype = int) + 128\n",
        "    for iy in range(ny):\n",
        "        lty = iy*(nrow + gap) + gap\n",
        "        for ix in range(nx):\n",
        "            if iy*nx+ix >= dat.shape[0]:\n",
        "                break\n",
        "            ltx = ix*(ncol + gap) + gap\n",
        "            img[lty:lty+nrow, ltx:ltx+ncol] = dat[iy*nx+ix, :].reshape((nrow, ncol))\n",
        "            \n",
        "    return img"
      ],
      "metadata": {
        "id": "yaET5ayh2QHJ"
      },
      "execution_count": null,
      "outputs": []
    },
    {
      "cell_type": "markdown",
      "source": [
        "画像データを入手して眺めてみましょう．**この実験で使う猫顔画像は，他の目的に使ってはいけません**．"
      ],
      "metadata": {
        "id": "FZ5QS0bqZkNS"
      }
    },
    {
      "cell_type": "code",
      "source": [
        "# takataka のウェブサイトから猫画像データを入手\n",
        "! wget -nc https://www-tlab.math.ryukoku.ac.jp/~takataka/course/PIP/cat131.npz\n",
        "\n",
        "import os\n",
        "path = 'cat131.npz'\n",
        "if os.path.exists(path):\n",
        "    cat = np.load(path)['cat131']\n",
        "    print(cat.shape)  # 131枚，ひとつの画像は 64 x 64 = 4096 画素のグレイスケール画像\n",
        "else:\n",
        "    print(f'ファイル {path} の読み込みに失敗したようです．再実行してみてください')"
      ],
      "metadata": {
        "id": "XrD7wPFtZsba"
      },
      "execution_count": null,
      "outputs": []
    },
    {
      "cell_type": "code",
      "source": [
        "print('### 猫画像 ###')\n",
        "print(f'データ数 x 次元数 = {cat.shape[0]} x {cat.shape[1]}')\n",
        "\n",
        "# 最初の 16 枚を表示 \n",
        "img = mosaicImage(cat, 4, 4)\n",
        "plt.figure(figsize=(8, 8))\n",
        "plt.axis('off')\n",
        "plt.imshow(img, cmap = 'gray')\n",
        "plt.show()  "
      ],
      "metadata": {
        "id": "s1KatsoYTfvV"
      },
      "execution_count": null,
      "outputs": []
    },
    {
      "cell_type": "markdown",
      "source": [
        "## 実験1 猫顔画像の主成分分析"
      ],
      "metadata": {
        "id": "Q8mhpECrY7K2"
      }
    },
    {
      "cell_type": "markdown",
      "source": [
        "(1) 平均 $\\mathbf{0}$ のデータ行列を作ります．ついでに平均を可視化してみます．\n"
      ],
      "metadata": {
        "id": "GzHAoBgibuy_"
      }
    },
    {
      "cell_type": "code",
      "source": [
        "# 平均 0 のデータ行列を作成\n",
        "Xm = np.mean(cat, axis=0)\n",
        "X = cat - Xm\n",
        "N, D = X.shape\n",
        "print(X.shape)\n",
        "\n",
        "# 平均を画像として表示\n",
        "plt.axis('off')\n",
        "plt.imshow(Xm.reshape(64, 64), cmap = 'gray')\n",
        "plt.show()  "
      ],
      "metadata": {
        "id": "8HMx-FEJY8Bh"
      },
      "execution_count": null,
      "outputs": []
    },
    {
      "cell_type": "markdown",
      "source": [
        "(2) データの分散共分散行列の固有値と固有ベクトルを求めます．"
      ],
      "metadata": {
        "id": "bd_gfEt5c8Ss"
      }
    },
    {
      "cell_type": "code",
      "source": [
        "# X の分散共分散行列の固有値と固有ベクトルを求める\n",
        "_, sval, Vt = np.linalg.svd(X, full_matrices=False)\n",
        "eval = sval**2/N\n",
        "print('固有値:', eval)\n",
        "U = Vt\n",
        "\n",
        "# 固有ベクトルを可視化\n",
        "nx, ny = 5, 2\n",
        "tmp = np.zeros((nx*ny, D))\n",
        "for h in range(nx*ny):\n",
        "    tmp[h, :] = U[h, :]\n",
        "absmax = np.max(np.abs(tmp))\n",
        "tmp = tmp/absmax*127 + 128\n",
        "img = mosaicImage(tmp, nx, ny)\n",
        "plt.figure(figsize=(20, 4))\n",
        "plt.axis('off')\n",
        "plt.imshow(img, cmap='gray')\n",
        "plt.show()  "
      ],
      "metadata": {
        "id": "DANLcHx5cl-G"
      },
      "execution_count": null,
      "outputs": []
    },
    {
      "cell_type": "markdown",
      "source": [
        "上記の画像は，固有ベクトルのうち固有値の大きい方から10個を左上から右に向かって並べたものです．固有ベクトルの値には正も負もあるので，正の値が白，0 が灰色，負の値が黒になるようにしてあります．\n",
        "\n",
        "1つ目の固有ベクトルは，額の部分が白っぽく，鼻筋から顎の下辺りが黒くなっています．したがって，額の部分が平均より明るく，鼻筋から顎の下辺りが平均より暗くなっている猫画像に対して大きな値となります．2つ目以降も，それぞれ異なる特徴を捉えていることがわかります．\n",
        "\n",
        "ちなみに，↑のセルでの `np.linalg.svd` の使い方は，授業の notebook のやり方とは違っています．興味があれば takataka に聞いてね（omake05も関係してます）．"
      ],
      "metadata": {
        "id": "DW7kWn_pUc5z"
      }
    },
    {
      "cell_type": "markdown",
      "source": [
        "(3) 一つの画像を選んで，その変換後の特徴量を出力させてみましょう．`n` の値を変えると，他の猫も選べます．"
      ],
      "metadata": {
        "id": "52Vr66VTWnNQ"
      }
    },
    {
      "cell_type": "code",
      "source": [
        "n = 12 # データの番号． 0 から 130 まで\n",
        "\n",
        "# 元の画像を表示\n",
        "plt.axis('off')\n",
        "plt.imshow(cat[n, :].reshape(64, 64), cmap = 'gray')\n",
        "plt.show()\n",
        "\n",
        "# 変換して得られる特徴量のうち10個を出力\n",
        "y = X[n, :] @ U[:10, :].T\n",
        "print(y)"
      ],
      "metadata": {
        "id": "CNsotKGNWvKK"
      },
      "execution_count": null,
      "outputs": []
    },
    {
      "cell_type": "markdown",
      "source": [
        "例えば，顎下の部分に注目すると，そこが黒っぽい猫は1つ目の成分が正で，白っぽい猫は負になっているはずです．猫と固有ベクトルを見比べていろいろ調べてみましょう．"
      ],
      "metadata": {
        "id": "-ZdtXuBHWyjx"
      }
    },
    {
      "cell_type": "markdown",
      "source": [
        "## 実験2 次元削減と再構成"
      ],
      "metadata": {
        "id": "tWhhTUuPVSfj"
      }
    },
    {
      "cell_type": "markdown",
      "source": [
        "次のセルを実行すると，主成分分析で得られた変換行列を利用して，猫画像を $H$ 次元に次元削減してから再構成します．"
      ],
      "metadata": {
        "id": "7ggTCs3sdxjN"
      }
    },
    {
      "cell_type": "code",
      "source": [
        "#@title 猫画像を次元削減してから再構成\n",
        "H =  0#@param {type: \"number\"}\n",
        "assert 0 <= H and H <= D\n",
        "\n",
        "Z = np.zeros_like(X) + Xm\n",
        "if H > 0:\n",
        "    Y = X @ U[:H, :].T\n",
        "    Z += Y @ U[:H, :]\n",
        "\n",
        "nx, ny = 2, 10\n",
        "tmp = np.zeros((nx*ny, D))\n",
        "for n in range(10):\n",
        "    tmp[2*n,   :] = cat[n, :]\n",
        "    tmp[2*n+1, :] = Z[n, :]\n",
        "img = mosaicImage(tmp, nx, ny)\n",
        "\n",
        "print(f'{H}次元での再構成')\n",
        "plt.figure(figsize=(3, 15))\n",
        "plt.axis('off')\n",
        "plt.imshow(img, cmap = 'gray')\n",
        "plt.show()"
      ],
      "metadata": {
        "id": "GOdtTrsNdwWl"
      },
      "execution_count": null,
      "outputs": []
    },
    {
      "cell_type": "markdown",
      "source": [
        "上記の画像では，学習データのうち10匹の猫について，左に元画像，右に再構成画像が並んでます．`H` の値をいろいろ変えてみましょう．"
      ],
      "metadata": {
        "id": "QFtl5f3gVzXt"
      }
    },
    {
      "cell_type": "markdown",
      "source": [
        "## 実験3 手動で猫顔画像を生成させてみよう\n"
      ],
      "metadata": {
        "id": "M0XYhJcHWBnW"
      }
    },
    {
      "cell_type": "markdown",
      "source": [
        "次のセルでは，$(y_1, y_2, y_3, y_4, y_5)$ の値を自由に選んで，それを再構成して猫画像を生成することができます．適当に値を選んでみよう．"
      ],
      "metadata": {
        "id": "bE6UxZ90WUkG"
      }
    },
    {
      "cell_type": "code",
      "source": [
        "#@title 猫画像を生成\n",
        "y1 =  1000 #@param {type: \"slider\", min:-2000, max:2000}\n",
        "y2 = -2000 #@param {type: \"slider\", min:-2000, max:2000}\n",
        "y3 = -1200 #@param {type: \"slider\", min:-2000, max:2000}\n",
        "y4 =   200 #@param {type: \"slider\", min:-2000, max:2000}\n",
        "y5 = -1000 #@param {type: \"slider\", min:-2000, max:2000}\n",
        "\n",
        "y = np.array([y1, y2, y3, y4, y5])\n",
        "z = y @ U[:5, :] + Xm\n",
        "\n",
        "# 生成した画像を表示\n",
        "plt.axis('off')\n",
        "plt.imshow(z.reshape(64, 64), cmap='gray')\n",
        "plt.show()"
      ],
      "metadata": {
        "id": "3jc6mWl6WOL5"
      },
      "execution_count": null,
      "outputs": []
    },
    {
      "cell_type": "markdown",
      "source": [
        "## 実験4 無限に猫顔画像を生成させてみよう"
      ],
      "metadata": {
        "id": "zwuUzfIkYFgL"
      }
    },
    {
      "cell_type": "markdown",
      "source": [
        "次のようにして，猫顔画像を無限に生成させてみましょう．\n",
        "\n",
        "1. $H$ 次元の $\\mathbf{y}$ の値が多次元正規分布に従うと仮定して，分散共分散行列を推定します.\n",
        "    - 平均は $\\mathbf{0}$ のはず\n",
        "    - 主成分スコアの分散共分散行列は，固有値が対角に並んだ対角行列のはず\n",
        "1. 推定したパラメータを持つ多次元正規分布に従う疑似乱数を発生させます．\n",
        "1. その値を $\\mathbf{y}$ として式 $(2)$ を計算することによって，猫顔画像 $\\mathbf{z}$ を生成します．"
      ],
      "metadata": {
        "id": "UKKAJYItYefm"
      }
    },
    {
      "cell_type": "code",
      "source": [
        "# 次元削減したデータに正規分布を当てはめる\n",
        "\n",
        "H = 32  # 変換後の次元数\n",
        "\n",
        "# 正規分布のパラメータの推定．PCAしたデータの平均は 0 で分散共分散行列は固有値の並んだ対角行列\n",
        "mu = np.zeros(H)\n",
        "cov = np.diag(eval[:H])\n",
        "print(eval[:H])"
      ],
      "metadata": {
        "id": "OtAHxfFeYHkh"
      },
      "execution_count": null,
      "outputs": []
    },
    {
      "cell_type": "markdown",
      "source": [
        "次のセルを実行すると，猫顔画像を25枚生成します．\n",
        "実行するたびに乱数の値が変わるので，何度も実行してみましょう．"
      ],
      "metadata": {
        "id": "6lCEa-SBcLMs"
      }
    },
    {
      "cell_type": "code",
      "source": [
        "# 平均 mu，共分散 cov の多次元正規分布に従う乱数を生成\n",
        "from numpy.random import default_rng\n",
        "rng = default_rng()\n",
        "Yt = rng.multivariate_normal(mean=mu, cov=cov, size=25)\n",
        "print(Yt.shape)\n",
        "\n",
        "# Yt を再構成\n",
        "Z = Yt @ U[:H, :] + Xm\n",
        "\n",
        "# 画素値の範囲 [0, 255] をはみ出した値の処理\n",
        "ZZ = Z.reshape(-1)\n",
        "ZZ[ZZ < 0] = 0\n",
        "ZZ[ZZ > 255] = 255\n",
        "print(np.min(Z), np.max(Z))\n",
        "\n",
        "# 可視化\n",
        "img = mosaicImage(Z, 5, 5)\n",
        "plt.figure(figsize=(8, 8))\n",
        "plt.axis('off')\n",
        "plt.imshow(img, cmap='gray')\n",
        "plt.show()"
      ],
      "metadata": {
        "id": "GufEtLE5ZdO4"
      },
      "execution_count": null,
      "outputs": []
    },
    {
      "cell_type": "markdown",
      "source": [
        "この実験では，\n",
        "\n",
        "- 使っているデータの数が少ない\n",
        "- 生成モデルがただの多次元正規分布なので単純すぎる\n",
        "\n",
        "ため，生成される画像の品質は高くありません．近年急速に発達している画像生成の方法は，ここでやっているような計算を基礎的な考え方としつつ，最先端の機械学習手法を用いたものとなっています．"
      ],
      "metadata": {
        "id": "4XDFJrFxbnO5"
      }
    },
    {
      "cell_type": "code",
      "source": [],
      "metadata": {
        "id": "AvYvDDMPa-Mn"
      },
      "execution_count": null,
      "outputs": []
    }
  ]
}