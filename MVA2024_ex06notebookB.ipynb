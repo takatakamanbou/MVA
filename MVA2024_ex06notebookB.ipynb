{
  "nbformat": 4,
  "nbformat_minor": 0,
  "metadata": {
    "colab": {
      "provenance": [],
      "toc_visible": true,
      "authorship_tag": "ABX9TyNvdt8DmnGGeNghtugDfMsv",
      "include_colab_link": true
    },
    "kernelspec": {
      "name": "python3",
      "display_name": "Python 3"
    },
    "language_info": {
      "name": "python"
    }
  },
  "cells": [
    {
      "cell_type": "markdown",
      "metadata": {
        "id": "view-in-github",
        "colab_type": "text"
      },
      "source": [
        "<a href=\"https://colab.research.google.com/github/takatakamanbou/MVA/blob/main/MVA2024_ex06notebookB.ipynb\" target=\"_parent\"><img src=\"https://colab.research.google.com/assets/colab-badge.svg\" alt=\"Open In Colab\"/></a>"
      ]
    },
    {
      "cell_type": "markdown",
      "source": [
        "# MVA2024 ex06notebookB\n",
        "\n",
        "<img width=64 src=\"https://www-tlab.math.ryukoku.ac.jp/~takataka/course/MVA/MVA-logo.png\"> https://www-tlab.math.ryukoku.ac.jp/wiki/?MVA/2024"
      ],
      "metadata": {
        "id": "P4preLw7SzqH"
      }
    },
    {
      "cell_type": "markdown",
      "source": [
        "---\n",
        "## 演習課題\n",
        "---\n"
      ],
      "metadata": {
        "id": "zDtnBWKha6vx"
      }
    },
    {
      "cell_type": "code",
      "source": [
        "# いろいろインポート\n",
        "import numpy as np\n",
        "import matplotlib.pyplot as plt\n",
        "import pandas as pd\n",
        "import seaborn\n",
        "seaborn.set()\n",
        "\n",
        "# 「解答」を示す際に文字列を復号するのに使う\n",
        "import base64\n",
        "# 復号した文字列を Markdown 形式で（数式は LaTeX でフォーマットして）表示\n",
        "from IPython.display import display, Markdown"
      ],
      "metadata": {
        "id": "9HCsHgFjR6jo"
      },
      "execution_count": null,
      "outputs": []
    },
    {
      "cell_type": "markdown",
      "source": [
        "---\n",
        "### 国数英データの主成分分析"
      ],
      "metadata": {
        "id": "_3ZTTFBp3mHI"
      }
    },
    {
      "cell_type": "markdown",
      "source": [
        "「国語」「数学」「英語」3科目の点数を集めたデータに主成分分析を適用してみましょう．\n"
      ],
      "metadata": {
        "id": "yY1VvE3ZSKyR"
      }
    },
    {
      "cell_type": "markdown",
      "source": [
        "#### データを入手し，前処理してから観察する"
      ],
      "metadata": {
        "id": "TCOxatpB3uNI"
      }
    },
    {
      "cell_type": "markdown",
      "source": [
        "次のコードセルを実行すると，データを入手します．"
      ],
      "metadata": {
        "id": "zZlbmqSESV3C"
      }
    },
    {
      "cell_type": "code",
      "source": [
        "# 国数英\n",
        "dfJME = pd.read_table('https://www-tlab.math.ryukoku.ac.jp/~takataka/course/MVA/jme.txt', sep=' ', names=['国語', '数学', '英語'])\n",
        "dfJME"
      ],
      "metadata": {
        "id": "McByohaA3uNI"
      },
      "execution_count": null,
      "outputs": []
    },
    {
      "cell_type": "markdown",
      "source": [
        "見てのとおり，3科目の点数を30人分集めたデータです．\n",
        "後の計算のためにこれを NumPy array に変換し，3科目それぞれの平均が 0 になるようにしておきます．"
      ],
      "metadata": {
        "id": "wr4K7syoSZ1v"
      }
    },
    {
      "cell_type": "code",
      "source": [
        "# NumPy array にする\n",
        "Xorg = dfJME.to_numpy()\n",
        "print('Xorg の最初の5行')\n",
        "print(Xorg[:5, :], Xorg.shape)\n",
        "print()\n",
        "# 平均を差し引いたものを X とする\n",
        "Xm = np.mean(Xorg, axis=0)\n",
        "X = Xorg - Xm\n",
        "print('X の最初の5行')\n",
        "print(X[:5, :], X.shape)"
      ],
      "metadata": {
        "id": "tfpTfR803uNJ"
      },
      "execution_count": null,
      "outputs": []
    },
    {
      "cell_type": "markdown",
      "source": [
        "3科目中の2科目のペア3通りすべてについて散布図を描くと，次のようになっています．"
      ],
      "metadata": {
        "id": "XQk0TRTFTCUP"
      }
    },
    {
      "cell_type": "code",
      "source": [
        "# X の散布図\n",
        "fig, ax = plt.subplots(1, 3, figsize=(10, 4))\n",
        "\n",
        "vname = ['Japanese', 'Math', 'English']\n",
        "index = [(0, 1), (0, 2), (1, 2)]\n",
        "\n",
        "for n in range(len(index)):\n",
        "    i, j = index[n]\n",
        "    ax[n].scatter(X[:, i], X[:, j])\n",
        "    ax[n].set_xlim(-30, 30)\n",
        "    ax[n].set_ylim(-30, 30)\n",
        "    ax[n].set_aspect('equal')\n",
        "    ax[n].axhline(0, color='gray')\n",
        "    ax[n].axvline(0, color='gray')\n",
        "    ax[n].set_xlabel(vname[i])\n",
        "    ax[n].set_ylabel(vname[j])\n",
        "\n",
        "fig.tight_layout()\n",
        "plt.show()"
      ],
      "metadata": {
        "id": "BL9slJi23uNJ"
      },
      "execution_count": null,
      "outputs": []
    },
    {
      "cell_type": "markdown",
      "source": [
        "#### 分散共分散行列とその固有値固有ベクトルを求める"
      ],
      "metadata": {
        "id": "Wh_S3Cg43uNJ"
      }
    },
    {
      "cell_type": "markdown",
      "source": [
        "主成分分析ではデータの分散共分散行列を求め，その固有値・固有ベクトルを求める必要があります．\n",
        "ここでは，その計算のコードは Python + NumPy で書いています．"
      ],
      "metadata": {
        "id": "uotUN0PfTQoG"
      }
    },
    {
      "cell_type": "markdown",
      "source": [
        "まずは分散共分散行列を求めます．"
      ],
      "metadata": {
        "id": "ESZxct58UH2J"
      }
    },
    {
      "cell_type": "code",
      "source": [
        "# X はゼロ平均なので以下で V が得られる\n",
        "V = X.T @ X / X.shape[0]\n",
        "print('V = ')\n",
        "print(V, V.shape)"
      ],
      "metadata": {
        "id": "B3IlVvtw3uNK"
      },
      "execution_count": null,
      "outputs": []
    },
    {
      "cell_type": "markdown",
      "source": [
        "`V` の要素を観察すると，次のようなことが分かります．ここでは，`V` の `i` 行目 `j` 列目の要素を `V[i, j]` と書いて説明してます（`i` や `j` は 0 から数えてます）．\n",
        "\n",
        "- 科目毎に見ると，「数学」の分散（`V[1, 1]`）が大きく，「英語」の分散（`V[2, 2]`）が小さい\n",
        "- どの2科目間の共分散も正である．このことは，散布図からも読みとれますね．"
      ],
      "metadata": {
        "id": "5GxqN6wJ3uNK"
      }
    },
    {
      "cell_type": "markdown",
      "source": [
        "分散共分散行列の固有値と固有ベクトルを求めます（注）．\n",
        "\n",
        "<br>\n",
        "<hr width=\"50%\" align=\"left\">\n",
        "<span style=\"font-size: 75%\">\n",
        "※ 注： 【この説明は，線形代数関係の数値計算に興味のある人向けの内容です】ここでは，<a href=\"https://numpy.org/doc/stable/reference/generated/numpy.linalg.svd.html\">np.linalg.svd</a> という関数を使って固有値固有ベクトルを求めています．この関数は本来，「特異値分解(Singular Value Decomposition, SVD)」のためのものですが，引数に実対象行列を渡した場合，その行列の固有値固有ベクトルを返してくれます．この他，対称行列（正確にはエルミート行列）の固有値固有ベクトルを求める <a href=\"https://numpy.org/doc/stable/reference/generated/numpy.linalg.eigh.html\">np.linalg.eigh</a> や一般の正方行列の固有値固有ベクトルを求める <a href=\"https://numpy.org/doc/stable/reference/generated/numpy.linalg.eig.html\">np.linalg.eig</a> なども使えますが，np.linalg.svd が最も便利で実用的です．\n",
        "</span>"
      ],
      "metadata": {
        "id": "LzqXohzqUZ3u"
      }
    },
    {
      "cell_type": "code",
      "source": [
        "# V の固有値固有ベクトルを求める\n",
        "U, eval, Vt = np.linalg.svd(V)  # eval が固有値，U が固有ベクトルをならべた行列になる\n",
        "print('U = ')\n",
        "print(U, U.shape)\n",
        "print('eval = ')\n",
        "print(eval)\n",
        "print()\n",
        "for d in range(len(eval)): # 固有ベクトルは列ベクトルとして U に格納されてる\n",
        "    print(f'固有値 {eval[d]:.2f} に対応する固有ベクトルは {U[:, d]}')\n",
        "print()\n",
        "print('U.T @ U = ')\n",
        "print(U.T @ U)"
      ],
      "metadata": {
        "id": "92GppWBW3uNK"
      },
      "execution_count": null,
      "outputs": []
    },
    {
      "cell_type": "markdown",
      "source": [
        "3次元のデータなので，分散共分散行列は $3\\times 3$ です．したがって，固有値は 3 つ，固有ベクトルは3つの固有値のそれぞれに対応して一つずつあるので計 3 つ得られます．それぞれの固有ベクトルは 3 次元ベクトルです．\n",
        "\n",
        "`U.T @ U` のところは，`U` が直交行列になっていることを確認しています．この結果から，3つの固有ベクトルは，いずれもノルムが 1 であり，互いに直交していることが分かります．"
      ],
      "metadata": {
        "id": "bmQxUROFXNU0"
      }
    },
    {
      "cell_type": "markdown",
      "source": [
        "#### 次元削減の変換を行い結果を考察する"
      ],
      "metadata": {
        "id": "P0hKU07V3uNK"
      }
    },
    {
      "cell_type": "markdown",
      "source": [
        "3つの固有ベクトルのうち固有値の大きい方二つをならべて，主成分分析による次元削減のための変換行列（notebookA の $U$，↓のコードセルでの変数名は `U2`）を作り，これを使ってデータを変換します．"
      ],
      "metadata": {
        "id": "hugzuy-WZDKv"
      }
    },
    {
      "cell_type": "code",
      "source": [
        "# 固有値の大きい方2つに対応する固有ベクトルをならべた行列を U2 とする\n",
        "U2 = U[:, :2]\n",
        "print('U2 = ')\n",
        "print(U2, U2.shape)\n",
        "print()\n",
        "# U2 を使って X を Y に変換\n",
        "Y = X @ U2\n",
        "print('Y = X @ U2 の最初の5行')\n",
        "print(Y[:5, :], Y.shape)"
      ],
      "metadata": {
        "id": "-O4bWuK03uNK"
      },
      "execution_count": null,
      "outputs": []
    },
    {
      "cell_type": "markdown",
      "source": [
        "次元削減の変換によって，3次元のデータを2次元にすることができました．\n",
        "その散布図を描いてみると，このようになります．"
      ],
      "metadata": {
        "id": "Bs7vUGyiZrVn"
      }
    },
    {
      "cell_type": "code",
      "source": [
        "# Y の散布図\n",
        "fig, ax = plt.subplots(figsize=(4, 4))\n",
        "ax.scatter(Y[:, 0], Y[:, 1])\n",
        "idx = [6, 14, 29]\n",
        "ax.scatter(Y[idx, 0], Y[idx, 1])\n",
        "ax.set_xlim(-30, 30)\n",
        "ax.set_ylim(-30, 30)\n",
        "ax.set_aspect('equal')\n",
        "ax.axhline(0, color='gray')\n",
        "ax.axvline(0, color='gray')\n",
        "ax.set_xlabel(r'$y_1$')\n",
        "ax.set_ylabel(r'$y_2$')\n",
        "for i in idx:\n",
        "    plt.annotate(f'{i}', (Y[i, 0]+2, Y[i, 1]))\n",
        "plt.show()"
      ],
      "metadata": {
        "id": "pC6bWeyY3uNK"
      },
      "execution_count": null,
      "outputs": []
    },
    {
      "cell_type": "markdown",
      "source": [
        "ここで，3科目の点数と，それを2次元にした値（2つの主成分）との関係を理解するために，\n",
        "$\\pmb{y} = U^{\\top}\\pmb{x}$ の式を具体的な固有ベクトルの値を使って表してみると，次のようになります．\n",
        "\n",
        "$$\n",
        "\\pmb{y} =\n",
        "\\begin{pmatrix}\n",
        "y_1 \\\\ y_2\n",
        "\\end{pmatrix}\n",
        "=\n",
        "U^{\\top}\\pmb{x}\n",
        "=\n",
        "\\begin{pmatrix}\n",
        "\\pmb{u}_1\\cdot\\pmb{x} \\\\ \\pmb{u}_2\\cdot\\pmb{x}\n",
        "\\end{pmatrix}\n",
        "=\n",
        "\\begin{pmatrix}\n",
        "-0.540 x_1 - 0.603 x_2 - 0.588 x_3\\\\\n",
        "0.736 x_1 - 0.677 x_2 + 0.0174 x_3\n",
        "\\end{pmatrix}\n",
        "$$\n",
        "\n",
        "ここで，$x_1, x_2, x_3$ は元のデータからそれぞれの平均を引いて得られた値ですので，元の点数がその科目の平均より低ければ負に，高ければ正になります．\n",
        "一方，第1主成分 $y_1$ の式を見ると，$x_1, x_2, x_3$ の係数はいずれも負で，値の大きさがほぼ同じです．このことから，第1主成分 $y_1$ は「3科目の総合力」（ただし値が小さい方が総合力が高い）を表すと解釈できます．\n",
        "\n",
        "一方，第2主成分 $y_2$ の方は，英語の係数が 0 に近く影響が小さいので無視できると考えると，\n",
        "\n",
        "「国語が低く数学が高い」 $y_2 \\mbox{が負} \\longleftrightarrow y_2 が正$「国語が高く数学が低い」\n",
        "\n",
        "という関係があるとみなせます．したがって，$y_2$ は「文理度」のようなものと解釈できます（値が小さいと理系っぽい，大きいと文系っぽい）（注）．\n",
        "\n",
        "これらのことから，ここで行った主成分分析による次元削減では，国語，数学，英語3科目の点数のデータを2つの成分で（2つの変数で）説明しようとしたら，「3科目の総合力」と「文理度」という2つが得られた，この2つがこのデータの主な成分である，という解釈をすることができます．\n",
        "\n",
        "<br>\n",
        "<hr width=\"50%\" align=\"left\">\n",
        "<span style=\"font-size: 75%\">\n",
        "※ 注： 説明のわかりやすさを優先して，国語が得意で数学が苦手なら「文系」，逆なら「理系」という乱暴な解釈をしています．\n",
        "</span>"
      ],
      "metadata": {
        "id": "xgrnaOaBZ0Ox"
      }
    },
    {
      "cell_type": "markdown",
      "source": [
        "上記のことを，具体的な数値で確認してみましょう．次のコードセルを実行すると，散布図に記を付けた3人のデータを表示します．"
      ],
      "metadata": {
        "id": "AQJiBCkG3uNL"
      }
    },
    {
      "cell_type": "code",
      "source": [
        "print('Xorg の平均: ', Xm)\n",
        "print()\n",
        "for i in idx:\n",
        "    print(f'No.{i:2d}  Xorg: {Xorg[i, :]}  X: [{X[i, 0]:.1f} {X[i, 1]:.1f} {X[i, 2]:.1f}]  Y: [{Y[i, 0]:.1f} {Y[i, 1]:.1f}]')"
      ],
      "metadata": {
        "id": "RHqGt2y58aLn"
      },
      "execution_count": null,
      "outputs": []
    },
    {
      "cell_type": "markdown",
      "source": [
        "これら3人の主成分スコアの値を見て，「総合力」，「文理度」を考察すると，次のような結果が得られます．次のコードセルを実行すると解答例が表示されます．まずは自分で考えてから実行してね．\n"
      ],
      "metadata": {
        "id": "N9rpxrdeiglT"
      }
    },
    {
      "cell_type": "code",
      "source": [
        "Q = b'Ci0gTm8uNiDjga/vvIznrKwx5Li75oiQ5YiG44K544Kz44Ki44GM5aSn44GN44GE44Gu44GnM+enkeebruOBrue3j+WQiOWKm+OBr+S9juOBj++8jOesrDLkuLvmiJDliIbjgrnjgrPjgqLjga/mraPjgaDjgYww44Gr6L+R44GE44Gu44Gn44KE44KE5paH57O75a+E44KK44Go44GE44GI44KL77yOCi0gTm8uMTQg44Gv77yM56ysMeS4u+aIkOWIhuOCueOCs+OCouOBryBOby42IOOBqOOBu+OBvOWQjOOBmO+8jOesrDLkuLvmiJDliIbjgrnjgrPjgqLjga/osqDjgarjga7jgafnkIbns7vlr4TjgorvvI4KLSBOby4yOSDjga/vvIznrKwx5Li75oiQ5YiG44K544Kz44Ki44GM5bCP44GV44GE44Gu44GnM+enkeebruOBrue3j+WQiOWKm+OBjOmrmOOBj++8jOesrDLkuLvmiJDliIbjgrnjgrPjgqLjga/mraPjgarjga7jgafmlofns7vlr4TjgorvvI4K'\n",
        "display(Markdown(base64.b64decode(Q).decode('utf-8')))"
      ],
      "metadata": {
        "id": "5TlmxHPc75MQ"
      },
      "execution_count": null,
      "outputs": []
    },
    {
      "cell_type": "markdown",
      "source": [
        "このデータの場合は，元データもたかだか3次元なので，それぞれの元の点数と平均点からもそのような傾向を確認できますね．"
      ],
      "metadata": {
        "id": "8cQju4oR8ZGP"
      }
    },
    {
      "cell_type": "markdown",
      "source": [
        "#### 問題1\n",
        "\n",
        "ここまでの内容を理解しなさい"
      ],
      "metadata": {
        "id": "BgX2pGEZ8F-R"
      }
    },
    {
      "cell_type": "markdown",
      "source": [
        "---\n",
        "### 外食支出金額データの主成分分析"
      ],
      "metadata": {
        "id": "eE2vqWXImASi"
      }
    },
    {
      "cell_type": "markdown",
      "source": [
        "#### データを入手して前処理する"
      ],
      "metadata": {
        "id": "fuUgab2kmLbN"
      }
    },
    {
      "cell_type": "markdown",
      "source": [
        "「SSDSE-家計消費」というデータセットを読み込んで前処理を行うコードを実行します．\n",
        "データについての説明も表示します．"
      ],
      "metadata": {
        "id": "bbOleIhc3Adl"
      }
    },
    {
      "cell_type": "code",
      "source": [
        "!wget -nc https://www-tlab.math.ryukoku.ac.jp/~takataka/course/MVA/DiningOutSpendingData.py\n",
        "from DiningOutSpendingData import DiningOutSpendingData\n",
        "dosd = DiningOutSpendingData()\n",
        "kinki5 = dosd.kinki5()\n",
        "tohoku6 = dosd.tohoku6()\n",
        "dosd.info()"
      ],
      "metadata": {
        "id": "HAQpB-ZR0J77"
      },
      "execution_count": null,
      "outputs": []
    },
    {
      "cell_type": "markdown",
      "source": [
        "次のコードセルを実行すると，読み込んだデータに前処理を適用して，最初の5件のデータを表示します．notebookA では 13 個の変数を全て使っていましたが，ここではいくつか削除してから分析を行うことにします．"
      ],
      "metadata": {
        "id": "PklMsJfA3UzJ"
      }
    },
    {
      "cell_type": "code",
      "source": [
        "# DataFrame 表示時の小数部の表示桁数\n",
        "pd.options.display.precision = 1\n",
        "# DataFrame を入手して最初の5件を表示\n",
        "dfFeature_raw = dosd.getDataFrame()\n",
        "# いくつかの列を削除\n",
        "dfFeature = dfFeature_raw.drop(columns=['他の麺類外食', '他の主食的外食', '学校給食', '飲酒代'])\n",
        "dfFeature.head(5)"
      ],
      "metadata": {
        "id": "NuiXtwOg0pQ7"
      },
      "execution_count": null,
      "outputs": []
    },
    {
      "cell_type": "code",
      "source": [
        "# NumPy array を作る\n",
        "Xorg = dfFeature.drop(columns=['SSDSE-C-2022', 'City']).to_numpy()\n",
        "print('Xorg の最初の5行')\n",
        "print(Xorg[:5, :], Xorg.shape)\n",
        "print()"
      ],
      "metadata": {
        "id": "lzeFEOiT1ZmU"
      },
      "execution_count": null,
      "outputs": []
    },
    {
      "cell_type": "markdown",
      "source": [
        "#### 主成分分析によって2次元に次元削減する"
      ],
      "metadata": {
        "id": "4Be2KE9Wm4ef"
      }
    },
    {
      "cell_type": "markdown",
      "source": [
        "次のセルを実行すると，上記のデータに主成分分析を適用して2次元に変換したものが得られます（注）．\n",
        "ここでは，[statsmodels](https://www.statsmodels.org/) という Python 向け統計分析ライブラリを使っています（参考: [statsmodels.multivariate.pca.PCA](https://www.statsmodels.org/dev/generated/statsmodels.multivariate.pca.PCA.html) ）\n",
        "\n",
        "<br>\n",
        "<hr width=\"50%\" align=\"left\">\n",
        "<span style=\"font-size: 75%\">\n",
        "※ 注： ここでは，元のデータの変数値（支出金額）そのままではなく，それらを変数ごとに標準化したデータに対して主成分分析を適用しています（<tt>PCA()</tt> の <tt>standardize</tt> オプションを <tt>True</tt> にしている）．\n",
        "</span>"
      ],
      "metadata": {
        "id": "Bt9Fkmu9Xygz"
      }
    },
    {
      "cell_type": "code",
      "source": [
        "# 主成分分析を利用してデータの次元数を2次元に削減（標準化あり）\n",
        "from statsmodels.multivariate.pca import PCA\n",
        "pca = PCA(Xorg, ncomp=2, standardize=True, demean=True, normalize=False)\n",
        "Y = pca.scores\n",
        "print('Y の最初の5行')\n",
        "print(Y[:5, :], Y.shape)"
      ],
      "metadata": {
        "id": "CleoPdEcYRaV"
      },
      "execution_count": null,
      "outputs": []
    },
    {
      "cell_type": "markdown",
      "source": [
        "`Y` の `shape` は `(47, 2)` です．47都市の特徴を2つの数値で表したものとなっています．"
      ],
      "metadata": {
        "id": "wdinbegMZHxC"
      }
    },
    {
      "cell_type": "markdown",
      "source": [
        "2次元のデータなので，散布図に描けます．描いてみるとこんなん："
      ],
      "metadata": {
        "id": "atqBdfaTZ1_O"
      }
    },
    {
      "cell_type": "code",
      "source": [
        "# Y の散布図\n",
        "fig, ax = plt.subplots(figsize=(8, 8))\n",
        "ax.scatter(Y[:, 0], Y[:, 1])\n",
        "ax.scatter(Y[kinki5, 0], Y[kinki5, 1], label='kinki5')\n",
        "ax.scatter(Y[tohoku6, 0], Y[tohoku6, 1], label='tohoku6')\n",
        "ax.set_xlim(-7.5, 7.5)\n",
        "ax.set_ylim(-7.5, 7.5)\n",
        "ax.set_aspect('equal')\n",
        "ax.axhline(0, color='gray') # x軸\n",
        "ax.axvline(0, color='gray') # y軸\n",
        "ax.legend()\n",
        "for n in range(len(Y)):\n",
        "    plt.annotate(f'{n}', (Y[n, 0]+0.1, Y[n, 1]+0))\n",
        "plt.show()"
      ],
      "metadata": {
        "id": "V5U0udPcaDMd"
      },
      "execution_count": null,
      "outputs": []
    },
    {
      "cell_type": "code",
      "source": [
        "# 変換行列の値を得る\n",
        "Ut = pca.coeff # Ut[h, :] が分散共分散行列の h 番目に大きな固有値に対応する固有ベクトル\n",
        "print(Ut, Ut.shape)\n",
        "\n",
        "# DataFrame 表示時の小数部の表示桁数\n",
        "pd.options.display.precision = 2\n",
        "dfU = pd.DataFrame(Ut, index=['u1', 'u2'], columns=dfFeature.drop(columns=['SSDSE-C-2022', 'City']).columns)\n",
        "dfU"
      ],
      "metadata": {
        "id": "2Ct1cxW0o7B3"
      },
      "execution_count": null,
      "outputs": []
    },
    {
      "cell_type": "markdown",
      "source": [
        "`u1` の行は第1主成分に対応する変換ベクトル（分散共分散行列の最大固有値に対する固有ベクトル）の値を表します．ここから，次のようなことが読み取れます．\n",
        "\n",
        "> `u1` の値は全て正なので，全ての変数 $x_{d}$（$d = 1, 2, \\ldots, 13$）の値が正ならば（元の値が平均より大きければ），第1主成分スコアは正になる．全て負ならば（元の値が平均より小さければ），負になる．\n",
        "大まかに言えば，第1主成分スコアは「分析対象の外食支出の総額の多さ」に対応している．\n",
        "\n",
        "第2主成分スコアについても，`u2` を見て同様の考察をすることができる．\n",
        "\n"
      ],
      "metadata": {
        "id": "lXubI89DoyRu"
      }
    },
    {
      "cell_type": "markdown",
      "source": [
        "#### 問題2\n",
        "\n",
        "次のことをやりなさい：\n",
        "\n",
        "1. ここまでの内容を理解する\n",
        "1. `u2` の値を見て，次のものをメモしておく：\n",
        "    - 係数の値が大きい変数の名前\n",
        "    - 係数の値が負で絶対値が大きい変数の名前\n",
        "1. 次のことを考える：\n",
        "    - 散布図で 20, 46 とラベル付けされた2つの都市のうち，分析対象となっている外食支出項目の総額が多い傾向にあるのはどちらか\n",
        "    - 散布図で 5, 27 とラベル付けされた2つの都市の外食支出の傾向は，どのように異なるか\n",
        "    - `kinki5`, `tohoku6` とラベル付けされた都市グループそれぞれの外食支出はどのような傾向にあるか"
      ],
      "metadata": {
        "id": "for3fgqc8Agy"
      }
    },
    {
      "cell_type": "code",
      "source": [],
      "metadata": {
        "id": "GdL7cRCU3Ygi"
      },
      "execution_count": null,
      "outputs": []
    }
  ]
}