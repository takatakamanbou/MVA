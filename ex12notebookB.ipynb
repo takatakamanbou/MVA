{
  "nbformat": 4,
  "nbformat_minor": 0,
  "metadata": {
    "colab": {
      "provenance": [],
      "toc_visible": true,
      "authorship_tag": "ABX9TyOWxklg+5BQ/XRkImwvcGGJ",
      "include_colab_link": true
    },
    "kernelspec": {
      "name": "python3",
      "display_name": "Python 3"
    },
    "language_info": {
      "name": "python"
    }
  },
  "cells": [
    {
      "cell_type": "markdown",
      "metadata": {
        "id": "view-in-github",
        "colab_type": "text"
      },
      "source": [
        "<a href=\"https://colab.research.google.com/github/takatakamanbou/MVA/blob/2022/ex12notebookB.ipynb\" target=\"_parent\"><img src=\"https://colab.research.google.com/assets/colab-badge.svg\" alt=\"Open In Colab\"/></a>"
      ]
    },
    {
      "cell_type": "markdown",
      "source": [
        "# MVA2022 ex12notebookB\n",
        "\n",
        "<img width=64 src=\"https://www-tlab.math.ryukoku.ac.jp/~takataka/course/MVA/MVA-logo12.png\"> https://www-tlab.math.ryukoku.ac.jp/wiki/?MVA/2022"
      ],
      "metadata": {
        "id": "P4preLw7SzqH"
      }
    },
    {
      "cell_type": "markdown",
      "source": [
        "----\n",
        "## 演習問題 - 外食支出金額による県庁所在市のクラスタリング\n",
        "----\n",
        "\n",
        "主成分分析の講義と演習でも使った「SSDSE-家計消費」データでクラスタリングの実験をやってみましょう．"
      ],
      "metadata": {
        "id": "zDtnBWKha6vx"
      }
    },
    {
      "cell_type": "code",
      "metadata": {
        "id": "I226xIKJbqtM"
      },
      "source": [
        "# 準備あれこれ\n",
        "import numpy as np\n",
        "import matplotlib.pyplot as plt\n",
        "import pandas as pd\n",
        "import seaborn\n",
        "seaborn.set()\n",
        "\n",
        "# SciPy の階層型クラスタリングパッケージ\n",
        "import scipy.cluster.hierarchy as hierarchy"
      ],
      "execution_count": null,
      "outputs": []
    },
    {
      "cell_type": "markdown",
      "source": [
        "---\n",
        "### データの準備"
      ],
      "metadata": {
        "id": "p0331MyZVlDD"
      }
    },
    {
      "cell_type": "markdown",
      "source": [
        "このセクションでは，この notebook で使うデータの準備をします．\n",
        "\n",
        "独立行政法人統計センターが作成している 教育用標準データセット(SSDSE) の中の「SSDSE-家計消費」というデータを使います．\n",
        "\n",
        "「SSDSE-家計消費」は，47都道府県の県庁所在市で調査された家計消費に関する226項目の数値から成るデータです．「二人以上の世帯の1世帯あたりの焼き肉（外食）への年間支出金額」みたいな数値が含まれています．\n",
        "\n",
        "データの詳細はこちら: https://www.nstac.go.jp/sys/files/kaisetsu-C-2022.pdf\n",
        "\n",
        "このセクションのコードの作成にあたっては，データの前処理の部分でこちらを参考にさせていただきました： https://studiolab.sagemaker.aws/import/github/icoxfog417/mlnote-note/blob/main/notebooks/chapter10_answer.ipynb\n",
        "\n",
        "以下のコードを上から順に実行しましょう"
      ],
      "metadata": {
        "id": "bkqZa3xN-dUk"
      }
    },
    {
      "cell_type": "code",
      "source": [
        "##### CSV ファイルを読み込む #####\n",
        "URL = 'https://www.nstac.go.jp/sys/files/SSDSE-C-2022.csv'\n",
        "df_raw = pd.read_csv(URL, encoding='cp932') # 文字コードが UTF8 ではなく ShiftJIS なので，encoding オプションを指定して変換\n",
        "df_raw.head(10) # 最初の10行を表示"
      ],
      "metadata": {
        "id": "i2AizqgTR0fp"
      },
      "execution_count": null,
      "outputs": []
    },
    {
      "cell_type": "code",
      "source": [
        "#####  データの前処理 step1  #####\n",
        "\n",
        "# df_raw の見出し行に記されたコードと，1行目に記されたその項目名との対応表を作り，項目名の行を削除\n",
        "code = df_raw.iloc[0, :]\n",
        "print('##### コードと項目名の対応')\n",
        "print(code)\n",
        "df1 = df_raw.drop(0, axis=0)\n",
        "\n",
        "# 'SSDSE-C-2022'列の都市コードと'Prefecture'列の都道府県名，'City'列の県庁所在地名を整理\n",
        "city = df1.iloc[:, :3]\n",
        "print()\n",
        "print('##### 都市コード，都道府県名，県庁所在地名')\n",
        "print(city.head(5))\n",
        "df1 = df1.drop(['Prefecture', 'City'], axis=1)\n",
        "df1 = df1.set_index('SSDSE-C-2022')\n",
        "\n",
        "df1 = df1.drop('R00000', axis=0) # 'R00000'列は「全国」のデータなのでこれを削除\n",
        "df1 = df1.astype('float32') # 値を浮動小数点型に変換\n",
        "\n",
        "print()\n",
        "df1.head(5)"
      ],
      "metadata": {
        "id": "zg228twxSC8_"
      },
      "execution_count": null,
      "outputs": []
    },
    {
      "cell_type": "code",
      "source": [
        "#####  データの前処理 step2  #####\n",
        "\n",
        "# 一人あたりの外食支出金額のデータを作成\n",
        "df2 = pd.DataFrame()\n",
        "\n",
        "# コードが 'LB12' で始まる列が，様々な品目の外食支出額．ただし，1世帯あたりの金額\n",
        "columns = {}\n",
        "for c in df1.columns:\n",
        "    if c.startswith('LB12') and c != 'LB12':\n",
        "        #print(c, code[c])\n",
        "        columns[c] = code[c]\n",
        "        df2[c] = df1[c]\n",
        "\n",
        "# 列名をコードから項目名に変更\n",
        "df2 = df2.rename(columns=columns)\n",
        "\n",
        "# 都道府県ごとの平均世帯人数で割って一人あたりの金額にする\n",
        "df2 = df2.divide(df1['LA03'], axis=0)\n",
        "\n",
        "# 県庁所在地名の列を追加\n",
        "df2 = pd.merge(city.loc[:, ['SSDSE-C-2022', 'City']], df2, left_on='SSDSE-C-2022', right_index=True)\n",
        "df2 = df2.reset_index(drop=True)\n",
        "\n",
        "df_feature = df2\n",
        "\n",
        "# DataFrame 表示時の小数部の表示桁数\n",
        "pd.options.display.precision = 1\n",
        "\n",
        "# 最初の5件\n",
        "#df_feature.head(5)\n",
        "\n",
        "df_feature"
      ],
      "metadata": {
        "id": "N8P0-_z8SGSf"
      },
      "execution_count": null,
      "outputs": []
    },
    {
      "cell_type": "code",
      "source": [
        "#####  データの前処理 step3  #####\n",
        "\n",
        "# NumPy array にする\n",
        "Xtmp = df_feature.drop(columns=['SSDSE-C-2022', 'City']).to_numpy()\n",
        "\n",
        "# データを標準化\n",
        "from sklearn.preprocessing import StandardScaler\n",
        "ss = StandardScaler()\n",
        "X = ss.fit_transform(Xtmp)\n",
        "print(X.shape)\n",
        "print(X[:5, :]) # 最初の5つのデータ"
      ],
      "metadata": {
        "id": "CE2CmYTOTnnC"
      },
      "execution_count": null,
      "outputs": []
    },
    {
      "cell_type": "markdown",
      "source": [
        "---\n",
        "### 階層型クラスタリングしてみよう\n",
        "\n"
      ],
      "metadata": {
        "id": "3Y6cgkmtJ4Hy"
      }
    },
    {
      "cell_type": "markdown",
      "source": [
        "上記の配列 `X` を学習データとして，階層型クラスタリングを実行します．\n",
        "[scipy.cluster.hiearchy.linkage](https://docs.scipy.org/doc/scipy/reference/generated/scipy.cluster.hierarchy.linkage.html) でクラスタリングして，\n",
        "[scipy.cluster.hierarchy.dendrogram](https://docs.scipy.org/doc/scipy/reference/generated/scipy.cluster.hierarchy.dendrogram.html) でデンドログラムを描きます．\n",
        "標本間の距離はユークリッド距離，クラスタ間の距離はウォード法で測ります．"
      ],
      "metadata": {
        "id": "NDnxplQspxx1"
      }
    },
    {
      "cell_type": "code",
      "source": [
        "link = hierarchy.linkage(X, method='ward', metric='euclidean')\n",
        "fig, ax = plt.subplots(facecolor=\"white\", figsize=(12, 6))\n",
        "hierarchy.dendrogram(link, distance_sort='descending', show_leaf_counts=True, leaf_font_size=16, ax=ax)\n",
        "plt.show()"
      ],
      "metadata": {
        "id": "aW9hRlfj_TaK"
      },
      "execution_count": null,
      "outputs": []
    },
    {
      "cell_type": "markdown",
      "source": [
        "以下のセルを実行すると，`threshold` で指定した値をクラスタ間距離のしきい値としてデータをクラスタに分けた結果を表示します． `label` がクラスタの番号に相当します（0ではなく1からはじまる番号）．"
      ],
      "metadata": {
        "id": "XpyqGERQrPhw"
      }
    },
    {
      "cell_type": "code",
      "source": [
        "threshold = 1.0 # クラスタ間距離のしきい値\n",
        "\n",
        "label = hierarchy.fcluster(link, t=threshold, criterion='distance')\n",
        "df_result = city.iloc[1:, :].copy()\n",
        "df_result['label'] = label\n",
        "df_result['idx'] = np.arange(47, dtype=int)\n",
        "df_result = df_result.set_index('idx')\n",
        "df_result = df_result.sort_values('label')\n",
        "df_result[['label','Prefecture', 'City']]"
      ],
      "metadata": {
        "id": "4yJXWcjAqtqg"
      },
      "execution_count": null,
      "outputs": []
    },
    {
      "cell_type": "markdown",
      "source": [
        "### 問題1\n",
        "\n",
        "次のことを考えて／調べてメモしておこう：\n",
        "\n",
        "(1) この実験では何をやっている？どんな手法を使っている？\n",
        "\n",
        "(2) 使っているデータのデータ数と次元数はいくつ？\n"
      ],
      "metadata": {
        "id": "gXXKcqAJN8OX"
      }
    },
    {
      "cell_type": "markdown",
      "source": [
        "### 問題2\n",
        "\n",
        "次のことを考えて／調べてメモしておこう：\n",
        "\n",
        "(1) 名古屋市とよく似てるのはどこだろう？ 2つ挙げよう．\n",
        "\n",
        "(2) デンドログラムを見て，クラスタの数がそれぞれ 4, 6, 9 となるようなしきい値を選ぼう．それぞれのしきい値設定でクラスタリングした結果を観察しよう．\n",
        "\n",
        "(3) (2) の結果から考えると，近畿5府県（滋賀，京都，大阪，兵庫，奈良）の県庁所在市の値は，互いに似てる？ 似てない？ それぞれのクラスタ数の条件で同じクラスタに入っているかどうか見てみよう．\n",
        "\n",
        "(4) 47県庁所在市の中で，他の市との違いが大きくて最も孤立しているのはどこだろう？\n",
        "孤立した点でなくなる（他のクラスタと合併される）ときのクラスタ間距離が最も大きい市を探そう．そこは何が特徴的なのだろう？\n"
      ],
      "metadata": {
        "id": "ScQfE5VyYxaa"
      }
    },
    {
      "cell_type": "code",
      "source": [],
      "metadata": {
        "id": "94tpR3yjcyPN"
      },
      "execution_count": null,
      "outputs": []
    }
  ]
}