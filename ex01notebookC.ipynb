{
  "nbformat": 4,
  "nbformat_minor": 0,
  "metadata": {
    "colab": {
      "provenance": [],
      "toc_visible": true,
      "authorship_tag": "ABX9TyOFi61d6dITRfqkjqoAqpLu",
      "include_colab_link": true
    },
    "kernelspec": {
      "name": "python3",
      "display_name": "Python 3"
    },
    "language_info": {
      "name": "python"
    }
  },
  "cells": [
    {
      "cell_type": "markdown",
      "metadata": {
        "id": "view-in-github",
        "colab_type": "text"
      },
      "source": [
        "<a href=\"https://colab.research.google.com/github/takatakamanbou/MVA/blob/2023/ex01notebookC.ipynb\" target=\"_parent\"><img src=\"https://colab.research.google.com/assets/colab-badge.svg\" alt=\"Open In Colab\"/></a>"
      ]
    },
    {
      "cell_type": "markdown",
      "source": [
        "# MVA2023 ex01notebookC\n",
        "\n",
        "<img width=64 src=\"https://www-tlab.math.ryukoku.ac.jp/~takataka/course/MVA/MVA-logo.png\"> https://www-tlab.math.ryukoku.ac.jp/wiki/?MVA/2023"
      ],
      "metadata": {
        "id": "P4preLw7SzqH"
      }
    },
    {
      "cell_type": "markdown",
      "source": [
        "----\n",
        "## 演習課題"
      ],
      "metadata": {
        "id": "Kjddq7j6S48o"
      }
    },
    {
      "cell_type": "markdown",
      "source": [
        "Colab Notebook に Python のコードを書いて， NumPy 配列の計算をしたり，Matplotlib でグラフを描いたりしてみましょう．\n"
      ],
      "metadata": {
        "id": "hHiVhy3jHUm-"
      }
    },
    {
      "cell_type": "markdown",
      "source": [
        "---\n",
        "### NumPy の初歩"
      ],
      "metadata": {
        "id": "WbgRrfBK4IVL"
      }
    },
    {
      "cell_type": "markdown",
      "source": [
        "#### 問題0\n",
        "\n",
        "問題1以降のために必要な `import` 文を以下のセルに書いておこう．"
      ],
      "metadata": {
        "id": "3kbvvnzmHBgw"
      }
    },
    {
      "cell_type": "code",
      "source": [
        "# 必要なパッケージのインポート\n",
        "\n"
      ],
      "metadata": {
        "id": "eYT19_0nHV0Z"
      },
      "execution_count": null,
      "outputs": []
    },
    {
      "cell_type": "markdown",
      "source": [
        "#### 問題1\n",
        "\n",
        "2つのベクトル\n",
        "$$ \\mathbf{a} = \\left(1, \\frac{3}{2}, 2, \\frac{5}{2}\\right),\\quad \\mathbf{b} = (1, 3, -2, -7)$$\n",
        "に対するいくつかの演算を，Python + NumPy でやってみよう．"
      ],
      "metadata": {
        "id": "SS5PU-k6HcZS"
      }
    },
    {
      "cell_type": "markdown",
      "source": [
        "(1) 以下のセルに，$\\mathbf{a}$ と $\\mathbf{b}$ に相当する numpy.array を作り，その内容を print する（`print`関数を呼んで表示させる）コードを書きなさい．変数名は，それぞれ `a` と `b` とすること．"
      ],
      "metadata": {
        "id": "TXIgUe-rIArL"
      }
    },
    {
      "cell_type": "code",
      "source": [],
      "metadata": {
        "id": "VsIXqP4UIVZf"
      },
      "execution_count": null,
      "outputs": []
    },
    {
      "cell_type": "markdown",
      "source": [
        "(2) 次の計算を行って得られたものをそれぞれ print するコードを書きなさい．\n",
        "- $\\mathbf{a} - \\mathbf{b}$\n",
        "- $4\\mathbf{a} + \\mathbf{b}$"
      ],
      "metadata": {
        "id": "5QTcZsk8IVKH"
      }
    },
    {
      "cell_type": "code",
      "source": [],
      "metadata": {
        "id": "aoCbQ_bMJkp4"
      },
      "execution_count": null,
      "outputs": []
    },
    {
      "cell_type": "markdown",
      "source": [
        "(3) 次の値を計算して結果を print するコードを書きなさい．\n",
        "- $\\mathbf{a}$ と $\\mathbf{b}$ の内積 $\\mathbf{a}\\cdot\\mathbf{b}$\n",
        "- $\\mathbf{a}$ のノルム（大きさ）の2乗 $\\Vert\\mathbf{a}\\Vert^2$ （ヒント： 任意の実ベクトル $\\mathbf{x}$ に対して，$\\Vert\\mathbf{x}\\Vert^2 = \\mathbf{x}\\cdot\\mathbf{x}$ です）"
      ],
      "metadata": {
        "id": "YqwoutWyKK39"
      }
    },
    {
      "cell_type": "code",
      "source": [],
      "metadata": {
        "id": "WYJjTf_hMWzz"
      },
      "execution_count": null,
      "outputs": []
    },
    {
      "cell_type": "markdown",
      "source": [
        "(4) NumPy の関数 `np.sqrt` を使うと，スカラやベクトルの要素の平方根の値を求めることができます．使い方を調べて，次のものを計算して結果を print するコードを書きなさい．\n",
        "- $\\Vert\\mathbf{a}\\Vert$\n",
        "- ベクトル $\\mathbf{a}$ の各要素の平方根の値でできたベクトル"
      ],
      "metadata": {
        "id": "glR9W-ckLXFN"
      }
    },
    {
      "cell_type": "code",
      "source": [],
      "metadata": {
        "id": "Gi2Kld4fMXai"
      },
      "execution_count": null,
      "outputs": []
    },
    {
      "cell_type": "markdown",
      "source": [
        "(5) $\\mathbf{a}, \\mathbf{b}$ それぞれの要素の値の和と平均を求めて結果を print するコードを書きなさい． 解説の notebook で示しているように NumPy の関数を使うこと．"
      ],
      "metadata": {
        "id": "_MGqwpb-NJgA"
      }
    },
    {
      "cell_type": "markdown",
      "source": [
        "#### 問題2\n",
        "\n",
        "2次元配列"
      ],
      "metadata": {
        "id": "c93bQ4-o4sxf"
      }
    },
    {
      "cell_type": "markdown",
      "source": [
        "(1) 次のセルにコードを書いて，変数 `A` と `B` がそれぞれ次の行列 $A$ と $B$ を表す2次元配列となるようにしなさい．\n",
        "\n",
        "$$\n",
        "A = \\begin{pmatrix}\n",
        "0.1 & 0.2 \\\\\n",
        "0.3 & 0.4\\\\\n",
        "\\end{pmatrix}\n",
        "\\quad\n",
        "B = \\begin{pmatrix}\n",
        "10 & -5 \\\\\n",
        "-10 & 0 \\\\\n",
        "10 & -10 \\\\\n",
        "\\end{pmatrix}\n",
        "$$"
      ],
      "metadata": {
        "id": "yVxG_FRb_myb"
      }
    },
    {
      "cell_type": "code",
      "source": [],
      "metadata": {
        "id": "w4vjFD8n97vQ"
      },
      "execution_count": null,
      "outputs": []
    },
    {
      "cell_type": "code",
      "source": [],
      "metadata": {
        "id": "tXPLWp1f-QI8"
      },
      "execution_count": null,
      "outputs": []
    },
    {
      "cell_type": "markdown",
      "source": [
        "(2) 次のセルに `A.shape` と `B.shape` を print するコードを書きなさい．"
      ],
      "metadata": {
        "id": "usUY-RSdA7sr"
      }
    },
    {
      "cell_type": "code",
      "source": [],
      "metadata": {
        "id": "xaVdrRcnA6si"
      },
      "execution_count": null,
      "outputs": []
    },
    {
      "cell_type": "markdown",
      "source": [
        "(3) $A$ と $B$ それぞれの $(2, 1)$ 成分（2行目1列目の成分）を print するコードを書きなさい．それぞれ， $0.3$ と $-10$ になるはずです．"
      ],
      "metadata": {
        "id": "LM1vVhOKBwiD"
      }
    },
    {
      "cell_type": "code",
      "source": [],
      "metadata": {
        "id": "6LHtdCp5Ccwj"
      },
      "execution_count": null,
      "outputs": []
    },
    {
      "cell_type": "code",
      "source": [],
      "metadata": {
        "id": "brQIEvRnCmmg"
      },
      "execution_count": null,
      "outputs": []
    },
    {
      "cell_type": "markdown",
      "source": [
        "(4) 次の積を求めて print するコードを書きなさい（これらの中には，積が求まらずエラーになるものもある）．\n",
        "\n",
        "$$\n",
        "AB \\quad BA \\quad AB^{\\top}\n",
        "$$"
      ],
      "metadata": {
        "id": "UOAjJuiNBFh6"
      }
    },
    {
      "cell_type": "code",
      "source": [],
      "metadata": {
        "id": "lnsFD5Sp-gz7"
      },
      "execution_count": null,
      "outputs": []
    },
    {
      "cell_type": "code",
      "source": [],
      "metadata": {
        "id": "klk_z5hEBqlb"
      },
      "execution_count": null,
      "outputs": []
    },
    {
      "cell_type": "code",
      "source": [],
      "metadata": {
        "id": "LBMU7jGSBmX5"
      },
      "execution_count": null,
      "outputs": []
    },
    {
      "cell_type": "markdown",
      "source": [
        "---\n",
        "### Matplitlib の初歩"
      ],
      "metadata": {
        "id": "SobP3uDZ4Wb_"
      }
    },
    {
      "cell_type": "markdown",
      "source": [
        "#### 問題3\n",
        "\n",
        "Python + NumPy + Matplotlib でグラフを描こう"
      ],
      "metadata": {
        "id": "oKLqKHL1Ne8z"
      }
    },
    {
      "cell_type": "markdown",
      "source": [
        "(1) 次のセルを実行すると， 0 から 0.5 刻みで 2 までの数を並べた配列ができます．\n",
        "そのことを確認しなさい．"
      ],
      "metadata": {
        "id": "ATrcCdCrOfaM"
      }
    },
    {
      "cell_type": "code",
      "source": [
        "x = np.linspace(0, 2, 5)\n",
        "print(x)"
      ],
      "metadata": {
        "id": "2w1YAZ6uOBLz"
      },
      "execution_count": null,
      "outputs": []
    },
    {
      "cell_type": "markdown",
      "source": [
        "(2) 上記の `x` を用いて，次の配列を作るコードを書きなさい．\n",
        "- `y1`: `x` の各要素の2乗の値から成る配列\n",
        "- `y2`: `x` の各要素の平方根の値から成る配列"
      ],
      "metadata": {
        "id": "uPEiiKlvO-ML"
      }
    },
    {
      "cell_type": "code",
      "source": [],
      "metadata": {
        "id": "r6phqV0VPdDW"
      },
      "execution_count": null,
      "outputs": []
    },
    {
      "cell_type": "markdown",
      "source": [
        "(3) `x` の各要素をX座標，`y1` の各要素をY座標にとった折れ線グラフを描きなさい．\n",
        "ただし，X軸の範囲は $[0, 2]$，Y軸の範囲は $[0,4]$ とすること．"
      ],
      "metadata": {
        "id": "7v_QNmoHPvXJ"
      }
    },
    {
      "cell_type": "code",
      "source": [],
      "metadata": {
        "id": "foD2tXg1Pukp"
      },
      "execution_count": null,
      "outputs": []
    },
    {
      "cell_type": "markdown",
      "source": [
        "［補足］ グラフの縦横の比率を揃えたい（X軸の値0から1までの長さとY軸の値0から1までの長さを等しくしたい）場合は，\n",
        "```\n",
        "ax.set_aspect('equal')\n",
        "```\n",
        "を入れれば ok です．\n"
      ],
      "metadata": {
        "id": "q7XMF_mTDOiP"
      }
    },
    {
      "cell_type": "markdown",
      "source": [
        "(4) 上のセルを修正して，`x` に対する `y2` のグラフも重ねて描くようにしなさい．"
      ],
      "metadata": {
        "id": "BxsO1y12QpZl"
      }
    },
    {
      "cell_type": "markdown",
      "source": [
        "(5) `np.linspace` 関数の使い方を調べて，(1) のコードセルを実行すると`x` が「0から 0.02 刻みで 2 までの数を並べた」配列となるようにセルを修正しなさい．\n",
        "その後，(2), (3), (4) のセルを順に実行して，より滑らかなグラフが得られることを確認しなさい．"
      ],
      "metadata": {
        "id": "Zkd0vgaTQ6el"
      }
    },
    {
      "cell_type": "markdown",
      "source": [
        "#### 問題4\n"
      ],
      "metadata": {
        "id": "YLrt0aifSWCG"
      }
    },
    {
      "cell_type": "markdown",
      "source": [
        "4つの配列を次のように定めるとき，次の問に答えなさい．"
      ],
      "metadata": {
        "id": "1pZCUEqu7RZ9"
      }
    },
    {
      "cell_type": "code",
      "source": [
        "eyeX = np.array([195, 195, 135, 135, 155, 155,  95,  95, 120, 120, 170, 170, 195])\n",
        "eyeY = np.array([170, 245, 245, 225, 225, 245, 245, 170, 170, 195, 195, 170, 170])\n",
        "mouthX = np.array([345, 320, 320,  70,  70, 345, 345])\n",
        "mouthY = np.array([45, 45, 70, 70, 95, 95, 45])"
      ],
      "metadata": {
        "id": "e2sZjdQU684i"
      },
      "execution_count": null,
      "outputs": []
    },
    {
      "cell_type": "markdown",
      "source": [
        "(1) `eyeX` を X 座標の値，`eyeY` を Y 座標の値として，Matplotlib を使って散布図を描きなさい．ただし，X 軸の範囲は $[0, 400]$，Y 軸の範囲は $[0, 300]$ とすること．"
      ],
      "metadata": {
        "id": "Vca0RxGY7ewQ"
      }
    },
    {
      "cell_type": "code",
      "source": [],
      "metadata": {
        "id": "l96c9QWf7wrN"
      },
      "execution_count": null,
      "outputs": []
    },
    {
      "cell_type": "markdown",
      "source": [
        "(2) 上記のコードセルを修正して，次のものも追加で重ねて描くようにしなさい．\n",
        "- 「`eyeX` の各要素の値に 150 を加えたもの」を X 座標の値，`eyeY` を Y 座標の値とした散布図\n",
        "- `mouthX` を X 座標の値，`mouthY` を Y 座標の値とした散布図"
      ],
      "metadata": {
        "id": "9_vWUb8I71np"
      }
    },
    {
      "cell_type": "markdown",
      "source": [
        "(3) 上記のコードセルを修正して，散布図の代わりに折れ線グラフを描くようにしなさい．"
      ],
      "metadata": {
        "id": "vK3M-wfe8Zi5"
      }
    }
  ]
}