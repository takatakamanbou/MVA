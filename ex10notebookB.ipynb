{
  "nbformat": 4,
  "nbformat_minor": 0,
  "metadata": {
    "colab": {
      "provenance": [],
      "toc_visible": true,
      "authorship_tag": "ABX9TyPn7+gOT3j7ic/Zb9GjEB9Z",
      "include_colab_link": true
    },
    "kernelspec": {
      "name": "python3",
      "display_name": "Python 3"
    },
    "language_info": {
      "name": "python"
    }
  },
  "cells": [
    {
      "cell_type": "markdown",
      "metadata": {
        "id": "view-in-github",
        "colab_type": "text"
      },
      "source": [
        "<a href=\"https://colab.research.google.com/github/takatakamanbou/MVA/blob/2022/ex10notebookB.ipynb\" target=\"_parent\"><img src=\"https://colab.research.google.com/assets/colab-badge.svg\" alt=\"Open In Colab\"/></a>"
      ]
    },
    {
      "cell_type": "markdown",
      "source": [
        "# MVA2022 ex10notebookB\n",
        "\n",
        "<img width=64 src=\"https://www-tlab.math.ryukoku.ac.jp/~takataka/course/MVA/MVA-logo10.png\"> https://www-tlab.math.ryukoku.ac.jp/wiki/?MVA/2022"
      ],
      "metadata": {
        "id": "P4preLw7SzqH"
      }
    },
    {
      "cell_type": "code",
      "metadata": {
        "id": "I226xIKJbqtM"
      },
      "source": [
        "# いつものやつ\n",
        "import numpy as np\n",
        "import pandas as pd"
      ],
      "execution_count": null,
      "outputs": []
    },
    {
      "cell_type": "code",
      "source": [
        "# scikit-learn の判別分析のためのクラスを使えるように import\n",
        "from sklearn.discriminant_analysis import LinearDiscriminantAnalysis"
      ],
      "metadata": {
        "id": "y_UwFVR_wd3X"
      },
      "execution_count": null,
      "outputs": []
    },
    {
      "cell_type": "markdown",
      "source": [
        "----\n",
        "## ライブラリを使って判別分析してみよう\n",
        "----\n"
      ],
      "metadata": {
        "id": "zDtnBWKha6vx"
      }
    },
    {
      "cell_type": "markdown",
      "source": [
        "notebookA の方に載せた判別分析の実験のプログラムは，notebook で説明している判別分析の計算式を，Python の数値計算ライブラリである NumPy を使って実装した形のものになっています．Python + NumPy の初歩を学んだみなさんが時間をかけてじっくり読んでいけば，数式もコードも理解できるようになっていると思ってはいますが，いささか複雑です．\n",
        "\n",
        "ここでは，少々楽をしたい＆便利なライブラリを使ってみる経験も大事だろう，ということで，Python + NumPy に加えてscikit-learn という機械学習ライブラリも利用し，お手軽に（？）判別分析してみることにします．\n",
        "\n",
        "- https://scikit-learn.org/\n",
        "- [sklearn.discriminant_analysis.LinearDiscriminantAnalysis](https://scikit-learn.org/stable/modules/generated/sklearn.discriminant_analysis.LinearDiscriminantAnalysis.html)\n",
        "- [Linear and Quadratic Discriminant Analysis with covariance ellipsoid](https://scikit-learn.org/stable/auto_examples/classification/plot_lda_qda.html)"
      ],
      "metadata": {
        "id": "WDLXrYLmrNy6"
      }
    },
    {
      "cell_type": "markdown",
      "source": [
        "notebookA でも使っている「人間」vs「ほげ星人」のデータを使って，scikit-learn を使った判別分析のやり方を説明します．"
      ],
      "metadata": {
        "id": "Qt_sp5_v07Ef"
      }
    },
    {
      "cell_type": "markdown",
      "source": [
        "まずはデータの準備．"
      ],
      "metadata": {
        "id": "PLpcVO3S1GKC"
      }
    },
    {
      "cell_type": "code",
      "source": [
        "# 人間 vs ほげ星人\n",
        "URL = 'https://www-tlab.math.ryukoku.ac.jp/~takataka/course/MVA/humanvshoge.csv'\n",
        "dfHoge = pd.read_csv(URL)\n",
        "dfHoge"
      ],
      "metadata": {
        "id": "PDPDqEbWvJ_T"
      },
      "execution_count": null,
      "outputs": []
    },
    {
      "cell_type": "markdown",
      "source": [
        "読み込んだデータから，(身長,体重)の値を格納した np.array を作ります．notebookA の方では `X_Human` と `X_Hoge` のようにクラスごとに配列を分けていましたが，ここでは一つの配列 `X` にまとめて格納しています．"
      ],
      "metadata": {
        "id": "4VXYr5_f1LGy"
      }
    },
    {
      "cell_type": "code",
      "source": [
        "# dfHoge の Height 列と Weight 列を抜き出した np.array\n",
        "X = dfHoge[['Height', 'Weight']].to_numpy()\n",
        "N, D = X.shape\n",
        "print(X[:5, :])\n",
        "print(f'N = {N}, D = {D}')"
      ],
      "metadata": {
        "id": "8Cykr8YwvRKc"
      },
      "execution_count": null,
      "outputs": []
    },
    {
      "cell_type": "markdown",
      "source": [
        "次に，`X` の行数（データの数）と同じ要素数をもつ，0 か 1 が格納された np.array を作ります．`X[n, :]` が「人間」クラスなら `Y[n]` は 1 で，「ほげ星人」クラスなら 0 とします．"
      ],
      "metadata": {
        "id": "DC8OihOf1yts"
      }
    },
    {
      "cell_type": "code",
      "source": [
        "#dfHoge の Class 列を使って，Human なら 1，Hoge なら 0 とした np.array\n",
        "b = dfHoge['Class'] == 'Human'  # b は，True/False を値にもつ\n",
        "Y = b.to_numpy(dtype=int)       # こうすると，True => 1, False => 0 とした int の np.array が得られる\n",
        "print(Y)"
      ],
      "metadata": {
        "id": "QstqH294vz7x"
      },
      "execution_count": null,
      "outputs": []
    },
    {
      "cell_type": "markdown",
      "source": [
        "データの準備はこれでokです．ここからは，scikit-learn を使ってこれらのデータの判別分析を実行します．"
      ],
      "metadata": {
        "id": "gf-Ldcml2cfH"
      }
    },
    {
      "cell_type": "markdown",
      "source": [
        "以下の `LinearDiscriminantAnalysis` というのは，scikit-learn に用意された，判別分析のための「クラス」です．ただし，ここで言うクラスは，判別分析の話に出てきた「クラス」とは全くの別物の，「オブジェクト指向プログラミング」におけるクラスのことです．この授業の対象外の話ですので，ここでは詳しい解説はしませんし理解も求めません（注）．コードに付されたコメントを読んでなんとなく分かった気になればokです．\n",
        "\n",
        "<span style=\"font-size: 75%\">\n",
        "※注: 数理のひとは，3年次の「オブジェクト指向及び実習」で学べます（Java言語のプログラミングを学びます）．「オブジェクト指向」はプログラミングの世界では非常に重要な概念ですので，ぜひ受講してください．\n",
        "</span>\n"
      ],
      "metadata": {
        "id": "HibHe3922qSZ"
      }
    },
    {
      "cell_type": "markdown",
      "source": [
        "- [sklearn.discriminant_analysis.LinearDiscriminantAnalysis](https://scikit-learn.org/stable/modules/generated/sklearn.discriminant_analysis.LinearDiscriminantAnalysis.html)\n",
        "- [Linear and Quadratic Discriminant Analysis with covariance ellipsoid](https://scikit-learn.org/stable/auto_examples/classification/plot_lda_qda.html)"
      ],
      "metadata": {
        "id": "H6wPsOJVFcUT"
      }
    },
    {
      "cell_type": "code",
      "source": [
        "# 線形判別分析(Linear Discriminant Analysis)のためのクラスのオブジェクトを生成\n",
        "lda = LinearDiscriminantAnalysis(store_covariance=True)\n",
        "\n",
        "# 変数 lda は LinearDiscriminantAnalysis クラスの一つのオブジェクト\n",
        "#    個々のオブジェクトは，変数（以下の lda.means_ など）や\n",
        "#    メソッド（関数みたいなもの，以下の lda.fit() がそれ）をもつ\n",
        "#    これらの変数やメソッドは，オブジェクトごとに用意される．このクラスのオブジェクトが\n",
        "#    lda1, lda2 の二つあったとき，lda1.means_ と lda2.means_ は別物．\n",
        "#    lda1.fit() は lda1 に作用し，lda2.fit() は lda2 に作用する\n",
        "\n",
        "# X, Y を引数として fit メソッドを呼び，パラメータ（クラスごとの平均や分散など）を推定\n",
        "lda.fit(X, Y)\n",
        "\n",
        "# 推定された平均値を表示\n",
        "print(lda.means_)\n",
        "\n",
        "# 推定された分散共分散行列を表示\n",
        "print(lda.covariance_)"
      ],
      "metadata": {
        "id": "-GO35zW6wfWG"
      },
      "execution_count": null,
      "outputs": []
    },
    {
      "cell_type": "markdown",
      "source": [
        "notebookA の実験と同じ平均や分散共分散行列が得られていることを確認しましょう．\n",
        "\n",
        "これでパラメータの推定ができたので，それらを使って，与えられたデータのクラスを予測させてみましょう．"
      ],
      "metadata": {
        "id": "Kx_0DWP75udx"
      }
    },
    {
      "cell_type": "code",
      "source": [
        "# 判別関数の値を求める\n",
        "Z  = lda.decision_function(X)\n",
        "print(f'Z.shape = {Z.shape}')\n",
        "\n",
        "# クラスを予測させる\n",
        "Yt = lda.predict(X)\n",
        "print(f'Yt.shape = {Yt.shape}')\n",
        "\n",
        "# データ中の最初の5人の結果を表示\n",
        "for n in range(5):\n",
        "    # 結果の表示\n",
        "    print(f'X[{n},:] = {X[n, :]}, Y[{n}] = {Y[n]}, Z[{n}] = {Z[n]: .2f}, Yt[{n}] = {Yt[n]}')"
      ],
      "metadata": {
        "id": "By0LUO0exKMy"
      },
      "execution_count": null,
      "outputs": []
    },
    {
      "cell_type": "markdown",
      "source": [
        "上記の出力に記された `X`, `Y` 等の変数が何を表しているかは，コード中のコメントから分かるはずです．ここに出力されている5人は，すべて正解しているようです．\n",
        "\n",
        "では，与えられたデータのうちいくつ正解しているのかカウントしてみましょう．"
      ],
      "metadata": {
        "id": "L7mV4lVd5_Ly"
      }
    },
    {
      "cell_type": "code",
      "source": [
        "# 与えられたデータのうちいくつ正解したかカウント\n",
        "cnt = np.sum(Y == Yt)\n",
        "print(f'正解数/データ数 = {cnt}/{N}')"
      ],
      "metadata": {
        "id": "b0EG0zvA0ewu"
      },
      "execution_count": null,
      "outputs": []
    },
    {
      "cell_type": "markdown",
      "source": [
        "`Y == Yt` は bool 型で shape が `Y` や `Yt` と等しい np.array となります．その `n` 番目の要素は，`Y[n] == Yt[n]` だったら `True`，さもなくば `False` になります．そして，bool型の np.array を np.sum に渡すと，`True`/`False` を 1/0 として和を計算してくれます．"
      ],
      "metadata": {
        "id": "4Gujso2WnKER"
      }
    },
    {
      "cell_type": "markdown",
      "source": [
        "正解数を見ると，全部正しく判別できていることがわかります．このデータでは全て正解しましたが，他のデータではこうなるとは限りません．\n",
        "\n",
        "次に，クラスが未知の新しいデータを用意して，それらのクラスを推定させてみましょう．"
      ],
      "metadata": {
        "id": "QUjkxkou6WvF"
      }
    },
    {
      "cell_type": "code",
      "source": [
        "# 未知のデータ\n",
        "XX = np.array([[150,  60],\n",
        "               [150, 100],\n",
        "               [180, 145],\n",
        "               [180, 146]])\n",
        "\n",
        "ZZ  = lda.decision_function(XX)\n",
        "YYt = lda.predict(XX)\n",
        "\n",
        "for n in range(len(XX)):\n",
        "    print(f'XX[{n},:] = {XX[n, :]}, ZZ[{n}] = {ZZ[n]: .2f}, YYt[{n}] = {YYt[n]}')"
      ],
      "metadata": {
        "id": "tsPxZJ9rykEe"
      },
      "execution_count": null,
      "outputs": []
    },
    {
      "cell_type": "markdown",
      "source": [
        "`XX` として与えたデータは，notebookA で使っていたのを同じものです．同じ結果が得られていることを確認しましょう．"
      ],
      "metadata": {
        "id": "0jQkXaCAyiuK"
      }
    }
  ]
}