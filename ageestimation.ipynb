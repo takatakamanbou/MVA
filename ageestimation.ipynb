{
  "nbformat": 4,
  "nbformat_minor": 0,
  "metadata": {
    "colab": {
      "provenance": [],
      "collapsed_sections": [],
      "toc_visible": true,
      "authorship_tag": "ABX9TyMTUU72s1lusZ7L3QRMds52",
      "include_colab_link": true
    },
    "kernelspec": {
      "name": "python3",
      "display_name": "Python 3"
    },
    "language_info": {
      "name": "python"
    }
  },
  "cells": [
    {
      "cell_type": "markdown",
      "metadata": {
        "id": "view-in-github",
        "colab_type": "text"
      },
      "source": [
        "<a href=\"https://colab.research.google.com/github/takatakamanbou/MVA/blob/2022/ageestimation.ipynb\" target=\"_parent\"><img src=\"https://colab.research.google.com/assets/colab-badge.svg\" alt=\"Open In Colab\"/></a>"
      ]
    },
    {
      "cell_type": "markdown",
      "source": [
        "# 重回帰分析の応用: 顔画像からの年齡推定\n",
        "\n"
      ],
      "metadata": {
        "id": "P4preLw7SzqH"
      }
    },
    {
      "cell_type": "markdown",
      "source": [
        "## はじめに\n",
        "\n",
        "重回帰分析の応用例として，顔画像からそこに写った人物の年齡を推定するデモを作ってみました．\n",
        "推定精度は高くありませんが，こんなところでも多変量解析手法が使えるよ，ということが伝わればいいな．\n",
        "ちなみに，推定精度を高めたければ，もっと複雑なモデルを使うことになります．\n",
        "「機械学習I,II」で学べるかも．\n",
        "\n",
        "人の顔が中央に大きく写った幅64画素高さ64画素の3チャンネルカラー画像 38,138 枚があります．\n",
        "これらの画像に写った人物の年齡を表す整数値も与えられています．\n",
        "このとき，一つの画像の画素値を1列にならべて $64\\times 64\\times 3 = 12288$ 次元ベクトルとみなせば，そこから年齡を予測する問題を重回帰分析の問題として定式化できます．\n",
        "\n",
        "ひとつの顔に対応する $12288$ 次元ベクトルに $1$ を付け足した $12289$ 次元ベクトルを $\\mathbf{x}$ とおき，そのひとの年齡を $y$ とおくとき，\n",
        "\n",
        "$$\n",
        "\\mathbf{y} \\approx \\mathbf{w}^{\\top}\\cdot\\mathbf{x}\n",
        "$$\n",
        "\n",
        "となるような $(D+1)$次元ベクトル $\\mathbf{w}$ を最小二乗法によって求める，というわけです（実際には，データの次元数が大きすぎるので，主成分分析を利用した次元削減も併用しています．詳しくはこの notebook の後の方に書いてます）．\n",
        "\n",
        "この notebook では，上記の設定で既に学習済みの $\\mathbf{w}$ を用いて，適当な画像 $\\mathbf{x}$ を与えて年齡推定をさせてみます．\n"
      ],
      "metadata": {
        "id": "udr_9OQzR2d_"
      }
    },
    {
      "cell_type": "markdown",
      "source": [
        "## 準備"
      ],
      "metadata": {
        "id": "6qnegh5zVlHh"
      }
    },
    {
      "cell_type": "code",
      "metadata": {
        "id": "I226xIKJbqtM"
      },
      "source": [
        "# 必要なパッケージのインポート\n",
        "import numpy as np\n",
        "import cv2  # Python による「コンピュータビジョン(Computer Vision)」のためのライブラリ OpenCV のパッケージをインポート\n",
        "\n",
        "# 顔検出器の準備\n",
        "faceCascade = cv2.CascadeClassifier(cv2.data.haarcascades + 'haarcascade_frontalface_default.xml')"
      ],
      "execution_count": null,
      "outputs": []
    },
    {
      "cell_type": "markdown",
      "source": [
        "次の3つのセルではあとで使う関数を定義しています．これらのセルを実行しただけでは何も起こりませんが，あらかじめ実行して関数を定義しておかないと後のセルが動きません．"
      ],
      "metadata": {
        "id": "Mb_MCcgrV6Hi"
      }
    },
    {
      "cell_type": "code",
      "source": [
        "# Colab へのファイルアップロードを実行する関数\n",
        "#\n",
        "def uploadToColab():\n",
        "    try:\n",
        "        from google.colab import files\n",
        "        rv = files.upload()\n",
        "    except:\n",
        "        print('このコードは Colab 以外の環境では実行できないよ．')\n"
      ],
      "metadata": {
        "id": "yaET5ayh2QHJ"
      },
      "execution_count": null,
      "outputs": []
    },
    {
      "cell_type": "code",
      "source": [
        "# OpenCVの形式の画像を表示する関数\n",
        "#\n",
        "def imshow(img):\n",
        "    try:\n",
        "        from google.colab.patches import cv2_imshow\n",
        "        cv2_imshow(img) # Colab上で実行している場合\n",
        "    except:\n",
        "        cv2.imshow(img)  # それ以外の場合"
      ],
      "metadata": {
        "id": "5MrCNq0P2Oat"
      },
      "execution_count": null,
      "outputs": []
    },
    {
      "cell_type": "code",
      "source": [
        "# 与えられた画像の中から顔を検出する\n",
        "#\n",
        "def faceDetector(img, faceCascade, maxSize=400):\n",
        "\n",
        "    h, w = img.shape[:2]\n",
        "\n",
        "    # (短辺の長さ) <= maxSize にリサイズ\n",
        "    if min(w, h) > maxSize:\n",
        "        if w <= h:\n",
        "            w2, h2 = maxSize, h*maxSize//w\n",
        "        else:\n",
        "            w2, h2 = w*maxSize//h, maxSize\n",
        "        imgDisp = cv2.resize(img, (w2, h2))\n",
        "    else:\n",
        "        imgDisp = np.copy(img)\n",
        "\n",
        "    # 顔検出を実行\n",
        "    imgGray = cv2.cvtColor(imgDisp, cv2.COLOR_BGR2GRAY)\n",
        "    faces = faceCascade.detectMultiScale(imgGray, 1.1, 4)\n",
        "    nFace = len(faces)\n",
        "\n",
        "    # 検出した顔のうち最初のひとりを選んで切り取り\n",
        "    if nFace > 0:\n",
        "        print(faces)\n",
        "        x, y, ww, hh = faces[0]\n",
        "        imgFace = np.copy(imgDisp[y:y+hh, x:x+ww, :])\n",
        "        cv2.rectangle(imgDisp, (x, y), (x+ww, y+hh), color=(0, 255, 0), thickness=2)\n",
        "        return nFace, imgDisp, imgFace\n",
        "    else:\n",
        "        return nFace, imgDisp, None\n"
      ],
      "metadata": {
        "id": "4FKC12T0Wt6K"
      },
      "execution_count": null,
      "outputs": []
    },
    {
      "cell_type": "markdown",
      "source": [
        "$\\mathbf{w}$ などのパラメータを読み込みます．"
      ],
      "metadata": {
        "id": "FZ5QS0bqZkNS"
      }
    },
    {
      "cell_type": "code",
      "source": [
        "# takataka のウェブサイトからパラメータを格納したファイルを Colab へダウンロード\n",
        "! wget -nc https://www-tlab.math.ryukoku.ac.jp/~takataka/course/MVA/ageestimation.npz\n",
        "\n",
        "import os\n",
        "path = 'ageestimation.npz'\n",
        "if os.path.exists(path):\n",
        "    # パラメータを読み込む\n",
        "    params = np.load(path)\n",
        "    print(f'ファイル {path} を読み込みました')\n",
        "    Xm  = params['Xm']  # 平均ベクトル\n",
        "    eve = params['eve'] # 主成分分析で得られた固有ベクトル\n",
        "    w   = params['w']   # 重回帰分析で得られたパラメータ\n",
        "    print(Xm.shape, eve.shape, w.shape)\n",
        "else:\n",
        "    print(f'ファイル {path} の読み込みに失敗したようです．再実行してみてください')"
      ],
      "metadata": {
        "id": "XrD7wPFtZsba"
      },
      "execution_count": null,
      "outputs": []
    },
    {
      "cell_type": "markdown",
      "source": [
        "## 実験"
      ],
      "metadata": {
        "id": "Q8mhpECrY7K2"
      }
    },
    {
      "cell_type": "markdown",
      "source": [
        "(1) 画像を Colab へアップロードします．次のような画像にしてください\n",
        "\n",
        "- ひとりのひとのほぼ正面を向いた顔全体が写ってる．複数人を検出した場合，ひとりだけ抜き出します（あとで条件に合わない画像をわざと与えて実験してみるのもよいでしょう）．\n",
        "- 画像全体に顔がドアップで写っているような場合はうまく顔検出ができないかもしれません．顔がもう少し小さく写ってる画像を探してみましょう．\n",
        "- ファイル名に空白やマルチバイト文字（日本語など）が含まれているとうまく動作しない場合があるので，自分のPCの方で適当な名前に変えておく（拡張子は変えてはいけない）．\n"
      ],
      "metadata": {
        "id": "GzHAoBgibuy_"
      }
    },
    {
      "cell_type": "code",
      "source": [
        "# Colab へファイルをアップロード\n",
        "uploadToColab()\n",
        "\n",
        "# ls コマンドでファイルを一覧\n",
        "! ls"
      ],
      "metadata": {
        "id": "8HMx-FEJY8Bh"
      },
      "execution_count": null,
      "outputs": []
    },
    {
      "cell_type": "markdown",
      "source": [
        "上のセルを実行してファイルをアップロードできたら，次のセルのファイル名の部分にその名前を指定して，読み込ませましょう．"
      ],
      "metadata": {
        "id": "bd_gfEt5c8Ss"
      }
    },
    {
      "cell_type": "code",
      "source": [
        "# 画像を読み込む．`hoge.jpg` を自分がアップロードしたファイルの名前に修正\n",
        "img = cv2.imread('hoge.jpg')"
      ],
      "metadata": {
        "id": "DANLcHx5cl-G"
      },
      "execution_count": null,
      "outputs": []
    },
    {
      "cell_type": "markdown",
      "source": [
        "(2) 顔検出を実行して顔領域を切り取った画像を作る"
      ],
      "metadata": {
        "id": "7ggTCs3sdxjN"
      }
    },
    {
      "cell_type": "code",
      "source": [
        "numFace, imgDisp, imgFace = faceDetector(img, faceCascade, maxSize=400)\n",
        "if numFace > 0:\n",
        "    imshow(imgDisp)\n",
        "    imshow(imgFace)\n",
        "else:\n",
        "    imshow(imgDisp)\n",
        "    print('顔を検出できませんでした')"
      ],
      "metadata": {
        "id": "GOdtTrsNdwWl"
      },
      "execution_count": null,
      "outputs": []
    },
    {
      "cell_type": "markdown",
      "source": [
        "(3) 顔を所定の大きさにリサイズしてから次元削減し，年齡推定を実行．"
      ],
      "metadata": {
        "id": "U5-5lzO3exb9"
      }
    },
    {
      "cell_type": "code",
      "source": [
        "# 顔画像を 64 x 64 にリサイズして 12288次元ベクトルに\n",
        "xvec = cv2.resize(imgFace, (64, 64)).reshape(-1)\n",
        "print(xvec.shape)\n",
        "\n",
        "# PCAを利用した次元削減\n",
        "yvec = (xvec - Xm) @ U\n",
        "print(yvec.shape)\n",
        "\n",
        "# 予測値の計算\n",
        "yvec1 = np.concatenate(([1], yvec)) # 先頭に 1 をくっつける\n",
        "z = w @ yvec1\n",
        "\n",
        "# 結果の表示\n",
        "print(f'このひとの年齡の推定値は {z:.1f} です')"
      ],
      "metadata": {
        "id": "MBsghH-QeP0L"
      },
      "execution_count": null,
      "outputs": []
    },
    {
      "cell_type": "markdown",
      "source": [
        "## 解説"
      ],
      "metadata": {
        "id": "5qyXn1jghgyi"
      }
    },
    {
      "cell_type": "markdown",
      "source": [
        "この年齡推定の仕組みは，次のようにして作りました．\n",
        "\n",
        "(1) [IMDB-WIKI dataset](https://data.vision.ee.ethz.ch/cvl/rrothe/imdb-wiki/) という研究用画像データセットの中に，Wikipedia から集めた顔画像とその性別，生年月日，撮影年などが含まれたデータ（画像 62,328枚）があったので，これを利用．\n",
        "\n",
        "(2) 生年月日と撮影年から年齡を算出．顔がちゃんと写ってなかったり年齡の推定値がおかしかったりするデータを削除．顔の領域のみを抜き出す．得られた画像は 38138 枚．この前処理の部分では，こちらのサイトを参考にさせてもらいました：\n",
        "[顔画像から年齢・性別を推定するためのデータセットIMDB-WIKI](https://qiita.com/yu4u/items/a2410f46669c5f20ee8e)"
      ],
      "metadata": {
        "id": "ziXmznu4h4wB"
      }
    },
    {
      "cell_type": "markdown",
      "source": [
        "(3) 得られた画像を $64\\times 64$ に縮小してデータ行列 `X` を作成．\n",
        "`X.shape` は `(38138, 12288)`．"
      ],
      "metadata": {
        "id": "mGKKh8J3j9vc"
      }
    },
    {
      "cell_type": "markdown",
      "source": [
        "(4) `X` の平均を求めてこれを `X` から引き，特異値分解経由で主成分分析のための固有値・固有ベクトルを算出．次のスペックの Mac で `np.linalg.svd` の実行に23分．\n",
        "- CPU: Apple M1 Pro \n",
        "- メモリ: 32GB"
      ],
      "metadata": {
        "id": "FXR-Wg_0kmcr"
      }
    },
    {
      "cell_type": "markdown",
      "source": [
        "(5) 累積寄与率を調べると，2151次元ではじめて99%を超えていたので，2151次元に次元削減した．"
      ],
      "metadata": {
        "id": "78jGaFvClAnp"
      }
    },
    {
      "cell_type": "markdown",
      "source": [
        "(6) そのデータを用いて最小二乗法の解を計算．上記の Mac で `np.linalg.lsesq` の実行に 28 秒．"
      ],
      "metadata": {
        "id": "418_rDV4lYXy"
      }
    },
    {
      "cell_type": "markdown",
      "source": [
        "(7) `X` の平均（12288次元），固有ベクトル（12288x2151），重回帰のパラメータ（2152次元）をファイルに保存．"
      ],
      "metadata": {
        "id": "b8lu3PXOlwzX"
      }
    },
    {
      "cell_type": "code",
      "source": [],
      "metadata": {
        "id": "ptfMY6UigZdB"
      },
      "execution_count": null,
      "outputs": []
    }
  ]
}