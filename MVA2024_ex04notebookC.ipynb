{
  "nbformat": 4,
  "nbformat_minor": 0,
  "metadata": {
    "colab": {
      "provenance": [],
      "toc_visible": true,
      "authorship_tag": "ABX9TyPj28Aqc5+3fVoME+tjunaT",
      "include_colab_link": true
    },
    "kernelspec": {
      "name": "python3",
      "display_name": "Python 3"
    },
    "language_info": {
      "name": "python"
    }
  },
  "cells": [
    {
      "cell_type": "markdown",
      "metadata": {
        "id": "view-in-github",
        "colab_type": "text"
      },
      "source": [
        "<a href=\"https://colab.research.google.com/github/takatakamanbou/MVA/blob/main/MVA2024_ex04notebookC.ipynb\" target=\"_parent\"><img src=\"https://colab.research.google.com/assets/colab-badge.svg\" alt=\"Open In Colab\"/></a>"
      ]
    },
    {
      "cell_type": "markdown",
      "source": [
        "# MVA2024 ex04notebookC\n",
        "\n",
        "<img width=64 src=\"https://www-tlab.math.ryukoku.ac.jp/~takataka/course/MVA/MVA-logo.png\"> https://www-tlab.math.ryukoku.ac.jp/wiki/?MVA/2024"
      ],
      "metadata": {
        "id": "P4preLw7SzqH"
      }
    },
    {
      "cell_type": "markdown",
      "source": [
        "----\n",
        "## 演習課題\n",
        "\n"
      ],
      "metadata": {
        "id": "zDtnBWKha6vx"
      }
    },
    {
      "cell_type": "markdown",
      "metadata": {
        "id": "weuyu8H6bqtL"
      },
      "source": [
        "### 準備\n",
        "\n"
      ]
    },
    {
      "cell_type": "markdown",
      "source": [
        "#### import\n",
        "\n"
      ],
      "metadata": {
        "id": "EiRM0QXa5z6D"
      }
    },
    {
      "cell_type": "code",
      "metadata": {
        "id": "I226xIKJbqtM"
      },
      "source": [
        "# 必要なパッケージのインポート\n",
        "import pandas as pd\n",
        "import numpy as np\n",
        "import statsmodels.api as sm"
      ],
      "execution_count": null,
      "outputs": []
    },
    {
      "cell_type": "markdown",
      "source": [
        "#### データの入手\n",
        "\n",
        "\n"
      ],
      "metadata": {
        "id": "bXPrFBHeogbD"
      }
    },
    {
      "cell_type": "markdown",
      "source": [
        "次のコードセルを実行すると，高校生の体力測定のデータを読み込みます．\n",
        "実行して結果を観察しよう．\n",
        "\n",
        "※データの説明: ここで使うのは，「科学の道具箱」というウェブサイト（現在は公開停止）で提供されていたものを高橋が加工したデータです．"
      ],
      "metadata": {
        "id": "g2YZUMJbUUHT"
      }
    },
    {
      "cell_type": "code",
      "source": [
        "# データを読み込む\n",
        "dfRawData = pd.read_csv('https://www-tlab.math.ryukoku.ac.jp/~takataka/course/MVA/HighSchoolPhysicalFitnessMeasurement.csv')\n",
        "dfRawData"
      ],
      "metadata": {
        "id": "a9yX10I79mf-"
      },
      "execution_count": null,
      "outputs": []
    },
    {
      "cell_type": "markdown",
      "source": [
        "上のセルを実行すると，表示のような内容のデータが，`dfRawData` という変数に格納されます．この変数には，Python のデータ分析ライブラリである Pandas (https://https://pandas.pydata.org/)の DataFrame という形式でデータが格納されています．\n",
        "\n",
        "ex04notebookB では DataFrame を Numpy array に変換してから statsmodel で回帰分析を行いましたが，ここでは DaraFrame のまま分析してみます．\n",
        "Pandas や DataFrame についての理解は求めません．コードに付記したコメント等を参考に，大筋で何をやっているか分かればokです．\n",
        "\n"
      ],
      "metadata": {
        "id": "r7_medxoA3Za"
      }
    },
    {
      "cell_type": "markdown",
      "source": [
        "`dfRawData` から「学年」「性別」を除いたものを `dfData` という変数に格納しておきます．"
      ],
      "metadata": {
        "id": "CH-_tjApC4IK"
      }
    },
    {
      "cell_type": "code",
      "source": [
        "dfData = dfRawData.drop(columns=['学年', '性別'])\n",
        "dfData"
      ],
      "metadata": {
        "id": "XA228aE0l-bf"
      },
      "execution_count": null,
      "outputs": []
    },
    {
      "cell_type": "markdown",
      "source": [
        "以下では，「ハンドボール投げ」の値をそれ以外の値から予測する重回帰分析の問題を考えます．\n"
      ],
      "metadata": {
        "id": "Eo5QIVOHEIMU"
      }
    },
    {
      "cell_type": "markdown",
      "source": [
        "### Step1\n",
        "\n",
        "statsmodel を使い，「身長[cm]」等の全ての変数を説明変数，「ハンドボール投げ[m]」を被説明変数とする重回帰分析をやってみましょう．\n"
      ],
      "metadata": {
        "id": "P6T3k1MvSj71"
      }
    },
    {
      "cell_type": "markdown",
      "source": [
        "次のセルの変数 `XX`, `X1`, `Y` の役割・意味は，ex04notebookB の同様のコードと同じです．\n",
        "実行結果を見て，説明変数がいくつあるか，データが何件あるかを確認し，メモしておきなさい．"
      ],
      "metadata": {
        "id": "25eLc9AgFO2T"
      }
    },
    {
      "cell_type": "code",
      "source": [
        "XX = dfData.drop(columns=['ハンドボール投げ[m]'])\n",
        "print(XX.shape)\n",
        "X1 = sm.add_constant(XX)\n",
        "print(X1.shape)\n",
        "Y = dfData['ハンドボール投げ[m]']\n",
        "print(Y.shape)"
      ],
      "metadata": {
        "id": "dntXVP--EYae"
      },
      "execution_count": null,
      "outputs": []
    },
    {
      "cell_type": "markdown",
      "source": [
        "次のセルに，sm.OLS を呼んでモデルを作る → モデルのパラメータ（回帰係数）を推定する → 得られた結果の summary を print する，という処理を行うコードを書きなさい．"
      ],
      "metadata": {
        "id": "WT3pwaJu-vi3"
      }
    },
    {
      "cell_type": "code",
      "source": [],
      "metadata": {
        "id": "6q-s1DDBSjLW"
      },
      "execution_count": null,
      "outputs": []
    },
    {
      "cell_type": "markdown",
      "source": [
        "得られた結果を見ると，有意水準 0.05 では「回帰係数の値が 0 に等しい」という帰無仮説を棄却できない，つまり，その回帰係数に対応する説明変数が被説明変数の変動に影響を与えると言えないものが2つあることが分かります．\n",
        "その2つの変数の名前をメモしておきなさい．"
      ],
      "metadata": {
        "id": "RCbqonUnGuGE"
      }
    },
    {
      "cell_type": "markdown",
      "source": [
        "### Step2\n",
        "\n",
        "Step1 ではデータに含まれる全ての変数を用いましたが，「ハンドボール投げ」の値の予測にはあまり有効でなさそうな変数が2つあるようです．ここでは，その2つの変数を除いてもう一度重回帰分析をやり直してみましょう（注）．\n",
        "\n",
        "※注意: 本当は，ex04notebookB で実験したように，それぞれの説明変数を個別にモデルに含めたり除いたりして何度も回帰分析を行い，自由度調整済み決定係数の値を見て適切なモデルを選択する方がよいです．\n",
        "しかし，ここで用いるデータは変数の数が多く，作業が大変になりますので，このような簡易的な方法をとることにします．"
      ],
      "metadata": {
        "id": "UhUsS5hPVGwo"
      }
    },
    {
      "cell_type": "markdown",
      "source": [
        "次のセルを実行すると，`dfData` からいくつかの変数を除いたものを `XX` という変数に代入します．これを修正して，`dfData` から，「ハンドボール投げ」，および，Step1 で分かった「ハンドボール投げ」の変動に影響を与えなさそうな変数2つを除いたものが `XX` に代入されるようにしなさい．"
      ],
      "metadata": {
        "id": "RAp42ttnKPaA"
      }
    },
    {
      "cell_type": "code",
      "source": [
        "XX = dfData.drop(columns=['上体起こし[cm]', '長座体前屈[cm]', '反復横跳び[点]', 'ハンドボール投げ[m]'])\n",
        "XX"
      ],
      "metadata": {
        "id": "AwETrwAmuO9l"
      },
      "execution_count": null,
      "outputs": []
    },
    {
      "cell_type": "markdown",
      "source": [
        "次のセルに，上で得られた `XX` を用いて回帰分析を行い，summary を print するコードを書きなさい．"
      ],
      "metadata": {
        "id": "rTXN09GDuw5L"
      }
    },
    {
      "cell_type": "code",
      "source": [],
      "metadata": {
        "id": "g0QmaQH7uwAx"
      },
      "execution_count": null,
      "outputs": []
    },
    {
      "cell_type": "markdown",
      "source": [
        "次の問に対する答えをメモしておきなさい．\n",
        "\n",
        "- このモデルの説明変数の数はいくつか\n",
        "- それらの説明変数のうち，その値が大きくなると被説明変数の値が小さくなると考えられるものはどれか\n",
        "- 「50m走[s]」以外の変数の値は全く同じ二人がいたとする．このとき，50m走が速いひとと遅いひとでは，どちらの方がハンドボール投げの値が大きいと考えられるか\n",
        "- 「体重が10[kg]増える」のと「握力が10[kg]強くなる」のでは，どちらの方が「ハンドボール投げ」の飛距離が伸びると考えられるか\n"
      ],
      "metadata": {
        "id": "Ytg6GtODLcUl"
      }
    },
    {
      "cell_type": "markdown",
      "source": [
        "### 余談だよん＋発展"
      ],
      "metadata": {
        "id": "n4_qjyq2NFlN"
      }
    },
    {
      "cell_type": "markdown",
      "source": [
        "#### 変数のペアプロット"
      ],
      "metadata": {
        "id": "O8VbOWZsNSyt"
      }
    },
    {
      "cell_type": "markdown",
      "source": [
        "ここでは，データからすべての2つの変数のペアを取り出して，その散布図を描いてみます．"
      ],
      "metadata": {
        "id": "zdyj7uDsOd1q"
      }
    },
    {
      "cell_type": "code",
      "source": [
        "import pandas as pd\n",
        "import numpy as np\n",
        "import statsmodels.api as sm\n",
        "\n",
        "# グラフの描画のために\n",
        "import matplotlib.pyplot as plt\n",
        "import seaborn\n",
        "seaborn.set()\n",
        "\n",
        "# matplotlib のグラフに日本語を表示できるようにするためのパッケージを追加でインストール\n",
        "!pip install matplotlib_fontja\n",
        "# それを import\n",
        "import matplotlib_fontja"
      ],
      "metadata": {
        "id": "lGyQBY0nbjTm"
      },
      "execution_count": null,
      "outputs": []
    },
    {
      "cell_type": "code",
      "source": [
        "# データを読み込む\n",
        "dfRawData = pd.read_csv('https://www-tlab.math.ryukoku.ac.jp/~takataka/course/MVA/HighSchoolPhysicalFitnessMeasurement.csv')\n",
        "# 「学年」「性別」を除いたものを dfData とする\n",
        "dfData = dfRawData.drop(columns=['学年', '性別'])\n",
        "dfData"
      ],
      "metadata": {
        "id": "sgPWqNXdN3yT"
      },
      "execution_count": null,
      "outputs": []
    },
    {
      "cell_type": "code",
      "source": [
        "# dfData のペアプロットを描く（すこし時間がかかります）\n",
        "seaborn.pairplot(dfData, corner=True)"
      ],
      "metadata": {
        "id": "OTN21f3WODpm"
      },
      "execution_count": null,
      "outputs": []
    },
    {
      "cell_type": "markdown",
      "source": [
        "このような図は「ペアプロット」と呼ばれます．ペアプロットを描いて観察することは，データに多重共線性があるかどうかの簡易的なチェックになります．\n"
      ],
      "metadata": {
        "id": "Oj-rNF3LPDy1"
      }
    },
    {
      "cell_type": "markdown",
      "source": [
        "#### 標準化したデータで重回帰分析"
      ],
      "metadata": {
        "id": "efTNyNCnPkGl"
      }
    },
    {
      "cell_type": "markdown",
      "source": [
        "次のセルを実行すると，`dfData` の各列の平均を 0 に，標準偏差を 1 にしたものが `dfData2` に格納されます．"
      ],
      "metadata": {
        "id": "HRSd_Ik1QqhF"
      }
    },
    {
      "cell_type": "code",
      "source": [
        "# 列ごとの平均\n",
        "dfData_mean = dfData.mean()\n",
        "print('##### 平均 #####')\n",
        "print(dfData_mean)\n",
        "print()\n",
        "\n",
        "# 列ごとの標準偏差\n",
        "dfData_stdv = dfData.std(ddof=0)\n",
        "print('##### 標準偏差 #####')\n",
        "print(dfData_stdv)\n",
        "\n",
        "# 標準化\n",
        "dfData2 = (dfData - dfData_mean) / dfData_stdv\n",
        "\n",
        "# 列名を変えておく\n",
        "dfData2.rename(columns={'身長[cm]':'身長',\n",
        "                       '体重[kg]':'体重',\n",
        "                       '座高[cm]':'座高',\n",
        "                       '握力[kg]':'握力',\n",
        "                       '上体起こし[cm]':'上体起こし',\n",
        "                       '長座体前屈[cm]':'長座体前屈',\n",
        "                       '反復横跳び[点]':'反復横跳び',\n",
        "                       'シャトルラン[回]':'シャトルラン',\n",
        "                       '50m走[s]':'50m走',\n",
        "                       '立ち幅跳び[cm]':'立ち幅跳び',\n",
        "                        'ハンドボール投げ[m]':'ハンドボール投げ'}, inplace=True)\n",
        "\n",
        "dfData2"
      ],
      "metadata": {
        "id": "eIWf0sQJOQh6"
      },
      "execution_count": null,
      "outputs": []
    },
    {
      "cell_type": "markdown",
      "source": [
        "次のセルに，`dfData2` を用いて Step1 と同様の重回帰分析を行うコードを書きなさい．"
      ],
      "metadata": {
        "id": "p2T4ri9sR9zr"
      }
    },
    {
      "cell_type": "code",
      "source": [],
      "metadata": {
        "id": "5b9Pqe3fQH6j"
      },
      "execution_count": null,
      "outputs": []
    },
    {
      "cell_type": "markdown",
      "source": [
        "結果を観察すると，次のようなことが分かります：\n",
        "\n",
        "Step1, 2 では次のようなメッセージが出ていたが，こちらでは出なくなった．\n",
        "```\n",
        "The condition number is large, 1.25e+04. This might indicate that there are strong multicollinearity or other numerical problems.\n",
        "```\n",
        "元データでは値の範囲が変数ごとに大きく異なっており，数値計算の誤差が大きくなりやすい状況だったが，標準化することで状況が改善されたと考えられます．ただし，数学的には同等の結果です．\n",
        "\n",
        "また，変数が標準化されているため，説明変数の値の変化が被説明変数にどのくらい大きく影響を与えるかを，きちんと把握するのが容易になります．例えば，「体重」と「握力」が $1\\sigma$ （$\\sigma$ はその変数の標準化前の標準偏差）分大きくなったときには，「ハンドボール投げ」の値はちょうど回帰係数ぶんだけ大きくなると予測されることになります．"
      ],
      "metadata": {
        "id": "ib2Tp0wxS9Va"
      }
    },
    {
      "cell_type": "code",
      "source": [],
      "metadata": {
        "id": "LHMA_ol2RRBS"
      },
      "execution_count": null,
      "outputs": []
    }
  ]
}