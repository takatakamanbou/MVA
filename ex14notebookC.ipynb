{
  "nbformat": 4,
  "nbformat_minor": 0,
  "metadata": {
    "colab": {
      "provenance": [],
      "toc_visible": true,
      "authorship_tag": "ABX9TyOEPf7FdWtU2qTJQWgHC2Hu",
      "include_colab_link": true
    },
    "kernelspec": {
      "name": "python3",
      "display_name": "Python 3"
    },
    "language_info": {
      "name": "python"
    }
  },
  "cells": [
    {
      "cell_type": "markdown",
      "metadata": {
        "id": "view-in-github",
        "colab_type": "text"
      },
      "source": [
        "<a href=\"https://colab.research.google.com/github/takatakamanbou/MVA/blob/2022/ex14notebookC.ipynb\" target=\"_parent\"><img src=\"https://colab.research.google.com/assets/colab-badge.svg\" alt=\"Open In Colab\"/></a>"
      ]
    },
    {
      "cell_type": "markdown",
      "source": [
        "# MVA2022 ex14notebookC\n",
        "\n",
        "<img width=64 src=\"https://www-tlab.math.ryukoku.ac.jp/~takataka/course/MVA/MVA-logo14.png\"> https://www-tlab.math.ryukoku.ac.jp/wiki/?MVA/2022"
      ],
      "metadata": {
        "id": "P4preLw7SzqH"
      }
    },
    {
      "cell_type": "code",
      "source": [
        "# いつものいろいろインポート\n",
        "import numpy as np\n",
        "import matplotlib.pyplot as plt\n",
        "import pandas as pd\n",
        "import seaborn\n",
        "seaborn.set()\n",
        "\n",
        "# 機械学習ライブラリ scikit-learn のいろいろ\n",
        "from sklearn.preprocessing import StandardScaler\n",
        "from sklearn.linear_model import LogisticRegression\n",
        "from sklearn.neural_network import MLPClassifier\n",
        "\n",
        "# 「1000種類の物体を識別するニューラルネットを動かしてみよう」のためのほげ\n",
        "import pickle\n",
        "import torch\n",
        "from torchvision import models, transforms\n",
        "from PIL import Image\n",
        "import json"
      ],
      "metadata": {
        "id": "9HCsHgFjR6jo"
      },
      "execution_count": null,
      "outputs": []
    },
    {
      "cell_type": "markdown",
      "source": [
        "---\n",
        "## 機械学習のデモ\n",
        "---\n",
        "\n",
        "この授業で学んだ内容の延長上には様々な話がありますが，ここでは，その一つの方向である **機械学習** についてのデモを実行してみましょう．\n",
        "機械学習については，3年1Q,2Qの「機械学習I/II」で学ぶことができます．\n",
        "\n",
        "「機械学習I/II」のページ https://www-tlab.math.ryukoku.ac.jp/wiki/?ML\n"
      ],
      "metadata": {
        "id": "Snu_5I6aGJS8"
      }
    },
    {
      "cell_type": "markdown",
      "source": [
        "---\n",
        "### ロジスティック回帰と階層型ニューラルネットによる手書き数字識別\n",
        "\n"
      ],
      "metadata": {
        "id": "IfOGpoPDLaK5"
      }
    },
    {
      "cell_type": "markdown",
      "source": [
        "多変量解析の授業で学んだ **判別分析** は，データをいくつかのクラスに分類する手法でした．\n",
        "機械学習の授業では，同様の問題を扱う新たな手法をいくつか学びます．ここでは，それらの手法の中から，「ロジスティック回帰」と「階層型ニューラルネット」という二つをとりあげて，手書き数字識別の実験をやってみることにします．"
      ],
      "metadata": {
        "id": "BGleWOQMVhaK"
      }
    },
    {
      "cell_type": "markdown",
      "source": [
        "#### データの準備\n"
      ],
      "metadata": {
        "id": "qwpB_UvyYdkn"
      }
    },
    {
      "cell_type": "code",
      "source": [
        "# 手書き数字データの入手\n",
        "! wget -nc https://www-tlab.math.ryukoku.ac.jp/~takataka/course/ML/minimnist.npz\n",
        "rv = np.load('minimnist.npz')\n",
        "X_train = rv['datL'].astype(float)\n",
        "Y_train = rv['labL']\n",
        "X_test = rv['datT'].astype(float)\n",
        "Y_test = rv['labT']\n",
        "print(X_train.shape, Y_train.shape, X_test.shape, Y_test.shape)\n",
        "\n",
        "K = 10 # クラス数\n",
        "N_train, D = X_train.shape\n",
        "N_test, _  = X_test.shape"
      ],
      "metadata": {
        "id": "U-iId7kjiEKi"
      },
      "execution_count": null,
      "outputs": []
    },
    {
      "cell_type": "markdown",
      "source": [
        "この授業でも何度か扱った手書き数字画像のデータです．"
      ],
      "metadata": {
        "id": "6t65LO5gLsJ4"
      }
    },
    {
      "cell_type": "code",
      "source": [
        "# データを画像として表示するための関数\n",
        "#\n",
        "def displayImage(ax, data, nx, ny, nrow=28, ncol=28, gap=4):\n",
        "\n",
        "    assert data.shape[0] == nx*ny\n",
        "    assert data.shape[1] == nrow*ncol\n",
        "\n",
        "    # 並べた画像の幅と高さ\n",
        "    width  = nx * (ncol + gap) + gap\n",
        "    height = ny * (nrow + gap) + gap\n",
        "\n",
        "    # 画像の作成\n",
        "    img = np.zeros((height, width), dtype = int) + 128\n",
        "    for iy in range(ny):\n",
        "        lty = iy*(nrow + gap) + gap\n",
        "        for ix in range(nx):\n",
        "            ltx = ix*(ncol + gap) + gap\n",
        "            img[lty:lty+nrow, ltx:ltx+ncol] = data[iy*nx+ix].reshape((nrow, ncol))\n",
        "\n",
        "    ax.axis('off')\n",
        "    ax.imshow(img, cmap='gray')"
      ],
      "metadata": {
        "id": "0M4ryekSWK8e"
      },
      "execution_count": null,
      "outputs": []
    },
    {
      "cell_type": "code",
      "source": [
        "# 学習データの最初の nx * ny 個を画像として表示\n",
        "nx, ny = 10, 5\n",
        "fig, ax = plt.subplots(figsize=(8, 4))\n",
        "displayImage(ax, X_train[:ny*nx], nx, ny)\n",
        "plt.show()\n",
        "\n",
        "# それらのクラスラベルを表示\n",
        "for iy in range(ny):\n",
        "    print(Y_train[iy*nx:(iy+1)*nx])"
      ],
      "metadata": {
        "id": "_7T1KYg_WVlU"
      },
      "execution_count": null,
      "outputs": []
    },
    {
      "cell_type": "code",
      "source": [
        "# データの各要素を平均 0 分散1 にスケーリング\n",
        "scaler = StandardScaler()\n",
        "XX_train = scaler.fit_transform(X_train)\n",
        "XX_test  = scaler.transform(X_test)"
      ],
      "metadata": {
        "id": "_SwxPJMIMIZe"
      },
      "execution_count": null,
      "outputs": []
    },
    {
      "cell_type": "markdown",
      "source": [
        "#### ロジスティック回帰"
      ],
      "metadata": {
        "id": "aKW-mEPAMD1g"
      }
    },
    {
      "cell_type": "markdown",
      "source": [
        "判別分析では，クラスの正解を知っているデータ（学習データ）を用いてモデル（正規分布）のパラメータを推定し，得られたモデルを使ってクラス未知のデータ（テストデータ）のクラスを予測する，ということをしていました．\n",
        "ロジスティック回帰や階層型ニューラルネットも，同様のことをします．ただし，これらの手法ではパラメータの推定が難しいので，パラメータに適当な初期値を設定して，データにうまく当てはまるように修正していくことを何度も繰り返します（どうやって？という話は「機械学習I/II」で学びます．ここでは気にしなくて構いません）．"
      ],
      "metadata": {
        "id": "6V_6FVEhWUTi"
      }
    },
    {
      "cell_type": "code",
      "source": [
        "# ロジスティック回帰モデルのインスタンスを生成\n",
        "model = LogisticRegression(max_iter=500)\n",
        "print(model)"
      ],
      "metadata": {
        "id": "fQFUer0EPbog"
      },
      "execution_count": null,
      "outputs": []
    },
    {
      "cell_type": "markdown",
      "source": [
        "試しに，ロジスティック回帰モデルに手書き数字画像（学習データ 5000 枚）を 500 回学習させてみます．"
      ],
      "metadata": {
        "id": "i64qrMo7X1Dt"
      }
    },
    {
      "cell_type": "code",
      "source": [
        "# 学習データを用いてモデルのパラメータを調整（学習）\n",
        "model.fit(XX_train, Y_train)"
      ],
      "metadata": {
        "id": "IlHXLEx8Pzm-"
      },
      "execution_count": null,
      "outputs": []
    },
    {
      "cell_type": "markdown",
      "source": [
        "学習したモデルにクラスを予測させて，何個正解したか求めてみると，こんなんなります．"
      ],
      "metadata": {
        "id": "C1ILmujLYAz2"
      }
    },
    {
      "cell_type": "code",
      "source": [
        "# 学習データのクラスを予測させてみる\n",
        "Yt_train = model.predict(XX_train)\n",
        "nc_train = np.sum(Yt_train == Y_train) # 正解数\n",
        "\n",
        "# テストデータのクラスを予測させてみる\n",
        "Yt_test = model.predict(XX_test)\n",
        "nc_test = np.sum(Yt_test == Y_test) # 正解数\n",
        "\n",
        "# 結果を表示\n",
        "print(f'学習データ: {nc_train}/{len(Y_train)} = {nc_train/len(Y_train)}')\n",
        "print(f'テストデータ: {nc_test}/{len(Y_test)} = {nc_test/len(Y_test)}')"
      ],
      "metadata": {
        "id": "AgWGOT3wRvoa"
      },
      "execution_count": null,
      "outputs": []
    },
    {
      "cell_type": "markdown",
      "source": [
        "#### 階層型ニューラルネット"
      ],
      "metadata": {
        "id": "kTeRzAUvRp2m"
      }
    },
    {
      "cell_type": "markdown",
      "source": [
        "「ニューラルネット」は，現在の AI 技術の中心となっている機械学習モデルです．\n",
        "どんなものかの説明は省略しますが，たくさんのパラメータを含んだ複雑なモデルです．ロジスティック回帰と同様に，パラメータの推定を何度も繰り返して徐々に学習していきます．"
      ],
      "metadata": {
        "id": "TCoFwgOHYUag"
      }
    },
    {
      "cell_type": "code",
      "source": [
        "# 階層型ニューラルネットのインスタンスを生成\n",
        "model = MLPClassifier(hidden_layer_sizes=(200, 200,), activation='relu', verbose=1)\n",
        "print(model)"
      ],
      "metadata": {
        "id": "-kFIqf3OM8iu"
      },
      "execution_count": null,
      "outputs": []
    },
    {
      "cell_type": "markdown",
      "source": [
        "次のセルを実行すると，学習データ 5000 個を使って学習します．\n",
        "`Iteration` は1回の学習（5000個のデータのそれぞれを使ってパラメータを推定する処理）を表し，`loss` はその学習を終えた時点での「損失」（正解とのずれの指標，小さいほど良い）の値を表します．\n",
        "\n",
        "繰り返すごとに損失が小さくなり，学習が進んでいくのがわかるでしょう．"
      ],
      "metadata": {
        "id": "laIR9X3oY5nO"
      }
    },
    {
      "cell_type": "code",
      "source": [
        "# 学習データを用いてモデルのパラメータを調整（学習）\n",
        "model.fit(XX_train, Y_train)"
      ],
      "metadata": {
        "id": "0IDSnC3sNBoS"
      },
      "execution_count": null,
      "outputs": []
    },
    {
      "cell_type": "markdown",
      "source": [
        "学習したモデルにクラスを予測させて，何個正解したか求めてみると，こんなんなります．"
      ],
      "metadata": {
        "id": "0iqlo33iZ-3Z"
      }
    },
    {
      "cell_type": "code",
      "source": [
        "# 学習データのクラスを予測させてみる\n",
        "Yt_train = model.predict(XX_train)\n",
        "nc_train = np.sum(Yt_train == Y_train) # 正解数\n",
        "\n",
        "# テストデータのクラスを予測させてみる\n",
        "Yt_test = model.predict(XX_test)\n",
        "nc_test = np.sum(Yt_test == Y_test) # 正解数\n",
        "\n",
        "# 結果を表示\n",
        "print(f'学習データ: {nc_train}/{len(Y_train)} = {nc_train/len(Y_train)}')\n",
        "print(f'テストデータ: {nc_test}/{len(Y_test)} = {nc_test/len(Y_test)}')"
      ],
      "metadata": {
        "id": "i8yOBwW1NNkt"
      },
      "execution_count": null,
      "outputs": []
    },
    {
      "cell_type": "markdown",
      "source": [
        "ロジスティック回帰よりも複雑なモデルであるため，ここではより高い予測精度が得られています．\n",
        "ただし，実際にはどんな場合でも複雑なモデルの方が良いというわけではありません．その辺のことは「機械学習I/II」で学びます．"
      ],
      "metadata": {
        "id": "3bzJnaPcZ-HI"
      }
    },
    {
      "cell_type": "markdown",
      "source": [
        "---\n",
        "### 1000種類の物体を識別するニューラルネットを動かしてみよう\n",
        "\n",
        "ニューラルネットワークを用いた画像識別の実験をやってみましょう． いろんなものが識別できた方が楽しいと思いますので，1000種類の物体を識別させてみます． ただし，そういうことができるニューラルネットワークを一から学習させようとすると大変（↑ののりで実行したら1週間以上かかかります）ですので，ここではすでに学習済みのものを利用することにします．"
      ],
      "metadata": {
        "id": "HKbbcYlyS1mi"
      }
    },
    {
      "cell_type": "markdown",
      "source": [
        "#### 準備"
      ],
      "metadata": {
        "id": "m_05KKmfwFQ_"
      }
    },
    {
      "cell_type": "markdown",
      "source": [
        "まずは実験に使う画像データを準備します．\n",
        "\n",
        "**注意: 以下の画像をこの実験以外の目的で使用してはいけません**"
      ],
      "metadata": {
        "id": "P-AmCU9NCRGc"
      }
    },
    {
      "cell_type": "code",
      "source": [
        "!wget -nc https://www-tlab.math.ryukoku.ac.jp/~takataka/course/ML/animalphoto.pickle\n",
        "with open('animalphoto.pickle', 'rb') as f:\n",
        "    hoge = pickle.load(f)\n",
        "\n",
        "imgList = []\n",
        "for d in hoge:\n",
        "    img = Image.frombytes(**d)\n",
        "    imgList.append(img)\n",
        "    fig, ax = plt.subplots(1)\n",
        "    ax.imshow(img)\n",
        "    ax.axis('off')\n",
        "    plt.show()"
      ],
      "metadata": {
        "id": "1Io3_Xdj5NMh"
      },
      "execution_count": null,
      "outputs": []
    },
    {
      "cell_type": "markdown",
      "source": [
        "1000個あるクラスの番号とクラスラベルの対応表を作成します．"
      ],
      "metadata": {
        "id": "dwjnxlnZqkSh"
      }
    },
    {
      "cell_type": "code",
      "source": [
        "# ImageNet クラスラベルを表すJSONファイルを入手\n",
        "!wget -nc https://s3.amazonaws.com/deep-learning-models/image-models/imagenet_class_index.json\n",
        "class_index = json.load(open('imagenet_class_index.json', 'r'))\n",
        "\n",
        "K = len(class_index)\n",
        "labels = {}\n",
        "for ik, key in enumerate(class_index.keys()):\n",
        "    labels[ik] = f'{class_index[key][0]} {class_index[key][1]}'\n",
        "    if 276 <= ik < 300: \n",
        "        print(ik, labels[ik])"
      ],
      "metadata": {
        "id": "-5nFrG_ywpOV"
      },
      "execution_count": null,
      "outputs": []
    },
    {
      "cell_type": "markdown",
      "source": [
        "上記の出力は，1000クラスのうちの一部のものの名前を表します．「ネコ」みたいなものも1クラスではなく，281番 'tabby'（ぶち柄の猫），282番 'tiger_cat'（トラ縞の猫）等々のように分かれています．"
      ],
      "metadata": {
        "id": "goVX8Ln9CZ-R"
      }
    },
    {
      "cell_type": "markdown",
      "source": [
        "学習済みのニューラルネットワークのパラメータを入手します．\n",
        "規模の大きいネットワークでパラメータがたくさんありますので，読み込みに少し時間がかかります．"
      ],
      "metadata": {
        "id": "v0srx3ogtOaO"
      }
    },
    {
      "cell_type": "code",
      "source": [
        "vgg16 = models.vgg16(pretrained=True)\n",
        "vgg16.eval()\n",
        "print(vgg16)"
      ],
      "metadata": {
        "id": "uLg8zK7HyDKP"
      },
      "execution_count": null,
      "outputs": []
    },
    {
      "cell_type": "markdown",
      "source": [
        "上記のセルを実行すると，次のことが行われます．\n",
        "1. ニューラルネットワークの学習モデルを作成する．\n",
        "1. 学習済みのネットワークパラメータの値を読み込んでこのネットワークのパラメータに設定する．\n",
        "1. ネットワークモデルの構造を表示する．"
      ],
      "metadata": {
        "id": "g-V8tZ5Atyqp"
      }
    },
    {
      "cell_type": "markdown",
      "source": [
        "参考:\n",
        "\n",
        "ここで用いているのは VGG16 というニューラルネットワークモデルです．イギリスオックスフォード大学の [Visual Geometry Group(VGG)](https://www.robots.ox.ac.uk/~vgg/) という研究グループが作った VGG-net というニューラルネットワークモデルのうちの，層が16層あるものです．\n",
        "VGG-net は，2014年に行われた [ILSVRC2014](https://www.image-net.org/challenges/LSVRC/2014/) という画像識別のコンペティションで世界第2位となったニューラルネットワークモデルです．\n",
        "ILSVRC2014では，[ImageNet](https://www.image-net.org/) という大規模な画像データセットの中から選ばれた 1000 種類の物体の画像約120万枚を学習データとしていました．\n"
      ],
      "metadata": {
        "id": "103RZrZeu1vl"
      }
    },
    {
      "cell_type": "markdown",
      "source": [
        "画像をネットワークに入力できる形式に加工する処理を定義しておきます．\n"
      ],
      "metadata": {
        "id": "TVwByjcG1cyA"
      }
    },
    {
      "cell_type": "code",
      "source": [
        "preprocess = transforms.Compose([\n",
        "    transforms.Resize(224),\n",
        "    transforms.CenterCrop(224),\n",
        "    transforms.ToTensor(),\n",
        "    transforms.Normalize(mean=[0.485, 0.456, 0.406], std=[0.229, 0.224, 0.225]),\n",
        "])"
      ],
      "metadata": {
        "id": "GeUATyKI2AYW"
      },
      "execution_count": null,
      "outputs": []
    },
    {
      "cell_type": "markdown",
      "source": [
        "#### 実験1\n",
        "\n",
        "上記のサンプル画像たちを VGG16 に識別させてみましょう．\n"
      ],
      "metadata": {
        "id": "uyWss1-izFXS"
      }
    },
    {
      "cell_type": "code",
      "source": [
        "#@title 実験1\n",
        "#@markdown 以下で 0 から 3 までの整数を選ぶと4つのサンプル画像の中から一つを選ぶことができます．\n",
        "i = 0 #@param [0, 1, 2, 3] {type: 'raw'}\n",
        "img = imgList[i]\n",
        "\n",
        "# 画像を表示\n",
        "fig, ax = plt.subplots(1)\n",
        "ax.imshow(img)\n",
        "ax.axis('off')\n",
        "plt.show()\n",
        "\n",
        "# VGG16 ネットワークに入力して出力を得る\n",
        "X = torch.unsqueeze(preprocess(imgList[i]), axis=0)\n",
        "Y = vgg16(X)\n",
        "Z = torch.nn.functional.softmax(Y, dim=1)\n",
        "P = Z[0].detach().numpy()\n",
        "\n",
        "# 出力の値の大きかった方から5つを表示\n",
        "for i, ik in enumerate(np.argsort(-P)[:5]):\n",
        "    print(f'rank{i+1}: {P[ik]:.6f} {labels[ik]}')"
      ],
      "metadata": {
        "id": "9pp3WWir8sLr"
      },
      "execution_count": null,
      "outputs": []
    },
    {
      "cell_type": "markdown",
      "source": [
        "上記の画像の下の出力は，1000個のクラスの中で，ネットワークの出力の値が大きかったもの上位5位までの，出力の値とクラス名を表します．\n",
        "出力の値は，そのクラスと判定することの「確信度」と解釈できます．"
      ],
      "metadata": {
        "id": "-dKliElj-rnV"
      }
    },
    {
      "cell_type": "markdown",
      "source": [
        "#### 実験2\n",
        "\n",
        "自分で用意した画像でも実験してみましょう．\n",
        "\n",
        "- 上記では動物の例ばかりですが，1000のクラスの中にはそれ以外にも様々なものがあります（人間のクラスはありません）\n",
        "- 面白い／不思議な結果が得られたら takataka に見せてくれると喜びます\n",
        "\n"
      ],
      "metadata": {
        "id": "Ss4c8IAe_9Um"
      }
    },
    {
      "cell_type": "markdown",
      "source": [
        "(1) まずは，ウェブ等で適当な画像を探して，この Colab notebook を実行しているコンピュータへ保存しましょう．ファイル名が長かったり日本語を含んでいる場合は，短い名前に変更しておくのがよいです．\n",
        "\n",
        "(2) 以下のセルを実行して，ファイルをアップロードします．"
      ],
      "metadata": {
        "id": "Sii3vXZ8AU2r"
      }
    },
    {
      "cell_type": "code",
      "source": [
        "# Colab へファイルをアップロード\n",
        "try:\n",
        "    from google.colab import files\n",
        "    rv = files.upload()\n",
        "except:\n",
        "    print('このコードは Colab 以外の環境では実行できないよ．')"
      ],
      "metadata": {
        "id": "o83_b8kY9_Hb"
      },
      "execution_count": null,
      "outputs": []
    },
    {
      "cell_type": "markdown",
      "source": [
        "(3) 以下のセルの1行目のファイル名を上記でアップロードしたものに変えて実行しましょう．アルファベット大文字小文字の区別もありますので注意．うまくいけば画像が表示されるはずです．"
      ],
      "metadata": {
        "id": "PHZCqDSHBiG-"
      }
    },
    {
      "cell_type": "code",
      "source": [
        "myimg = Image.open('hoge.jpg') # ファイル名を変更しましょう\n",
        "fig, ax = plt.subplots(1)\n",
        "ax.imshow(myimg)\n",
        "ax.axis('off')\n",
        "plt.show()"
      ],
      "metadata": {
        "id": "F72S_3eO9Ask"
      },
      "execution_count": null,
      "outputs": []
    },
    {
      "cell_type": "markdown",
      "source": [
        "(4) 以下のセルを実行すれば結果が表示されます．"
      ],
      "metadata": {
        "id": "YGckmXO7Bzs3"
      }
    },
    {
      "cell_type": "code",
      "source": [
        "# VGG16 ネットワークに入力して出力を得る\n",
        "X = torch.unsqueeze(preprocess(myimg), axis=0)\n",
        "Y = vgg16(X)\n",
        "Z = torch.nn.functional.softmax(Y, dim=1)\n",
        "P = Z[0].detach().numpy()\n",
        "\n",
        "# 出力の値の大きかった方から5つを表示\n",
        "for i, ik in enumerate(np.argsort(-P)[:5]):\n",
        "    print(f'rank{i+1}: {P[ik]:.6f} {labels[ik]}')"
      ],
      "metadata": {
        "id": "u8vrSrciBbgr"
      },
      "execution_count": null,
      "outputs": []
    },
    {
      "cell_type": "code",
      "source": [],
      "metadata": {
        "id": "e94_duuoCEcB"
      },
      "execution_count": null,
      "outputs": []
    }
  ]
}