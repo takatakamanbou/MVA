{
  "nbformat": 4,
  "nbformat_minor": 0,
  "metadata": {
    "colab": {
      "provenance": [],
      "toc_visible": true,
      "authorship_tag": "ABX9TyML4e5KvftTglGkbIigAvTb",
      "include_colab_link": true
    },
    "kernelspec": {
      "name": "python3",
      "display_name": "Python 3"
    },
    "language_info": {
      "name": "python"
    }
  },
  "cells": [
    {
      "cell_type": "markdown",
      "metadata": {
        "id": "view-in-github",
        "colab_type": "text"
      },
      "source": [
        "<a href=\"https://colab.research.google.com/github/takatakamanbou/MVA/blob/2022/ex11notebookC.ipynb\" target=\"_parent\"><img src=\"https://colab.research.google.com/assets/colab-badge.svg\" alt=\"Open In Colab\"/></a>"
      ]
    },
    {
      "cell_type": "markdown",
      "source": [
        "# MVA2022 ex11notebookC\n",
        "\n",
        "<img width=64 src=\"https://www-tlab.math.ryukoku.ac.jp/~takataka/course/MVA/MVA-logo11.png\"> https://www-tlab.math.ryukoku.ac.jp/wiki/?MVA/2022"
      ],
      "metadata": {
        "id": "P4preLw7SzqH"
      }
    },
    {
      "cell_type": "code",
      "metadata": {
        "id": "I226xIKJbqtM"
      },
      "source": [
        "# 準備あれこれ\n",
        "import numpy as np\n",
        "import matplotlib.pyplot as plt\n",
        "import pandas as pd\n",
        "import seaborn\n",
        "seaborn.set()"
      ],
      "execution_count": null,
      "outputs": []
    },
    {
      "cell_type": "code",
      "source": [
        "# scikit-learn の判別分析のためのクラス\n",
        "from sklearn.discriminant_analysis import LinearDiscriminantAnalysis, QuadraticDiscriminantAnalysis\n",
        "\n",
        "# scikit-learn の主成分分析のためのクラス\n",
        "from sklearn.decomposition import PCA"
      ],
      "metadata": {
        "id": "y_UwFVR_wd3X"
      },
      "execution_count": null,
      "outputs": []
    },
    {
      "cell_type": "markdown",
      "source": [
        "----\n",
        "## 手書き数字認識してみよう\n",
        "----\n"
      ],
      "metadata": {
        "id": "zDtnBWKha6vx"
      }
    },
    {
      "cell_type": "markdown",
      "source": [
        "---\n",
        "### データの準備\n"
      ],
      "metadata": {
        "id": "MUov5TMq3YVO"
      }
    },
    {
      "cell_type": "code",
      "source": [
        "# 手書き数字データの入手\n",
        "! wget -nc https://www-tlab.math.ryukoku.ac.jp/~takataka/course/ML/minimnist.npz\n",
        "rv = np.load('minimnist.npz')\n",
        "X_train = rv['datL'].astype(float)\n",
        "Y_train = rv['labL']\n",
        "X_test = rv['datT'].astype(float)\n",
        "Y_test = rv['labT']\n",
        "print(X_train.shape, Y_train.shape, X_test.shape, Y_test.shape)\n",
        "\n",
        "K = 10 # クラス数\n",
        "N_train, D = X_train.shape\n",
        "N_test, _  = X_test.shape"
      ],
      "metadata": {
        "id": "PDPDqEbWvJ_T"
      },
      "execution_count": null,
      "outputs": []
    },
    {
      "cell_type": "markdown",
      "source": [
        "どんデータなのか知るために，一部を可視化してみましょう．"
      ],
      "metadata": {
        "id": "yu8u1U0Gw38Q"
      }
    },
    {
      "cell_type": "code",
      "source": [
        "# データを画像として表示するための関数\n",
        "#\n",
        "def display(data, nx, ny, nrow=28, ncol=28, gap=4):\n",
        "\n",
        "    assert data.shape[0] == nx*ny\n",
        "    assert data.shape[1] == nrow*ncol\n",
        "\n",
        "    # 並べた画像の幅と高さ\n",
        "    width  = nx * (ncol + gap) + gap\n",
        "    height = ny * (nrow + gap) + gap\n",
        "\n",
        "    # 画像の作成\n",
        "    img = np.zeros((height, width), dtype = int) + 128\n",
        "    for iy in range(ny):\n",
        "        lty = iy*(nrow + gap) + gap\n",
        "        for ix in range(nx):\n",
        "            ltx = ix*(ncol + gap) + gap\n",
        "            img[lty:lty+nrow, ltx:ltx+ncol] = data[iy*nx+ix].reshape((nrow, ncol))\n",
        "\n",
        "    # 画像の出力\n",
        "    plt.axis('off')\n",
        "    plt.imshow(img, cmap = 'gray')\n",
        "    plt.show()"
      ],
      "metadata": {
        "id": "37woFI5Uw2xa"
      },
      "execution_count": null,
      "outputs": []
    },
    {
      "cell_type": "code",
      "source": [
        "# 学習データの最初の nx * ny 個を画像として表示\n",
        "nx, ny = 10, 5\n",
        "display(X_train[:ny*nx], nx, ny)\n",
        "\n",
        "# それらのクラスラベルを表示\n",
        "for iy in range(ny):\n",
        "    print(Y_train[iy*nx:(iy+1)*nx])"
      ],
      "metadata": {
        "id": "M2C9ndhVxCdt"
      },
      "execution_count": null,
      "outputs": []
    },
    {
      "cell_type": "markdown",
      "source": [
        "---\n",
        "### 実験その1\n",
        "\n"
      ],
      "metadata": {
        "id": "PLpcVO3S1GKC"
      }
    },
    {
      "cell_type": "markdown",
      "source": [
        "#### 問題1\n",
        "\n",
        "次のセルに，次のことを行うコードを書きなさい\n",
        "1. 学習データを用いて線形判別分析（パラメータの推定）を行う\n",
        "1. 学習データのクラスを予測し，いくつ正解したかと正解率（データ数に対する割合）を表示する\n",
        "1. テストデータについて 2. と同じことをする"
      ],
      "metadata": {
        "id": "pmiFoV3ec3aR"
      }
    },
    {
      "cell_type": "code",
      "source": [],
      "metadata": {
        "id": "eHzArhFszeKS"
      },
      "execution_count": null,
      "outputs": []
    },
    {
      "cell_type": "markdown",
      "source": [
        "#### 問題2\n",
        "\n",
        "次のセルに，問題1と同様のことを二次判別分析でやるコードを書きなさい．"
      ],
      "metadata": {
        "id": "m7fa2O_Rz_Dj"
      }
    },
    {
      "cell_type": "code",
      "source": [],
      "metadata": {
        "id": "NdlDsCpA0IVI"
      },
      "execution_count": null,
      "outputs": []
    },
    {
      "cell_type": "markdown",
      "source": [
        "こちらの場合，`UserWarning: Variables are collinear` という警告が出て，テストデータの予測結果があまり良くないかもしれません．この警告は，変数に多重共線性があるよ，と言っています．\n",
        "\n",
        "クラス数 $K$，次元数 $D$ のデータに対して，二次判別分析では $D$ 次元の平均を $K$ 個，$D\\times D$ の分散共分散行列を $K$ 個推定します．この問題の場合にパラメータの総数を計算すると，\n",
        "\n",
        "$$\n",
        "K\\times \\left(D + \\frac{1}{2}D(D+1)\\right) = 10 \\times (784 + 307720) = 3085040\n",
        "$$\n",
        "\n",
        "という膨大な数になります．推定すべきパラメータの数が非常に多く，そのわりにデータ数が少ないため，悪い結果となったと考えられます（このような現象や対処法については，「機械学習I/II」で取り上げます）．"
      ],
      "metadata": {
        "id": "udUvQXtI0Ofm"
      }
    },
    {
      "cell_type": "markdown",
      "source": [
        "---\n",
        "### 実験その2"
      ],
      "metadata": {
        "id": "NnYummJEenof"
      }
    },
    {
      "cell_type": "markdown",
      "source": [
        "実験その1で出会った問題への対処法の一つは，データの次元を削減して，推定が必要なパラメータ数を減らしてしまう，というものです．主成分分析を適用して次元削減してから判別分析する実験を行ってみましょう．\n"
      ],
      "metadata": {
        "id": "4VNizCCSV1xc"
      }
    },
    {
      "cell_type": "markdown",
      "source": [
        "主成分分析の手続きは自分で書いてもよいですが，ここでは scikit-learn を使って楽をしましょう．\n",
        "[sklearn.decomposition.PCA](https://scikit-learn.org/stable/modules/generated/sklearn.decomposition.PCA.html) を使いましょう．リンク先のドキュメントや， notebookA でアヤメのデータの次元削減を行っている部分を参考にしてください．fit でパラメータを推定し，transform で変換するって感じです．"
      ],
      "metadata": {
        "id": "06QWesTMajAT"
      }
    },
    {
      "cell_type": "markdown",
      "source": [
        "#### 問題3\n",
        "\n",
        "次のセルに，次のことを行うコードを書きなさい：\n",
        "\n",
        "1. `X_train` のデータに主成分分析を適用して，累積寄与率が $0.9$ 以上となる最小の次元数 $H$ まで次元を削減する変換を求める．\n",
        "1. 得られた変換を用いて `X_train` を $H$ 次元に変換したものを変数 `XX_train` に代入する\n",
        "1. 同様に，`X_test` を変換したものを変数 `XX_test` に代入する\n",
        "1. `XX_train` と `XX_test` の shape を表示する\n",
        "\n",
        "\n",
        "上記の 1. のことを実現するには，\n",
        "```\n",
        "hoge = PCA(n_components=...)\n",
        "hoge.fit(X_train)\n",
        "```\n",
        "のように `n_components` を指定して [sklearn.decomposition.PCA](https://scikit-learn.org/stable/modules/generated/sklearn.decomposition.PCA.html) の `PCA()` を呼べばok．どのように書くべきかは，リンク先のドキュメントの `Parameters::` の中の `n_components` の説明を読めば分かります．\n",
        "\n",
        "**注意**: `train` の方で学習（パラメータを推定）するのだから，`test` の方は得られたパラメータを使って変換するだけ．`test` の方で `fit` を呼ぶことはないはず．\n"
      ],
      "metadata": {
        "id": "Dr_3N9mj5Yf9"
      }
    },
    {
      "cell_type": "code",
      "source": [],
      "metadata": {
        "id": "_ta7M09Fe1V_"
      },
      "execution_count": null,
      "outputs": []
    },
    {
      "cell_type": "markdown",
      "source": [
        "#### 問題4\n",
        "\n",
        "次のセルに，次のことを行うコードを書きなさい\n",
        "1. 次元削減した学習データを用いて線形判別分析（パラメータの推定）を行う\n",
        "1. 学習データのクラスを予測し，いくつ正解したかと正解率（データ数に対する割合）を表示する\n",
        "1. 次元削減したテストデータについて 2. と同じことをする"
      ],
      "metadata": {
        "id": "LTwm8hv7913v"
      }
    },
    {
      "cell_type": "code",
      "source": [],
      "metadata": {
        "id": "t2VfbhJw93XQ"
      },
      "execution_count": null,
      "outputs": []
    },
    {
      "cell_type": "markdown",
      "source": [
        "#### 問題5\n",
        "\n",
        "次のセルに，問題4と同様のことを二次判別分析でやるコードを書きなさい．\n"
      ],
      "metadata": {
        "id": "1z4n5zlI-cjg"
      }
    },
    {
      "cell_type": "code",
      "source": [],
      "metadata": {
        "id": "fi0id8TC-V-6"
      },
      "execution_count": null,
      "outputs": []
    },
    {
      "cell_type": "markdown",
      "source": [
        "次のセルを実行すると，テストデータの最初の50個と，その"
      ],
      "metadata": {
        "id": "OBQbI0hC_nHm"
      }
    },
    {
      "cell_type": "markdown",
      "source": [
        "#### 問題6\n",
        "\n",
        "次のことをやりましょう．\n",
        "\n",
        "(1) 次のものをメモしておきなさい\n",
        "- 問題3の次元削減により，何次元のデータが何次元になったか\n",
        "- 問題1,2,4,5の正解率\n",
        "\n",
        "(2) 次のセルのコードを修正して実行し，問題5の二次判別の結果が表示されるようにしなさい．その表示を見て，テストデータの最初の50個のうちいくつを間違えたか数え（目視でもコード書くのでもお好きな方でどぞ），その数をメモしておきなさい．"
      ],
      "metadata": {
        "id": "tXq4Ev77--YF"
      }
    },
    {
      "cell_type": "code",
      "source": [
        "# テストデータの最初の nx * ny 個を画像として表示\n",
        "nx, ny = 10, 5\n",
        "display(X_test[:ny*nx], nx, ny)\n",
        "\n",
        "# 予測されたクラスラベルを表示\n",
        "for iy in range(ny):\n",
        "    print(hoge[iy*nx:(iy+1)*nx])  ### hoge を自分が使った変数名に変えよう\n",
        "\n",
        "print()\n",
        "# 正解のクラスラベルを表示\n",
        "for iy in range(ny):\n",
        "    print(Y_test[iy*nx:(iy+1)*nx])"
      ],
      "metadata": {
        "id": "pXtAuMwN_l1v"
      },
      "execution_count": null,
      "outputs": []
    },
    {
      "cell_type": "code",
      "source": [],
      "metadata": {
        "id": "u-X83eL-BW6D"
      },
      "execution_count": null,
      "outputs": []
    }
  ]
}