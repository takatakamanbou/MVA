{
  "nbformat": 4,
  "nbformat_minor": 0,
  "metadata": {
    "colab": {
      "provenance": [],
      "toc_visible": true,
      "authorship_tag": "ABX9TyMpOSCW7i320SZYEFYUlU0V",
      "include_colab_link": true
    },
    "kernelspec": {
      "name": "python3",
      "display_name": "Python 3"
    },
    "language_info": {
      "name": "python"
    }
  },
  "cells": [
    {
      "cell_type": "markdown",
      "metadata": {
        "id": "view-in-github",
        "colab_type": "text"
      },
      "source": [
        "<a href=\"https://colab.research.google.com/github/takatakamanbou/MVA/blob/main/MVA2024_ex05notebookA.ipynb\" target=\"_parent\"><img src=\"https://colab.research.google.com/assets/colab-badge.svg\" alt=\"Open In Colab\"/></a>"
      ]
    },
    {
      "cell_type": "markdown",
      "source": [
        "# MVA2024 ex05notebookA\n",
        "\n",
        "<img width=64 src=\"https://www-tlab.math.ryukoku.ac.jp/~takataka/course/MVA/MVA-logo.png\"> https://www-tlab.math.ryukoku.ac.jp/wiki/?MVA/2024"
      ],
      "metadata": {
        "id": "P4preLw7SzqH"
      }
    },
    {
      "cell_type": "markdown",
      "source": [
        "----\n",
        "## 線形代数の復習\n",
        "----"
      ],
      "metadata": {
        "id": "Kjddq7j6S48o"
      }
    },
    {
      "cell_type": "markdown",
      "source": [
        "次回以降のこの授業では，基礎的な線形代数の知識・理解がいままで以上に必要となります．\n",
        "ここで復習しておきましょう．ただし，この授業で必要な部分のみを大雑把に説明します．また，高橋の能力不足により数学的厳密さに欠けています．\n"
      ],
      "metadata": {
        "id": "hHiVhy3jHUm-"
      }
    },
    {
      "cell_type": "markdown",
      "source": [
        "---\n",
        "### 準備"
      ],
      "metadata": {
        "id": "7fsQzzLr6_qF"
      }
    },
    {
      "cell_type": "markdown",
      "source": [
        "いつものインポート．"
      ],
      "metadata": {
        "id": "WvR7xbqg7L04"
      }
    },
    {
      "cell_type": "code",
      "source": [
        "import pandas as pd\n",
        "import numpy as np\n",
        "import matplotlib.pyplot as plt\n",
        "import seaborn\n",
        "seaborn.set()"
      ],
      "metadata": {
        "id": "cctqDki5y55F"
      },
      "execution_count": null,
      "outputs": []
    },
    {
      "cell_type": "markdown",
      "source": [
        "$2\\times 2$ の行列による線形変換を説明する際に，たくさん図を描きます．\n",
        "そのため，グラフを描く手続きを関数として定義しておきます．"
      ],
      "metadata": {
        "id": "bXTvUrEf7O7R"
      }
    },
    {
      "cell_type": "code",
      "source": [
        "# 同じようなグラフを何度も描くので関数化しておく\n",
        "#\n",
        "def plotHogeo(ax, dataList, labelList, xylabel=(r'$x_1$', r'$x_2$')):\n",
        "    for data, label in zip(dataList, labelList):\n",
        "        ax.plot(data[0, :], data[1, :], label=label)\n",
        "    ax.axhline(0, color='gray', linestyle=':')\n",
        "    ax.axvline(0, color='gray', linestyle=':')\n",
        "    ax.set_xlim(-2.1, 2.1)\n",
        "    ax.set_ylim(-2.1, 2.1)\n",
        "    ax.set_aspect('equal')\n",
        "    ax.set_xlabel(xylabel[0])\n",
        "    ax.set_ylabel(xylabel[1])\n",
        "    ax.legend()"
      ],
      "metadata": {
        "id": "bOsDxN_-oJi0"
      },
      "execution_count": null,
      "outputs": []
    },
    {
      "cell_type": "markdown",
      "source": [
        "グラフに登場する「ほげおくん」の顔の座標データ．"
      ],
      "metadata": {
        "id": "CkpG-D417fZI"
      }
    },
    {
      "cell_type": "code",
      "source": [
        "# ほげおくんの顔\n",
        "hogeCoor = np.array([\n",
        "    # x_1 座標\n",
        "    [1.    , 1.    , 0.125 , 0.125 , 0.    , 0.    , 1.    , 0.8625,\n",
        "     0.8   , 0.8   , 0.175 , 0.175 , 0.8625, 0.8625, 0.8625, 0.8625,\n",
        "     0.7125, 0.7125, 0.7625, 0.7625, 0.6125, 0.6125, 0.675 , 0.675 ,\n",
        "     0.8   , 0.8   , 0.8625, 0.8625, 0.6125, 0.6125, 0.4875, 0.4875,\n",
        "     0.3375, 0.3375, 0.3875, 0.3875, 0.2375, 0.2375, 0.3   , 0.3   ,\n",
        "     0.425 , 0.425 , 0.4875],\n",
        "    # x_2 座標\n",
        "    [0.    , 0.75  , 0.75  , 0.3125, 0.3125, 0.    , 0.    , 0.1125,\n",
        "     0.1125, 0.175 , 0.175 , 0.2375, 0.2375, 0.1125, 0.425 , 0.6125,\n",
        "     0.6125, 0.5625, 0.5625, 0.6125, 0.6125, 0.425 , 0.425 , 0.4875,\n",
        "     0.4875, 0.425 , 0.425 , 0.6125, 0.6125, 0.425 , 0.425 , 0.6125,\n",
        "     0.6125, 0.5625, 0.5625, 0.6125, 0.6125, 0.425 , 0.425 , 0.4875,\n",
        "     0.4875, 0.425 , 0.425 ]\n",
        "    ])\n",
        "print(hogeCoor.shape)"
      ],
      "metadata": {
        "id": "hIq-cAz6e_ys"
      },
      "execution_count": null,
      "outputs": []
    },
    {
      "cell_type": "markdown",
      "source": [
        "`hogeCoor` に格納されている43個の点を線分で結ぶと，次のようなグラフが描かれます．"
      ],
      "metadata": {
        "id": "AURNTZsO72_N"
      }
    },
    {
      "cell_type": "code",
      "source": [
        "fig, ax = plt.subplots(figsize=(3, 3))\n",
        "plotHogeo(ax, [hogeCoor], ['Hogeo'])\n",
        "plt.show()"
      ],
      "metadata": {
        "id": "3-poFNTad8s8"
      },
      "execution_count": null,
      "outputs": []
    },
    {
      "cell_type": "markdown",
      "source": [
        "---\n",
        "### ベクトル"
      ],
      "metadata": {
        "id": "2xJ1iAHd0k2K"
      }
    },
    {
      "cell_type": "markdown",
      "source": [
        "#### ベクトル，内積，ノルム"
      ],
      "metadata": {
        "id": "j8I6RUAH25sf"
      }
    },
    {
      "cell_type": "markdown",
      "source": [
        "ベクトルは，複数の数を組にしたものです（※1）．\n",
        "$D$ 個の数 $x_1, x_2, \\ldots, x_D$ から成る $D$ 次元ベクトル（$D$個の要素から成るベクトル）を $\\pmb{x}$ とおくとき，\n",
        "\n",
        "$$\n",
        "\\pmb{x} = (x_1, x_2, \\ldots , x_D)\n",
        "$$\n",
        "\n",
        "のように書きます（※2）．要素を「,」（カンマ，コンマ）で区切ってならべて書いていることに注意．\n",
        "\n",
        "<br>\n",
        "<hr width=\"50%\" align=\"left\">\n",
        "<span style=\"font-size: 75%\">\n",
        "※1 注： 実数に限らず複素数をならべたベクトルも考えられます．区別が必要なときは，実ベクトル／複素ベクトルと呼び分けます．この授業では，特に断らない限り，実ベクトルのみを扱います．\n",
        "</span>\n",
        "<br>\n",
        "<span style=\"font-size: 75%\">\n",
        "※2 注： スカラ（単一の数）とベクトルを区別するため，ベクトルは太字で書く習慣があります．$a, b, c, x$ はスカラ，$\\pmb{a}, \\pmb{b}, \\pmb{c}, \\pmb{x}$ はベクトル．手書きの場合，太字にはしづらいので，代わりに一部を二重にすることが多いです．$\\mathbb{a}, \\mathbb{b}, \\mathbb{c}, \\mathbb{x}$ みたいな感じ．\n",
        "</span>\n"
      ],
      "metadata": {
        "id": "q4lFGZ3N1Tlr"
      }
    },
    {
      "cell_type": "markdown",
      "source": [
        "二つのベクトル $\\pmb{x} = (x_1, x_2, \\ldots, x_D), \\pmb{y} = (y_1, y_2, \\ldots, y_D)$ の間の **内積** を $\\pmb{x}\\cdot\\pmb{y}$ と表記し，次のように定義します．\n",
        "\n",
        "$$\n",
        "\\pmb{x}\\cdot\\pmb{y} = \\sum_{d=1}^D x_dy_d = x_1y_1 + x_2y_2 + \\cdots + x_Dy_D\n",
        "$$\n",
        "\n",
        "また，ベクトル $\\pmb{x}$ の **ノルム** を $\\Vert\\pmb{x}\\Vert$ と表記し，次式で定義します．\n",
        "\n",
        "$$\n",
        "\\Vert\\pmb{x}\\Vert = \\sqrt{\\pmb{x}\\cdot\\pmb{x}}\n",
        "$$\n",
        "\n",
        "ノルムは，ベクトルの「大きさ」や「長さ」と呼ばれることもあります．また，$\\Vert\\pmb{x}\\Vert$ の代わりに $|\\pmb{x}|$ と表記することもあります．\n",
        "\n",
        "内積の定義とノルムの定義から，\n",
        "\n",
        "$$\n",
        "\\Vert\\pmb{x}\\Vert = \\sqrt{\\sum_{d=1}^{D}x_d^2} = \\sqrt{x_1^2 + x_2^2 + \\cdots + x_D^2}\n",
        "$$\n",
        "\n",
        "であることが分かります．"
      ],
      "metadata": {
        "id": "ojBPQlA605Ev"
      }
    },
    {
      "cell_type": "markdown",
      "source": [
        "#### 行ベクトル，列ベクトル"
      ],
      "metadata": {
        "id": "bH-m5-D228X3"
      }
    },
    {
      "cell_type": "markdown",
      "source": [
        "ベクトルそのものは，複数の数を組にしているだけですので，本来，行列のような数のならべ方（横にならべるか，縦にならべるか）の概念はありません．しかし，それでは行列と組み合わせた式を作れなくて困りますので，そういう場合には，$D$ 個の要素を横にならべて $1 \\times D$ 行列とする（これを **行ベクトル** という）か，縦にならべて $D \\times 1$ 行列とする（**列ベクトル**）か，のどちらかを選択します．\n",
        "数学の教科書や授業では，列ベクトルとして扱っていることがほとんどです．\n",
        "\n",
        "ここから先では，$D$ 次元ベクトルは列ベクトルとして，つまり，\n",
        "\n",
        "$$\n",
        "\\pmb{x} = \\begin{pmatrix}\n",
        "x_1 \\\\ x_2 \\\\ \\vdots \\\\ x_D\n",
        "\\end{pmatrix}\n",
        "$$\n",
        "\n",
        "のような $D\\times 1$ 行列として扱うことにします（※）．\n",
        "\n",
        "列ベクトルは要素が縦にならんでスペースをとるので，転置記号を使って次のように書くこともあります．\n",
        "\n",
        "$$\n",
        "\\pmb{x} = \\begin{pmatrix}\n",
        "x_1 & x_2 & \\cdots & x_D\n",
        "\\end{pmatrix}^{\\top}\n",
        "$$\n",
        "\n",
        "<br>\n",
        "<hr width=\"50%\" align=\"left\">\n",
        "<span style=\"font-size: 75%\">\n",
        "※ 注: $D$ 次元ベクトルを行ベクトルとして扱うなら，\n",
        "</span>\n",
        "\n",
        "$$\n",
        "\\pmb{x} = \\begin{pmatrix}\n",
        "x_1 & x_2 & \\cdots & x_D\n",
        "\\end{pmatrix}\n",
        "$$\n",
        "\n",
        "<span style=\"font-size: 75%\">\n",
        "という $1\\times D$ 行列として扱うことになります．要素を単にならべているだけで，カンマがつかないことに注意．\n",
        "この場合，後述の線形変換の際には行列を右から掛けることになります．\n",
        "</span>\n",
        "\n"
      ],
      "metadata": {
        "id": "XueC1YoK0q0J"
      }
    },
    {
      "cell_type": "markdown",
      "source": [
        "ベクトルを列ベクトルとして扱う場合，\n",
        "$\n",
        "\\pmb{x} = \\begin{pmatrix}\n",
        "x_1 \\\\ x_2 \\\\ \\vdots \\\\ x_D\n",
        "\\end{pmatrix}\n",
        "$\n",
        "と\n",
        "$\n",
        "\\pmb{y} = \\begin{pmatrix}\n",
        "y_1 \\\\ y_2 \\\\ \\vdots \\\\ y_D\n",
        "\\end{pmatrix}\n",
        "$\n",
        "の間の内積は，次のように行列の演算として表せます．\n",
        "\n",
        "$$\n",
        "\\pmb{x}\\cdot\\pmb{y} = \\pmb{x}^{\\top}\\pmb{y}\n",
        "= \\begin{pmatrix}\n",
        "x_1 & x_2 & \\cdots & x_D\n",
        "\\end{pmatrix}\n",
        "\\begin{pmatrix}\n",
        "y_1 \\\\ y_2 \\\\ \\vdots \\\\ y_D\n",
        "\\end{pmatrix}\n",
        "$$\n",
        "\n"
      ],
      "metadata": {
        "id": "HSL8CKgZ92Ke"
      }
    },
    {
      "cell_type": "markdown",
      "source": [
        "---\n",
        "### 正方行列と線形変換"
      ],
      "metadata": {
        "id": "hIlxn38gV73L"
      }
    },
    {
      "cell_type": "markdown",
      "source": [
        "$D$ 次元列ベクトル $\\pmb{x}$ に，$D$ 次正方行列（$D\\times D$ 行列） $A$ を左から掛けたものを $\\pmb{y}$ とおく，つまり\n",
        "\n",
        "$$\n",
        "\\pmb{y} = A\\pmb{x}\n",
        "$$\n",
        "\n",
        "とおくと，$\\pmb{y}$ も $D$ 次元列ベクトルとなります．\n",
        "$\\pmb{x}$ に $A$ を掛けて $\\pmb{y}$ を得る演算は，$D$次元空間中のある点 $\\mathbf{x}$ を別の点 $\\mathbf{y}$ に移す（ある点を別の点に写像する/変換する）操作と言えます．行列 $A$ をどのように定めるかによって，点がどのような移り方をするか（どんな変換を受けるか）が決まります．\n",
        "\n",
        "\n",
        "\n",
        "\n",
        "\n",
        "\n"
      ],
      "metadata": {
        "id": "NpNZljXXWIJy"
      }
    },
    {
      "cell_type": "markdown",
      "source": [
        "#### 2次正方行列による線形変換の例"
      ],
      "metadata": {
        "id": "_LtE_ny5ulWp"
      }
    },
    {
      "cell_type": "markdown",
      "source": [
        "$D = 2$ の場合について，具体的なの例を挙げて説明します．「準備」に出てきた一筆書き図形（ほげおくんの顔）の各点の座標を $\\pmb{x}_n$ （$n = 1, 2, \\ldots, N$）とおき，行列 $A$ を定めて $\\pmb{y}_n = A\\pmb{x}_n$ を求め，これらの点を線分でつないで図示します．\n",
        "\n",
        "このとき，$\\pmb{x}_n$ をならべた $2\\times N$ 行列を\n",
        "\n",
        "$$\n",
        "X = \\begin{pmatrix}\n",
        "\\pmb{x}_1 & \\pmb{x}_2 & \\cdots \\pmb{x}_N  \n",
        "\\end{pmatrix}\n",
        "$$\n",
        "\n",
        "とおくと，\n",
        "\n",
        "$$\n",
        "AX = \\begin{pmatrix}\n",
        "A\\pmb{x}_1 & A\\pmb{x}_2 & \\cdots & A\\pmb{x}_N\n",
        "\\end{pmatrix}  \n",
        "=\n",
        "\\begin{pmatrix}\n",
        "\\pmb{y}_1 & \\pmb{y}_2 & \\cdots \\pmb{y}_N  \n",
        "\\end{pmatrix}\n",
        "$$\n",
        "\n",
        "となりますので，行列 $X$ に $A$ を掛けることで $\\pmb{y}_n$ をまとめて計算できます．以下のコードではそのように計算しています．\n",
        "\n"
      ],
      "metadata": {
        "id": "Oqxo8AnLdcWV"
      }
    },
    {
      "cell_type": "markdown",
      "source": [
        "ほげおくんの顔の座標データをならべた行列 `X` はこんなん"
      ],
      "metadata": {
        "id": "mC0t9MFiirBr"
      }
    },
    {
      "cell_type": "code",
      "source": [
        "X = hogeCoor\n",
        "print(X)\n",
        "print(X.shape)"
      ],
      "metadata": {
        "id": "OlInnDBbi0TP"
      },
      "execution_count": null,
      "outputs": []
    },
    {
      "cell_type": "markdown",
      "source": [
        "これらの座標データに，次の3つの行列をそれぞれ作用させると...\n",
        "\n",
        "$$\n",
        "A_1 = \\begin{pmatrix}\n",
        "2 & 0 \\\\ 0 & \\frac{1}{2}\n",
        "\\end{pmatrix}\n",
        "\\quad\n",
        "A_2 = \\begin{pmatrix}\n",
        "-2 & 0 \\\\ 0 & -2\n",
        "\\end{pmatrix}\n",
        "\\quad\n",
        "A_3 = \\begin{pmatrix}\n",
        "\\cos\\frac{2}{3}\\pi & -\\sin\\frac{2}{3}\\pi \\\\\n",
        "\\sin\\frac{2}{3}\\pi & \\cos\\frac{2}{3}\\pi\n",
        "\\end{pmatrix}\n",
        "=\n",
        "\\begin{pmatrix}\n",
        "-\\frac{1}{2} & -\\frac{\\sqrt{3}}{2}\\\\\n",
        "\\frac{\\sqrt{3}}{2} & -\\frac{1}{2}\n",
        "\\end{pmatrix}\n",
        "$$"
      ],
      "metadata": {
        "id": "4gGvrH0UjKtJ"
      }
    },
    {
      "cell_type": "code",
      "source": [
        "A1 = np.array([[2.0, 0.0], [0.0, 0.5]])\n",
        "print('A1 = ')\n",
        "print(A1)\n",
        "Y1 = A1 @ X\n",
        "print()\n",
        "\n",
        "A2 = np.array([[-2.0, 0.0], [0.0, -2.0]])\n",
        "print('A2 = ')\n",
        "print(A2)\n",
        "Y2 = A2 @ X\n",
        "print()\n",
        "\n",
        "theta = 2*np.pi/3\n",
        "A3 = np.array([[np.cos(theta), -np.sin(theta)], [np.sin(theta), np.cos(theta)]])\n",
        "print('A3 = ')\n",
        "print(A3)\n",
        "Y3 = A3 @ X\n",
        "\n",
        "fig, ax = plt.subplots(figsize=(3, 3))\n",
        "plotHogeo(ax, [X, Y1, Y2, Y3], ['X', 'Y1', 'Y2', 'Y3'])\n",
        "plt.show()"
      ],
      "metadata": {
        "id": "STL-5WtMfg-g"
      },
      "execution_count": null,
      "outputs": []
    },
    {
      "cell_type": "markdown",
      "source": [
        "図の `X` が元のデータ，`Y1`, `Y2`, `Y3` がそれぞれ $A_1, A_2, A_3$ によって変換されたデータです．\n",
        "\n",
        "`Y1` について考えると，\n",
        "\n",
        "$$\n",
        "\\begin{pmatrix}\n",
        "y_1 \\\\ y_2\n",
        "\\end{pmatrix}\n",
        "=\n",
        "A_1 \\begin{pmatrix}\n",
        "x_1 \\\\ x_2\n",
        "\\end{pmatrix}\n",
        " = \\begin{pmatrix}\n",
        "2 & 0 \\\\ 0 & \\frac{1}{2}\n",
        "\\end{pmatrix}\n",
        "\\begin{pmatrix}\n",
        "x_1 \\\\ x_2\n",
        "\\end{pmatrix}\n",
        "= \\begin{pmatrix}\n",
        "2x_1 \\\\ \\frac{1}{2}x_2\n",
        "\\end{pmatrix}\n",
        "$$\n",
        "\n",
        "ですから，`Y1` は， `X` の $x_1$ 座標が 2 倍，$x_2$ 座標が $\\frac{1}{2}$ 倍になっています．`Y2` も同様で，こちらは $x_1$ 座標 $x_2$ 座標ともに $-2$ 倍になっています．一方，$A_3$ は **回転行列** として知られているものの一例で，この例の場合，原点を中心として点を反時計回りに $\\frac{2}{3}\\pi$ 回転した位置に移す変換を表しています．"
      ],
      "metadata": {
        "id": "WnRmeBMykf6c"
      }
    },
    {
      "cell_type": "markdown",
      "source": [
        "もう3つ例を示します．\n",
        "\n",
        "$$\n",
        "A_4 = \\begin{pmatrix}\n",
        "-1 & 0 \\\\ 0 & 1\n",
        "\\end{pmatrix}\n",
        "\\quad\n",
        "A_5 = \\begin{pmatrix}\n",
        "1 & \\frac{1}{2} \\\\ \\frac{1}{2} & 1\n",
        "\\end{pmatrix}\n",
        "\\quad\n",
        "A_6 = \\begin{pmatrix}\n",
        "-2 & 2 \\\\\n",
        "1 & -1\n",
        "\\end{pmatrix}\n",
        "$$"
      ],
      "metadata": {
        "id": "0aNNLXIYqhBi"
      }
    },
    {
      "cell_type": "code",
      "source": [
        "A4 = np.array([[-1.0, 0.0], [0.0, 1.0]])\n",
        "Y4 = A4 @ X\n",
        "print('A4 = ')\n",
        "print(A4)\n",
        "Y4 = A4 @ X\n",
        "print()\n",
        "\n",
        "A5 = np.array([[1.0, 0.5], [0.5, 1.0]])\n",
        "Y5 = A5 @ X\n",
        "print('A5 = ')\n",
        "print(A5)\n",
        "Y5 = A5 @ X\n",
        "print()\n",
        "\n",
        "A6 = np.array([[-2.0, 2.0], [1.0, -1.0]])\n",
        "Y6 = A6 @ X\n",
        "print('A6 = ')\n",
        "print(A6)\n",
        "Y6 = A6 @ X\n",
        "print()\n",
        "\n",
        "fig, ax = plt.subplots(figsize=(3, 3))\n",
        "plotHogeo(ax, [X, Y4, Y5, Y6], ['X', 'Y4', 'Y5', 'Y6'])\n",
        "plt.show()"
      ],
      "metadata": {
        "id": "qudGaPU8hIvb"
      },
      "execution_count": null,
      "outputs": []
    },
    {
      "cell_type": "markdown",
      "source": [
        "$A_4$ は，$x_1$ 座標の符号を反転させ，$x_2$ 座標はそのままとする変換です．平面上の各点を $x_2$ 軸について対称な点に移す変換（対称変換や鏡映変換という）になっています．また，$A_5$ は，ほげおくんの顔を少しゆがめる変換になっています．\n",
        "\n",
        "一方，$A_6$ の結果はおかしなことになっています．\n",
        "理由を調べるため，$\\pmb{y} = A_6\\pmb{x}$ の計算をしてみると...\n",
        "\n",
        "$$\n",
        "\\begin{pmatrix}\n",
        "y_1 \\\\ y_2\n",
        "\\end{pmatrix}\n",
        "=\n",
        "A_6 \\begin{pmatrix}\n",
        "x_1 \\\\ x_2\n",
        "\\end{pmatrix}\n",
        " = \\begin{pmatrix}\n",
        "-2 & 2 \\\\ 1 & -1\n",
        "\\end{pmatrix}\n",
        "\\begin{pmatrix}\n",
        "x_1 \\\\ x_2\n",
        "\\end{pmatrix}\n",
        "= \\begin{pmatrix}\n",
        "-2x_1 + 2x_2 \\\\ x_1 - x_2\n",
        "\\end{pmatrix}\n",
        "= \\begin{pmatrix}\n",
        "-2(x_1 - x_2) \\\\ x_1 - x_2\n",
        "\\end{pmatrix}\n",
        "$$\n",
        "\n",
        "より，$y_2 = -\\frac{1}{2}y_1$ が成り立っています．\n",
        "これは，$(x_1, x_2)$ 平面上の任意の点が，$A_6$ によってひとつの直線上に移ることを意味しています．\n",
        "そのため，$A_6$ による変換では，ほげおくんの顔が線分につぶれてしまっています．\n"
      ],
      "metadata": {
        "id": "sOLu8_QkrPP-"
      }
    },
    {
      "cell_type": "markdown",
      "source": [
        "#### 合成変換と行列の積"
      ],
      "metadata": {
        "id": "EbfjNNh-uwmy"
      }
    },
    {
      "cell_type": "markdown",
      "source": [
        "$A, B$ を $D$ 次正方行列とするとき，$D$ 次元ベクトル $\\pmb{x}$ に $A$ を掛けて $\\pmb{y}$ に移す変換と，$\\pmb{y}$ に $B$ を掛けて $\\pmb{z}$ に移す変換は，$\\pmb{y} = A\\pmb{x}, \\pmb{z} = B\\pmb{y}$ と表せます．このとき，$\\pmb{x}$ を $\\pmb{y}$ に移して，さらに$\\pmb{z}$ に移す変換は，\n",
        "\n",
        "$$\n",
        "\\pmb{z} = B\\pmb{y} = BA\\pmb{x} = (BA)\\pmb{x}\n",
        "$$\n",
        "\n",
        "と書けます．この式の一番右を見ると，この変換は，$\\pmb{x}$ を行列 $BA$ によって一度に $\\pmb{z}$ へ移しているとも見なせます．このことから，「まず$A$を作用させ，続けて$B$を作用させる変換」は，「2つの行列の積 $BA$ を一度に作用させる変換」と等しいことが分かります（※）．\n",
        "\n",
        "同様に，「まず$B$を作用させ，続けて$A$を作用させる変換」は，「2つの行列の積 $AB$ を一度に作用させる変換」と等しくなります．\n",
        "行列の積については交換法則が一般には成り立ちませんので，$AB$ と $BA$ は一般には等しくないことに注意してください．\n",
        "\n",
        "<br>\n",
        "<hr width=\"50%\" align=\"left\">\n",
        "<span style=\"font-size: 75%\">\n",
        "※注: この議論をちゃんとするためには行列の積の演算法則の理解が必要ですが，ここではその辺りの説明を省略しています．\n",
        "</span>\n"
      ],
      "metadata": {
        "id": "SaA3K7hivKqp"
      }
    },
    {
      "cell_type": "markdown",
      "source": [
        "前に登場した $A_4$ と $A_5$ を用いて，これらの話に関する図を描いてみます．この場合，\n",
        "\n",
        "$$\n",
        "\\begin{aligned}\n",
        "A_5A_4 &=\n",
        "\\begin{pmatrix}\n",
        "1 & \\frac{1}{2} \\\\ \\frac{1}{2} & 1\n",
        "\\end{pmatrix}\n",
        "\\begin{pmatrix}\n",
        "-1 & 0 \\\\ 0 & 1\n",
        "\\end{pmatrix}\n",
        "=\n",
        "\\begin{pmatrix}\n",
        "-1 & \\frac{1}{2} \\\\\n",
        "-\\frac{1}{2} &  1\n",
        "\\end{pmatrix}\\\\\n",
        "A_4A_5 &=\n",
        "\\begin{pmatrix}\n",
        "-1 & 0 \\\\ 0 & 1\n",
        "\\end{pmatrix}\n",
        "\\begin{pmatrix}\n",
        "1 & \\frac{1}{2} \\\\ \\frac{1}{2} & 1\n",
        "\\end{pmatrix}\n",
        "=\n",
        "\\begin{pmatrix}\n",
        "-1 & -\\frac{1}{2} \\\\\n",
        "\\frac{1}{2} &  1\n",
        "\\end{pmatrix}\n",
        "\\end{aligned}\n",
        "$$\n",
        "\n",
        "ですので，$A_4A_5 \\ne A_5A_4$ となっています．\n"
      ],
      "metadata": {
        "id": "9ooWdoXOy-20"
      }
    },
    {
      "cell_type": "code",
      "source": [
        "Z45 = A5 @ (A4 @ X) # A4 → A5 の順に作用\n",
        "Z54 = A4 @ (A5 @ X) # A5 → A4 の順に作用\n",
        "\n",
        "A5A4 = A5 @ A4\n",
        "print('A5 @ A4 = ')\n",
        "print(A5A4)\n",
        "print()\n",
        "\n",
        "A4A5 = A4 @ A5\n",
        "print('A4 @ A5 = ')\n",
        "print(A4A5)\n",
        "\n",
        "Z45dash = A5A4 @ X # A5 @ A4 を作用\n",
        "Z54dash = A4A5 @ X # A4 @ A5 を作用\n",
        "\n",
        "fig, ax = plt.subplots(1, 2, figsize=(6, 3))\n",
        "plotHogeo(ax[0], [X, Z45, Z54], ['X', r'$Z_{4\\rightarrow 5}$', r'$Z_{5\\rightarrow 4}$'])\n",
        "plotHogeo(ax[1], [X, Z45dash, Z54dash], ['X', r\"$Z_{4\\rightarrow 5}'$\", r\"$Z_{5\\rightarrow 4}'$\"])\n",
        "fig.tight_layout()\n",
        "plt.show()"
      ],
      "metadata": {
        "id": "OyZWqlw4oe3T"
      },
      "execution_count": null,
      "outputs": []
    },
    {
      "cell_type": "markdown",
      "source": [
        "図の左は，$A_4$ を掛けてから $A_5$ を掛けた場合（$Z_{4 \\rightarrow 5}$）と，$A_5$ を掛けてから $A_4$ を掛けた場合（$Z_{5 \\rightarrow 4}$）を示しています．\n",
        "一方，右は，$A_5A_4$ を掛けた場合（$Z_{4 \\rightarrow 5}'$）と，$A_4A_5$ を掛けた場合（$Z_{5 \\rightarrow 4}'$）を示しています．\n",
        "\n",
        "ここから次のことが分かります：\n",
        "- $A_4$ を掛けてから $A_5$ を掛ける変換と $A_5$ を掛けてから $A_4$ を掛ける変換は同じではない（左図）\n",
        "- $A_5A_4$ を掛ける変換と $A_4A_5$ を掛ける変換は同じではない（右図）\n",
        "- $A_4$ を掛けてから $A_5$ を掛ける変換と $A_5A_4$ を掛ける変換は等しい（$A_4$と$A_5$を逆にした場合も同様）"
      ],
      "metadata": {
        "id": "5W72B2h03zKw"
      }
    },
    {
      "cell_type": "markdown",
      "source": [
        "#### 逆変換と逆行列"
      ],
      "metadata": {
        "id": "CiGcFNxFu5XA"
      }
    },
    {
      "cell_type": "markdown",
      "source": [
        "\n",
        "逆行列は次のように定義されるのでした．\n",
        "\n",
        "---\n",
        "\n",
        "$D$ 次正方行列 $A$ に対して，\n",
        "\n",
        "$$\n",
        "AX = XA = I\n",
        "$$\n",
        "\n",
        "となる $D$ 次正方行列 $X$ が存在するとき，「$A$ は **正則行列** である」または「$A$ は **正則** である」という（$I$ は $D$ 次単位行列）．このとき，行列 $X$ は一意に定まる．これを「$A$ の **逆行列**」といい，$A^{-1}$ と表す．つまり，\n",
        "\n",
        "$$\n",
        "AA^{-1} = A^{-1}A = I\n",
        "$$\n",
        "\n",
        "である．\n",
        "\n",
        "---\n",
        "\n",
        "$D$ 次正方行列 $A$ が正則であるかどうかを調べる方法は何通りもあります．詳細は省きますが，次のことが言えます．\n",
        "\n",
        "$$\n",
        "\\begin{aligned}\n",
        "\\mbox{$D$ 次正方行列 $A$ が正則である} &\\Leftrightarrow |A| \\ne 0 \\quad (\\mbox{$A$ の行列式が $0$ でない})\\\\\n",
        "&\\Leftrightarrow \\mathrm{rank}(A) = D \\quad (\\mbox{$A$ のランク（階数）が $D$ に等しい})\\\\\n",
        "\\end{aligned}\n",
        "$$"
      ],
      "metadata": {
        "id": "nCWcV9FHSIP2"
      }
    },
    {
      "cell_type": "markdown",
      "source": [
        "$D$ 次元列ベクトル $\\pmb{x}$ と $D$ 次の正則行列 $A$ に対して $\\pmb{y} = A\\pmb{x}$ であるとき，両辺に $A^{-1}$ を左からかけると $A^{-1}\\pmb{y} = A^{-1}A\\pmb{x} = I\\pmb{x} = \\pmb{x}$ となります．つまり，$\\pmb{x}$ を $A$ で変換すると $\\pmb{y}$ に移るならば，$\\pmb{y}$ を $A^{-1}$ で変換すると $\\pmb{x}$ に移ります．すなわち，$A^{-1}$ は $A$ の逆変換です．\n",
        "\n"
      ],
      "metadata": {
        "id": "ID6LAyLPTONA"
      }
    },
    {
      "cell_type": "markdown",
      "source": [
        "例えば，2次正方行列\n",
        "\n",
        "$$\n",
        "A_5 = \\begin{pmatrix}\n",
        "1 &  \\frac{1}{2} \\\\\n",
        "\\frac{1}{2} &1\n",
        "\\end{pmatrix}\n",
        "$$\n",
        "\n",
        "は正則行列であり，\n",
        "\n",
        "$$\n",
        "A_5^{-1} =\n",
        "\\frac{1}{1-\\frac{1}{4}}\n",
        "\\begin{pmatrix}\n",
        "1 & -\\frac{1}{2}\\\\\n",
        "-\\frac{1}{2} & 1\n",
        "\\end{pmatrix}\n",
        "=\n",
        "\\begin{pmatrix}\n",
        "\\frac{4}{3} & -\\frac{2}{3}\\\\\n",
        "-\\frac{2}{3} &  \\frac{4}{3}\n",
        "\\end{pmatrix}\n",
        "$$\n",
        "\n",
        "です．"
      ],
      "metadata": {
        "id": "rROKcgmBVQk7"
      }
    },
    {
      "cell_type": "code",
      "source": [
        "# A5 の逆行列\n",
        "A5inv = np.array([[4/3, -2/3], [-2/3, 4/3]])\n",
        "print('A5inv = ')\n",
        "print(A5inv)\n",
        "print()\n",
        "# A5 と (A5 の逆行列) の積\n",
        "print('A5 @ A5inv = ')\n",
        "print(A5 @ A5inv)\n",
        "print()\n",
        "# (A5 の逆行列) と A5 の積\n",
        "print('A5inv @ A5 = ')\n",
        "print(A5inv @ A5)\n",
        "print()\n",
        "# NumPy の関数を用いれば逆行列を数値計算によって求めることができる\n",
        "print(np.linalg.inv(A5))"
      ],
      "metadata": {
        "id": "cyqIsONEpqkc"
      },
      "execution_count": null,
      "outputs": []
    },
    {
      "cell_type": "markdown",
      "source": [
        "$\\pmb{y}_n = A_5\\pmb{x}_n$ のとき，$\\pmb{z}_n = A_5^{-1}\\pmb{y}_n$ としてみると..."
      ],
      "metadata": {
        "id": "XoF4G_35qu4O"
      }
    },
    {
      "cell_type": "code",
      "source": [
        "Y5 = A5 @ X\n",
        "Z5 = A5inv @ Y\n",
        "fig, ax = plt.subplots(figsize=(3, 3))\n",
        "plotHogeo(ax, [Y5, Z5], ['Y5', 'Z5'])\n",
        "plt.show()"
      ],
      "metadata": {
        "id": "A6QTfAu1qxbb"
      },
      "execution_count": null,
      "outputs": []
    },
    {
      "cell_type": "markdown",
      "source": [
        "この図の `Y5` は，上の方の図の `Y5` と同じものです．これに $A_5^{-1}$ をかけて得られる `Z5` は，元の `X` に等しいことが分かります．"
      ],
      "metadata": {
        "id": "gAoN3t2FNmX6"
      }
    },
    {
      "cell_type": "markdown",
      "source": [
        "一方，前に出てきた2次正方行列\n",
        "\n",
        "$$\n",
        "A_6 = \\begin{pmatrix}\n",
        "-2 &  2\\\\\n",
        "1 &-1\n",
        "\\end{pmatrix}\n",
        "$$\n",
        "\n",
        "は正則ではありません（確かめ方は何通りかありますが，例えば行列式の値を求めると $|A_6| = 2 - 2 = 0$ となります）．\n",
        "上で説明したことの繰り返しになりますが，\n",
        "$\\pmb{x} = \\begin{pmatrix} x_1 \\\\ x_2 \\end{pmatrix}$, $\\pmb{y} = \\begin{pmatrix} y_1 \\\\ y_2 \\end{pmatrix}$ として $\\pmb{y} = A_6\\pmb{x}$ とおくと，$y_2 = -\\frac{1}{2}y_1$ が成り立ちます．これは，$(x_1, x_2)$ 平面上の任意の点が，$A_6$ によってひとつの直線上に移ることを意味しています．\n",
        "例えば，$(0, 1)$ も $(1, 2)$ も $(2, -1)$ に移ります．\n",
        "これでは，ある点 $(y_1, y_2)$ をどこに移せば（戻せば）よいか決められないので，元の $(x_1, x_2)$ を求めることができません．\n",
        "このように，逆行列が存在しない場合，移した点を逆変換して元に戻すことができなくなります．\n",
        "\n",
        "ここでは平面が直線につぶれる例を示しましたが，一点につぶれる場合もあります（たとえば全ての要素が 0 の零行列による変換）．また，$D$ が 3 以上のときも同様のことがいえます．5次元空間中の任意の点が2次元平面上に移される，とか．"
      ],
      "metadata": {
        "id": "OLN84Kb7Wt1d"
      }
    },
    {
      "cell_type": "markdown",
      "source": [
        "#### 「行列」＝「ベクトルを並べたもの」\n",
        "\n",
        "※ **このセクションの内容は正方行列に限定されていないことに注意**"
      ],
      "metadata": {
        "id": "R8AixESlw9iF"
      }
    },
    {
      "cell_type": "markdown",
      "source": [
        "$M\\times N$ 行列 $A$ は，次のように $N$ 次元列ベクトルを $M$ 本ならべてできているとみなすことができます．\n",
        "\n",
        "$$\n",
        "A = \\begin{pmatrix}\n",
        "a_{1, 1} & a_{1, 2} & \\cdots & a_{1, N} \\\\\n",
        "a_{2, 1} & a_{2, 2} & \\cdots & a_{2, N} \\\\\n",
        "\\vdots & \\vdots & \\ddots & \\vdots \\\\\n",
        "a_{M, 1} & a_{M, 2} & \\cdots & a_{M, N} \\\\\n",
        "\\end{pmatrix}\n",
        "=\n",
        "\\begin{pmatrix}\n",
        "\\pmb{a}_1^{\\top}\\\\\n",
        "\\pmb{a}_2^{\\top}\\\\\n",
        "\\vdots \\\\\n",
        "\\pmb{a}_M^{\\top}\\\\\n",
        "\\end{pmatrix}\n",
        "=\n",
        "\\begin{pmatrix}\n",
        "\\pmb{a}_1 &\n",
        "\\pmb{a}_2 &\n",
        "\\cdots &\n",
        "\\pmb{a}_M\n",
        "\\end{pmatrix}^{\\top}\n",
        "$$\n",
        "\n",
        "$\\pmb{a}_m$ （$m = 1, 2, \\ldots, M$）は，$A$ の $m$ 行目の要素を「縦に並べた」列ベクトル\n",
        "\n",
        "$$\n",
        "\\pmb{a}_m = \\begin{pmatrix}\n",
        "a_{m, 1} \\\\ a_{m, 2} \\\\ \\vdots \\\\ a_{m, N}\n",
        "\\end{pmatrix}\n",
        "$$\n",
        "\n",
        "です．それらを転置して行ベクトルにしたものを縦に並べて $A$ ができています．\n"
      ],
      "metadata": {
        "id": "BeeiHjmsx_fr"
      }
    },
    {
      "cell_type": "markdown",
      "source": [
        "このとき，$N$ 次元列ベクトル $\\pmb{x}$ に $A$ を左から掛けて $M$ 次元列ベクトル $\\pmb{y}$ に移す変換 $\\pmb{y} = A\\pmb{x}$ は，\n",
        "\n",
        "$$\n",
        "\\pmb{y} = \\begin{pmatrix}\n",
        "\\pmb{a}_1^{\\top}\\\\\n",
        "\\pmb{a}_2^{\\top}\\\\\n",
        "\\vdots \\\\\n",
        "\\pmb{a}_M^{\\top}\\\\\n",
        "\\end{pmatrix}\n",
        "\\pmb{x}\n",
        "=\n",
        "\\begin{pmatrix}\n",
        "\\pmb{a}_1^{\\top}\\pmb{x}\\\\\n",
        "\\pmb{a}_2^{\\top}\\pmb{x}\\\\\n",
        "\\vdots\\\\\n",
        "\\pmb{a}_M^{\\top}\\pmb{x}\n",
        "\\end{pmatrix}\n",
        "$$\n",
        "\n",
        "と書けます．このことから，$\\pmb{y}$ の $m$ 番目の要素 $y_m$ は，$A$ の $m$ 行目の要素から成るベクトル $\\pmb{a}_m$ と $\\pmb{x}$ との内積であることが分かります．"
      ],
      "metadata": {
        "id": "Q91Kewap_hsv"
      }
    },
    {
      "cell_type": "markdown",
      "source": [
        "#### 直交変換と直交行列"
      ],
      "metadata": {
        "id": "WXWS0y8mUoZa"
      }
    },
    {
      "cell_type": "markdown",
      "source": [
        "$D$ 次正方行列 $A$ の逆行列が $A$ の転置行列と等しい，つまり $A^{-1} = A^{\\top}$ が成り立つとき，このような行列 $A$ を **直交行列** といいます．\n",
        "\n",
        "任意の正方行列について，$A$ の $d$ 行目の要素をならべた列ベクトルを $\\pmb{a}_d$ （$d = 1, 2, \\ldots, D$）とおくと，\n",
        "\n",
        "$$\n",
        "AA^{\\top}\n",
        "=\n",
        "\\begin{pmatrix}\n",
        "\\pmb{a}_1^{\\top}\\\\\n",
        "\\pmb{a}_2^{\\top}\\\\\n",
        "\\vdots \\\\\n",
        "\\pmb{a}_D^{\\top}\\\\\n",
        "\\end{pmatrix}\n",
        "\\begin{pmatrix}\n",
        "\\pmb{a}_1^{\\top}\\\\\n",
        "\\pmb{a}_2^{\\top}\\\\\n",
        "\\vdots \\\\\n",
        "\\pmb{a}_D^{\\top}\\\\\n",
        "\\end{pmatrix}^{\\top}\n",
        "=\n",
        "\\begin{pmatrix}\n",
        "\\pmb{a}_1^{\\top}\\\\\n",
        "\\pmb{a}_2^{\\top}\\\\\n",
        "\\vdots \\\\\n",
        "\\pmb{a}_D^{\\top}\\\\\n",
        "\\end{pmatrix}\n",
        "\\begin{pmatrix}\n",
        "\\pmb{a}_1 & \\pmb{a}_2 & \\cdots & \\pmb{a}_D\n",
        "\\end{pmatrix}\n",
        "=\n",
        "\\begin{pmatrix}\n",
        "\\pmb{a}_1^{\\top}\\pmb{a}_1 & \\pmb{a}_1^{\\top}\\pmb{a}_2 & \\cdots & \\pmb{a}_1^{\\top}\\pmb{a}_D\\\\\n",
        "\\pmb{a}_2^{\\top}\\pmb{a}_1 & \\pmb{a}_2^{\\top}\\pmb{a}_2 & \\cdots & \\pmb{a}_2^{\\top}\\pmb{a}_D\\\\\n",
        "\\vdots & \\vdots & \\ddots & \\vdots \\\\\n",
        "\\pmb{a}_D^{\\top}\\pmb{a}_1 & \\pmb{a}_D^{\\top}\\pmb{a}_2 & \\cdots & \\pmb{a}_D^{\\top}\\pmb{a}_D\\\\\n",
        "\\end{pmatrix}\n",
        "$$\n",
        "\n",
        "となります．$A$ が直交行列ならば $AA^{\\top} = I$ ですので，\n",
        "\n",
        "$$\n",
        "\\pmb{a}_i^{\\top}\\pmb{a}_j = \\pmb{a}_i\\cdot\\pmb{a}_j = \\left\\{\n",
        "\\begin{array}{cl}\n",
        "1 & (i = j)\\\\\n",
        "0 & (i \\ne j)\n",
        "\\end{array}\n",
        "\\right. \\qquad (*)\n",
        "$$\n",
        "\n",
        "が成り立ちます．逆に，正方行列 $A$ の各行について式$(*)$が成り立てば，$A$ は直交行列になります（※）．\n",
        "\n",
        "<br>\n",
        "<hr width=\"50%\" align=\"left\">\n",
        "<span style=\"font-size: 75%\">\n",
        "※注: ここでは $A$ を行ベクトルをならべたものとして議論しましたが，列ベクトルをならべたものとして考えても同じ結論が得られます．\n",
        "</span>\n"
      ],
      "metadata": {
        "id": "pz4aPIwqU3ih"
      }
    },
    {
      "cell_type": "markdown",
      "source": [
        "式$(*)$は，ベクトル $\\pmb{a}_1, \\pmb{a}_2, \\ldots, \\pmb{a}_D$ が互いに直交し，ノルムが 1 であることを表しています（$\\because \\Vert\\pmb{a}_d\\Vert^2 = \\pmb{a}_d\\cdot\\pmb{a}_d = 1$）．直交行列は，このような性質を持つベクトルをならべて作った行列となっています．"
      ],
      "metadata": {
        "id": "xlg6y7tfaqVk"
      }
    },
    {
      "cell_type": "markdown",
      "source": [
        "以下に，2次の直交行列の例をあげます\n",
        "\n",
        "- 2次の単位行列 $I$\n",
        "- $\\begin{pmatrix} 0 & 1 \\\\ 1 & 0 \\end{pmatrix}$\n",
        "- $\\theta$ を任意の実数として\n",
        "$\n",
        "\\begin{pmatrix}\n",
        "\\cos\\theta & -\\sin\\theta \\\\\n",
        "\\sin\\theta & \\cos\\theta\n",
        "\\end{pmatrix}\n",
        "$\n"
      ],
      "metadata": {
        "id": "xGRsIYiCbtEO"
      }
    },
    {
      "cell_type": "markdown",
      "source": [
        "$D$次正方行列 $A$ が直交行列であるとき，次のことが成り立ちます（※）．\n",
        "\n",
        "1. 任意の $D$ 次元列ベクトル $\\pmb{x}$ に対して，$\\Vert A\\pmb{x} \\Vert = \\Vert\\pmb{x}\\Vert$\n",
        "1. 任意の $D$ 次元列ベクトル $\\pmb{x}_1, \\pmb{x}_2$ に対して，$A\\pmb{x}_1\\cdot A\\pmb{x}_2 = \\pmb{x}_1\\cdot\\pmb{x}_2$\n",
        "\n",
        "一つ目の性質は，直交行列による変換では，ベクトルの長さ（原点との距離）が変わらないことを意味しています．また，二つ目の性質は，二つのベクトルの間の内積が変わらないことを意味しています．この二つを合わせると，変換前後で二つのベクトルのなす角が変わらないことも分かります（証明は省略）．\n",
        "\n",
        "<br>\n",
        "<hr width=\"50%\" align=\"left\">\n",
        "<span style=\"font-size: 75%\">\n",
        "※注: 逆に，この二つの性質のいずれかひとつが成り立てば，その行列 $A$ は直交行列となります．\n",
        "</span>"
      ],
      "metadata": {
        "id": "yZcmiK0Ej0kh"
      }
    },
    {
      "cell_type": "markdown",
      "source": [
        "上で出てきた\n",
        "\n",
        "$$\n",
        "A_3 = \\begin{pmatrix}\n",
        "\\cos\\frac{2}{3}\\pi & -\\sin\\frac{2}{3}\\pi \\\\\n",
        "\\sin\\frac{2}{3}\\pi & \\cos\\frac{2}{3}\\pi\n",
        "\\end{pmatrix}\n",
        "=\n",
        "\\begin{pmatrix}\n",
        "-\\frac{1}{2} & -\\frac{\\sqrt{3}}{2}\\\\\n",
        "\\frac{\\sqrt{3}}{2} & -\\frac{1}{2}\n",
        "\\end{pmatrix}\n",
        "\\quad\n",
        "A_4 = \\begin{pmatrix}\n",
        "-1 & 0 \\\\ 0 & 1\n",
        "\\end{pmatrix}\n",
        "$$\n",
        "\n",
        "は直交行列です．これらによるほげおくんの顔の変換をもう一度観察してみましょう．"
      ],
      "metadata": {
        "id": "Moa6G_d2l5bP"
      }
    },
    {
      "cell_type": "code",
      "source": [
        "print('A3 = ')\n",
        "print(A3)\n",
        "print('A3 @ A3.T = ')\n",
        "print(A3 @ A3.T)\n",
        "Y3 = A3 @ X\n",
        "\n",
        "print('A4 = ')\n",
        "print(A4)\n",
        "print('A4 @ A4.T = ')\n",
        "print(A4 @ A4.T)\n",
        "Y4 = A4 @ X\n",
        "\n",
        "fig, ax = plt.subplots(figsize=(3, 3))\n",
        "plotHogeo(ax, [X, Y3, Y4], ['X', 'Y3', 'Y4'])\n",
        "plt.show()"
      ],
      "metadata": {
        "id": "US07d9qajHfm"
      },
      "execution_count": null,
      "outputs": []
    },
    {
      "cell_type": "markdown",
      "source": [
        " $A_3A_3^{\\top} = A_4A_4^{\\top} = I$ であること，「長さが変わらない」，「角度が変わらない」という性質が成り立っていることが分かりますね．"
      ],
      "metadata": {
        "id": "VKca-tO7mZ9B"
      }
    },
    {
      "cell_type": "markdown",
      "source": [
        "#### 直交変換の図解\n",
        "\n"
      ],
      "metadata": {
        "id": "iSL8ZCaO2cLG"
      }
    },
    {
      "cell_type": "markdown",
      "source": [
        "直交変換についての理解を深めるために，2次の直交変換の例を図に示して説明します．\n",
        "\n",
        "$A$ を2次の直交行列として，\n",
        "\n",
        "$$\n",
        "A = \\begin{pmatrix}\n",
        "\\pmb{a}_1^{\\top} \\\\ \\pmb{a}_2^{\\top}\n",
        "\\end{pmatrix}\n",
        "$$\n",
        "\n",
        "とおきます．$\\pmb{a}_1\\cdot\\pmb{a}_2 = 0, \\|\\pmb{a}_1\\| = \\|\\pmb{a}_2\\| = 1$ です．\n",
        "さらに，$\\pmb{x} = \\begin{pmatrix} x_1 \\\\ x_2 \\end{pmatrix}, \\pmb{y} = \\begin{pmatrix} y_1 \\\\ y_2 \\end{pmatrix}$ として，$\\pmb{y} = A\\pmb{x}$ が成り立っているとします．このとき，$\\pmb{x}$ と $\\pmb{a}_1$ および $\\pmb{a}_2$ の成す角をそれぞれ $\\theta_1, \\theta_2$ とおくと，$y_1, y_2$ を次のように表せます．\n",
        "\n",
        "$$\n",
        "\\begin{aligned}\n",
        "y_1 &= \\pmb{a}_1^{\\top}\\pmb{x} = \\pmb{a}_1\\cdot\\pmb{x} = \\|\\pmb{a}_1\\| \\|\\pmb{x}\\|\\cos\\theta_1 = \\|\\pmb{x}\\|\\cos\\theta_1\\\\\n",
        "y_2 &= \\pmb{a}_2^{\\top}\\pmb{x} = \\pmb{a}_2\\cdot\\pmb{x} = \\|\\pmb{a}_2\\| \\|\\pmb{x}\\|\\cos\\theta_2 = \\|\\pmb{x} \\|\\cos\\theta_2\\\\\n",
        "\\end{aligned}\n",
        "$$\n",
        "\n",
        "下図は，このことを図示したものです（添字は省略しています）．\n",
        "\n"
      ],
      "metadata": {
        "id": "e8CVwNqjLi7q"
      }
    },
    {
      "cell_type": "markdown",
      "source": [
        "<img src=\"https://www-tlab.math.ryukoku.ac.jp/~takataka/course/MVA/projection01.png\">"
      ],
      "metadata": {
        "id": "Hb28a37LGYfu"
      }
    },
    {
      "cell_type": "markdown",
      "source": [
        "直感的な説明になりますが，図の $y$ は，「ベクトル $\\pmb{a}$ の向きの直線上に $\\pmb{x}$ の影を落としたときの影の先端の位置を，原点を $0$ として $\\pmb{a}$ の向きに測ったもの」に対応しています．$\\theta > \\pi/2$ のときは $y$ は負になります．\n",
        "\n",
        "上記の $A$ の場合，$y_1$ は，$\\pmb{a}_1$ 方向に落とした $\\pmb{x}$ の影の先端の位置，$y_2$ は，$\\pmb{a}_2$ 方向に落とした $\\pmb{x}$ の影の先端の位置です．\n",
        "したがって，$\\pmb{y}$ は，$\\pmb{a}_1, \\pmb{a}_2$ が作る新たな座標軸で\n",
        "$\\pmb{x}$ の位置を測って得られる座標といえます．この場合 $A$ は直交行列ですので，二つの軸 $\\pmb{a}_1$ と $\\pmb{a}_2$ は直交しています．"
      ],
      "metadata": {
        "id": "KwxHbM73PdKJ"
      }
    },
    {
      "cell_type": "markdown",
      "source": [
        "具体例を見てみましょう．\n",
        "\n",
        "$$\n",
        "A = \\begin{pmatrix}\n",
        "\\cos\\frac{\\pi}{6} & -\\sin\\frac{\\pi}{6}\\\\\n",
        "\\sin\\frac{\\pi}{6} & \\cos\\frac{\\pi}{6}\n",
        "\\end{pmatrix}\n",
        "= \\begin{pmatrix}\n",
        "\\frac{\\sqrt{3}}{2} & -\\frac{1}{2}\\\\\n",
        "\\frac{1}{2} & \\frac{\\sqrt{3}}{2}\n",
        "\\end{pmatrix}\n",
        "= \\begin{pmatrix}\n",
        "0.866\\cdots& -0.5\\\\\n",
        "0.5 & 0.866\n",
        "\\end{pmatrix}\n",
        "$$\n",
        "\n",
        "は直交行列です．$\\pmb{a}_1, \\pmb{a}_2$ は\n",
        "\n",
        "$$\n",
        "\\pmb{a}_1 = \\begin{pmatrix} 0.866\\cdots \\\\ -0.5 \\end{pmatrix}, \\quad\n",
        "\\pmb{a}_2 = \\begin{pmatrix} 0.5 \\\\ 0.866\\cdots\\end{pmatrix}\n",
        "$$\n",
        "\n",
        "です．これらの値から分かるように，$\\pmb{a}_1$ は座標平面上で $x_1$ が正で $x_2$ が負になる方（右下）を向いており，$\\pmb{a}_2$ は $x_1, x_2$ ともに正の方（右上）を向いています．"
      ],
      "metadata": {
        "id": "9YkvQ-XlRVm_"
      }
    },
    {
      "cell_type": "code",
      "source": [
        "X = hogeCoor\n",
        "\n",
        "theta = np.pi/6\n",
        "A = np.array([[np.cos(theta), -np.sin(theta)], [np.sin(theta), np.cos(theta)]])\n",
        "a1 = A[0, :]\n",
        "a2 = A[1, :]\n",
        "print('A = ')\n",
        "print(A)\n",
        "\n",
        "Y = A @ X\n",
        "\n",
        "fig, ax = plt.subplots(1, 2, figsize=(6, 3))\n",
        "\n",
        "plotHogeo(ax[0], [X], ['X'])\n",
        "xmin, xmax = ax[0].get_xlim()\n",
        "ax[0].plot([0, 2*xmax*a1[0]], [0, 2*xmax*a1[1]], color='orange', linewidth=3, label='a1')\n",
        "ax[0].plot([0, 2*xmax*a2[0]], [0, 2*xmax*a2[1]], color='green', linewidth=3, label='a2')\n",
        "ax[0].legend()\n",
        "\n",
        "plotHogeo(ax[1], [Y], ['Y'], xylabel=(r'$y_1$', r'$y_2$'))\n",
        "xmin, xmax = ax[1].get_xlim()\n",
        "ax[1].plot([0, 2*xmax], [0, 0], color='orange', linewidth=3, label='a1')\n",
        "ax[1].plot([0, 0], [0, 2*xmax], color='green', linewidth=3, label='a2')\n",
        "ax[1].legend()\n",
        "\n",
        "fig.tight_layout()\n",
        "plt.show()"
      ],
      "metadata": {
        "id": "Trv621b622Gs"
      },
      "execution_count": null,
      "outputs": []
    },
    {
      "cell_type": "markdown",
      "source": [
        "左の図の `a1`, `a2` と記された2つの半直線は，$(x_1, x_2)$ 平面上に $\\pmb{a}_1, \\pmb{a}_2$ の向きを描いています．右の図は $(y_1, y_2)$ 平面です．\n",
        "左図の $\\pmb{a}_1, \\pmb{a}_2$ を新たな座標軸として `X` の各点の位置を測り，それらの座標を，これらの軸を横軸縦軸とした図に描き直すと，右図が得られます．\n",
        "\n",
        "直交変換は，このように，座標軸を回転させたり反転させたりする変換ということができます．上の例では，座標軸を $-\\frac{\\pi}{6}$ 回転させているので，変換後の点は $\\frac{\\pi}{6}$ 回転して見えています．\n",
        "\n"
      ],
      "metadata": {
        "id": "sx_kquRMVfWX"
      }
    }
  ]
}