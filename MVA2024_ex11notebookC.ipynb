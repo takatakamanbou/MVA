{
  "nbformat": 4,
  "nbformat_minor": 0,
  "metadata": {
    "colab": {
      "provenance": [],
      "toc_visible": true,
      "authorship_tag": "ABX9TyONzu8GOq8n6JTeFFk3SgDP",
      "include_colab_link": true
    },
    "kernelspec": {
      "name": "python3",
      "display_name": "Python 3"
    },
    "language_info": {
      "name": "python"
    }
  },
  "cells": [
    {
      "cell_type": "markdown",
      "metadata": {
        "id": "view-in-github",
        "colab_type": "text"
      },
      "source": [
        "<a href=\"https://colab.research.google.com/github/takatakamanbou/MVA/blob/main/MVA2024_ex11notebookC.ipynb\" target=\"_parent\"><img src=\"https://colab.research.google.com/assets/colab-badge.svg\" alt=\"Open In Colab\"/></a>"
      ]
    },
    {
      "cell_type": "markdown",
      "source": [
        "# MVA2024 ex11notebookC\n",
        "\n",
        "<img width=64 src=\"https://www-tlab.math.ryukoku.ac.jp/~takataka/course/MVA/MVA-logo.png\"> https://www-tlab.math.ryukoku.ac.jp/wiki/?MVA/2024"
      ],
      "metadata": {
        "id": "P4preLw7SzqH"
      }
    },
    {
      "cell_type": "markdown",
      "source": [
        "----\n",
        "## 演習課題: 乳がん診断データの2クラス判別\n",
        "---\n",
        "\n",
        "機械学習の教材としてよく使われる乳がんの画像診断に関するデータ Breast Cancer Wisconsin (Diagnostic) Datasets を使って，判別分析の実験をしてみましょう．\n",
        "\n",
        "\n",
        "<b><font color=\"#ff0000\">\n",
        "注意:\n",
        "今回の notebook の中には，コードセルを実行すると問題の解答が表示されるようになっている箇所があります．\n",
        "</font>\n",
        "</b>\n"
      ],
      "metadata": {
        "id": "Snu_5I6aGJS8"
      }
    },
    {
      "cell_type": "code",
      "source": [
        "# いつものいろいろインポート\n",
        "import numpy as np\n",
        "import matplotlib.pyplot as plt\n",
        "import pandas as pd\n",
        "import seaborn\n",
        "seaborn.set()\n",
        "\n",
        "# scikit-learn のもろもろ\n",
        "from sklearn.discriminant_analysis import QuadraticDiscriminantAnalysis\n",
        "from sklearn.metrics import confusion_matrix\n",
        "from sklearn.datasets import load_breast_cancer\n",
        "\n",
        "# 「解答」を示す際に文字列を復号するのに使う\n",
        "import base64\n",
        "# 復号した文字列を Markdown 形式で（数式は LaTeX でフォーマットして）表示\n",
        "from IPython.display import display, Markdown"
      ],
      "metadata": {
        "id": "9HCsHgFjR6jo"
      },
      "execution_count": null,
      "outputs": []
    },
    {
      "cell_type": "markdown",
      "source": [
        "---\n",
        "### データの準備\n",
        "\n"
      ],
      "metadata": {
        "id": "2DBOfrIuFC6M"
      }
    },
    {
      "cell_type": "markdown",
      "source": [
        "\n",
        "Breast Cancer Wisconsin (Diagnostic) Datasets は，乳がんの画像診断に関するデータを集めたデータセットです．機械学習の学習用例題として用いられています．\n",
        "\n",
        "\n",
        "- データの概要を説明した scikit-learn のドキュメント https://scikit-learn.org/stable/datasets/toy_dataset.html#breast-cancer-dataset\n",
        "    - 変数の数は 30\n",
        "    - クラスは Benign（良性）と Malignant（悪性）の2つ\n",
        "- [UCI Machine Learning Repository](https://archive-beta.ics.uci.edu/)（カリフォルニア大学アーバイン校の機械学習データアーカイブ） の当該データのページ https://archive.ics.uci.edu/dataset/17/breast+cancer+wisconsin+diagnostic\n",
        "\n",
        "\n",
        "このデータセットは，scikit-learn の [sklearn.datasets.load_breast_cancer](https://scikit-learn.org/stable/modules/generated/sklearn.datasets.load_breast_cancer.html) を使って取得できます．"
      ],
      "metadata": {
        "id": "4iZhNbAkq_nK"
      }
    },
    {
      "cell_type": "code",
      "source": [
        "bcdata = load_breast_cancer()\n",
        "X = bcdata.data\n",
        "N, D = X.shape\n",
        "print(X[:5, :])\n",
        "print(f'N = {N}, D = {D}')\n",
        "y = bcdata.target\n",
        "print(y, y.shape) # 0 が Malignant，1 が Benign\n",
        "n = np.sum(y == 0)\n",
        "print(f'#Malignant = {n}  #Benign = {N - n}')"
      ],
      "metadata": {
        "id": "SQXhow4nFFwO"
      },
      "execution_count": null,
      "outputs": []
    },
    {
      "cell_type": "markdown",
      "source": [
        "変数 `X` に患者たちの画像診断結果を表す数値が格納されており，変数 `y` にそのクラスを表す数が格納されています．"
      ],
      "metadata": {
        "id": "D2iXy5B2ukHw"
      }
    },
    {
      "cell_type": "markdown",
      "source": [
        "notebookB と同様に， [sklearn.discriminant_analysis.QuadraticDiscriminantAnalysis](https://scikit-learn.org/stable/modules/generated/sklearn.discriminant_analysis.QuadraticDiscriminantAnalysis.html) を用いて判別分析してみましょう．"
      ],
      "metadata": {
        "id": "63YaGVVLJZTN"
      }
    },
    {
      "cell_type": "code",
      "source": [
        "# 判別分析のための QuadraticDiscriminantAnalysis クラスのインスタンスを生成\n",
        "qda = QuadraticDiscriminantAnalysis(priors=(0.5, 0.5))\n",
        "\n",
        "# X, y を用いて正規分布のパラメータを推定\n",
        "qda.fit(X, y)\n",
        "\n",
        "# X に含まれる個々のデータの所属クラスを予測\n",
        "y_pred = qda.predict(X)\n",
        "\n",
        "# 混同行列を求めて Markdown の表形式で表示．精度も表示\n",
        "confusion = confusion_matrix(y, y_pred)\n",
        "accuracy = np.sum(y == y_pred) / N\n",
        "ss = f'''\n",
        "| |予測が Malignant|予測が Benign|\n",
        "|:--|--:|--:|\n",
        "|**正解が Malignant**|{confusion[0, 0]}|{confusion[0, 1]}|\n",
        "|**正解が Benign**|{confusion[1, 0]}|{confusion[1, 1]}|\n",
        "\n",
        "(accuracy) = ({confusion[0, 0]} + {confusion[1, 1]}) / {N} = {accuracy:.4f})\n",
        "'''\n",
        "display(Markdown(ss))"
      ],
      "metadata": {
        "id": "ORlnz0EyI88Q"
      },
      "execution_count": null,
      "outputs": []
    },
    {
      "cell_type": "markdown",
      "source": [
        "「accuracy」は，全てのデータのうちクラスを正しく予測できたものの割合です．およそ98%のデータのクラスを正しく予測できました．"
      ],
      "metadata": {
        "id": "YYslzIOxt1QP"
      }
    },
    {
      "cell_type": "markdown",
      "source": [
        "#### 問題1\n",
        "\n"
      ],
      "metadata": {
        "id": "MCpaUtjNKKtA"
      }
    },
    {
      "cell_type": "code",
      "source": [
        "# 所属クラスが未知のデータ\n",
        "X2 = np.array([[ 7,  9,  43,  143, 0, 0, 0, 0, 0, 0, 0, 0,  1,   7, 0, 0, 0, 0, 0, 0,  8, 12,  50,  185, 0, 0, 0, 0, 0, 0],\n",
        "               [28, 39, 188, 2500, 0, 0, 0, 0, 0, 0, 3, 5, 22, 542, 0, 0, 0, 0, 0, 0, 36, 50, 250, 4000, 0, 1, 1, 0, 1, 0],\n",
        "               [10, 20, 100,  800, 0, 0, 0, 0, 0, 0, 1, 2, 10, 200, 0, 0, 0, 0, 0, 0, 15, 20, 100,  851, 0, 0, 0, 0, 0, 0]])"
      ],
      "metadata": {
        "id": "5YE2HFiLKO_x"
      },
      "execution_count": null,
      "outputs": []
    },
    {
      "cell_type": "markdown",
      "source": [
        "次のセルに，`X2` に格納されたデータそれぞれの所属クラスを予測し，その値を表示するコードを書きなさい．各データが悪性/良性のどちらと予測されたのかを書き留めておきなさい．"
      ],
      "metadata": {
        "id": "ge1BpkpkKiIl"
      }
    },
    {
      "cell_type": "code",
      "source": [
        "\n",
        "\n",
        "\n",
        "\n"
      ],
      "metadata": {
        "id": "U4ENWT1SK_S2"
      },
      "execution_count": null,
      "outputs": []
    },
    {
      "cell_type": "markdown",
      "source": [
        "#### 問題2"
      ],
      "metadata": {
        "id": "Qbs9PBfcgGt-"
      }
    },
    {
      "cell_type": "markdown",
      "source": [
        "次の文中の $\\fbox{?}$ に当てはまるものを答えなさい．\n",
        "\n",
        "$D$ 次元のデータに正規分布を当てはめる場合，その平均と分散共分散行列を推定する必要がある．平均は $\\fbox{?}$ 次元ベクトルなので，推定すべき変数は $\\fbox{?}$ 個ある．分散共分散行列は $\\fbox{?}\\times\\fbox{?}$ の行列であるが，$\\fbox{?}$ 行列なので，対角要素より上の部分（上三角要素）と下の部分（下三角要素）は等しい．そのため，推定すべき変数は $1 + 2 + \\cdots + D = \\frac{1}{2}D(D+1)$ 個ある．この式には $D$ の2乗の項が含まれるので，データの次元数 $D$ が大きくなると，推定すべき変数の数が急速に大きくなる（そのため，次元数の大きいデータの分散共分散行列を精度よく推定するのは難しくなる）ことに注意が必要である．\n",
        "\n",
        "上で扱っている乳がん診断データの2クラス判別問題の場合，$D = \\fbox{?}$ だから，$\\fbox{?}$ 次元ベクトルの平均をクラスごとにひとつずつで計 $\\fbox{?}$ 個，$\\fbox{?}\\times\\fbox{?}$ の分散共分散行列を計 $\\fbox{?}$ 個求めている．"
      ],
      "metadata": {
        "id": "u2SZAAm2ve78"
      }
    },
    {
      "cell_type": "code",
      "source": [
        "# このコードセルを実行すると，上記の解答を表示します\n",
        "Q = b'CiREJCwgJEQkLCAkRCQsICREJCwg5a++56ewLCAzMCwgMzAsIDIsIDMwLCAzMCwgMgo='\n",
        "display(Markdown(base64.b64decode(Q).decode('utf-8')))"
      ],
      "metadata": {
        "id": "8Fkf8VFaf13T"
      },
      "execution_count": null,
      "outputs": []
    },
    {
      "cell_type": "code",
      "source": [],
      "metadata": {
        "id": "YhaQgfDNf3dK"
      },
      "execution_count": null,
      "outputs": []
    }
  ]
}