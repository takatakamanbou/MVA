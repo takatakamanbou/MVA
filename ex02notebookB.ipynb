{
  "nbformat": 4,
  "nbformat_minor": 0,
  "metadata": {
    "colab": {
      "provenance": [],
      "collapsed_sections": [],
      "toc_visible": true,
      "authorship_tag": "ABX9TyObVvoaQ5HK7eI4Mf/dYKom",
      "include_colab_link": true
    },
    "kernelspec": {
      "name": "python3",
      "display_name": "Python 3"
    },
    "language_info": {
      "name": "python"
    }
  },
  "cells": [
    {
      "cell_type": "markdown",
      "metadata": {
        "id": "view-in-github",
        "colab_type": "text"
      },
      "source": [
        "<a href=\"https://colab.research.google.com/github/takatakamanbou/MVA/blob/2022/ex02notebookB.ipynb\" target=\"_parent\"><img src=\"https://colab.research.google.com/assets/colab-badge.svg\" alt=\"Open In Colab\"/></a>"
      ]
    },
    {
      "cell_type": "markdown",
      "source": [
        "# MVA2022 ex02notebookB\n",
        "\n",
        "<img width=64 src=\"https://www-tlab.math.ryukoku.ac.jp/~takataka/course/MVA/MVA-logo.png\"> https://www-tlab.math.ryukoku.ac.jp/wiki/?MVA/2022"
      ],
      "metadata": {
        "id": "P4preLw7SzqH"
      }
    },
    {
      "cell_type": "markdown",
      "source": [
        "----\n",
        "## NumPy の初歩 その2\n"
      ],
      "metadata": {
        "id": "zDtnBWKha6vx"
      }
    },
    {
      "cell_type": "markdown",
      "metadata": {
        "id": "weuyu8H6bqtL"
      },
      "source": [
        "前回に続いて NumPy の初歩の話です．\n"
      ]
    },
    {
      "cell_type": "code",
      "metadata": {
        "id": "I226xIKJbqtM"
      },
      "source": [
        "import numpy as np  # numpy モジュールをインポートして np という名前で呼べるようにする"
      ],
      "execution_count": null,
      "outputs": []
    },
    {
      "cell_type": "markdown",
      "source": [
        "### 2次元配列を作る"
      ],
      "metadata": {
        "id": "bXPrFBHeogbD"
      }
    },
    {
      "cell_type": "markdown",
      "metadata": {
        "id": "ZnE7_3uaRFDn"
      },
      "source": [
        "NumPy の配列 `np.array` は，2次元以上にもできます．\n",
        "`np.array` の引数の `[` や `]` が二重になっている箇所があることに注意してください．\n",
        "このように二重のリスト（リストのリスト）を渡すと2次元配列を作ることができます．"
      ]
    },
    {
      "cell_type": "code",
      "source": [
        "X = np.array([[1, 2, 3], [4, 5, 6]]) # 整数の2次元配列\n",
        "print(X)\n",
        "print(X.shape) # 配列 X の shape（形）． 2行3列の2次元配列（=行列）であることがわかる\n",
        "print(X.dtype) # 配列 X の要素のデータ型．要素は整数型であることがわかる"
      ],
      "metadata": {
        "id": "z8byvBOBPEQQ"
      },
      "execution_count": null,
      "outputs": []
    },
    {
      "cell_type": "code",
      "source": [
        "Y = np.array([[1, 2],        # 見やすくするために改行を入れて書いてもよい\n",
        "              [np.pi, 4.56],  # np.pi は円周率\n",
        "              [5, 6]])       # 浮動小数点数の配列\n",
        "print(Y)\n",
        "print(Y.shape)\n",
        "print(Y.dtype)"
      ],
      "metadata": {
        "id": "FEebHACWPb9R"
      },
      "execution_count": null,
      "outputs": []
    },
    {
      "cell_type": "markdown",
      "source": [
        "要素にアクセスすることもできます．\n",
        "要素番号は 0 からはじまります．"
      ],
      "metadata": {
        "id": "qAr5goBPdTaO"
      }
    },
    {
      "cell_type": "code",
      "source": [
        "print(X[1, 2]) # （0から数えて）1行目の2列目の値\n",
        "print(X[1][2]) # このような書き方でもよい"
      ],
      "metadata": {
        "id": "Hdb188w-dhIH"
      },
      "execution_count": null,
      "outputs": []
    },
    {
      "cell_type": "markdown",
      "source": [
        "次のセルを修正して，`Y` の要素 `3.14...` のみが出力されるようにしよう．"
      ],
      "metadata": {
        "id": "H2b6UD7v5lvi"
      }
    },
    {
      "cell_type": "code",
      "source": [
        "print(Y)"
      ],
      "metadata": {
        "id": "4y7ntgVed0Kn"
      },
      "execution_count": null,
      "outputs": []
    },
    {
      "cell_type": "markdown",
      "source": [
        "整数の配列に浮動小数点数を代入しようとすると..."
      ],
      "metadata": {
        "id": "s7rjF1LhdaFB"
      }
    },
    {
      "cell_type": "code",
      "source": [
        "X[1, 2] = 123.4567\n",
        "print(X)"
      ],
      "metadata": {
        "id": "v2CV0z5EeP1_"
      },
      "execution_count": null,
      "outputs": []
    },
    {
      "cell_type": "code",
      "source": [
        "print(X.shape)"
      ],
      "metadata": {
        "id": "M3Z1Bgxa7z2g"
      },
      "execution_count": null,
      "outputs": []
    },
    {
      "cell_type": "markdown",
      "source": [
        "配列 `A` に対して，`A.shape` は，その配列の「形」を表します．\n",
        "上記の `X` は shape が `(2, 3)` ですので，2行3列の2次元配列です．\n",
        "`X` の0行目は `[1 2 3]` で，1行目は `[4 5 123]` ですね．\n",
        "\n",
        "次のようにして，特定の行や列を抜き出して扱うこともできます．"
      ],
      "metadata": {
        "id": "hb8qi2gO6OV-"
      }
    },
    {
      "cell_type": "code",
      "source": [
        "print(X[0, :])  # 0行目（「:」は「その軸方向の要素全部」の意味）"
      ],
      "metadata": {
        "id": "AO4k0xvP8EPM"
      },
      "execution_count": null,
      "outputs": []
    },
    {
      "cell_type": "code",
      "source": [
        "print(X[1])  # 1行目（ X[1, :] の「:」は省略することもできる）"
      ],
      "metadata": {
        "id": "RkbMme0u8ha2"
      },
      "execution_count": null,
      "outputs": []
    },
    {
      "cell_type": "code",
      "source": [
        "print(X[:, 1]) # 1列目（この「:」は省略できませんね）"
      ],
      "metadata": {
        "id": "wDzWWDJU8k8D"
      },
      "execution_count": null,
      "outputs": []
    },
    {
      "cell_type": "markdown",
      "source": [
        "次のセルを修正して，`Y` の2行目と1列目をそれぞれ `print` させてみましょう．"
      ],
      "metadata": {
        "id": "17T__Pxe82mI"
      }
    },
    {
      "cell_type": "code",
      "source": [
        "print(Y)\n",
        "print(Y)"
      ],
      "metadata": {
        "id": "O0KV-_fU9EQp"
      },
      "execution_count": null,
      "outputs": []
    },
    {
      "cell_type": "markdown",
      "source": [
        "3次元以上の配列も同じように扱えますが，説明は省略します．"
      ],
      "metadata": {
        "id": "mFeQjXs66FBK"
      }
    },
    {
      "cell_type": "markdown",
      "source": [
        "### 2次元配列に対する演算"
      ],
      "metadata": {
        "id": "e-717bwcotMJ"
      }
    },
    {
      "cell_type": "markdown",
      "source": [
        "次の演算が何を行っているか考えよう．"
      ],
      "metadata": {
        "id": "hKMryDJyP_PG"
      }
    },
    {
      "cell_type": "code",
      "source": [
        "X2 = X + 2\n",
        "print(X2)"
      ],
      "metadata": {
        "id": "Quu1irglPy0n"
      },
      "execution_count": null,
      "outputs": []
    },
    {
      "cell_type": "markdown",
      "source": [
        "`X2` は，配列`X` の各要素に 2 を加えてできた,`X`と同じ shape の配列となっています．\n",
        "\n",
        "\n"
      ],
      "metadata": {
        "id": "zCEEwb9hel4H"
      }
    },
    {
      "cell_type": "code",
      "metadata": {
        "id": "LZ8kdYXGbqtN"
      },
      "source": [
        "print(2*X - 1)"
      ],
      "execution_count": null,
      "outputs": []
    },
    {
      "cell_type": "markdown",
      "source": [
        "ここでの `2*X` は，配列`X`の各要素を2倍してできた，`X`と同じ shape の配列です．\n",
        "その配列の各要素から 1 を引いたものが最終的な結果となっています．"
      ],
      "metadata": {
        "id": "Tdpd3gS7_1a8"
      }
    },
    {
      "cell_type": "markdown",
      "source": [
        "「配列 `+` 配列」や「配列 `*` 配列」などはどうなるでしょうか．"
      ],
      "metadata": {
        "id": "IwEQnBZLAStQ"
      }
    },
    {
      "cell_type": "code",
      "source": [
        "A = np.array([[2, 4, 6], [8, 10, 12]])\n",
        "print(A)"
      ],
      "metadata": {
        "id": "b-rC4U0gAeB3"
      },
      "execution_count": null,
      "outputs": []
    },
    {
      "cell_type": "code",
      "source": [
        "b = np.arange(6) # 0 以上 6 未満（1刻み）\n",
        "print(b)"
      ],
      "metadata": {
        "id": "VbbGkZ2nAuX-"
      },
      "execution_count": null,
      "outputs": []
    },
    {
      "cell_type": "code",
      "source": [
        "B = b.reshape((2, 3))  # このようにすると，B は b の shape を (2, 3) に変えたものになる\n",
        "print(B)"
      ],
      "metadata": {
        "id": "cX-e96OgA7ZV"
      },
      "execution_count": null,
      "outputs": []
    },
    {
      "cell_type": "code",
      "source": [
        "print(A + B)\n",
        "print()\n",
        "print(A * B)"
      ],
      "metadata": {
        "id": "z31_g8xNgT_9"
      },
      "execution_count": null,
      "outputs": []
    },
    {
      "cell_type": "markdown",
      "source": [
        "「配列 `+` 配列」は要素ごとの和，「配列 `*` 配列」は要素ごとの積となっています．後者は行列の意味での積とは異なることに注意．\n",
        "これらの演算では，2つの配列の shape が合っていなければいけません（注）．\n",
        "\n",
        "<span style=\"font-size: 75%\">\n",
        "※ 注: 実は同じ shape でなくともエラーにならず計算できる場合があります．詳しくは後ほど．\n",
        "</span>"
      ],
      "metadata": {
        "id": "FRqvoMVQCEvf"
      }
    },
    {
      "cell_type": "markdown",
      "source": [
        "前回，ベクトルとベクトルの内積を求めるものとして `@`演算子を紹介しましたが，実は，\n",
        "「2次元配列 `@` 2次元配列」とした場合，行列の積になります．"
      ],
      "metadata": {
        "id": "1zdZ0KEfghON"
      }
    },
    {
      "cell_type": "code",
      "source": [
        "A = np.arange(6).reshape((2, 3))\n",
        "B = np.arange(6).reshape((3, 2))\n",
        "print(A)\n",
        "print()\n",
        "print(B)"
      ],
      "metadata": {
        "id": "04luKTzRhzxX"
      },
      "execution_count": null,
      "outputs": []
    },
    {
      "cell_type": "markdown",
      "source": [
        "$$\n",
        "A = \\begin{pmatrix}\n",
        "0 & 1 & 2\\\\\n",
        "3 & 4 & 5\\\\\n",
        "\\end{pmatrix}\n",
        "\\quad\n",
        "B = \\begin{pmatrix}\n",
        "0 & 1 \\\\\n",
        "2 & 3 \\\\\n",
        "4 & 5 \\\\\n",
        "\\end{pmatrix}\n",
        "$$\n"
      ],
      "metadata": {
        "id": "2nkonJ7eEbbH"
      }
    },
    {
      "cell_type": "code",
      "source": [
        "print(A @ B)"
      ],
      "metadata": {
        "id": "M5KLl1L2ESCp"
      },
      "execution_count": null,
      "outputs": []
    },
    {
      "cell_type": "markdown",
      "source": [
        "$A$ は 2行3列，$B$は 3行2列なので，$AB$は2行2列．"
      ],
      "metadata": {
        "id": "kblFthQNEyW6"
      }
    },
    {
      "cell_type": "code",
      "source": [
        "print(B @ A)"
      ],
      "metadata": {
        "id": "1b5u_cqrFFAn"
      },
      "execution_count": null,
      "outputs": []
    },
    {
      "cell_type": "markdown",
      "source": [
        "$BA$は3行3列．"
      ],
      "metadata": {
        "id": "csVPv7XsERf5"
      }
    },
    {
      "cell_type": "markdown",
      "source": [
        "演算子の前後の配列の shape が計算できる組み合わせでなければエラーになります．"
      ],
      "metadata": {
        "id": "tzzgIq-cFRxe"
      }
    },
    {
      "cell_type": "code",
      "source": [
        "print(A @ A)"
      ],
      "metadata": {
        "id": "3E-9bGxkFa9r"
      },
      "execution_count": null,
      "outputs": []
    },
    {
      "cell_type": "code",
      "source": [
        "print(A * B)"
      ],
      "metadata": {
        "id": "RvGZrzv8FeD_"
      },
      "execution_count": null,
      "outputs": []
    },
    {
      "cell_type": "markdown",
      "source": [
        "次のようにして，行列 $A$ の転置行列 $A^{\\top}$ を求めることができます．"
      ],
      "metadata": {
        "id": "XNIHja37GlO8"
      }
    },
    {
      "cell_type": "code",
      "source": [
        "print(A.T)"
      ],
      "metadata": {
        "id": "emk8RZTuh7BR"
      },
      "execution_count": null,
      "outputs": []
    },
    {
      "cell_type": "markdown",
      "source": [
        "### 関数を使う（`np.sum`, `np.mean`, etc.）"
      ],
      "metadata": {
        "id": "qH0TNvfYVvTp"
      }
    },
    {
      "cell_type": "markdown",
      "source": [
        "関数 `np.sum` に配列を渡すと，すべての要素の和を返してくれます．"
      ],
      "metadata": {
        "id": "o4c-RXvQWRe4"
      }
    },
    {
      "cell_type": "code",
      "source": [
        "A = np.arange(6).reshape((2, 3))\n",
        "print(A)\n",
        "print(np.sum(A))"
      ],
      "metadata": {
        "id": "A65RheW6V-8V"
      },
      "execution_count": null,
      "outputs": []
    },
    {
      "cell_type": "markdown",
      "source": [
        "次のように引数を指定すると（注），行方向や列方向の和を計算させることもできます．\n",
        "\n",
        "<span style=\"font-size: 75%\">\n",
        "※注: 関数の引数に `hoge=fuga` みたいな書き方をするのは，NumPy独自の機能ではなく，Pythonの関数一般に使える「キーワード引数」という機能です．\n",
        "気になるひとは Python の参考資料にあたってね．\n",
        "</span>"
      ],
      "metadata": {
        "id": "LYBSGrysWZpY"
      }
    },
    {
      "cell_type": "code",
      "source": [
        "print(np.sum(A, axis=0)) # 0番目の添字の方向（行方向）に和をとる"
      ],
      "metadata": {
        "id": "qWt8_PaXWja7"
      },
      "execution_count": null,
      "outputs": []
    },
    {
      "cell_type": "code",
      "source": [
        "print(np.sum(A, axis=1)) # 1番目の添字の方向（列方向）に和をとる"
      ],
      "metadata": {
        "id": "4c4iDZUzWyQh"
      },
      "execution_count": null,
      "outputs": []
    },
    {
      "cell_type": "markdown",
      "source": [
        "同様に，`np.mean` を使えば，全要素の平均，行方向や列方向の平均を求められます（例は省略）． `np.std` で標準偏差，`np.var` で分散．\n",
        "\n",
        "一方，`np.sqrt` のような関数に配列を渡すと，個々の要素に作用します（ = 要素ごとにその関数を適用した結果を並べた同じ shape の配列が返される）．"
      ],
      "metadata": {
        "id": "wbw-CCcLXC6D"
      }
    },
    {
      "cell_type": "code",
      "source": [
        "print(np.sqrt(A))"
      ],
      "metadata": {
        "id": "LdE0I5AxXrdK"
      },
      "execution_count": null,
      "outputs": []
    },
    {
      "cell_type": "code",
      "source": [
        "print(np.exp(A))"
      ],
      "metadata": {
        "id": "ngZgt8pxXwn3"
      },
      "execution_count": null,
      "outputs": []
    },
    {
      "cell_type": "markdown",
      "source": [
        "他にも便利な関数がいっぱいあります．必要になったときに，次のようにするとよいでしょう．\n",
        "- `numpy ほげ` とか `np.exp` みたいにキーワードでウェブ検索する\n",
        "- NumPy のドキュメントを参照する https://numpy.org/doc/stable/reference/index.html"
      ],
      "metadata": {
        "id": "hYIbzXsGYwxH"
      }
    },
    {
      "cell_type": "markdown",
      "source": [
        "### 2次元配列と1次元配列の間の演算"
      ],
      "metadata": {
        "id": "bZiER6aCX-gb"
      }
    },
    {
      "cell_type": "markdown",
      "source": [
        "2次元配列と1次元配列の間の演算について簡単に説明します．"
      ],
      "metadata": {
        "id": "8VjaTVOpa2dX"
      }
    },
    {
      "cell_type": "code",
      "source": [
        "A = np.array([[1, 0, -1], [3, -1, 2]]) # (2, 3) の2次元配列\n",
        "print(A)\n",
        "print(A.shape)\n",
        "print()\n",
        "x = np.array([1, 2, 3]) # (3, ) の1次元配列\n",
        "print(x)\n",
        "print(x.shape)"
      ],
      "metadata": {
        "id": "DO3acLHTX-Bb"
      },
      "execution_count": null,
      "outputs": []
    },
    {
      "cell_type": "markdown",
      "source": [
        "上記のセルを実行すると，`A` は shape が `(2, 3)` の2次元配列， `x` は shape が `(3, )` の1次元配列となります．\n",
        "\n",
        "このとき，`A @ x` は次のような計算と同じことになります．\n",
        "$$\n",
        "\\begin{pmatrix}\n",
        "1 & 0 & -1\\\\\n",
        "3 & -1 & 2\n",
        "\\end{pmatrix}\n",
        "\\begin{pmatrix}\n",
        "1 \\\\ 2 \\\\ 3\n",
        "\\end{pmatrix}\n",
        "= \n",
        "\\begin{pmatrix}\n",
        "-2 \\\\ 7\n",
        "\\end{pmatrix}\n",
        "$$"
      ],
      "metadata": {
        "id": "8NoP91aCbcG2"
      }
    },
    {
      "cell_type": "code",
      "source": [
        "print(A @ x)"
      ],
      "metadata": {
        "id": "eOYUZUa7X52o"
      },
      "execution_count": null,
      "outputs": []
    },
    {
      "cell_type": "markdown",
      "source": [
        "一方，数学的には\n",
        "$$\n",
        "\\begin{pmatrix}\n",
        "1 & 0 & -1\\\\\n",
        "3 & -1 & 2\n",
        "\\end{pmatrix}\n",
        "+\n",
        "\\begin{pmatrix}\n",
        "1 \\\\ 2 \\\\ 3\n",
        "\\end{pmatrix}\n",
        "\\quad \\mbox{や} \\quad\n",
        "\\begin{pmatrix}\n",
        "1 & 0 & -1\\\\\n",
        "3 & -1 & 2\n",
        "\\end{pmatrix}\n",
        "+\n",
        "\\begin{pmatrix}\n",
        "1 & 2 & 3\n",
        "\\end{pmatrix}\n",
        "$$\n",
        "みたいな計算はできませんが， `A + x` は計算できてしまいます．"
      ],
      "metadata": {
        "id": "Wk9tbC0vdSUa"
      }
    },
    {
      "cell_type": "code",
      "source": [
        "print(A + x)"
      ],
      "metadata": {
        "id": "62bvrB5ic9eQ"
      },
      "execution_count": null,
      "outputs": []
    },
    {
      "cell_type": "markdown",
      "source": [
        "実は，これは\n",
        "$$\n",
        "\\begin{pmatrix}\n",
        "1 & 0 & -1\\\\\n",
        "3 & -1 & 2\n",
        "\\end{pmatrix}\n",
        "+\n",
        "\\begin{pmatrix}\n",
        "1 & 2 & 3\\\\\n",
        "1 & 2 & 3\n",
        "\\end{pmatrix}\n",
        "$$\n",
        "と等しい結果となっています． 本来，`+` 演算子の前後の配列は shape が一致していなければならないはずです．\n",
        "この場合，前後の配列は `(2, 3)` と `(3, )` で一致していませんが，後ろ側の配列を勝手に上の式のように2行にならべて `(2, 3)` 配列とみなして計算しています．\n",
        "\n",
        "この辺のことをきちんと理解するのは難しいしこの授業の本筋から外れますので，現時点では，そういうことがあるので要注意，ということを認識しておいてもらえれば結構です．\n",
        "`np.array` の計算で頭がこんがらがってきたら，コードのあちこちに`print(A.shape)` みたいなのをはさんで，配列の shape がどうなっているか確認するようにするとよいでしょう．"
      ],
      "metadata": {
        "id": "7AxbHBf6d1S_"
      }
    },
    {
      "cell_type": "markdown",
      "source": [
        "### 連立方程式の解を求める"
      ],
      "metadata": {
        "id": "Cwq4zO99QrRI"
      }
    },
    {
      "cell_type": "markdown",
      "source": [
        "$$\n",
        "\\left\\{ \\begin{array}{l}\n",
        "2x+y = 2\\\\\n",
        "3x-y = 8\n",
        "\\end{array} \\right.\n",
        "$$"
      ],
      "metadata": {
        "id": "B9KWK0nmR8Ev"
      }
    },
    {
      "cell_type": "markdown",
      "source": [
        "上記の連立方程式を手計算によって解きなさい．"
      ],
      "metadata": {
        "id": "hZckTVniSSu5"
      }
    },
    {
      "cell_type": "markdown",
      "source": [
        "これを，NumPy を使った数値計算でも解いてみましょう．$2\\times 2$ 行列 $A$ と $2\\times 1$ 行列 $\\mathbf{b}$ を\n",
        "$$\n",
        "A = \\begin{pmatrix}\n",
        "2 & 1\\\\\n",
        "3 & -1\n",
        "\\end{pmatrix}\n",
        "\\qquad\n",
        "\\mathbf{b} = \\begin{pmatrix}\n",
        "2 \\\\ 8\n",
        "\\end{pmatrix}\n",
        "$$\n",
        "とおけば，この連立方程式は\n",
        "$$\n",
        "A\\begin{pmatrix}\n",
        "x \\\\ y\n",
        "\\end{pmatrix}\n",
        "= \\mathbf{b}\n",
        "$$\n",
        "と書けます．"
      ],
      "metadata": {
        "id": "_1hLkyZYSadR"
      }
    },
    {
      "cell_type": "markdown",
      "source": [
        "上記の $A$ と $\\mathbf{b}$ に相当する np.array を Numpy の関数 [`np.linalg.solve`](https://numpy.org/doc/stable/reference/generated/numpy.linalg.solve.html) に渡すと，解 $(x, y)$ の値を np.array として返してくれます．"
      ],
      "metadata": {
        "id": "Ph-2dYNOTVNL"
      }
    },
    {
      "cell_type": "code",
      "source": [
        "A = np.array([[2, 1], [3, -1]])\n",
        "b = np.array([2, 8])\n",
        "x = np.linalg.solve(A, b)\n",
        "print(x)"
      ],
      "metadata": {
        "id": "DCt50W54T1Ga"
      },
      "execution_count": null,
      "outputs": []
    },
    {
      "cell_type": "markdown",
      "source": [
        "### ［よだんだよん］ スライスとビュー"
      ],
      "metadata": {
        "id": "tGIKpA_ZOIFm"
      }
    },
    {
      "cell_type": "code",
      "source": [
        "A = np.arange(1, 13).reshape((3, 4))\n",
        "print(A)"
      ],
      "metadata": {
        "id": "PNaOI3xdOL6H"
      },
      "execution_count": null,
      "outputs": []
    },
    {
      "cell_type": "markdown",
      "source": [
        "上記のような配列があったときに，次のようにしてその一部を参照できるのでした．"
      ],
      "metadata": {
        "id": "Y9f7fWGzOLSi"
      }
    },
    {
      "cell_type": "code",
      "source": [
        "print(A[1, 3])\n",
        "print(A[2, :])\n",
        "print(A[:, 2])"
      ],
      "metadata": {
        "id": "qSEu6lo3O47f"
      },
      "execution_count": null,
      "outputs": []
    },
    {
      "cell_type": "markdown",
      "source": [
        "実は，この「`:`」の部分は，次のように書くこともできます．"
      ],
      "metadata": {
        "id": "ZQQWDkacPYe9"
      }
    },
    {
      "cell_type": "code",
      "source": [
        "print(A[2, 1:3])"
      ],
      "metadata": {
        "id": "9x-S3MnwPgKz"
      },
      "execution_count": null,
      "outputs": []
    },
    {
      "cell_type": "markdown",
      "source": [
        "こうすると，配列 `A` の2行目の，1番目から2番目（3番目の一つ手前）までの要素を取り出すことになります． `:` の前の数を省略すると最初から，後ろの数を省略すると最後まで．"
      ],
      "metadata": {
        "id": "oAUqXmZLPk6L"
      }
    },
    {
      "cell_type": "code",
      "source": [
        "print(A[2, :3])\n",
        "print(A[2, 1:])\n",
        "print(A[1:, :3])"
      ],
      "metadata": {
        "id": "1HtIT3-UQBic"
      },
      "execution_count": null,
      "outputs": []
    },
    {
      "cell_type": "markdown",
      "source": [
        "このように `:` を使って配列の一部の要素を指定する方法を「スライス」といいます（np.array 特有のものではなく，Python のリストなどでも使えます)．"
      ],
      "metadata": {
        "id": "gR_gkFS3Ws1e"
      }
    },
    {
      "cell_type": "markdown",
      "source": [
        "スライスを利用して，配列の一部に値を代入することもできます．"
      ],
      "metadata": {
        "id": "MsB4vLjrYIhc"
      }
    },
    {
      "cell_type": "code",
      "source": [
        "A = np.arange(1, 13).reshape((3, 4))\n",
        "print(A)\n",
        "print()\n",
        "aa = np.array([55, 66])\n",
        "print(aa)\n",
        "print()\n",
        "A[0, 1:3] = aa\n",
        "A[1:, 2] = aa\n",
        "print(A)"
      ],
      "metadata": {
        "id": "jTFOht_ZUYIB"
      },
      "execution_count": null,
      "outputs": []
    },
    {
      "cell_type": "markdown",
      "source": [
        "スライスで切り出した配列は元の配列の一部ですので，コンピュータのメモリ上で元の配列と値を共有しています．したがって，スライスした配列の値を変更すれば，元の配列の値も変わります．"
      ],
      "metadata": {
        "id": "CPyTX2b2Zew4"
      }
    },
    {
      "cell_type": "code",
      "source": [
        "A = np.arange(1, 13).reshape((3, 4))\n",
        "print(A)\n",
        "A[1:3, 2:] *= 10\n",
        "print(A)"
      ],
      "metadata": {
        "id": "809_Y5fEYXUH"
      },
      "execution_count": null,
      "outputs": []
    },
    {
      "cell_type": "markdown",
      "source": [
        "reshape 等でも同様のことになります．"
      ],
      "metadata": {
        "id": "UedY6g78Z_KO"
      }
    },
    {
      "cell_type": "code",
      "source": [
        "a = np.arange(1, 13)\n",
        "A = a.reshape((3, 4))\n",
        "print(a)\n",
        "print(A)\n",
        "print()\n",
        "a[3:7] *= 10\n",
        "print(a)\n",
        "print(A)"
      ],
      "metadata": {
        "id": "O65BEZwdaDu6"
      },
      "execution_count": null,
      "outputs": []
    }
  ]
}