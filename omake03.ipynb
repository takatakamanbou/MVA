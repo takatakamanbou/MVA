{
  "nbformat": 4,
  "nbformat_minor": 0,
  "metadata": {
    "colab": {
      "provenance": [],
      "collapsed_sections": [],
      "toc_visible": true,
      "authorship_tag": "ABX9TyNCr8jZb8wCAjBQKrXI88ay",
      "include_colab_link": true
    },
    "kernelspec": {
      "name": "python3",
      "display_name": "Python 3"
    },
    "language_info": {
      "name": "python"
    }
  },
  "cells": [
    {
      "cell_type": "markdown",
      "metadata": {
        "id": "view-in-github",
        "colab_type": "text"
      },
      "source": [
        "<a href=\"https://colab.research.google.com/github/takatakamanbou/MVA/blob/2022/omake03.ipynb\" target=\"_parent\"><img src=\"https://colab.research.google.com/assets/colab-badge.svg\" alt=\"Open In Colab\"/></a>"
      ]
    },
    {
      "cell_type": "markdown",
      "source": [
        "# MVA2022 omake03\n",
        "\n",
        "<img width=64 src=\"https://www-tlab.math.ryukoku.ac.jp/~takataka/course/MVA/MVA-logo.png\"> https://www-tlab.math.ryukoku.ac.jp/wiki/?MVA/2022"
      ],
      "metadata": {
        "id": "P4preLw7SzqH"
      }
    },
    {
      "cell_type": "markdown",
      "source": [
        "----\n",
        "## おまけ課題\n",
        "----"
      ],
      "metadata": {
        "id": "Kjddq7j6S48o"
      }
    },
    {
      "cell_type": "markdown",
      "source": [
        "---\n",
        "### 曲線の当てはめ\n",
        "\n",
        "これまで扱ってきた回帰分析では，データに直線や平面を当てはめる問題のみを考えてきました．\n",
        "しかし，定式化を工夫することで，曲線を当てはめたりすることも可能です．\n",
        "「多項式の当てはめ」をやってみましょう．\n"
      ],
      "metadata": {
        "id": "60pN0nMrzBRT"
      }
    },
    {
      "cell_type": "markdown",
      "source": [
        "**［最小二乗法による多項式当てはめの問題設定］**\n",
        "\n",
        "変数 $x$ と $y$ の値のペア $N$ 組から成るデータ\n",
        "$$\n",
        "(x_1, y_1), (x_2, y_2), \\ldots, (x_N, y_N)\n",
        "$$\n",
        "がある．変数 $x$ の値から $y$ の値が決まるものとし，そのモデルとして $(D+1)$ 個のパラメータをもつ $D$ 次多項式\n",
        "\n",
        "$$\n",
        "y = f(x) = w_0 + w_1 x + w_2x^2 + \\cdots + w_Dx^{D} \\qquad (1)\n",
        "$$\n",
        "\n",
        "を考える．\n",
        "\n",
        "\n",
        "このとき，モデルの出力 $f(x_n)$ とその正解の値 $y_n$ との間の二乗誤差の和\n",
        "$$\n",
        "\\sum_{n=1}^{N}(y_n - f(x_n))^2\n",
        "$$\n",
        "を最小にするパラメータ $w_0, w_1, \\ldots, w_D$ を求めたい．\n",
        "\n",
        " "
      ],
      "metadata": {
        "id": "q7HiZFtFQXWI"
      }
    },
    {
      "cell_type": "markdown",
      "source": [
        "このように問題を設定すれば，そこから先は，正規方程式を導出 → その解が求めるパラメータになる，ということで，これまでと同様です．\n",
        "実は，この多項式当てはめの問題は平面当てはめの問題をちょこっと変形したものとみなせます．\n",
        "\n",
        "平面当てはめでは，$1, x_1, x_2, \\ldots, x_D$ という $(D+1)$ 個の値をならべた $(D+1)$ 次元ベクトル\n",
        "$$\n",
        "\\mathbf{x} = (1, x_1, x_2, x_3, \\ldots, x_D) \\qquad (2)\n",
        "$$\n",
        "を考えましたが，そのかわりに\n",
        "$$\n",
        "\\mathbf{x} = (1, x, x^2, x^3, \\ldots, x^D) \\qquad (3)\n",
        "$$\n",
        "としてやれば ok，というわけです．こうすれば，平面当てはめと同様に$(D+1)$個のパラメータをならべたベクトルを\n",
        "$$\n",
        "\\mathbf{w} = (w_0, w_1, w_2, \\ldots, w_D)\n",
        "$$\n",
        "として，式(1)を\n",
        "$$\n",
        "y = f(\\mathbf{x}) = \\mathbf{w}\\cdot\\mathbf{x} \\qquad (2)\n",
        "$$\n",
        "と表せます．以下，平面当てはめの定式化と同じですので，正規方程式も同じ形になります．"
      ],
      "metadata": {
        "id": "UvVReAJ9Qe93"
      }
    },
    {
      "cell_type": "markdown",
      "source": [
        "というわけで，ゴリゴリ君のデータに $D$ 次多項式を当てはめるプログラムを書いて，$D$ の値をいろいろ変えてグラフを描く実験をしましょう．"
      ],
      "metadata": {
        "id": "4gt3hNn0RCUK"
      }
    },
    {
      "cell_type": "code",
      "source": [
        "import pandas as pd\n",
        "\n",
        "# ゴリゴリ君データの入手\n",
        "dfGori = pd.read_csv('https://www-tlab.math.ryukoku.ac.jp/~takataka/course/MVA/gorigori.csv', header=0)\n",
        "dfGori"
      ],
      "metadata": {
        "id": "dMyYrBGqQTls"
      },
      "execution_count": null,
      "outputs": []
    },
    {
      "cell_type": "code",
      "source": [],
      "metadata": {
        "id": "O0R3-exGQ_yk"
      },
      "execution_count": null,
      "outputs": []
    }
  ]
}