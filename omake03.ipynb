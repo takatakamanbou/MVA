{
  "nbformat": 4,
  "nbformat_minor": 0,
  "metadata": {
    "colab": {
      "provenance": [],
      "toc_visible": true,
      "authorship_tag": "ABX9TyP0hg7Mwtav7O/uQNyO0iLL",
      "include_colab_link": true
    },
    "kernelspec": {
      "name": "python3",
      "display_name": "Python 3"
    },
    "language_info": {
      "name": "python"
    }
  },
  "cells": [
    {
      "cell_type": "markdown",
      "metadata": {
        "id": "view-in-github",
        "colab_type": "text"
      },
      "source": [
        "<a href=\"https://colab.research.google.com/github/takatakamanbou/MVA/blob/2023/omake03.ipynb\" target=\"_parent\"><img src=\"https://colab.research.google.com/assets/colab-badge.svg\" alt=\"Open In Colab\"/></a>"
      ]
    },
    {
      "cell_type": "markdown",
      "source": [
        "# MVA2023 omake03\n",
        "\n",
        "<img width=64 src=\"https://www-tlab.math.ryukoku.ac.jp/~takataka/course/MVA/MVA-logo.png\"> https://www-tlab.math.ryukoku.ac.jp/wiki/?MVA/2023"
      ],
      "metadata": {
        "id": "P4preLw7SzqH"
      }
    },
    {
      "cell_type": "markdown",
      "source": [
        "----\n",
        "## おまけ課題 03\n",
        "----"
      ],
      "metadata": {
        "id": "Kjddq7j6S48o"
      }
    },
    {
      "cell_type": "code",
      "source": [
        "import pandas as pd\n",
        "import numpy as np"
      ],
      "metadata": {
        "id": "n6yxe_HFvKlW"
      },
      "execution_count": null,
      "outputs": []
    },
    {
      "cell_type": "markdown",
      "source": [
        "---\n",
        "### カテゴリカルな説明変数を含む場合の重回帰分析\n",
        "\n",
        "\n"
      ],
      "metadata": {
        "id": "60pN0nMrzBRT"
      }
    },
    {
      "cell_type": "markdown",
      "source": [
        "これまで使ってきた (小テスト,睡眠時間) vs (期末テスト) のデータには，実はもう一つ (通学方法) という変数が含まれています．"
      ],
      "metadata": {
        "id": "Q-y9UqG1vPxd"
      }
    },
    {
      "cell_type": "code",
      "source": [
        "df = pd.read_csv('https://github.com/ghmagazine/python_stat_sample/raw/master/data/ch12_scores_reg.csv')\n",
        "df"
      ],
      "metadata": {
        "id": "dMyYrBGqQTls"
      },
      "execution_count": null,
      "outputs": []
    },
    {
      "cell_type": "markdown",
      "source": [
        "「通学方法」は，質的データの一種，値が少数のいずれか（この場合，徒歩，自転車，バスの3種）に分類される，「カテゴリカル」なデータとなっています．\n",
        "\n",
        "説明変数にカテゴリカルなものを含む場合でも，ダミー変数を用いて 0/1 の数値に変換してやれば，重回帰分析が可能となります（「ダミー変数」については調べてみてね．[Data2022#ex10](https://www-tlab.math.ryukoku.ac.jp/wiki/?Data/2022#ex10) もどうぞ）．\n",
        "\n",
        "自分でコードを書いてそのような重回帰分析をやることもできますが，ここでは statsmodels の力を借りてお手軽に試してみましょう．"
      ],
      "metadata": {
        "id": "wijUTXdjver_"
      }
    },
    {
      "cell_type": "code",
      "source": [
        "# これまでのやり方\n",
        "\n",
        "import statsmodels.api as sm\n",
        "\n",
        "X = df.loc[:, ['小テスト', '睡眠時間']].to_numpy() # DataFrame を NumPy array に変換\n",
        "Y = df['期末テスト'].to_numpy()\n",
        "X1 = sm.add_constant(X)\n",
        "model = sm.OLS(Y, X1)\n",
        "rv = model.fit()\n",
        "print(rv.summary())"
      ],
      "metadata": {
        "id": "erpTwHt_xWf6"
      },
      "execution_count": null,
      "outputs": []
    },
    {
      "cell_type": "code",
      "source": [
        "# DataFrame を直接扱う & R 言語風の書き方を使う\n",
        "\n",
        "# statsmodels でモデルの指定に R 言語風の書き方を使えるようにする\n",
        "import statsmodels.formula.api as smf\n",
        "\n",
        "# (期末テスト) を (小テスト) と (睡眠時間) で説明するモデルを作る\n",
        "model = smf.ols(formula='期末テスト ~ 小テスト + 睡眠時間', data=df)\n",
        "rv = model.fit()\n",
        "print(rv.summary())"
      ],
      "metadata": {
        "id": "O0R3-exGQ_yk"
      },
      "execution_count": null,
      "outputs": []
    },
    {
      "cell_type": "markdown",
      "source": [
        "上記のように，`data`オプションにデータが格納されている DataFrame を指定し，`formula` にその DataFrame の列名を使ってモデルの式を指定することで，これまでと同様の回帰分析ができます．"
      ],
      "metadata": {
        "id": "FKfhcf4fyuKQ"
      }
    },
    {
      "cell_type": "markdown",
      "source": [
        "`formula` の式に「通学方法」を加えると，自動的にダミー変数を使った式を作って回帰分析をやってくれます．やってみましょう．\n",
        "\n",
        "(1) 得られたモデルが具体的にどんな式になっているのか，紙に書く or 下のセルに文字で書きましょう．\n",
        "\n",
        "(2) その式を解釈すると，通学方法以外の変数の値が変わらなかった場合，通学方法が「徒歩」のひと，「自転車」のひと，「バス」のひとの期末テストの点数の予測値はどういう大小関係になりますか．\n",
        "\n",
        "(3) 結局，「通学方法」という変数は，モデルに加えた方がよい変数でしょうか，そうではないでしょうか．"
      ],
      "metadata": {
        "id": "_CRMSYLczEcO"
      }
    },
    {
      "cell_type": "code",
      "source": [],
      "metadata": {
        "id": "I7846bgAyKbl"
      },
      "execution_count": null,
      "outputs": []
    }
  ]
}