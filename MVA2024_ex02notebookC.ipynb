{
  "nbformat": 4,
  "nbformat_minor": 0,
  "metadata": {
    "colab": {
      "provenance": [],
      "toc_visible": true,
      "authorship_tag": "ABX9TyM5GtSKaeRJLJsxr2pktok2",
      "include_colab_link": true
    },
    "kernelspec": {
      "name": "python3",
      "display_name": "Python 3"
    },
    "language_info": {
      "name": "python"
    }
  },
  "cells": [
    {
      "cell_type": "markdown",
      "metadata": {
        "id": "view-in-github",
        "colab_type": "text"
      },
      "source": [
        "<a href=\"https://colab.research.google.com/github/takatakamanbou/MVA/blob/main/MVA2024_ex02notebookC.ipynb\" target=\"_parent\"><img src=\"https://colab.research.google.com/assets/colab-badge.svg\" alt=\"Open In Colab\"/></a>"
      ]
    },
    {
      "cell_type": "markdown",
      "source": [
        "# MVA2024 ex02notebookC\n",
        "\n",
        "<img width=64 src=\"https://www-tlab.math.ryukoku.ac.jp/~takataka/course/MVA/MVA-logo.png\"> https://www-tlab.math.ryukoku.ac.jp/wiki/?MVA/2024"
      ],
      "metadata": {
        "id": "P4preLw7SzqH"
      }
    },
    {
      "cell_type": "markdown",
      "source": [
        "----\n",
        "## 演習課題\n",
        "\n",
        "Python + NumPy で回帰分析やってみましょう．\n"
      ],
      "metadata": {
        "id": "zDtnBWKha6vx"
      }
    },
    {
      "cell_type": "markdown",
      "source": [
        "### 問題0 準備\n",
        "\n",
        "問題1以降のために必要な `import` 文を以下のセルに書いておこう．"
      ],
      "metadata": {
        "id": "2S20Kx6rIYt4"
      }
    },
    {
      "cell_type": "code",
      "source": [
        "# 必要なパッケージのインポート\n",
        "\n",
        "\n",
        "\n",
        "# ↓を追加しておくと，matplotlib のグラフがより美しくなる\n",
        "import seaborn\n",
        "seaborn.set()"
      ],
      "metadata": {
        "id": "_45KodUIIhmY"
      },
      "execution_count": null,
      "outputs": []
    },
    {
      "cell_type": "markdown",
      "source": [
        "### 問題1 関数を使う\n"
      ],
      "metadata": {
        "id": "sGAMOAuG4ouA"
      }
    },
    {
      "cell_type": "markdown",
      "source": [
        "次のセルを実行すると，`data` は 3x3の2次元配列になります．値の意味は，コメントに記された通りとします．例えば，ふがよさんの国語の点数は 100 です．"
      ],
      "metadata": {
        "id": "yxjjarU84wNw"
      }
    },
    {
      "cell_type": "code",
      "source": [
        "data = np.array([\n",
        "    [60, 60, 60],  # ほげお君の国語，数学，英語の点数\n",
        "    [100, 80, 60], # ふがよさんの国語，数学，英語の点数\n",
        "    [80, 70, 90],  # へなこさんの国語，数学，英語の点数\n",
        "    ])\n",
        "print(data)\n",
        "print(data.shape)"
      ],
      "metadata": {
        "id": "O5bLGu8s5OCX"
      },
      "execution_count": null,
      "outputs": []
    },
    {
      "cell_type": "markdown",
      "source": [
        "(2) 次のセルを修正して，3人の国語の点数の平均，同じく数学の平均，英語の平均が出力されるようにしてください．`np.mean` 関数に `axis` 引数を追加して実現すること．"
      ],
      "metadata": {
        "id": "dstRqtBr6ER2"
      }
    },
    {
      "cell_type": "code",
      "source": [
        "np.mean(data)"
      ],
      "metadata": {
        "id": "RlTKItqV6I7m"
      },
      "execution_count": null,
      "outputs": []
    },
    {
      "cell_type": "markdown",
      "source": [
        "(3) 次のセルを修正して，ほげお君の3科目の平均点，同じくふがよさんの平均点，へなこさんの平均点が出力されるようにしてください．`np.mean` 関数に `axis` 引数を追加して実現すること．"
      ],
      "metadata": {
        "id": "SW2IH_mI6oiV"
      }
    },
    {
      "cell_type": "code",
      "source": [
        "np.mean(data)"
      ],
      "metadata": {
        "id": "mr8fefyN66CE"
      },
      "execution_count": null,
      "outputs": []
    },
    {
      "cell_type": "markdown",
      "source": [
        "### 問題2 手計算で最小二乗法\n",
        "\n",
        "**この問題の解答は紙にメモしておいてください．**"
      ],
      "metadata": {
        "id": "IwvnzKQMNX00"
      }
    },
    {
      "cell_type": "markdown",
      "source": [
        "$N = 5$ 個のデータ $(x_1, y_1), \\ldots, (x_N, y_N)$ が次のように与えられているときに，最小二乗法を用いてこのデータに当てはまる直線 $y = ax+b$ の傾き $a$ と切片 $b$ を求めることを考えます．\n",
        "\n",
        "|$n$|$1$|$2$|$3$|$4$|$5$|\n",
        "|:--:|--:|--:|--:|--:|--:|\n",
        "|$x_n$|$1$|$2$|$3$|$4$|$5$|\n",
        "|$y_n$|$2$|$2$|$-4$|$-6$|$-9$|"
      ],
      "metadata": {
        "id": "36kAHSJvNkbR"
      }
    },
    {
      "cell_type": "markdown",
      "source": [
        "(1) 行列 $X$ と $Y$ を求めなさい．上記のようなデータが与えられたときにこれらの行列をどのように作るかは，notebookA で説明されています．\n",
        "また，$X$ と $Y$ が何行何列か答えなさい．"
      ],
      "metadata": {
        "id": "qmbll-6iPOvS"
      }
    },
    {
      "cell_type": "markdown",
      "source": [
        "(2) 行列 $X^{\\top}X$ と $X^{\\top}Y$ を求めなさい．それぞれ何行何列か答えなさい．"
      ],
      "metadata": {
        "id": "muMCOefBPjQK"
      }
    },
    {
      "cell_type": "markdown",
      "source": [
        "(3) 正規方程式\n",
        "$$\n",
        "X^{\\top}X \\begin{pmatrix} a \\\\ b \\end{pmatrix} = X^{\\top}Y\n",
        "$$\n",
        "の解 $a, b$ を求めなさい．"
      ],
      "metadata": {
        "id": "lPQLKKKMPvHB"
      }
    },
    {
      "cell_type": "markdown",
      "source": [
        "### 問題3 NumPy で連立方程式を解く\n",
        "\n",
        "次の連立方程式を np.linalg.solve を用いて解きなさい．"
      ],
      "metadata": {
        "id": "Cwq4zO99QrRI"
      }
    },
    {
      "cell_type": "markdown",
      "source": [
        "$$\n",
        "\\left\\{ \\begin{aligned}\n",
        "x+y+z &= 5\\\\\n",
        "x+2y + z &= 3\\\\\n",
        "x+2y+3z &= 8\n",
        "\\end{aligned} \\right.\n",
        "$$"
      ],
      "metadata": {
        "id": "B9KWK0nmR8Ev"
      }
    },
    {
      "cell_type": "code",
      "source": [
        "\n",
        "\n",
        "\n"
      ],
      "metadata": {
        "id": "-CNwSRKTJyt9"
      },
      "execution_count": null,
      "outputs": []
    },
    {
      "cell_type": "markdown",
      "source": [
        "### 問題4 NumPy で最小二乗法 前編\n",
        "\n"
      ],
      "metadata": {
        "id": "5CKl4HM9QIQV"
      }
    },
    {
      "cell_type": "markdown",
      "source": [
        "問題2と同じことを，Python + NumPy でやってみましょう．まずは正規方程式を解く手前まで．"
      ],
      "metadata": {
        "id": "NWEEqaUZRfSJ"
      }
    },
    {
      "cell_type": "markdown",
      "source": [
        "次のセルを実行すると，`xvec` と `yvec` がそれぞれ $x_n$ と $y_n$ の値を格納した1次元配列になります．"
      ],
      "metadata": {
        "id": "cs7O7HPeRq2p"
      }
    },
    {
      "cell_type": "code",
      "source": [
        "xvec = np.array([1, 2, 3, 4, 5])\n",
        "yvec = np.array([2, 2, -4, -6, -9])\n",
        "print('xvec:', xvec)\n",
        "print('yvec:', yvec)"
      ],
      "metadata": {
        "id": "7pth9_BvQxon"
      },
      "execution_count": null,
      "outputs": []
    },
    {
      "cell_type": "markdown",
      "source": [
        "このとき，次のセルを実行すると，問題2の行列 $X$ に対応した2次元配列が得られます．"
      ],
      "metadata": {
        "id": "3qg-yo6nRy1V"
      }
    },
    {
      "cell_type": "code",
      "source": [
        "X = np.vstack([xvec, np.ones_like(xvec)]).T\n",
        "print(X)\n",
        "print(X.shape)"
      ],
      "metadata": {
        "id": "KFcTtWSkRHp_"
      },
      "execution_count": null,
      "outputs": []
    },
    {
      "cell_type": "markdown",
      "source": [
        "このセルでやっていることの理解は求めませんが，気になるひとは以下のリンク先へどうぞ．\n",
        "- [np.ones_like](https://numpy.org/doc/stable/reference/generated/numpy.ones_like.html)\n",
        "- [np.vstack](https://numpy.org/doc/stable/reference/generated/numpy.vstack.html)"
      ],
      "metadata": {
        "id": "K23r66t_W_5o"
      }
    },
    {
      "cell_type": "markdown",
      "source": [
        "(1) 次のコードセルに，問題2の $X^{\\top}X$ を求めて変数 `XtX` に代入しその値を print するコードを書き，結果が手計算と一致することを確認しなさい．"
      ],
      "metadata": {
        "id": "2Vyieew8RHCZ"
      }
    },
    {
      "cell_type": "code",
      "source": [
        "\n"
      ],
      "metadata": {
        "id": "j22DlXbISLJt"
      },
      "execution_count": null,
      "outputs": []
    },
    {
      "cell_type": "markdown",
      "source": [
        "(2) 次のコードセルの実行結果が問題2の $X^{\\top}Y$ と一致することを確認しなさい（ただし，$Y$ が $2\\times 1$ 行列なのに対して `XtY` は1次元配列なので，printしたときの数値の並び方は違って見えるでしょう）．"
      ],
      "metadata": {
        "id": "w4kNvYgzSwbE"
      }
    },
    {
      "cell_type": "code",
      "source": [
        "XtY = X.T @ yvec\n",
        "print(XtY)"
      ],
      "metadata": {
        "id": "ox23k4X9S4WY"
      },
      "execution_count": null,
      "outputs": []
    },
    {
      "cell_type": "markdown",
      "source": [
        "### 問題5 NumPy で最小二乗法 後編"
      ],
      "metadata": {
        "id": "kDMd9GoCUHx_"
      }
    },
    {
      "cell_type": "markdown",
      "source": [
        "(1) 次のセルを修正し，`np.linalg.solve` を用いて正規方程式の解を求め，それらが `a` と `b` に代入されるようにしなさい．"
      ],
      "metadata": {
        "id": "uhaDYxYHUXDt"
      }
    },
    {
      "cell_type": "code",
      "source": [
        "## 正規方程式を解く\n",
        "a, b = 2.0, -4.0\n",
        "print(f'a = {a:.2f}, b = {b:.2f}')"
      ],
      "metadata": {
        "id": "r8LtgV26Vo2h"
      },
      "execution_count": null,
      "outputs": []
    },
    {
      "cell_type": "markdown",
      "source": [
        "次のセルを実行すると，散布図に回帰直線を重ねて描くことができます．結果を確認しましょう．"
      ],
      "metadata": {
        "id": "CIIlGdDXVyZj"
      }
    },
    {
      "cell_type": "code",
      "source": [
        "## 散布図に回帰直線を重ねて描く\n",
        "xx = np.array([0, 6])\n",
        "yy = a*xx + b\n",
        "fig, ax = plt.subplots()\n",
        "ax.scatter(xvec, yvec)\n",
        "ax.plot(xx, yy, color='red')\n",
        "ax.set_xlim(0, 6)\n",
        "ax.set_ylim(-10, 3)\n",
        "plt.show()"
      ],
      "metadata": {
        "id": "FRg2AJtuUSk8"
      },
      "execution_count": null,
      "outputs": []
    },
    {
      "cell_type": "markdown",
      "source": [
        "上記では，最小二乗法の解（回帰直線のパラメータ）を求めるために，正規方程式の左辺の行列 $X^{\\top}X$ と右辺の行列 $X^{\\top}Y$ を求める → それらを引数として `np.linalg.solve` を呼ぶ，ということをしていました．実は，`np.linalg.lstsq` という関数を使うと，行列 $X$ と $Y$ を渡すだけで一気に最小二乗法の解を求めてくれます．\n",
        "詳しい説明はしませんが，こちらの関数の方が優れている点がいくつかあります．\n",
        "\n",
        "(2) 次のセルを実行すると (1) と等しい解が得られることを確認しなさい．\n",
        "\n",
        "cf. [np.linalg.lstsq の API reference](https://numpy.org/doc/stable/reference/generated/numpy.linalg.lstsq.html)"
      ],
      "metadata": {
        "id": "fsJDByTrXE3j"
      }
    },
    {
      "cell_type": "code",
      "source": [
        "rv = np.linalg.lstsq(X, yvec, rcond=None)\n",
        "print(rv)\n",
        "a, b = rv[0] # lstsqの戻り値は解以外のものも含んでいる．そのうちの 0 番目の要素が解\n",
        "print(f'a = {a:.4f}, b = {b:.1f}')"
      ],
      "metadata": {
        "id": "WD1K-fOPWjqx"
      },
      "execution_count": null,
      "outputs": []
    },
    {
      "cell_type": "markdown",
      "source": [
        "［よだんだよん］ lstsq の API reference に書いてありますが，戻り値は\n",
        "```\n",
        "( 最小二乗法の解, 残差平方和, 第1引数の行列のランク, 第1引数の行列の特異値 )\n",
        "```\n",
        "です．次のセルを実行すると，残差平方和の値を確認できます．"
      ],
      "metadata": {
        "id": "giPM6nJPhCLy"
      }
    },
    {
      "cell_type": "code",
      "source": [
        "print(f'残差平方和 = {rv[1][0]}')"
      ],
      "metadata": {
        "id": "gXMBwYDUg15T"
      },
      "execution_count": null,
      "outputs": []
    },
    {
      "cell_type": "markdown",
      "source": [
        "ちなみに，「残差平方和」は回帰直線を用いて得られる予測値と真の値との間の差の2乗の和です．\n",
        "$$\n",
        "\\mbox{(残差平方和)} = \\sum_{n=1}^{N} (y_n - (ax_n + b))^2\n",
        "$$"
      ],
      "metadata": {
        "id": "TFIIX7uBiJnE"
      }
    },
    {
      "cell_type": "code",
      "source": [
        "# 自分で残差平方和を計算するならこんなん\n",
        "hoge = yvec - (a*xvec+b)\n",
        "print(hoge @ hoge)"
      ],
      "metadata": {
        "id": "p95JNMKWkAfm"
      },
      "execution_count": null,
      "outputs": []
    },
    {
      "cell_type": "markdown",
      "source": [
        "### 問題6 おもりの重さ vs バネの長さ"
      ],
      "metadata": {
        "id": "UcuFlF-rK0bg"
      }
    },
    {
      "cell_type": "markdown",
      "source": [
        "次のセルを実行すると，`data` が2次元配列になります．この配列は，以前の notebook にも登場した，「おもりの重さ」と「バネの長さ」の関係を表すデータです．\n",
        "`data` の 0 番目の列が「おもりの重さ」， 1 番目の列が「バネの長さです」．"
      ],
      "metadata": {
        "id": "3uQgkVP-MhJc"
      }
    },
    {
      "cell_type": "code",
      "source": [
        "data = np.array([\n",
        "    [6, 119], [8, 145], [12, 175], [14, 191], [18, 204], [20, 209], [24, 244], [26, 233], [30, 272], [32, 268]\n",
        "])\n",
        "print(data)"
      ],
      "metadata": {
        "id": "PaPNQzMKKJkb"
      },
      "execution_count": null,
      "outputs": []
    },
    {
      "cell_type": "markdown",
      "source": [
        "(1) 上記のセルに1行追加して，`data.shape` を print させなさい．その値を紙にメモしておきなさい．"
      ],
      "metadata": {
        "id": "bPY9yr2vNbt9"
      }
    },
    {
      "cell_type": "markdown",
      "source": [
        "(2) 次のセルを修正して，配列 `data` の「おもりの重さ」と「バネの長さ」それぞれの平均値が出力されるようにしなさい．\n",
        "ただし，`np.mean` の `axis` 引数を使うこと．`np.mean` は一度呼ぶだけで済むはずです．"
      ],
      "metadata": {
        "id": "mBb_sF2wN-fN"
      }
    },
    {
      "cell_type": "code",
      "source": [
        "print(np.mean(data))"
      ],
      "metadata": {
        "id": "WA9AbN-sLAqH"
      },
      "execution_count": null,
      "outputs": []
    },
    {
      "cell_type": "markdown",
      "source": [
        "(3) 次のセルのを実行すると，「おもりの重さ」を横軸に，「バネの長さ」を縦軸にとった散布図が描かれます．`###` ではじまるコメントが付いた行のコードを理解しましょう．"
      ],
      "metadata": {
        "id": "M4AKY9zLMKsN"
      }
    },
    {
      "cell_type": "code",
      "source": [
        "xvec = data[:, 0]  ### おもりの重さを xvec に代入\n",
        "print('xvec:', xvec)\n",
        "yvec = data[:, 1]  ### バネの長さを yvec に代入\n",
        "print('yvec:', yvec)\n",
        "\n",
        "fig, ax = plt.subplots()\n",
        "ax.scatter(xvec, yvec)\n",
        "ax.set_xlim(0, 35)\n",
        "ax.set_ylim(0, 300)\n",
        "plt.show()"
      ],
      "metadata": {
        "id": "5W8vwRyfLb9Y"
      },
      "execution_count": null,
      "outputs": []
    },
    {
      "cell_type": "markdown",
      "source": [
        "(4) 次のコードセルを，そこに記されたコメントにしたがって書きましょう．"
      ],
      "metadata": {
        "id": "nBYub2dDY7-3"
      }
    },
    {
      "cell_type": "code",
      "source": [
        "## xvec と 1 をならべた2次元配列 X をつくる\n",
        "\n",
        "print(X)\n",
        "print(X.shape)\n",
        "\n",
        "## np.linalg.lstsq を使って正規方程式を解く\n",
        "\n",
        "\n",
        "print(f'a = {a:.4f}, b = {b:.1f}')\n",
        "\n",
        "## 散布図に回帰直線を重ねて描く（ここから下は修正不要なはず）\n",
        "xx = np.array([0, 35])\n",
        "yy = a*xx + b\n",
        "fig, ax = plt.subplots()\n",
        "ax.scatter(xvec, yvec)\n",
        "ax.plot(xx, yy, color='red')\n",
        "ax.set_xlim(0, 35)\n",
        "ax.set_ylim(0, 300)\n",
        "plt.show()"
      ],
      "metadata": {
        "id": "JvROvmCoZLo3"
      },
      "execution_count": null,
      "outputs": []
    },
    {
      "cell_type": "markdown",
      "source": [
        "### 問題7 年平均気温\n",
        "ここまでの話をふまえて，実際のデータについて簡単な回帰分析をやってみよう．\n",
        "使うのは，気象庁のサイトで提供されている，「世界の年平均気温偏差（℃）」のデータです．どういうデータかは，リンク先のウェブページで確認してね．\n",
        "cf. https://www.data.jma.go.jp/cpdinfo/temp/list/an_wld.html\n"
      ],
      "metadata": {
        "id": "s4ESz7U6R3E0"
      }
    },
    {
      "cell_type": "markdown",
      "source": [
        "次のセルを実行すると，気象庁のサイトから CSV ファイルを入手することができます．\n",
        "ここでは，Python のデータ分析ライブラリである **pandas** を使います．\n",
        "様々な機能があって便利なもの（グラフ描いたりデータ分析したりも可能）なのですが，ここでは説明しません． cf. https://pandas.pydata.org/\n",
        "\n",
        "以下では，CSVファイルを読み込む → pandas の DataFrame というものをつくり，そこから必要なデータを抽出して NumPy array を作っています．\n"
      ],
      "metadata": {
        "id": "ZrUck4pPUtqV"
      }
    },
    {
      "cell_type": "code",
      "source": [
        "# pandas のパッケージをインポートして，pd という名前で呼べるようにする\n",
        "import pandas as pd\n",
        "\n",
        "# URL を指定して CSV ファイルを読み込み，DataFrame に変換．日本語が含まれているので encoding オプションを指定\n",
        "df = pd.read_csv('https://www.data.jma.go.jp/cpdinfo/temp/list/csv/an_wld.csv', encoding='cp932')\n",
        "df"
      ],
      "metadata": {
        "id": "ds6pZBSDS2l5"
      },
      "execution_count": null,
      "outputs": []
    },
    {
      "cell_type": "code",
      "source": [
        "# df の「年」列を xvec に，「世界全体」列を yvec に代入\n",
        "xvec = df['年'].to_numpy()\n",
        "yvec = df['世界全体'].to_numpy()\n",
        "print(xvec)\n",
        "print(yvec)"
      ],
      "metadata": {
        "id": "rk1DXxDRS92g"
      },
      "execution_count": null,
      "outputs": []
    },
    {
      "cell_type": "markdown",
      "source": [
        "ここから先は，コードセルに書いてあるコメントなどを参考にして，コードセルの中味を自分で書いてみましょう．"
      ],
      "metadata": {
        "id": "tzVRr1RxW7Tu"
      }
    },
    {
      "cell_type": "code",
      "source": [
        "# データの散布図を描く\n",
        "\n",
        "\n",
        "\n",
        "\n"
      ],
      "metadata": {
        "id": "BIla0HRlThTc"
      },
      "execution_count": null,
      "outputs": []
    },
    {
      "cell_type": "code",
      "source": [
        "# 最小二乗法で回帰直線のパラメータを求める（np.linalg.lstsq を使うこと）\n",
        "\n",
        "\n",
        "\n",
        "# これより上で変数 a に回帰直線の傾きが， b に切片の値が代入されるようにしよう\n",
        "print(f'a = {a:.3e}, b = {b:.3e}')"
      ],
      "metadata": {
        "id": "GCmmQWrHXNWt"
      },
      "execution_count": null,
      "outputs": []
    },
    {
      "cell_type": "code",
      "source": [
        "# 回帰直線を描くために線分の端点の座標を計算\n",
        "xx = np.array([1890, 2025])\n",
        "yy = a*xx + b\n",
        "\n",
        "# 散布図に回帰直線を重ねて描く\n",
        "\n",
        "\n",
        "\n"
      ],
      "metadata": {
        "id": "zmeZGCGEX-Wf"
      },
      "execution_count": null,
      "outputs": []
    }
  ]
}