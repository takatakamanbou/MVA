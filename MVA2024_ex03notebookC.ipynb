{
  "nbformat": 4,
  "nbformat_minor": 0,
  "metadata": {
    "colab": {
      "provenance": [],
      "toc_visible": true,
      "authorship_tag": "ABX9TyNyEIYDwHJr/7p6CbnTbTYG",
      "include_colab_link": true
    },
    "kernelspec": {
      "name": "python3",
      "display_name": "Python 3"
    },
    "language_info": {
      "name": "python"
    }
  },
  "cells": [
    {
      "cell_type": "markdown",
      "metadata": {
        "id": "view-in-github",
        "colab_type": "text"
      },
      "source": [
        "<a href=\"https://colab.research.google.com/github/takatakamanbou/MVA/blob/main/MVA2024_ex03notebookC.ipynb\" target=\"_parent\"><img src=\"https://colab.research.google.com/assets/colab-badge.svg\" alt=\"Open In Colab\"/></a>"
      ]
    },
    {
      "cell_type": "markdown",
      "source": [
        "# MVA2024 ex03notebookC\n",
        "\n",
        "<img width=64 src=\"https://www-tlab.math.ryukoku.ac.jp/~takataka/course/MVA/MVA-logo.png\"> https://www-tlab.math.ryukoku.ac.jp/wiki/?MVA/2024"
      ],
      "metadata": {
        "id": "P4preLw7SzqH"
      }
    },
    {
      "cell_type": "markdown",
      "source": [
        "----\n",
        "## 演習課題\n",
        "\n"
      ],
      "metadata": {
        "id": "zDtnBWKha6vx"
      }
    },
    {
      "cell_type": "markdown",
      "metadata": {
        "id": "weuyu8H6bqtL"
      },
      "source": [
        "### 問題0\n",
        "\n",
        "問題1以降のために必要な `import` 文を以下のセルに書いておこう．\n"
      ]
    },
    {
      "cell_type": "code",
      "metadata": {
        "id": "I226xIKJbqtM"
      },
      "source": [
        "# 必要なパッケージのインポート\n",
        "import pandas as pd\n"
      ],
      "execution_count": null,
      "outputs": []
    },
    {
      "cell_type": "markdown",
      "source": [
        "### データの準備"
      ],
      "metadata": {
        "id": "LUGhRie3UPQf"
      }
    },
    {
      "cell_type": "markdown",
      "source": [
        "次のコードセルを実行すると，高校生の体力測定のデータを読み込みます．\n",
        "実行して結果を観察しよう．\n",
        "\n",
        "※データの説明: ここで使うのは，「科学の道具箱」というウェブサイト（現在は公開停止）で提供されていたものを高橋が加工したデータです．"
      ],
      "metadata": {
        "id": "g2YZUMJbUUHT"
      }
    },
    {
      "cell_type": "code",
      "source": [
        "# データを読み込む\n",
        "dfData = pd.read_csv('https://www-tlab.math.ryukoku.ac.jp/~takataka/course/MVA/HighSchoolPhysicalFitnessMeasurement.csv')\n",
        "dfData"
      ],
      "metadata": {
        "id": "omDHUAcmQ8Xg"
      },
      "execution_count": null,
      "outputs": []
    },
    {
      "cell_type": "markdown",
      "source": [
        "「学年」「性別」を削除したデータのうち「50m走」以外の値から「50m走」の値を予測してみましょう．\n",
        "\n",
        "項目ごとの数値の大きさや散らばり方がかなり異なるので，本来はデータの正規化・標準化を適用した方がよいですが，ここでは簡単のため，このまま扱うことにします．"
      ],
      "metadata": {
        "id": "sz2q1kq2TvDm"
      }
    },
    {
      "cell_type": "markdown",
      "source": [
        "### 問題1\n",
        "\n",
        "次のコードセルを実行すると，`dfData` から2 つの NumPy array `X` と `Y` を作ります．\n",
        "実行して結果を観察しよう．\n",
        "notebookA の解説で使っている記号を使うと，このデータの場合の $N$ と $D$ はそれぞれいくつか考え，メモしておきなさい．\n",
        "\n"
      ],
      "metadata": {
        "id": "bXPrFBHeogbD"
      }
    },
    {
      "cell_type": "code",
      "source": [
        "# '学年', '性別', '50m走[s]' を除いた変数の値を集めて X とする\n",
        "X = dfData.drop(columns=['学年', '性別', '50m走[s]']).to_numpy()\n",
        "# '50m走[s]' の値を Y とする\n",
        "Y = dfData['50m走[s]'].to_numpy()\n",
        "print(X.shape, Y.shape)"
      ],
      "metadata": {
        "id": "XA228aE0l-bf"
      },
      "execution_count": null,
      "outputs": []
    },
    {
      "cell_type": "markdown",
      "source": [
        "### 問題2\n",
        "\n",
        "重回帰分析をしてみよう．\n",
        "\n",
        "- 以下のセルを実行すると回帰係数が print されるように，空行部分を埋めなさい．\n",
        "つまり，変数 `w` に求めた回帰係数の値が代入されるようにしなさい．\n",
        "- ただし，回帰係数を求める計算には `np.linalg.lstsq` を用いること．"
      ],
      "metadata": {
        "id": "P6T3k1MvSj71"
      }
    },
    {
      "cell_type": "code",
      "source": [
        "\n",
        "\n",
        "# ここから下の行は変更してはならない\n",
        "print(w)"
      ],
      "metadata": {
        "id": "6q-s1DDBSjLW"
      },
      "execution_count": null,
      "outputs": []
    },
    {
      "cell_type": "markdown",
      "source": [
        "### 問題3\n",
        "\n",
        "上記で得られた `w` の値は，先頭から順に，次の変数に対する回帰係数である．\n",
        "回帰係数の値を見て，「その変数の値が大きいひとほど50m走が遅いと推定される」と言えるものを選びなさい．メモしておこう．\n",
        "\n",
        "1. 定数1\n",
        "1. '身長[cm]'\n",
        "1. '体重[kg]'\n",
        "1. '座高[cm]'\n",
        "1. '握力[kg]'\n",
        "1. '上体起こし[cm]'\n",
        "1. '長座体前屈[cm]'\n",
        "1. '反復横跳び[点]'\n",
        "1. 'シャトルラン[回]'\n",
        "1. '立ち幅跳び[cm]'\n",
        "1. 'ハンドボール投げ[m]'"
      ],
      "metadata": {
        "id": "vF33-kFVW32V"
      }
    },
    {
      "cell_type": "markdown",
      "source": [
        "### 問題4\n",
        "\n",
        "得られた回帰式を用いて「50m走」の値を予測させてみよう．"
      ],
      "metadata": {
        "id": "UhUsS5hPVGwo"
      }
    },
    {
      "cell_type": "markdown",
      "source": [
        "次のセルを実行すると，`XX` に元のデータの最初の5人分の値が代入される．\n",
        "先頭列に 1 が入っていることと，`XX.shape` の値を確認しておこう．"
      ],
      "metadata": {
        "id": "9qEaKzwvuezI"
      }
    },
    {
      "cell_type": "code",
      "source": [
        "# このセルの中味をいじる必要はない\n",
        "XX = X1[:5]\n",
        "print(XX.shape)\n",
        "print(XX)"
      ],
      "metadata": {
        "id": "AwETrwAmuO9l"
      },
      "execution_count": null,
      "outputs": []
    },
    {
      "cell_type": "markdown",
      "source": [
        "このとき，次のセルを実行すると，`XX` に格納された 5 つのデータに対する 「50m走」 の予測値が表示されるようにしなさい．\n",
        "セルのコメントに記された指示に従うこと．\n",
        "ヒント: 複雑な計算式は必要ない．1行で（もっと言うと数文字で）済むはず． w を使う．"
      ],
      "metadata": {
        "id": "rTXN09GDuw5L"
      }
    },
    {
      "cell_type": "code",
      "source": [
        "Yp = [11, 22, 33, 44, 55]  # この行を修正して Yp が 5つの予測値の格納された (5,) の array になるようにする\n",
        "# ここから下の行は変更してはならない\n",
        "for n in range(len(Yp)):\n",
        "    print(f'No.{n+1}:「50m走」の実測値は {Y[n]:.2f} で予測値は {Yp[n]:.2f}')"
      ],
      "metadata": {
        "id": "g0QmaQH7uwAx"
      },
      "execution_count": null,
      "outputs": []
    },
    {
      "cell_type": "markdown",
      "source": [
        "### 問題5\n",
        "\n",
        "決定係数を求めよう．\n",
        "\n",
        "次のセルに，元のデータ（問題4で出てきた5つの方ではなく，問題1と2で使っているデータ）を用いた重回帰分析で得られた結果の決定係数を計算して print するコードを書きなさい．\n",
        "得られた決定係数の値をメモしておきなさい（小数第4位を四捨五入して第3位までにした値でよい）．"
      ],
      "metadata": {
        "id": "-0aAmjXtWTTg"
      }
    },
    {
      "cell_type": "code",
      "source": [],
      "metadata": {
        "id": "fbEPHKGxXIgS"
      },
      "execution_count": null,
      "outputs": []
    }
  ]
}