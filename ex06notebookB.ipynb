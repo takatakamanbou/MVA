{
  "nbformat": 4,
  "nbformat_minor": 0,
  "metadata": {
    "colab": {
      "provenance": [],
      "toc_visible": true,
      "authorship_tag": "ABX9TyPRZKWqZNJhnEAGciy4T9bu",
      "include_colab_link": true
    },
    "kernelspec": {
      "name": "python3",
      "display_name": "Python 3"
    },
    "language_info": {
      "name": "python"
    }
  },
  "cells": [
    {
      "cell_type": "markdown",
      "metadata": {
        "id": "view-in-github",
        "colab_type": "text"
      },
      "source": [
        "<a href=\"https://colab.research.google.com/github/takatakamanbou/MVA/blob/2023/ex06notebookB.ipynb\" target=\"_parent\"><img src=\"https://colab.research.google.com/assets/colab-badge.svg\" alt=\"Open In Colab\"/></a>"
      ]
    },
    {
      "cell_type": "markdown",
      "source": [
        "# MVA2023 ex06notebookB\n",
        "\n",
        "<img width=64 src=\"https://www-tlab.math.ryukoku.ac.jp/~takataka/course/MVA/MVA-logo.png\"> https://www-tlab.math.ryukoku.ac.jp/wiki/?MVA/2023"
      ],
      "metadata": {
        "id": "P4preLw7SzqH"
      }
    },
    {
      "cell_type": "code",
      "metadata": {
        "id": "I226xIKJbqtM"
      },
      "source": [
        "# 必要なパッケージのインポート\n",
        "import numpy as np\n",
        "import matplotlib.pyplot as plt\n",
        "import pandas as pd\n",
        "import seaborn\n",
        "seaborn.set()"
      ],
      "execution_count": null,
      "outputs": []
    },
    {
      "cell_type": "markdown",
      "source": [
        "----\n",
        "## Python + NumPy で主成分分析をやってみよう ver. 2\n",
        "\n"
      ],
      "metadata": {
        "id": "zDtnBWKha6vx"
      }
    },
    {
      "cell_type": "markdown",
      "source": [
        "---\n",
        "### データの標準化"
      ],
      "metadata": {
        "id": "Nh5eurDr7scO"
      }
    },
    {
      "cell_type": "markdown",
      "source": [
        "標準化したデータを扱う主成分分析ができるように，データの標準化ができるようになりましょう．\n",
        "\n",
        "やりたいことは，\n",
        "\n",
        "$$\n",
        "X =\n",
        "\\begin{pmatrix}\n",
        "x_{1, 1} & x_{1, 2} & \\cdots & x_{1, D}\\\\\n",
        "x_{2, 1} & x_{2, 2} & \\cdots & x_{2, D}\\\\\n",
        "\\vdots & \\vdots & \\vdots & \\vdots\\\\\n",
        "x_{N, 1} & x_{N, 2} & \\cdots & x_{N, D}\\\\\n",
        "\\end{pmatrix}\n",
        "$$\n",
        "\n",
        "というデータがあったときに，変数ごとに（列ごとに），平均を $0$ にして分散を $1$ に（標準偏差を $1$ に）することです．\n",
        "\n",
        "$d$ 番目の変数 $x_{1,d}, x_{2, d}, \\ldots, x_{N, d}$ に注目すると，標準化の計算は次のように表せます．\n",
        "\n",
        "$$\n",
        "x_{n,d}^{\\rm standardized} = \\frac{x_{n,d} - \\bar{x}_{d}}{\\sqrt{\\sigma_d^2}}\n",
        "$$\n",
        "\n",
        "$\\bar{x}_d$ は $\\{ x_{n,d} \\}$ の平均，$\\sigma_d^2$ は $\\{ x_{n,d} \\}$ の分散です．"
      ],
      "metadata": {
        "id": "m-gduVzb9nM8"
      }
    },
    {
      "cell_type": "markdown",
      "source": [
        "#### 問題1\n",
        "\n"
      ],
      "metadata": {
        "id": "gXEY1V1LG-aG"
      }
    },
    {
      "cell_type": "markdown",
      "source": [
        "(1) 次のセルたちを実行してデータの準備をしましょう．二つ目のセルにコードを追加して，`N` と `D` という変数に，このデータの数と次元数をそれぞれ代入して print させましょう．\n"
      ],
      "metadata": {
        "id": "z1vdngqR-x4C"
      }
    },
    {
      "cell_type": "code",
      "source": [
        "# 数物情\n",
        "dfMPI = pd.read_csv('https://www-tlab.math.ryukoku.ac.jp/~takataka/course/MVA/mpiS100.csv')\n",
        "dfMPI.head(5)"
      ],
      "metadata": {
        "id": "7fYX3g3A7y4C"
      },
      "execution_count": null,
      "outputs": []
    },
    {
      "cell_type": "code",
      "source": [
        "Xorg = dfMPI.drop(columns='学籍番号').to_numpy()\n",
        "\n"
      ],
      "metadata": {
        "id": "_BPmoSnpKrvM"
      },
      "execution_count": null,
      "outputs": []
    },
    {
      "cell_type": "markdown",
      "source": [
        "(2) 次のセルに，`Xorg` の列ごとの平均と標準偏差を求めて適当な変数に代入し，それを print させるコードを書きましょう．ヒント: 標準偏差は `np.std` で計算できます．"
      ],
      "metadata": {
        "id": "qqQ1vnSTAjco"
      }
    },
    {
      "cell_type": "code",
      "source": [
        "\n"
      ],
      "metadata": {
        "id": "4uluTGt86ElW"
      },
      "execution_count": null,
      "outputs": []
    },
    {
      "cell_type": "markdown",
      "source": [
        "(3) 次のセルに，`Xorg` を列ごとに標準化したデータを求めて `X` という変数に代入するコードと，それをもとに `X` の分散共分散行列を求めて `Vx` という変数に代入するコードを書きましょう．\n",
        "`Vx` を print して観察しましょう．"
      ],
      "metadata": {
        "id": "FAIxDfriB5Dc"
      }
    },
    {
      "cell_type": "code",
      "source": [
        "\n"
      ],
      "metadata": {
        "id": "5RGorctbg2a6"
      },
      "execution_count": null,
      "outputs": []
    },
    {
      "cell_type": "markdown",
      "metadata": {
        "id": "weuyu8H6bqtL"
      },
      "source": [
        "---\n",
        "### 数物情データの主成分分析\n",
        "\n"
      ]
    },
    {
      "cell_type": "markdown",
      "source": [
        "問題1で標準化したデータを主成分分析して，寄与率と累積寄与率を求めてみましょう．"
      ],
      "metadata": {
        "id": "61u35vUaHqTk"
      }
    },
    {
      "cell_type": "markdown",
      "source": [
        "#### 問題2"
      ],
      "metadata": {
        "id": "H7rJDHlAG3Se"
      }
    },
    {
      "cell_type": "markdown",
      "source": [
        "(1) 次のセルに，`Vx`の固有値・固有ベクトルを求めるコードを書きましょう．"
      ],
      "metadata": {
        "id": "xTnJ5qbIItNn"
      }
    },
    {
      "cell_type": "code",
      "source": [
        "\n"
      ],
      "metadata": {
        "id": "VCG-I4OAH8lE"
      },
      "execution_count": null,
      "outputs": []
    },
    {
      "cell_type": "markdown",
      "source": [
        "(2) 次のセルに，`X` を2次元に変換したデータ `Y` を求めて，その2つの変数を横軸と縦軸とした散布図を描くコードを書きましょう．横軸縦軸の範囲をそろえましょう．`ax.set_aspect('equal')` を呼んでグラフの縦横比をそろえましょう．"
      ],
      "metadata": {
        "id": "7ieBxqjtI6uE"
      }
    },
    {
      "cell_type": "code",
      "source": [
        "\n"
      ],
      "metadata": {
        "id": "0KrvbWvrIXqv"
      },
      "execution_count": null,
      "outputs": []
    },
    {
      "cell_type": "markdown",
      "source": [
        "(3) 次のセルに，`eval` を用いて寄与率と累積寄与率を求めて print するコードを書きましょう．\n",
        "notebookA のコードを参考にするとよいでしょう．\n",
        "\n",
        "寄与率は次のようになるはずです．\n",
        "```\n",
        "[0.55783212 0.30071167 0.14145622]\n",
        "```\n",
        "累積寄与率の値をメモしておきましょう．"
      ],
      "metadata": {
        "id": "I0M9BaxiKa2o"
      }
    },
    {
      "cell_type": "code",
      "source": [
        "\n"
      ],
      "metadata": {
        "id": "OCS9Oe6qJpoC"
      },
      "execution_count": null,
      "outputs": []
    },
    {
      "cell_type": "markdown",
      "source": [
        "#### 問題3"
      ],
      "metadata": {
        "id": "eABf14JfQlAT"
      }
    },
    {
      "cell_type": "markdown",
      "source": [
        "固有ベクトルの値と主成分スコアの値を見て，結果を考察しましょう．\n",
        "「主成分負荷量」を求めてもよいのですが，標準化したデータでは\n",
        "\n",
        "$$\n",
        "(\\mbox{第$h$主成分の主成分負荷量}) = \\sqrt{\\lambda_h}\\mathbf{u}_h\n",
        "$$\n",
        "\n",
        "となり，固有ベクトルの値を見るのと大きな違いがありません．ですので，ここでは主成分負荷量の代わりに固有ベクトルの値 $\\mathbf{u}_h$ を見ることにします．"
      ],
      "metadata": {
        "id": "wxktLUZcOv-A"
      }
    },
    {
      "cell_type": "markdown",
      "source": [
        "(1) これまでの計算が正しくできていれば，次のセルを実行すると，第1主成分に対応した固有ベクトルと，第1主成分スコア最小および最大のデータの値が表示されるはずです．"
      ],
      "metadata": {
        "id": "t-FHYvvfSt2Z"
      }
    },
    {
      "cell_type": "code",
      "source": [
        "### 第 (h+1) 主成分スコア最小と最大のデータを表示\n",
        "h = 0\n",
        "print(f'### 第{h+1}主成分 ###')\n",
        "print()\n",
        "print('固有ベクトル = ', U[:, h])\n",
        "print()\n",
        "# 主成分スコア最小は imin 番\n",
        "imin = np.argmin(Y[:, h])  # 最小値の番号を返す\n",
        "print(f'主成分スコア最小は {imin} 番')\n",
        "print(f'Y[{imin}, {h}] = {Y[imin, h]:.2f}')\n",
        "print(f'X[{imin}, :] = {X[imin, :]}')\n",
        "print()\n",
        "# 主成分スコア最大は imax 番\n",
        "imax = np.argmax(Y[:, h])  # 最大値の番号を返す\n",
        "print(f'主成分スコア最大は {imax} 番')\n",
        "print(f'Y[{imax}, {h}] = {Y[imax, h]:.2f}')\n",
        "print(f'X[{imax}, :] = {X[imax, :]}')\n",
        "print()\n",
        "# 元データを表示\n",
        "dfMPI.iloc[[imin, imax], :]"
      ],
      "metadata": {
        "id": "x89Z_D6cQpIw"
      },
      "execution_count": null,
      "outputs": []
    },
    {
      "cell_type": "markdown",
      "source": [
        "表示された値を見て，次の問に答えなさい．\n",
        "1. 第1主成分スコアの値が大きいのはどんな点数のひとか考えてメモしておきなさい（例: 数学の点数が平均より高く，物理の点数が平均より低い，etc.）．スコア最大のひとりがどんな点数かを答えるのではなく，どんな傾向のひとがスコアが大きくなるのかを考えること．\n",
        "1. 同様に，第1主成分スコアの値が小さいのはどんな点数のひとか考えてメモしておきなさい．"
      ],
      "metadata": {
        "id": "NFU6qoagTTA5"
      }
    },
    {
      "cell_type": "markdown",
      "source": [
        "(2) 第2主成分で(1)と同じことをやりましょう．下のセルにコードをコピペして `h` を変えたらよい．"
      ],
      "metadata": {
        "id": "yPmAiOJ8VCK4"
      }
    },
    {
      "cell_type": "code",
      "source": [
        "\n"
      ],
      "metadata": {
        "id": "51wkO5gIVBEO"
      },
      "execution_count": null,
      "outputs": []
    },
    {
      "cell_type": "markdown",
      "source": [
        "(3) 上記をまとめると，数学が得意で情報が苦手なひとのデータ点は，問題2の散布図の第1から第4までのどの象限に描かれるか考えなさい．"
      ],
      "metadata": {
        "id": "RWDEXB5DV3IV"
      }
    },
    {
      "cell_type": "code",
      "source": [],
      "metadata": {
        "id": "34OSBa2GYHw-"
      },
      "execution_count": null,
      "outputs": []
    }
  ]
}