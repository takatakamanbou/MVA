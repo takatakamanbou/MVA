{
  "nbformat": 4,
  "nbformat_minor": 0,
  "metadata": {
    "colab": {
      "provenance": [],
      "toc_visible": true,
      "authorship_tag": "ABX9TyN1+EyP1+wjmo3z3+f+FoRy",
      "include_colab_link": true
    },
    "kernelspec": {
      "name": "python3",
      "display_name": "Python 3"
    },
    "language_info": {
      "name": "python"
    }
  },
  "cells": [
    {
      "cell_type": "markdown",
      "metadata": {
        "id": "view-in-github",
        "colab_type": "text"
      },
      "source": [
        "<a href=\"https://colab.research.google.com/github/takatakamanbou/MVA/blob/2022/ex13notebookB.ipynb\" target=\"_parent\"><img src=\"https://colab.research.google.com/assets/colab-badge.svg\" alt=\"Open In Colab\"/></a>"
      ]
    },
    {
      "cell_type": "markdown",
      "source": [
        "# MVA2022 ex13notebookB\n",
        "\n",
        "<img width=64 src=\"https://www-tlab.math.ryukoku.ac.jp/~takataka/course/MVA/MVA-logo13.png\"> https://www-tlab.math.ryukoku.ac.jp/wiki/?MVA/2022"
      ],
      "metadata": {
        "id": "P4preLw7SzqH"
      }
    },
    {
      "cell_type": "code",
      "metadata": {
        "id": "I226xIKJbqtM"
      },
      "source": [
        "# いつものいろいろインポート\n",
        "import numpy as np\n",
        "import matplotlib.pyplot as plt\n",
        "import pandas as pd\n",
        "import seaborn\n",
        "seaborn.set()\n",
        "\n",
        "# SciPy の DCT と FFT の関数\n",
        "from scipy.fft import dct, fft, ifft, fftfreq\n",
        "\n",
        "# 科学技術計算のライブラリ SciPy の中の WAVE ファイルを扱うモジュール\n",
        "from scipy.io.wavfile import read, write"
      ],
      "execution_count": null,
      "outputs": []
    },
    {
      "cell_type": "markdown",
      "source": [
        "----\n",
        "## 演習問題 大津市の気温の DCT と DFT\n",
        "----\n",
        "\n"
      ],
      "metadata": {
        "id": "zDtnBWKha6vx"
      }
    },
    {
      "cell_type": "markdown",
      "source": [
        "---\n",
        "### データの準備"
      ],
      "metadata": {
        "id": "p0331MyZVlDD"
      }
    },
    {
      "cell_type": "markdown",
      "source": [
        "大津市の2004年度の気温（日ごとの平均気温）のデータを読み込んで `temp2004` という変数に代入します．この年はうるう年ですので，値が $366$ 個あります．"
      ],
      "metadata": {
        "id": "h-hZ43plbDKO"
      }
    },
    {
      "cell_type": "code",
      "source": [
        "temp2004 = np.loadtxt('https://www-tlab.math.ryukoku.ac.jp/~takataka/course/MVA/temp2004.txt')\n",
        "N = len(temp2004)\n",
        "temp2004"
      ],
      "metadata": {
        "id": "xvGpGlLvZmeR"
      },
      "execution_count": null,
      "outputs": []
    },
    {
      "cell_type": "code",
      "source": [
        "fig, ax = plt.subplots(figsize=(8, 6))\n",
        "ax.plot(temp2004, '-', color='blue', label='temp2004')\n",
        "ax.axhline(0, color='gray')\n",
        "ax.legend()\n",
        "plt.show()"
      ],
      "metadata": {
        "id": "kGBwQOe6Zts5"
      },
      "execution_count": null,
      "outputs": []
    },
    {
      "cell_type": "markdown",
      "source": [
        "以下，この気温のデータを表す $N$ 次元ベクトルを $\\mathbf{x}$ と表記することにします．\n",
        "記号をちゃんと定義せずに使っているところがあります．notebookA を参照して補ってね．"
      ],
      "metadata": {
        "id": "5Ey8Fa97dR-J"
      }
    },
    {
      "cell_type": "markdown",
      "source": [
        "---\n",
        "### DCT\n",
        "\n",
        "上記の気温のデータをDCTしてみましょう．"
      ],
      "metadata": {
        "id": "JHKkmNA9aGq2"
      }
    },
    {
      "cell_type": "markdown",
      "source": [
        "次のセルを実行すると，$N$ 次元のDCTの基底のうち最初の4つ $\\mathbf{u}_0, \\mathbf{u}_1, \\mathbf{u}_2, \\mathbf{u}_3$ をグラフに描きます．曲線に見えますが，実際にはそれぞれ $N$ 個の点がプロットされています．"
      ],
      "metadata": {
        "id": "Ocvh3BIJbsYK"
      }
    },
    {
      "cell_type": "code",
      "source": [
        "# DCT の基底を求める\n",
        "N = len(temp2004)\n",
        "U_dct = dct(np.eye(N), norm='ortho')\n",
        "\n",
        "# 0 番から 3 番の基底ベクトルを可視化\n",
        "fig, ax = plt.subplots(figsize=(8, 6))\n",
        "for k in range(4):\n",
        "    ax.plot(U_dct[:, k], '.', label=f'u{k}')\n",
        "ax.axhline(0, color='gray')\n",
        "ax.set_ylim(-0.1, 0.1)\n",
        "ax.legend()\n",
        "plt.show()"
      ],
      "metadata": {
        "id": "C7MpjgZXaYod"
      },
      "execution_count": null,
      "outputs": []
    },
    {
      "cell_type": "markdown",
      "source": [
        "#### 問題1\n",
        "\n",
        "次のことを考えて／調べてメモしておこう：\n",
        "\n",
        "(1) ここでは $N$ はいくつ？ 基底は，何次元のベクトル何本から成る？\n",
        "\n",
        "(2) 描かれている4つの基底ベクトルのうち，366日周期の波はどれ？\n",
        "\n"
      ],
      "metadata": {
        "id": "gXXKcqAJN8OX"
      }
    },
    {
      "cell_type": "markdown",
      "source": [
        "次のセルを実行すると，`temp2004` にDCTを適用します．`c_dct` という配列に展開係数の値 $c_k$ ($k = 0, 1, \\ldots, N-1$)が格納されます．"
      ],
      "metadata": {
        "id": "4TDpz4fVeTYu"
      }
    },
    {
      "cell_type": "code",
      "source": [
        "# temp2004 の DCT\n",
        "c_dct = dct(temp2004, norm='ortho')\n",
        "print(c_dct)"
      ],
      "metadata": {
        "id": "75l7c-lJeNzt"
      },
      "execution_count": null,
      "outputs": []
    },
    {
      "cell_type": "markdown",
      "source": [
        "次のセルを実行すると，`c_dct` の値を可視化します．横軸が $k$ で縦軸が $c_k$ です．"
      ],
      "metadata": {
        "id": "7rLyGXTAfSNl"
      }
    },
    {
      "cell_type": "code",
      "source": [
        "# 展開係数の可視化\n",
        "fig, ax = plt.subplots(1, 2, figsize=(16, 6))\n",
        "ax[0].stem(c_dct, markerfmt=' ', use_line_collection=True)\n",
        "ax[0].set_ylim(-330, 330)\n",
        "ax[1].stem(c_dct, markerfmt='o', use_line_collection=True)\n",
        "ax[1].set_xlim(-0.5,10.5)\n",
        "ax[1].set_ylim(-330, 330)\n",
        "plt.show()"
      ],
      "metadata": {
        "id": "ETqH6Qyseutk"
      },
      "execution_count": null,
      "outputs": []
    },
    {
      "cell_type": "markdown",
      "source": [
        "次のセルを実行すると，$0$ 以上 $N-1$ 未満の整数 $H$ に対して\n",
        "\n",
        "$$\n",
        "\\begin{aligned}\n",
        "\\mathbf{z}_\\textrm{low} &= c_0\\mathbf{u}_0 + c_1\\mathbf{u}_1 + \\cdots + c_{H}\\mathbf{u}_{H}\\\\\n",
        "\\mathbf{z}_\\textrm{high} &= c_{H+1}\\mathbf{u}_{H+1} +  \\cdots + c_{N-1}\\mathbf{u}_{N-1}\n",
        "\\end{aligned}\n",
        "$$\n",
        "\n",
        "を計算し，$\\mathbf{x}$ と重ねて表示します．\n"
      ],
      "metadata": {
        "id": "WEz1AcokgSah"
      }
    },
    {
      "cell_type": "code",
      "source": [
        "H = 0 #@param {type:\"number\", min:0, max:366}\n",
        "assert 0 <= H and H < N-1\n",
        "\n",
        "fig, ax = plt.subplots(1, 2, figsize=(16, 6))\n",
        "\n",
        "z_low = c_dct[:H+1] @ U_dct[:, :H+1].T\n",
        "ax[0].plot(temp2004, '-', label='temp2004')\n",
        "ax[0].plot(z_low, '-', color='red', label='z_low', linewidth=2)\n",
        "ax[0].axhline(0, color='gray')\n",
        "ax[0].legend()\n",
        "\n",
        "z_high = c_dct[H+1:] @ U_dct[:, H+1:].T\n",
        "ax[1].plot(temp2004, '-', label='temp2004')\n",
        "ax[1].plot(z_high, '-', color='red', label='z_high', linewidth=2)\n",
        "ax[1].axhline(0, color='gray')\n",
        "ax[1].legend()\n",
        "\n",
        "plt.show()"
      ],
      "metadata": {
        "id": "Xc9cgTxsd5Mx"
      },
      "execution_count": null,
      "outputs": []
    },
    {
      "cell_type": "markdown",
      "source": [
        "$\\mathbf{z}_\\textrm{low}$ の方は，元のベクトルから長い周期の（周波数の低い）波の成分のみを取り出して表したものとなっており，$\\mathbf{z}_\\textrm{high}$ の方は逆に，短い周期の（周波数の高い）波の成分のみを取り出して表したものとなっています．"
      ],
      "metadata": {
        "id": "6DJE8Z10NKLy"
      }
    },
    {
      "cell_type": "markdown",
      "source": [
        "#### 問題2\n",
        "\n",
        "次のことをやろう／考えよう．\n",
        "\n",
        "(1) $H = 0, 1, 2, 3$ で実行して結果を観察しよう．もっと大きな $H$ でもやってみよう．\n",
        "\n",
        "(2) $k = 104$ のとき $\\frac{2N}{k} =7.04$ なので，$\\mathbf{u}_{104}$ はおよそ1週間周期の変動の成分と言えます．$H=104$ として実行しよう．$\\{\\mathbf{u}_0, \\ldots, \\mathbf{u}_{104}\\}$ と $\\{\\mathbf{u}_{105}, \\ldots, \\mathbf{u}_{366}\\}$ のうち，1週間より短い周期での変動を表す成分はどっち？\n"
      ],
      "metadata": {
        "id": "FuuFAa3Dkr0X"
      }
    },
    {
      "cell_type": "markdown",
      "source": [
        "---\n",
        "### DFT\n",
        "\n",
        "上記の気温のデータをDFTしてみましょう．"
      ],
      "metadata": {
        "id": "wu_tue41mobT"
      }
    },
    {
      "cell_type": "markdown",
      "source": [
        "次のセルを実行すると，$N$ 次元のDFTの基底のうち最初の4つ $\\mathbf{u}_0, \\mathbf{u}_1, \\mathbf{u}_2, \\mathbf{u}_3$ をグラフに描きます．曲線に見えますが，実際にはそれぞれ $N$ 個の点がプロットされています．"
      ],
      "metadata": {
        "id": "y_s_JnbEoRo3"
      }
    },
    {
      "cell_type": "code",
      "source": [
        "# DFT の基底を求める\n",
        "N = len(temp2004)\n",
        "U_dft = np.conj(fft(np.eye(N)))\n",
        "\n",
        "# 0 番から 3 番の基底ベクトルを可視化\n",
        "fig, ax = plt.subplots(2, 4, figsize=(16, 6))\n",
        "xp = np.linspace(0, N-1, num=200)\n",
        "for k in range(4):\n",
        "    # 実部\n",
        "    re = U_dft[:, k].real # 実部\n",
        "    ax[0][k].plot(re, '-', color='blue', label=f'Re u{k}')\n",
        "    # 虚部\n",
        "    im = U_dft[:, k].imag # 虚部\n",
        "    ax[1][k].plot(im, '-', color='red', label=f'Im u{k}')\n",
        "    for i in range(2):\n",
        "        ax[i][k].set_ylim(-1.4, 1.4)\n",
        "        ax[i][k].axhline(0, color='gray')\n",
        "        ax[i][k].legend()\n",
        "plt.show()"
      ],
      "metadata": {
        "id": "KpCRPRuPm9Cl"
      },
      "execution_count": null,
      "outputs": []
    },
    {
      "cell_type": "markdown",
      "source": [
        "#### 問題3\n",
        "\n",
        "次のことを考えて／調べてメモしておこう：\n",
        "\n",
        "(1) ここでは $N$ はいくつ？ 基底は，何次元のベクトル何本から成る？\n",
        "\n",
        "(2) 描かれている4つの基底ベクトルのうち，366日周期の波はどれ？\n",
        "\n"
      ],
      "metadata": {
        "id": "HTBT6dTAofRE"
      }
    },
    {
      "cell_type": "markdown",
      "source": [
        "次のセルを実行すると，`temp2004` にDFTを適用します．`c_dft` という配列に展開係数の値 $c_k$ ($k = 0, 1, \\ldots, N-1$)が格納されます．"
      ],
      "metadata": {
        "id": "F6hGF0gqovGU"
      }
    },
    {
      "cell_type": "code",
      "source": [
        "# temp2004 の DFT\n",
        "c_dft = fft(temp2004)\n",
        "print(c_dft)"
      ],
      "metadata": {
        "id": "7_UN8OQbo2ME"
      },
      "execution_count": null,
      "outputs": []
    },
    {
      "cell_type": "markdown",
      "source": [
        "次のセルを実行すると，`c_dft` の値を可視化します．"
      ],
      "metadata": {
        "id": "Mm6L77KBpSXY"
      }
    },
    {
      "cell_type": "code",
      "source": [
        "# 絶対値と偏角\n",
        "amplitude = np.abs(c_dft) # 絶対値\n",
        "phase = np.angle(c_dft) # 偏角\n",
        "#print(amplitude)\n",
        "#print(phase)\n",
        "\n",
        "# フーリエ係数の可視化（振幅と位相）\n",
        "fig = plt.figure(figsize=(12, 12))\n",
        "\n",
        "# 振幅スペクトル\n",
        "ax = fig.add_subplot(2, 2, 1)\n",
        "ax.stem(amplitude, markerfmt=' ', use_line_collection=True, label='|Ck|')\n",
        "ax.legend()\n",
        "\n",
        "# 振幅スペクトル（縦軸は常用対数をとった値）\n",
        "ax = fig.add_subplot(2, 2, 2)\n",
        "ax.stem(np.log10(amplitude+1), markerfmt=' ', use_line_collection=True, label='|Ck|')\n",
        "ax.legend()\n",
        "\n",
        "# 振幅スペクトル（一部の範囲，縦軸は常用対数をとった値）\n",
        "ax = fig.add_subplot(2, 2, 3)\n",
        "ax.stem(np.log10(amplitude[:21]+1), markerfmt=' ', use_line_collection=True, label='|Ck|')\n",
        "ax.set_xlim(-1, 22)\n",
        "ax.legend()\n",
        "\n",
        "# 位相スペクトル\n",
        "ax = fig.add_subplot(2, 2, 4)\n",
        "ax.stem(phase, markerfmt=' ', use_line_collection=True, label='arg Ck')\n",
        "ax.legend()\n",
        "\n",
        "plt.show()"
      ],
      "metadata": {
        "id": "AD_HbRaKpSXZ"
      },
      "execution_count": null,
      "outputs": []
    },
    {
      "cell_type": "markdown",
      "source": [
        "左上は普通の振幅スペクトルです．横軸が $k$ で縦軸が $|c_k|$ です．右上は，縦軸を $\\log_{10}|c_k|$ としたものです．値の変化の範囲が大きいときは，スペクトルをこのように対数プロットすることもあります．左下は，右上のものの一部を拡大して表示したものです．右下は，位相スペクトルです．縦軸が $\\arg c_k$ で，値の範囲は $[-\\pi, \\pi]$ です．"
      ],
      "metadata": {
        "id": "EsA6ib5psYf5"
      }
    },
    {
      "cell_type": "markdown",
      "source": [
        "次のセルを実行すると，$0$ 以上 $\\frac{N}{2}$ 未満の整数 $H$ に対して\n",
        "\n",
        "$$\n",
        "\\begin{aligned}\n",
        "\\mathbf{z} &= c_0\\mathbf{u}_0 + c_1\\mathbf{u}_1 + \\cdots + c_{H}\\mathbf{u}_{H}\\\\\n",
        "&+ c_{N-H}\\mathbf{u}_{N-H} + c_{N-H+1}\\mathbf{u}_{N-H+1} \\cdots + c_{N-1}\\mathbf{u}_{N-1}\n",
        "\\end{aligned}\n",
        "$$\n",
        "\n",
        "を計算し，$\\mathbf{x}$ と重ねて表示します．"
      ],
      "metadata": {
        "id": "54dvNKl_woXG"
      }
    },
    {
      "cell_type": "code",
      "source": [
        "H = 0 #@param {type:\"number\"}\n",
        "assert 0 <= H and H <= N//2\n",
        "\n",
        "c_truncated = np.copy(c_dft)\n",
        "c_truncated[H+1:N-H] = 0\n",
        "z = ifft(c_truncated).real\n",
        "\n",
        "fig, ax = plt.subplots(figsize=(8, 6))\n",
        "\n",
        "ax.plot(temp2004, '-', label='temp2004')\n",
        "ax.plot(z, '-', color='red', label='z', linewidth=2)\n",
        "ax.axhline(0, color='gray')\n",
        "ax.legend()\n",
        "\n",
        "plt.show()"
      ],
      "metadata": {
        "id": "kvwe82iyvUMS"
      },
      "execution_count": null,
      "outputs": []
    },
    {
      "cell_type": "markdown",
      "source": [
        "#### 問題4\n",
        "\n",
        "次のことをやろう／考えよう．\n",
        "\n",
        "(1) 振幅スペクトルを見ると，定数成分以外で最も振幅が大きいのは，$k$ がいくつのもの？その周期はいくつ？\n",
        "\n",
        "(2) $H = 0, 1, 2, 3, 5, 10$ で実行して結果を観察しよう．もっと大きな $H$ でもやってみよう．\n",
        "\n",
        "(3) $H = 183$ とするとどうなる?\n",
        "\n"
      ],
      "metadata": {
        "id": "PS6wHzjPxck4"
      }
    },
    {
      "cell_type": "markdown",
      "source": [
        "----\n",
        "## 演習問題 - 音のデータの DFT\n",
        "----\n",
        "\n",
        "音のデータを分析してみましょう．"
      ],
      "metadata": {
        "id": "W6bu4DEYG3g3"
      }
    },
    {
      "cell_type": "markdown",
      "source": [
        "---\n",
        "### 正弦波"
      ],
      "metadata": {
        "id": "leAPcOXNLRV6"
      }
    },
    {
      "cell_type": "markdown",
      "source": [
        "データを準備します．コードのコメントにある「標本化周波数」や「量子化」といった話は次回解説予定です．今は気にしなくてokです．"
      ],
      "metadata": {
        "id": "B96OF8-lD05x"
      }
    },
    {
      "cell_type": "code",
      "source": [
        "framerate = 8000       # 標本化周波数\n",
        "vmax = 2**(15-2)       # 16bit量子化で最大振幅の 1/4\n",
        "duration = 2*framerate # 2[s]\n",
        "\n",
        "t = np.arange(duration)\n",
        "\n",
        "freq1 = [200, 400, 600]\n",
        "freq2 = [1200, 400, 800]\n",
        "\n",
        "# signal1\n",
        "signal1 = vmax * np.sin((2*np.pi*t/(framerate/freq1[0]))) \\\n",
        " + vmax/2 * np.sin((2*np.pi*t/(framerate/freq1[1]))) \\\n",
        " + vmax/4 * np.sin((2*np.pi*t/(framerate/freq1[2]))) \\\n",
        " + vmax/2 * np.random.randn(len(t)) # ランダムノイズ\n",
        "\n",
        "# signal2\n",
        "signal2 = vmax * np.sin((2*np.pi*t/(framerate/freq2[0]))) \\\n",
        " + vmax/2 * np.sin((2*np.pi*t/(framerate/freq2[1]))) \\\n",
        " + vmax/4 * np.sin((2*np.pi*t/(framerate/freq2[2]))) \\\n",
        " + vmax/2 * np.random.randn(len(t)) # ランダムノイズ\n",
        "\n",
        "# グラフに描く\n",
        "fig, ax = plt.subplots(figsize=(8, 6))\n",
        "ax.plot(signal1, '-o', label='signal1')\n",
        "ax.plot(signal2, '-o', label='signal2')\n",
        "ax.axhline(0, color='gray')\n",
        "ax.set_xlim(0, 100)\n",
        "ax.legend()\n",
        "plt.show()"
      ],
      "metadata": {
        "id": "oxOU09OYNKt4"
      },
      "execution_count": null,
      "outputs": []
    },
    {
      "cell_type": "markdown",
      "source": [
        "`signal1` と `signal2` という2つの音のデータを作りました．どちらも，周波数の異なる3つの正弦波を足し合わせたものにノイズを乗せてあります．上のグラフからそれぞれがどんな音か想像する...のは難しいので，WAVE 形式のファイルとして出力して手元のPCにダウンロードし，音を鳴らしてみましょう．\n",
        "\n",
        "1. 次のコードセルに記されたコメントに従ってコードを修正して実行\n",
        "1. 手元に `signal1.wav` と `signal2.wav` というファイルがダウンロードされる．初めて実行すると，「複数ファイルの一括ダウンロードの許可」を求めるポップアップウィンドウが現れるかもしれません．その場合，許可するとダウンロードが始まります．\n",
        "1. 手元のPCでダウンロードされたファイルを再生．WAVE 形式のファイルは，Windows でも macOS でも，OS標準の音楽プレイヤーで再生できるはずです．"
      ],
      "metadata": {
        "id": "HZ9kckd9EXtm"
      }
    },
    {
      "cell_type": "code",
      "source": [
        "from google.colab import files\n",
        "\n",
        "if 1 == 0: # ← の 0 を 1 に修正\n",
        "    write('signal1.wav', framerate, signal1.astype('int16'))\n",
        "    write('signal2.wav', framerate, signal2.astype('int16'))\n",
        "    files.download('signal1.wav')\n",
        "    files.download('signal2.wav')"
      ],
      "metadata": {
        "id": "iDsIuAtNHrx9"
      },
      "execution_count": null,
      "outputs": []
    },
    {
      "cell_type": "markdown",
      "source": [
        "次のセルを実行すると，`signal1` と `signal2` に DFT を適用してそれぞれのフーリエ係数を求め，振幅スペクトルを描きます．"
      ],
      "metadata": {
        "id": "ReSFdpS6HnMk"
      }
    },
    {
      "cell_type": "code",
      "source": [
        "N = len(signal1)\n",
        "freq = fftfreq(N, d=1/framerate)\n",
        "\n",
        "# signal1 の振幅スペクトル\n",
        "c_dft = fft(signal1)\n",
        "amp1 = np.abs(c_dft)/N # 絶対値\n",
        "\n",
        "# signal2 の振幅スペクトル\n",
        "c_dft = fft(signal2)\n",
        "amp2 = np.abs(c_dft)/N # 絶対値\n",
        "\n",
        "fig, ax = plt.subplots(2, 3, figsize=(16, 8))\n",
        "\n",
        "ax[0, 0].stem(amp1, markerfmt=' ', use_line_collection=True, label='signal1 |Ck|')\n",
        "ax[0, 0].set_xlabel('k')\n",
        "ax[0, 0].legend()\n",
        "\n",
        "ax[0, 1].stem(amp1, markerfmt=' ', use_line_collection=True, label='signal1 |Ck|')\n",
        "ax[0, 1].set_xlim(0, 3000)\n",
        "ax[0, 1].set_xticks(np.arange(0, 3000, 400))\n",
        "ax[0, 1].set_xlabel('k')\n",
        "ax[0, 1].legend()\n",
        "\n",
        "ax[0, 2].stem(freq, amp1, markerfmt=' ', use_line_collection=True, label='signal1 |Ck|')\n",
        "ax[0, 2].set_xlim(0, 1500)\n",
        "ax[0, 2].set_xticks(np.arange(0, 1500, 200))\n",
        "ax[0, 2].set_xlabel('Hz')\n",
        "ax[0, 2].legend()\n",
        "\n",
        "ax[1, 0].stem(amp2, markerfmt=' ', use_line_collection=True, label='signal2 |Ck|')\n",
        "ax[1, 0].set_xlabel('k')\n",
        "ax[1, 0].legend()\n",
        "\n",
        "ax[1, 1].stem(amp2, markerfmt=' ', use_line_collection=True, label='signal2 |Ck|')\n",
        "ax[1, 1].set_xlim(0, 3000)\n",
        "ax[1, 1].set_xticks(np.arange(0, 3000, 400))\n",
        "ax[1, 1].set_xlabel('k')\n",
        "ax[1, 1].legend()\n",
        "\n",
        "ax[1, 2].stem(freq, amp2, markerfmt=' ', use_line_collection=True, label='signal2 |Ck|')\n",
        "ax[1, 2].set_xlim(0, 1500)\n",
        "ax[1, 2].set_xticks(np.arange(0, 1500, 200))\n",
        "ax[1, 2].set_xlabel('Hz')\n",
        "ax[1, 2].legend()\n",
        "\n",
        "plt.show()"
      ],
      "metadata": {
        "id": "CKP7ShhI4Zs1"
      },
      "execution_count": null,
      "outputs": []
    },
    {
      "cell_type": "markdown",
      "source": [
        "上段が `signal1` の振幅スペクトル，下段が `signal2` の振幅スペクトルです．\n",
        "左は，横軸 $k$，縦軸 $|c_k|$ で横軸の範囲を $[0, N-1]$ として描いたもの，真ん中は，横軸の範囲を狭めたものです．\n",
        "右の図では，横軸の範囲は真ん中と同じですが，横軸の単位を周波数 [Hz] として描いています．\n",
        "$k$ と周波数との対応については次回説明しますので，ここではそういうもんだと思って眺めればokです．\n",
        "\n",
        "`signal1` と `signal2` のどちらの音も，周波数の異なる3つの正弦波を足し合わせたものにノイズを乗せて作ってあります．元のデータの波形を眺めたり音を聞いたりしただけではどんな成分が含まれているのか分かりづらいですが，振幅スペクトルを見ると一目瞭然となっています．"
      ],
      "metadata": {
        "id": "y8uTfozjIZ1A"
      }
    },
    {
      "cell_type": "markdown",
      "source": [
        "#### 問題5\n",
        "\n",
        "次のことをやろう／考えよう．\n",
        "\n",
        "(1) `signal1` と `signal2` は，どちらの方が高い音に聞こえますか？\n",
        "\n",
        "(2) それぞれの音に含まれる成分のうち，主要な（振幅が大きい）成分は，周波数が何Hzのものですか？ それぞれの音で3つずつ答えなさい．\n",
        "\n",
        "(3) 振幅スペクトルによると，`signal1` と `signal2` ではどちらの方が高い周波数の成分を含んでいますか？ （(2)で求めた主要な成分に注目して考えよう）\n",
        "\n",
        "\n"
      ],
      "metadata": {
        "id": "ePDU_DdCHJMa"
      }
    },
    {
      "cell_type": "markdown",
      "source": [
        "---\n",
        "### もふもふから出る音\n",
        "\n",
        "別の音のデータで実験しましょう．"
      ],
      "metadata": {
        "id": "cOc2sZ1VLU7A"
      }
    },
    {
      "cell_type": "markdown",
      "source": [
        "ネットから WAVE 形式のファイルを入手します．まずは，WAVE形式のファイルを読み込む関数を定義します．"
      ],
      "metadata": {
        "id": "gRATQGBBTl3c"
      }
    },
    {
      "cell_type": "code",
      "source": [
        "# WAVE ファイルを読み込む関数\n",
        "#\n",
        "def readWAVE(filename):\n",
        "    \n",
        "    framerate, data = read(filename)\n",
        "\n",
        "    # チャンネル数とフレーム数（データ点の数）を求める\n",
        "    if data.ndim == 1:\n",
        "        nchannels = 1\n",
        "    else:\n",
        "        nchannels = data.shape[1]\n",
        "    nframes = data.shape[0]\n",
        "    \n",
        "    print('filename = ', filename)\n",
        "    print('nchannels = ', nchannels)       # チャンネル数\n",
        "    print('framerate = ', framerate)       # 標本化周波数\n",
        "    print('nframes = ', nframes)             # フレーム数\n",
        "    print('duration = {0:.2f}[sec]'.format(nframes / framerate))   # 長さ（秒単位）\n",
        "    print('dtype = ', data.dtype)            # データ型（量子化ビット数に対応）\n",
        "\n",
        "    assert data.dtype == 'uint8' or data.dtype == 'int16' or data.dtype == 'int32' or data.dtype == 'float32'\n",
        "    \n",
        "    # 最初の10秒分だけ取り出す（元がそれより短ければそのまま）\n",
        "    nframesNew = min(framerate * 10, nframes)   \n",
        "    if nchannels == 1:\n",
        "        dataNew = data[:nframesNew]\n",
        "    else:\n",
        "        # 多チャンネル信号なら0番目と1番目の平均値を取り出す\n",
        "        if data.dtype == 'float32':  # 浮動小数点数のときは [0, 1] の値なので普通に足して2で割る\n",
        "            dataNew = (data[:nframesNew, 0] + data[:nframesNew, 1])/2\n",
        "        else: # 整数型のときはオーバーフローする可能性があるので，いったん64bit整数にしてから\n",
        "            data64 = (data[:nframesNew, 0].astype(np.int64) + data[:nframesNew, 1].astype(np.int64))//2\n",
        "            dataNew = data64.astype(data.dtype)\n",
        "    \n",
        "    return framerate, dataNew"
      ],
      "metadata": {
        "id": "HKcL3PWiMcEI"
      },
      "execution_count": null,
      "outputs": []
    },
    {
      "cell_type": "markdown",
      "source": [
        "WAVE ファイルを入手します．"
      ],
      "metadata": {
        "id": "ULqRtKvzUBaY"
      }
    },
    {
      "cell_type": "code",
      "source": [
        "# WAVE ファイルを入手\n",
        "#\n",
        "### こちらのサイトの素材を利用させてもらってます http://www.ne.jp/asahi/music/myuu/wave/wave.htm\n",
        "\n",
        "! wget -nc http://www.ne.jp/asahi/music/myuu/wave/cat1.wav\n",
        "fnCat = 'cat1.wav'\n",
        "\n",
        "import os\n",
        "\n",
        "if not os.path.exists(fnCat):\n",
        "    print(f'{fnCat}のダウンロードがうまくできていないようです')"
      ],
      "metadata": {
        "id": "ZMHnlYjpKBw2"
      },
      "execution_count": null,
      "outputs": []
    },
    {
      "cell_type": "markdown",
      "source": [
        "次のセルを実行すると，`cat1` と `cat2` という二つの配列を作ります．"
      ],
      "metadata": {
        "id": "R37tyBzoUIDS"
      }
    },
    {
      "cell_type": "code",
      "source": [
        "# cat1\n",
        "fr_cat1, cat1 = readWAVE('cat1.wav')\n",
        "N_cat1 = len(cat1)\n",
        "print(fr_cat1, N_cat1)\n",
        "\n",
        "# cat2\n",
        "cat2 = np.copy(cat1)\n",
        "N_cat2 = len(cat2)\n",
        "fr_cat2 = fr_cat1//2\n",
        "print(fr_cat2, N_cat2)\n",
        "write('cat2.wav', fr_cat2, cat2.astype('int16'))"
      ],
      "metadata": {
        "id": "xfDdmfZ_Pfjx"
      },
      "execution_count": null,
      "outputs": []
    },
    {
      "cell_type": "markdown",
      "source": [
        "`WavFileWarning` という警告が出るかもしれませんが，気にしないでokです．それぞれのWAVEファイルをダウンロードして音を聞いてみてください．"
      ],
      "metadata": {
        "id": "KW7a-e8oUTpb"
      }
    },
    {
      "cell_type": "code",
      "source": [
        "from google.colab import files\n",
        "\n",
        "if 1 == 0: # ← の 0 を 1 に修正\n",
        "    files.download('cat1.wav')\n",
        "    files.download('cat2.wav')"
      ],
      "metadata": {
        "id": "tf0nL-M-M8Io"
      },
      "execution_count": null,
      "outputs": []
    },
    {
      "cell_type": "markdown",
      "source": [
        "#### 問題6\n",
        "\n",
        "上記の `cat1` と `cat2` のデータに DFT を適用して振幅スペクトルを描くと，下図のようになりました．どちらが `cat1` でどちらが `cat2` ですか．\n",
        "\n",
        "\n",
        "<img src=\"https://www-tlab.math.ryukoku.ac.jp/~takataka/course/MVA/ex13catspec.png\">"
      ],
      "metadata": {
        "id": "ngjVdgr1TDD5"
      }
    },
    {
      "cell_type": "code",
      "source": [],
      "metadata": {
        "id": "ISPKL9D9NtX4"
      },
      "execution_count": null,
      "outputs": []
    }
  ]
}