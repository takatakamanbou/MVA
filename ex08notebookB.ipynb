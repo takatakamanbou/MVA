{
  "nbformat": 4,
  "nbformat_minor": 0,
  "metadata": {
    "colab": {
      "provenance": [],
      "authorship_tag": "ABX9TyNOYTQZ0Vw11frbv4q2/TXu",
      "include_colab_link": true
    },
    "kernelspec": {
      "name": "python3",
      "display_name": "Python 3"
    },
    "language_info": {
      "name": "python"
    }
  },
  "cells": [
    {
      "cell_type": "markdown",
      "metadata": {
        "id": "view-in-github",
        "colab_type": "text"
      },
      "source": [
        "<a href=\"https://colab.research.google.com/github/takatakamanbou/MVA/blob/2023/ex08notebookB.ipynb\" target=\"_parent\"><img src=\"https://colab.research.google.com/assets/colab-badge.svg\" alt=\"Open In Colab\"/></a>"
      ]
    },
    {
      "cell_type": "markdown",
      "source": [
        "# MVA2023 ex08notebookB\n",
        "\n",
        "<img width=64 src=\"https://www-tlab.math.ryukoku.ac.jp/~takataka/course/MVA/MVA-logo09.png\"> https://www-tlab.math.ryukoku.ac.jp/wiki/?MVA/2023"
      ],
      "metadata": {
        "id": "P4preLw7SzqH"
      }
    },
    {
      "cell_type": "code",
      "metadata": {
        "id": "I226xIKJbqtM"
      },
      "source": [
        "# 必要なパッケージのインポート\n",
        "import numpy as np\n",
        "import matplotlib.pyplot as plt\n",
        "import pandas as pd\n",
        "import seaborn\n",
        "seaborn.set()\n",
        "\n",
        "# NumPy の 疑似乱数生成器（rng = random number generator）\n",
        "from numpy.random import default_rng\n",
        "rng = default_rng() # 疑似乱数生成器を初期化\n",
        "\n",
        "# SciPy の 統計関数群の中の正規分布モジュール (scipy.stats.norm) と多変量正規分布モジュール (scipy.stats.multivariate_normal)\n",
        "from scipy.stats import norm, multivariate_normal"
      ],
      "execution_count": null,
      "outputs": []
    },
    {
      "cell_type": "markdown",
      "source": [
        "----\n",
        "## 多次元正規分布ともっと親しくなろう\n",
        "----\n"
      ],
      "metadata": {
        "id": "zDtnBWKha6vx"
      }
    },
    {
      "cell_type": "markdown",
      "source": [
        "---\n",
        "### $(\\mathbf{x}-\\mathbf{\\mu})^{\\top}\\Sigma^{-1}(\\mathbf{x}-\\mathbf{\\mu}) = (\\mbox{定数})$ はどんな図形？\n",
        "\n"
      ],
      "metadata": {
        "id": "gXEY1V1LG-aG"
      }
    },
    {
      "cell_type": "markdown",
      "source": [
        "正規分布の確率密度関数\n",
        "\n",
        "$$\n",
        "f(\\mathbf{x}) =\n",
        " \\frac{1}{\\sqrt{(2\\pi)^2|\\Sigma|}}\\exp\\left(-\\frac{1}{2}(\\mathbf{x}-\\mathbf{\\mu})^{\\top}\\Sigma^{-1}(\\mathbf{x}-\\mathbf{\\mu})\\right)\n",
        "$$\n",
        "\n",
        "の式の中にある $(\\mathbf{x}-\\mathbf{\\mu})^{\\top}\\Sigma^{-1}(\\mathbf{x}-\\mathbf{\\mu}) $ が等しければ，$f(\\mathbf{x})$ の値も等しくなります．$(\\mathbf{x}-\\mathbf{\\mu})^{\\top}\\Sigma^{-1}(\\mathbf{x}-\\mathbf{\\mu})  = c$ （$c$は定数）がどんな図形かを考えてみましょう．これは，ちょうど，2次元正規分布の確率密度関数を可視化するために描いていた等高線がどんな曲線なのかを考えることに相当します．"
      ],
      "metadata": {
        "id": "icYtS-NA2FRR"
      }
    },
    {
      "cell_type": "markdown",
      "source": [
        "#### 問題1\n",
        "\n",
        "この問題は，手計算で答えを求める＆紙に手書きでグラフを描くものです．\n",
        "\n",
        "(1) $\\mathbf{x} = \\begin{pmatrix} x \\\\ y \\end{pmatrix}, \\mathbf{\\mu} = \\begin{pmatrix} \\mu_x \\\\ \\mu_y \\end{pmatrix}, \\Sigma = \\begin{pmatrix} \\sigma_x^2 & 0 \\\\ 0 & \\sigma_y^2 \\end{pmatrix}$ のとき， $(\\mathbf{x}-\\mathbf{\\mu})^{\\top}\\Sigma^{-1}(\\mathbf{x}-\\mathbf{\\mu})  = 1$ を $x, y, \\mu_x, \\mu_y, \\sigma_x^2, \\sigma_y^2$ で表しなさい．\n",
        "\n",
        "(2) (1) で得られた方程式が表す曲線はどのようなものか答えなさい．\n",
        "\n",
        "(3) $\\mu_x = 2, \\mu_y = 1, \\sigma_x^2 = 4, \\sigma_y^2 = 1$ のとき，この曲線のグラフを描きなさい．"
      ],
      "metadata": {
        "id": "gz4r8feAj6m8"
      }
    },
    {
      "cell_type": "markdown",
      "source": [
        "問題1では $\\Sigma$ が対角行列の場合のみを考えていますが，一般の分散共分散行列の場合も，$\\Sigma$ の固有値分解を利用した式変形によって同様に考えることができます．その手がかりが，次の問題にあります．"
      ],
      "metadata": {
        "id": "tMn7vbE2nQNK"
      }
    },
    {
      "cell_type": "markdown",
      "source": [
        "---\n",
        "### ${\\cal N}(\\mathbf{0}, \\Sigma), \\Sigma =  \\begin{pmatrix} 7 & \\sqrt{3} \\\\ \\sqrt{3} & 5 \\end{pmatrix}$ がどんな形の分布か考えよう\n",
        "\n",
        "notebookA で出てきたこの正規分布の確率密度関数がどんな形をしているのかを考えましょう．"
      ],
      "metadata": {
        "id": "NA_sHrk5pdiL"
      }
    },
    {
      "cell_type": "markdown",
      "source": [
        "#### 問題2\n",
        "\n",
        "この問題は，手計算で答えを求めるものです．\n",
        "\n",
        "(1) $\\Sigma$ の固有値と単位固有ベクトル（大きさ1の固有ベクトル）を求めなさい．ただし，2つの固有値のうち大きい方を $\\lambda_1$，小さい方を $\\lambda_2$ とし，それぞれに対応する固有ベクトルを $\\mathbf{u}_1, \\mathbf{u}_2$ とすること．固有ベクトルの向きは好きに選んでよいのだが，ここでは後のことを考えて，$\\mathbf{u}_1$ はすべての要素が正となるように，$\\mathbf{u}_2$ は一つ目の要素が負になるようにとろう．\n",
        "\n",
        "(2) (1) の固有ベクトルをならべた行列 $U$ を $U = \\begin{pmatrix} \\mathbf{u}_1 & \\mathbf{u}_2 \\end{pmatrix}$ とおくと，$U = \\begin{pmatrix} \\cos\\theta & -\\sin\\theta \\\\ \\sin\\theta & \\cos\\theta \\end{pmatrix}$ と表せる．このような $\\theta$ を求めなさい．ただし，$0 \\le \\theta \\le \\pi$ とする．\n"
      ],
      "metadata": {
        "id": "YL5OCidDqS2U"
      }
    },
    {
      "cell_type": "markdown",
      "source": [
        "ここで，$\\mathbf{x} = U\\mathbf{y}$ という変換を考えると，これは，座標平面上の各点を原点を中心として反時計回りに $\\theta$ 回転させる変換となっています．\n",
        "実際，notebookA の $\\mathbf{Y}, \\mathbf{X}$ の散布図が並んだ図を見ると，$\\mathbf{Y}$ の図をこのように回転させると $\\mathbf{X}$ の図に一致しています．\n",
        "\n",
        "以上のことから，平均 $\\mathbf{0}$ 分散共分散行列 $\\begin{pmatrix} 8 & 0 \\\\ 0 & 4 \\end{pmatrix}$ の2次元正規分布の確率密度関数を，原点を中心に反時計回りに $\\frac{\\pi}{6}$ 回転したものが，平均 $\\mathbf{0}$ 分散共分散行列\n",
        "$\\begin{pmatrix} 7 & \\sqrt{3} \\\\ \\sqrt{3} & 5 \\end{pmatrix}$ の2次元正規分布の確率密度関数であることが分かります．"
      ],
      "metadata": {
        "id": "C-AlUa1Z0hXH"
      }
    },
    {
      "cell_type": "markdown",
      "source": [
        "---\n",
        "### 1次元正規分布のパラメータの最尤推定の解を導出してみよう"
      ],
      "metadata": {
        "id": "TfRUnFHX4DZ8"
      }
    },
    {
      "cell_type": "markdown",
      "source": [
        "#### 問題3"
      ],
      "metadata": {
        "id": "aEJiPZ773Rmb"
      }
    },
    {
      "cell_type": "markdown",
      "source": [
        "(1) notebookA の式$(*)$ を $\\mu$ で微分したもの，つまり $\\frac{\\partial L}{\\partial \\mu}$ を求めなさい．\n",
        "\n",
        "(2) $\\frac{\\partial L}{\\partial \\mu} = 0$ を $\\mu$ について解いて，notebookA の式$(1)$が得られることを示しなさい．\n",
        "\n",
        "(3) notebookA の式$(*)$ を $\\sigma^2$ で微分したもの，つまり $\\frac{\\partial L}{\\partial \\sigma^2}$ を求めなさい．ここでは，$\\sigma$ではなく$\\sigma^2$ をひとかたまりの変数として扱っていることに注意．\n",
        "\n",
        "(4) $\\frac{\\partial L}{\\partial \\sigma^2} = 0$ を $\\sigma^2$ について解いて，notebookA の式$(2)$が得られることを示しなさい．"
      ],
      "metadata": {
        "id": "OJFeMa5B3lF3"
      }
    },
    {
      "cell_type": "markdown",
      "source": [
        "---\n",
        "### 乱数データで正規分布のパラメータを推定してみよう"
      ],
      "metadata": {
        "id": "Nh5eurDr7scO"
      }
    },
    {
      "cell_type": "code",
      "source": [
        "#@title 問題4\n",
        "#@markdown 問題文はこのセルの下にあります．\n",
        "N = 10  #@param [10, 20, 50, 100] {type: \"raw\"}\n",
        "\n",
        "# 真の（母集団の）平均と分散\n",
        "mu, sig2 = 3, 4\n",
        "\n",
        "# 平均 mu, 分散 sig2 に従う正規乱数の標本を N 個抽出\n",
        "X = np.sqrt(sig2) * rng.standard_normal(N) + mu\n",
        "\n",
        "# 平均と分散を推定\n",
        "mu_est   = np.mean(X)\n",
        "sig2_est = np.var(X)\n",
        "\n",
        "# 標本のヒストグラムと推定された正規分布を描く\n",
        "xmin, xmax = mu - 5*np.sqrt(sig2), mu + 5*np.sqrt(sig2)\n",
        "xx = np.linspace(xmin, xmax, num=100)\n",
        "fig, ax = plt.subplots(1, figsize=(8, 6))\n",
        "\n",
        "# ヒストグラム\n",
        "ax.hist(X, density=True)\n",
        "\n",
        "# 真の正規分布\n",
        "px = norm.pdf(xx, loc=mu, scale=np.sqrt(sig2))\n",
        "ax.plot(xx, px, linewidth=3, color='#00a000', label='true')\n",
        "\n",
        "# 推定された正規分布\n",
        "px = norm.pdf(xx, loc=mu_est, scale=np.sqrt(sig2_est))\n",
        "ax.plot(xx, px, linewidth=3, color='red', label='estimated')\n",
        "\n",
        "ax.axvline(0, color='gray')\n",
        "ax.set_xlim(xmin, xmax)\n",
        "ax.legend()\n",
        "plt.show()\n",
        "print(f'N = {N}')\n",
        "print(f'真の平均: {mu:.2f} 推定された平均: {mu_est:.2f}')\n",
        "print(f'真の分散: {sig2:.2f} 推定された分散: {sig2_est:.2f}')"
      ],
      "metadata": {
        "id": "trKq6y--7NR2"
      },
      "execution_count": null,
      "outputs": []
    },
    {
      "cell_type": "markdown",
      "source": [
        "上のセルを実行すると，1次元正規乱数の標本からその正規分布の平均と分散を推定します．\n",
        "緑色が真の分布を，赤色がデータから推定された分布を表します．\n",
        "`N`はサンプルサイズを表します．`N` をいろいろ変えて，結果を観察しましょう．同じ `N` でも実行のたびに乱数値が変わるので，何度も実行してみましょう．\n",
        "\n",
        "観察結果をふまえて，次の質問に対する答えを考えなさい．\n",
        "\n",
        "「推定の良さとサンプルサイズの間に関係はありそうか？サンプルサイズが大きい場合と小さい場合では，どちらのほうが真のパラメータ値に近い推定値が得られそうか？」\n"
      ],
      "metadata": {
        "id": "fG_SH4LV7HLw"
      }
    },
    {
      "cell_type": "code",
      "source": [
        "#@title 問題5\n",
        "#@markdown 問題文はこのセルの下にあります．\n",
        "N = 20  #@param [20, 50, 100, 200] {type: \"raw\"}\n",
        "\n",
        "# 真の（母集団の）平均と分散\n",
        "mu  = np.array([7, 5])\n",
        "cov = np.array([[5, -np.sqrt(3)],\n",
        "                [-np.sqrt(3), 3]])\n",
        "\n",
        "# 平均 mu, 共分散 cov に従う正規乱数の標本を N 個抽出\n",
        "X = rng.multivariate_normal(mu, cov, size=N)\n",
        "\n",
        "# 平均と分散を推定\n",
        "mu_est  = np.mean(X, axis=0)\n",
        "XX = X - mu_est\n",
        "cov_est = XX.T @ XX / N\n",
        "\n",
        "# 散布図\n",
        "fig, ax = plt.subplots(figsize=(8, 8))\n",
        "xmin, xmax = -5, 15\n",
        "ymin, ymax = -5, 15\n",
        "ax.scatter(X[:, 0], X[:, 1])\n",
        "\n",
        "# 真の正規分布\n",
        "xx, yy = np.mgrid[xmin:xmax:0.1, ymin:ymax:0.1]\n",
        "zz = multivariate_normal.pdf(np.dstack((xx, yy)), mu ,cov)\n",
        "CS = ax.contour(xx, yy, zz, linewidths=3, colors=['#a0a0a0a0', '#50a050', '#00a000'], levels=[0.001, 0.01, 0.1])\n",
        "CS.collections[-1].set_label('true')\n",
        "\n",
        "# 推定された正規分布\n",
        "zz = multivariate_normal.pdf(np.dstack((xx, yy)), mu_est ,cov_est)\n",
        "CS = ax.contour(xx, yy, zz, linewidths=3, colors=['#ffa0a0', '#ff5050', '#ff0000'], levels=[0.001, 0.01, 0.1])\n",
        "CS.collections[-1].set_label('estimated')\n",
        "\n",
        "ax.axhline(0, color='gray')\n",
        "ax.axvline(0, color='gray')\n",
        "ax.set_xlim(xmin, xmax)\n",
        "ax.set_ylim(ymin, ymax)\n",
        "ax.set_aspect('equal')\n",
        "plt.show()\n",
        "\n",
        "print(f'N = {N}')\n",
        "print(f'真の平均: {mu} 推定された平均: {mu_est}')\n",
        "print('真の分散共分散行列')\n",
        "print(cov)\n",
        "print('推定された分散共分散行列')\n",
        "print(cov_est)\n"
      ],
      "metadata": {
        "id": "uERpjwc4AHcb"
      },
      "execution_count": null,
      "outputs": []
    },
    {
      "cell_type": "markdown",
      "source": [
        "上のセルを実行すると，2次元正規乱数の標本からその正規分布の平均と分散共分散行列を推定します．\n",
        "緑色が真の分布を，赤色がデータから推定された分布を表します．\n",
        "`N`はサンプルサイズを表します．`N` をいろいろ変えて，結果を観察しましょう．同じ `N` でも実行のたびに乱数値が変わるので，何度も実行してみましょう．\n",
        "\n",
        "観察結果をふまえて，上の問題と同じ質問に対する答えを考えなさい．\n"
      ],
      "metadata": {
        "id": "4P2PWRRAEuVj"
      }
    },
    {
      "cell_type": "code",
      "source": [],
      "metadata": {
        "id": "3Hq7aVqAwRmL"
      },
      "execution_count": null,
      "outputs": []
    }
  ]
}