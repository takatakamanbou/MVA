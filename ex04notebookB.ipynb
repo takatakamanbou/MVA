{
  "nbformat": 4,
  "nbformat_minor": 0,
  "metadata": {
    "colab": {
      "provenance": [],
      "authorship_tag": "ABX9TyO3OKL7Mzz0XmHO8VZQo95n",
      "include_colab_link": true
    },
    "kernelspec": {
      "name": "python3",
      "display_name": "Python 3"
    },
    "language_info": {
      "name": "python"
    }
  },
  "cells": [
    {
      "cell_type": "markdown",
      "metadata": {
        "id": "view-in-github",
        "colab_type": "text"
      },
      "source": [
        "<a href=\"https://colab.research.google.com/github/takatakamanbou/MVA/blob/2023/ex04notebookB.ipynb\" target=\"_parent\"><img src=\"https://colab.research.google.com/assets/colab-badge.svg\" alt=\"Open In Colab\"/></a>"
      ]
    },
    {
      "cell_type": "markdown",
      "source": [
        "# MVA2023 ex04notebookB\n",
        "\n",
        "<img width=64 src=\"https://www-tlab.math.ryukoku.ac.jp/~takataka/course/MVA/MVA-logo.png\"> https://www-tlab.math.ryukoku.ac.jp/wiki/?MVA/2023"
      ],
      "metadata": {
        "id": "P4preLw7SzqH"
      }
    },
    {
      "cell_type": "markdown",
      "source": [
        "----\n",
        "## 演習課題\n",
        "\n"
      ],
      "metadata": {
        "id": "zDtnBWKha6vx"
      }
    },
    {
      "cell_type": "markdown",
      "metadata": {
        "id": "weuyu8H6bqtL"
      },
      "source": [
        "### 準備\n",
        "\n"
      ]
    },
    {
      "cell_type": "markdown",
      "source": [
        "#### import\n",
        "\n",
        "以降で必要となる `import` 文を以下のセルに書いておこう．\n"
      ],
      "metadata": {
        "id": "EiRM0QXa5z6D"
      }
    },
    {
      "cell_type": "code",
      "metadata": {
        "id": "I226xIKJbqtM"
      },
      "source": [
        "# 必要なパッケージのインポート\n",
        "import pandas as pd\n",
        "\n",
        "\n"
      ],
      "execution_count": null,
      "outputs": []
    },
    {
      "cell_type": "markdown",
      "source": [
        "#### データの入手\n",
        "\n",
        "次の二つのコードセルを実行すると，とあるCSVファイルを読み込んで 2 つの NumPy array `X` と `Y` を作ります．\n",
        "実行して結果を観察しよう．\n",
        "\n",
        "これは，ある駅周辺の様々なアパート・マンションのデータです．'x1', 'x2', 'x3' 列にはそれらの特徴を表す数値が入っており（それぞれが何を表すのかはあえて伏せています），'y'列には月額の家賃を表す数値が入っています．\n",
        "\n"
      ],
      "metadata": {
        "id": "bXPrFBHeogbD"
      }
    },
    {
      "cell_type": "code",
      "source": [
        "# データを読み込む\n",
        "df = pd.read_csv('https://www-tlab.math.ryukoku.ac.jp/~takataka/course/MVA/ex04rent.csv')\n",
        "df"
      ],
      "metadata": {
        "id": "omDHUAcmQ8Xg"
      },
      "execution_count": null,
      "outputs": []
    },
    {
      "cell_type": "code",
      "source": [
        "# x1, x2, x3 列を集めて X とする\n",
        "X = df.loc[:, ['x1', 'x2', 'x3']].to_numpy()\n",
        "# y 列を Y とする\n",
        "Y = df['y'].to_numpy()\n",
        "print(X.shape, Y.shape)"
      ],
      "metadata": {
        "id": "XA228aE0l-bf"
      },
      "execution_count": null,
      "outputs": []
    },
    {
      "cell_type": "markdown",
      "source": [
        "### 問題1\n",
        "\n",
        "'x1', 'x2', 'x3' の中から変数を選んで説明変数とし，'y' を被説明変数として，重回帰分析を行いましょう．ただし...\n",
        "\n",
        "- statsmodel を使い，説明変数1つだけ，2つ，3つのすべてのモデルを考えて，それぞれの回帰分析を行いなさい\n",
        "- notebookA を参考に，statsmodel を使ってそれぞれのモデルの結果（summary）を表示させなさい．一つのセルを書き換えて実行するのではなく，すべてのモデルの分析記録が残るように，別々のセルを作るようにしなさい．\n",
        "- 分析結果のうち，自由度調整済み決定係数の値について，↓の表が書かれたセルにメモしておきなさい．\n",
        "セルをダブルクリックしたら書き方が分かると思います．\n",
        "- 分析結果を見て，自由度調整済み決定係数の値のみを基準に最も適切なモデルを選ぶとしたらどれかを考えなさい．\n"
      ],
      "metadata": {
        "id": "P6T3k1MvSj71"
      }
    },
    {
      "cell_type": "markdown",
      "source": [
        "| 説明変数 | 自由度調整済み決定係数 |\n",
        "|--|--|\n",
        "| x1, x2, x3 | 123.456 |\n",
        "| ほげ | ふが |\n",
        "| へな | ぴよ |"
      ],
      "metadata": {
        "id": "VITQrTe68yFa"
      }
    },
    {
      "cell_type": "markdown",
      "source": [
        "元のデータから特定の変数を抜き出した配列 `XX` を作るには，次の行の `['x1', 'x2', 'x3']` を `['x1', 'x2']` 等のように書き換えて使ったらよい．"
      ],
      "metadata": {
        "id": "WT3pwaJu-vi3"
      }
    },
    {
      "cell_type": "code",
      "source": [
        "XX = df.loc[:, ['x1', 'x2', 'x3']].to_numpy()\n",
        "print(XX[:5, :]) # 最初の5行を表示"
      ],
      "metadata": {
        "id": "6q-s1DDBSjLW"
      },
      "execution_count": null,
      "outputs": []
    },
    {
      "cell_type": "code",
      "source": [],
      "metadata": {
        "id": "NH4z7y3r_ZT3"
      },
      "execution_count": null,
      "outputs": []
    },
    {
      "cell_type": "markdown",
      "source": [
        "### 問題2\n",
        "\n",
        "問題1をやると，このデータでは多重共線性の存在が疑われることがわかります．\n",
        "相関係数や散布図でそのことを確認してみましょう．"
      ],
      "metadata": {
        "id": "UhUsS5hPVGwo"
      }
    },
    {
      "cell_type": "markdown",
      "source": [
        "(1) 次のセルを実行すると，各変数の間の相関係数の値を表示します．$i$ 行 $j$ 列の値は，$i$ 番目の変数と $j$ 番目の変数との間の相関係数です．結果を確認しましょう．\n",
        "\n",
        "cf. [np.corrcoef](https://numpy.org/doc/stable/reference/generated/numpy.corrcoef.html)"
      ],
      "metadata": {
        "id": "9qEaKzwvuezI"
      }
    },
    {
      "cell_type": "code",
      "source": [
        "XX = df.loc[:, ['x1', 'x2', 'x3']].to_numpy()\n",
        "print(np.corrcoef(XX.T))"
      ],
      "metadata": {
        "id": "AwETrwAmuO9l"
      },
      "execution_count": null,
      "outputs": []
    },
    {
      "cell_type": "markdown",
      "source": [
        "(2) 'x1' と 'x2' および 'x1' と 'x3' の散布図を描きましょう．"
      ],
      "metadata": {
        "id": "rTXN09GDuw5L"
      }
    },
    {
      "cell_type": "code",
      "source": [],
      "metadata": {
        "id": "g0QmaQH7uwAx"
      },
      "execution_count": null,
      "outputs": []
    },
    {
      "cell_type": "markdown",
      "source": [
        "(3) (1), (2) の結果を考察しましょう．"
      ],
      "metadata": {
        "id": "gIFlAnHcBKk_"
      }
    }
  ]
}