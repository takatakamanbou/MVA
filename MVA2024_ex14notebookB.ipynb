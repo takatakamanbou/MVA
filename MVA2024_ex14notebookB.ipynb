{
  "nbformat": 4,
  "nbformat_minor": 0,
  "metadata": {
    "colab": {
      "provenance": [],
      "toc_visible": true,
      "authorship_tag": "ABX9TyNDXnV5CodQc9pqS2YvUBi1",
      "include_colab_link": true
    },
    "kernelspec": {
      "name": "python3",
      "display_name": "Python 3"
    },
    "language_info": {
      "name": "python"
    }
  },
  "cells": [
    {
      "cell_type": "markdown",
      "metadata": {
        "id": "view-in-github",
        "colab_type": "text"
      },
      "source": [
        "<a href=\"https://colab.research.google.com/github/takatakamanbou/MVA/blob/main/MVA2024_ex14notebookB.ipynb\" target=\"_parent\"><img src=\"https://colab.research.google.com/assets/colab-badge.svg\" alt=\"Open In Colab\"/></a>"
      ]
    },
    {
      "cell_type": "markdown",
      "source": [
        "# MVA2024 ex14notebookB\n",
        "\n",
        "<img width=64 src=\"https://www-tlab.math.ryukoku.ac.jp/~takataka/course/MVA/MVA-logo.png\"> https://www-tlab.math.ryukoku.ac.jp/wiki/?MVA/2024"
      ],
      "metadata": {
        "id": "P4preLw7SzqH"
      }
    },
    {
      "cell_type": "markdown",
      "source": [
        "---\n",
        "## 演習課題: アイスクリーム購入額データの時系列解析\n",
        "---\n",
        "\n"
      ],
      "metadata": {
        "id": "Snu_5I6aGJS8"
      }
    },
    {
      "cell_type": "code",
      "source": [
        "# いつものいろいろインポート\n",
        "import numpy as np\n",
        "import matplotlib.pyplot as plt\n",
        "import pandas as pd\n",
        "import seaborn\n",
        "seaborn.set_theme()\n",
        "\n",
        "# statsmodels いろいろ\n",
        "from statsmodels import tsa\n",
        "from statsmodels.graphics import tsaplots\n",
        "from statsmodels.tsa import ar_model\n",
        "from statsmodels.tsa.arima.model import ARIMA"
      ],
      "metadata": {
        "id": "9HCsHgFjR6jo"
      },
      "execution_count": null,
      "outputs": []
    },
    {
      "cell_type": "markdown",
      "source": [
        "---\n",
        "### データの準備\n"
      ],
      "metadata": {
        "id": "qwpB_UvyYdkn"
      }
    },
    {
      "cell_type": "markdown",
      "source": [
        "#### データ5: 世帯あたりアイスクリーム・シャーベット購入額\n",
        "\n"
      ],
      "metadata": {
        "id": "xdgX_p0sLj83"
      }
    },
    {
      "cell_type": "markdown",
      "source": [
        "政府統計の総合窓口 e-Stat ( https://www.e-stat.go.jp/ )から入手した，2人以上世帯のアイスクリーム・シャーベットへの支出金額のデータです．2000年1月から2022年10月までの毎月の金額[円]の値から成る時系列です．\n",
        "\n",
        "このデータは，以下の書籍とウェブページの情報を参考にして作成しました．\n",
        "\n",
        "- 「時系列解析 ―自己回帰型モデル・状態空間モデル・異常検知―」島田直希，共立出版，2019， https://www.kyoritsu-pub.co.jp/book/b10003204.html\n",
        "- 「アイスクリームの売れ方」奥村晴彦 https://oku.edu.mie-u.ac.jp/~okumura/stat/160118.html"
      ],
      "metadata": {
        "id": "wznUWdgUDQGf"
      }
    },
    {
      "cell_type": "code",
      "source": [
        "# 2000年1月から2022年10月までの毎月のアイスクリーム・シャーベットへの支出金額（世帯あたり）[円]\n",
        "URL = 'https://www-tlab.math.ryukoku.ac.jp/~takataka/course/MVA/icecream2.csv'\n",
        "dfIce2 = pd.read_csv(URL, index_col=0)\n",
        "assert dfIce2.index[0] == '2000-01-01' and dfIce2.index[-1] == '2022-10-01'\n",
        "dfIce2.index = pd.date_range('2000-01', end='2022-10', freq='MS')\n",
        "dfIce2"
      ],
      "metadata": {
        "id": "2a7HEcP7MAPw"
      },
      "execution_count": null,
      "outputs": []
    },
    {
      "cell_type": "markdown",
      "source": [
        "各行に月始の日付が入っていますが，これはデータ作成の都合でそうなっているだけです．各行の値はその月の金額です．"
      ],
      "metadata": {
        "id": "oI8zRUrbEu02"
      }
    },
    {
      "cell_type": "code",
      "source": [
        "X_ice = dfIce2['356 アイスクリーム・シャーベット【円】']\n",
        "fig, ax = plt.subplots(2, 1, figsize=(8, 6))\n",
        "# 全データをプロット\n",
        "ax[0].plot(X_ice, '-o', markersize=3)\n",
        "ax[0].axhline(0, color='gray')\n",
        "# 3年分だけプロット\n",
        "ax[1].plot(X_ice[:'2002'], '-o')\n",
        "ax[1].axhline(0, color='gray')\n",
        "plt.tight_layout()\n",
        "plt.show()"
      ],
      "metadata": {
        "id": "-HJEb9_vNcCI"
      },
      "execution_count": null,
      "outputs": []
    },
    {
      "cell_type": "markdown",
      "source": [
        "---\n",
        "### 問題1\n",
        "\n",
        "データ5を見ると，明らかに周期的な変動があります．その周期を調べましょう．\n",
        "\n",
        "次のセルを実行すると，データ5の時系列の自己相関 $\\textrm{Corr}[x_t, x_{t-k}]$ を求めてプロットすることができる．横軸はラグ $k$ を表す．この図を読解して，この時系列の主な季節変動成分の周期は何ヶ月といえるか答えなさい．\n"
      ],
      "metadata": {
        "id": "d5ZvYXN3L0aN"
      }
    },
    {
      "cell_type": "code",
      "source": [
        "fig, ax = plt.subplots(figsize=(8, 4))\n",
        "tsaplots.plot_acf(X_ice, ax=ax)\n",
        "ax.set_ylim(-1.1, 1.1)\n",
        "plt.tight_layout()\n",
        "plt.show()"
      ],
      "metadata": {
        "id": "kT4ZWFi-MNoC"
      },
      "execution_count": null,
      "outputs": []
    },
    {
      "cell_type": "markdown",
      "source": [
        "---\n",
        "### 問題2\n",
        "\n",
        "次の2つのコードセルを実行すると，データ5の時系列にARモデルを当てはめる実験が行える．\n",
        "ARモデルの次数を $6, 9, 12, 24$ 等と変えて実行し，結果を観察しなさい．\n",
        "コードセルの下の［補足］も参考にしてね．\n",
        "\n"
      ],
      "metadata": {
        "id": "PHETwLNXTXKi"
      }
    },
    {
      "cell_type": "code",
      "source": [
        "X_train = X_ice[:'2014-12'] # モデルパラメータの推定に使うデータ\n",
        "X_test  = X_ice['2015-01':] # 予測の検証用に使うデータ\n",
        "\n",
        "K = 2 # ARモデルの次数\n",
        "\n",
        "# X_train を使ってモデルパラメータを推定\n",
        "model = ar_model.AutoReg(X_train, K, old_names=False)\n",
        "result = model.fit()\n",
        "print(result.summary())"
      ],
      "metadata": {
        "id": "EQ0B50luTast"
      },
      "execution_count": null,
      "outputs": []
    },
    {
      "cell_type": "code",
      "source": [
        "# 得られたモデルを使って予測\n",
        "X_predicted = result.predict(end='2023-12')\n",
        "\n",
        "# 結果をプロット\n",
        "fig, ax = plt.subplots(2, 1, figsize=(8, 8))\n",
        "XX_predicted = X_predicted[:'2014-12']\n",
        "ax[0].plot(X_train, '-o', label='true', markersize=3)\n",
        "ax[0].plot(XX_predicted, '-o', color='red', label=f'predicted (K={K})', markersize=3)\n",
        "ax[0].axhline(0, color='gray')\n",
        "ax[0].set_ylim(top=2000)\n",
        "ax[0].legend()\n",
        "XX_predicted = X_predicted['2015-01':]\n",
        "resid = X_test - XX_predicted\n",
        "ax[1].plot(X_test, '-o', label='true', markersize=3)\n",
        "ax[1].plot(XX_predicted, '-o', color='red', label=f'predicted (K={K})', markersize=3)\n",
        "ax[1].axhline(0, color='gray')\n",
        "ax[1].set_ylim(top=2000)\n",
        "ax[1].legend()\n",
        "plt.tight_layout()\n",
        "plt.show()"
      ],
      "metadata": {
        "id": "5DE3QstPczax"
      },
      "execution_count": null,
      "outputs": []
    },
    {
      "cell_type": "markdown",
      "source": [
        "［補足］\n",
        "\n",
        "`AutoReg Model Results` の `Log Likelihood` は，モデルの対数尤度の値を示します．この実験では，この対数尤度を最大化するようモデルパラメータを決めているので，この値が大きい方がデータへの当てはまりがよいと言えます．上段のグラフは，モデルパラメータの推定に用いたデータ（ `true` とラベルがついているもの， `X_train`）と，それに対するモデルの予測値（`predicted`，過去 $K$ 時点のデータの値から次の時点の値を予測したもの）を描いたものです．下段のグラフは，2014-12 までの値だけから 2015-01 以降の値を予測したものです．`true` とラベルがついているのがその時期の真の値（`X_test`）です．\n"
      ],
      "metadata": {
        "id": "OFqVHD0JXmsM"
      }
    },
    {
      "cell_type": "markdown",
      "source": [
        "ARモデルの次数を $6, 9, 12, 24$ 等と変えて実行し，結果を観察しなさい．また，次のことを考えなさい．\n",
        "\n",
        "- モデル次数を変えると当てはまりの良さはどう変わるだろうか？\n",
        "- モデル次数を変えると予測の正しさはどう変わるだろうか？\n"
      ],
      "metadata": {
        "id": "i6NzoWcb4Szu"
      }
    },
    {
      "cell_type": "markdown",
      "source": [
        "---\n",
        "### 問題3\n",
        "\n",
        "次の2つのコードセルを実行すると，データ5の時系列に SARIMA という時系列モデルを当てはめることができる（解説は後述）．1行目をコメントに従って修正して実行すると，AR(12) モデルに切り替えることもできる．両者の結果を比較しなさい．"
      ],
      "metadata": {
        "id": "ZlqwynQZdBNX"
      }
    },
    {
      "cell_type": "code",
      "source": [
        "isSARIMA = True  # SARIMA モデルを使う (True) / AR(12) を使う (False) か\n",
        "\n",
        "X_train = X_ice[:'2014-12']\n",
        "X_test  = X_ice['2015-01':]\n",
        "\n",
        "if isSARIMA:\n",
        "    order = (3, 2, 1)\n",
        "    sorder = (1, 1, 0, 12)\n",
        "else:\n",
        "    order = (12, 0, 0)\n",
        "    sorder = (0, 0, 0, 0)\n",
        "\n",
        "# X_train を使ってモデルパラメータを推定\n",
        "model = ARIMA(X_train, order=order, seasonal_order=sorder)\n",
        "result = model.fit()\n",
        "print(result.summary())"
      ],
      "metadata": {
        "id": "QX1wwMxLdmxX"
      },
      "execution_count": null,
      "outputs": []
    },
    {
      "cell_type": "code",
      "source": [
        "# 得られたモデルを使って予測\n",
        "X_predicted = result.predict(end='2023-12')\n",
        "\n",
        "# 結果をプロット\n",
        "if isSARIMA:\n",
        "    s = 'predicted (SARIMA)'\n",
        "else:\n",
        "    s = 'predicted (AR(12))'\n",
        "fig, ax = plt.subplots(2, 1, figsize=(8, 8))\n",
        "XX_predicted = X_predicted[:'2014-12']\n",
        "ax[0].plot(X_train, '-o', label='true', markersize=3)\n",
        "ax[0].plot(XX_predicted, '-o', color='red', label=s, markersize=3)\n",
        "ax[0].axhline(0, color='gray')\n",
        "ax[0].set_ylim(top=2000)\n",
        "ax[0].legend()\n",
        "XX_predicted = X_predicted['2015-01':]\n",
        "resid = X_test - XX_predicted\n",
        "ax[1].plot(X_test, '-o', label='true', markersize=3)\n",
        "ax[1].plot(XX_predicted, '-o', color='red', label=s, markersize=3)\n",
        "ax[1].axhline(0, color='gray')\n",
        "ax[1].set_ylim(top=2000)\n",
        "ax[1].legend()\n",
        "plt.tight_layout()\n",
        "plt.show()"
      ],
      "metadata": {
        "id": "nDHU_3NwfQv7"
      },
      "execution_count": null,
      "outputs": []
    },
    {
      "cell_type": "markdown",
      "source": [
        "SARIMA がどのようなものかの真面目な説明はしませんが，ざっくりいうとこんな感じです．\n",
        "\n",
        "1. AR と移動平均 (Moving Average, MA) モデルというもうひとつのモデルを組み合わせた，ARMA というモデルがある\n",
        "1. ARMA を発展させた ARIMA というモデルがある\n",
        "1. ARIMA に季節変動 (Seasonal Variation) を取り入れたものが SARIMA\n",
        "\n",
        "AR モデルは定常性を仮定したモデルでしたが，SARIMAは平均の変動や季節変動なども考慮したものとなっています．この実験の条件では，SARIMA の方がデータの当てはまりや予測精度が良い結果が得られます．\n",
        "\n"
      ],
      "metadata": {
        "id": "ZP20tBrfhy2G"
      }
    }
  ]
}