{
  "nbformat": 4,
  "nbformat_minor": 0,
  "metadata": {
    "colab": {
      "provenance": [],
      "toc_visible": true,
      "authorship_tag": "ABX9TyNMmVbPMmlNiDP9nIQsCFEZ",
      "include_colab_link": true
    },
    "kernelspec": {
      "name": "python3",
      "display_name": "Python 3"
    },
    "language_info": {
      "name": "python"
    }
  },
  "cells": [
    {
      "cell_type": "markdown",
      "metadata": {
        "id": "view-in-github",
        "colab_type": "text"
      },
      "source": [
        "<a href=\"https://colab.research.google.com/github/takatakamanbou/MVA/blob/2023/ex05notebookB.ipynb\" target=\"_parent\"><img src=\"https://colab.research.google.com/assets/colab-badge.svg\" alt=\"Open In Colab\"/></a>"
      ]
    },
    {
      "cell_type": "markdown",
      "source": [
        "# MVA2023 ex05notebookB\n",
        "\n",
        "<img width=64 src=\"https://www-tlab.math.ryukoku.ac.jp/~takataka/course/MVA/MVA-logo.png\"> https://www-tlab.math.ryukoku.ac.jp/wiki/?MVA/2023"
      ],
      "metadata": {
        "id": "P4preLw7SzqH"
      }
    },
    {
      "cell_type": "code",
      "metadata": {
        "id": "I226xIKJbqtM"
      },
      "source": [
        "# 必要なパッケージのインポート\n",
        "import numpy as np\n",
        "import pandas as pd"
      ],
      "execution_count": null,
      "outputs": []
    },
    {
      "cell_type": "markdown",
      "source": [
        "----\n",
        "## Python + NumPy で主成分分析をやってみよう\n",
        "\n"
      ],
      "metadata": {
        "id": "zDtnBWKha6vx"
      }
    },
    {
      "cell_type": "markdown",
      "source": [
        "自分で主成分分析を実行する際には，notebookA でも使っているような統計分析ツールを使うこともできますが，線形代数の授業で学んだことを活かすために，Python + NumPy で計算するコードを書いてみましょう．\n",
        "以下は，そのための練習です．"
      ],
      "metadata": {
        "id": "Ar-fL0up8Ypd"
      }
    },
    {
      "cell_type": "markdown",
      "source": [
        "---\n",
        "### 固有値・固有ベクトルの計算と対称行列の対角化"
      ],
      "metadata": {
        "id": "Nh5eurDr7scO"
      }
    },
    {
      "cell_type": "markdown",
      "source": [
        "notebookA で説明しているように，主成分分析のためには，与えられたデータの分散共分散行列を計算し，その固有値と固有ベクトルを求めることになります．まずは，行列の固有値・固有ベクトルを求める手順を考えます．"
      ],
      "metadata": {
        "id": "m-gduVzb9nM8"
      }
    },
    {
      "cell_type": "markdown",
      "source": [
        "分散共分散行列は **対称行列** ですので，固有値はすべて実数，固有ベクトルの要素もすべて実数となります．対称行列は，固有値・固有ベクトルを使って以下のように **対角化** できるのでした．"
      ],
      "metadata": {
        "id": "PtUl__ey-RUT"
      }
    },
    {
      "cell_type": "markdown",
      "source": [
        "---\n",
        "［実対称行列の対角化］\n",
        "\n",
        "$D\\times D$ 行列 $A$ が対称行列である，つまり，$A^{\\top} = A$ が成り立つとする．このとき，その固有値 $\\lambda_{1}, \\lambda_{2}, \\ldots, \\lambda_{D}$ はすべて実数である．\n",
        "また，$\\lambda_{d}$ に対応する単位固有ベクトル（大きさ $1$ の固有ベクトル）を $\\mathbf{u}_{d}$ と表す（$d=1,2,\\ldots, D$）とき，これらは互いに直交するように，つまり，\n",
        "\n",
        "$$\n",
        "\\mathbf{u}_{i}\\cdot\\mathbf{u}_{j} = \\left\\{\n",
        "    \\begin{aligned}\n",
        "    1 \\quad & (i = j)\\\\\n",
        "    0 \\quad & (i \\ne j)\n",
        "    \\end{aligned}\n",
        "\\right. \\qquad (D1)\n",
        "$$\n",
        "\n",
        "となるようにとることができる（$i, j = 1, 2, \\ldots, D$）．\n",
        "\n",
        "このとき，固有値固有ベクトルの定義から $A\\mathbf{u}_{d} = \\lambda_{d}\\mathbf{u}_{d}$ なので，\n",
        "\n",
        "$$\n",
        "A \\left(\\mathbf{u}_{1}\\ \\mathbf{u}_{2}\\ \\cdots \\mathbf{u}_{D} \\right) = \\left(\\lambda_{1}\\mathbf{u}_{1}\\ \\lambda_{2}\\mathbf{u}_{2}\\ \\cdots \\lambda_{D}\\mathbf{u}_{D} \\right) = \\left(\\mathbf{u}_{1}\\ \\mathbf{u}_{2}\\ \\cdots \\mathbf{u}_{D} \\right)\n",
        "\\begin{pmatrix}\n",
        "\\lambda_{1} & & &\\\\\n",
        " & \\lambda_{2} & &  \\\\\n",
        "& &\\ddots & \\\\\n",
        "& & & \\lambda_{D} \\\\\n",
        "\\end{pmatrix}\n",
        "\\qquad (D2)\n",
        "$$\n",
        "\n",
        "となる．$\\mathbf{u}_{d}$ を列ベクトル（$D\\times 1$行列）として，$D\\times D$ 行列 $U$ を $U = \\left(\\mathbf{u}_{1}\\ \\mathbf{u}_{2}\\ \\cdots \\mathbf{u}_{D} \\right)$ とおくと，式($D1$)より，\n",
        "\n",
        "$$\n",
        "U^{\\top}U =\n",
        "\\begin{pmatrix}\n",
        "\\mathbf{u}_{1}^{\\top} \\\\ \\mathbf{u}_{2}^{\\top} \\\\ \\vdots \\\\ \\mathbf{u}_{D}^{\\top}\n",
        "\\end{pmatrix}\n",
        "\\left(\\mathbf{u}_{1}\\ \\mathbf{u}_{2}\\ \\cdots \\mathbf{u}_{D} \\right)\n",
        "=\n",
        "\\begin{pmatrix}\n",
        "\\mathbf{u}_{1}^{\\top}\\mathbf{u}_{1} & \\mathbf{u}_{1}^{\\top}\\mathbf{u}_{2} & \\cdots & \\mathbf{u}_{1}^{\\top}\\mathbf{u}_{D}\\\\\n",
        "\\mathbf{u}_{2}^{\\top}\\mathbf{u}_{1} & \\mathbf{u}_{2}^{\\top}\\mathbf{u}_{2} & \\cdots & \\mathbf{u}_{2}^{\\top}\\mathbf{u}_{D} \\\\\n",
        "\\vdots  & \\vdots & \\vdots & \\vdots \\\\\n",
        "\\mathbf{u}_{D}^{\\top}\\mathbf{u}_{1} & \\mathbf{u}_{D}^{\\top}\\mathbf{u}_{2} & \\cdots & \\mathbf{u}_{D}^{\\top}\\mathbf{u}_{D} \\\\\n",
        "\\end{pmatrix}\n",
        "=\n",
        "\\begin{pmatrix}\n",
        "1 & & &\\\\\n",
        " & 1 & &\\\\\n",
        "& & \\ddots &\\\\\n",
        " & & & 1\n",
        "\\end{pmatrix}\n",
        "= I\n",
        "$$\n",
        "\n",
        "となるので，式$(D2)$に左から $U^{\\top}$ をかけて，\n",
        "\n",
        "$$\n",
        "U^{\\top}AU = U^{\\top}U\n",
        "\\begin{pmatrix}\n",
        "\\lambda_{1} & & &\\\\\n",
        " & \\lambda_{2} & &  \\\\\n",
        "& &\\ddots & \\\\\n",
        "& & & \\lambda_{D} \\\\\n",
        "\\end{pmatrix}\n",
        "=\n",
        "\\begin{pmatrix}\n",
        "\\lambda_{1} & & &\\\\\n",
        " & \\lambda_{2} & &  \\\\\n",
        "& &\\ddots & \\\\\n",
        "& & & \\lambda_{D} \\\\\n",
        "\\end{pmatrix}\n",
        "$$\n",
        "\n",
        "が得られる．つまり，実対称行列 $A$ の固有ベクトルをならべた行列を $U$ とするとき，$A$ の左から $U^{\\top}$，右から $U$ を掛けると，対角要素に固有値が並んだ対角行列となる．\n",
        "\n",
        "---"
      ],
      "metadata": {
        "id": "tHMpwO_RuoAr"
      }
    },
    {
      "cell_type": "markdown",
      "source": [
        "これをふまえて，適当に作った対称行列の固有値・固有ベクトルを求めて，本当に対角化できることを計算で確かめてみましょう．"
      ],
      "metadata": {
        "id": "z1vdngqR-x4C"
      }
    },
    {
      "cell_type": "code",
      "source": [
        "# 3x3 対称行列\n",
        "A = np.array([[5, 3, -1], [3, 4, 1], [-1, 1, 2]])\n",
        "print('A = ')\n",
        "print(A, A.shape)"
      ],
      "metadata": {
        "colab": {
          "base_uri": "https://localhost:8080/"
        },
        "id": "7fYX3g3A7y4C",
        "outputId": "07b4f558-e62d-442d-ebd8-8e4952dc708d"
      },
      "execution_count": null,
      "outputs": [
        {
          "output_type": "stream",
          "name": "stdout",
          "text": [
            "A = \n",
            "[[ 5  3 -1]\n",
            " [ 3  4  1]\n",
            " [-1  1  2]] (3, 3)\n"
          ]
        }
      ]
    },
    {
      "cell_type": "markdown",
      "source": [
        "次のセルを実行すると，`A` の固有値・固有ベクトルを求めて表示します．\n",
        "ここでは，NumPy で「特異値分解」を行う `np.linalg.svd` という関数を使っています（注）．\n",
        "\n",
        "\n",
        "<span style=\"font-size: 75%\">\n",
        "※注: <a href=\"https://numpy.org/doc/stable/reference/generated/numpy.linalg.svd.html\">np.linalg.svd</a>．<a href=\"https://numpy.org/doc/stable/reference/generated/numpy.linalg.eig.html\">np.linalg.eig</a> という関数もありますが，そちらは固有値が順番に並ばないのでここでは使っていません．\n",
        "ちなみに，固有値・固有ベクトルを使った対角化（固有値分解）は正方行列にしか適用できませんが，「特異値分解」は行数と列数が等しくない行列でも対角化もどきの分解ができます．\n",
        "</span>\n"
      ],
      "metadata": {
        "id": "qqQ1vnSTAjco"
      }
    },
    {
      "cell_type": "code",
      "source": [
        "## 特異値分解経由で A の固有値・固有ベクトルを求める\n",
        "#\n",
        "# np.linalg.svd は「特異値分解」を行う関数．\n",
        "#    引数にわたす行列 A が実対称行列の場合，固有値分解と等価な結果が得られる\n",
        "#    固有値（特異値）は降順に並ぶ\n",
        "U, eval, Vt = np.linalg.svd(A)\n",
        "print('U = ')\n",
        "print(U, U.shape)\n",
        "print('eval = ')\n",
        "print(eval, eval.shape)\n",
        "print()\n",
        "for d in range(len(eval)): # 固有ベクトルは列ベクトルとして U に格納されてる\n",
        "    print(f'固有値 {eval[d]:.2f} に対応する固有ベクトルは {U[:, d]}')\n",
        "print()\n",
        "print('U.T @ U = ')\n",
        "print(U.T @ U)"
      ],
      "metadata": {
        "colab": {
          "base_uri": "https://localhost:8080/"
        },
        "id": "4uluTGt86ElW",
        "outputId": "37958af6-8fbd-4f32-ae9d-c9ab577d8a48"
      },
      "execution_count": null,
      "outputs": [
        {
          "output_type": "stream",
          "name": "stdout",
          "text": [
            "U = \n",
            "[[-0.76616506  0.39622091  0.50596451]\n",
            " [-0.64225506 -0.49947383 -0.58140721]\n",
            " [ 0.02235033 -0.77041215  0.63715428]] (3, 3)\n",
            "eval = \n",
            "[7.54398901 3.16261761 0.29339338] (3,)\n",
            "\n",
            "固有値 7.54 に対応する固有ベクトルは [-0.76616506 -0.64225506  0.02235033]\n",
            "固有値 3.16 に対応する固有ベクトルは [ 0.39622091 -0.49947383 -0.77041215]\n",
            "固有値 0.29 に対応する固有ベクトルは [ 0.50596451 -0.58140721  0.63715428]\n",
            "\n",
            "U.T @ U = \n",
            "[[ 1.00000000e+00 -1.47573743e-17  1.59833098e-16]\n",
            " [-1.47573743e-17  1.00000000e+00  5.46176122e-17]\n",
            " [ 1.59833098e-16  5.46176122e-17  1.00000000e+00]]\n"
          ]
        }
      ]
    },
    {
      "cell_type": "markdown",
      "source": [
        "`eval` の中に3つの固有値が降順に格納されています．`U` の方には，固有ベクトルが「列ベクトルとして」格納されています．つまり，1列が一つの固有ベクトルです（「1行」ではないことに注意）．したがって，`eval[d]` が `A` の（0から数えて）`d`番目に大きな固有値，`U[:, d]` がそれに対応する固有ベクトルです．\n",
        "\n",
        "`U.T @ U` のところは，$U^{\\top}U = I$ となっていることを確認しています．\n"
      ],
      "metadata": {
        "id": "FAIxDfriB5Dc"
      }
    },
    {
      "cell_type": "markdown",
      "source": [
        "#### 問題1\n",
        "\n",
        "(1) 上記を読んで理解しましょう．\n",
        "\n",
        "(2) `U.T @ U` を計算すると単位行列になっていることを自分の目で確かめましょう．\n",
        "\n",
        "(3) 次のセルに，次の2つのものを計算して print するコードを書いて，↑で説明されていることが成り立っているかどうか確かめましょう．\n",
        "\n",
        "1. $U^{\\top}AU$\n",
        "1. $U L U^{\\top}$．↑では説明を省略しましたが，これは $A$ に等しくなります．ただし，$L = \\textrm{diag}(\\lambda_1, \\lambda_2, \\ldots, \\lambda_D)$ は，対角に固有値を並べた対角行列を表します．次のようにすれば計算できます：\n",
        "`L = np.diag(eval)`"
      ],
      "metadata": {
        "id": "gXEY1V1LG-aG"
      }
    },
    {
      "cell_type": "code",
      "source": [
        "\n"
      ],
      "metadata": {
        "colab": {
          "base_uri": "https://localhost:8080/"
        },
        "id": "Azn7MXdcjWk4",
        "outputId": "1eda2eca-510a-4a50-ddb2-285c06748d36"
      },
      "execution_count": null,
      "outputs": [
        {
          "output_type": "stream",
          "name": "stdout",
          "text": [
            "[[ 7.54398901e+00 -9.74032462e-16  3.94778720e-16]\n",
            " [-6.13445854e-16  3.16261761e+00  8.55885118e-17]\n",
            " [ 5.67093842e-16 -5.24438451e-17  2.93393378e-01]]\n",
            "[[ 5.  3. -1.]\n",
            " [ 3.  4.  1.]\n",
            " [-1.  1.  2.]]\n"
          ]
        }
      ]
    },
    {
      "cell_type": "markdown",
      "metadata": {
        "id": "weuyu8H6bqtL"
      },
      "source": [
        "---\n",
        "### 行列・ベクトルの扱いに関する注意\n",
        "\n"
      ]
    },
    {
      "cell_type": "markdown",
      "source": [
        "notebookA の説明では，$D$ 次元のデータを $H$ 次元にする線形変換を説明する際に，$\\mathbf{x}$ と $\\mathbf{y}$ は列ベクトルとして扱っており，$\\mathbf{x}$ は $D\\times 1$，$\\mathbf{y}$ は $H\\times 1$ の行列として\n",
        "\n",
        "$$\n",
        "\\mathbf{y} = U^{\\top} \\mathbf{x} \\qquad (M1)\n",
        "$$\n",
        "\n",
        "という変換を考えていました．行列 $U$ は $D\\times H$ です．\n",
        "\n",
        "線形代数の教科書等では，このように，$D$ 次元のベクトルを「列ベクトル」（$D\\times 1$行列）として扱うのが標準的です．そのため，notebookA の説明もそちらで書きました．\n",
        "\n",
        "しかし，多変量データをコンピュータで扱う際には，$D$ 次元のベクトルを「行ベクトル」（$1\\times D$行列）として，行列の1行が1つのデータを表すように数値を並べることがよくあります（理由は，文字の入出力の際に，1行目を左から右へ向かって書く → 2行目で同様 → ...と進むので，1列ではなく1行がひとかたまりの方が便利ってところでしょうか）．例えば，$N$個の$D$次元ベクトル $\\mathbf{x}_1, \\mathbf{x}_2, \\ldots, \\mathbf{x}_N$ をそれぞれ $1\\times D$ 行列として，それを行方向にならべると，次のような $N\\times D$ 行列が得られます．\n",
        "\n",
        "$$\n",
        "X =\n",
        "\\begin{pmatrix}\n",
        "\\mathbf{x}_1\\\\ \\mathbf{x}_2 \\\\ \\vdots \\\\ \\mathbf{x}_N\n",
        "\\end{pmatrix}\n",
        "=\n",
        "\\begin{pmatrix}\n",
        "x_{1, 1} & x_{1, 2} & \\cdots & x_{1, D}\\\\\n",
        "x_{2, 1} & x_{2, 2} & \\cdots & x_{2, D}\\\\\n",
        "\\vdots & \\vdots & & \\vdots \\\\\n",
        "x_{N, 1} & x_{N, 2} & \\cdots & x_{N, D}\\\\\n",
        "\\end{pmatrix} \\qquad (M2)\n",
        "$$\n",
        "\n",
        "重回帰分析の項でも実際にこのように数値を並べた配列を扱ってきました．\n",
        "\n",
        "このように1つのデータを行ベクトルとして扱う場合には，式$(M1)$の代わりに，$\\mathbf{x}, \\mathbf{y}$ をそれぞれ $1\\times D$，$1\\times H$ の行列として，次の式を用いることになります．\n",
        "\n",
        "$$\n",
        "\\mathbf{y} = \\mathbf{x} U \\qquad (M3)\n",
        "$$\n",
        "\n",
        "この場合，行列 $X$ に対して\n",
        "\n",
        "$$\n",
        "Y = X U \\qquad (M4)\n",
        "$$\n",
        "\n",
        "とすると，$Y$ は $N \\times H$ 行列となり，その各行は，$X$ の同じ行のデータを $H$ 次元に変換したものとなります．"
      ],
      "metadata": {
        "id": "FpokgnH-3vsV"
      }
    },
    {
      "cell_type": "markdown",
      "source": [
        "#### 問題2"
      ],
      "metadata": {
        "id": "H7rJDHlAG3Se"
      }
    },
    {
      "cell_type": "markdown",
      "source": [
        "主成分分析の計算過程を一度に理解するのは大変です．段階を追って少しずつできるようになっていきましょう．まずは，データから分散共分散行列を求めたりその固有ベクトルを求めたりするのは後回しにして，問題1の方で求めた `A` の固有ベクトルを使って式$(M4)$の計算をやってみましょう．"
      ],
      "metadata": {
        "id": "61u35vUaHqTk"
      }
    },
    {
      "cell_type": "code",
      "source": [
        "X = np.array([[1, 1, 1], [1, 0, -1], [0, 2, 2], [-2, -2, -2]])\n",
        "print('X = ')\n",
        "print(X, X.shape)"
      ],
      "metadata": {
        "colab": {
          "base_uri": "https://localhost:8080/"
        },
        "id": "VCG-I4OAH8lE",
        "outputId": "1c714286-9109-497b-e10e-bcac6aada85d"
      },
      "execution_count": null,
      "outputs": [
        {
          "output_type": "stream",
          "name": "stdout",
          "text": [
            "X = \n",
            "[[ 1  1  1]\n",
            " [ 1  0 -1]\n",
            " [ 0  2  2]\n",
            " [-2 -2 -2]] (4, 3)\n"
          ]
        }
      ]
    },
    {
      "cell_type": "markdown",
      "source": [
        "(1) `X` が上の説明の行列 $X$ を表していると考えると，$N, D$ はそれぞれいくつか答えなさい．"
      ],
      "metadata": {
        "id": "xTnJ5qbIItNn"
      }
    },
    {
      "cell_type": "markdown",
      "source": [
        "(2) 問題1で求めた `U` には，3つの固有ベクトルが列ベクトルとして格納されています．また，対応する固有値が大きい固有ベクトルほど列の番号が小さい方に格納されています．このとき，変数 `U2` が，固有値の大きい方の2つの固有ベクトルをならべた $3\\times 2$ の行列を表すようにするには，次のどの式を用いればよいでしょうか．\n",
        "\n",
        "`U2 = U[:2, :]`\n",
        "\n",
        "`U2 = U[1:, :]`\n",
        "\n",
        "`U2 = U[:, :2]`\n",
        "\n",
        "`U2 = U[:, 1:]`\n",
        "\n",
        "次のセルに正しい式を書き，`U2.shape` も print させるようにしなさい．\n",
        "\n"
      ],
      "metadata": {
        "id": "7ieBxqjtI6uE"
      }
    },
    {
      "cell_type": "code",
      "source": [
        "\n"
      ],
      "metadata": {
        "colab": {
          "base_uri": "https://localhost:8080/"
        },
        "id": "0KrvbWvrIXqv",
        "outputId": "f4185e69-01c4-4a97-f1fa-eca32853d04b"
      },
      "execution_count": null,
      "outputs": [
        {
          "output_type": "stream",
          "name": "stdout",
          "text": [
            "[[-0.76616506  0.39622091]\n",
            " [-0.64225506 -0.49947383]\n",
            " [ 0.02235033 -0.77041215]] (3, 2)\n"
          ]
        }
      ]
    },
    {
      "cell_type": "markdown",
      "source": [
        "(3) 次のセルの1行目を修正して，`Y` が式$(M4)$で表されるものになるようにしなさい．\n",
        "次のようになるはずです．\n",
        "\n",
        "```\n",
        "Y =\n",
        "[[-1.38606979 -0.87366507]\n",
        " [-0.7885154   1.16663307]\n",
        " [-1.23980944 -2.53977196]\n",
        " [ 2.77213957  1.74733013]] (4, 2)\n",
        " ```"
      ],
      "metadata": {
        "id": "I0M9BaxiKa2o"
      }
    },
    {
      "cell_type": "code",
      "source": [
        "Y = X @ U2\n",
        "print('Y = ')\n",
        "print(Y, Y.shape)"
      ],
      "metadata": {
        "colab": {
          "base_uri": "https://localhost:8080/"
        },
        "id": "OCS9Oe6qJpoC",
        "outputId": "61c29f05-03da-4f28-f867-4bb4b1bd01ff"
      },
      "execution_count": null,
      "outputs": [
        {
          "output_type": "stream",
          "name": "stdout",
          "text": [
            "Y = \n",
            "[[-1.38606979 -0.87366507]\n",
            " [-0.7885154   1.16663307]\n",
            " [-1.23980944 -2.53977196]\n",
            " [ 2.77213957  1.74733013]] (4, 2)\n"
          ]
        }
      ]
    },
    {
      "cell_type": "markdown",
      "source": [
        "### データの平均を0にする，分散共分散行列を求める"
      ],
      "metadata": {
        "id": "YoH3upkCLvjs"
      }
    },
    {
      "cell_type": "markdown",
      "source": [
        "データから分散共分散行列を求める過程を考えましょう．\n",
        "\n",
        "上で説明してきたデータに対して，分散共分散行列 $V$は，その $(i,j)$ 要素 $V_{i,j}$ が\n",
        "\n",
        "$$\n",
        "V_{i,j} = \\frac{1}{N}\\sum_{n=1}^{N}(x_{n,i}-\\bar{x}_{i})(x_{n,j}-\\bar{x}_{j})  \\qquad (i, j = 1, 2, \\ldots, D)\n",
        "$$\n",
        "\n",
        "となるような $D\\times D$ 行列です．$\\frac{1}{N}\\sum_{n=1}^{N}\\mathbf{x}_{n} = \\mathbf{0}$ である，つまりデータの平均が $\\mathbf{0}$ である場合には，\n",
        "\n",
        "$$\n",
        "V_{i,j} = \\frac{1}{N}\\sum_{n=1}^{N}x_{n,i}x_{n,j}  \\qquad (i, j = 1, 2, \\ldots, D)\n",
        "$$\n",
        "\n",
        "で計算することができます．\n"
      ],
      "metadata": {
        "id": "ykAxr46vOT7j"
      }
    },
    {
      "cell_type": "markdown",
      "source": [
        "式$(M2)$のようにデータが $N \\times D$ 行列 $X$ に格納されている場合，\n",
        "\n",
        "$$\n",
        "X^{\\top}X =\n",
        "\\begin{pmatrix}\n",
        "\\mathbf{x}_{1}^{\\top} &\n",
        "\\mathbf{x}_{2}^{\\top} &\n",
        "\\cdots &\n",
        "\\mathbf{x}_{N}^{\\top}\n",
        "\\end{pmatrix}\n",
        "\\begin{pmatrix}\n",
        "\\mathbf{x}_{1}\\\\\n",
        "\\mathbf{x}_{2}\\\\\n",
        "\\vdots\\\\\n",
        "\\mathbf{x}_{N}\n",
        "\\end{pmatrix}\n",
        "=\n",
        "\\sum_{n=1}^{N}\\mathbf{x}_{n}^{\\top}\\mathbf{x}_{n}\n",
        "$$\n",
        "\n",
        "の $(i,j)$ 要素は\n",
        "\n",
        "$$\n",
        "\\sum_{n=1}^{N}x_{n,i}x_{n,j}  \\qquad (i, j = 1, 2, \\ldots, D)\n",
        "$$\n",
        "\n",
        "となっています．\n",
        "したがって，$N \\times D$ 行列 $X$ に格納されている，平均が $\\mathbf{0}$ のデータの分散共分散行列 $V$ は，$V = \\frac{1}{N}X^{\\top}X$ と表せます．\n",
        "\n"
      ],
      "metadata": {
        "id": "leJpCmXWQByi"
      }
    },
    {
      "cell_type": "markdown",
      "source": [
        "#### 問題3"
      ],
      "metadata": {
        "id": "4xT-TsZvTGhu"
      }
    },
    {
      "cell_type": "markdown",
      "source": [
        "実際のデータから分散共分散行列を求めてみましょう．"
      ],
      "metadata": {
        "id": "gqTz8FPsSbj0"
      }
    },
    {
      "cell_type": "code",
      "source": [
        "# 国数英\n",
        "dfJME = pd.read_csv('https://www-tlab.math.ryukoku.ac.jp/~takataka/course/MVA/jme.txt', delimiter=' ', header=None)\n",
        "dfJME.rename(columns={0:'国語', 1:'数学', 2:'英語'}, inplace=True)\n",
        "dfJME.head(5)"
      ],
      "metadata": {
        "colab": {
          "base_uri": "https://localhost:8080/",
          "height": 206
        },
        "id": "zB-wSpoWMM6S",
        "outputId": "e5210720-6e40-4a6f-d9c8-5abf3a6d5496"
      },
      "execution_count": null,
      "outputs": [
        {
          "output_type": "execute_result",
          "data": {
            "text/plain": [
              "   国語  数学  英語\n",
              "0  49  51  59\n",
              "1  58  58  63\n",
              "2  64  56  68\n",
              "3  65  70  77\n",
              "4  54  45  55"
            ],
            "text/html": [
              "\n",
              "  <div id=\"df-3eb95857-6ec7-46c7-9944-de8b1ba4859f\" class=\"colab-df-container\">\n",
              "    <div>\n",
              "<style scoped>\n",
              "    .dataframe tbody tr th:only-of-type {\n",
              "        vertical-align: middle;\n",
              "    }\n",
              "\n",
              "    .dataframe tbody tr th {\n",
              "        vertical-align: top;\n",
              "    }\n",
              "\n",
              "    .dataframe thead th {\n",
              "        text-align: right;\n",
              "    }\n",
              "</style>\n",
              "<table border=\"1\" class=\"dataframe\">\n",
              "  <thead>\n",
              "    <tr style=\"text-align: right;\">\n",
              "      <th></th>\n",
              "      <th>国語</th>\n",
              "      <th>数学</th>\n",
              "      <th>英語</th>\n",
              "    </tr>\n",
              "  </thead>\n",
              "  <tbody>\n",
              "    <tr>\n",
              "      <th>0</th>\n",
              "      <td>49</td>\n",
              "      <td>51</td>\n",
              "      <td>59</td>\n",
              "    </tr>\n",
              "    <tr>\n",
              "      <th>1</th>\n",
              "      <td>58</td>\n",
              "      <td>58</td>\n",
              "      <td>63</td>\n",
              "    </tr>\n",
              "    <tr>\n",
              "      <th>2</th>\n",
              "      <td>64</td>\n",
              "      <td>56</td>\n",
              "      <td>68</td>\n",
              "    </tr>\n",
              "    <tr>\n",
              "      <th>3</th>\n",
              "      <td>65</td>\n",
              "      <td>70</td>\n",
              "      <td>77</td>\n",
              "    </tr>\n",
              "    <tr>\n",
              "      <th>4</th>\n",
              "      <td>54</td>\n",
              "      <td>45</td>\n",
              "      <td>55</td>\n",
              "    </tr>\n",
              "  </tbody>\n",
              "</table>\n",
              "</div>\n",
              "    <div class=\"colab-df-buttons\">\n",
              "\n",
              "  <div class=\"colab-df-container\">\n",
              "    <button class=\"colab-df-convert\" onclick=\"convertToInteractive('df-3eb95857-6ec7-46c7-9944-de8b1ba4859f')\"\n",
              "            title=\"Convert this dataframe to an interactive table.\"\n",
              "            style=\"display:none;\">\n",
              "\n",
              "  <svg xmlns=\"http://www.w3.org/2000/svg\" height=\"24px\" viewBox=\"0 -960 960 960\">\n",
              "    <path d=\"M120-120v-720h720v720H120Zm60-500h600v-160H180v160Zm220 220h160v-160H400v160Zm0 220h160v-160H400v160ZM180-400h160v-160H180v160Zm440 0h160v-160H620v160ZM180-180h160v-160H180v160Zm440 0h160v-160H620v160Z\"/>\n",
              "  </svg>\n",
              "    </button>\n",
              "\n",
              "  <style>\n",
              "    .colab-df-container {\n",
              "      display:flex;\n",
              "      gap: 12px;\n",
              "    }\n",
              "\n",
              "    .colab-df-convert {\n",
              "      background-color: #E8F0FE;\n",
              "      border: none;\n",
              "      border-radius: 50%;\n",
              "      cursor: pointer;\n",
              "      display: none;\n",
              "      fill: #1967D2;\n",
              "      height: 32px;\n",
              "      padding: 0 0 0 0;\n",
              "      width: 32px;\n",
              "    }\n",
              "\n",
              "    .colab-df-convert:hover {\n",
              "      background-color: #E2EBFA;\n",
              "      box-shadow: 0px 1px 2px rgba(60, 64, 67, 0.3), 0px 1px 3px 1px rgba(60, 64, 67, 0.15);\n",
              "      fill: #174EA6;\n",
              "    }\n",
              "\n",
              "    .colab-df-buttons div {\n",
              "      margin-bottom: 4px;\n",
              "    }\n",
              "\n",
              "    [theme=dark] .colab-df-convert {\n",
              "      background-color: #3B4455;\n",
              "      fill: #D2E3FC;\n",
              "    }\n",
              "\n",
              "    [theme=dark] .colab-df-convert:hover {\n",
              "      background-color: #434B5C;\n",
              "      box-shadow: 0px 1px 3px 1px rgba(0, 0, 0, 0.15);\n",
              "      filter: drop-shadow(0px 1px 2px rgba(0, 0, 0, 0.3));\n",
              "      fill: #FFFFFF;\n",
              "    }\n",
              "  </style>\n",
              "\n",
              "    <script>\n",
              "      const buttonEl =\n",
              "        document.querySelector('#df-3eb95857-6ec7-46c7-9944-de8b1ba4859f button.colab-df-convert');\n",
              "      buttonEl.style.display =\n",
              "        google.colab.kernel.accessAllowed ? 'block' : 'none';\n",
              "\n",
              "      async function convertToInteractive(key) {\n",
              "        const element = document.querySelector('#df-3eb95857-6ec7-46c7-9944-de8b1ba4859f');\n",
              "        const dataTable =\n",
              "          await google.colab.kernel.invokeFunction('convertToInteractive',\n",
              "                                                    [key], {});\n",
              "        if (!dataTable) return;\n",
              "\n",
              "        const docLinkHtml = 'Like what you see? Visit the ' +\n",
              "          '<a target=\"_blank\" href=https://colab.research.google.com/notebooks/data_table.ipynb>data table notebook</a>'\n",
              "          + ' to learn more about interactive tables.';\n",
              "        element.innerHTML = '';\n",
              "        dataTable['output_type'] = 'display_data';\n",
              "        await google.colab.output.renderOutput(dataTable, element);\n",
              "        const docLink = document.createElement('div');\n",
              "        docLink.innerHTML = docLinkHtml;\n",
              "        element.appendChild(docLink);\n",
              "      }\n",
              "    </script>\n",
              "  </div>\n",
              "\n",
              "\n",
              "<div id=\"df-d13a2901-984f-4fbc-8aa8-d5787b662099\">\n",
              "  <button class=\"colab-df-quickchart\" onclick=\"quickchart('df-d13a2901-984f-4fbc-8aa8-d5787b662099')\"\n",
              "            title=\"Suggest charts.\"\n",
              "            style=\"display:none;\">\n",
              "\n",
              "<svg xmlns=\"http://www.w3.org/2000/svg\" height=\"24px\"viewBox=\"0 0 24 24\"\n",
              "     width=\"24px\">\n",
              "    <g>\n",
              "        <path d=\"M19 3H5c-1.1 0-2 .9-2 2v14c0 1.1.9 2 2 2h14c1.1 0 2-.9 2-2V5c0-1.1-.9-2-2-2zM9 17H7v-7h2v7zm4 0h-2V7h2v10zm4 0h-2v-4h2v4z\"/>\n",
              "    </g>\n",
              "</svg>\n",
              "  </button>\n",
              "\n",
              "<style>\n",
              "  .colab-df-quickchart {\n",
              "      --bg-color: #E8F0FE;\n",
              "      --fill-color: #1967D2;\n",
              "      --hover-bg-color: #E2EBFA;\n",
              "      --hover-fill-color: #174EA6;\n",
              "      --disabled-fill-color: #AAA;\n",
              "      --disabled-bg-color: #DDD;\n",
              "  }\n",
              "\n",
              "  [theme=dark] .colab-df-quickchart {\n",
              "      --bg-color: #3B4455;\n",
              "      --fill-color: #D2E3FC;\n",
              "      --hover-bg-color: #434B5C;\n",
              "      --hover-fill-color: #FFFFFF;\n",
              "      --disabled-bg-color: #3B4455;\n",
              "      --disabled-fill-color: #666;\n",
              "  }\n",
              "\n",
              "  .colab-df-quickchart {\n",
              "    background-color: var(--bg-color);\n",
              "    border: none;\n",
              "    border-radius: 50%;\n",
              "    cursor: pointer;\n",
              "    display: none;\n",
              "    fill: var(--fill-color);\n",
              "    height: 32px;\n",
              "    padding: 0;\n",
              "    width: 32px;\n",
              "  }\n",
              "\n",
              "  .colab-df-quickchart:hover {\n",
              "    background-color: var(--hover-bg-color);\n",
              "    box-shadow: 0 1px 2px rgba(60, 64, 67, 0.3), 0 1px 3px 1px rgba(60, 64, 67, 0.15);\n",
              "    fill: var(--button-hover-fill-color);\n",
              "  }\n",
              "\n",
              "  .colab-df-quickchart-complete:disabled,\n",
              "  .colab-df-quickchart-complete:disabled:hover {\n",
              "    background-color: var(--disabled-bg-color);\n",
              "    fill: var(--disabled-fill-color);\n",
              "    box-shadow: none;\n",
              "  }\n",
              "\n",
              "  .colab-df-spinner {\n",
              "    border: 2px solid var(--fill-color);\n",
              "    border-color: transparent;\n",
              "    border-bottom-color: var(--fill-color);\n",
              "    animation:\n",
              "      spin 1s steps(1) infinite;\n",
              "  }\n",
              "\n",
              "  @keyframes spin {\n",
              "    0% {\n",
              "      border-color: transparent;\n",
              "      border-bottom-color: var(--fill-color);\n",
              "      border-left-color: var(--fill-color);\n",
              "    }\n",
              "    20% {\n",
              "      border-color: transparent;\n",
              "      border-left-color: var(--fill-color);\n",
              "      border-top-color: var(--fill-color);\n",
              "    }\n",
              "    30% {\n",
              "      border-color: transparent;\n",
              "      border-left-color: var(--fill-color);\n",
              "      border-top-color: var(--fill-color);\n",
              "      border-right-color: var(--fill-color);\n",
              "    }\n",
              "    40% {\n",
              "      border-color: transparent;\n",
              "      border-right-color: var(--fill-color);\n",
              "      border-top-color: var(--fill-color);\n",
              "    }\n",
              "    60% {\n",
              "      border-color: transparent;\n",
              "      border-right-color: var(--fill-color);\n",
              "    }\n",
              "    80% {\n",
              "      border-color: transparent;\n",
              "      border-right-color: var(--fill-color);\n",
              "      border-bottom-color: var(--fill-color);\n",
              "    }\n",
              "    90% {\n",
              "      border-color: transparent;\n",
              "      border-bottom-color: var(--fill-color);\n",
              "    }\n",
              "  }\n",
              "</style>\n",
              "\n",
              "  <script>\n",
              "    async function quickchart(key) {\n",
              "      const quickchartButtonEl =\n",
              "        document.querySelector('#' + key + ' button');\n",
              "      quickchartButtonEl.disabled = true;  // To prevent multiple clicks.\n",
              "      quickchartButtonEl.classList.add('colab-df-spinner');\n",
              "      try {\n",
              "        const charts = await google.colab.kernel.invokeFunction(\n",
              "            'suggestCharts', [key], {});\n",
              "      } catch (error) {\n",
              "        console.error('Error during call to suggestCharts:', error);\n",
              "      }\n",
              "      quickchartButtonEl.classList.remove('colab-df-spinner');\n",
              "      quickchartButtonEl.classList.add('colab-df-quickchart-complete');\n",
              "    }\n",
              "    (() => {\n",
              "      let quickchartButtonEl =\n",
              "        document.querySelector('#df-d13a2901-984f-4fbc-8aa8-d5787b662099 button');\n",
              "      quickchartButtonEl.style.display =\n",
              "        google.colab.kernel.accessAllowed ? 'block' : 'none';\n",
              "    })();\n",
              "  </script>\n",
              "</div>\n",
              "    </div>\n",
              "  </div>\n"
            ]
          },
          "metadata": {},
          "execution_count": 28
        }
      ]
    },
    {
      "cell_type": "code",
      "source": [
        "Xorg = dfJME.to_numpy()\n",
        "print(Xorg)\n",
        "N, D = Xorg.shape  # Xorg の行数が N に，列数が D に代入される\n",
        "print(f'N = {N}, D = {D}')"
      ],
      "metadata": {
        "colab": {
          "base_uri": "https://localhost:8080/"
        },
        "id": "PpwlnG3lSkel",
        "outputId": "b4099a1c-8d7a-4f75-96f4-946f071986c7"
      },
      "execution_count": null,
      "outputs": [
        {
          "output_type": "stream",
          "name": "stdout",
          "text": [
            "[[49 51 59]\n",
            " [58 58 63]\n",
            " [64 56 68]\n",
            " [65 70 77]\n",
            " [54 45 55]\n",
            " [58 70 71]\n",
            " [49 45 57]\n",
            " [67 69 79]\n",
            " [54 66 66]\n",
            " [66 73 81]\n",
            " [72 71 81]\n",
            " [66 72 77]\n",
            " [54 57 62]\n",
            " [64 53 67]\n",
            " [39 58 56]\n",
            " [56 57 62]\n",
            " [54 71 70]\n",
            " [56 63 67]\n",
            " [48 53 61]\n",
            " [57 62 70]\n",
            " [57 62 68]\n",
            " [47 59 59]\n",
            " [50 57 61]\n",
            " [60 65 71]\n",
            " [72 74 77]\n",
            " [54 66 66]\n",
            " [59 72 70]\n",
            " [61 50 59]\n",
            " [64 69 68]\n",
            " [70 60 71]]\n",
            "N = 30, D = 3\n"
          ]
        }
      ]
    },
    {
      "cell_type": "markdown",
      "source": [
        "(1) 次のセルに，`np.mean` を使って `Xorg` の列ごとの平均を求めてそれを変数 `Xm` に代入し，その値を表示するコードを書きなさい（ヒント: `axis`オプションを使う）．\n",
        "こうなるはず．\n",
        "```\n",
        "[58.13  61.8  67.3]\n",
        "```"
      ],
      "metadata": {
        "id": "HqsYd57-TWiH"
      }
    },
    {
      "cell_type": "code",
      "source": [
        "\n"
      ],
      "metadata": {
        "colab": {
          "base_uri": "https://localhost:8080/"
        },
        "id": "8ZYxuGbZS-e3",
        "outputId": "0f5a99be-7b18-4288-bae5-4db3d30e80b2"
      },
      "execution_count": null,
      "outputs": [
        {
          "output_type": "stream",
          "name": "stdout",
          "text": [
            "[58.13333333 61.8        67.3       ]\n"
          ]
        }
      ]
    },
    {
      "cell_type": "markdown",
      "source": [
        "(2) 次のセルに，`Xorg` から `Xm` を引いたものを `X` に代入し，その値を表示するコードを書きなさい．"
      ],
      "metadata": {
        "id": "2h67GCZeUNZq"
      }
    },
    {
      "cell_type": "code",
      "source": [
        "\n"
      ],
      "metadata": {
        "colab": {
          "base_uri": "https://localhost:8080/"
        },
        "id": "ptbJtPqGT-oX",
        "outputId": "0d43b84c-3f56-4f68-f32b-555722ea2342"
      },
      "execution_count": null,
      "outputs": [
        {
          "output_type": "stream",
          "name": "stdout",
          "text": [
            "[[ -9.13333333 -10.8         -8.3       ]\n",
            " [ -0.13333333  -3.8         -4.3       ]\n",
            " [  5.86666667  -5.8          0.7       ]\n",
            " [  6.86666667   8.2          9.7       ]\n",
            " [ -4.13333333 -16.8        -12.3       ]\n",
            " [ -0.13333333   8.2          3.7       ]\n",
            " [ -9.13333333 -16.8        -10.3       ]\n",
            " [  8.86666667   7.2         11.7       ]\n",
            " [ -4.13333333   4.2         -1.3       ]\n",
            " [  7.86666667  11.2         13.7       ]\n",
            " [ 13.86666667   9.2         13.7       ]\n",
            " [  7.86666667  10.2          9.7       ]\n",
            " [ -4.13333333  -4.8         -5.3       ]\n",
            " [  5.86666667  -8.8         -0.3       ]\n",
            " [-19.13333333  -3.8        -11.3       ]\n",
            " [ -2.13333333  -4.8         -5.3       ]\n",
            " [ -4.13333333   9.2          2.7       ]\n",
            " [ -2.13333333   1.2         -0.3       ]\n",
            " [-10.13333333  -8.8         -6.3       ]\n",
            " [ -1.13333333   0.2          2.7       ]\n",
            " [ -1.13333333   0.2          0.7       ]\n",
            " [-11.13333333  -2.8         -8.3       ]\n",
            " [ -8.13333333  -4.8         -6.3       ]\n",
            " [  1.86666667   3.2          3.7       ]\n",
            " [ 13.86666667  12.2          9.7       ]\n",
            " [ -4.13333333   4.2         -1.3       ]\n",
            " [  0.86666667  10.2          2.7       ]\n",
            " [  2.86666667 -11.8         -8.3       ]\n",
            " [  5.86666667   7.2          0.7       ]\n",
            " [ 11.86666667  -1.8          3.7       ]]\n"
          ]
        }
      ]
    },
    {
      "cell_type": "markdown",
      "source": [
        "(3) 次のセルに，`Xorg` に格納されていたデータの分散共分散行列を求めて `V` に代入するコードを書きなさい．`X` と `N` を使うこと．\n",
        "\n",
        "こうなるはず：\n",
        "- 国語，数学，英語の分散はそれぞれ 60.45, 68.5, 53.6\n",
        "- 数学と英語の共分散は 50.9，国語と英語の共分散は 46.3，国語と数学の共分散は 33.6"
      ],
      "metadata": {
        "id": "jchTbBUqVN5I"
      }
    },
    {
      "cell_type": "code",
      "source": [
        "\n"
      ],
      "metadata": {
        "colab": {
          "base_uri": "https://localhost:8080/"
        },
        "id": "zPzKGQDMUtNK",
        "outputId": "f348576f-3256-407d-f65d-98df24259e77"
      },
      "execution_count": null,
      "outputs": [
        {
          "output_type": "stream",
          "name": "stdout",
          "text": [
            "[[60.44888889 33.62666667 46.29333333]\n",
            " [33.62666667 68.49333333 50.92666667]\n",
            " [46.29333333 50.92666667 53.61      ]]\n"
          ]
        }
      ]
    },
    {
      "cell_type": "markdown",
      "source": [
        "### 固有値・固有ベクトルを求める，次元削減する\n",
        "\n"
      ],
      "metadata": {
        "id": "EiRM0QXa5z6D"
      }
    },
    {
      "cell_type": "markdown",
      "source": [
        "#### 問題4\n",
        "\n",
        "上のデータを主成分分析によって2次元にする次元削減をやってみましょう．\n"
      ],
      "metadata": {
        "id": "HbZGgICNXD4r"
      }
    },
    {
      "cell_type": "markdown",
      "source": [
        "(1) 次のセルに，問題3で求めた `V` を使ってその固有値・固有ベクトルを求め，それらの値を表示するコードを書きなさい．"
      ],
      "metadata": {
        "id": "Xf2Ui9rMXGPz"
      }
    },
    {
      "cell_type": "code",
      "source": [
        "\n",
        "\n"
      ],
      "metadata": {
        "colab": {
          "base_uri": "https://localhost:8080/"
        },
        "id": "LL4ogbPsWyv_",
        "outputId": "ed21fae9-6c2f-401d-d9fa-464463b39857"
      },
      "execution_count": null,
      "outputs": [
        {
          "output_type": "stream",
          "name": "stdout",
          "text": [
            "U = \n",
            "[[-0.54007232  0.7359217  -0.40833948]\n",
            " [-0.60236165 -0.67684192 -0.42313764]\n",
            " [-0.58777745  0.01744311  0.8088346 ]] (3, 3)\n",
            "eval = \n",
            "[148.33636162  30.61903392   3.59682668] (3,)\n",
            "\n",
            "固有値 148.34 に対応する固有ベクトルは [-0.54007232 -0.60236165 -0.58777745]\n",
            "固有値 30.62 に対応する固有ベクトルは [ 0.7359217  -0.67684192  0.01744311]\n",
            "固有値 3.60 に対応する固有ベクトルは [-0.40833948 -0.42313764  0.8088346 ]\n"
          ]
        }
      ]
    },
    {
      "cell_type": "markdown",
      "source": [
        "(2) 次のセルに，`X` に格納されたデータを2次元に次元削減する（第1，第2主成分スコアを求める）コードを書きなさい．\n",
        "ただし，次の指示にしたがうこと\n",
        "- `V` の固有ベクトルのうち大きい方から2つを0列目と1列目に並べた $3\\times 2$ 行列を `U2` としなさい\n",
        "- `U2` を使って `X` を変換したものを `Y` としなさい"
      ],
      "metadata": {
        "id": "Sr-vd3mKXXpD"
      }
    },
    {
      "cell_type": "code",
      "source": [
        "\n"
      ],
      "metadata": {
        "colab": {
          "base_uri": "https://localhost:8080/"
        },
        "id": "Puu7S7ZqX61k",
        "outputId": "dbcaba5c-142f-4393-9f92-8c9e98f00a06"
      },
      "execution_count": null,
      "outputs": [
        {
          "output_type": "stream",
          "name": "stdout",
          "text": [
            "[[-0.54007232  0.7359217 ]\n",
            " [-0.60236165 -0.67684192]\n",
            " [-0.58777745  0.01744311]] (3, 2)\n",
            "[[ 16.31671919   0.44369665]\n",
            " [  4.88842693   2.39887101]\n",
            " [ -0.08617095   8.25530064]\n",
            " [-14.34930339  -0.32757649]\n",
            " [ 19.58163725   8.11458423]\n",
            " [ -7.04213244  -5.58368711]\n",
            " [ 21.10644398   4.46986193]\n",
            " [-16.00264129   1.85599506]\n",
            " [  0.4664907   -5.90722182]\n",
            " [-19.04757046  -1.55240809]\n",
            " [-21.0832811    4.21680597]\n",
            " [-16.09409902  -0.94533863]\n",
            " [  8.23885533   0.114583  ]\n",
            " [  2.30869144  10.26838328]\n",
            " [ 19.26424323 -11.70574317]\n",
            " [  7.15871068   1.5864264 ]\n",
            " [ -4.89642734  -9.22165896]\n",
            " [  0.60565355  -2.38740954]\n",
            " [ 14.47651332  -1.61102267]\n",
            " [ -1.09538947  -0.92231657]\n",
            " [  0.08016542  -0.9572028 ]\n",
            " [ 12.57797065  -6.44288211]\n",
            " [ 10.98692208  -2.84654693]\n",
            " [ -5.11046884  -0.7276341 ]\n",
            " [-20.53925626   2.11650776]\n",
            " [  0.4664907   -5.90722182]\n",
            " [ -8.19915061  -6.21889236]\n",
            " [ 10.43821294   9.95159901]\n",
            " [ -7.91687239  -0.54364431]\n",
            " [ -7.49938384  10.01579253]] (30, 2)\n"
          ]
        }
      ]
    },
    {
      "cell_type": "markdown",
      "source": [
        "`Y` の最初の行と最後の行はこんなんなるでしょう．\n",
        "```\n",
        "[ 16.31671919   0.44369665]\n",
        "[ -7.49938384  10.01579253]\n",
        "```"
      ],
      "metadata": {
        "id": "a9evvyUrYILd"
      }
    },
    {
      "cell_type": "markdown",
      "source": [
        "### 主成分分析の結果を解釈する\n",
        "\n",
        "主成分分析の結果をどのように分析するか，については次回説明しますが，ここでその初歩を少しだけ．"
      ],
      "metadata": {
        "id": "0HV-UMpqZMNW"
      }
    },
    {
      "cell_type": "markdown",
      "source": [
        "#### 問題5\n",
        "\n",
        "次のようなデータをでっち上げて考えてみましょう．"
      ],
      "metadata": {
        "id": "BqginQ-wZ_BF"
      }
    },
    {
      "cell_type": "code",
      "source": [
        "X2 = np.array([[  0,   0,   0], # 3科目とも平均点のひと\n",
        "               [ 10,  10,  10], # 3科目とも平均より10点上だったひと\n",
        "               [ 20,  20,  20], # 3科目とも平均より20点上だったひと\n",
        "               [-10, -10, -10], # 3科目とも平均より10点下だったひと\n",
        "               [ 10,  10,   0], # 国語数学が等しく平均より上だったひと\n",
        "               [ 10, -10,   0], # 国語が平均より上で数学が平均より下\n",
        "               [-10,  10,   0], # 国語が平均より下で数学が平均より上\n",
        "               [-20,   0,   0], # 国語が平均より下で苦手で数学，英語は平均\n",
        "])"
      ],
      "metadata": {
        "id": "u2quybfnaaGq"
      },
      "execution_count": null,
      "outputs": []
    },
    {
      "cell_type": "markdown",
      "source": [
        "(1) 次のセルに，問題3の `U2` を使って `X2` を 2次元に変換したものを求め，その値を表示するコードを書きなさい．変換したものは `Y2` という変数に代入することにしよう．"
      ],
      "metadata": {
        "id": "MLALHoTScCHF"
      }
    },
    {
      "cell_type": "code",
      "source": [
        "\n"
      ],
      "metadata": {
        "colab": {
          "base_uri": "https://localhost:8080/"
        },
        "id": "yOGgfUTaaqRi",
        "outputId": "dc0f34f1-6fd4-48a4-a754-dec3e3e4b1c7"
      },
      "execution_count": null,
      "outputs": [
        {
          "output_type": "stream",
          "name": "stdout",
          "text": [
            "[[  0.           0.        ]\n",
            " [-17.30211421   0.76522899]\n",
            " [-34.60422843   1.53045798]\n",
            " [ 17.30211421  -0.76522899]\n",
            " [-11.42433974   0.59079785]\n",
            " [  0.62289325  14.12763623]\n",
            " [ -0.62289325 -14.12763623]\n",
            " [ 10.80144649 -14.71843408]]\n"
          ]
        }
      ]
    },
    {
      "cell_type": "markdown",
      "source": [
        "`X2` と `Y2` を見比べると，次のようなことが分かります．\n",
        "- 3科目とも平均点のひとの主成分スコアは $(\\mbox{第1主成分スコア}, \\mbox{第2主成分スコア} ) = (0, 0)$ となっている\n",
        "- 3科目どれも平均より上のひとの第1主成分スコアは負，3科目とも平均より下のひとは正\n",
        "- 国語と数学で国語の方がよいひとは第2主成分スコアが正，逆のひとは第2主成分スコアが負\n",
        "\n",
        "このような結果が得られることは，`U2` の要素からも推測できます．"
      ],
      "metadata": {
        "id": "b-Bre81Ecbqy"
      }
    },
    {
      "cell_type": "code",
      "source": [
        "print(U2)"
      ],
      "metadata": {
        "colab": {
          "base_uri": "https://localhost:8080/"
        },
        "id": "GanyF2nnauCI",
        "outputId": "71ea7adb-9d5f-41bc-962d-b5d2bc9209f3"
      },
      "execution_count": null,
      "outputs": [
        {
          "output_type": "stream",
          "name": "stdout",
          "text": [
            "[[-0.54007232  0.7359217 ]\n",
            " [-0.60236165 -0.67684192]\n",
            " [-0.58777745  0.01744311]]\n"
          ]
        }
      ]
    },
    {
      "cell_type": "markdown",
      "source": [
        "`U2`の 0 列目，すなわちデータの分散共分散行列の最大固有値に対応する固有ベクトルは3つの要素がすべて負で値の大きさがほぼ同じで，おおざっぱに見ると\n",
        "\n",
        "$$\n",
        "(\\mbox{第1主成分}) = -0.5(\\mbox{国語}) -0.5(\\mbox{数学}) -0.5(\\mbox{英語}) = -0.5((\\mbox{国語})+(\\mbox{数学})+(\\mbox{英語}))\n",
        "$$\n",
        "\n",
        "となっています．このことから，第1主成分は「3科目の総合力」（ただし値が小さい方が高い）を表すと解釈できます．"
      ],
      "metadata": {
        "id": "aeUTaI96enPC"
      }
    },
    {
      "cell_type": "markdown",
      "source": [
        "一方，第2主成分については，(英語)の係数が小さく，おおざっぱには\n",
        "\n",
        "$$\n",
        "(\\mbox{第1主成分}) = 0.7(\\mbox{国語}) -0.7(\\mbox{数学}) = 0.7((\\mbox{国語})-(\\mbox{数学}))\n",
        "$$\n",
        "\n",
        "と見ることができます．したがって，第2主成分は「国語の得意度」（大きいほうが数学に比べて国語が得意）とでもいえそうです．最後の二人は国数の点数は異なるけれど，差は同じなので，第2主成分スコアの値はほとんど同じになっています．"
      ],
      "metadata": {
        "id": "WoVDs3mSf1Za"
      }
    },
    {
      "cell_type": "markdown",
      "source": [
        "これらのことから，ここで行った主成分分析による次元削減では，国語，数学，英語3科目の点数のデータを2つの変数で説明しようとしたら，「3科目の総合力」と「国語の得意度」という2つが得られた，この二つがこのデータの主な成分である，という解釈をすることができます．"
      ],
      "metadata": {
        "id": "M4NnzKr0gmsu"
      }
    },
    {
      "cell_type": "code",
      "source": [],
      "metadata": {
        "id": "4fVPoh5iemEw"
      },
      "execution_count": null,
      "outputs": []
    }
  ]
}