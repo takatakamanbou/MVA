{
  "nbformat": 4,
  "nbformat_minor": 0,
  "metadata": {
    "colab": {
      "provenance": [],
      "collapsed_sections": [],
      "toc_visible": true,
      "authorship_tag": "ABX9TyO4bbfy9I3F9sb+Zi5r/Q23",
      "include_colab_link": true
    },
    "kernelspec": {
      "name": "python3",
      "display_name": "Python 3"
    },
    "language_info": {
      "name": "python"
    }
  },
  "cells": [
    {
      "cell_type": "markdown",
      "metadata": {
        "id": "view-in-github",
        "colab_type": "text"
      },
      "source": [
        "<a href=\"https://colab.research.google.com/github/takatakamanbou/MVA/blob/2022/ex05notebookB.ipynb\" target=\"_parent\"><img src=\"https://colab.research.google.com/assets/colab-badge.svg\" alt=\"Open In Colab\"/></a>"
      ]
    },
    {
      "cell_type": "markdown",
      "source": [
        "# MVA2022 ex05notebookB\n",
        "\n",
        "<img width=64 src=\"https://www-tlab.math.ryukoku.ac.jp/~takataka/course/MVA/MVA-logo.png\"> https://www-tlab.math.ryukoku.ac.jp/wiki/?MVA/2022"
      ],
      "metadata": {
        "id": "P4preLw7SzqH"
      }
    },
    {
      "cell_type": "code",
      "metadata": {
        "id": "I226xIKJbqtM"
      },
      "source": [
        "# 必要なパッケージのインポート\n",
        "import numpy as np\n",
        "import pandas as pd"
      ],
      "execution_count": null,
      "outputs": []
    },
    {
      "cell_type": "markdown",
      "source": [
        "----\n",
        "## Python + NumPy で主成分分析をやってみよう\n",
        "\n"
      ],
      "metadata": {
        "id": "zDtnBWKha6vx"
      }
    },
    {
      "cell_type": "markdown",
      "source": [
        "自分で主成分分析を実行する際には，notebookA でも使っているような統計分析ツールを使うこともできますが，線形代数の授業で学んだことを活かすために，Python + NumPy で計算するコードを書いてみましょう．\n",
        "以下は，そのための練習です．"
      ],
      "metadata": {
        "id": "Ar-fL0up8Ypd"
      }
    },
    {
      "cell_type": "markdown",
      "source": [
        "---\n",
        "### 固有値・固有ベクトルの計算と対称行列の対角化"
      ],
      "metadata": {
        "id": "Nh5eurDr7scO"
      }
    },
    {
      "cell_type": "markdown",
      "source": [
        "notebookA で説明しているように，主成分分析のためには，与えられたデータの分散共分散行列を計算し，その固有値と固有ベクトルを求めることになります．まずは，行列の固有値・固有ベクトルを求める手順を考えます．"
      ],
      "metadata": {
        "id": "m-gduVzb9nM8"
      }
    },
    {
      "cell_type": "markdown",
      "source": [
        "分散共分散行列は **対称行列** ですので，固有値はすべて実数，固有ベクトルの要素もすべて実数となります．対称行列は，固有値・固有ベクトルを使って以下のように **対角化** できるのでした．"
      ],
      "metadata": {
        "id": "PtUl__ey-RUT"
      }
    },
    {
      "cell_type": "markdown",
      "source": [
        "---\n",
        "［実対称行列の対角化］\n",
        "\n",
        "$D\\times D$ 行列 $A$ が対称行列である，つまり，$A^{\\top} = A$ が成り立つとする．このとき，その固有値 $\\lambda_{1}, \\lambda_{2}, \\ldots, \\lambda_{D}$ はすべて実数である．\n",
        "また，$\\lambda_{d}$ に対応する単位固有ベクトル（大きさ $1$ の固有ベクトル）を $\\mathbf{u}_{d}$ と表す（$d=1,2,\\ldots, D$）とき，これらは互いに直交するように，つまり，\n",
        "\n",
        "$$\n",
        "\\mathbf{u}_{i}\\cdot\\mathbf{u}_{j} = \\left\\{\n",
        "    \\begin{aligned}\n",
        "    1 \\quad & (i = j)\\\\\n",
        "    0 \\quad & (i \\ne j)\n",
        "    \\end{aligned}\n",
        "\\right. \\qquad (D1)\n",
        "$$\n",
        "\n",
        "となるようにとることができる（$i, j = 1, 2, \\ldots, D$）．\n",
        "\n",
        "このとき，固有値固有ベクトルの定義から $A\\mathbf{u}_{d} = \\lambda_{d}\\mathbf{u}_{d}$ なので，\n",
        "\n",
        "$$\n",
        "A \\left(\\mathbf{u}_{1}\\ \\mathbf{u}_{2}\\ \\cdots \\mathbf{u}_{D} \\right) = \\left(\\lambda_{1}\\mathbf{u}_{1}\\ \\lambda_{2}\\mathbf{u}_{2}\\ \\cdots \\lambda_{D}\\mathbf{u}_{D} \\right) = \\left(\\mathbf{u}_{1}\\ \\mathbf{u}_{2}\\ \\cdots \\mathbf{u}_{D} \\right)\n",
        "\\begin{pmatrix}\n",
        "\\lambda_{1} & & &\\\\\n",
        " & \\lambda_{2} & &  \\\\\n",
        "& &\\ddots & \\\\\n",
        "& & & \\lambda_{D} \\\\\n",
        "\\end{pmatrix}\n",
        "\\qquad (D2)\n",
        "$$\n",
        "\n",
        "となる．$\\mathbf{u}_{d}$ を列ベクトル（$D\\times 1$行列）として，$D\\times D$ 行列 $U$ を $U = \\left(\\mathbf{u}_{1}\\ \\mathbf{u}_{2}\\ \\cdots \\mathbf{u}_{D} \\right)$ とおくと，式($D1$)より，\n",
        "\n",
        "$$\n",
        "U^{\\top}U = \n",
        "\\begin{pmatrix}\n",
        "\\mathbf{u}_{1}^{\\top} \\\\ \\mathbf{u}_{2}^{\\top} \\\\ \\vdots \\\\ \\mathbf{u}_{D}^{\\top}\n",
        "\\end{pmatrix}\n",
        "\\left(\\mathbf{u}_{1}\\ \\mathbf{u}_{2}\\ \\cdots \\mathbf{u}_{D} \\right)\n",
        "=\n",
        "\\begin{pmatrix}\n",
        "\\mathbf{u}_{1}^{\\top}\\mathbf{u}_{1} & \\mathbf{u}_{1}^{\\top}\\mathbf{u}_{2} & \\cdots & \\mathbf{u}_{1}^{\\top}\\mathbf{u}_{D}\\\\\n",
        "\\mathbf{u}_{2}^{\\top}\\mathbf{u}_{1} & \\mathbf{u}_{2}^{\\top}\\mathbf{u}_{2} & \\cdots & \\mathbf{u}_{2}^{\\top}\\mathbf{u}_{D} \\\\\n",
        "\\vdots  & \\vdots & \\vdots & \\vdots \\\\\n",
        "\\mathbf{u}_{D}^{\\top}\\mathbf{u}_{1} & \\mathbf{u}_{D}^{\\top}\\mathbf{u}_{2} & \\cdots & \\mathbf{u}_{D}^{\\top}\\mathbf{u}_{D} \\\\\n",
        "\\end{pmatrix}\n",
        "=\n",
        "\\begin{pmatrix}\n",
        "1 & & &\\\\\n",
        " & 1 & &\\\\\n",
        "& & \\ddots &\\\\\n",
        " & & & 1\n",
        "\\end{pmatrix}\n",
        "= I\n",
        "$$\n",
        "\n",
        "となるので，式(D2)に左から $U^{\\top}$ をかけて，\n",
        "\n",
        "$$\n",
        "U^{\\top}AU = U^{\\top}U \n",
        "\\begin{pmatrix}\n",
        "\\lambda_{1} & & &\\\\\n",
        " & \\lambda_{2} & &  \\\\\n",
        "& &\\ddots & \\\\\n",
        "& & & \\lambda_{D} \\\\\n",
        "\\end{pmatrix}\n",
        "= \n",
        "\\begin{pmatrix}\n",
        "\\lambda_{1} & & &\\\\\n",
        " & \\lambda_{2} & &  \\\\\n",
        "& &\\ddots & \\\\\n",
        "& & & \\lambda_{D} \\\\\n",
        "\\end{pmatrix}\n",
        "$$\n",
        "\n",
        "が得られる．つまり，実対称行列 $A$ の固有ベクトルをならべた行列を $U$ とするとき，$A$ の左から $U^{\\top}$，右から $U$ を掛けると，対角要素に固有値が並んだ対角行列となる．\n",
        "\n",
        "---"
      ],
      "metadata": {
        "id": "tHMpwO_RuoAr"
      }
    },
    {
      "cell_type": "markdown",
      "source": [
        "これをふまえて，適当に作った対称行列の固有値・固有ベクトルを求めて，本当に対角化できることを計算で確かめてみましょう．"
      ],
      "metadata": {
        "id": "z1vdngqR-x4C"
      }
    },
    {
      "cell_type": "code",
      "source": [
        "# 3x3 対称行列\n",
        "A = np.array([[5, 3, -1], [3, 4, 1], [-1, 1, 2]])\n",
        "print('A = ')\n",
        "print(A, A.shape)"
      ],
      "metadata": {
        "id": "7fYX3g3A7y4C"
      },
      "execution_count": null,
      "outputs": []
    },
    {
      "cell_type": "markdown",
      "source": [
        "次のセルを実行すると，`A` の固有値・固有ベクトルを求めて表示します．\n",
        "ここでは，NumPy で「特異値分解」を行う `np.linalg.svd` という関数を使っています（注）．\n",
        "\n",
        "\n",
        "<span style=\"font-size: 75%\">\n",
        "※注: <a href=\"https://numpy.org/doc/stable/reference/generated/numpy.linalg.svd.html\">np.linalg.svd</a>．<a href=\"https://numpy.org/doc/stable/reference/generated/numpy.linalg.eig.html\">np.linalg.eig</a> という関数もありますが，そちらは固有値が順番に並ばないのでここでは使っていません．\n",
        "ちなみに，固有値・固有ベクトルを使った対角化（固有値分解）は正方行列にしか適用できませんが，「特異値分解」は行数と列数が等しくない行列でも対角化もどきの分解ができます．\n",
        "</span>\n"
      ],
      "metadata": {
        "id": "qqQ1vnSTAjco"
      }
    },
    {
      "cell_type": "code",
      "source": [
        "## 特異値分解経由で A の固有値・固有ベクトルを求める\n",
        "#\n",
        "# np.linalg.svd は「特異値分解」を行う関数．\n",
        "#    引数にわたす行列 A が実対称行列の場合，固有値分解と等価な結果が得られる\n",
        "#    固有値（特異値）は降順に並ぶ\n",
        "U, eval, Vt = np.linalg.svd(A)\n",
        "print('U = ')\n",
        "print(U, U.shape)\n",
        "print('eval = ')\n",
        "print(eval, eval.shape)\n",
        "print()\n",
        "for d in range(len(eval)): # 固有ベクトルは列ベクトルとして U に格納されてる\n",
        "    print(f'固有値 {eval[d]:.2f} に対応する固有ベクトルは {U[:, d]}')\n",
        "print()\n",
        "print('U.T @ U = ')\n",
        "print(U.T @ U)"
      ],
      "metadata": {
        "id": "4uluTGt86ElW"
      },
      "execution_count": null,
      "outputs": []
    },
    {
      "cell_type": "markdown",
      "source": [
        "`eval` の中に3つの固有値が降順に格納されています．`U` の方には，固有ベクトルが「列ベクトルとして」格納されています．つまり，1列が一つの固有ベクトルです（「1行」ではないことに注意）．したがって，`eval[d]` が `A` の（0から数えて）`d`番目に大きな固有値，`U[:, d]` がそれに対応する固有ベクトルです．\n",
        "\n",
        "`U.T @ U` のところは，$U^{\\top}U = I$ となっていることを確認しています．"
      ],
      "metadata": {
        "id": "FAIxDfriB5Dc"
      }
    },
    {
      "cell_type": "markdown",
      "source": [
        "#### 問題1\n",
        "\n",
        "1. 上記を読んで理解しましょう．\n",
        "1. `U.T @ U` の値が本当に↑の通りになっているか自分の目で確かめましょう．"
      ],
      "metadata": {
        "id": "gXEY1V1LG-aG"
      }
    },
    {
      "cell_type": "markdown",
      "metadata": {
        "id": "weuyu8H6bqtL"
      },
      "source": [
        "---\n",
        "### 行列・ベクトルの扱いに関する注意\n",
        "\n"
      ]
    },
    {
      "cell_type": "markdown",
      "source": [
        "notebookA の説明では，$D$ 次元のデータを $H$ 次元にする線形変換を説明する際に，次の式を考えていました（ここでは，簡単のため，$D = 3, H = 2$ で書いてます）．\n",
        "\n",
        "$$\n",
        "\\begin{pmatrix}\n",
        "    y_1\\\\y_2\n",
        "\\end{pmatrix}\n",
        "= \n",
        "\\begin{pmatrix}\n",
        "w_{1,1} & w_{1,2} & w_{1,3}\\\\\n",
        "w_{2,1} & w_{2,2} & w_{2,3}\n",
        "\\end{pmatrix}\n",
        "\\begin{pmatrix}\n",
        "    x_1\\\\x_2\\\\x_3\n",
        "\\end{pmatrix}\n",
        "$$\n",
        "\n",
        "$y_1, y_2$ を並べた $2\\times 1$ 行列を $\\mathbf{y}$，$w_{1,1}, \\ldots, w_{2,3}$ を並べた $2\\times 3$ 行列を $W$，$x_{1}, x_{2}, x_{3}$ を並べた $3\\times 1$ 行列を $\\mathbf{x}$ をおくと， この式は次のように書けます．\n",
        "\n",
        "$$\n",
        "\\mathbf{y} = W\\mathbf{x} \\qquad (M1)\n",
        "$$\n",
        "\n",
        "線形代数の教科書等では，このように，$D$ 次元のベクトルを「列ベクトル」（$D\\times 1$行列）として扱うのが標準的です．そのため，notebookA の説明もそちらで書きました．\n"
      ],
      "metadata": {
        "id": "FpokgnH-3vsV"
      }
    },
    {
      "cell_type": "markdown",
      "source": [
        "\n",
        "一方，コンピュータでデータを扱う際は，「行ベクトル」で考えることがよくあります（\n",
        "理由は，文字の入出力の際に，1行目を左から右へ向かって書く → 2行目で同様 → ...と進むので，1列ではなく1行がひとかたまりの方が便利ってところでしょうか）．\n",
        "重回帰分析の項では実際にそのように数値を並べた配列を扱ってきました．行列として書くと次のようなものです（$D=3$の例を書いています）．\n",
        "\n",
        "$$\n",
        "X =\n",
        "\\begin{pmatrix}\n",
        "x_{1, 1} & x_{1, 2} & x_{1, 3}\\\\\n",
        "x_{2, 1} & x_{2, 2} & x_{2, 3}\\\\\n",
        "\\vdots & \\vdots & \\vdots\\\\\n",
        "x_{N, 1} & x_{N, 2} & x_{N, 3}\\\\\n",
        "\\end{pmatrix}\n",
        "$$\n",
        "\n",
        "\n",
        "この場合，一つのデータ $\\mathbf{x}_{n} = (x_{n, 1}, x_{n, 2}, x_{n, 3})$ は「行ベクトル」（$1\\times D$行列）として `X` に格納されています．\n"
      ],
      "metadata": {
        "id": "6oGT-LbzGP-k"
      }
    },
    {
      "cell_type": "markdown",
      "source": [
        "\n",
        "このとき，$\\mathbf{x}_{n}$ に行列 $W$ をかけて $H\\times 2$ 行列 $\\mathbf{y}_{n} = (y_{n,1}, y_{n,2})$ を求める計算は，次式のようになります（ちょうど式(1)の両辺を転置したものになってますね）．\n",
        "\n",
        "$$\n",
        "\\mathbf{y}_{n} = \\mathbf{x}_{n}W^{\\top}\n",
        "$$\n",
        "\n",
        "したがって，上記の並び順で数値が格納されている $N\\times D$ 行列 $X$ に $H\\times D$ 行列 $W$ をかけて $N$ 個の $H$ 次元ベクトルを求める計算は次式のようになります．\n",
        "\n",
        "$$\n",
        "Y = XW^{\\top} \\qquad (M2)\n",
        "$$"
      ],
      "metadata": {
        "id": "cSx3PFkAGSSN"
      }
    },
    {
      "cell_type": "markdown",
      "source": [
        "#### 問題2"
      ],
      "metadata": {
        "id": "H7rJDHlAG3Se"
      }
    },
    {
      "cell_type": "markdown",
      "source": [
        "問題1の方で求めた固有ベクトルを使って，式(M2)の計算を実際にやってみましょう．"
      ],
      "metadata": {
        "id": "61u35vUaHqTk"
      }
    },
    {
      "cell_type": "code",
      "source": [
        "X = np.array([[1, 1, 1], [1, 0, -1], [0, 2, 2], [-2, -2, -2]])\n",
        "print('X = ')\n",
        "print(X, X.shape)"
      ],
      "metadata": {
        "id": "VCG-I4OAH8lE"
      },
      "execution_count": null,
      "outputs": []
    },
    {
      "cell_type": "markdown",
      "source": [
        "(1) `X` が上の説明の行列 $X$ を表していると考えると，$N, D$ はそれぞれいくつか答えなさい．"
      ],
      "metadata": {
        "id": "xTnJ5qbIItNn"
      }
    },
    {
      "cell_type": "markdown",
      "source": [
        "(2) 次のセルの1行目を修正して，`W` の1**行**目が `A` の最大固有値に対応した固有ベクトルに，2**行**目が `A` の2番目に大きな固有値に対応した固有ベクトルになるようにしなさい．\n",
        "\n",
        "ヒント: 配列のスライスを使いましょう．`X[:2, :]` とか `X[:, :2]` とかの値を出力させてみたらヒントになるでしょう．"
      ],
      "metadata": {
        "id": "7ieBxqjtI6uE"
      }
    },
    {
      "cell_type": "code",
      "source": [
        "W = U\n",
        "print('W = ')\n",
        "print(W, W.shape)"
      ],
      "metadata": {
        "id": "0KrvbWvrIXqv"
      },
      "execution_count": null,
      "outputs": []
    },
    {
      "cell_type": "markdown",
      "source": [
        "(3) 次のセルの1行目を修正して，`Y` が式(M2)で表されるものになるようにしなさい．\n",
        "次のようになるはずです．\n",
        "\n",
        "```\n",
        "Y = \n",
        "[[-1.38606979 -0.87366507]\n",
        " [-0.7885154   1.16663307]\n",
        " [-1.23980944 -2.53977196]\n",
        " [ 2.77213957  1.74733013]] (4, 2)\n",
        " ```"
      ],
      "metadata": {
        "id": "I0M9BaxiKa2o"
      }
    },
    {
      "cell_type": "code",
      "source": [
        "Y = X\n",
        "print('Y = ')\n",
        "print(Y, Y.shape)"
      ],
      "metadata": {
        "id": "OCS9Oe6qJpoC"
      },
      "execution_count": null,
      "outputs": []
    },
    {
      "cell_type": "markdown",
      "source": [
        "### データの平均を0にする，分散共分散行列を求める"
      ],
      "metadata": {
        "id": "YoH3upkCLvjs"
      }
    },
    {
      "cell_type": "markdown",
      "source": [
        "データから分散共分散行列を求める過程を考えましょう．\n",
        "\n",
        "上で説明してきたデータに対して，分散共分散行列 $V$は，その $(i,j)$ 要素 $V_{i,j}$ が\n",
        "\n",
        "$$\n",
        "V_{i,j} = \\frac{1}{N}\\sum_{n=1}^{N}(x_{n,i}-\\bar{x}_{n,i})(x_{n,j}-\\bar{x}_{n,j})  \\qquad (i, j = 1, 2, \\ldots, D)\n",
        "$$\n",
        "\n",
        "となるような $D\\times D$ 行列ですが，$\\frac{1}{N}\\sum_{n=1}^{N}\\mathbf{x}_{n} = \\mathbf{0}$ である，つまりデータの平均が $\\mathbf{0}$ である場合には，\n",
        "\n",
        "$$\n",
        "V_{i,j} = \\frac{1}{N}\\sum_{n=1}^{N}x_{n,i}x_{n,j}  \\qquad (i, j = 1, 2, \\ldots, D)\n",
        "$$\n",
        "\n",
        "で計算することができます．\n"
      ],
      "metadata": {
        "id": "ykAxr46vOT7j"
      }
    },
    {
      "cell_type": "markdown",
      "source": [
        "上で説明してきたようにデータが $N \\times D$ 行列 $X$ に格納されている場合，$1\\times D$ 行列 $\\mathbf{x}_n = \\begin{pmatrix}\n",
        "x_{n,1} & x_{n,2} & \\cdots & x_{n,D}\n",
        "\\end{pmatrix}\n",
        "$\n",
        "として，次式のように表せます．\n",
        "\n",
        "$$\n",
        "X =\n",
        "\\begin{pmatrix}\n",
        "x_{1, 1} & x_{1, 2} & x_{1, 3}\\\\\n",
        "x_{2, 1} & x_{2, 2} & x_{2, 3}\\\\\n",
        "\\vdots & \\vdots & \\vdots\\\\\n",
        "x_{N, 1} & x_{N, 2} & x_{N, 3}\\\\\n",
        "\\end{pmatrix}\n",
        "=\n",
        "\\begin{pmatrix}\n",
        "\\mathbf{x}_{1}\\\\\n",
        "\\mathbf{x}_{2}\\\\\n",
        "\\vdots\\\\\n",
        "\\mathbf{x}_{N}\n",
        "\\end{pmatrix}\n",
        "$$\n",
        "\n",
        "このとき，\n",
        "\n",
        "$$\n",
        "X^{\\top}X =\n",
        "\\begin{pmatrix}\n",
        "\\mathbf{x}_{1}^{\\top} &\n",
        "\\mathbf{x}_{2}^{\\top} &\n",
        "\\cdots &\n",
        "\\mathbf{x}_{N}^{\\top}\n",
        "\\end{pmatrix}\n",
        "\\begin{pmatrix}\n",
        "\\mathbf{x}_{1}\\\\\n",
        "\\mathbf{x}_{2}\\\\\n",
        "\\vdots\\\\\n",
        "\\mathbf{x}_{N}\n",
        "\\end{pmatrix}\n",
        "=\n",
        "\\sum_{n=1}^{N}\\mathbf{x}_{n}^{\\top}\\mathbf{x}_{n}\n",
        "$$\n",
        "\n",
        "の $(i,j)$ 要素は\n",
        "\n",
        "$$\n",
        "\\sum_{n=1}^{N}x_{n,i}x_{n,j}  \\qquad (i, j = 1, 2, \\ldots, D)\n",
        "$$\n",
        "\n",
        "となっています．\n",
        "したがって，$N \\times D$ 行列 $X$ に格納されている，平均が $\\mathbf{0}$ のデータの分散共分散行列 $V$ は，$V = \\frac{1}{N}X^{\\top}X$ と表せます．\n",
        "\n"
      ],
      "metadata": {
        "id": "leJpCmXWQByi"
      }
    },
    {
      "cell_type": "markdown",
      "source": [
        "#### 問題3"
      ],
      "metadata": {
        "id": "4xT-TsZvTGhu"
      }
    },
    {
      "cell_type": "markdown",
      "source": [
        "実際のデータから分散共分散行列を求めてみましょう．"
      ],
      "metadata": {
        "id": "gqTz8FPsSbj0"
      }
    },
    {
      "cell_type": "code",
      "source": [
        "# 国数英\n",
        "dfJME = pd.read_csv('https://www-tlab.math.ryukoku.ac.jp/~takataka/course/MVA/jme.txt', delimiter=' ', header=None)\n",
        "dfJME.rename(columns={0:'国語', 1:'数学', 2:'英語'}, inplace=True)\n",
        "dfJME.head(5)"
      ],
      "metadata": {
        "id": "zB-wSpoWMM6S"
      },
      "execution_count": null,
      "outputs": []
    },
    {
      "cell_type": "code",
      "source": [
        "Xorg = dfJME.to_numpy()\n",
        "print(Xorg)\n",
        "N, D = Xorg.shape  # Xorg の行数が N に，列数が D に代入される\n",
        "print(f'N = {N}, D = {D}')"
      ],
      "metadata": {
        "id": "PpwlnG3lSkel"
      },
      "execution_count": null,
      "outputs": []
    },
    {
      "cell_type": "markdown",
      "source": [
        "(1) 次のセルに，`np.mean` を使って `Xorg` の列ごとの平均を求めてそれを変数 `Xm` に代入し，その値を表示するコードを書きなさい（ヒント: `axis`オプションを使う）．\n",
        "こうなるはず．\n",
        "```\n",
        "[58.13  61.8  67.3]\n",
        "```"
      ],
      "metadata": {
        "id": "HqsYd57-TWiH"
      }
    },
    {
      "cell_type": "code",
      "source": [
        "\n"
      ],
      "metadata": {
        "id": "8ZYxuGbZS-e3"
      },
      "execution_count": null,
      "outputs": []
    },
    {
      "cell_type": "markdown",
      "source": [
        "(2) 次のセルに，`Xorg` から `Xm` を引いたものを `X` に代入し，その値を表示するコードを書きなさい．"
      ],
      "metadata": {
        "id": "2h67GCZeUNZq"
      }
    },
    {
      "cell_type": "code",
      "source": [
        "\n"
      ],
      "metadata": {
        "id": "ptbJtPqGT-oX"
      },
      "execution_count": null,
      "outputs": []
    },
    {
      "cell_type": "markdown",
      "source": [
        "(3) 次のセルに，`Xorg` に格納されていたデータの分散共分散行列を求めて `V` に代入するコードを書きなさい．`X` と `N` を使うこと．\n",
        "\n",
        "こうなるはず：\n",
        "- 国語，数学，英語の分散はそれぞれ 60.45, 68.5, 53.6\n",
        "- 数学と英語の共分散は 50.9，国語と英語の共分散は 46.3，国語と数学の共分散は 33.6"
      ],
      "metadata": {
        "id": "jchTbBUqVN5I"
      }
    },
    {
      "cell_type": "code",
      "source": [
        "\n"
      ],
      "metadata": {
        "id": "zPzKGQDMUtNK"
      },
      "execution_count": null,
      "outputs": []
    },
    {
      "cell_type": "markdown",
      "source": [
        "### 固有値・固有ベクトルを求める，次元削減する\n",
        "\n"
      ],
      "metadata": {
        "id": "EiRM0QXa5z6D"
      }
    },
    {
      "cell_type": "markdown",
      "source": [
        "#### 問題4\n",
        "\n",
        "上のデータを主成分分析によって2次元にする次元削減をやってみましょう．\n"
      ],
      "metadata": {
        "id": "HbZGgICNXD4r"
      }
    },
    {
      "cell_type": "markdown",
      "source": [
        "(1) 次のセルに，問題3で求めた `V` を使ってその固有値・固有ベクトルを求め，それらの値を表示するコードを書きなさい．"
      ],
      "metadata": {
        "id": "Xf2Ui9rMXGPz"
      }
    },
    {
      "cell_type": "code",
      "source": [
        "\n"
      ],
      "metadata": {
        "id": "LL4ogbPsWyv_"
      },
      "execution_count": null,
      "outputs": []
    },
    {
      "cell_type": "markdown",
      "source": [
        "(2) 次のセルに，`X` に格納されたデータを2次元に次元削減する（第1，第2主成分スコアを求める）コードを書きなさい．\n",
        "ただし，次の指示にしたがうこと\n",
        "- `V` の固有ベクトルのうち大きい方から2つを0行目と1行目に並べたものを `W` としなさい\n",
        "- `W` を使って `X` を変換したものを `Y` としなさい"
      ],
      "metadata": {
        "id": "Sr-vd3mKXXpD"
      }
    },
    {
      "cell_type": "code",
      "source": [
        "\n"
      ],
      "metadata": {
        "id": "Puu7S7ZqX61k"
      },
      "execution_count": null,
      "outputs": []
    },
    {
      "cell_type": "markdown",
      "source": [
        "`Y` の最初の行と最後の行はこんなんなるでしょう．\n",
        "```\n",
        "[ 16.31671919   0.44369665]\n",
        "[ -7.49938384  10.01579253]\n",
        "```"
      ],
      "metadata": {
        "id": "a9evvyUrYILd"
      }
    },
    {
      "cell_type": "markdown",
      "source": [
        "### 主成分分析の結果を解釈する\n",
        "\n",
        "主成分分析の結果をどのように分析するか，については次回説明しますが，ここでその初歩を少しだけ．"
      ],
      "metadata": {
        "id": "0HV-UMpqZMNW"
      }
    },
    {
      "cell_type": "markdown",
      "source": [
        "#### 問題5\n",
        "\n",
        "次のようなデータをでっち上げて考えてみましょう．"
      ],
      "metadata": {
        "id": "BqginQ-wZ_BF"
      }
    },
    {
      "cell_type": "code",
      "source": [
        "X2 = np.array([[  0,   0,   0], # 3科目とも平均点のひと\n",
        "               [ 10,  10,  10], # 3科目とも平均より10点上だったひと\n",
        "               [ 20,  20,  20], # 3科目とも平均より20点上だったひと\n",
        "               [-10, -10, -10], # 3科目とも平均より10点下だったひと\n",
        "               [ 10,  10,   0], # 国語数学が等しく平均より上だったひと\n",
        "               [ 10, -10,   0], # 国語が平均より上で数学が平均より下\n",
        "               [-10,  10,   0], # 国語が平均より下で数学が平均より上\n",
        "               [-20,   0,   0], # 国語が平均より下で苦手で数学，英語は平均\n",
        "])"
      ],
      "metadata": {
        "id": "u2quybfnaaGq"
      },
      "execution_count": null,
      "outputs": []
    },
    {
      "cell_type": "markdown",
      "source": [
        "(1) 次のセルに，問題3の `W` を使って `X2` を 2次元に変換したものを求め，その値を表示するコードを書きなさい．変換したものは `Y2` という変数に代入することにしよう．"
      ],
      "metadata": {
        "id": "MLALHoTScCHF"
      }
    },
    {
      "cell_type": "code",
      "source": [
        "\n"
      ],
      "metadata": {
        "id": "yOGgfUTaaqRi"
      },
      "execution_count": null,
      "outputs": []
    },
    {
      "cell_type": "markdown",
      "source": [
        "`X2` と `Y2` を見比べると，次のようなことが分かります．\n",
        "- 3科目とも平均点のひとの主成分スコアは $(\\mbox{第1主成分スコア}, \\mbox{第2主成分スコア} ) = (0, 0)$ となっている\n",
        "- 3科目どれも平均より上のひとの第1主成分スコアは負，3科目とも平均より下のひとは正\n",
        "- 国語と数学で国語の方がよいひとは第2主成分スコアが正，逆のひとは第2主成分スコアが負\n",
        "\n",
        "このような結果が得られることは，`W` の要素からも推測できます．"
      ],
      "metadata": {
        "id": "b-Bre81Ecbqy"
      }
    },
    {
      "cell_type": "code",
      "source": [
        "print(W)"
      ],
      "metadata": {
        "id": "GanyF2nnauCI"
      },
      "execution_count": null,
      "outputs": []
    },
    {
      "cell_type": "markdown",
      "source": [
        "`W`の 0 行目，すなわちデータの分散共分散行列の最大固有値に対応する固有ベクトルは3つの要素がすべて負で値の大きさがほぼ同じで，おおざっぱに見ると\n",
        "\n",
        "$$\n",
        "(\\mbox{第1主成分}) = -0.5(\\mbox{国語}) -0.5(\\mbox{数学}) -0.5(\\mbox{英語}) = -0.5((\\mbox{国語})+(\\mbox{数学})+(\\mbox{英語}))\n",
        "$$\n",
        "\n",
        "となっています．このことから，第1主成分は「3科目の総合力」（ただし値が小さい方が高い）を表すと解釈できます．"
      ],
      "metadata": {
        "id": "aeUTaI96enPC"
      }
    },
    {
      "cell_type": "markdown",
      "source": [
        "一方，第2主成分については，(英語)の係数が小さく，おおざっぱには\n",
        "\n",
        "$$\n",
        "(\\mbox{第1主成分}) = 0.7(\\mbox{国語}) -0.7(\\mbox{数学}) = 0.7((\\mbox{国語})-(\\mbox{数学}))\n",
        "$$\n",
        "\n",
        "と見ることができます．したがって，第2主成分は「国語の得意度合い」（大きいほうが数学に比べて国語が得意）とでもいえそうです．最後の二人は国数の点数は異なるけれど，差は同じなので，第2主成分スコアの値はほとんど同じになっています．"
      ],
      "metadata": {
        "id": "WoVDs3mSf1Za"
      }
    },
    {
      "cell_type": "markdown",
      "source": [
        "これらのことから，ここで行った主成分分析による次元削減では，国語，数学，英語3科目の点数のデータを2つの変数で説明しようとしたら，「3科目の総合力」と「国語力」という2つが得られた，この二つがこのデータの主な成分である，という解釈をすることができます．"
      ],
      "metadata": {
        "id": "M4NnzKr0gmsu"
      }
    },
    {
      "cell_type": "code",
      "source": [],
      "metadata": {
        "id": "4fVPoh5iemEw"
      },
      "execution_count": null,
      "outputs": []
    }
  ]
}