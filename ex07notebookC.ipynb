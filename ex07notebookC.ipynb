{
  "nbformat": 4,
  "nbformat_minor": 0,
  "metadata": {
    "colab": {
      "provenance": [],
      "toc_visible": true,
      "authorship_tag": "ABX9TyPuRhuP1Y7anhWSw7593wX9",
      "include_colab_link": true
    },
    "kernelspec": {
      "name": "python3",
      "display_name": "Python 3"
    },
    "language_info": {
      "name": "python"
    }
  },
  "cells": [
    {
      "cell_type": "markdown",
      "metadata": {
        "id": "view-in-github",
        "colab_type": "text"
      },
      "source": [
        "<a href=\"https://colab.research.google.com/github/takatakamanbou/MVA/blob/2023/ex07notebookC.ipynb\" target=\"_parent\"><img src=\"https://colab.research.google.com/assets/colab-badge.svg\" alt=\"Open In Colab\"/></a>"
      ]
    },
    {
      "cell_type": "markdown",
      "source": [
        "# MVA2023 ex07notebookC\n",
        "\n",
        "<img width=64 src=\"https://www-tlab.math.ryukoku.ac.jp/~takataka/course/MVA/MVA-logo.png\"> https://www-tlab.math.ryukoku.ac.jp/wiki/?MVA/2023"
      ],
      "metadata": {
        "id": "P4preLw7SzqH"
      }
    },
    {
      "cell_type": "code",
      "metadata": {
        "id": "I226xIKJbqtM"
      },
      "source": [
        "# 必要なパッケージのインポート\n",
        "import numpy as np\n",
        "import matplotlib.pyplot as plt\n",
        "import pandas as pd\n",
        "import seaborn\n",
        "seaborn.set()\n",
        "\n",
        "from scipy.stats import multivariate_normal"
      ],
      "execution_count": null,
      "outputs": []
    },
    {
      "cell_type": "markdown",
      "source": [
        "----\n",
        "## データを観察しよう\n",
        "\n"
      ],
      "metadata": {
        "id": "zDtnBWKha6vx"
      }
    },
    {
      "cell_type": "markdown",
      "source": [
        "### データの準備"
      ],
      "metadata": {
        "id": "7g6sZ-PQ_3kN"
      }
    },
    {
      "cell_type": "code",
      "source": [
        "##### CSV ファイルを読み込む #####\n",
        "URL = 'https://www-tlab.math.ryukoku.ac.jp/~takataka/course/MVA/MVA2022-Q07vsExam1110.csv'\n",
        "df = pd.read_csv(URL)\n",
        "X = df.to_numpy()\n",
        "N, D = X.shape\n",
        "print(f'N = {N}, D = {D}')\n",
        "df.head(5) # 最初の5行を表示"
      ],
      "metadata": {
        "id": "7cmvd60S4Nx9"
      },
      "execution_count": null,
      "outputs": []
    },
    {
      "cell_type": "markdown",
      "source": [
        "これは，2022年度のこの授業の受講者の，前半7回のQuizの得点率と，小テストの得点率のデータです．2022年度は，第8回に小テストを実施しました．"
      ],
      "metadata": {
        "id": "GK7s9pgP_-Cn"
      }
    },
    {
      "cell_type": "markdown",
      "source": [
        "### 各種統計量を求めてみる"
      ],
      "metadata": {
        "id": "9R8X-nGqAhUw"
      }
    },
    {
      "cell_type": "markdown",
      "source": [
        "次のセルに，`X` の行方向の平均を求めて print するコードを書きなさい．2つの得点率の平均はそれぞれいくつですか．"
      ],
      "metadata": {
        "id": "uZSYUV8YAqKm"
      }
    },
    {
      "cell_type": "code",
      "source": [],
      "metadata": {
        "id": "NE38m8i3A06p"
      },
      "execution_count": null,
      "outputs": []
    },
    {
      "cell_type": "markdown",
      "source": [
        "次のセルに，`X` の行方向の分散を求めて print するコードを書きなさい．`np.var` を使うのが簡単です（使い方は `np.mean` と同じ）．\n"
      ],
      "metadata": {
        "id": "PBwYCdvhBB0D"
      }
    },
    {
      "cell_type": "code",
      "source": [],
      "metadata": {
        "id": "hu5jgxTp7W9K"
      },
      "execution_count": null,
      "outputs": []
    },
    {
      "cell_type": "markdown",
      "source": [
        "次のセルに，`X` に格納されたデータの分散共分散行列を求めてその値を `V` という変数に格納し，print するコードを書きなさい．`np.mean` 以外の関数は使ってはいけません．\n",
        "2つの変数の分散の値を見ると，どちらの得点率の方がばらつきが大きいですか．"
      ],
      "metadata": {
        "id": "5sO_Dsn6Bjdc"
      }
    },
    {
      "cell_type": "code",
      "source": [
        "\n",
        "\n"
      ],
      "metadata": {
        "id": "jlHEvGqn8O3V"
      },
      "execution_count": null,
      "outputs": []
    },
    {
      "cell_type": "markdown",
      "source": [
        "次のセルを実行すると，↑の検算ができます．"
      ],
      "metadata": {
        "id": "aYL2Te2IB7aS"
      }
    },
    {
      "cell_type": "code",
      "source": [
        "np.cov(X.T, ddof=0)"
      ],
      "metadata": {
        "id": "wNB-ys38B4YI"
      },
      "execution_count": null,
      "outputs": []
    },
    {
      "cell_type": "markdown",
      "source": [
        "`V` の値を使って，2つの変数間の相関係数の値を求めましょう．\n",
        "\n",
        "$$\n",
        "\\rho_{xy} = \\frac{\\sigma_{xy}}{\\sigma_x\\sigma_y}\n",
        "$$\n",
        "\n",
        "ですので，次のように計算できます．"
      ],
      "metadata": {
        "id": "kuvwxWJYCskI"
      }
    },
    {
      "cell_type": "code",
      "source": [
        "V[0, 1] / np.sqrt(V[0, 0]*V[1, 1])"
      ],
      "metadata": {
        "id": "YSj2NVl98szE"
      },
      "execution_count": null,
      "outputs": []
    },
    {
      "cell_type": "markdown",
      "source": [
        "相関係数を求める関数を使って検算しておきます．"
      ],
      "metadata": {
        "id": "_ageHqrmCRCo"
      }
    },
    {
      "cell_type": "code",
      "source": [
        "print(np.corrcoef(X.T))"
      ],
      "metadata": {
        "id": "QafLrlbq7dT0"
      },
      "execution_count": null,
      "outputs": []
    },
    {
      "cell_type": "markdown",
      "source": [
        "相関係数の値からは，2つの変数の間にどのような関係があると言えますか．"
      ],
      "metadata": {
        "id": "k25SGSEDDWD6"
      }
    },
    {
      "cell_type": "markdown",
      "source": [
        "### 分布を眺める"
      ],
      "metadata": {
        "id": "q4SMBMB9AlG1"
      }
    },
    {
      "cell_type": "markdown",
      "source": [
        "まずは2つの変数それぞれのヒストグラム．\n",
        "各種統計量の値から推測できるデータの傾向が実際に見られるかどうか考えなさい．"
      ],
      "metadata": {
        "id": "Fyaz_csFDq62"
      }
    },
    {
      "cell_type": "code",
      "source": [
        "fig, ax = plt.subplots(1, 2, figsize=(9, 3))\n",
        "ax[0].hist(X[:, 0], bins=np.linspace(0, 1, 11))\n",
        "ax[0].set_ylim(0, 30)\n",
        "ax[0].set_title('Quiz Zenhan')\n",
        "ax[1].hist(X[:, 1], bins=np.linspace(0, 1, 11))\n",
        "ax[1].set_ylim(0, 30)\n",
        "ax[1].set_title('Exam1110')\n",
        "plt.show()"
      ],
      "metadata": {
        "id": "QlIIocBa5NXV"
      },
      "execution_count": null,
      "outputs": []
    },
    {
      "cell_type": "markdown",
      "source": [
        "次は散布図です．各種統計量の値から推測できるデータの傾向が実際に見られるかどうか考えなさい．"
      ],
      "metadata": {
        "id": "MGJFnoRu8Ge_"
      }
    },
    {
      "cell_type": "code",
      "source": [
        "fig, ax = plt.subplots(1, figsize=(6, 6))\n",
        "ax.scatter(X[:, 0], X[:, 1])\n",
        "ax.set_xlim(0, 1)\n",
        "ax.set_ylim(0, 1)\n",
        "ax.set_xlabel('Quiz Zenhan')\n",
        "ax.set_ylabel('Exam1110')\n",
        "ax.set_aspect('equal')\n",
        "plt.show()"
      ],
      "metadata": {
        "id": "pZR5MekBEY28"
      },
      "execution_count": null,
      "outputs": []
    },
    {
      "cell_type": "markdown",
      "source": [
        "### 多次元正規分布を当てはめてみる"
      ],
      "metadata": {
        "id": "OJRc6_fUG3Iq"
      }
    },
    {
      "cell_type": "markdown",
      "source": [
        "このデータに2次元の正規分布を当てはめてみると，次のようになります（当てはめの方法については次回解説します）．"
      ],
      "metadata": {
        "id": "KpP8XFP-G-u6"
      }
    },
    {
      "cell_type": "code",
      "source": [
        "# 平均と分散を推定\n",
        "mu_est  = np.mean(X, axis=0)\n",
        "XX = X - mu_est\n",
        "cov_est = XX.T @ XX / N\n",
        "\n",
        "# 散布図\n",
        "fig, ax = plt.subplots(figsize=(8, 8))\n",
        "ax.scatter(X[:, 0], X[:, 1])\n",
        "xmin, xmax = 0, 1.3\n",
        "ymin, ymax = 0, 1.3\n",
        "\n",
        "# 推定された正規分布\n",
        "xx, yy = np.mgrid[xmin:xmax:0.01, ymin:ymax:0.01]\n",
        "zz = multivariate_normal.pdf(np.dstack((xx, yy)), mu_est ,cov_est)\n",
        "CS = ax.contour(xx, yy, zz, linewidths=3, colors=['#ffa0a0', '#ff5050', '#ff0000'], levels=[0.2, 1.0, 5.0])\n",
        "CS.collections[-1].set_label('estimated')\n",
        "\n",
        "ax.set_xlim(xmin, xmax)\n",
        "ax.set_ylim(ymin, ymax)\n",
        "ax.set_aspect('equal')\n",
        "plt.show()\n",
        "\n",
        "print(f'N = {N}')\n",
        "print(f'推定された平均: {mu_est}')\n",
        "print('推定された分散共分散行列')\n",
        "print(cov_est)\n"
      ],
      "metadata": {
        "id": "16mJYWCjEyLO"
      },
      "execution_count": null,
      "outputs": []
    },
    {
      "cell_type": "markdown",
      "source": [
        "※ 注意\n",
        "\n",
        "2つの得点率は，いずれも 0 以上 1 以下の値しか取りません．一方，正規分布に従う確率変数は，任意の実数値を取り得ます．この例のように，有限の範囲にしか分布しないデータに正規分布を当てはめるのは，厳密なことを言うと正しいことではありません．"
      ],
      "metadata": {
        "id": "C0X7wExjIaUo"
      }
    },
    {
      "cell_type": "code",
      "source": [],
      "metadata": {
        "id": "Dz15oZSTHqfg"
      },
      "execution_count": null,
      "outputs": []
    }
  ]
}