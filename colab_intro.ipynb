{
  "nbformat": 4,
  "nbformat_minor": 0,
  "metadata": {
    "colab": {
      "provenance": [],
      "collapsed_sections": [],
      "authorship_tag": "ABX9TyPNi0wMurFhgxo+NpNav0It",
      "include_colab_link": true
    },
    "kernelspec": {
      "name": "python3",
      "display_name": "Python 3"
    }
  },
  "cells": [
    {
      "cell_type": "markdown",
      "metadata": {
        "id": "view-in-github",
        "colab_type": "text"
      },
      "source": [
        "<a href=\"https://colab.research.google.com/github/takatakamanbou/MVA/blob/2022/colab_intro.ipynb\" target=\"_parent\"><img src=\"https://colab.research.google.com/assets/colab-badge.svg\" alt=\"Open In Colab\"/></a>"
      ]
    },
    {
      "cell_type": "markdown",
      "metadata": {
        "id": "2UzDNLmVS3po"
      },
      "source": [
        "# はじめての Google Colab\n",
        "\n",
        "by [takataka](https://www-tlab.math.ryukoku.ac.jp/wiki/)"
      ]
    },
    {
      "cell_type": "markdown",
      "metadata": {
        "id": "J8jbpBnhc4Sn"
      },
      "source": [
        "## これは何？"
      ]
    },
    {
      "cell_type": "markdown",
      "metadata": {
        "id": "--GIYpCHc7Bh"
      },
      "source": [
        "Google が提供している Google Colaboratory（以下 Google Colab) というサービスを利用して作成した文書です．Colab Notebook と呼ばれたりします．文書の中に Python というプログラミング言語のプログラムを埋め込んでおき，\n",
        "クラウド上に仮想的に構築されたコンピュータ上でそれを実行させることができます．\n"
      ]
    },
    {
      "cell_type": "markdown",
      "metadata": {
        "id": "9lAkVDbFJwOd"
      },
      "source": [
        "## この notebook のコピーをつくる\n"
      ]
    },
    {
      "cell_type": "markdown",
      "metadata": {
        "id": "VTUve12kJ6UD"
      },
      "source": [
        "\n",
        "**まずはじめに，上部のメニューで 「ファイル」 > 「ドライブにコピーを保存」 を選択して，この notebook を自分用にコピーしましょう．**\n",
        "ブラウザのタブが開いて，「colab_intro.ipynb のコピー」という名前の notebook が開いて，そちらへ移るはずです．\n",
        "\n",
        "**コピーの方でこの文章読めてたら，そのまま↓へ進みましょう．**"
      ]
    },
    {
      "cell_type": "markdown",
      "metadata": {
        "id": "HVIellLoyNYR"
      },
      "source": [
        "## やってみよう\n"
      ]
    },
    {
      "cell_type": "markdown",
      "metadata": {
        "id": "ftdqDazUyRZD"
      },
      "source": [
        "\n",
        "↓の箱（セルと呼びます）をクリックして，Shift+Enterを押す（シフトキーを押しながらエンターキーを押す）か，左端の再生ボタンみたいなのを押すかしてみましょう．"
      ]
    },
    {
      "cell_type": "code",
      "metadata": {
        "id": "8AsXHZz6tBoC"
      },
      "source": [
        "x = 4649\n",
        "y = 1\n",
        "print(x+y)"
      ],
      "execution_count": null,
      "outputs": []
    },
    {
      "cell_type": "markdown",
      "metadata": {
        "id": "LyeN_5YvtI97"
      },
      "source": [
        "↑ができたら，今度は上記の `y = 1` を `y = 1314` に書き換えてから実行（Shift+Enter）してみよう．"
      ]
    },
    {
      "cell_type": "markdown",
      "metadata": {
        "id": "eoUYexvYtcfN"
      },
      "source": [
        "上記のようにプログラムのコードが書かれていて実行できるセルとは別に，このセルのように，テキストで説明文などが記されたセルもあります．\n",
        "\n",
        "このセルをダブルクリックすると編集できるので，適当にいじってから Shift+Enter してみよう．\n",
        "\n",
        "ほげほげほげほげ"
      ]
    },
    {
      "cell_type": "markdown",
      "metadata": {
        "id": "aHiEmV3dyWbR"
      },
      "source": [
        "## ノートブックの保存や編集・実行に関するあれこれ"
      ]
    },
    {
      "cell_type": "markdown",
      "metadata": {
        "id": "E25jm84Ou_-r"
      },
      "source": [
        "- コードセルを実行したりテキストセルをいじったりした結果は，保存しておくことができます．\n",
        "メニューの「ファイル」 > 「保存」\n",
        "- 「ファイル」 > 「ドライブにコピーを保存」 のデフォルトの保存先は，Google Drive の「マイドライブ」 > 「Colab Notebooks」 です． https://drive.google.com/drive/my-drive からたどれます．\n",
        "- 自分でセルを追加することもできます．セルとセルの間に出てくる\n",
        "「+コード」，「+テキスト」というボタンを押すか，上部のメニューの「挿入」から．\n",
        "- コードセルを実行したら止まらなくなった，というときは，セルの左端の再生ボタンみたいなのが停止ボタンみたいになってるのを押せば停止させられます．\n",
        "- コードセルは，上から順に実行しないとエラーになったりおかしなふるまいをしたりすることがあります．\n",
        "わけがわからなくなったときは，メニューで「ランライム」 > 「ランタイムを再起動」 するとよいでしょう．\n"
      ]
    },
    {
      "cell_type": "markdown",
      "metadata": {
        "id": "mQ4cHdqyv2nk"
      },
      "source": [
        "## おわりに\n",
        "以下のセルを実行してみよう．`y` の値を `-1720` に修正して再実行して，最後に出力される4桁の数をメモしておこう．\n"
      ]
    },
    {
      "cell_type": "code",
      "metadata": {
        "id": "6EYnvIOJgpHc"
      },
      "source": [
        "n = 0\n",
        "for i in range(9):\n",
        "    n = n*10 + 1\n",
        "    print(f'{n} の2乗は {n*n}')\n",
        "print()\n",
        "\n",
        "x = 4649\n",
        "y = 1314 #  -1720 に修正してから実行してみよう\n",
        "print(x+y)"
      ],
      "execution_count": null,
      "outputs": []
    },
    {
      "cell_type": "code",
      "metadata": {
        "id": "v8-iBdycwMqF"
      },
      "source": [],
      "execution_count": null,
      "outputs": []
    }
  ]
}