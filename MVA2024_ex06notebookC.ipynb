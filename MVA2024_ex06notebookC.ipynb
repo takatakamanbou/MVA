{
  "nbformat": 4,
  "nbformat_minor": 0,
  "metadata": {
    "colab": {
      "provenance": [],
      "toc_visible": true,
      "authorship_tag": "ABX9TyMNZAsO/dHdQC/8/W2emIGx",
      "include_colab_link": true
    },
    "kernelspec": {
      "name": "python3",
      "display_name": "Python 3"
    },
    "language_info": {
      "name": "python"
    }
  },
  "cells": [
    {
      "cell_type": "markdown",
      "metadata": {
        "id": "view-in-github",
        "colab_type": "text"
      },
      "source": [
        "<a href=\"https://colab.research.google.com/github/takatakamanbou/MVA/blob/main/MVA2024_ex06notebookC.ipynb\" target=\"_parent\"><img src=\"https://colab.research.google.com/assets/colab-badge.svg\" alt=\"Open In Colab\"/></a>"
      ]
    },
    {
      "cell_type": "markdown",
      "source": [
        "# MVA2024 ex06notebookC\n",
        "\n",
        "<img width=64 src=\"https://www-tlab.math.ryukoku.ac.jp/~takataka/course/MVA/MVA-logo.png\"> https://www-tlab.math.ryukoku.ac.jp/wiki/?MVA/2024"
      ],
      "metadata": {
        "id": "P4preLw7SzqH"
      }
    },
    {
      "cell_type": "markdown",
      "source": [
        "----\n",
        "## 線形代数の復習(2)\n",
        "----"
      ],
      "metadata": {
        "id": "3wo9BeIuqjgf"
      }
    },
    {
      "cell_type": "markdown",
      "source": [
        "前回に引き続き，少しだけ線形代数の復習をしましょう．NumPy で計算するコードもありますが，検算のためのものです．コードの詳細の理解は求めていません．"
      ],
      "metadata": {
        "id": "CoyJEQi_uDEa"
      }
    },
    {
      "cell_type": "markdown",
      "source": [
        "---\n",
        "### 準備"
      ],
      "metadata": {
        "id": "JB1bfZL7V5DV"
      }
    },
    {
      "cell_type": "code",
      "source": [
        "import pandas as pd\n",
        "import numpy as np\n",
        "import matplotlib.pyplot as plt\n",
        "import seaborn\n",
        "seaborn.set()"
      ],
      "metadata": {
        "id": "VzUhJWKfva1m"
      },
      "execution_count": null,
      "outputs": []
    },
    {
      "cell_type": "markdown",
      "source": [
        "---\n",
        "### 固有値と固有ベクトル"
      ],
      "metadata": {
        "id": "D_Rc8zMGXLVW"
      }
    },
    {
      "cell_type": "markdown",
      "source": [
        "固有値と固有ベクトルの定義は，次のようなものでした．\n",
        "\n",
        "---\n",
        "\n",
        "正方行列 $A$ に対して，\n",
        "\n",
        "$$\n",
        "A\\pmb{u} = \\lambda\\pmb{u} \\qquad (1)\n",
        "$$\n",
        "\n",
        "を満たす $\\pmb{0}$ でないベクトル $\\pmb{u}$ とスカラ $\\lambda$ が存在するとき，$\\lambda$ を $A$ の固有値といい，$\\pmb{u}$ を $A$ の固有ベクトルという．\n",
        "\n",
        "---\n",
        "\n",
        "式$(1)$は， $A\\pmb{u} - \\lambda\\pmb{u} = A\\pmb{u} - \\lambda I\\pmb{u} = (A - \\lambda I)\\pmb{u} = \\pmb{0}$ と変形できます．\n",
        "ここで，$A - \\lambda I$ が逆行列を持てば，それを左から掛けて $\\pmb{u} = \\pmb{0}$ が成り立つので，$\\pmb{u} \\ne \\pmb{0}$ となる $\\pmb{u}$ は存在しません．これは条件に反しますので，$A - \\lambda I$ には逆行列が存在してはなりません．したがって，$\\lambda$ が $A$ の固有値である $\\Leftrightarrow$ $A - \\lambda I$ の逆行列が存在しない   $\\Leftrightarrow$ $|A - \\lambda I| = 0$ が成り立ちます．$A$ が $D$ 次正方行列のとき，$|A - \\lambda I| = 0$ は $\\lambda$ の $D$ 次方程式ですので，$D$ 次正方行列は（重解を含めて）$D$ 個の固有値を持ちます．\n",
        "\n",
        "また，$\\pmb{u}$ が $A$ の固有ベクトルであるとき，$c$ を $0$ でない実数として $\\pmb{u}' = c\\pmb{u}$ とおくと，$A \\left( \\frac{1}{c}\\pmb{u}' \\right) = \\lambda\\frac{1}{c}\\pmb{u}'$ より $ A\\pmb{u}' = \\lambda\\pmb{u}'$ が成り立つので，$\\pmb{u}$ を $c$ 倍した $\\pmb{u}'$ もまた $A$ の固有ベクトルです．定数倍したものもまた固有ベクトルであるということは，固有ベクトルはその向きだけが重要で，そのノルムは，$0$ でさえなければいくつでも構わないということになります．そのため，数値計算ソフトウェアの多くは，単位固有ベクトル（ノルムが1の固有ベクトル）を求めるようにできています．\n",
        "\n",
        "固有値と固有ベクトルについては，理解しておいてほしい重要な事柄がたくさんありますが，ここではほぼ全部省略します．線形代数の教科書などで復習してください．"
      ],
      "metadata": {
        "id": "VyINOYs2Xv8n"
      }
    },
    {
      "cell_type": "markdown",
      "source": [
        "**例題1**\n",
        "\n",
        "次の行列 $A$ の固有値と固有ベクトルを求めなさい．\n",
        "\n",
        "$$\n",
        "A =\n",
        "\\begin{pmatrix}\n",
        "3 & -\\frac{1}{\\sqrt{3}}\\\\\n",
        "0 & 2\n",
        "\\end{pmatrix}\n",
        "$$"
      ],
      "metadata": {
        "id": "G8r8WnpYk1FE"
      }
    },
    {
      "cell_type": "markdown",
      "source": [
        "（以下では $|A - \\lambda I| = 0$ を解いて固有値を求めますが，他にもいろいろな求め方があります）\n",
        "\n",
        "$A$ の固有値を $\\lambda$，対応する固有ベクトルを $\\begin{pmatrix} u_1 \\\\ u_2 \\end{pmatrix}$ とおく．\n",
        "\n",
        "$$\n",
        "|A - \\lambda I|\n",
        "=\n",
        "\\begin{vmatrix}\n",
        "3 - \\lambda & -\\frac{1}{\\sqrt{3}} \\\\\n",
        "0 & 2 - \\lambda\n",
        "\\end{vmatrix}\n",
        "=\n",
        "(\\lambda - 3)(\\lambda - 2) = 0\n",
        "$$\n",
        "\n",
        "を解いて，$\\lambda = 2, 3$．\n",
        "\n",
        "\n",
        "$\\lambda = 2$ のとき，\n",
        "\n",
        "$$\n",
        "\\begin{pmatrix}\n",
        "3 & -\\frac{1}{\\sqrt{3}}\\\\\n",
        "0 & 2\n",
        "\\end{pmatrix}\\begin{pmatrix} u_1 \\\\  u_2\\end{pmatrix} = 3\\begin{pmatrix} u_1 \\\\  u_2\\end{pmatrix}\n",
        "$$\n",
        "\n",
        "を整理すると，$u_2 = \\sqrt{3}u_1$ が得られる．したがって，$\\lambda = 2$ に対応する固有ベクトルは，$c_1$ を $0$ でない実数として，$c_1\\begin{pmatrix} 1 \\\\ \\sqrt{3} \\end{pmatrix}$ と表せる．単位固有ベクトルを求めると，$\\begin{pmatrix} \\frac{1}{2} \\\\ \\frac{\\sqrt{3}}{2}\\end{pmatrix}$ または $\\begin{pmatrix} -\\frac{1}{2} \\\\ -\\frac{\\sqrt{3}}{2} \\end{pmatrix}$ となる．\n",
        "\n",
        "同様に，$\\lambda = 3$ のとき，$u_1$ は $0$ でない任意の実数，$u_2 = 0$ となる．したがって，$\\lambda = 3$ に対応する固有ベクトルは，$c_2$ を $0$ でない実数として，$c_2\\begin{pmatrix} 1 \\\\ 0 \\end{pmatrix}$ と表せる．単位固有ベクトルは  $\\begin{pmatrix} 1 \\\\ 0\\end{pmatrix}$ または $\\begin{pmatrix} -1 \\\\ 0\\end{pmatrix}$ となる．\n"
      ],
      "metadata": {
        "id": "1A8DdHI9lDZ9"
      }
    },
    {
      "cell_type": "markdown",
      "source": [
        "参考までに，NumPy を使って上記の行列 $A$ の固有値・固有ベクトルを数値計算させるコードも示しておきます．\n"
      ],
      "metadata": {
        "id": "Pcd7GvHSk2sz"
      }
    },
    {
      "cell_type": "code",
      "source": [
        "# 行列 A の定義\n",
        "A = np.array([[3, -1/np.sqrt(3)], [0, 2]])\n",
        "print('A = ')\n",
        "print(A)\n",
        "print()\n",
        "# A の固有値固有ベクトルを求めて表示\n",
        "lam, U = np.linalg.eig(A)\n",
        "print('固有値: ', lam)\n",
        "print('固有ベクトルをならべた行列: ')\n",
        "print(U)"
      ],
      "metadata": {
        "id": "HGqizD1ahPNO"
      },
      "execution_count": null,
      "outputs": []
    },
    {
      "cell_type": "markdown",
      "source": [
        "関数 `np.linalg.eig` は，固有値をならべたベクトル（`lam`，1次元配列）と，単位固有ベクトルをならべた行列（`U`, 2次元配列）を返してくれます．`U` の 1 列目が固有値 $3$ に対応する単位固有ベクトルで，2 列目が固有値 $2$ に対応する単位固有ベクトルです．"
      ],
      "metadata": {
        "id": "e8sKMvLLl9pz"
      }
    },
    {
      "cell_type": "markdown",
      "source": [
        "---\n",
        "### 行列の対角化"
      ],
      "metadata": {
        "id": "GGWTrETiQMPB"
      }
    },
    {
      "cell_type": "markdown",
      "source": [
        "#### 一般の場合"
      ],
      "metadata": {
        "id": "UWsA3PuPxPHu"
      }
    },
    {
      "cell_type": "markdown",
      "source": [
        "$D$ 次正方行列 $A$ に対して，$D$ 次正則行列 $P$ と $D$ 次対角行列 $\\Lambda$（注）が存在して，\n",
        "\n",
        "$$\n",
        "P^{-1}AP = \\Lambda \\qquad (2)\n",
        "$$\n",
        "\n",
        "とできるとき，行列 $A$ は **対角化可能** （**対角化**できる）といいます．\n",
        "\n",
        "詳細は省きますが，$A$ の固有ベクトルが線形独立であれば，それらをならべた行列を $P$ として対角化可能です．このとき，$\\Lambda$ は，$A$ の固有値を，固有ベクトルのならび順に合わせてならべた対角行列となります．\n",
        "\n",
        "<br>\n",
        "<hr width=\"50%\" align=\"left\">\n",
        "<span style=\"font-size: 75%\">\n",
        "※ 注： $\\Lambda$ は，$\\lambda$ （ラムダ）の大文字です．\n",
        "</span>"
      ],
      "metadata": {
        "id": "aCyBO3z7knc8"
      }
    },
    {
      "cell_type": "markdown",
      "source": [
        "**例題2**\n",
        "\n",
        "次の行列 $A$ を対角化しなさい．\n",
        "\n",
        "$$\n",
        "A =\n",
        "\\begin{pmatrix}\n",
        "3 & -\\frac{1}{\\sqrt{3}}\\\\\n",
        "0 & 2\n",
        "\\end{pmatrix}\n",
        "$$\n",
        "\n",
        "例題1より，$A$ の固有値は $\\lambda = 2, 3$ で，それぞれに対応する固有ベクトルは\n",
        "$c_1\\begin{pmatrix} 1 \\\\ \\sqrt{3}\\end{pmatrix}$ および $c_2\\begin{pmatrix} 1 \\\\ 0 \\end{pmatrix}$ と表せる（$c_1, c_2$ は $0$ でない実数）．\n",
        "$c_1 = c_2 = 1$ を選んで，\n",
        "$P = \\begin{pmatrix}\n",
        "1 & 1 \\\\\n",
        "\\sqrt{3} & 0\n",
        "\\end{pmatrix}$\n",
        "とすると，$P^{-1} = \\begin{pmatrix}\n",
        "0 & \\frac{1}{\\sqrt{3}} \\\\\n",
        "1 & -\\frac{1}{\\sqrt{3}}\n",
        "\\end{pmatrix}$\n",
        "となる．\n",
        "\n",
        "このとき，\n",
        "\n",
        "$$\n",
        "P^{-1}AP =\n",
        "\\begin{pmatrix}\n",
        "0 & \\frac{1}{\\sqrt{3}} \\\\\n",
        "1 & -\\frac{1}{\\sqrt{3}}\n",
        "\\end{pmatrix}\\begin{pmatrix}\n",
        "3 & -\\frac{1}{\\sqrt{3}}\\\\\n",
        "0 & 2\n",
        "\\end{pmatrix}\n",
        "\\begin{pmatrix}\n",
        "1 & 1 \\\\\n",
        "\\sqrt{3} & 0\n",
        "\\end{pmatrix}\n",
        "=\n",
        "\\begin{pmatrix}\n",
        "2 & 0 \\\\ 0 & 3\n",
        "\\end{pmatrix}\n",
        "$$\n",
        "\n",
        "となり，$P^{-1}AP$ は，対角に $A$ の固有値がならんだ対角行列となっている．\n",
        "\n"
      ],
      "metadata": {
        "id": "O_dNnEfwQYlR"
      }
    },
    {
      "cell_type": "markdown",
      "source": [
        "同じことを NumPy による数値計算でもやってみると..."
      ],
      "metadata": {
        "id": "7sVn0JTmlQbY"
      }
    },
    {
      "cell_type": "code",
      "source": [
        "# A を表示\n",
        "print('A = ')\n",
        "print(A)\n",
        "print()\n",
        "# A の固有ベクトルをならべて P とする\n",
        "P = U\n",
        "print('P = ')\n",
        "print(P)\n",
        "print()\n",
        "# P の逆行列を求める\n",
        "Pinv = np.linalg.inv(P)\n",
        "# 対角化の計算\n",
        "print('Pinv @ A @ P = ')\n",
        "print(Pinv @ A @ P)"
      ],
      "metadata": {
        "id": "dJHzwrjHi5x0"
      },
      "execution_count": null,
      "outputs": []
    },
    {
      "cell_type": "markdown",
      "source": [
        "例題2では，$P$ の1列目を $\\lambda=2$ に対応する固有ベクトル，2列目を $\\lambda=3$ に対応する固有ベクトルとしたので，$\\Lambda$ の対角要素は $2, 3$ の順にならんでいました．一方，上記の NumPy による計算では，$P$ の1列目が $\\lambda=3$ に対応する単位固有ベクトル，2列目が $\\lambda=2$ に対応する単位固有ベクトルですので，$P^{-1}AP = \\Lambda$ の対角要素は $3, 2$ の順になっています．このように，$P$ を作る際に固有ベクトルをならべる順で，$\\Lambda$ の対角要素にならぶ固有値の順が決まります．"
      ],
      "metadata": {
        "id": "RBPLkgbojvAA"
      }
    },
    {
      "cell_type": "markdown",
      "source": [
        "#### 対称行列の場合"
      ],
      "metadata": {
        "id": "rjtYdzUYxRS7"
      }
    },
    {
      "cell_type": "markdown",
      "source": [
        "$D$ 次正方行列 $A$ が $A^{\\top} = A$ を満たすとき，$A$ は **対称** であるといい，このような行列を **対称行列** といいます．また，全ての要素が実数の対称行列を **実対称行列** といいます．\n",
        "\n",
        "実対称行列は，次の性質を持ちます：\n",
        "\n",
        "- 固有値は全て実数であり，固有ベクトルも実ベクトルとなる\n",
        "- 固有ベクトルを，互いに直交しノルムが 1 となるようにとることができる\n",
        "\n",
        "2つ目の性質から，実対称行列の固有ベクトルをならべた行列は，直交行列となるようにできます．\n",
        "$A$ の固有値を $\\lambda_1, \\lambda_2, \\ldots, \\lambda_D$ とおき，$\\lambda_d$ に対応する単位固有ベクトルを $\\pmb{u}_d$ （$d = 1, 2, \\ldots, D$）とおくと，\n",
        "$ U = \\begin{pmatrix} \\pmb{u}_1 &\\pmb{u}_2 & \\cdots & \\pmb{u}_D\\end{pmatrix} $ が $U^{\\top}U = I$ を満たすようにできる，ということです．\n",
        "\n",
        "このとき，\n",
        "\n",
        "$$\n",
        "\\begin{aligned}\n",
        "AU &= A\\begin{pmatrix} \\pmb{u}_1 &\\pmb{u}_2 & \\cdots & \\pmb{u}_D\\end{pmatrix} = \\begin{pmatrix} A\\pmb{u}_1 &A\\pmb{u}_2 & \\cdots & A\\pmb{u}_D\\end{pmatrix} \\\\\n",
        "&= \\begin{pmatrix} \\lambda_1\\pmb{u}_1 &\\lambda_2\\pmb{u}_2 & \\cdots & \\lambda_D\\pmb{u}_D\\end{pmatrix} = \\begin{pmatrix} \\pmb{u}_1 &\\pmb{u}_2 & \\cdots & \\pmb{u}_D\\end{pmatrix}\n",
        "\\begin{pmatrix}\n",
        "\\lambda_1 & & &\\\\\n",
        "&\\lambda_2 & &\\\\\n",
        "& & \\ddots & \\\\\n",
        "& & & \\lambda_D\n",
        "\\end{pmatrix}\\\\\n",
        "&= U\\begin{pmatrix}\n",
        "\\lambda_1 & & &\\\\\n",
        "&\\lambda_2 & &\\\\\n",
        "& & \\ddots & \\\\\n",
        "& & & \\lambda_D\n",
        "\\end{pmatrix}\n",
        "\\end{aligned}\n",
        "$$\n",
        "\n",
        "となるので，両辺に左から $U^{\\top}$ をかけて，\n",
        "\n",
        "$$\n",
        "U^{\\top}AU = \\begin{pmatrix}\n",
        "\\lambda_1 & & &\\\\\n",
        "&\\lambda_2 & &\\\\\n",
        "& & \\ddots & \\\\\n",
        "& & & \\lambda_D\n",
        "\\end{pmatrix} \\qquad (3)\n",
        "$$\n",
        "\n",
        "が得られます．\n",
        "\n",
        "実対称行列は，このように，その固有ベクトルをならべた直交行列を用いて対角化可能です．実対称行列は様々な科学技術の問題の中に登場しますが，この性質のおかげで扱うのが容易になります．"
      ],
      "metadata": {
        "id": "L_S3ho4Axz_D"
      }
    },
    {
      "cell_type": "markdown",
      "source": [
        "**例題3**\n",
        "\n",
        "$$\n",
        "A =\n",
        "\\begin{pmatrix}\n",
        "3 & 1\\\\\n",
        "1 & 3\n",
        "\\end{pmatrix}\n",
        "$$\n",
        "\n",
        "を対角化しなさい．\n",
        "\n",
        "$A$ は実対称行列なので，式$(3)$の形に対角化できる．\n",
        "\n",
        "$A$ の固有値は $4, 2$ である．それぞれに対応する単位固有ベクトルを $\\begin{pmatrix} \\frac{1}{\\sqrt{2}} \\\\ \\frac{1}{\\sqrt{2}} \\end{pmatrix}, \\begin{pmatrix} -\\frac{1}{\\sqrt{2}} \\\\ \\frac{1}{\\sqrt{2}} \\end{pmatrix}$ として，$U = \\begin{pmatrix} \\frac{1}{\\sqrt{2}} & -\\frac{1}{\\sqrt{2}} \\\\ \\frac{1}{\\sqrt{2}} & \\frac{1}{\\sqrt{2}}\\end{pmatrix}$ とおくと，$U$ は直交行列である（$U^{\\top}U = UU^{\\top} = I$が成り立つ）．\n",
        "\n",
        "このとき，\n",
        "\n",
        "$$\n",
        "U^{\\top}AU = \\begin{pmatrix} \\frac{1}{\\sqrt{2}} & \\frac{1}{\\sqrt{2}} \\\\ -\\frac{1}{\\sqrt{2}} & \\frac{1}{\\sqrt{2}}\\end{pmatrix} \\begin{pmatrix}\n",
        "3 & 1\\\\\n",
        "1 & 3\n",
        "\\end{pmatrix}\\begin{pmatrix} \\frac{1}{\\sqrt{2}} & -\\frac{1}{\\sqrt{2}} \\\\ \\frac{1}{\\sqrt{2}} & \\frac{1}{\\sqrt{2}}\\end{pmatrix}\n",
        "=\n",
        "\\begin{pmatrix}\n",
        "4 & 0 \\\\\n",
        "0 & 2\n",
        "\\end{pmatrix}\n",
        "$$\n",
        "\n",
        "となる．"
      ],
      "metadata": {
        "id": "PdamHEGS76_J"
      }
    },
    {
      "cell_type": "markdown",
      "source": [
        "NumPy を使って検算してみると，次のようになります．\n",
        "今回は `A` が対称行列なので，`np.linalg.eig` ではなく `np.linalg.eigh` を使います．対称行列専用に作られているため，汎用の `eig` よりも効率よく求まります．"
      ],
      "metadata": {
        "id": "TQxsOwx-nETQ"
      }
    },
    {
      "cell_type": "code",
      "source": [
        "# 行列 A の定義\n",
        "A = np.array([[3, 1], [1, 3]])\n",
        "print('A = ')\n",
        "print(A)\n",
        "print()\n",
        "# 対称行列 A の固有値固有ベクトルを求めて表示\n",
        "lam, U = np.linalg.eigh(A)\n",
        "print('lam = ', lam)\n",
        "print('U = ')\n",
        "print(U)\n",
        "print()\n",
        "# U が直交行列であることの確認\n",
        "print('U @ U.T = ')\n",
        "print(U @ U.T)\n",
        "print()\n",
        "# 対角化\n",
        "print('U.T @ A @ U = ')\n",
        "print(U.T @ A @ U)\n",
        "print()\n",
        "# 対角化の逆\n",
        "print('U @ diag(lam) @ U.T = ')\n",
        "print(U @ np.diag(lam) @ U.T)\n",
        "print()"
      ],
      "metadata": {
        "id": "d7HgK1xX-8oj"
      },
      "execution_count": null,
      "outputs": []
    },
    {
      "cell_type": "markdown",
      "source": [
        "変数 `lam` に固有値が 2, 4 の順に格納されており，変数 `U` に格納された固有ベクトルもその順に対応しているため，対角化の結果も 2, 4 の順に並んでいることに注意．\n",
        "\n",
        "最後のところは，\n",
        "\n",
        "$$\n",
        "U\\begin{pmatrix}\n",
        "\\lambda_1 & & &\\\\\n",
        "&\\lambda_2 & &\\\\\n",
        "& & \\ddots & \\\\\n",
        "& & & \\lambda_D\n",
        "\\end{pmatrix} U^{\\top} = A\n",
        "$$\n",
        "\n",
        "であることを確認しています（この式は，式$(3)$の両辺に左から $U$，右から $U^{\\top}$ を掛ければ得られます）．"
      ],
      "metadata": {
        "id": "zbRn0Uj9oVMz"
      }
    }
  ]
}