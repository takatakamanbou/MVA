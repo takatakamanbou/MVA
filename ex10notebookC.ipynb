{
  "nbformat": 4,
  "nbformat_minor": 0,
  "metadata": {
    "colab": {
      "provenance": [],
      "toc_visible": true,
      "authorship_tag": "ABX9TyMFMF7L1/Zr5AMh3gmwsjFT",
      "include_colab_link": true
    },
    "kernelspec": {
      "name": "python3",
      "display_name": "Python 3"
    },
    "language_info": {
      "name": "python"
    }
  },
  "cells": [
    {
      "cell_type": "markdown",
      "metadata": {
        "id": "view-in-github",
        "colab_type": "text"
      },
      "source": [
        "<a href=\"https://colab.research.google.com/github/takatakamanbou/MVA/blob/2022/ex10notebookC.ipynb\" target=\"_parent\"><img src=\"https://colab.research.google.com/assets/colab-badge.svg\" alt=\"Open In Colab\"/></a>"
      ]
    },
    {
      "cell_type": "markdown",
      "source": [
        "# MVA2022 ex10notebookC\n",
        "\n",
        "<img width=64 src=\"https://www-tlab.math.ryukoku.ac.jp/~takataka/course/MVA/MVA-logo10.png\"> https://www-tlab.math.ryukoku.ac.jp/wiki/?MVA/2022"
      ],
      "metadata": {
        "id": "P4preLw7SzqH"
      }
    },
    {
      "cell_type": "code",
      "metadata": {
        "id": "I226xIKJbqtM"
      },
      "source": [
        "# 必要なパッケージのインポート\n",
        "import numpy as np\n",
        "import pandas as pd\n",
        "import matplotlib.pyplot as plt\n",
        "import seaborn\n",
        "seaborn.set()\n",
        "\n",
        "# scikit-learn の判別分析のためのクラスを使えるように import\n",
        "from sklearn.discriminant_analysis import LinearDiscriminantAnalysis"
      ],
      "execution_count": null,
      "outputs": []
    },
    {
      "cell_type": "markdown",
      "source": [
        "----\n",
        "## 演習課題\n",
        "----\n"
      ],
      "metadata": {
        "id": "zDtnBWKha6vx"
      }
    },
    {
      "cell_type": "markdown",
      "source": [
        "---\n",
        "### 問題1: Fisher のアヤメのデータの2クラス判別"
      ],
      "metadata": {
        "id": "u_iSzk1u8zpd"
      }
    },
    {
      "cell_type": "markdown",
      "source": [
        "notebookA で紹介しているアヤメのデータのクラス数は3ですが，Iris setosa クラスのデータを削除したものを作って判別分析してみましょう．"
      ],
      "metadata": {
        "id": "Qt_sp5_v07Ef"
      }
    },
    {
      "cell_type": "markdown",
      "source": [
        "#### 準備"
      ],
      "metadata": {
        "id": "mIt-Doww-7z5"
      }
    },
    {
      "cell_type": "markdown",
      "source": [
        "まずはデータの準備．"
      ],
      "metadata": {
        "id": "PLpcVO3S1GKC"
      }
    },
    {
      "cell_type": "code",
      "source": [
        "# Fisher のアヤメのデータ\n",
        "from sklearn.datasets import load_iris\n",
        "iris = load_iris(as_frame=True)\n",
        "dfIris = iris.frame\n",
        "dfIris['species'] = 'hoge'\n",
        "for k, tn in enumerate(iris.target_names):\n",
        "    dfIris.loc[dfIris['target'] == k, 'species'] = tn\n",
        "dfIris.drop(columns='target', inplace=True)\n",
        "dfIris"
      ],
      "metadata": {
        "id": "aMotmsGiXKEC"
      },
      "execution_count": null,
      "outputs": []
    },
    {
      "cell_type": "code",
      "source": [
        "# species が setosa でないものを dfIris2 とする\n",
        "dfIris2 = dfIris[dfIris['species'] != 'setosa']\n",
        "dfIris2"
      ],
      "metadata": {
        "id": "SiOWbdvc9Z5T"
      },
      "execution_count": null,
      "outputs": []
    },
    {
      "cell_type": "code",
      "source": [
        "# Seaborn のペアプロット関数（多次元データの変数間の散布図等を自動的に描いてくれる）\n",
        "seaborn.pairplot(dfIris2, hue='species')"
      ],
      "metadata": {
        "id": "H6FRIvHQ9tNn"
      },
      "execution_count": null,
      "outputs": []
    },
    {
      "cell_type": "markdown",
      "source": [
        "`dfIris2` から，変数の値を格納した配列 `X` と，個々のデータのクラスを 0/1 で表した配列 `Y` をつくります．\n"
      ],
      "metadata": {
        "id": "4VXYr5_f1LGy"
      }
    },
    {
      "cell_type": "code",
      "source": [
        "# dfIris2 の Species 列以外を抜き出した np.array\n",
        "X = dfIris2.drop(columns='species').to_numpy()\n",
        "N, D = X.shape\n",
        "print(X[:5, :])\n",
        "print(f'N = {N}, D = {D}')"
      ],
      "metadata": {
        "id": "8Cykr8YwvRKc"
      },
      "execution_count": null,
      "outputs": []
    },
    {
      "cell_type": "code",
      "source": [
        "#dfIris2 の species 列を使って，versicolor なら 1，virginica なら 0 とした np.array\n",
        "b = dfIris2['species'] == 'versicolor'  # b は，True/False を値にもつ\n",
        "Y = b.to_numpy(dtype=int)       # こうすると，True => 1, False => 0 とした int の np.array が得られる\n",
        "print(Y)"
      ],
      "metadata": {
        "id": "QstqH294vz7x"
      },
      "execution_count": null,
      "outputs": []
    },
    {
      "cell_type": "markdown",
      "source": [
        "データの準備はこれでok．"
      ],
      "metadata": {
        "id": "gf-Ldcml2cfH"
      }
    },
    {
      "cell_type": "markdown",
      "source": [
        "#### 問(1)\n",
        "\n",
        "次のことをやりなさい．\n",
        "\n",
        "1. 次のセルに，上で準備したデータを使って判別分析を実行する（パラメータを推定する）コードを書きなさい．得られた平均と分散共分散行列をprintすること．\n",
        "1. 次の質問に答えなさい（答えをメモしておくこと）．\n",
        "    - ここで使っているデータの次元数（変数の数）とデータの数はそれぞれいくつか\n",
        "    - 推定された平均は，何次元のものがいくつあるか\n",
        "    - 推定された分散共分散行列は，何行何列のものがいくつあるか"
      ],
      "metadata": {
        "id": "ua6Gt1J4_BJp"
      }
    },
    {
      "cell_type": "code",
      "source": [],
      "metadata": {
        "id": "-GO35zW6wfWG"
      },
      "execution_count": null,
      "outputs": []
    },
    {
      "cell_type": "markdown",
      "source": [
        "#### 問(2)\n",
        "\n",
        "次のセルに，`X` で与えられたデータのうち正しくクラス判別できたものの数を数えて表示するコードを書きなさい．得られた正解数をメモしておくこと．"
      ],
      "metadata": {
        "id": "Kx_0DWP75udx"
      }
    },
    {
      "cell_type": "code",
      "source": [],
      "metadata": {
        "id": "By0LUO0exKMy"
      },
      "execution_count": null,
      "outputs": []
    },
    {
      "cell_type": "markdown",
      "source": [
        "#### 問(3)\n",
        "\n",
        "次のセルにコードを書き足して，`XX` に格納されたデータそれぞれの，判別関数の値およびクラス予測結果を出力させなさい．各データの判別関数の値と Iris-versicolor / Iris-virginica のどちらに判別されたのかをメモしておきなさい．"
      ],
      "metadata": {
        "id": "QUjkxkou6WvF"
      }
    },
    {
      "cell_type": "code",
      "source": [
        "# クラス未知のデータ\n",
        "XX = np.array([[6.0, 3.0, 6.0, 2.0],\n",
        "               [6.0, 3.0, 4.0, 1.0],\n",
        "               [6.0, 3.0, 6.0, 1.0],\n",
        "               [6.0, 3.0, 4.0, 2.0]])\n",
        "\n",
        "# ここから下にコードを追加\n"
      ],
      "metadata": {
        "id": "tsPxZJ9rykEe"
      },
      "execution_count": null,
      "outputs": []
    },
    {
      "cell_type": "markdown",
      "source": [
        "---\n",
        "### 問題2: 乳がんデータの2クラス判別\n",
        "\n",
        "機械学習の教材としてよく使われる乳がんの画像診断に関するデータ Breast Cancer Wisconsin (Diagnostic) Datasets を使って，判別分析の実験をしてみましょう．\n",
        "\n",
        "- データの概要を説明した scikit-learn のドキュメント https://scikit-learn.org/stable/datasets/toy_dataset.html#breast-cancer-dataset\n",
        "    - 変数の数は 30\n",
        "    - クラスは Benign（良性）と Mailgnant（悪性）の2つ\n",
        "- [UCI Machine Learning Repository](https://archive-beta.ics.uci.edu/)（カリフォルニア大学アーバイン校の機械学習データアーカイブ） の当該データのページ https://goo.gl/U2Uwz2"
      ],
      "metadata": {
        "id": "2DBOfrIuFC6M"
      }
    },
    {
      "cell_type": "markdown",
      "source": [
        "#### 準備\n",
        "\n",
        "データは scikit-learn ライブラリを使って取得できます．\n",
        "\n",
        "[sklearn.datasets.load_breast_cancer](https://scikit-learn.org/stable/modules/generated/sklearn.datasets.load_breast_cancer.html)"
      ],
      "metadata": {
        "id": "dUQAj-quIlZP"
      }
    },
    {
      "cell_type": "code",
      "source": [
        "from sklearn.datasets import load_breast_cancer\n",
        "bcdata = load_breast_cancer()\n",
        "X = bcdata.data\n",
        "N, D = X.shape\n",
        "print(X[:5, :])\n",
        "print(f'N = {N}, D = {D}')\n",
        "Y = bcdata.target\n",
        "print(Y, Y.shape) # 0 が Malignant，1 が Benign"
      ],
      "metadata": {
        "id": "SQXhow4nFFwO"
      },
      "execution_count": null,
      "outputs": []
    },
    {
      "cell_type": "markdown",
      "source": [
        "#### 問(1)\n",
        "\n",
        "次のことをやりなさい．\n",
        "\n",
        "1. 次のセルに，上で準備したデータを使って判別分析を実行する（パラメータを推定する）コードを書きなさい．\n",
        "1. 次の質問に答えなさい（答えをメモしておくこと）．\n",
        "    - ここで使っているデータの次元数（変数の数）とデータの数はそれぞれいくつか\n",
        "    - 推定された平均は，何次元のものがいくつあるか（`means_` の shape を print して確認したらよい）\n",
        "    - 推定された分散共分散行列は，何行何列のものがいくつあるか（`covariance_` の shape を print して確認したらよい）"
      ],
      "metadata": {
        "id": "63YaGVVLJZTN"
      }
    },
    {
      "cell_type": "code",
      "source": [],
      "metadata": {
        "id": "ORlnz0EyI88Q"
      },
      "execution_count": null,
      "outputs": []
    },
    {
      "cell_type": "markdown",
      "source": [
        "#### 問(2)\n",
        "\n",
        "次のセルに，`X` で与えられたデータのうち正しくクラス判別できたものの数を数えて表示するコードを書きなさい．得られた正解数をメモしておくこと．"
      ],
      "metadata": {
        "id": "MCpaUtjNKKtA"
      }
    },
    {
      "cell_type": "code",
      "source": [],
      "metadata": {
        "id": "zGYe1PTvI_4V"
      },
      "execution_count": null,
      "outputs": []
    },
    {
      "cell_type": "markdown",
      "source": [
        "#### 問(3)\n",
        "\n",
        "次のセルにコードを書き足して，`XX` に格納されたデータそれぞれの，判別関数の値およびクラス予測結果を出力させなさい．各データの判別関数の値と，悪性/良性のどちらに判別されたのかをメモしておきなさい．"
      ],
      "metadata": {
        "id": "ge1BpkpkKiIl"
      }
    },
    {
      "cell_type": "code",
      "source": [
        "# クラス未知のデータ\n",
        "XX = np.array([[ 7,  9,  43,  143, 0, 0, 0, 0, 0, 0, 0, 0,  1,   7, 0, 0, 0, 0, 0, 0,  8, 12,  50,  185, 0, 0, 0, 0, 0, 0],\n",
        "               [28, 39, 188, 2500, 0, 0, 0, 0, 0, 0, 3, 5, 22, 542, 0, 0, 0, 0, 0, 0, 36, 50, 250, 4000, 0, 1, 1, 0, 1, 0],\n",
        "               [10, 20, 100,  800, 0, 0, 0, 0, 0, 0, 1, 2, 10, 200, 0, 0, 0, 0, 0, 0, 15, 20, 100,  851, 0, 0, 0, 0, 0, 0]])\n",
        "\n",
        "# ここから下にコードを追加\n"
      ],
      "metadata": {
        "id": "5YE2HFiLKO_x"
      },
      "execution_count": null,
      "outputs": []
    },
    {
      "cell_type": "code",
      "source": [],
      "metadata": {
        "id": "U4ENWT1SK_S2"
      },
      "execution_count": null,
      "outputs": []
    }
  ]
}