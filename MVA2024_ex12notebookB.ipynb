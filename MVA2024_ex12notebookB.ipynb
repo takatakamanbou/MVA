{
  "nbformat": 4,
  "nbformat_minor": 0,
  "metadata": {
    "colab": {
      "provenance": [],
      "toc_visible": true,
      "authorship_tag": "ABX9TyM0++YkUhcKWwH5GmqPC9fZ",
      "include_colab_link": true
    },
    "kernelspec": {
      "name": "python3",
      "display_name": "Python 3"
    },
    "language_info": {
      "name": "python"
    }
  },
  "cells": [
    {
      "cell_type": "markdown",
      "metadata": {
        "id": "view-in-github",
        "colab_type": "text"
      },
      "source": [
        "<a href=\"https://colab.research.google.com/github/takatakamanbou/MVA/blob/main/MVA2024_ex12notebookB.ipynb\" target=\"_parent\"><img src=\"https://colab.research.google.com/assets/colab-badge.svg\" alt=\"Open In Colab\"/></a>"
      ]
    },
    {
      "cell_type": "markdown",
      "source": [
        "# MVA2024 ex12notebookB\n",
        "\n",
        "<img width=64 src=\"https://www-tlab.math.ryukoku.ac.jp/~takataka/course/MVA/MVA-logo.png\"> https://www-tlab.math.ryukoku.ac.jp/wiki/?MVA/2024"
      ],
      "metadata": {
        "id": "P4preLw7SzqH"
      }
    },
    {
      "cell_type": "markdown",
      "source": [
        "----\n",
        "## 判別分析に関する補足\n",
        "---\n",
        "\n",
        "<!---\n",
        "<b><font color=\"#ff0000\">\n",
        "注意:\n",
        "今回の notebook の中には，コードセルを実行すると問題の解答が表示されるようになっている箇所があります．\n",
        "</font>\n",
        "</b>\n",
        "--->"
      ],
      "metadata": {
        "id": "Snu_5I6aGJS8"
      }
    },
    {
      "cell_type": "code",
      "source": [
        "# いつものいろいろインポート\n",
        "import numpy as np\n",
        "import matplotlib.pyplot as plt\n",
        "import pandas as pd\n",
        "import seaborn\n",
        "seaborn.set()\n",
        "\n",
        "# SciPy の もろもろ\n",
        "import scipy as sp\n",
        "from scipy.stats import norm, multivariate_normal\n",
        "\n",
        "# scikit-learn のもろもろ\n",
        "from sklearn.discriminant_analysis import LinearDiscriminantAnalysis, QuadraticDiscriminantAnalysis\n",
        "from sklearn.metrics import confusion_matrix\n",
        "\n",
        "# NumPy の 疑似乱数生成器（rng = random number generator）\n",
        "from numpy.random import default_rng"
      ],
      "metadata": {
        "id": "9HCsHgFjR6jo"
      },
      "execution_count": null,
      "outputs": []
    },
    {
      "cell_type": "markdown",
      "source": [
        "---\n",
        "### 線形判別 vs 二次判別"
      ],
      "metadata": {
        "id": "ROWF8QdzE_ob"
      }
    },
    {
      "cell_type": "markdown",
      "source": [
        "線形判別分析では判別の境界が平面ですが，二次判別分析では二次曲面になります．二次曲面の方がクラスの境界をより柔軟に作れるため，二次判別分析の方が高い精度の予測ができる可能性があります．\n",
        "線形判別分析の仮定である，クラス毎の分散共分散行列が共通という条件が成り立たないようなデータを作って，線形判別と二次判別の違いを観察してみましょう．\n",
        "\n",
        "正規乱数で生成した次のような3クラスのデータを用います．"
      ],
      "metadata": {
        "id": "rb1FzdorE9vw"
      }
    },
    {
      "cell_type": "code",
      "source": [
        "# 疑似乱数生成器を初期化\n",
        "rng = default_rng(seed=4649)\n",
        "# クラスごとのデータ数，平均，分散共分散行列\n",
        "N0, N1, N2 = 500, 500, 500\n",
        "mu = np.array([[3, 3], [4, 7], [6.5, 3.5]])\n",
        "cov = np.array([[[0.6, 0], [0, 0.6]], [[0.25, 0.2], [0.2, 0.9]], [[0.75, -0.6], [-0.6, 0.75]]])\n",
        "# データを生成\n",
        "X = np.empty((N0 + N1 + N2, 2))\n",
        "X[:N0,        :] = rng.multivariate_normal(mu[0], cov[0], size=N0)\n",
        "X[N0:N0 + N1, :] = rng.multivariate_normal(mu[1], cov[1], size=N1)\n",
        "X[N0 + N1:,   :] = rng.multivariate_normal(mu[2], cov[2], size=N2)\n",
        "y = np.zeros(N0 + N1 + N2, dtype=int)\n",
        "y[N0:N0 + N1] = 1\n",
        "y[N0 + N1:] = 2\n",
        "# 散布図を描く\n",
        "fig, ax = plt.subplots(figsize=(4, 4))\n",
        "for k in range(3):\n",
        "    ax.scatter(X[y == k, 0], X[y == k, 1], label=f'Class{k}', s=8)\n",
        "ax.set_xlim(0, 9)\n",
        "ax.set_ylim(0, 9)\n",
        "ax.legend()\n",
        "plt.show()"
      ],
      "metadata": {
        "id": "Ixv3317MYhME"
      },
      "execution_count": null,
      "outputs": []
    },
    {
      "cell_type": "markdown",
      "source": [
        "線形判別分析と二次判別分析を実行します．以下では，それぞれで推定された平均や分散共分散行列の値も表示するようにしてあります．"
      ],
      "metadata": {
        "id": "Nforg253GS14"
      }
    },
    {
      "cell_type": "code",
      "source": [
        "# LDA\n",
        "lda = LinearDiscriminantAnalysis(store_covariance=True)\n",
        "lda.fit(X, y)\n",
        "muL = lda.means_\n",
        "covL = lda.covariance_\n",
        "print('##### LDA #####')\n",
        "print('(平均) = ')\n",
        "print(muL)\n",
        "print('(分散共分散行列) = ')\n",
        "print(covL)\n",
        "print()\n",
        "\n",
        "# QDA\n",
        "qda = QuadraticDiscriminantAnalysis(store_covariance=True)\n",
        "qda.fit(X, y)\n",
        "muQ = qda.means_\n",
        "covQ = np.array(qda.covariance_)\n",
        "print('##### QDA #####')\n",
        "print('(平均) = ')\n",
        "print(muQ)\n",
        "print('(分散共分散行列) = ')\n",
        "print(covQ)"
      ],
      "metadata": {
        "id": "3LcbgTC7DP0W"
      },
      "execution_count": null,
      "outputs": []
    },
    {
      "cell_type": "markdown",
      "source": [
        "線形判別では，$2\\times 2$ の分散共分散行列を一つしか求めていませんが，二次判別ではクラス数ぶん求めています．判別結果を見てみると..."
      ],
      "metadata": {
        "id": "HrAheIRhGecK"
      }
    },
    {
      "cell_type": "code",
      "source": [
        "## 散布図，確率密度の等高線，判別結果で領域を塗り分\n",
        "fig, ax = plt.subplots(1, 2, figsize=(8, 4))\n",
        "\n",
        "xmin, xmax = 0, 9\n",
        "ymin, ymax = 0, 9\n",
        "xx, yy = np.mgrid[xmin:xmax:0.05, ymin:ymax:0.05]\n",
        "XX = np.dstack((xx, yy))\n",
        "\n",
        "colors = ['blue', 'red', 'green']\n",
        "cmap = ['Blues', 'Oranges', 'Greens']\n",
        "y_predL = lda.predict(XX.reshape(-1, 2)).reshape((XX.shape[0], XX.shape[1]))\n",
        "y_predQ = qda.predict(XX.reshape(-1, 2)).reshape((XX.shape[0], XX.shape[1]))\n",
        "\n",
        "for k in range(3):\n",
        "    # LDA\n",
        "    ax[0].scatter(X[y == k, 0], X[y == k, 1], label=f'Class{k}', s=8)\n",
        "    zz = multivariate_normal.pdf(XX, mean=muL[k], cov=covL)\n",
        "    ax[0].contour(xx, yy, zz, colors=colors[k])\n",
        "    ax[0].contourf(xx, yy, (y_predL == k).astype(int), cmap=cmap[k], alpha=0.2)\n",
        "    # QDA\n",
        "    ax[1].scatter(X[y == k, 0], X[y == k, 1], label=f'Class{k}', s=8)\n",
        "    zz = multivariate_normal.pdf(XX, mean=muQ[k], cov=covQ[k])\n",
        "    ax[1].contour(xx, yy, zz, colors=colors[k])\n",
        "    ax[1].contourf(xx, yy, (y_predQ == k).astype(int), cmap=cmap[k], alpha=0.2)\n",
        "\n",
        "ax[0].set_xlim(xmin, xmax)\n",
        "ax[0].set_ylim(ymin, ymax)\n",
        "ax[0].set_title(f'LDA (accuracy = {lda.score(X, y):.3f})')\n",
        "ax[1].set_xlim(xmin, xmax)\n",
        "ax[1].set_ylim(ymin, ymax)\n",
        "ax[1].set_title(f'QDA (accuracy = {qda.score(X, y):.3f})')\n",
        "plt.show()"
      ],
      "metadata": {
        "id": "pTNTaRAHdduG"
      },
      "execution_count": null,
      "outputs": []
    },
    {
      "cell_type": "markdown",
      "source": [
        "左の線形判別ではクラスの境界が直線ですが，右の二次判別では二次曲線になっており，二次判別の方がaccuracy（全てのデータのうちクラスを正しく予測できたものの割合）も高くなっていることが分かります．"
      ],
      "metadata": {
        "id": "6wYLMxuAH_iD"
      }
    },
    {
      "cell_type": "markdown",
      "source": [
        "---\n",
        "### 二次判別でうまくいかないこともある"
      ],
      "metadata": {
        "id": "Cs5mvfEII-PX"
      }
    },
    {
      "cell_type": "markdown",
      "source": [
        "上記のことからすると，コンピュータを使うので計算の手間をあまり惜しむ必要がない場合，常に二次判別を使えばよいようにも思えます．しかし，実際には，次のようなことに注意が必要です．\n",
        "\n",
        "- 二次判別の方が推定すべきパラメータの数が多い： 分散共分散行列ひとつは $\\frac{1}{2}D(D+1)$ 個のパラメータを持ちます．二次判別の場合，これをクラスごとに推定しますので，パラメータ数がさらに $K$ 倍になります．サンプルサイズの小さいデータだと分散共分散行列の推定がうまくできず，良い結果が得られないことがあります．\n",
        "- 正規分布の仮定が成り立たない場合，線形判別でも二次判別でも良い結果は得られないことがある： 線形判別も二次判別も，クラスごとのデータが正規分布に従うことを仮定しています．この仮定が満たされないような場合には，どちらの手法でも良い結果が得られないことがあります．\n",
        "\n",
        "次の例は，データの分布が明らかに正規分布ではないような場合にどうなるかを示しています．"
      ],
      "metadata": {
        "id": "VmEDppKtJIhs"
      }
    },
    {
      "cell_type": "code",
      "source": [
        "### 正規分布に従わない人工データ\n",
        "from sklearn.datasets import make_moons\n",
        "X_moon, Y_moon = make_moons(n_samples=300, noise=0.2)\n",
        "\n",
        "### QDA してみる\n",
        "qda = QuadraticDiscriminantAnalysis(store_covariance=True)\n",
        "qda.fit(X_moon, Y_moon)\n",
        "\n",
        "### 散布図と判別結果\n",
        "fig, ax = plt.subplots(1, 2, figsize=(8, 4))\n",
        "\n",
        "## 確率密度と判別結果の描画のためのグリッドデータの準備\n",
        "xmin, xmax = -1.5, 2.5\n",
        "ymin, ymax = -1.0, 1.5\n",
        "xx, yy = np.mgrid[xmin:xmax:0.01, ymin:ymax:0.011]\n",
        "XX = np.dstack((xx, yy))\n",
        "\n",
        "##  散布図\n",
        "for i in [0, 1]:\n",
        "    ax[i].scatter(X_moon[Y_moon == 1, 0], X_moon[Y_moon == 1, 1], label='Class1', s=10)\n",
        "    ax[i].scatter(X_moon[Y_moon == 0, 0], X_moon[Y_moon == 0, 1], label='Class0', s=10)\n",
        "    ax[i].set_xlim(xmin, xmax)\n",
        "    ax[i].set_ylim(ymin, ymax)\n",
        "    ax[i].set_aspect('equal')\n",
        "    ax[i].legend()\n",
        "\n",
        "## 確率密度の等高線\n",
        "zz = multivariate_normal.pdf(XX, mean=qda.means_[1], cov=qda.covariance_[1])\n",
        "ax[1].contour(xx, yy, zz, colors='blue')\n",
        "zz = multivariate_normal.pdf(XX, mean=qda.means_[0], cov=qda.covariance_[0])\n",
        "ax[1].contour(xx, yy, zz, colors='red')\n",
        "\n",
        "## 判別結果で領域を塗り分ける\n",
        "zz = qda.predict(XX.reshape(-1, 2)).reshape((XX.shape[0], XX.shape[1]))\n",
        "ax[1].contourf(xx, yy, zz,   cmap='Blues',   alpha=0.2)\n",
        "ax[1].contourf(xx, yy, 1-zz, cmap='Oranges', alpha=0.2)\n",
        "\n",
        "plt.show()"
      ],
      "metadata": {
        "id": "9IHutHW1JgxP"
      },
      "execution_count": null,
      "outputs": []
    },
    {
      "cell_type": "markdown",
      "source": [
        "当たり前ですが，二次判別分析でもうまく判別できていません．\n",
        "\n",
        "「機械学習I/II」では，このような場合でもうまく判別できるような手法を取り上げます．"
      ],
      "metadata": {
        "id": "J4Pl6HTlJgxP"
      }
    },
    {
      "cell_type": "markdown",
      "source": [
        "---\n",
        "### データの標準化"
      ],
      "metadata": {
        "id": "YlvlpHD7n1AP"
      }
    },
    {
      "cell_type": "markdown",
      "source": [
        "「主成分分析(2)」の回の「主成分分析とデータの標準化」という節で，データの標準化が主成分分析の結果に与える影響について考えました．\n",
        "データによっては変数間で値の範囲・大きさ範囲が全く異なることがあるので，データを標準化してから分析した方がよい場合がある，ということでした．実例は示しませんが，判別分析においても同様のことが言えます．"
      ],
      "metadata": {
        "id": "mwLtBwi3qrDY"
      }
    },
    {
      "cell_type": "markdown",
      "source": [
        "---\n",
        "### クラスごとのデータの出現確率の扱い"
      ],
      "metadata": {
        "id": "amEx2o0eDiWd"
      }
    },
    {
      "cell_type": "markdown",
      "source": [
        "ここまで解説してきた判別分析の方法は，クラスごとの正規分布を推定し，それらの対数尤度を基準として判別するというものです．「クラスごとのデータが正規分布に従う」という仮定をおいており，その仮定が成り立たないときにはうまくいかないかもしれない，ということはすでに説明しました．\n",
        "\n",
        "実は，ここまで説明してきた方法には，隠れた仮定がもうひとつあります．それは，「どのクラスのデータも等しい確率で生起する」というものです．この仮定が成り立たない場合，すなわち，クラスごとのデータの出現確率に偏りがあるような場合，クラスごとの正規分布に対する対数尤度を基準とする，という方法ではよい結果が得られない可能性があります．\n",
        "\n",
        "これに対処する方法の一つが，クラスごとのデータの出現確率（これを「クラス事前確率」といいます）まで含めてモデル化を行う，というものです．\n",
        "具体的な定式化等については，「機械学習I/II」で取り上げます．scikit-learn の判別分析の実装では，このクラス事前確率を含めたモデルが使われており，データ中の各クラスの出現頻度からその値を推定するようになっています（注）．\n",
        "\n",
        "<br>\n",
        "<hr width=\"50%\" align=\"left\">\n",
        "<span style=\"font-size: 75%\">\n",
        "※ 注意: 以下のリンク先のドキュメントの $P(y=k)$ というのが事前確率です：\n",
        "<a href=\"https://scikit-learn.org/stable/modules/lda_qda.html#mathematical-formulation-of-the-lda-and-qda-classifiers\">\n",
        "https://scikit-learn.org/stable/modules/lda_qda.html#mathematical-formulation-of-the-lda-and-qda-classifiers\n",
        "</a>\n",
        "</span>"
      ],
      "metadata": {
        "id": "V4lnJjl4DiWl"
      }
    },
    {
      "cell_type": "code",
      "source": [],
      "metadata": {
        "id": "CUoO8W7oPSqY"
      },
      "execution_count": null,
      "outputs": []
    }
  ]
}