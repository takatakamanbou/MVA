{
  "nbformat": 4,
  "nbformat_minor": 0,
  "metadata": {
    "colab": {
      "provenance": [],
      "toc_visible": true,
      "authorship_tag": "ABX9TyMWwYt9EuO8TvmmJB6WFwfb",
      "include_colab_link": true
    },
    "kernelspec": {
      "name": "python3",
      "display_name": "Python 3"
    },
    "language_info": {
      "name": "python"
    }
  },
  "cells": [
    {
      "cell_type": "markdown",
      "metadata": {
        "id": "view-in-github",
        "colab_type": "text"
      },
      "source": [
        "<a href=\"https://colab.research.google.com/github/takatakamanbou/MVA/blob/main/MVA2024_ex11notebookA.ipynb\" target=\"_parent\"><img src=\"https://colab.research.google.com/assets/colab-badge.svg\" alt=\"Open In Colab\"/></a>"
      ]
    },
    {
      "cell_type": "markdown",
      "source": [
        "# MVA2024 ex11notebookA\n",
        "\n",
        "<img width=64 src=\"https://www-tlab.math.ryukoku.ac.jp/~takataka/course/MVA/MVA-logo.png\"> https://www-tlab.math.ryukoku.ac.jp/wiki/?MVA/2024"
      ],
      "metadata": {
        "id": "P4preLw7SzqH"
      }
    },
    {
      "cell_type": "markdown",
      "source": [
        "---\n",
        "## 判別分析 (1)\n",
        "---\n",
        "\n"
      ],
      "metadata": {
        "id": "Snu_5I6aGJS8"
      }
    },
    {
      "cell_type": "code",
      "source": [
        "# いつものいろいろインポート\n",
        "import numpy as np\n",
        "import matplotlib.pyplot as plt\n",
        "import pandas as pd\n",
        "import seaborn\n",
        "seaborn.set()\n",
        "\n",
        "# 文字列を Markdown 形式で（数式は LaTeX でフォーマットして）表示\n",
        "from IPython.display import display, Markdown\n",
        "\n",
        "# SciPy\n",
        "import scipy as sp\n",
        "# SciPy の 統計関数群の中の正規分布モジュール (scipy.stats.norm) と多変量正規分布モジュール (scipy.stats.multivariate_normal)\n",
        "from scipy.stats import norm, multivariate_normal"
      ],
      "metadata": {
        "id": "9HCsHgFjR6jo"
      },
      "execution_count": null,
      "outputs": []
    },
    {
      "cell_type": "markdown",
      "source": [
        "---\n",
        "### 判別分析とは\n",
        "\n"
      ],
      "metadata": {
        "id": "aTbB0PMlNM9W"
      }
    },
    {
      "cell_type": "markdown",
      "source": [
        "#### 例： (身長, 体重) から「人間」か「ほげ星人」かを判別する"
      ],
      "metadata": {
        "id": "yrG3yyVZwUoU"
      }
    },
    {
      "cell_type": "markdown",
      "source": [
        "「人間」と「ほげ星人」あわせて200人分の $(\\mbox{身長[cm]}, \\mbox{体重[kg]})$ の数値を集めたデータがあったとします．それぞれのデータには，人間の数値なのかほげ星人の数値なのかを表す変数も含まれているとします（注）．\n",
        "以下のセルの出力の `Height` 列は身長，`Weight` 列は体重を表します．`Class` 列の値は，人間を表す `Human` とほげ星人を表す `Hoge` のいずれかです．\n",
        "\n",
        "<br>\n",
        "<hr width=\"50%\" align=\"left\">\n",
        "<span style=\"font-size: 75%\">\n",
        "※注: これは，説明を理解してもらいやすくするために作った嘘のデータです．このデータ中のほげ星人に近い身長・体重のひとがいたとしても，そのひとが人間ではないというようなことを主張するものではありません．\n",
        "</span>"
      ],
      "metadata": {
        "id": "PZMaFYJyx3Vt"
      }
    },
    {
      "cell_type": "code",
      "source": [
        "# 人間 vs ほげ星人\n",
        "URL = 'https://www-tlab.math.ryukoku.ac.jp/~takataka/course/MVA/humanvshoge.csv'\n",
        "dfHoge = pd.read_csv(URL)\n",
        "dfHoge"
      ],
      "metadata": {
        "id": "rTD4kySfwAvF"
      },
      "execution_count": null,
      "outputs": []
    },
    {
      "cell_type": "markdown",
      "source": [
        "`Class` の値で色分けして (`Height`, `Weight`) の散布図を描いてみると，次のようになっています．"
      ],
      "metadata": {
        "id": "2D-NArPxzw_x"
      }
    },
    {
      "cell_type": "code",
      "source": [
        "# 「人間 vs ほげ星人」の散布図\n",
        "fig, ax = plt.subplots(figsize=(8, 6))\n",
        "dfTmp = dfHoge.loc[dfHoge['Class'] == 'Human']\n",
        "ax.scatter(dfTmp['Height'], dfTmp['Weight'], label='Human')\n",
        "dfTmp = dfHoge.loc[dfHoge['Class'] == 'Hoge']\n",
        "ax.scatter(dfTmp['Height'], dfTmp['Weight'], label='Hoge')\n",
        "xmin, xmax = 0, 250\n",
        "ymin, ymax = 0, 150\n",
        "ax.set_xlim(xmin, xmax)\n",
        "ax.set_xlabel('Height')\n",
        "ax.set_ylim(ymin, ymax)\n",
        "ax.set_ylabel('Weight')\n",
        "ax.set_aspect('equal')\n",
        "ax.legend()\n",
        "plt.show()"
      ],
      "metadata": {
        "id": "np8JcQZewZgG"
      },
      "execution_count": null,
      "outputs": []
    },
    {
      "cell_type": "markdown",
      "source": [
        "このようなデータが与えられたときに，「人間かほげ星人か分からない（`Class` の値が未知な）ひとの (`Height`, `Width`) の値から，そのひとの `Class` を決定したい」というのが，判別分析の問題の一つの例です．"
      ],
      "metadata": {
        "id": "kssLUmzd0Udc"
      }
    },
    {
      "cell_type": "markdown",
      "source": [
        "#### 問題設定"
      ],
      "metadata": {
        "id": "HiV9-P_h1jmS"
      }
    },
    {
      "cell_type": "markdown",
      "source": [
        "上記の例では，個々のデータが「人間」と「ほげ星人」のどちらのグループに属するのか決めることを考えていました．判別分析では，これらのグループのことを，**クラス** (class) や **カテゴリ** (category)，**群** (group) と呼びます．この例では「人間」クラスと「ほげ星人」クラスの二つを考えていますが，クラスの数は3つ以上あっても構いません．\n",
        "\n",
        "判別分析でやりたいことを一般化して説明すると，次のようになります：\n",
        "\n",
        "> 多変量のデータがあり，その個々のデータは複数のクラスのうちのいずれかに所属しているとする．これらのデータを基にして，新しいデータがどのクラスに所属するのかを決定する仕組み（これを **判別関数** といいます）を作りたい．\n",
        "\n",
        "統計学ではこのような問題を **判別分析** (discriminant analysis) と呼びますが，機械学習等の分野では，**分類** (classification) や **識別** (discrimination)，あるいは **パターン認識** (pattern recognition) と呼びます（「機械学習I/II」の授業で出てきます）．\n"
      ],
      "metadata": {
        "id": "lLJioPrg5TdH"
      }
    },
    {
      "cell_type": "markdown",
      "source": [
        "これまで扱ってきた多変量解析手法では，変数はすべて量的な変数でしたが，判別分析では，説明変数が量的な変数で，被説明変数は質的な変数（注）となっているとみなせます．\n",
        "\n",
        "<br>\n",
        "<hr width=\"50%\" align=\"left\">\n",
        "<span style=\"font-size: 75%\">\n",
        "※ 注意: より詳しく言うと，「人間」と「ほげ星人」みたいに少数の値をとる，「カテゴリカル」な変数．\n",
        "</span>\n"
      ],
      "metadata": {
        "id": "N712j48D3Tzu"
      }
    },
    {
      "cell_type": "markdown",
      "source": [
        "#### 例： Fisher のアヤメのデータ"
      ],
      "metadata": {
        "id": "kKUL6bCcwn98"
      }
    },
    {
      "cell_type": "markdown",
      "source": [
        "判別分析の問題の例をもう一つあげます．植物の [アヤメ](https://ja.wikipedia.org/wiki/%E3%82%A2%E3%83%A4%E3%83%A1) の種を分類する問題です．"
      ],
      "metadata": {
        "id": "gEIrkufhAe9l"
      }
    },
    {
      "cell_type": "code",
      "source": [
        "# Fisher のアヤメのデータ\n",
        "from sklearn.datasets import load_iris\n",
        "iris = load_iris(as_frame=True)\n",
        "dfIris = iris.frame\n",
        "dfIris['species'] = 'hoge'\n",
        "for k, tn in enumerate(iris.target_names):\n",
        "    dfIris.loc[dfIris['target'] == k, 'species'] = tn\n",
        "dfIris.drop(columns='target', inplace=True)\n",
        "dfIris"
      ],
      "metadata": {
        "id": "xY299w7IWHTL"
      },
      "execution_count": null,
      "outputs": []
    },
    {
      "cell_type": "markdown",
      "source": [
        "このデータは，\n",
        "\n",
        "- Iris setosa: [Wikipedia](https://en.wikipedia.org/wiki/Iris_setosa)，[Wikipedia日本語版 ヒオウギアヤメ]( https://ja.wikipedia.org/wiki/%E3%83%92%E3%82%AA%E3%82%A6%E3%82%AE%E3%82%A2%E3%83%A4%E3%83%A1)\n",
        "- Iris versicolor [Wikipedia](https://en.wikipedia.org/wiki/Iris_versicolor)\n",
        "- Iris virginica [Wikipedia](https://en.wikipedia.org/wiki/Iris_virginica)\n",
        "\n",
        "という3種のアヤメの`sepal length`（がく片の長さ[cm]），`sepal width`（がく片の幅[cm]），`petal length`（花弁の長さ[cm]），`petal width`（花弁の幅[cm]）の数値から成るものです．\n",
        "\n",
        "4つの数値が組になったデータですので，先の例のようにそのまま散布図を描くことはできませんが，4つのうち任意の2つの変数を選んで散布図を描くと，次のようになっています．"
      ],
      "metadata": {
        "id": "kCbQqQHUBBw_"
      }
    },
    {
      "cell_type": "code",
      "source": [
        "# Seaborn のペアプロット関数（多次元データの変数間の散布図等を自動的に描いてくれる）\n",
        "seaborn.pairplot(dfIris, hue='species', corner=True)"
      ],
      "metadata": {
        "id": "7xEXhiVsw4Xo"
      },
      "execution_count": null,
      "outputs": []
    },
    {
      "cell_type": "markdown",
      "source": [
        "このデータに対する判別分析の問題は，\n",
        "何らかの方法で，(`sepal length`, `sepal width` , `petal length`, `petal width`) という4つの数値から，この数値の組を持つアヤメの `species` （setosa / versicolor / virginica のいずれか）を予測する，ということになります．"
      ],
      "metadata": {
        "id": "CHLCmVHJEBGl"
      }
    },
    {
      "cell_type": "markdown",
      "source": [
        "余談ですが，このアヤメのデータは，有名な統計学者である Ronald Fisher が判別分析の研究に用いたことから，「Fisher's Iris data set」として知られています．多変量解析や機械学習・パターン認識の教科書等によく出てきます．ここでは，scikit-learn という機械学習ライブラリで提供されているものを利用しています．\n",
        "\n",
        "- Ronald Fisher （ロナルド・フィッシャー）:  イギリスの統計学者・進化生物学者， 1890 - 1962， [Wikipedia](https://ja.wikipedia.org/wiki/%E3%83%AD%E3%83%8A%E3%83%AB%E3%83%89%E3%83%BB%E3%83%95%E3%82%A3%E3%83%83%E3%82%B7%E3%83%A3%E3%83%BC)\n",
        "- [sklearn.datasets.load_iris](https://scikit-learn.org/stable/modules/generated/sklearn.datasets.load_iris.html)"
      ],
      "metadata": {
        "id": "Lz6_svUWIM8O"
      }
    },
    {
      "cell_type": "markdown",
      "source": [
        "---\n",
        "### 2クラス1次元の判別分析\n",
        "\n",
        "ここでは，データは1次元，つまり1つの変数のみから成るものとし，さらに，クラスの数を 2 に限定して，判別分析の考え方や具体的な方法を説明します．"
      ],
      "metadata": {
        "id": "eOdlNbkqK9IB"
      }
    },
    {
      "cell_type": "markdown",
      "source": [
        "#### 考え方\n",
        "\n",
        "\n"
      ],
      "metadata": {
        "id": "48I5n5mzNDdd"
      }
    },
    {
      "cell_type": "markdown",
      "source": [
        "判別分析では，データの背後に正規分布を仮定します．つまり，個々のデータは，何らかの決まったパラメータを持った正規分布から抽出された標本だとします．その正規分布は，クラスごとに一つずつ考えます．例えば，1次元のデータを「クラス1」と「クラス2」の2クラスに分類する問題の場合，\n",
        "\n",
        "- クラス1の正規分布 $N(\\mu_1, \\sigma_1^2)$\n",
        "- クラス2の正規分布 $N(\\mu_2, \\sigma_2^2)$\n",
        "\n",
        "という2つを考えます．これらの正規分布のパラメータは，与えられたデータから適当な方法で推定します．\n",
        "\n",
        "このとき，「$x$ という値をもつデータがクラス1の正規分布から得られたとすることの尤度」と，「$x$ という値をもつデータがクラス2の正規分布から得られたとすることの尤度」を求めてやれば，「$x$ という値をもつデータは，尤度のより大きい方の正規分布に対応するクラスに属すと判定する」ことができるでしょう．これが，判別分析の基本的な考え方です．\n",
        "\n",
        "上記の2つの正規分布の場合，尤度はぞれぞれ\n",
        "$$\n",
        "\\begin{aligned}\n",
        "\\ell_1(x) &= \\frac{1}{\\sqrt{2\\pi\\sigma_1^2}} \\exp{\\left( - \\frac{(x-\\mu_1)^2}{2\\sigma_1^2}\\right)} \\qquad (1)\\\\\n",
        "\\ell_2(x) &= \\frac{1}{\\sqrt{2\\pi\\sigma_2^2}} \\exp{\\left( - \\frac{(x-\\mu_2)^2}{2\\sigma_2^2}\\right)} \\qquad (2)\\\\\n",
        "\\end{aligned}\n",
        "$$\n",
        "と表せます．この $\\ell_1(x)$ と $\\ell_2(x)$ の値を求めて，「$x$という値をもつデータは，$\\ell_1(x) > \\ell_2(x)$ ならクラス1に，$\\ell_1(x) < \\ell_2(x)$ ならクラス2に属すと判定する」ことになります．\n",
        "\n",
        "下図において，青い方がクラス1の，オレンジの方がクラス2の正規分布の確率密度関数だったとすると，次のようになります．\n",
        "\n",
        "- $\\ell_1(x_1) > \\ell_2(x_1)$ なので，$x = x_1$ のデータはクラス1に分類\n",
        "- $\\ell_1(x_2) < \\ell_2(x_2)$ なので，$x = x_2$ のデータはクラス2に分類\n",
        "\n",
        "\n",
        "\n",
        "\n",
        "<img src=\"https://www-tlab.math.ryukoku.ac.jp/~takataka/course/MVA/likelihood.png\">"
      ],
      "metadata": {
        "id": "US_5BdUtSAoN"
      }
    },
    {
      "cell_type": "markdown",
      "source": [
        "#### 判別関数"
      ],
      "metadata": {
        "id": "gYT1lBg-U6zh"
      }
    },
    {
      "cell_type": "markdown",
      "source": [
        "上記で説明していることをまとめると，クラス1,2のどちらに所属するかが未知のデータ $x$ が与えられたときにその所属クラスを判定する手続きは，次のようになります．\n",
        "\n",
        "\n",
        "1. 「$x$ という値をもつデータがクラス1の正規分布から得られたとすることの尤度」 $\\ell_1(x)$ および「クラス2の正規分布から得られたとすることの尤度」$\\ell_2(x)$ の値を計算する\n",
        "1. $\\ell_1(x), \\ell_2(x)$ の大小によって所属クラスを判定する（大きい方に対応するクラスに所属すると判定する）\n",
        "\n",
        "この説明では尤度を用いることになっていますが，実用上は，尤度そのものではなく，その対数をとったもの（対数尤度）の方が計算しやすいため，対数尤度が用いられます．この場合，\n",
        "\n",
        "$$\n",
        "h(x) = \\log{\\ell_1(x)} - \\log{\\ell_2(x)} \\qquad (3)\n",
        "$$\n",
        "\n",
        "という関数を考えて，この値の正負によってクラス1,2の判別をします（ $h(x) > 0$ ならクラス1， $h(x) < 0$ ならクラス2）．この関数を **判別関数** (discriminant function) といいます．\n",
        "\n"
      ],
      "metadata": {
        "id": "qSjrBKEhaNt8"
      }
    },
    {
      "cell_type": "markdown",
      "source": [
        "「考え方」の説明で使った記号を用いて判別関数を具体的に書くと，次のようになります（注）．\n",
        "\n",
        "$$\n",
        "\\begin{aligned}\n",
        "h(x) &=\n",
        "-\\frac{1}{2}\\log{2\\pi\\sigma_1^2} - \\frac{(x-\\mu_1)^2}{2\\sigma_1^2}\n",
        "+\\frac{1}{2}\\log{2\\pi\\sigma_2^2} + \\frac{(x-\\mu_2)^2}{2\\sigma_2^2} \\qquad (4)\\\\\n",
        "&= - \\frac{(x-\\mu_1)^2}{2\\sigma_1^2} + \\frac{(x-\\mu_2)^2}{2\\sigma_2^2} + \\frac{1}{2}\\log{\\frac{\\sigma_2^2}{\\sigma_1^2}} \\qquad (5)\n",
        "\\end{aligned}\n",
        "$$\n",
        "\n",
        "<br>\n",
        "<hr width=\"50%\" align=\"left\">\n",
        "<span style=\"font-size: 75%\">\n",
        "※ 注意: 詳しくいうと，これは「二次判別」と呼ばれる手法における判別関数です．「二次判別」については（それを簡略化した「線形判別」と合わせて）次回説明します．\n",
        "</span>"
      ],
      "metadata": {
        "id": "eOQ6wCdpmb_c"
      }
    },
    {
      "cell_type": "markdown",
      "source": [
        "#### 「人間」vs「ほげ星人」の判別分析（1次元）"
      ],
      "metadata": {
        "id": "uUuJMHP-Y_wn"
      }
    },
    {
      "cell_type": "markdown",
      "source": [
        "実際の例として，「人間」vs「ほげ星人」で，身長の数値のみから人間かほげ星人か判別する問題を考えてみましょう．\n",
        "\n",
        "まず，「人間」の身長の平均と分散 $\\mu_1, \\sigma_1^2$ および，「ほげ星人」の身長の平均と分散 $\\mu_2, \\sigma_2^2$ を推定します（ここでは標本平均，標本分散を用いています）．\n",
        "\n"
      ],
      "metadata": {
        "id": "TVXxV58KRLOj"
      }
    },
    {
      "cell_type": "code",
      "source": [
        "# X_Human が「人間」の身長，X_Hoge が「ほげ星人」の身長\n",
        "X_Human = dfHoge.loc[dfHoge['Class'] == 'Human', 'Height'].to_numpy()\n",
        "X_Hoge  = dfHoge.loc[dfHoge['Class'] == 'Hoge',  'Height'].to_numpy()\n",
        "\n",
        "# それぞれの平均と分散\n",
        "mu1 = np.mean(X_Human)\n",
        "s1 = np.var(X_Human)\n",
        "print(f'mu1 = {mu1:.2f}, s1 = {s1:.2f}')\n",
        "mu2 = np.mean(X_Hoge)\n",
        "s2 = np.var(X_Hoge)\n",
        "print(f'mu2 = {mu2:.2f}, s2 = {s2:.2f}')"
      ],
      "metadata": {
        "id": "wGJoagWzwwlK"
      },
      "execution_count": null,
      "outputs": []
    },
    {
      "cell_type": "markdown",
      "source": [
        "これらの値を用いて式$(5)$の判別関数の値を計算する関数を定義しておきます．"
      ],
      "metadata": {
        "id": "aUHpBqE7wem3"
      }
    },
    {
      "cell_type": "code",
      "source": [
        "# 判別関数の定義（ここでは scipy.stats.norm.logpdf を利用）\n",
        "def h(x, mu1, s1, mu2, s2):\n",
        "    return norm.logpdf(x, loc=mu1, scale=np.sqrt(s1)) - norm.logpdf(x, loc=mu2, scale=np.sqrt(s2))"
      ],
      "metadata": {
        "id": "I4mTl6uX4V_J"
      },
      "execution_count": null,
      "outputs": []
    },
    {
      "cell_type": "markdown",
      "source": [
        "身長のヒストグラムに $N(\\mu_1, \\sigma^2)$ と $N(\\mu_2, \\sigma^2)$ それぞれの確率密度関数を重ねて描くと，こんなんです．\n",
        "\n"
      ],
      "metadata": {
        "id": "PfnkvIqYxAjC"
      }
    },
    {
      "cell_type": "code",
      "source": [
        "### 身長のヒストグラム，推定された正規分布の確率密度関数，判別境界\n",
        "#\n",
        "xmin, xmax = 80, 220\n",
        "bins = np.linspace(xmin, xmax, 28)\n",
        "xx = np.linspace(xmin, xmax, 100)\n",
        "\n",
        "fig, ax = plt.subplots(figsize=(6, 4))\n",
        "ax.hist(X_Human, bins=bins, alpha=0.8, label='Human', density=True)\n",
        "ax.hist(X_Hoge,  bins=bins, alpha=0.8, label='Hoge',  density=True)\n",
        "\n",
        "# 人間クラスの正規分布\n",
        "px1 = norm.pdf(xx, loc=mu1, scale=np.sqrt(s1))\n",
        "ax.plot(xx, px1, linewidth=2, color='blue')\n",
        "\n",
        "# ほげ星人クラスの正規分布\n",
        "px2 = norm.pdf(xx, loc=mu2, scale=np.sqrt(s2))\n",
        "ax.plot(xx, px2, linewidth=2, color='red')\n",
        "\n",
        "# 判別境界（ここでは数値的に求めている）\n",
        "hx = lambda x: h(x, mu1, s1, mu2, s2)\n",
        "p = sp.optimize.brentq(hx, xmin, xmax)\n",
        "ax.axvline(p, linewidth=2, color='purple', label=f'h(x) = 0')\n",
        "print(f'h(x) = 0 となる x の値は {p:.1f}')\n",
        "\n",
        "ax.set_xlim(xmin, xmax)\n",
        "ax.set_xlabel('Height')\n",
        "ax.legend()\n",
        "plt.show()"
      ],
      "metadata": {
        "id": "BjV1gR1xOwx7"
      },
      "execution_count": null,
      "outputs": []
    },
    {
      "cell_type": "markdown",
      "source": [
        "紫の直線は，判別関数 $h(x)$ の値が $0$ となる $x$ の値を表します．$h(x)$ によって人間クラスとほげ星人クラスを判別するときに，この点がちょうど2クラスの境界となっています．\n",
        "この場合，\n",
        "\n",
        "- 身長が 160cm のひとは，$h(160) > 0$ なので，人間と予測される\n",
        "- 身長が 140cm のひとは，$h(140) < 0$ なので，ほげ星人と予測される\n",
        "\n",
        "ことになります．"
      ],
      "metadata": {
        "id": "O5zQFJ8T1oGO"
      }
    },
    {
      "cell_type": "markdown",
      "source": [
        "与えられたデータのそれぞれについて判別関数の値を計算し，予測が正しいかどうか調べてみましょう．"
      ],
      "metadata": {
        "id": "GLgaCUu3uQ0l"
      }
    },
    {
      "cell_type": "code",
      "source": [
        "# X_Human[n] の判別関数の値を求め H_Human[n] に代入\n",
        "H_Human = h(X_Human, mu1, s1, mu2, s2)\n",
        "# X_Hoge[n] の判別関数の値を求め H_Human[n] に代入\n",
        "H_Hoge  = h(X_Hoge,  mu1, s1, mu2, s2)\n",
        "\n",
        "# 混同行列 confusion[i, j] は，正解が i 番目のクラスで予測が j 番目のクラスだったデータの数\n",
        "confusion = np.empty((2, 2), dtype=int)\n",
        "c = np.sum(H_Human >= 0)\n",
        "confusion[0, :] = [c, len(X_Human) - c]\n",
        "c = np.sum(H_Hoge >= 0)\n",
        "confusion[1, :] = [c, len(X_Hoge) - c]\n",
        "\n",
        "# 混同行列を Markdown の表形式で表示\n",
        "ss = f'''\n",
        "| |予測が Human|予測が Hoge|\n",
        "|:--|--:|--:|\n",
        "|**正解が Human**|{confusion[0, 0]}|{confusion[0, 1]}|\n",
        "|**正解が Hoge**|{confusion[1, 0]}|{confusion[1, 1]}|\n",
        "'''\n",
        "display(Markdown(ss))"
      ],
      "metadata": {
        "id": "NAs1cWetuic8"
      },
      "execution_count": null,
      "outputs": []
    },
    {
      "cell_type": "markdown",
      "source": [
        "人間については100人中98人を正しく人間と判別し，ほげ星人については100人中99人を正しくほげ星人と判別しています．\n",
        "間違っているところは，上のヒストグラムで判別境界の反対側にはみ出している部分です．"
      ],
      "metadata": {
        "id": "c2UuQJ1pud9r"
      }
    },
    {
      "cell_type": "markdown",
      "source": [
        "次に，体重の方のデータで同じことをやってみましょう．"
      ],
      "metadata": {
        "id": "qrl7wV1-1i_v"
      }
    },
    {
      "cell_type": "code",
      "source": [
        "# X_Human が「人間」の体重，X_Hoge が「ほげ星人」の体重\n",
        "X_Human = dfHoge.loc[dfHoge['Class'] == 'Human', 'Weight'].to_numpy()\n",
        "X_Hoge  = dfHoge.loc[dfHoge['Class'] == 'Hoge',  'Weight'].to_numpy()\n",
        "\n",
        "# それぞれの平均と分散\n",
        "mu1 = np.mean(X_Human)\n",
        "s1 = np.var(X_Human)\n",
        "print(f'mu1 = {mu1:.2f}, s1 = {s1:.2f}')\n",
        "mu2 = np.mean(X_Hoge)\n",
        "s2 = np.var(X_Hoge)\n",
        "print(f'mu2 = {mu2:.2f}, s2 = {s2:.2f}')"
      ],
      "metadata": {
        "id": "2r_DO6vf2Ky0"
      },
      "execution_count": null,
      "outputs": []
    },
    {
      "cell_type": "code",
      "source": [
        "### 体重のヒストグラム，推定された正規分布の確率密度関数，判別境界\n",
        "#\n",
        "xmin, xmax = 0, 150\n",
        "bins = np.linspace(xmin, xmax, 28)\n",
        "xx = np.linspace(xmin, xmax, 100)\n",
        "\n",
        "fig, ax = plt.subplots(figsize=(6, 4))\n",
        "ax.hist(X_Human, bins=bins, alpha=0.8, label='Human', density=True)\n",
        "ax.hist(X_Hoge,  bins=bins, alpha=0.8, label='Hoge',  density=True)\n",
        "\n",
        "# 人間クラスの正規分布\n",
        "px1 = norm.pdf(xx, loc=mu1, scale=np.sqrt(s1))\n",
        "ax.plot(xx, px1, linewidth=2, color='blue')\n",
        "\n",
        "# ほげ星人クラスの正規分布\n",
        "px2 = norm.pdf(xx, loc=mu2, scale=np.sqrt(s2))\n",
        "ax.plot(xx, px2, linewidth=2, color='red')\n",
        "\n",
        "# 判別境界（ここでは数値的に求めている）\n",
        "hx = lambda x: h(x, mu1, s1, mu2, s2)\n",
        "p = sp.optimize.brentq(hx, xmin, xmax)\n",
        "ax.axvline(p, linewidth=2, color='purple', label=f'h(x) = 0')\n",
        "print(f'h(x) = 0 となる x の値は {p:.1f}')\n",
        "\n",
        "ax.set_xlim(xmin, xmax)\n",
        "ax.set_xlabel('Height')\n",
        "ax.legend()\n",
        "plt.show()"
      ],
      "metadata": {
        "id": "lWakVKG-2l9d"
      },
      "execution_count": null,
      "outputs": []
    },
    {
      "cell_type": "markdown",
      "source": [
        "クラスを予測させてみると...\n",
        "\n",
        "\n"
      ],
      "metadata": {
        "id": "nTzBueqA2zi7"
      }
    },
    {
      "cell_type": "code",
      "source": [
        "# X_Human[n] の判別関数の値を求め H_Human[n] に代入\n",
        "H_Human = h(X_Human, mu1, s1, mu2, s2)\n",
        "# X_Hoge[n] の判別関数の値を求め H_Human[n] に代入\n",
        "H_Hoge  = h(X_Hoge,  mu1, s1, mu2, s2)\n",
        "\n",
        "# 混同行列 confusion[i, j] は，正解が i 番目のクラスで予測が j 番目のクラスだったデータの数\n",
        "confusion = np.empty((2, 2), dtype=int)\n",
        "c = np.sum(H_Human >= 0)\n",
        "confusion[0, :] = [c, len(X_Human) - c]\n",
        "c = np.sum(H_Hoge >= 0)\n",
        "confusion[1, :] = [c, len(X_Hoge) - c]\n",
        "\n",
        "# 混同行列を Markdown の表形式で表示\n",
        "ss = f'''\n",
        "| |予測が Human|予測が Hoge|\n",
        "|:--|--:|--:|\n",
        "|**正解が Human**|{confusion[0, 0]}|{confusion[0, 1]}|\n",
        "|**正解が Hoge**|{confusion[1, 0]}|{confusion[1, 1]}|\n",
        "'''\n",
        "display(Markdown(ss))"
      ],
      "metadata": {
        "id": "5cp_dANFw1MH"
      },
      "execution_count": null,
      "outputs": []
    },
    {
      "cell_type": "markdown",
      "source": [
        "体重を変数とした場合の判別の境界は約 81 kgで，値がこれ以下なら人間，これより大きければほげ星人と予測される結果となりました．\n",
        "ヒストグラムと密度関数のグラフからも明らかですが，人間とほげ星人の値が入り混じっていますので，あまりよい予測ができていません．\n"
      ],
      "metadata": {
        "id": "k6V2SedNwzSr"
      }
    },
    {
      "cell_type": "markdown",
      "source": [
        "---\n",
        "### 2クラス多次元の判別分析"
      ],
      "metadata": {
        "id": "_dmxvPd-9SK5"
      }
    },
    {
      "cell_type": "markdown",
      "source": [
        "前のセクションでは，判別分析の方法を，具体的な計算の仕方も含めて説明するために，最も簡単な2クラス1次元の場合に限定して考えていました．(身長,体重)という2つの変数を持つデータを例にしてはいましたが，どちらかの変数だけで判別分析を行っていました．ここでは，2つ以上の変数を持つ多次元データの判別分析について説明し（クラス数は2に限定したまま），両方の変数を使って判別分析する実験を行ってみます．"
      ],
      "metadata": {
        "id": "Nar3kMPyxo1R"
      }
    },
    {
      "cell_type": "markdown",
      "source": [
        "#### 考え方\n",
        "\n"
      ],
      "metadata": {
        "id": "XktmhDszwQnJ"
      }
    },
    {
      "cell_type": "markdown",
      "source": [
        "多次元データの場合も1次元の場合と考え方は同じです．$D$ 次元のデータを「クラス1」と「クラス2」の2クラスに分類する問題の場合，\n",
        "\n",
        "- クラス1の正規分布 $N\\left(\\pmb{\\mu}_1, \\Sigma_1\\right)$\n",
        "- クラス2の正規分布 $N\\left(\\pmb{\\mu}_2, \\Sigma_2\\right)$\n",
        "\n",
        "という2つを考えます．これらの正規分布のパラメータについては，与えられたデータから適当な方法で推定します．\n",
        "\n",
        "このとき，「$\\pmb{x}$ という値をもつデータがクラス1の正規分布から得られたとすることの尤度」 $\\ell_1(\\pmb{x})$ と，「$\\pmb{x}$ という値をもつデータがクラス2の正規分布から得られたとすることの尤度」$\\ell_2(\\pmb{x})$ はそれぞれ，次式で与えられます．\n",
        "\n",
        "$$\n",
        "\\begin{aligned}\n",
        "\\ell_1(\\pmb{x}) &= \\frac{1}{\\sqrt{(2\\pi)^D|\\Sigma_1|}} \\exp{\\left( -\\frac{1}{2} (\\pmb{x}-\\pmb{\\mu}_1)^{\\top}\\Sigma_1^{-1}(\\pmb{x}-\\pmb{\\mu}_1) \\right)} & (6)\\\\\n",
        "\\ell_2(\\pmb{x}) &= \\frac{1}{\\sqrt{(2\\pi)^D|\\Sigma_2|}} \\exp{\\left( -\\frac{1}{2} (\\pmb{x}-\\pmb{\\mu}_2)^{\\top}\\Sigma_2^{-1}(\\pmb{x}-\\pmb{\\mu}_2) \\right)} & (7)\\\\\n",
        "\\end{aligned}\n",
        "$$\n",
        "\n",
        "クラスが未知のデータ $\\pmb{x}$ のクラスを判別したいときは，$\\ell_1(\\pmb{x}), \\ell_2(\\pmb{x})$ の値を計算して，その値が大きい方のクラスに属するとします．\n"
      ],
      "metadata": {
        "id": "oueqUTFwwcPx"
      }
    },
    {
      "cell_type": "markdown",
      "source": [
        "#### 判別関数"
      ],
      "metadata": {
        "id": "PIG2FJw76EwG"
      }
    },
    {
      "cell_type": "markdown",
      "source": [
        "多次元の場合も，1次元の場合と同様に対数尤度を用いて次のように判別関数を定義します．\n",
        "\n",
        "$$\n",
        "h(\\pmb{x}) = \\log{\\ell_1(\\pmb{x})} - \\log{\\ell_2(\\pmb{x})} \\qquad (8)\n",
        "$$\n",
        "\n",
        "ここで，対数尤度 $\\log{\\ell_1(\\pmb{x})}, \\log{\\ell_2(\\pmb{x})}$ は次のように与えられます．\n",
        "\n",
        "$$\n",
        "\\begin{aligned}\n",
        "\\log{\\ell_1(\\pmb{x})} &= -\\frac{D}{2}\\log(2\\pi) - \\frac{1}{2}\\log{|\\Sigma_1|} -\\frac{1}{2} (\\pmb{x}-\\pmb{\\mu}_1)^{\\top}\\Sigma_1^{-1}(\\pmb{x}-\\pmb{\\mu}_1)  & (9)\\\\\n",
        "\\log{\\ell_2(\\pmb{x})} &= -\\frac{D}{2}\\log(2\\pi) - \\frac{1}{2}\\log{|\\Sigma_2|} - \\frac{1}{2} (\\pmb{x}-\\pmb{\\mu}_2)^{\\top}\\Sigma_2^{-1}(\\pmb{x}-\\pmb{\\mu}_2) & (10)\n",
        "\\end{aligned}\n",
        "$$\n",
        "\n",
        "したがって，判別関数 $h(\\pmb{x})$ は次のような式となります（注）．\n",
        "\n",
        "$$\n",
        "h(\\pmb{x}) =  -\\frac{1}{2} (\\pmb{x}-\\pmb{\\mu}_1)^{\\top}\\Sigma_1^{-1}(\\pmb{x}-\\pmb{\\mu}_1) + \\frac{1}{2} (\\pmb{x}-\\pmb{\\mu}_2)^{\\top}\\Sigma_2^{-1}(\\pmb{x}-\\pmb{\\mu}_2) + \\frac{1}{2}\\log{\\frac{|\\Sigma_2|}{|\\Sigma_1|}} \\qquad (11)\n",
        "$$\n",
        "\n",
        "<br>\n",
        "<hr width=\"50%\" align=\"left\">\n",
        "<span style=\"font-size: 75%\">\n",
        "※ 注意: 詳しくいうと，これは「二次判別」と呼ばれる手法における判別関数です．「二次判別」については（それを簡略化した「線形判別」と合わせて）次回説明します．\n",
        "</span>"
      ],
      "metadata": {
        "id": "hl47-2Jx6M42"
      }
    },
    {
      "cell_type": "markdown",
      "source": [
        "#### 「人間」vs「ほげ星人」の判別分析（2次元）"
      ],
      "metadata": {
        "id": "8HS6FBQx8okO"
      }
    },
    {
      "cell_type": "markdown",
      "source": [
        "「人間」vs「ほげ星人」の $(身長, 体重)$ データを判別分析してみましょう．\n",
        "\n"
      ],
      "metadata": {
        "id": "mMfsDydN8wsA"
      }
    },
    {
      "cell_type": "code",
      "source": [
        "# データを格納した2次元配列をつくる\n",
        "X2_Human = dfHoge.loc[dfHoge['Class'] == 'Human', ['Height', 'Weight']].to_numpy()\n",
        "X2_Hoge  = dfHoge.loc[dfHoge['Class'] == 'Hoge',  ['Height', 'Weight']].to_numpy()\n",
        "\n",
        "print('人間の最初の5人')\n",
        "print(X2_Human[:5, :])\n",
        "print()\n",
        "print('ほげ星人の最初の5人')\n",
        "print(X2_Hoge[:5, :])"
      ],
      "metadata": {
        "id": "iV04lERq992L"
      },
      "execution_count": null,
      "outputs": []
    },
    {
      "cell_type": "markdown",
      "source": [
        "まず，人間の平均 `mu_Human`，分散共分散行列 `cov_Human`，ほげ星人の平均 `mu_Hoge`，分散共分散行列 `cov_Hoge` を求めます．\n"
      ],
      "metadata": {
        "id": "biYHsua3-ADm"
      }
    },
    {
      "cell_type": "code",
      "source": [
        "# 人間クラスのデータの平均と分散共分散行列\n",
        "mu2_Human = np.mean(X2_Human, axis=0)\n",
        "print('mu2_Human = ', mu2_Human)\n",
        "XX = X2_Human - mu2_Human\n",
        "cov2_Human = XX.T @ XX / XX.shape[0]\n",
        "print('cov2_Human = ')\n",
        "print(cov2_Human)\n",
        "print()\n",
        "\n",
        "# ほげ星人クラスのデータの平均と分散共分散行列\n",
        "mu2_Hoge = np.mean(X2_Hoge, axis=0)\n",
        "print('mu2_Hoge = ', mu2_Hoge)\n",
        "XX = X2_Hoge - mu2_Hoge\n",
        "cov2_Hoge = XX.T @ XX / XX.shape[0]\n",
        "print('cov2_Hoge = ')\n",
        "print(cov2_Hoge)"
      ],
      "metadata": {
        "id": "uAivus6g9UlU"
      },
      "execution_count": null,
      "outputs": []
    },
    {
      "cell_type": "markdown",
      "source": [
        "これらの値を用いて式$(11)$の判別関数の値を計算する関数を定義しておきます．"
      ],
      "metadata": {
        "id": "GHYd6Jkx7Mr8"
      }
    },
    {
      "cell_type": "code",
      "source": [
        "# 判別関数の定義（scipy.stats.multivariate_normal.logpdf を利用）\n",
        "def h2(X, mu1, cov1, mu2, cov2):\n",
        "    L1 = multivariate_normal.logpdf(X, mean=mu1, cov=cov1)\n",
        "    L2 = multivariate_normal.logpdf(X, mean=mu2, cov=cov2)\n",
        "    return L1 - L2"
      ],
      "metadata": {
        "id": "_H0aV3u_3CTE"
      },
      "execution_count": null,
      "outputs": []
    },
    {
      "cell_type": "markdown",
      "source": [
        "判別分析の結果を直感的に理解できるように，データの散布図に重ねて，人間クラスほげ星人クラスそれぞれの推定された正規分布の等高線を描いてみましょう．"
      ],
      "metadata": {
        "id": "ECZaBhml_4a3"
      }
    },
    {
      "cell_type": "code",
      "source": [
        "##### 判別分析の結果を可視化する\n",
        "#\n",
        "fig, ax = plt.subplots(figsize=(10, 5))\n",
        "xmin, xmax = 50, 250\n",
        "ymin, ymax = 0, 150\n",
        "xx, yy = np.mgrid[xmin:xmax:0.1, ymin:ymax:0.1]\n",
        "\n",
        "# 人間クラスの散布図と推定された正規分布の等高線\n",
        "ax.scatter(X2_Human[:, 0], X2_Human[:, 1], label='Human')\n",
        "zz = multivariate_normal.pdf(np.dstack((xx, yy)), mean=mu2_Human, cov=cov2_Human)\n",
        "ax.contour(xx, yy, zz, colors='blue')\n",
        "\n",
        "# ほげ星人クラスの散布図と推定された正規分布の等高線\n",
        "ax.scatter(X2_Hoge[:, 0], X2_Hoge[:, 1], label='Hoge')\n",
        "zz = multivariate_normal.pdf(np.dstack((xx, yy)), mean=mu2_Hoge, cov=cov2_Hoge)\n",
        "ax.contour(xx, yy, zz, colors='red')\n",
        "\n",
        "# 判別境界\n",
        "zz = (h2(np.dstack((xx, yy)), mu2_Human, cov2_Human, mu2_Hoge, cov2_Hoge) < 0).astype(float)\n",
        "ax.contourf(xx, yy, zz, cmap='bwr', alpha=0.2)\n",
        "\n",
        "ax.set_xlim(xmin, xmax)\n",
        "ax.set_xlabel('Height')\n",
        "ax.set_ylim(ymin, ymax)\n",
        "ax.set_ylabel('Weight')\n",
        "ax.set_aspect('equal')\n",
        "ax.legend()\n",
        "plt.show()"
      ],
      "metadata": {
        "id": "nibMnU19_TJS"
      },
      "execution_count": null,
      "outputs": []
    },
    {
      "cell_type": "markdown",
      "source": [
        "薄い青色は $h(\\pmb{x}) > 0$ となる（人間と判別される）領域，薄い赤色は $h(\\pmb{x}) < 0$ となる（ほげ星人と判別される）領域です．両者の境界に描かれた曲線は， $h(\\pmb{x}) = 0$ となる $\\pmb{x}$ の値の集合です．\n",
        "例えば，$(\\mbox{身長},\\mbox{体重}) = (150, 60)$ のひとは人間と判別され，$(150, 100)$ のひとはほげ星人と判別されることがわかります．\n",
        "\n",
        "それでは，個々のデータのクラスを予測させて，どれくらい正解できるかカウントしてみましょう．\n"
      ],
      "metadata": {
        "id": "fVmO-s5mFOz-"
      }
    },
    {
      "cell_type": "code",
      "source": [
        "# X2_Human[n] の判別関数の値を求め H_Human[n] に代入\n",
        "H_Human = h2(X2_Human, mu2_Human, cov2_Human, mu2_Hoge, cov2_Hoge)\n",
        "# X2_Hoge[n] の判別関数の値を求め H_Human[n] に代入\n",
        "H_Hoge = h2(X2_Hoge, mu2_Human, cov2_Human, mu2_Hoge, cov2_Hoge)\n",
        "\n",
        "# 混同行列 confusion[i, j] は，正解が i 番目のクラスで予測が j 番目のクラスだったデータの数\n",
        "confusion = np.empty((2, 2), dtype=int)\n",
        "c = np.sum(H_Human >= 0)\n",
        "confusion[0, :] = [c, len(X2_Human) - c]\n",
        "c = np.sum(H_Hoge >= 0)\n",
        "confusion[1, :] = [c, len(X2_Hoge) - c]\n",
        "\n",
        "# 混同行列を Markdown の表形式で表示\n",
        "ss = f'''\n",
        "| |予測が Human|予測が Hoge|\n",
        "|:--|--:|--:|\n",
        "|**正解が Human**|{confusion[0, 0]}|{confusion[0, 1]}|\n",
        "|**正解が Hoge**|{confusion[1, 0]}|{confusion[1, 1]}|\n",
        "'''\n",
        "display(Markdown(ss))"
      ],
      "metadata": {
        "id": "fCBjwxnK52Mc"
      },
      "execution_count": null,
      "outputs": []
    },
    {
      "cell_type": "markdown",
      "source": [
        "身長のみや体重のみの判別分析では誤った判別をする場合がありましたが，身長と体重の両方を用いる2次元の判別分析では，全てのデータを正しく判別できる結果となりました．"
      ],
      "metadata": {
        "id": "i4ErVf-k2iuI"
      }
    },
    {
      "cell_type": "markdown",
      "source": [
        "---\n",
        "### 判別関数とマハラノビス距離"
      ],
      "metadata": {
        "id": "xSCF1BiE9eUC"
      }
    },
    {
      "cell_type": "markdown",
      "source": [
        "**マハラノビス距離については，ex10notebookC で解説しています**\n",
        "\n",
        "多次元正規分布を用いる判別分析における判別関数は式(11)で表されるのでした．\n",
        "\n",
        "$$\n",
        "h(\\pmb{x}) =  -\\frac{1}{2} (\\pmb{x}-\\pmb{\\mu}_1)^{\\top}\\Sigma_1^{-1}(\\pmb{x}-\\pmb{\\mu}_1) + \\frac{1}{2} (\\pmb{x}-\\pmb{\\mu}_2)^{\\top}\\Sigma_2^{-1}(\\pmb{x}-\\pmb{\\mu}_2) + \\frac{1}{2}\\log{\\frac{|\\Sigma_2|}{|\\Sigma_1|}} \\qquad (11)\n",
        "$$\n",
        "\n",
        "この式の値の計算は少々面倒なので，場合によってより簡略化した判別関数を用いることがあります（詳しいことは次回説明します）．例えば，この式の第3項を無視すると，\n",
        "\n",
        "$$\n",
        "h(\\pmb{x}) = -\\frac{1}{2} (\\pmb{x}-\\pmb{\\mu}_1)^{\\top}\\Sigma_1^{-1}(\\pmb{x}-\\pmb{\\mu}_1) + \\frac{1}{2} (\\pmb{x}-\\pmb{\\mu}_2)^{\\top}\\Sigma_2^{-1}(\\pmb{x}-\\pmb{\\mu}_2) \\qquad (12)\n",
        "$$\n",
        "\n",
        "と書けます．ここで，\n",
        "\n",
        "- クラス1の正規分布 $N\\left(\\pmb{\\mu}_1, \\Sigma_1\\right)$ に対するマハラノビス距離: $d_{1}(\\pmb{x})$\n",
        "- クラス2の正規分布 $N\\left(\\pmb{\\mu}_2, \\Sigma_2\\right)$ に対するマハラノビス距離: $d_{2}(\\pmb{x})$\n",
        "\n",
        "とすると，式(12)の判別関数は次のように表されます．\n",
        "\n",
        "$$\n",
        "h(\\pmb{x}) = \\frac{d_{2}^2(\\pmb{x}) - d_{1}^2(\\pmb{x})}{2} \\qquad (13)\n",
        "$$\n",
        "\n",
        "この式の値は，2つのマハラノビス距離の大小に応じて正負が決まります．つまり，式(12)を判別関数とする場合，クラスごとに当てはめた正規分布に対して，マハラノビス距離を規準としてより近い方の正規分布が表すクラスに所属すると判断することに相当します．\n"
      ],
      "metadata": {
        "id": "k5BZDz8W9yNj"
      }
    },
    {
      "cell_type": "code",
      "source": [],
      "metadata": {
        "id": "hj0mIlLFWTT3"
      },
      "execution_count": null,
      "outputs": []
    }
  ]
}