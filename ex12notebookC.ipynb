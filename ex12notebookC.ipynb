{
  "nbformat": 4,
  "nbformat_minor": 0,
  "metadata": {
    "colab": {
      "provenance": [],
      "toc_visible": true,
      "authorship_tag": "ABX9TyPY3RMUYoYpWt8w817UZXhd",
      "include_colab_link": true
    },
    "kernelspec": {
      "name": "python3",
      "display_name": "Python 3"
    },
    "language_info": {
      "name": "python"
    }
  },
  "cells": [
    {
      "cell_type": "markdown",
      "metadata": {
        "id": "view-in-github",
        "colab_type": "text"
      },
      "source": [
        "<a href=\"https://colab.research.google.com/github/takatakamanbou/MVA/blob/2022/ex12notebookC.ipynb\" target=\"_parent\"><img src=\"https://colab.research.google.com/assets/colab-badge.svg\" alt=\"Open In Colab\"/></a>"
      ]
    },
    {
      "cell_type": "markdown",
      "source": [
        "# MVA2022 ex12notebookC\n",
        "\n",
        "<img width=64 src=\"https://www-tlab.math.ryukoku.ac.jp/~takataka/course/MVA/MVA-logo12.png\"> https://www-tlab.math.ryukoku.ac.jp/wiki/?MVA/2022"
      ],
      "metadata": {
        "id": "P4preLw7SzqH"
      }
    },
    {
      "cell_type": "markdown",
      "source": [
        "----\n",
        "## 演習問題 - 猫顔画像のクラスタリング\n",
        "----\n",
        "\n",
        "猫顔画像131枚をクラスタリングしてみましょう．"
      ],
      "metadata": {
        "id": "zDtnBWKha6vx"
      }
    },
    {
      "cell_type": "code",
      "metadata": {
        "id": "I226xIKJbqtM"
      },
      "source": [
        "# 準備あれこれ\n",
        "import numpy as np\n",
        "import matplotlib.pyplot as plt\n",
        "import pandas as pd\n",
        "import seaborn\n",
        "seaborn.set()\n",
        "\n",
        "# SciPy の階層型クラスタリングパッケージ\n",
        "import scipy.cluster.hierarchy as hierarchy\n",
        "\n",
        "# scikit-learn の K-平均法のクラス\n",
        "from sklearn.cluster import KMeans"
      ],
      "execution_count": null,
      "outputs": []
    },
    {
      "cell_type": "markdown",
      "source": [
        "---\n",
        "### 準備"
      ],
      "metadata": {
        "id": "zajrwcMtBO2I"
      }
    },
    {
      "cell_type": "markdown",
      "source": [
        "画像を並べて表示する関数を定義しておきます．"
      ],
      "metadata": {
        "id": "OeywR4C1BaGq"
      }
    },
    {
      "cell_type": "code",
      "source": [
        "#####  データの最初の nx x ny 枚を可視化\n",
        "#\n",
        "def mosaicImage(ax, dat, nx, ny, nrow=64, ncol=64, gap=4):\n",
        "\n",
        "    # 並べた画像の幅と高さ\n",
        "    width  = nx * (ncol + gap) + gap\n",
        "    height = ny * (nrow + gap) + gap\n",
        "\n",
        "    # 画像の作成\n",
        "    img = np.zeros((height, width), dtype=int) + 128\n",
        "    for iy in range(ny):\n",
        "        lty = iy*(nrow + gap) + gap\n",
        "        for ix in range(nx):\n",
        "            if iy*nx+ix >= dat.shape[0]:\n",
        "                break\n",
        "            ltx = ix*(ncol + gap) + gap\n",
        "            img[lty:lty+nrow, ltx:ltx+ncol] = dat[iy*nx+ix, :].reshape((nrow, ncol))\n",
        "\n",
        "    # 表示\n",
        "    ax.axis('off')\n",
        "    ax.imshow(img, cmap='gray')\n"
      ],
      "metadata": {
        "id": "jV0GfV6n39Wi"
      },
      "execution_count": null,
      "outputs": []
    },
    {
      "cell_type": "markdown",
      "source": [
        "猫顔画像データを入手して一部を表示してみます．"
      ],
      "metadata": {
        "id": "9XG_-Er6Be5x"
      }
    },
    {
      "cell_type": "code",
      "source": [
        "# 猫顔画像データを入手\n",
        "! wget -nc https://www-tlab.math.ryukoku.ac.jp/~takataka/course/MVA/cat131.npz\n",
        "cat = np.load('cat131.npz')['cat131']\n",
        "N, D = cat.shape\n",
        "print(f'データ数 x 次元数 = {N} x {D}')\n",
        "\n",
        "# 最初の 20 枚を表示\n",
        "fig, ax = plt.subplots(figsize=(6, 6))\n",
        "mosaicImage(ax, cat, 5, 4)\n",
        "plt.show()  "
      ],
      "metadata": {
        "id": "waXlsaXF31gU"
      },
      "execution_count": null,
      "outputs": []
    },
    {
      "cell_type": "markdown",
      "source": [
        "---\n",
        "### 階層型クラスタリングしてみよう\n",
        "\n"
      ],
      "metadata": {
        "id": "3Y6cgkmtJ4Hy"
      }
    },
    {
      "cell_type": "markdown",
      "source": [
        "上記の配列 `cat` に格納されたデータを対象に階層型クラスタリングを実行します．\n",
        "[scipy.cluster.hiearchy.linkage](https://docs.scipy.org/doc/scipy/reference/generated/scipy.cluster.hierarchy.linkage.html) でクラスタリングして，\n",
        "[scipy.cluster.hierarchy.dendrogram](https://docs.scipy.org/doc/scipy/reference/generated/scipy.cluster.hierarchy.dendrogram.html) でデンドログラムを描きます．\n",
        "標本間の距離はユークリッド距離，クラスタ間の距離はウォード法で測ります．"
      ],
      "metadata": {
        "id": "NDnxplQspxx1"
      }
    },
    {
      "cell_type": "code",
      "source": [
        "link = hierarchy.linkage(cat, method='ward', metric='euclidean')\n",
        "fig, ax = plt.subplots(figsize=(8, 20))\n",
        "hierarchy.dendrogram(link, orientation='right', distance_sort='descending', show_leaf_counts=True, leaf_font_size=8, ax=ax)\n",
        "plt.show()"
      ],
      "metadata": {
        "id": "aW9hRlfj_TaK"
      },
      "execution_count": null,
      "outputs": []
    },
    {
      "cell_type": "markdown",
      "source": [
        "次のセルを実行すると，`threshold` で指定した値をクラスタ間距離のしきい値として画像をクラスタに分けて，それぞれのクラスタに属する画像の数を表示します．"
      ],
      "metadata": {
        "id": "XpyqGERQrPhw"
      }
    },
    {
      "cell_type": "code",
      "source": [
        "threshold = 20000 # クラスタ間距離のしきい値\n",
        "\n",
        "label = hierarchy.fcluster(link, t=threshold, criterion='distance')\n",
        "print(label)\n",
        "K = max(label) # クラスタ数\n",
        "\n",
        "print()\n",
        "print(f'threshold = {threshold}, K = {K}')\n",
        "for ik in range(K):\n",
        "    print(f'cluster{ik+1}: num = {np.sum(label == ik+1)}')"
      ],
      "metadata": {
        "id": "4yJXWcjAqtqg"
      },
      "execution_count": null,
      "outputs": []
    },
    {
      "cell_type": "markdown",
      "source": [
        "次のセルを実行すると，上で得られたクラスタリングの結果を画像として表示します．一つのクラスタに属する画像を横に並べてあります．"
      ],
      "metadata": {
        "id": "Ct6CUGBIChMD"
      }
    },
    {
      "cell_type": "code",
      "source": [
        "# 各クラスタに属する画像を表示\n",
        "\n",
        "nc = 10 # 1行に並べる画像の最大数\n",
        "\n",
        "dat = np.zeros((K, nc, D))\n",
        "for ik in range(K):\n",
        "    idx = label == (ik+1)\n",
        "    n = np.sum(idx)\n",
        "    if n < nc:\n",
        "        dat[ik, :n, :] = cat[idx, :]\n",
        "    else:\n",
        "        dat[ik, :, :] = cat[idx, :][:nc, :]\n",
        "\n",
        "dat = dat.reshape((-1, D))\n",
        "\n",
        "fig, ax = plt.subplots(figsize=(12, 12))\n",
        "mosaicImage(ax, dat, nc, K)\n",
        "plt.show()  "
      ],
      "metadata": {
        "id": "t7KpSHPPCbPs"
      },
      "execution_count": null,
      "outputs": []
    },
    {
      "cell_type": "markdown",
      "source": [
        "### 問題1\n",
        "\n",
        "次のことを考えて／調べてメモしておこう：\n",
        "\n",
        "(1) この実験では何をやっている？どんな手法を使っている？\n",
        "\n",
        "(2) 使っているデータのデータ数と次元数はいくつ？\n"
      ],
      "metadata": {
        "id": "gXXKcqAJN8OX"
      }
    },
    {
      "cell_type": "markdown",
      "source": [
        "### 問題2\n",
        "\n",
        "次のことをやろう：\n",
        "\n",
        "(1) クラスタ間距離のしきい値をいろいろ変えて結果を観察しよう．\n",
        "\n",
        "(2) クラスタ間距離のしきい値が 6000 のときのクラスタ数と，各クラスタに属する画像の数の最大と最小をメモしよう．\n",
        "\n",
        "(3) クラスタ数が 13 になるようなクラスタ間距離のしきい値を求め，そのときに各クラスタに属する画像の数の最大と最小をメモしよう．"
      ],
      "metadata": {
        "id": "ScQfE5VyYxaa"
      }
    },
    {
      "cell_type": "markdown",
      "source": [],
      "metadata": {
        "id": "LDI7xXBFONDy"
      }
    },
    {
      "cell_type": "markdown",
      "source": [
        "----\n",
        "## 演習問題 - 手書き数字画像のクラスタリング\n",
        "----\n",
        "\n",
        "手書き数字の画像をクラスタリングしてみましょう．"
      ],
      "metadata": {
        "id": "QGe1ht7mONSw"
      }
    },
    {
      "cell_type": "markdown",
      "source": [
        "---\n",
        "### 準備\n"
      ],
      "metadata": {
        "id": "itQbtbepOYfY"
      }
    },
    {
      "cell_type": "code",
      "source": [
        "# 手書き数字データの入手\n",
        "! wget -nc https://www-tlab.math.ryukoku.ac.jp/~takataka/course/ML/minimnist.npz\n",
        "rv = np.load('minimnist.npz')\n",
        "X_train = rv['datL'].astype(float)\n",
        "#Y_train = rv['labL']\n",
        "#X_test = rv['datT'].astype(float)\n",
        "#Y_test = rv['labT']\n",
        "#print(X_train.shape, Y_train.shape, X_test.shape, Y_test.shape)\n",
        "\n",
        "#K = 10 # クラス数\n",
        "N_train, D = X_train.shape\n",
        "#N_test, _  = X_test.shape"
      ],
      "metadata": {
        "id": "bKzNDtm7ORj0"
      },
      "execution_count": null,
      "outputs": []
    },
    {
      "cell_type": "code",
      "source": [
        "print('### 手書き数字画像 ###')\n",
        "print(f'データ数 x 次元数 = {X_train.shape[0]} x {X_train.shape[1]}')\n",
        "\n",
        "# 最初の 60 枚を表示\n",
        "fig, ax = plt.subplots(figsize=(12, 6))\n",
        "mosaicImage(ax, X_train, 15, 4, nrow=28, ncol=28)\n",
        "plt.show()  "
      ],
      "metadata": {
        "id": "abyFN-d1Ole9"
      },
      "execution_count": null,
      "outputs": []
    },
    {
      "cell_type": "markdown",
      "source": [
        "---\n",
        "### 階層型クラスタリングしてみよう"
      ],
      "metadata": {
        "id": "cPutEPisPAim"
      }
    },
    {
      "cell_type": "markdown",
      "source": [
        "上記の配列 `X_train` に格納されたデータを対象に階層型クラスタリングを実行します．\n",
        "[scipy.cluster.hiearchy.linkage](https://docs.scipy.org/doc/scipy/reference/generated/scipy.cluster.hierarchy.linkage.html) でクラスタリングして，\n",
        "[scipy.cluster.hierarchy.dendrogram](https://docs.scipy.org/doc/scipy/reference/generated/scipy.cluster.hierarchy.dendrogram.html) でデンドログラムを描きます．\n",
        "標本間の距離はユークリッド距離，クラスタ間の距離はウォード法で測ります．"
      ],
      "metadata": {
        "id": "ke3ma30SPXiZ"
      }
    },
    {
      "cell_type": "code",
      "source": [
        "link = hierarchy.linkage(X_train, method='ward', metric='euclidean')\n",
        "fig, ax = plt.subplots(figsize=(12, 12))\n",
        "hierarchy.dendrogram(link, ax=ax, truncate_mode='lastp', p=50, distance_sort='descending')\n",
        "plt.show()"
      ],
      "metadata": {
        "id": "VJlYcU-JO0tG"
      },
      "execution_count": null,
      "outputs": []
    },
    {
      "cell_type": "markdown",
      "source": [
        "この実験ではデータ数が非常に多く，完全なデンドログラムを描くのは大変です．そのため，上記の図では，クラスター数が50以上になる枝分かれは省略して描いてあります．実際のデンドログラムは，一つのクラスタに一つのデータしか入らないところまで枝分かれしていることに注意．"
      ],
      "metadata": {
        "id": "7qQekTUEPq1G"
      }
    },
    {
      "cell_type": "markdown",
      "source": [
        "次の二つのセルを実行すると，猫顔画像の実験と同様にクラスタリング結果を出力させることができます．"
      ],
      "metadata": {
        "id": "uMAm6cBBQl-Z"
      }
    },
    {
      "cell_type": "code",
      "source": [
        "threshold = 10000 # クラスタ間距離のしきい値\n",
        "\n",
        "label = hierarchy.fcluster(link, t=threshold, criterion='distance')\n",
        "print(label)\n",
        "print()\n",
        "K = max(label) # クラスタ数\n",
        "print(f'threshold = {threshold}, K = {K}')\n",
        "for ik in range(K):\n",
        "    print(f'cluster{ik+1}: num = {np.sum(label == ik+1)}')"
      ],
      "metadata": {
        "id": "8MiOyAUlPJiH"
      },
      "execution_count": null,
      "outputs": []
    },
    {
      "cell_type": "code",
      "source": [
        "# 各クラスタに属する画像を表示\n",
        "#    1行が1クラスタ．1行あたり最大 nc 枚を表示\n",
        "\n",
        "nc = 16\n",
        "\n",
        "dat = np.zeros((K, nc, D))\n",
        "for ik in range(K):\n",
        "    idx = label == (ik+1)\n",
        "    n = np.sum(idx)\n",
        "    if n < nc:\n",
        "        dat[ik, :n, :] = X_train[idx, :]\n",
        "    else:\n",
        "        dat[ik, :, :] = X_train[idx, :][:nc, :]\n",
        "\n",
        "dat = dat.reshape((-1, D))\n",
        "\n",
        "fig, ax = plt.subplots(figsize=(12, 16))\n",
        "mosaicImage(ax, dat, nc, K, nrow=28, ncol=28)\n",
        "plt.show()  "
      ],
      "metadata": {
        "id": "LZihVMF8Q96b"
      },
      "execution_count": null,
      "outputs": []
    },
    {
      "cell_type": "markdown",
      "source": [
        "### 問題3\n",
        "\n",
        "次のことを考えて／調べてメモしておこう：\n",
        "\n",
        "(1) この実験では何をやっている？どんな手法を使っている？\n",
        "\n",
        "(2) 使っているデータのデータ数と次元数はいくつ？\n"
      ],
      "metadata": {
        "id": "H-kPrrlBRWDE"
      }
    },
    {
      "cell_type": "markdown",
      "source": [
        "### 問題4\n",
        "\n",
        "次のことをやろう：\n",
        "\n",
        "(1) クラスタ間距離のしきい値をいろいろ変えて結果を観察しよう．\n",
        "\n",
        "(2) クラスタ間距離のしきい値が 18800 のときのクラスタ数をメモしよう．"
      ],
      "metadata": {
        "id": "udSzJYgRRWDE"
      }
    },
    {
      "cell_type": "code",
      "source": [],
      "metadata": {
        "id": "ZkIEi7EjRY-X"
      },
      "execution_count": null,
      "outputs": []
    }
  ]
}