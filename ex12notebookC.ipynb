{
  "nbformat": 4,
  "nbformat_minor": 0,
  "metadata": {
    "colab": {
      "provenance": [],
      "toc_visible": true,
      "authorship_tag": "ABX9TyOweV/Te6f3+AJ//er888of",
      "include_colab_link": true
    },
    "kernelspec": {
      "name": "python3",
      "display_name": "Python 3"
    },
    "language_info": {
      "name": "python"
    }
  },
  "cells": [
    {
      "cell_type": "markdown",
      "metadata": {
        "id": "view-in-github",
        "colab_type": "text"
      },
      "source": [
        "<a href=\"https://colab.research.google.com/github/takatakamanbou/MVA/blob/2022/ex12notebookC.ipynb\" target=\"_parent\"><img src=\"https://colab.research.google.com/assets/colab-badge.svg\" alt=\"Open In Colab\"/></a>"
      ]
    },
    {
      "cell_type": "markdown",
      "source": [
        "# MVA2022 ex12notebookC\n",
        "\n",
        "<img width=64 src=\"https://www-tlab.math.ryukoku.ac.jp/~takataka/course/MVA/MVA-logo12.png\"> https://www-tlab.math.ryukoku.ac.jp/wiki/?MVA/2022"
      ],
      "metadata": {
        "id": "P4preLw7SzqH"
      }
    },
    {
      "cell_type": "markdown",
      "source": [
        "----\n",
        "## 演習問題 - 猫顔画像のクラスタリング\n",
        "----\n",
        "\n",
        "猫顔画像131枚をクラスタリングしてみましょう．"
      ],
      "metadata": {
        "id": "zDtnBWKha6vx"
      }
    },
    {
      "cell_type": "code",
      "metadata": {
        "id": "I226xIKJbqtM"
      },
      "source": [
        "# 準備あれこれ\n",
        "import numpy as np\n",
        "import matplotlib.pyplot as plt\n",
        "import pandas as pd\n",
        "import seaborn\n",
        "seaborn.set()\n",
        "\n",
        "# SciPy の階層型クラスタリングパッケージ\n",
        "import scipy.cluster.hierarchy as hierarchy\n",
        "\n",
        "# scikit-learn の K-平均法のクラス\n",
        "from sklearn.cluster import KMeans"
      ],
      "execution_count": null,
      "outputs": []
    },
    {
      "cell_type": "markdown",
      "source": [
        "---\n",
        "### 準備"
      ],
      "metadata": {
        "id": "zajrwcMtBO2I"
      }
    },
    {
      "cell_type": "markdown",
      "source": [
        "画像を並べて表示する関数を定義しておきます．"
      ],
      "metadata": {
        "id": "OeywR4C1BaGq"
      }
    },
    {
      "cell_type": "code",
      "source": [
        "#####  データの最初の nx x ny 枚を可視化\n",
        "#\n",
        "def mosaicImage(ax, dat, nx, ny, nrow=64, ncol=64, gap=4):\n",
        "\n",
        "    # 並べた画像の幅と高さ\n",
        "    width  = nx * (ncol + gap) + gap\n",
        "    height = ny * (nrow + gap) + gap\n",
        "\n",
        "    # 画像の作成\n",
        "    img = np.zeros((height, width), dtype=int) + 128\n",
        "    for iy in range(ny):\n",
        "        lty = iy*(nrow + gap) + gap\n",
        "        for ix in range(nx):\n",
        "            if iy*nx+ix >= dat.shape[0]:\n",
        "                break\n",
        "            ltx = ix*(ncol + gap) + gap\n",
        "            img[lty:lty+nrow, ltx:ltx+ncol] = dat[iy*nx+ix, :].reshape((nrow, ncol))\n",
        "\n",
        "    # 表示\n",
        "    ax.axis('off')\n",
        "    ax.imshow(img, cmap='gray')\n"
      ],
      "metadata": {
        "id": "jV0GfV6n39Wi"
      },
      "execution_count": null,
      "outputs": []
    },
    {
      "cell_type": "markdown",
      "source": [
        "猫顔画像データを入手して一部を表示してみます．"
      ],
      "metadata": {
        "id": "9XG_-Er6Be5x"
      }
    },
    {
      "cell_type": "code",
      "source": [
        "# 猫顔画像データを入手\n",
        "! wget -nc https://www-tlab.math.ryukoku.ac.jp/~takataka/course/MVA/cat131.npz\n",
        "cat = np.load('cat131.npz')['cat131']\n",
        "N, D = cat.shape\n",
        "print(f'データ数 x 次元数 = {N} x {D}')\n",
        "\n",
        "# 最初の 20 枚を表示\n",
        "fig, ax = plt.subplots(figsize=(6, 6))\n",
        "mosaicImage(ax, cat, 5, 4)\n",
        "plt.show()  "
      ],
      "metadata": {
        "id": "waXlsaXF31gU"
      },
      "execution_count": null,
      "outputs": []
    },
    {
      "cell_type": "markdown",
      "source": [
        "---\n",
        "### 階層型クラスタリングしてみよう\n",
        "\n"
      ],
      "metadata": {
        "id": "3Y6cgkmtJ4Hy"
      }
    },
    {
      "cell_type": "markdown",
      "source": [
        "上記の配列 `cat` に格納されたデータを対象に階層型クラスタリングを実行します．\n",
        "[scipy.cluster.hiearchy.linkage](https://docs.scipy.org/doc/scipy/reference/generated/scipy.cluster.hierarchy.linkage.html) でクラスタリングして，\n",
        "[scipy.cluster.hierarchy.dendrogram](https://docs.scipy.org/doc/scipy/reference/generated/scipy.cluster.hierarchy.dendrogram.html) でデンドログラムを描きます．\n",
        "標本間の距離はユークリッド距離，クラスタ間の距離はウォード法で測ります．"
      ],
      "metadata": {
        "id": "NDnxplQspxx1"
      }
    },
    {
      "cell_type": "code",
      "source": [
        "link = hierarchy.linkage(cat, method='ward', metric='euclidean')\n",
        "fig, ax = plt.subplots(figsize=(8, 20))\n",
        "hierarchy.dendrogram(link, orientation='right', distance_sort='descending', show_leaf_counts=True, leaf_font_size=8, ax=ax)\n",
        "plt.show()"
      ],
      "metadata": {
        "id": "aW9hRlfj_TaK"
      },
      "execution_count": null,
      "outputs": []
    },
    {
      "cell_type": "markdown",
      "source": [
        "次のセルを実行すると，`threshold` で指定した値をクラスタ間距離のしきい値として画像をクラスタに分けて，それぞれのクラスタに属する画像の数を表示します．"
      ],
      "metadata": {
        "id": "XpyqGERQrPhw"
      }
    },
    {
      "cell_type": "code",
      "source": [
        "threshold = 20000 # クラスタ間距離のしきい値\n",
        "\n",
        "label = hierarchy.fcluster(link, t=threshold, criterion='distance')\n",
        "print(label)\n",
        "K = max(label) # クラスタ数\n",
        "\n",
        "print()\n",
        "print(f'threshold = {threshold}, K = {K}')\n",
        "for ik in range(K):\n",
        "    print(f'cluster{ik+1}: num = {np.sum(label == ik+1)}')"
      ],
      "metadata": {
        "id": "4yJXWcjAqtqg"
      },
      "execution_count": null,
      "outputs": []
    },
    {
      "cell_type": "markdown",
      "source": [
        "次のセルを実行すると，上で得られたクラスタリングの結果を画像として表示します．一つのクラスタに属する画像を横に並べてあります．"
      ],
      "metadata": {
        "id": "Ct6CUGBIChMD"
      }
    },
    {
      "cell_type": "code",
      "source": [
        "# 各クラスタに属する画像を表示\n",
        "\n",
        "nc = 10 # 1行に並べる画像の最大数\n",
        "\n",
        "dat = np.zeros((K, nc, D))\n",
        "for ik in range(K):\n",
        "    idx = label == (ik+1)\n",
        "    n = np.sum(idx)\n",
        "    if n < nc:\n",
        "        dat[ik, :n, :] = cat[idx, :]\n",
        "    else:\n",
        "        dat[ik, :, :] = cat[idx, :][:nc, :]\n",
        "\n",
        "dat = dat.reshape((-1, D))\n",
        "\n",
        "fig, ax = plt.subplots(figsize=(12, 12))\n",
        "mosaicImage(ax, dat, nc, K)\n",
        "plt.show()  "
      ],
      "metadata": {
        "id": "t7KpSHPPCbPs"
      },
      "execution_count": null,
      "outputs": []
    },
    {
      "cell_type": "markdown",
      "source": [
        "### 問題1\n",
        "\n",
        "次のことを考えて／調べてメモしておこう：\n",
        "\n",
        "(1) この実験では何をやっている？どんな手法を使っている？\n",
        "\n",
        "(2) 使っているデータのデータ数と次元数はいくつ？\n"
      ],
      "metadata": {
        "id": "gXXKcqAJN8OX"
      }
    },
    {
      "cell_type": "markdown",
      "source": [
        "### 問題2\n",
        "\n",
        "次のことをやろう：\n",
        "\n",
        "(1) クラスタ間距離のしきい値をいろいろ変えて結果を観察しよう．\n",
        "\n",
        "(2) クラスタ間距離のしきい値が 6000 のときのクラスタ数と，各クラスタに属する画像の数の最大と最小をメモしよう．\n",
        "\n",
        "(3) クラスタ数が 13 になるようなクラスタ間距離のしきい値を求め，そのときに各クラスタに属する画像の数の最大と最小をメモしよう．"
      ],
      "metadata": {
        "id": "ScQfE5VyYxaa"
      }
    },
    {
      "cell_type": "markdown",
      "source": [
        "----\n",
        "## 演習問題 - $K$-平均法やってみよう\n",
        "----\n",
        "\n",
        "$K$-平均法の簡単な実験をやってみましょう．"
      ],
      "metadata": {
        "id": "W6bu4DEYG3g3"
      }
    },
    {
      "cell_type": "code",
      "source": [
        "# 実験用データの入手\n",
        "df = pd.read_csv('https://www-tlab.math.ryukoku.ac.jp/~takataka/course/MVA/data4kmeans.csv')\n",
        "X = df[['x1', 'x2']].to_numpy()\n",
        "print(X[:5, :], X.shape)"
      ],
      "metadata": {
        "id": "94tpR3yjcyPN"
      },
      "execution_count": null,
      "outputs": []
    },
    {
      "cell_type": "code",
      "source": [
        "# 散布図\n",
        "fig, ax = plt.subplots(figsize=(6, 6))\n",
        "ax.scatter(X[:, 0], X[:, 1])\n",
        "ax.set_xlim(-5, 5)\n",
        "ax.set_ylim(-5, 5)\n",
        "ax.set_aspect('equal')\n",
        "plt.show()"
      ],
      "metadata": {
        "id": "iDsIuAtNHrx9"
      },
      "execution_count": null,
      "outputs": []
    },
    {
      "cell_type": "markdown",
      "source": [
        "$K$-平均法では，データをいくつのクラスタに分けるかをあらかじめ指定する必要があります．また，クラスタリングの過程で，各クラスタに所属するデータの平均（これをセントロイドといいます）を計算します．クラスタ数を $K$ とすると，$K$ 個の平均(mean)を求めることになるので，K-means 法と呼ばれます．\n",
        "\n",
        "ここでは，scikit-learn の [sklearn.cluster.KMeans](https://scikit-learn.org/stable/modules/generated/sklearn.cluster.KMeans.html) クラスを使い，上記の2次元データを $K$-平均法でクラスタリングする実験をやってみましょう．"
      ],
      "metadata": {
        "id": "FG0Rr_M6INdy"
      }
    },
    {
      "cell_type": "markdown",
      "source": [
        "次のセルの `K` にクラスタ数を指定して実行すると，配列 `X` に格納されたデータのクラスタリングが実行されます．配列 `label` にクラスタリング結果（各データが所属するクラスタの番号）が格納されます．\n"
      ],
      "metadata": {
        "id": "5QAUoyU0MkEY"
      }
    },
    {
      "cell_type": "code",
      "source": [
        "K = 2 # クラスタ数\n",
        "\n",
        "km = KMeans(n_clusters=K, verbose=0)\n",
        "km.fit(X) # 学習\n",
        "centroid = km.cluster_centers_ # セントロイド\n",
        "label = km.predict(X) # 各データの所属クラスタを求める\n",
        "print(label)\n",
        "print()\n",
        "print(f'K = {K}')\n",
        "for ik in range(K):\n",
        "    print(f'cluster{ik}: num = {np.sum(label == ik)}')"
      ],
      "metadata": {
        "id": "dA3iw1wkIUcP"
      },
      "execution_count": null,
      "outputs": []
    },
    {
      "cell_type": "markdown",
      "source": [
        "次のセルを実行すると，クラスタリングの結果を表示します．\n",
        "各データ点および平面上の各点をクラスタリングして，それらの所属するクラスタによって異なる色を付けて表示します．また，セントロイドを ★ で表示します．\n"
      ],
      "metadata": {
        "id": "1Bq9kXzyOEjR"
      }
    },
    {
      "cell_type": "code",
      "source": [
        "# クラスタリング結果描画用のデータ\n",
        "xmin, xmax = -5, 5\n",
        "ymin, ymax = -5, 5\n",
        "p = np.dstack(np.mgrid[xmin:xmax:0.05, ymin:ymax:0.05])\n",
        "P = p.reshape((-1, p.shape[2]))\n",
        "labelP = km.predict(P)\n",
        "\n",
        "# クラスタ割り振り結果を描画\n",
        "colors = seaborn.color_palette(n_colors=K)\n",
        "fig = plt.figure(figsize=(13, 6))\n",
        "ax0 = fig.add_subplot(121)\n",
        "ax0.set_xlim(xmin, xmax)\n",
        "ax0.set_ylim(ymin, ymax)\n",
        "ax0.set_aspect('equal')\n",
        "for ik in range(K):\n",
        "    Xk = X[label==ik, :]\n",
        "    Pk = P[labelP==ik, :]\n",
        "    ax0.scatter(Xk[:, 0], Xk[:, 1], color=colors[ik])\n",
        "    ax0.plot(centroid[ik, 0], centroid[ik, 1], color='white', marker='*', markerfacecolor=colors[ik], markersize=25)\n",
        "    ax0.scatter(Pk[:, 0], Pk[:, 1], marker='.', alpha=0.1, color=colors[ik])\n",
        "\n",
        "plt.show()"
      ],
      "metadata": {
        "id": "j-xhtYU4IcSa"
      },
      "execution_count": null,
      "outputs": []
    },
    {
      "cell_type": "markdown",
      "source": [
        "`K` の値をいろいろ変えて結果を観察してみましょう．ちなみに，$K$-平均法のアルゴリズムにはランダムな処理が含まれますので，同じデータで同じ`K`の設定でも，実行のたびに結果が変わります．"
      ],
      "metadata": {
        "id": "A73DTZsIOyEm"
      }
    },
    {
      "cell_type": "code",
      "source": [],
      "metadata": {
        "id": "DiRlPTkmJ7ku"
      },
      "execution_count": null,
      "outputs": []
    }
  ]
}