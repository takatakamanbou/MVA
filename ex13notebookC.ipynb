{
  "nbformat": 4,
  "nbformat_minor": 0,
  "metadata": {
    "colab": {
      "provenance": [],
      "toc_visible": true,
      "authorship_tag": "ABX9TyPRwFrBMhLYs78pKBXAZUJJ",
      "include_colab_link": true
    },
    "kernelspec": {
      "name": "python3",
      "display_name": "Python 3"
    },
    "language_info": {
      "name": "python"
    }
  },
  "cells": [
    {
      "cell_type": "markdown",
      "metadata": {
        "id": "view-in-github",
        "colab_type": "text"
      },
      "source": [
        "<a href=\"https://colab.research.google.com/github/takatakamanbou/MVA/blob/2022/ex13notebookC.ipynb\" target=\"_parent\"><img src=\"https://colab.research.google.com/assets/colab-badge.svg\" alt=\"Open In Colab\"/></a>"
      ]
    },
    {
      "cell_type": "markdown",
      "source": [
        "# MVA2022 ex13notebookC\n",
        "\n",
        "<img width=64 src=\"https://www-tlab.math.ryukoku.ac.jp/~takataka/course/MVA/MVA-logo13.png\"> https://www-tlab.math.ryukoku.ac.jp/wiki/?MVA/2022"
      ],
      "metadata": {
        "id": "P4preLw7SzqH"
      }
    },
    {
      "cell_type": "code",
      "metadata": {
        "id": "I226xIKJbqtM"
      },
      "source": [
        "# いつものいろいろインポート\n",
        "import numpy as np\n",
        "import matplotlib.pyplot as plt\n",
        "import pandas as pd\n",
        "import seaborn\n",
        "seaborn.set()\n",
        "\n",
        "# SciPy の DCT と FFT の関数\n",
        "from scipy.fft import dct, fft, ifft, fftfreq\n",
        "\n",
        "# 科学技術計算のライブラリ SciPy の中の WAVE ファイルを扱うモジュール\n",
        "from scipy.io.wavfile import read, write\n",
        "\n",
        "# コンピュータビジョン・画像処理のライブラリ OpenCV のモジュールをインポート\n",
        "import cv2\n",
        "\n",
        "# notebook で画像を表示するためのほげ\n",
        "from IPython.display import display, Image"
      ],
      "execution_count": null,
      "outputs": []
    },
    {
      "cell_type": "markdown",
      "source": [
        "----\n",
        "## 演習問題 ギターの音を分析しよう\n",
        "----\n",
        "\n",
        "ギターの音を録音したデータから，何の音が鳴っているのかを当てよう．\n"
      ],
      "metadata": {
        "id": "zDtnBWKha6vx"
      }
    },
    {
      "cell_type": "markdown",
      "source": [
        "---\n",
        "### 楽器が出す音の性質と音の高さの知覚"
      ],
      "metadata": {
        "id": "0ssN6wo5f-bP"
      }
    },
    {
      "cell_type": "markdown",
      "source": [
        "ギターのような弦楽器では，両端が固定された（指で押さえることで固定される位置が変わったりもしますね）弦が振動しそれが空気を振動させることで音が生み出されます．このとき，弦の振動は，下図に示すようなパターンを示します．左は両端が固定された弦の振動としては最も波長が長いもの，真ん中は波長がその $\\frac{1}{2}$，右は波長 $\\frac{1}{3}$ の振動を表しています．これら以外に波長 $\\frac{1}{4}, \\frac{1}{5}, \\ldots$ の振動も現れます．\n",
        "実際の弦の振動はこれらを合成したものとなりますので，そこから生まれる空気の振動もまた，ある波長の波と，その $\\frac{1}{自然数}$ 倍の波長の波が混ざったものとなります．\n",
        "したがって，弦楽器から生み出される音には，最も波長の長い振動に対応した最も低い周波数（これを基本周波数といいます）の成分と，その自然数倍の周波数の成分（倍音）が含まれます．ちなみに，管楽器の場合は少し様子が異なりますが，その音はやはり基本周波数の成分とその倍音から成ります．"
      ],
      "metadata": {
        "id": "ZyTnOL0Es-MM"
      }
    },
    {
      "cell_type": "code",
      "source": [
        "fig, ax = plt.subplots(1, 3, figsize=(16, 3))\n",
        "\n",
        "t = np.linspace(0, np.pi, num=100)\n",
        "\n",
        "# 基本波長\n",
        "ax[0].plot(t, np.sin(t), '-', color='red')\n",
        "ax[0].set_ylim(-1.5, 1.5)\n",
        "ax[0].plot(t, -np.sin(t), '--', color='red')\n",
        "ax[0].axhline(0, color='gray')\n",
        "ax[0].xaxis.set_visible(False)\n",
        "ax[0].yaxis.set_visible(False)\n",
        "\n",
        "# 波長 1/2 = 周波数 2 倍\n",
        "ax[1].plot(t, np.sin(2*t), '-', color='red')\n",
        "ax[1].set_ylim(-1.5, 1.5)\n",
        "ax[1].plot(t, -np.sin(2*t), '--', color='red')\n",
        "ax[1].axhline(0, color='gray')\n",
        "ax[1].xaxis.set_visible(False)\n",
        "ax[1].yaxis.set_visible(False)\n",
        "\n",
        "# 波長 1/3 = 周波数 3 倍\n",
        "ax[2].plot(t, np.sin(3*t), '-', color='red')\n",
        "ax[2].set_ylim(-1.5, 1.5)\n",
        "ax[2].plot(t, -np.sin(3*t), '--', color='red')\n",
        "ax[2].axhline(0, color='gray')\n",
        "ax[2].xaxis.set_visible(False)\n",
        "ax[2].yaxis.set_visible(False)"
      ],
      "metadata": {
        "id": "ydLjq_wbDLcl"
      },
      "execution_count": null,
      "outputs": []
    },
    {
      "cell_type": "markdown",
      "source": [
        "一方，人間の聴覚系が知覚する音の高さは基本周波数と強く関連しており，基本的には，基本周波数の高い音ほど高い音に聞こえます．楽器や演奏の仕方が異なると，同じ音の高さでも音色が異なって聞こえますが，これは，基本周波数が同じで，倍音成分の含まれ方が異なるためです．基本周波数の成分がほとんど含まれず周波数2倍以上の倍音成分しか含まれないような音でも，基本周波数に対応した高さの音として知覚されます．"
      ],
      "metadata": {
        "id": "ddbFrVuRJzuO"
      }
    },
    {
      "cell_type": "markdown",
      "source": [
        "---\n",
        "### データの準備\n",
        "\n",
        "ギター音のデータを入手して，実際に音を聞いてみましょう．"
      ],
      "metadata": {
        "id": "p0331MyZVlDD"
      }
    },
    {
      "cell_type": "code",
      "source": [
        "# WAVE ファイルを読み込む関数\n",
        "#\n",
        "def readWAVE(filename):\n",
        "    \n",
        "    framerate, data = read(filename)\n",
        "\n",
        "    # チャンネル数とフレーム数（データ点の数）を求める\n",
        "    if data.ndim == 1:\n",
        "        nchannels = 1\n",
        "    else:\n",
        "        nchannels = data.shape[1]\n",
        "    nframes = data.shape[0]\n",
        "    \n",
        "    print('filename = ', filename)\n",
        "    print('nchannels = ', nchannels)       # チャンネル数\n",
        "    print('framerate = ', framerate)       # 標本化周波数\n",
        "    print('nframes = ', nframes)             # フレーム数\n",
        "    print('duration = {0:.2f}[sec]'.format(nframes / framerate))   # 長さ（秒単位）\n",
        "    print('dtype = ', data.dtype)            # データ型（量子化ビット数に対応）\n",
        "\n",
        "    assert data.dtype == 'uint8' or data.dtype == 'int16' or data.dtype == 'int32' or data.dtype == 'float32'\n",
        "    \n",
        "    # 最初の10秒分だけ取り出す（元がそれより短ければそのまま）\n",
        "    nframesNew = min(framerate * 10, nframes)   \n",
        "    if nchannels == 1:\n",
        "        dataNew = data[:nframesNew]\n",
        "    else:\n",
        "        # 多チャンネル信号なら0番目と1番目の平均値を取り出す\n",
        "        if data.dtype == 'float32':  # 浮動小数点数のときは [0, 1] の値なので普通に足して2で割る\n",
        "            dataNew = (data[:nframesNew, 0] + data[:nframesNew, 1])/2\n",
        "        else: # 整数型のときはオーバーフローする可能性があるので，いったん64bit整数にしてから\n",
        "            data64 = (data[:nframesNew, 0].astype(np.int64) + data[:nframesNew, 1].astype(np.int64))//2\n",
        "            dataNew = data64.astype(data.dtype)\n",
        "    \n",
        "    return framerate, dataNew"
      ],
      "metadata": {
        "id": "U-iId7kjiEKi"
      },
      "execution_count": null,
      "outputs": []
    },
    {
      "cell_type": "markdown",
      "source": [
        "WAVE ファイルを入手します．"
      ],
      "metadata": {
        "id": "KRxdkDYviEKj"
      }
    },
    {
      "cell_type": "code",
      "source": [
        "# WAVE ファイルを入手\n",
        "#\n",
        "! wget -nc https://www-tlab.math.ryukoku.ac.jp/~takataka/course/MVA/Sound-Guitar1-C.wav\n",
        "! wget -nc https://www-tlab.math.ryukoku.ac.jp/~takataka/course/MVA/Sound-Guitar2-E.wav\n",
        "! wget -nc https://www-tlab.math.ryukoku.ac.jp/~takataka/course/MVA/Sound-Guitar3-G.wav\n",
        "! wget -nc https://www-tlab.math.ryukoku.ac.jp/~takataka/course/MVA/Sound-Guitar4-ChordC.wav\n",
        "fnList = ['Sound-Guitar1-C.wav', 'Sound-Guitar2-E.wav', 'Sound-Guitar3-G.wav', 'Sound-Guitar4-ChordC.wav']\n",
        "\n",
        "import os\n",
        "\n",
        "for fn in fnList:\n",
        "    if not os.path.exists(fn):\n",
        "        print(f'{fn}のダウンロードがうまくできていないようです')"
      ],
      "metadata": {
        "id": "b1bEiScviEKj"
      },
      "execution_count": null,
      "outputs": []
    },
    {
      "cell_type": "markdown",
      "source": [
        "4つのWAVEファイルをダウンロードして聞いてみましょう．\n",
        "絶対音感を持ってるひとは聞いただけで何の音かわかるでしょうが，わからないふりをして先へ進みましょう．\n",
        "ちなみに，これらの音は，本物のギターを鳴らして録音したものではなく，コンピュータで作り出した音です．ギターの音っぽい倍音成分のパターンを知っていれば，それっぽい波形を合成できる，というわけです．"
      ],
      "metadata": {
        "id": "BM3EvovITSIT"
      }
    },
    {
      "cell_type": "code",
      "source": [
        "from google.colab import files\n",
        "\n",
        "if 1 == 0: # ← の 0 を 1 に修正\n",
        "    for fn in fnList:\n",
        "        files.download(fn)"
      ],
      "metadata": {
        "id": "dl05phvIRlzv"
      },
      "execution_count": null,
      "outputs": []
    },
    {
      "cell_type": "markdown",
      "source": [
        "4つのWAVEファイルのデータを読み込んで，np.array のリストに格納します．`guitar[0]`, `guitar[1]`, `guitar[2]`, `guitar[3]` のそれぞれが音のデータを格納した1次元配列です．"
      ],
      "metadata": {
        "id": "oVMNVqMrV0rb"
      }
    },
    {
      "cell_type": "code",
      "source": [
        "guitar = []\n",
        "\n",
        "for i, fn in enumerate(fnList):\n",
        "    print(f'##### guitar[{i}] #####')\n",
        "    fr, dat = readWAVE(fn)\n",
        "    dat = dat.astype(float)\n",
        "    dat -= np.mean(dat)\n",
        "    guitar.append(dat)\n",
        "    if i == 0:\n",
        "        N = len(dat)\n",
        "        framerate = fr\n",
        "    else:\n",
        "        assert len(dat) == N and fr == framerate\n",
        "    print()"
      ],
      "metadata": {
        "id": "xvGpGlLvZmeR"
      },
      "execution_count": null,
      "outputs": []
    },
    {
      "cell_type": "markdown",
      "source": [
        "---\n",
        "### 振幅スペクトルから音の高さを推測する"
      ],
      "metadata": {
        "id": "_vg6VIHje-dz"
      }
    },
    {
      "cell_type": "markdown",
      "source": [
        "それぞれの音の信号の波形を眺めてみましょう．"
      ],
      "metadata": {
        "id": "Xq5Cwryomi2x"
      }
    },
    {
      "cell_type": "code",
      "source": [
        "fig, ax = plt.subplots(4, 2, figsize=(16, 10))\n",
        "\n",
        "t = np.linspace(0, N/framerate, num=N, endpoint=False)\n",
        "\n",
        "for i in range(len(guitar)):\n",
        "    ax[i, 0].plot(t, guitar[i], label=f'guitar[{i}]')\n",
        "    ax[i, 0].set_ylim(-150, 150)\n",
        "    ax[i, 0].legend()\n",
        "    ax[i, 1].plot(t, guitar[i], 'o', label=f'guitar[{i}]')\n",
        "    ax[i, 1].axhline(0, color='gray')\n",
        "    ax[i, 1].set_xlim(0.3, 0.305)\n",
        "    ax[i, 1].set_ylim(-150, 150)\n",
        "    ax[i, 1].legend()\n",
        "\n",
        "plt.show()"
      ],
      "metadata": {
        "id": "9WVeLDsLAens"
      },
      "execution_count": null,
      "outputs": []
    },
    {
      "cell_type": "markdown",
      "source": [
        "それぞれの図は，横軸を時間（単位は[s]（秒））として音の信号の波形を描いたものです．4つとも2秒強の音です．右の図は，時刻 $0.3$[s] から $0.305[s]$ までの $0.005$ [s] 間のデータ点をプロットしたものです．\n",
        "これらを見ただけでは，どれがどんな音なのかまるで想像がつきません．\n",
        "\n",
        "では，これらのデータに DFT を適用してフーリエ係数を求め，振幅スペクトルを描いてみましょう．"
      ],
      "metadata": {
        "id": "uti6wL5BmpXb"
      }
    },
    {
      "cell_type": "code",
      "source": [
        "# amp[i] が guitar[i] の振幅スペクトル\n",
        "amp = []\n",
        "for i in range(len(guitar)):\n",
        "    coef = fft(guitar[i]) # DFT\n",
        "    amp.append(np.abs(coef)/N) # 振幅スペクトル\n",
        "freq = fftfreq(N, d=1/framerate)\n",
        "\n",
        "# 振幅スペクトルを描く\n",
        "fig, ax = plt.subplots(4, 3, figsize=(16, 10))\n",
        "\n",
        "for i in range(len(guitar)):\n",
        "    ax[i, 0].stem(amp[i], markerfmt=' ', use_line_collection=True, label=f'guitar[{i}] |Ck|')\n",
        "    ax[i, 0].set_xlabel('k')\n",
        "    ax[i, 0].legend()\n",
        "    ax[i, 1].stem(amp[i], markerfmt=' ', use_line_collection=True, label=f'guitar[{i}] |Ck|')\n",
        "    ax[i, 1].set_xlim(0, 3000)\n",
        "    ax[i, 1].set_xlabel('k')\n",
        "    ax[i, 1].legend()\n",
        "    ax[i, 2].stem(freq, amp[i], markerfmt=' ', use_line_collection=True, label=f'guitar[{i}] |Ck|')\n",
        "    ax[i, 2].set_xlim(0, 3000*framerate/N)\n",
        "    ax[i, 2].set_xlabel('Hz')\n",
        "    ax[i, 2].legend()\n",
        "\n",
        "plt.show()"
      ],
      "metadata": {
        "id": "EAcOFG9mjJy5"
      },
      "execution_count": null,
      "outputs": []
    },
    {
      "cell_type": "markdown",
      "source": [
        "図の見方については，notebookB でも似たようなことをやっているので，説明を省略します．右端の列だけ横軸の単位が違っていることに注意してください．いずれの振幅スペクトルも「弦楽器が出す音の性質」で説明したことを反映したものとなっているのが分かります．\n",
        "\n",
        "次のセルを実行すると，上の右端の列のどれか一つの振幅スペクトルを拡大表示させることができます．コメントにしたがって `i, xmin, xmax, step` の値を適当に定めて実行してみよう．"
      ],
      "metadata": {
        "id": "ccKf8WdWKQ_B"
      }
    },
    {
      "cell_type": "code",
      "source": [
        "ｈｈえほげfig, ax = plt.subplots(figsize=(16, 6))\n",
        "\n",
        "# guitar[i] の i (i = 0, 1, 2, 3)\n",
        "i = 0\n",
        "\n",
        "# [xmin, xmax] が横軸の範囲，step が目盛の間隔\n",
        "xmin, xmax, step = 0, 600, 20\n",
        "\n",
        "ax.stem(freq, amp[i], markerfmt=' ', use_line_collection=True, label=f'guitar[{i}] |Ck|')\n",
        "ax.set_xlim(xmin, xmax) # 横軸の範囲\n",
        "#ax.set_ylim(0, 6) # 縦軸の範囲\n",
        "ax.set_xticks(np.arange(xmin, xmax, step))\n",
        "ax.set_xlabel('Hz')\n",
        "ax.legend()\n",
        "\n",
        "plt.setp(ax.get_xticklabels(), rotation=60, ha='right')\n",
        "plt.show()"
      ],
      "metadata": {
        "id": "tz8qrIqUl5lg"
      },
      "execution_count": null,
      "outputs": []
    },
    {
      "cell_type": "markdown",
      "source": [
        "#### 問題1\n",
        "\n",
        "次のことを考えて／調べてメモしておこう：\n",
        "\n",
        "(1) `guitar[0]`, `guitar[1]`, `guitar[2]` の振幅スペクトルを観察して，それぞれの音の基本周波数を推測しよう．下の表を用いて，それが何の音であるかを当てよう．\n",
        "\n",
        "(2) `guitar[3]` の振幅スペクトルと `guitar[0]`, `guitar[1]`, `guitar[2]` の振幅スペクトルの間にはどんな関係があるか考えよう．\n",
        "\n",
        "|基本周波数[Hz]|音名|ハ長調での...|\n",
        "|---:|:---:|:---:|\n",
        "|261.6|C4|ド|\n",
        "|293.7|D4|レ|\n",
        "|329.6|E4|ミ|\n",
        "|349.2|F4|ファ|\n",
        "|392.0|G4|ソ|\n",
        "|440|A4|ラ|\n",
        "|493.9|B4|シ|\n",
        "\n",
        "<span style=\"font-size: 75%\">\n",
        "※注: ここでは，A4 の基本周波数を 440[Hz]として十二平均律を用いたときの1オクターブの範囲の音の基本周波数の値を示しています．\n",
        "</span>\n",
        "\n"
      ],
      "metadata": {
        "id": "gXXKcqAJN8OX"
      }
    },
    {
      "cell_type": "markdown",
      "source": [
        "----\n",
        "## 演習問題 - 2次元DCTと画像圧縮\n",
        "----\n",
        "\n",
        "notebookA で解説したDCTは，平面上で2方向に広がる波を表すように2次元へと拡張できます．グレイスケール画像（※注）の画素値は縦横に広がった波でできていると考えることができるので，2次元のDCTを適用することができます．\n",
        "\n",
        "<span style=\"font-size: 75%\">\n",
        "※注: 色を含まない画像のことです．カラー画像の場合について気になるひとは，takataka に尋ねてね．\n",
        "</span>\n"
      ],
      "metadata": {
        "id": "W6bu4DEYG3g3"
      }
    },
    {
      "cell_type": "markdown",
      "source": [
        "---\n",
        "### 準備あれこれ"
      ],
      "metadata": {
        "id": "McOSqWk5R_eM"
      }
    },
    {
      "cell_type": "markdown",
      "source": [
        "いくつか関数を定義しときます．"
      ],
      "metadata": {
        "id": "A8Bb-B0ZSj7f"
      }
    },
    {
      "cell_type": "code",
      "source": [
        "### 画像表示用の関数\n",
        "#\n",
        "def displayImage(img):\n",
        "    \n",
        "    if type(img) is np.ndarray:              # 渡されたのが np.ndarray だった場合（OpenCVの画像はこの形式)\n",
        "        rv, buf = cv2.imencode('.png', img)  # PNG形式のバイト列に変換\n",
        "        if rv:\n",
        "            display(Image(data=buf.tobytes()))   # 変換できたらバイト列を渡して表示\n",
        "            return\n",
        "    elif type(img) is str:                   # 渡されたのが文字列だった場合\n",
        "        display(Image(filename=img))       # それがファイル名だと思って読み込む\n",
        "        return\n",
        "    \n",
        "    print('displayImage: error')"
      ],
      "metadata": {
        "id": "jlDL6ozeT7qe"
      },
      "execution_count": null,
      "outputs": []
    },
    {
      "cell_type": "code",
      "source": [
        "### 2D-DCTの基底を作る関数\n",
        "#\n",
        "def getDCTbasis2D(D):\n",
        "    dct1d = dct(np.eye(D), norm='ortho').T\n",
        "    dct2d = np.empty((D,D,D,D))\n",
        "    for i in range(D):\n",
        "        for j in range(D):\n",
        "            dct2d[i, j, :, :] = dct1d[i, :, np.newaxis] * dct1d[np.newaxis, j, :]\n",
        "\n",
        "    return dct2d"
      ],
      "metadata": {
        "id": "dJmmSk4nU0Og"
      },
      "execution_count": null,
      "outputs": []
    },
    {
      "cell_type": "code",
      "source": [
        "### 2D-DCTの基底を画像化する関数\n",
        "#\n",
        "def getDCTbasis2DImage(dct2d):\n",
        "\n",
        "    gap = 2\n",
        "    D = dct2d.shape[0]\n",
        "    imgsize  = D * (D + gap) + gap\n",
        "    img = np.zeros((imgsize, imgsize))\n",
        "\n",
        "    for iy in range(D):\n",
        "        lty = iy*(D + gap) + gap\n",
        "        for ix in range(D):\n",
        "            ltx = ix*(D + gap) + gap\n",
        "            img[lty:lty+D, ltx:ltx+D] = dct2d[iy, ix, :, :]\n",
        "\n",
        "    absmax = np.max(np.abs(img))\n",
        "    img = img * 127.5 / absmax + 127.5\n",
        "    \n",
        "    return img"
      ],
      "metadata": {
        "id": "pM0LkQOrUGoA"
      },
      "execution_count": null,
      "outputs": []
    },
    {
      "cell_type": "markdown",
      "source": [
        "サンプル画像を入手します．"
      ],
      "metadata": {
        "id": "0KLUQQYOSqjj"
      }
    },
    {
      "cell_type": "code",
      "source": [
        "# 画像を入手\n",
        "!wget -nc https://www-tlab.math.ryukoku.ac.jp/~takataka/course/MVA/uni3.png\n",
        "\n",
        "# 元はカラー画像なので，グレイスケールに変換\n",
        "imgSrc = cv2.imread('uni3.png', cv2.IMREAD_GRAYSCALE)\n",
        "\n",
        "# 表示\n",
        "displayImage(imgSrc)\n",
        "print(imgSrc.shape)"
      ],
      "metadata": {
        "id": "lT-5avx2Spna"
      },
      "execution_count": null,
      "outputs": []
    },
    {
      "cell_type": "markdown",
      "source": [
        "---\n",
        "### 2次元DCT"
      ],
      "metadata": {
        "id": "rTeZBBdLTDd4"
      }
    },
    {
      "cell_type": "markdown",
      "source": [
        "2次元DCTの基底は，1次元のDCTの基底を組み合わせて作ることができます．ここでは式を表すのは省略して，縦横 $8\\times 8$ の値に対応した2次元DCTの基底を画像として眺めてみることにします．"
      ],
      "metadata": {
        "id": "3Gze0wyhTS2i"
      }
    },
    {
      "cell_type": "code",
      "source": [
        "# 8x8 の2次元DCTの基底を可視化 \n",
        "D = 8\n",
        "dct2d = getDCTbasis2D(D)\n",
        "print(f'dct2d.shape = {dct2d.shape}')\n",
        "img = getDCTbasis2DImage(dct2d)\n",
        "\n",
        "# そのままではサイズが小さいので，縦横に拡大して表示\n",
        "img2 = cv2.resize(img, None, fx=6, fy=6, interpolation=cv2.INTER_NEAREST)\n",
        "displayImage(img2)"
      ],
      "metadata": {
        "id": "wxEKhfOlUIRj"
      },
      "execution_count": null,
      "outputs": []
    },
    {
      "cell_type": "markdown",
      "source": [
        "上記のセルを実行すると，`dct2d` という4次元配列ができます．基底は，`dct2d[0, 0]` から `dct2d[D-1, D-1]` までの $D\\times D$ 個（上の例では $64$ 個）から成り，そのそれぞれが $D\\times D$ 個の値から成る2次元配列です．図の左上の灰色の正方形が `dct2d[0, 0]`，右上の縞模様が `dct2d[0, 7]`，右下の格子模様が `dct2d[7, 7]` に対応しています．それぞれの値は正の場合も負の場合もありますので，$0$がグレーに対応するようにして，正が白，負が黒になるように描いてあります．\n",
        "\n",
        "2つの基底の値を表示させてみるとこんなん："
      ],
      "metadata": {
        "id": "p7Jr7IM6maqo"
      }
    },
    {
      "cell_type": "code",
      "source": [
        "print('##### dct2d[0, 0]')\n",
        "print(dct2d[0, 0])\n",
        "print()\n",
        "print('##### dct2d[0, 1]')\n",
        "print(dct2d[0, 1])"
      ],
      "metadata": {
        "id": "tTC1UvStmgqW"
      },
      "execution_count": null,
      "outputs": []
    },
    {
      "cell_type": "markdown",
      "source": [
        "`dct2d[i, j]` の `i` が大きくなると縦方向の変化の周期が短くなり，`j` が大きくなると，横方向の変化の周期が短くなります．"
      ],
      "metadata": {
        "id": "6tqfFYyJpghV"
      }
    },
    {
      "cell_type": "markdown",
      "source": [
        "---\n",
        "### 画像に $8\\times 8$ の2次元DCTを適用して展開係数を眺めてみる\n",
        "\n",
        "画素数 $H \\times W$ の画像を扱う場合，画像全体に対して $H \\times W$ の2次元DCTを適用することもできますが，ここでは，画像を $8\\times 8$ の小領域（ブロック）に分割して，それぞれに $8\\times 8$ の2次元DCTを適用してみましょう．"
      ],
      "metadata": {
        "id": "PhqCkArdqB_P"
      }
    },
    {
      "cell_type": "code",
      "metadata": {
        "id": "-36x_09KcITY"
      },
      "source": [
        "#@title `dct2d[iy, ix]` に対する展開係数の値を可視化してみる．以下の値をいろいろ変えてみよう．\n",
        "iy =  0#@param {type:\"integer\"}\n",
        "ix =  0#@param {type:\"integer\"}\n",
        "\n",
        "D = 8\n",
        "dct2d = getDCTbasis2D(D)\n",
        "\n",
        "# (iy, ix) は以下を満たさないといけない\n",
        "assert 0 <= ix and ix < D and 0 <= iy and iy < D\n",
        "\n",
        "# 展開係数を計算（このやり方は計算効率が悪いので実用的ではない）\n",
        "img = cv2.filter2D(imgSrc, cv2.CV_32F, dct2d[iy, ix])\n",
        "img = cv2.resize(img, (imgSrc.shape[1]//D, imgSrc.shape[0]//D), interpolation = cv2.INTER_NEAREST)\n",
        "\n",
        "# 展開係数の値を見やすくスケーリング\n",
        "absmax = np.max(np.abs(img))\n",
        "img = img / (2*absmax) + 0.5\n",
        "img *= 255\n",
        "\n",
        "# 縦横8倍に拡大して表示\n",
        "displayImage(cv2.resize(img, None, fx=8, fy=8, interpolation=cv2.INTER_NEAREST))\n",
        "print(f'dct2d[{iy},{ix}]に対する展開係数の値')"
      ],
      "execution_count": null,
      "outputs": []
    },
    {
      "cell_type": "markdown",
      "metadata": {
        "id": "8PJxbSvpjCQS"
      },
      "source": [
        "上記は，基底 `dct2d[iy, ix]` に対する展開係数の値をグレイスケール画像として可視化したものです．灰色が $0$ で，黒い画素は負の値，白い画素は正の値を表します．展開係数は元の画像の$8\\times8$ の小領域毎に求まるので，そのまま可視化すれば縦横 $\\frac{1}{8}$ の大きさになりますが，ここでは見やすくするために，元画像と同じ大きさに拡大して表示しています．\n"
      ]
    },
    {
      "cell_type": "markdown",
      "source": [
        "#### 問題2\n",
        "\n",
        "次のことを考えて／調べてメモしておこう：\n",
        "\n",
        "(1) `iy = 0` として，`ix` を徐々に大きくしていってみよう．このとき，展開係数の値の絶対値が大きいのは，元の画像のどんなところだろうか．元画像のその場所の画素値と基底の値にはどんな関係があるだろうか．\n",
        "\n",
        "(2) `ix = 0` として，`iy` を徐々に大きくしていってみよう．このとき，（以下同文）．\n",
        "\n"
      ],
      "metadata": {
        "id": "28nYe8FMsV0b"
      }
    },
    {
      "cell_type": "markdown",
      "source": [
        "### 2次元DCTを利用した画像圧縮"
      ],
      "metadata": {
        "id": "MryyoRTXJPwY"
      }
    },
    {
      "cell_type": "markdown",
      "source": [
        "notebookAの「直交展開を利用したベクトルの近似」のセクションで，一部の展開係数のみを用いて元のベクトルを近似できること，それによってデータ圧縮が可能なことを説明しました．2次元DCTは，画像圧縮（画像のデータ圧縮）に利用することができます．実は，↑で出てきた $8\\times 8$ の2次元DCTは，ファイル名の拡張子 `.jpg` や `.jpeg` でおなじみの，JPEG （注）と呼ばれる画像圧縮技術の中核として使用されています．実際の JPEG ではDCTの他にも様々な技術が組み合わされていますが，ここでは，画像圧縮の原理や考え方を理解することを目的として，2次元DCTのみを用いた「画像圧縮もどき」の実験をやってみましょう．\n",
        "\n",
        "※ 注意: JPEG に関する Wikipedia の記事: https://ja.wikipedia.org/wiki/JPEG\n",
        "\n"
      ],
      "metadata": {
        "id": "-kSEJRmwJ8Mu"
      }
    },
    {
      "cell_type": "markdown",
      "source": [
        "グレイスケール画像に $8\\times 8$ の2次元DCTを適用すると，$8\\times 8$ 画素のブロックごとに $8\\times 8 = 64$ 個の展開係数が得られます．これらの展開係数の値と `dct2d[0, 0]` から `dct2d[7, 7]` までの $64$ 個の基底をすべて用いれば元のブロックの画素値を再現できますが，すべては用いず，一部だけを用いると，元の画素値を近似することになります．\n",
        "例えば，基底の図において左上にある `dct2d[0, 0]`, `dct2d[0, 1]`, `dct2d[1, 0]`, `dct2d[1, 1]` の4つに対応した展開係数のみで近似する場合，元の画素値では1ブロックを表現するのに $64$ 個の数値が必要だったところが，展開係数 $4$ 個で済むことになり，必要なデータ量を $1/16$ に削減できることになります（注）．\n",
        "\n",
        "<span style=\"font-size: 75%\">\n",
        "※注: 画素値は $[0, 255]$ の整数値なので $8$ [bit] で表せますが，展開係数は実数なので，そのままでは，浮動小数点数として表すためにビット数がたくさん必要になってしまいます．実際のJPEGでは，展開係数の値を量子化して必要なビット数を削減します．さらに，一部の展開係数を捨てるのではなく，係数ごとに量子化ビット数を変えることで，圧縮効率と画質を両立させています．\n",
        "</span>\n"
      ],
      "metadata": {
        "id": "3SJ9ZRUmP9ZD"
      }
    },
    {
      "cell_type": "markdown",
      "source": [
        "というわけで，64個の展開係数のうち左上の $H\\times H$ 個だけを使って画像を近似してみましょう．この場合，基底の図で右の方や下の方にあるような，縦横の画素値の変化が大きいような成分は捨てることになります．どれくらい元画像を近似できるでしょうか．"
      ],
      "metadata": {
        "id": "XwhM4T52VaMS"
      }
    },
    {
      "cell_type": "code",
      "metadata": {
        "id": "eDUvc9EjdV3y"
      },
      "source": [
        "### dct2d[0, 0] から dct2d[H-1, H-1] までの基底を使って画像を再構成する関数\n",
        "#\n",
        "def getReconstruction(imgSrc, dct2d, H):\n",
        "    \n",
        "    D = dct2d.shape[0]\n",
        "    wSrc, hSrc = imgSrc.shape[1], imgSrc.shape[0]\n",
        "    wDst, hDst = wSrc//D*D, hSrc//D*D\n",
        "    imgDst = np.zeros((hDst, wDst))\n",
        "    \n",
        "    # このやり方は効率悪いので実用的ではない\n",
        "    for iy in range(0, hSrc, D):\n",
        "        for ix in range(0, wSrc, D):\n",
        "            x = imgSrc[iy:iy+D, ix:ix+D].reshape(-1).astype(float)\n",
        "            for jy in range(H):\n",
        "                for jx in range(H):\n",
        "                    coeff = x @ dct2d[jy, jx, :, :].reshape(-1)\n",
        "                    imgDst[iy:iy+D, ix:ix+D] += coeff * dct2d[jy, jx, :, :]\n",
        "                    \n",
        "    return imgDst"
      ],
      "execution_count": null,
      "outputs": []
    },
    {
      "cell_type": "code",
      "metadata": {
        "id": "03J-mhhT2L-n"
      },
      "source": [
        "#@title `dct2d[0, 0]` から `dct2d[H-1, H-1]` までを使って画像圧縮もどき\n",
        "H = 1 #@param {type:\"integer\"}\n",
        "D = 8\n",
        "\n",
        "# H は以下を満たさないといけない\n",
        "assert 1 <= H and H <= D\n",
        "\n",
        "dct2d = getDCTbasis2D(D)\n",
        "imgSrc = cv2.imread('uni3.png', cv2.IMREAD_GRAYSCALE)\n",
        "imgDst = getReconstruction(imgSrc, dct2d, H)\n",
        "\n",
        "# 得られた画像を表示\n",
        "displayImage(imgDst)\n",
        "print(f'H = {H}')\n",
        "print()\n",
        "\n",
        "# 一部拡大表示\n",
        "img = cv2.resize(imgDst[0:100, 430:530], None, fx=4, fy=4, interpolation=cv2.INTER_NEAREST)\n",
        "displayImage(img)"
      ],
      "execution_count": null,
      "outputs": []
    },
    {
      "cell_type": "markdown",
      "source": [
        "#### 問題3\n",
        "\n",
        "`H` の値をいろいろ変えて結果を観察しよう．\n",
        "\n"
      ],
      "metadata": {
        "id": "-1MQoBInWwAT"
      }
    },
    {
      "cell_type": "markdown",
      "source": [
        "ちなみに，$H=8$ とすると元画像が完全に再現されますが，それでもひげの周囲にもやもやとしたノイズが見えるでしょう．これは，最初から元画像に含まれているものです．実は元画像はディジタルカメラで撮影した画像をもとにしており，撮影して保存した時点で JPEG による圧縮がかかっています．元画像に含まれるこのようなノイズは，基底の図で右や下の方にある成分を粗く量子化したことによって発生したものです．蚊がたかっている様だということで「モスキートノイズ」と呼ばれたりします．"
      ],
      "metadata": {
        "id": "UBawAl1_W4ZW"
      }
    },
    {
      "cell_type": "markdown",
      "source": [
        "好きな画像で上記と同じ実験をやってみよう．\n",
        "\n",
        "(1) 手元のPCに適当な画像を用意しましょう．ファイル名は空白や全角文字を含まないようにしましょう．\n",
        "\n",
        "(2) 次のセル内をコメントにしたがって修正して実行し，適当な画像ファイルをアップロードしましょう．"
      ],
      "metadata": {
        "id": "-Ek7p6qij9YE"
      }
    },
    {
      "cell_type": "code",
      "metadata": {
        "id": "s-sr13ak3ZaM"
      },
      "source": [
        "# ファイルをアップロード．このセルを実行して「ファイル選択」ボタンを押して...\n",
        "from google.colab import files\n",
        "\n",
        "if 1 == 0: # ← の 0 を 1 に修正\n",
        "    uploaded = files.upload()\n",
        "\n",
        "!ls -l"
      ],
      "execution_count": null,
      "outputs": []
    },
    {
      "cell_type": "markdown",
      "source": [
        "(3) `ls` コマンドの実行結果が表示されるので，アップロードした画像のファイル名を確認して，それを次のセルに書いて実行しましょう．"
      ],
      "metadata": {
        "id": "FqZo5cLikMXT"
      }
    },
    {
      "cell_type": "code",
      "source": [
        "fn = 'uni3.png' # ここにアップロードしたファイル名を書く\n",
        "\n",
        "img = cv2.imread(fn, cv2.IMREAD_GRAYSCALE) # グレイスケール画像として読み込む\n",
        "if img is None:\n",
        "    print(f'{fn} を読み込めませんでした')\n",
        "\n",
        "# 長い方の辺の長さが 640 になるようにリサイズ\n",
        "h, w = img.shape\n",
        "if w > h:\n",
        "    w2 = 640\n",
        "    h2 = int(640/w * h)\n",
        "else:\n",
        "    h2 = 640\n",
        "    w2 = int(640/h * w)\n",
        "img = cv2.resize(img, dsize=(w2, h2))\n",
        "\n",
        "# 画像サイズが 8 の整数倍になるように一部切り捨て\n",
        "img = img[:h2//8*8, :w2//8*8]\n",
        "\n",
        "# 画像を表示\n",
        "displayImage(img)\n",
        "\n",
        "# リサイズした画像を hoge.png という名前で保存\n",
        "cv2.imwrite('hoge.png', img)\n",
        "\n",
        "! ls -l"
      ],
      "metadata": {
        "id": "cRxN7gssj0dj"
      },
      "execution_count": null,
      "outputs": []
    },
    {
      "cell_type": "markdown",
      "source": [
        "(4) グレイスケールにしてリサイズした画像が `hoge.png` という名前で保存されたはずです．「画像圧縮もどき」のセルの中の次の行のファイル名を `hoge.png` に変更して実行してみましょう．\n",
        "\n",
        "```\n",
        "imgSrc = cv2.imread('uni3.png', cv2.IMREAD_GRAYSCALE)\n",
        "```"
      ],
      "metadata": {
        "id": "N2nuLXUIoZ3o"
      }
    },
    {
      "cell_type": "code",
      "source": [],
      "metadata": {
        "id": "icA3LtPblIJ4"
      },
      "execution_count": null,
      "outputs": []
    }
  ]
}