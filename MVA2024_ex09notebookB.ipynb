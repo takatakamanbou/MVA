{
  "nbformat": 4,
  "nbformat_minor": 0,
  "metadata": {
    "colab": {
      "provenance": [],
      "toc_visible": true,
      "authorship_tag": "ABX9TyN1cPcTjKxhc7WNI3IV82qG",
      "include_colab_link": true
    },
    "kernelspec": {
      "name": "python3",
      "display_name": "Python 3"
    },
    "language_info": {
      "name": "python"
    }
  },
  "cells": [
    {
      "cell_type": "markdown",
      "metadata": {
        "id": "view-in-github",
        "colab_type": "text"
      },
      "source": [
        "<a href=\"https://colab.research.google.com/github/takatakamanbou/MVA/blob/main/MVA2024_ex09notebookB.ipynb\" target=\"_parent\"><img src=\"https://colab.research.google.com/assets/colab-badge.svg\" alt=\"Open In Colab\"/></a>"
      ]
    },
    {
      "cell_type": "markdown",
      "source": [
        "# MVA2024 ex09notebookB\n",
        "\n",
        "<img width=64 src=\"https://www-tlab.math.ryukoku.ac.jp/~takataka/course/MVA/MVA-logo.png\"> https://www-tlab.math.ryukoku.ac.jp/wiki/?MVA/2024"
      ],
      "metadata": {
        "id": "P4preLw7SzqH"
      }
    },
    {
      "cell_type": "markdown",
      "source": [
        "----\n",
        "## 演習課題: 多次元正規分布と親しくなろう (1)\n",
        "---\n",
        "\n",
        "<b><font color=\"#ff0000\">\n",
        "注意:\n",
        "今回の notebook の中には，コードセルを実行すると問題の解答が表示されるようになっている箇所があります．\n",
        "</font>\n",
        "</b>\n"
      ],
      "metadata": {
        "id": "zDtnBWKha6vx"
      }
    },
    {
      "cell_type": "code",
      "metadata": {
        "id": "I226xIKJbqtM"
      },
      "source": [
        "# 必要なパッケージのインポート\n",
        "import numpy as np\n",
        "import matplotlib.pyplot as plt\n",
        "import pandas as pd\n",
        "import seaborn\n",
        "seaborn.set()\n",
        "\n",
        "# SciPy の統計関数群 scipy.stats の中の多変量正規分布モジュール\n",
        "from scipy.stats import multivariate_normal\n",
        "\n",
        "# 「解答」を示す際に文字列を復号するのに使う\n",
        "import base64\n",
        "# 復号した文字列を Markdown 形式で（数式は LaTeX でフォーマットして）表示\n",
        "from IPython.display import display, Markdown"
      ],
      "execution_count": null,
      "outputs": []
    },
    {
      "cell_type": "markdown",
      "source": [
        "### 相関係数を含む2次元正規分布の式と分散共分散行列を含む2次元正規分布の式が等価であることを示そう\n",
        "\n"
      ],
      "metadata": {
        "id": "gXEY1V1LG-aG"
      }
    },
    {
      "cell_type": "markdown",
      "source": [
        "notebookA の\n",
        "\n",
        "> 式 (5) は式 (3),(4) とは見た目がかなり異なりますが，等価な式となっています（**notebookBの方でそのことを確認します**）．\n",
        "\n",
        "のところの話です．"
      ],
      "metadata": {
        "id": "icYtS-NA2FRR"
      }
    },
    {
      "cell_type": "markdown",
      "source": [
        "---\n",
        "［2次元正規分布の確率密度関数］\n",
        "\n",
        "連続型確率変数 $X$ が平均 $\\mu_x$，分散 $\\sigma_x^2$ の正規分布に従い，連続型確率変数 $Y$ が平均 $\\mu_y$，分散 $\\sigma_y^2$ の正規分布に従うとする．さらに，両者の間の相関係数を $\\rho_{xy}$ とする．このとき，$X$ と $Y$ の同時確率密度関数 $f_{X,Y}(x, y)$  が次式で表されるとする．\n",
        "\n",
        "$$\n",
        "f_{X,Y}(x, y) =  \\frac{1}{2\\pi\\sqrt{\\sigma_x^2\\sigma_y^2(1-\\rho_{xy}^2)}}\\exp\\left(-\\frac{1}{2}D^2\\right) \\qquad (3)\n",
        "$$\n",
        "\n",
        "ただし，\n",
        "\n",
        "$$\n",
        "D^2 = \\frac{1}{1-\\rho_{xy}^2}\\left\\{ \\frac{(x-\\mu_x)^2}{\\sigma_x^2} -2\\rho_{xy} \\frac{(x-\\mu_x)(y-\\mu_y)}{\\sigma_x\\sigma_y} + \\frac{(y-\\mu_y)^2}{\\sigma_y^2} \\right\\} \\qquad (4)\n",
        "$$\n",
        "\n",
        "である．\n",
        "$(X,Y)$の確率密度関数（$X$ と $Y$ の同時確率密度関数）がこのように表されるとき，「$(X,Y)$ は2次元（2変量）正規分布に従う」という．\n",
        "\n",
        "---"
      ],
      "metadata": {
        "id": "tXbTYX2w14SX"
      }
    },
    {
      "cell_type": "markdown",
      "source": [
        "\n",
        "---\n",
        "［ベクトルと行列で表した2次元正規分布の確率密度関数］\n",
        "\n",
        "2次元の連続型確率変数 $\\pmb{X} = \\begin{pmatrix}X \\\\ Y \\end{pmatrix}$ が平均\n",
        "$\n",
        "\\pmb{\\mu} = \\begin{pmatrix} \\mu_x\\\\ \\mu_y \\end{pmatrix}$，分散共分散行列\n",
        "$\n",
        "\\Sigma = \\begin{pmatrix}\n",
        "\\sigma_x^2 & \\sigma_{xy}\\\\ \\sigma_{xy} & \\sigma_y^2\n",
        "\\end{pmatrix}\n",
        "$\n",
        "の2次元正規分布に従うとする．ただし，$\\Sigma$ は正則である（逆行列を持つ）とする．\n",
        "このとき，$2\\times 1$ 行列 $\\pmb{x}$ を\n",
        "$\\pmb{x} = \\begin{pmatrix} x\\\\ y \\end{pmatrix}$\n",
        "とすると，この分布の確率密度関数 $f_{\\pmb{X}}(\\pmb{x})$ は次式で表される\n",
        "\n",
        "$$\n",
        "f_{\\pmb{X}}(\\pmb{x}) =\n",
        " \\frac{1}{\\sqrt{(2\\pi)^2|\\Sigma|}}\\exp\\left(-\\frac{1}{2}(\\pmb{x}-\\pmb{\\mu})^{\\top}\\Sigma^{-1}(\\pmb{x}-\\pmb{\\mu})\\right) \\qquad (5)\n",
        "$$\n",
        "\n",
        "ただし，$|\\Sigma|$ は行列 $\\Sigma$ の行列式を表す．\n",
        "\n",
        "---\n"
      ],
      "metadata": {
        "id": "FhvKuZgR19j8"
      }
    },
    {
      "cell_type": "markdown",
      "source": [
        "以下，式$(5)$を変形して式$(3),(4)$を導出する方針で考えてみましょう．"
      ],
      "metadata": {
        "id": "w-4LpJ2J3HfF"
      }
    },
    {
      "cell_type": "markdown",
      "source": [
        "#### 問題1"
      ],
      "metadata": {
        "id": "aEJiPZ773Rmb"
      }
    },
    {
      "cell_type": "markdown",
      "source": [
        "(1) $|\\Sigma|$ と $\\Sigma^{-1}$ を $\\sigma_x^2, \\sigma_y^2, \\sigma_{xy}$ を使って表しなさい．\n",
        "\n",
        "(2) $(\\pmb{x}-\\pmb{\\mu})^{\\top}\\Sigma^{-1}(\\pmb{x}-\\pmb{\\mu})$ を $x, y, \\mu_x, \\mu_y, \\sigma_x^2, \\sigma_y^2, \\sigma_{xy}$ を使って表しなさい．\n",
        "\n",
        "(3) 相関係数の定義 $\\displaystyle\\rho_{xy} = \\frac{\\sigma_{xy}}{\\sigma_x\\sigma_y}$ を用いて(1),(2)の答えの式から $\\sigma_{xy}$ を消去して，式$(5)$から式$(3),(4)$が導けることを示しなさい．"
      ],
      "metadata": {
        "id": "OJFeMa5B3lF3"
      }
    },
    {
      "cell_type": "markdown",
      "source": [
        "---\n",
        "### 好きな正規分布を作れるようになろう"
      ],
      "metadata": {
        "id": "Nh5eurDr7scO"
      }
    },
    {
      "cell_type": "markdown",
      "source": [
        "#### 問題2"
      ],
      "metadata": {
        "id": "4xrGXDyd9PUa"
      }
    },
    {
      "cell_type": "markdown",
      "source": [
        "<img src=\"https://www-tlab.math.ryukoku.ac.jp/~takataka/course/MVA/exGaussian01.png\">\n",
        "\n",
        "上の4つの図は，横軸を $x$，縦軸を $y$ として，式$(3),(4)$の2次元正規分布の確率密度関数 $f(x,y)$ を4通りのパラメータで描いたものである．\n",
        "\n",
        "これら4つを左から順に $(a), (b), (c), (d)$ と表すとき，それぞれの5つのパラメータ，すなわち，$X$ の平均 $\\mu_x$，$Y$ の平均 $\\mu_y$，$X$ の分散 $\\sigma^2_x$，$Y$ の分散 $\\sigma^2_y$，$X$ と $Y$ の相関係数 $\\rho_{xy}$ のおよその値を求めなさい．"
      ],
      "metadata": {
        "id": "pFKTStar9PUf"
      }
    },
    {
      "cell_type": "markdown",
      "source": [
        "次のセルに各パラメータの値を入力して実行するとグラフを描いてくれるので，参考にしたらよい．ただし，やみくもに値を変えるのではなく，それぞれの値の意味を考えながら試すこと．パラメータの値は，相関係数以外はキリの良い数である．\n",
        "\n",
        "各変数の意味は次の通りです：\n",
        "- `mu_x`: $X$ の平均 $\\mu_x$\n",
        "- `mu_y`: $Y$ の平均 $\\mu_y$\n",
        "- `s2_x`: $X$ の分散 $\\sigma^2_x$\n",
        "- `s2_y`: $Y$ の分散 $\\sigma^2_y$\n",
        "- `rho`:  $X$ と $Y$ の相関係数 $\\rho_{xy}$"
      ],
      "metadata": {
        "id": "bEQSOx0u74A5"
      }
    },
    {
      "cell_type": "code",
      "source": [
        "#@title 問題2,3の検討用のコード\n",
        "\n",
        "mu_x = 1.23 #@param {type:\"raw\"}\n",
        "mu_y = 2.34 #@param {type:\"raw\"}\n",
        "s2_x = 3.45 #@param {type:\"raw\"}\n",
        "s2_y = 4.56 #@param {type:\"raw\"}\n",
        "rho  = 0.99 #@param {type:\"raw\"}\n",
        "\n",
        "# 平均ベクトル\n",
        "mu = np.array([mu_x, mu_y])\n",
        "# 共分散行列\n",
        "s_xy = rho * np.sqrt(s2_x*s2_y)\n",
        "cov = np.array([[s2_x, s_xy],\n",
        "                [s_xy, s2_y]])\n",
        "\n",
        "# 2次元正規分布の等高線プロット\n",
        "xmin, xmax = -8, 8\n",
        "ymin, ymax = -8, 8\n",
        "fig, ax = plt.subplots(facecolor=\"white\", figsize=(6, 6))\n",
        "xg, yg = np.mgrid[xmin:xmax:0.1, ymin:ymax:0.1]\n",
        "X = np.dstack((xg, yg))\n",
        "fxy = multivariate_normal.pdf(X, mean=mu, cov=cov)\n",
        "ax.contourf(xg, yg, fxy)\n",
        "ax.contourf(xg, yg, fxy, cmap='viridis')\n",
        "ax.axhline(0, color='white')\n",
        "ax.axvline(0, color='white')\n",
        "ax.set_xlim(xmin, xmax)\n",
        "ax.set_ylim(ymin, ymax)\n",
        "ax.set_aspect('equal')\n",
        "plt.show()\n",
        "\n",
        "print(f'mu_x = {mu_x},  mu_y = {mu_y}')\n",
        "print(f's2_x = {s2_x},  s2_y = {s2_y}')\n",
        "print(f'rho = {rho}')"
      ],
      "metadata": {
        "id": "MLBSj9NUlcI2"
      },
      "execution_count": null,
      "outputs": []
    },
    {
      "cell_type": "code",
      "source": [
        "# このセルを実行すると上記の問題の解答を表示します\n",
        "Q = b'CnwqKuWVj+mhjDIqKiB8JFxtdV94JCB8JFxtdV95JCB8JFxzaWdtYV4yX3gkIHwkXHNpZ21hXjJfeSQgfCRccmhvX3t4eX0kIHwKfDotLS06fDotLS06fDotLS06fDotLS06fDotLS06fDotLS06fAp8KGEpfCQwJCB8JDAkIHwgJDEkIHwkMiQgfCQwJHwKfChiKXwkLTMkfCQtMiR8JDEkfCQyJHwkMCR8CnwoYyl8JDQkfCQ0JHwkMSR8JDIkfCQtMC41JHwKfChkKXwkLTQkfCQ0JHwkMSR8JDIkfCQtMC41JHwK'\n",
        "display(Markdown(base64.b64decode(Q).decode('utf-8')))"
      ],
      "metadata": {
        "id": "BrLSCCeMv_bm"
      },
      "execution_count": null,
      "outputs": []
    },
    {
      "cell_type": "markdown",
      "source": [
        "#### 問題3"
      ],
      "metadata": {
        "id": "H7rJDHlAG3Se"
      }
    },
    {
      "cell_type": "markdown",
      "source": [
        "<img src=\"https://www-tlab.math.ryukoku.ac.jp/~takataka/course/MVA/exGaussian02.png\">\n",
        "\n",
        "上の4つの図の正規分布を左から順に $(a), (b), (c), (d)$ と表すとして，問題2と同様に，それぞれの5つのパラメータのおよその値を求めなさい．\n",
        "\n",
        "問題2と同様に，上にある「問題2,3の検討用コード」を利用したらよい．"
      ],
      "metadata": {
        "id": "CMyOhSZo6YTg"
      }
    },
    {
      "cell_type": "code",
      "source": [
        "# このセルを実行すると上記の問題の解答を表示します\n",
        "Q = b'CnwqKuWVj+mhjDMqKiB8JFxtdV94JCB8JFxtdV95JCB8JFxzaWdtYV4yX3gkIHwkXHNpZ21hXjJfeSQgfCRccmhvX3t4eX0kIHwKfDotLS06fDotLS06fDotLS06fDotLS06fDotLS06fDotLS06fAp8KGEpfCQzJHwkLTQkfCQzJHwkMiR8JDAkfAp8KGIpfCQzJHwkLTQkfCQzJHwkMiR8JDAuNSR8CnwoYyl8JDMkfCQtNCR8JDMkfCQyJHwkMC45JHwKfChkKXwkMyR8JC00JHwkMyR8JDIkfCQtMC41JHwK'\n",
        "display(Markdown(base64.b64decode(Q).decode('utf-8')))"
      ],
      "metadata": {
        "id": "WLTCTReYUNGE"
      },
      "execution_count": null,
      "outputs": []
    },
    {
      "cell_type": "markdown",
      "source": [
        "#### 問題4"
      ],
      "metadata": {
        "id": "KViAZz2q-vQE"
      }
    },
    {
      "cell_type": "markdown",
      "source": [
        "<img src=\"https://www-tlab.math.ryukoku.ac.jp/~takataka/course/MVA/exGaussian03.png\">\n",
        "\n",
        "上の4つの図は，横軸を $x$，縦軸を $y$ として $\\pmb{x} = \\begin{pmatrix}x \\\\ y\\end{pmatrix}$ とおくとき，式$(5)$の2次元正規分布の確率密度関数 $f(\\pmb{x})$ を4通りのパラメータで描いたものである．\n",
        "これら4つを左から順に $(a), (b), (c), (d)$ と表すとき，それぞれのパラメータ，すなわち，\n",
        "平均\n",
        "$\n",
        "\\pmb{\\mu} = \\begin{pmatrix} \\mu_x\\\\ \\mu_y \\end{pmatrix}$，分散共分散行列\n",
        "$\n",
        "\\Sigma = \\begin{pmatrix}\n",
        "\\sigma_x^2 & \\sigma_{xy}\\\\ \\sigma_{xy} & \\sigma_y^2\n",
        "\\end{pmatrix}\n",
        "$\n",
        "のおよその値を求めなさい（メモしておこう）．ヒント: パラメータの値はいずれもキリの良い数である．\n",
        "\n",
        "\n",
        "各変数の意味は次の通りです：\n",
        "- `mu_x`: $\\mu_x$\n",
        "- `mu_y`: $\\mu_y$\n",
        "- `s2_x`: $\\sigma^2_x$\n",
        "- `s2_y`: $\\sigma^2_y$\n",
        "- `s_xy`: $\\sigma_{xy}$"
      ],
      "metadata": {
        "id": "bYeJjyH1-tz4"
      }
    },
    {
      "cell_type": "code",
      "source": [
        "#@title 問題4の検討用コード\n",
        "\n",
        "mu_x = 1.23 #@param {type:\"raw\"}\n",
        "mu_y = 2.34 #@param {type:\"raw\"}\n",
        "s2_x = 3.45 #@param {type:\"raw\"}\n",
        "s2_y = 4.56 #@param {type:\"raw\"}\n",
        "s_xy = 3.0  #@param {type:\"raw\"}\n",
        "\n",
        "# 平均ベクトル\n",
        "mu = np.array([mu_x, mu_y])\n",
        "# 共分散行列\n",
        "cov = np.array([[s2_x, s_xy],\n",
        "                [s_xy, s2_y]])\n",
        "\n",
        "# 2次元正規分布の等高線プロット\n",
        "xmin, xmax = -8, 8\n",
        "ymin, ymax = -8, 8\n",
        "fig, ax = plt.subplots(facecolor=\"white\", figsize=(6, 6))\n",
        "xg, yg = np.mgrid[xmin:xmax:0.1, ymin:ymax:0.1]\n",
        "X = np.dstack((xg, yg))\n",
        "fxy = multivariate_normal.pdf(X, mean=mu, cov=cov)\n",
        "ax.contourf(xg, yg, fxy)\n",
        "ax.contourf(xg, yg, fxy, cmap='viridis')\n",
        "ax.axhline(0, color='white')\n",
        "ax.axvline(0, color='white')\n",
        "ax.set_xlim(xmin, xmax)\n",
        "ax.set_ylim(ymin, ymax)\n",
        "ax.set_aspect('equal')\n",
        "plt.show()\n",
        "\n",
        "print(f'mu_x = {mu_x},  mu_y = {mu_y}')\n",
        "print(f's2_x = {s2_x},  s2_y = {s2_y}')\n",
        "print(f's_xy = {s_xy}')"
      ],
      "metadata": {
        "id": "Y6uEQucJ3QrF"
      },
      "execution_count": null,
      "outputs": []
    },
    {
      "cell_type": "code",
      "source": [
        "# このセルを実行すると上記の問題の解答を表示します\n",
        "Q = b'CnwqKuWVj+mhjDQqKiB8JFxtdV94JCB8JFxtdV95JCB8JFxzaWdtYV4yX3gkIHwkXHNpZ21hXjJfeSQgfCRcc2lnbWFfe3h5fSQgfAp8Oi0tLTp8Oi0tLTp8Oi0tLTp8Oi0tLTp8Oi0tLTp8Oi0tLTp8CnwoYSl8JDMkfCQtNCR8JDMkfCQyJHwkMCR8CnwoYil8JDMkfCQtNCR8JDMkfCQyJHwkMSR8CnwoYyl8JDMkfCQtNCR8JDMkfCQyJHwkMiR8CnwoZCl8JDMkfCQtNCR8JDMkfCQyJHwkLTEkfAo='\n",
        "display(Markdown(base64.b64decode(Q).decode('utf-8')))"
      ],
      "metadata": {
        "id": "Hn1WLQvDU7Rw"
      },
      "execution_count": null,
      "outputs": []
    },
    {
      "cell_type": "markdown",
      "source": [
        "#### 問題5"
      ],
      "metadata": {
        "id": "JyCs92beInRL"
      }
    },
    {
      "cell_type": "markdown",
      "source": [
        "(1) 2次元の連続型確率変数 $\\pmb{X} = \\begin{pmatrix}X \\\\ Y \\end{pmatrix}$ が $N(\\pmb{\\mu}, \\Sigma)$ に従っている．さらに，$X$ は $N(4, 1)$ に，$Y$ は $N(4, 2)$ に従い，$X$ と $Y$ の相関係数は $-\\frac{1}{2}$ である．\n",
        "このとき，$\\pmb{\\mu}$ と $\\Sigma$ はいくつか答えなさい．\n",
        "\n",
        "(2) 2次元の連続型確率変数 $\\pmb{X} = \\begin{pmatrix}X \\\\ Y \\end{pmatrix}$ が $N(\\pmb{0}, \\Sigma)$ に従っている．さらに，$X$ の分散は $3$，$Y$ の標準偏差は $X$ の標準偏差の $\\sqrt{2}$ 倍であり，$X$ と $Y$ は無相関（相関係数が $0$）である．このとき，$\\Sigma$ はいくつか答えなさい．\n",
        "\n",
        "(3) 3次元の連続型確率変数 $\\pmb{X} = \\begin{pmatrix}X_1 \\\\ X_2 \\\\ X_3 \\end{pmatrix}$ が $N(\\pmb{\\mu}, \\Sigma)$ に従っている．さらに，$X_1, X_2, X_3$ はそれぞれ $N(1, 1), N(2, 4), N(3, 9)$ に従い，$X_1$ と $X_2$ の共分散は $-1$，$X_2$ と $X_3$ の相関係数は $\\frac{1}{3}$，$X_1$ と $X_3$ は無相関（相関係数が $0$）である．\n",
        "このとき，$\\pmb{\\mu}$ と $\\Sigma$ はいくつか答えなさい．"
      ],
      "metadata": {
        "id": "eZTXTYkxIt6B"
      }
    },
    {
      "cell_type": "code",
      "source": [
        "# このセルを実行すると (1) の解答を表示します（答えのみ）\n",
        "Q = b'CiMjIyMgKDEpCgokXGRpc3BsYXlzdHlsZQpcbWF0aGJme1xtdX0gPQpcYmVnaW57cG1hdHJpeH0KNFxcNApcZW5ke3BtYXRyaXh9XHFxdWFkClxTaWdtYSA9ClxiZWdpbntwbWF0cml4fQoxICYgLVxmcmFjezF9e1xzcXJ0ezJ9fVxcCi1cZnJhY3sxfXtcc3FydHsyfX0gJiAyClxlbmR7cG1hdHJpeH0KJAo='\n",
        "display(Markdown(base64.b64decode(Q).decode('utf-8')))"
      ],
      "metadata": {
        "id": "gILDhM73WZRb"
      },
      "execution_count": null,
      "outputs": []
    },
    {
      "cell_type": "code",
      "source": [
        "# このセルを実行すると (2) の解答を表示します（答えのみ）\n",
        "Q = b'CiMjIyMgKDIpCgokIFxkaXNwbGF5c3R5bGUKXFNpZ21hID0KXGJlZ2lue3BtYXRyaXh9CjMgJiAwXFwKMCAmIDYKXGVuZHtwbWF0cml4fQokCg=='\n",
        "display(Markdown(base64.b64decode(Q).decode('utf-8')))"
      ],
      "metadata": {
        "id": "kOxKa4vxWpeg"
      },
      "execution_count": null,
      "outputs": []
    },
    {
      "cell_type": "code",
      "source": [
        "# このセルを実行すると (3) の解答を表示します（答えのみ）\n",
        "Q = b'CiMjIyMgKDMpCgokIFxkaXNwbGF5c3R5bGUKXHBtYntcbXV9ID0KXGJlZ2lue3BtYXRyaXh9CjFcXDJcXDMKXGVuZHtwbWF0cml4fVxxcXVhZApcU2lnbWEgPQpcYmVnaW57cG1hdHJpeH0KMSAmIC0xICYgMFxcCi0xICYgNCAmIDJcXAowICYgMiAmIDkKXGVuZHtwbWF0cml4fQokCg=='\n",
        "display(Markdown(base64.b64decode(Q).decode('utf-8')))"
      ],
      "metadata": {
        "id": "SBbj5m2BXSQ3"
      },
      "execution_count": null,
      "outputs": []
    },
    {
      "cell_type": "markdown",
      "source": [],
      "metadata": {
        "id": "KD74alzjI6F-"
      }
    }
  ]
}