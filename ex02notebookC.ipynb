{
  "nbformat": 4,
  "nbformat_minor": 0,
  "metadata": {
    "colab": {
      "provenance": [],
      "collapsed_sections": [],
      "toc_visible": true,
      "authorship_tag": "ABX9TyNY5RcRZvYXB5dqSuBleD0P",
      "include_colab_link": true
    },
    "kernelspec": {
      "name": "python3",
      "display_name": "Python 3"
    },
    "language_info": {
      "name": "python"
    }
  },
  "cells": [
    {
      "cell_type": "markdown",
      "metadata": {
        "id": "view-in-github",
        "colab_type": "text"
      },
      "source": [
        "<a href=\"https://colab.research.google.com/github/takatakamanbou/MVA/blob/2022/ex02notebookC.ipynb\" target=\"_parent\"><img src=\"https://colab.research.google.com/assets/colab-badge.svg\" alt=\"Open In Colab\"/></a>"
      ]
    },
    {
      "cell_type": "markdown",
      "source": [
        "# MVA2022 ex02notebookC\n",
        "\n",
        "<img width=64 src=\"https://www-tlab.math.ryukoku.ac.jp/~takataka/course/MVA/MVA-logo.png\"> https://www-tlab.math.ryukoku.ac.jp/wiki/?MVA/2022"
      ],
      "metadata": {
        "id": "P4preLw7SzqH"
      }
    },
    {
      "cell_type": "markdown",
      "source": [
        "----\n",
        "## 演習課題\n",
        "\n",
        "Python + NumPy で回帰分析やってみましょう．\n"
      ],
      "metadata": {
        "id": "zDtnBWKha6vx"
      }
    },
    {
      "cell_type": "markdown",
      "source": [
        "### 問題0\n",
        "\n",
        "問題1以降のために必要な `import` 文を以下のセルに書いておこう．"
      ],
      "metadata": {
        "id": "2S20Kx6rIYt4"
      }
    },
    {
      "cell_type": "code",
      "source": [
        "# 必要なパッケージのインポート\n",
        "\n"
      ],
      "metadata": {
        "id": "_45KodUIIhmY"
      },
      "execution_count": null,
      "outputs": []
    },
    {
      "cell_type": "markdown",
      "source": [
        "### 問題1"
      ],
      "metadata": {
        "id": "UcuFlF-rK0bg"
      }
    },
    {
      "cell_type": "markdown",
      "source": [
        "次のセルを実行すると，`X` が2次元配列になります．この配列は，以前の notebook にも登場した，「おもりの重さ」と「バネの長さ」の関係を表すデータです．\n",
        "`X` の 0 番目の列が「おもりの重さ」， 1 番目の列が「バネの長さです」．"
      ],
      "metadata": {
        "id": "3uQgkVP-MhJc"
      }
    },
    {
      "cell_type": "code",
      "source": [
        "X = np.array([\n",
        "    [6, 119], [8, 145], [12, 175], [14, 191], [18, 204], [20, 209], [24, 244], [26, 233], [30, 272], [32, 268]\n",
        "])\n",
        "print(X)"
      ],
      "metadata": {
        "id": "PaPNQzMKKJkb"
      },
      "execution_count": null,
      "outputs": []
    },
    {
      "cell_type": "markdown",
      "source": [
        "(1) 上記のセルに1行追加して，`X.shape` を print させなさい．その値をメモしておきなさい．"
      ],
      "metadata": {
        "id": "bPY9yr2vNbt9"
      }
    },
    {
      "cell_type": "markdown",
      "source": [
        "(2) 次のセルの `###` が付いている行をそのコメントの通りに修正して（それ以外の行は修正不要なはず）， 「おもりの重さ」を横軸に，「バネの長さ」を縦軸にとった散布図が正しく描かれるようにしなさい．"
      ],
      "metadata": {
        "id": "M4AKY9zLMKsN"
      }
    },
    {
      "cell_type": "code",
      "source": [
        "xvec = X  ### おもりの重さを xvec に代入\n",
        "print(xvec)\n",
        "yvec = X  ### バネの長さを yvec に代入\n",
        "print(yvec)\n",
        "\n",
        "fig, ax = plt.subplots()\n",
        "ax.scatter(xvec, yvec) \n",
        "ax.set_xlim(0, 35)\n",
        "ax.set_ylim(0, 300)\n",
        "plt.show()"
      ],
      "metadata": {
        "id": "5W8vwRyfLb9Y"
      },
      "execution_count": null,
      "outputs": []
    },
    {
      "cell_type": "markdown",
      "source": [
        "(3) 次のセルのを修正して，配列`X` の「おもりの重さ」と「バネの長さ」それぞれの平均値が出力されるようにしなさい．\n",
        "ただし，`np.mean` の `axis` 引数を使うこと．"
      ],
      "metadata": {
        "id": "mBb_sF2wN-fN"
      }
    },
    {
      "cell_type": "code",
      "source": [
        "print(np.mean(X))"
      ],
      "metadata": {
        "id": "WA9AbN-sLAqH"
      },
      "execution_count": null,
      "outputs": []
    },
    {
      "cell_type": "markdown",
      "source": [
        "### 問題2\n",
        "次の連立方程式を np.linalg.solve を用いて解きなさい．"
      ],
      "metadata": {
        "id": "Cwq4zO99QrRI"
      }
    },
    {
      "cell_type": "markdown",
      "source": [
        "$$\n",
        "\\left\\{ \\begin{aligned}\n",
        "x+y+z &= 5\\\\\n",
        "x+2y + z &= 3\\\\\n",
        "x+2y+3z &= 8\n",
        "\\end{aligned} \\right.\n",
        "$$"
      ],
      "metadata": {
        "id": "B9KWK0nmR8Ev"
      }
    },
    {
      "cell_type": "code",
      "source": [
        "\n",
        "\n"
      ],
      "metadata": {
        "id": "-CNwSRKTJyt9"
      },
      "execution_count": null,
      "outputs": []
    },
    {
      "cell_type": "markdown",
      "source": [
        "### 問題3"
      ],
      "metadata": {
        "id": "cO5ZzsCkOqHZ"
      }
    },
    {
      "cell_type": "markdown",
      "source": [
        "問題1-(2) が正しくできた状態で次のセルを実行すると，配列 `X1` は，0行目に `xvec` の各要素が並び，1行目に 1 が並んだ $10\\times 2$ 行列になるはずです．そのことを確認した上で，(1),(2), ..., の各問に答えなさい．"
      ],
      "metadata": {
        "id": "dseYK0_aPiJh"
      }
    },
    {
      "cell_type": "code",
      "source": [
        "X1 = np.vstack([xvec, np.ones_like(xvec)]).T\n",
        "print(X1)\n",
        "print(X1.shape)"
      ],
      "metadata": {
        "id": "PNaOI3xdOL6H"
      },
      "execution_count": null,
      "outputs": []
    },
    {
      "cell_type": "markdown",
      "source": [
        "このセルでやっていることの理解は求めませんが，気になるひとは以下のリンク先へどうぞ．\n",
        "- [np.ones_like](https://numpy.org/doc/stable/reference/generated/numpy.ones_like.html)\n",
        "- [np.vstack](https://numpy.org/doc/stable/reference/generated/numpy.vstack.html)"
      ],
      "metadata": {
        "id": "Y9f7fWGzOLSi"
      }
    },
    {
      "cell_type": "markdown",
      "source": [
        "(1) `X1` が表す行列を $X$ と表記したとき，次のセルを修正して，$X^{\\top}X$ に相当する計算の結果が変数 `XtX` に格納されるようにしなさい．\n",
        "これは，ex02notebookA で説明している正規方程式の左辺の行列となっているはずです．\n",
        "`XtX.shape` の値をメモしておきなさい．\n"
      ],
      "metadata": {
        "id": "PdIOti7BRUCh"
      }
    },
    {
      "cell_type": "code",
      "source": [
        "XtX = X1\n",
        "print(XtX)\n",
        "print(XtX.shape)"
      ],
      "metadata": {
        "id": "qSEu6lo3O47f"
      },
      "execution_count": null,
      "outputs": []
    },
    {
      "cell_type": "markdown",
      "source": [
        "(2) 次のセルを実行すると（修正不要），変数 `XtY` は，(2)と同様の正規方程式の右辺の行列（1次元配列）となっているはずです．そのことを確認しなさい．\n",
        "`XtY.shape` の値をメモしておきなさい．"
      ],
      "metadata": {
        "id": "ZQQWDkacPYe9"
      }
    },
    {
      "cell_type": "code",
      "source": [
        "XtY = X1.T @ yvec\n",
        "print(XtY)\n",
        "print(XtY.shape)"
      ],
      "metadata": {
        "id": "9x-S3MnwPgKz"
      },
      "execution_count": null,
      "outputs": []
    },
    {
      "cell_type": "markdown",
      "source": [
        "(3) 次のセルの2行目を修正して，`np.linalg.solve` を呼び出して正規方程式を解いた結果（回帰直線の傾きと切片の値）が `a` と `b` に代入されるようにしなさい．"
      ],
      "metadata": {
        "id": "B4jnZDPOWe_r"
      }
    },
    {
      "cell_type": "code",
      "source": [
        "## 正規方程式を解く\n",
        "a, b = 1.0, 2.0\n",
        "print(f'a = {a:.4f}, b = {b:.1f}')\n",
        "\n",
        "## 散布図に回帰直線を重ねて描く\n",
        "xx = np.array([0, 35])\n",
        "yy = a*xx + b\n",
        "fig, ax = plt.subplots()\n",
        "ax.scatter(xvec, yvec)\n",
        "ax.plot(xx, yy, color='red')\n",
        "ax.set_xlim(0, 35)\n",
        "ax.set_ylim(0, 300)\n",
        "plt.show()"
      ],
      "metadata": {
        "id": "TtCN2Dj-Wfnn"
      },
      "execution_count": null,
      "outputs": []
    },
    {
      "cell_type": "markdown",
      "source": [
        "(4) (3)では，最小二乗法の解（回帰直線のパラメータ）を求めるために，正規方程式の左辺の行列 $X^{\\top}X$ と右辺の行列 $X^{\\top}Y$ を求める → それらを引数として `np.linalg.solve` を呼ぶ，ということをしていました．実は，`np.linalg.lstsq` という関数を使うと，行列 $X$ と $Y$ を渡すだけで一気に最小二乗法の解を求めてくれます．\n",
        "詳しい説明はしませんが，こちらの関数の方が優れている点がいくつかあります．\n",
        "\n",
        "次のセルを実行すると等しい解が得られることを確認しなさい．\n",
        "\n",
        "cf. [np.linalg.lstsq の API reference](https://numpy.org/doc/stable/reference/generated/numpy.linalg.lstsq.html)"
      ],
      "metadata": {
        "id": "fsJDByTrXE3j"
      }
    },
    {
      "cell_type": "code",
      "source": [
        "rv = np.linalg.lstsq(X1, yvec, rcond=None)\n",
        "print(rv)\n",
        "a, b = rv[0] # lstsqの戻り値は解以外のものも含んでいる．そのうちの 0 番目の要素が解\n",
        "print(f'a = {a:.4f}, b = {b:.1f}')"
      ],
      "metadata": {
        "id": "WD1K-fOPWjqx"
      },
      "execution_count": null,
      "outputs": []
    },
    {
      "cell_type": "markdown",
      "source": [
        "［よだんだよん］ lstsq の API reference に書いてありますが，戻り値は\n",
        "```\n",
        "( 最小二乗法の解, 残差平方和, 第1引数の行列のランク, 第1引数の行列の特異値 )\n",
        "```\n",
        "です．次のセルを実行すると，残差平方和の値を確認できます．"
      ],
      "metadata": {
        "id": "giPM6nJPhCLy"
      }
    },
    {
      "cell_type": "code",
      "source": [
        "print(f'残差平方和 = {rv[1][0]}')"
      ],
      "metadata": {
        "id": "gXMBwYDUg15T"
      },
      "execution_count": null,
      "outputs": []
    },
    {
      "cell_type": "markdown",
      "source": [
        "ちなみに，「残差平方和」は回帰直線を用いて得られる予測値と真の値との間の差の2乗の和です．\n",
        "$$\n",
        "\\mbox{(残差平方和)} = \\sum_{n=1}^{N} (y_n - (ax_n + b))^2\n",
        "$$"
      ],
      "metadata": {
        "id": "TFIIX7uBiJnE"
      }
    },
    {
      "cell_type": "code",
      "source": [
        "# 自分で残差平方和を計算するならこんなん\n",
        "hoge = yvec - (a*xvec+b)\n",
        "print(hoge @ hoge)"
      ],
      "metadata": {
        "id": "p95JNMKWkAfm"
      },
      "execution_count": null,
      "outputs": []
    },
    {
      "cell_type": "markdown",
      "source": [
        "### 問題4\n",
        "ここまでの話をふまえて，実際のデータについて簡単な回帰分析をやってみよう．\n",
        "使うのは，気象庁のサイトで提供されている，「世界の年平均気温偏差（℃）」のデータです．どういうデータかは，リンク先のウェブページで確認してね．\n",
        "cf. https://www.data.jma.go.jp/cpdinfo/temp/list/an_wld.html\n"
      ],
      "metadata": {
        "id": "s4ESz7U6R3E0"
      }
    },
    {
      "cell_type": "markdown",
      "source": [
        "次のセルを実行すると，気象庁のサイトから CSV ファイルを入手することができます．\n",
        "ここでは，Python のデータ分析ライブラリである **pandas** を使います．\n",
        "様々な機能があって便利なもの（グラフ描いたりデータ分析したりも可能）なのですが，ここでは説明しません． cf. https://pandas.pydata.org/\n",
        "\n",
        "以下では，CSVファイルを読み込む → pandas の DataFrame というものをつくり，そこから必要なデータを抽出して NumPy array を作っています．\n"
      ],
      "metadata": {
        "id": "ZrUck4pPUtqV"
      }
    },
    {
      "cell_type": "code",
      "source": [
        "# pandas のパッケージをインポートして，pd という名前で呼べるようにする\n",
        "import pandas as pd\n",
        "\n",
        "# URL を指定して CSV ファイルを読み込み，DataFrame に変換．日本語が含まれているので encoding オプションを指定\n",
        "df = pd.read_csv('https://www.data.jma.go.jp/cpdinfo/temp/list/csv/an_wld.csv', encoding='cp932')\n",
        "df"
      ],
      "metadata": {
        "id": "ds6pZBSDS2l5"
      },
      "execution_count": null,
      "outputs": []
    },
    {
      "cell_type": "code",
      "source": [
        "# df の「年」列を xvec に，「世界全体」列を yvec に代入\n",
        "xvec = df['年'].to_numpy()\n",
        "yvec = df['世界全体'].to_numpy()\n",
        "print(xvec)\n",
        "print(yvec)"
      ],
      "metadata": {
        "id": "rk1DXxDRS92g"
      },
      "execution_count": null,
      "outputs": []
    },
    {
      "cell_type": "markdown",
      "source": [
        "ここから先は，コードセルに書いてあるコメントなどを参考にして，コードセルの中味を自分で書いてみましょう．"
      ],
      "metadata": {
        "id": "tzVRr1RxW7Tu"
      }
    },
    {
      "cell_type": "code",
      "source": [
        "# データの散布図を描く\n",
        "\n",
        "\n",
        "\n",
        "\n"
      ],
      "metadata": {
        "id": "BIla0HRlThTc"
      },
      "execution_count": null,
      "outputs": []
    },
    {
      "cell_type": "code",
      "source": [
        "# 最小二乗法で回帰直線のパラメータを求める（np.linalg.lstsq を使うこと）\n",
        "\n",
        "\n",
        "\n",
        "# これより上で変数 a に回帰直線の傾きが， b に切片の値が代入されるようにしよう\n",
        "print(f'a = {a:.3e}, b = {b:.3e}')"
      ],
      "metadata": {
        "id": "GCmmQWrHXNWt"
      },
      "execution_count": null,
      "outputs": []
    },
    {
      "cell_type": "code",
      "source": [
        "# 回帰直線を描くために線分の端点の座標を計算\n",
        "xx = np.array([1890, 2025])\n",
        "yy = a*xx + b\n",
        "\n",
        "# 散布図に回帰直線を重ねて描く\n",
        "\n",
        "\n",
        "\n"
      ],
      "metadata": {
        "id": "zmeZGCGEX-Wf"
      },
      "execution_count": null,
      "outputs": []
    },
    {
      "cell_type": "markdown",
      "source": [
        "### おまけ問題\n",
        "\n",
        "これはおまけですので，やらなくても減点はありません．やると棒茄子？\n",
        "やったひとは授業時間中に takataka に見せてね．\n",
        "\n",
        "次のセルを実行すると，`xvec2` と `yvec2` に，1960年以降のデータが入ります．その回帰直線も求めてみましょう．\n",
        "元のデータの散布図に，二つの回帰直線を重ねて描きましょう．"
      ],
      "metadata": {
        "id": "BUz8NI4uZ0IB"
      }
    },
    {
      "cell_type": "code",
      "source": [
        "xvec2 = xvec[xvec >= 1960]\n",
        "yvec2 = yvec[xvec >= 1960]"
      ],
      "metadata": {
        "id": "QU_rbsg9ZBi8"
      },
      "execution_count": null,
      "outputs": []
    },
    {
      "cell_type": "code",
      "source": [],
      "metadata": {
        "id": "XVOe5EfsZjXu"
      },
      "execution_count": null,
      "outputs": []
    },
    {
      "cell_type": "code",
      "source": [],
      "metadata": {
        "id": "ZuZ1uS77cPoH"
      },
      "execution_count": null,
      "outputs": []
    }
  ]
}