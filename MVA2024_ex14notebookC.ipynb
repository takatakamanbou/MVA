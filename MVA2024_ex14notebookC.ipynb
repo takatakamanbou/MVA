{
  "nbformat": 4,
  "nbformat_minor": 0,
  "metadata": {
    "colab": {
      "provenance": [],
      "toc_visible": true,
      "authorship_tag": "ABX9TyOOWY7z4YFHXXnVzTijaCQ6",
      "include_colab_link": true
    },
    "kernelspec": {
      "name": "python3",
      "display_name": "Python 3"
    },
    "language_info": {
      "name": "python"
    }
  },
  "cells": [
    {
      "cell_type": "markdown",
      "metadata": {
        "id": "view-in-github",
        "colab_type": "text"
      },
      "source": [
        "<a href=\"https://colab.research.google.com/github/takatakamanbou/MVA/blob/main/MVA2024_ex14notebookC.ipynb\" target=\"_parent\"><img src=\"https://colab.research.google.com/assets/colab-badge.svg\" alt=\"Open In Colab\"/></a>"
      ]
    },
    {
      "cell_type": "markdown",
      "source": [
        "# MVA2024 ex14notebookC\n",
        "\n",
        "<img width=64 src=\"https://www-tlab.math.ryukoku.ac.jp/~takataka/course/MVA/MVA-logo.png\"> https://www-tlab.math.ryukoku.ac.jp/wiki/?MVA/2024"
      ],
      "metadata": {
        "id": "P4preLw7SzqH"
      }
    },
    {
      "cell_type": "markdown",
      "source": [
        "---\n",
        "## 演習課題: 音のデータの解析\n",
        "---\n",
        "\n",
        "<b><font color=\"#ff0000\">\n",
        "注意:\n",
        "今回の notebook の中には，コードセルを実行すると問題の解答が表示されるようになっている箇所があります．\n",
        "</font>\n",
        "</b>\n"
      ],
      "metadata": {
        "id": "Snu_5I6aGJS8"
      }
    },
    {
      "cell_type": "code",
      "source": [
        "# いつものいろいろインポート\n",
        "import numpy as np\n",
        "import matplotlib.pyplot as plt\n",
        "import pandas as pd\n",
        "import seaborn\n",
        "seaborn.set_theme()\n",
        "\n",
        "# statsmodels いろいろ\n",
        "from statsmodels import tsa\n",
        "from statsmodels.graphics import tsaplots\n",
        "\n",
        "# 科学技術計算のライブラリ SciPy の中の WAVE ファイルを扱うモジュール\n",
        "from scipy.io.wavfile import read, write\n",
        "\n",
        "# 「解答」を示す際に文字列を復号するのに使う\n",
        "import base64\n",
        "# 復号した文字列を Markdown 形式で（数式は LaTeX でフォーマットして）表示\n",
        "from IPython.display import display, Markdown"
      ],
      "metadata": {
        "id": "9HCsHgFjR6jo"
      },
      "execution_count": null,
      "outputs": []
    },
    {
      "cell_type": "markdown",
      "source": [
        "---\n",
        "### 標本化\n"
      ],
      "metadata": {
        "id": "jCCst0_aXVuM"
      }
    },
    {
      "cell_type": "markdown",
      "source": [
        "### 標本化とは"
      ],
      "metadata": {
        "id": "fCwHKGGgolmv"
      }
    },
    {
      "cell_type": "markdown",
      "source": [
        "物理世界を観測して得られる情報は，「時間にともなって変化する気温」のように，時間や空間といった数量にともなって変化する何らかの数量であることが多くあります．\n",
        "何かの数量の変化にともなって変化する何かの数量において，前者（気温の例における時間を表す量）を「変数」といい，後者（気温）を「値」といいます．\n",
        "\n",
        "ここでの量には，連続なものも離散的な（とびとびの）ものもありますが，コンピュータはディジタルな情報を扱うことしかできませんので，連続な量であっても離散的に表します．\n",
        "例えば大津市の一地点の気温は，時間にともなって変化する連続な量です．しかし，「データ4: 大津市の2004年の日平均気温」では，「1日ごとの平均気温」という値として，時間軸を1日単位で離散化して扱っていました．\n",
        "\n",
        "データを扱う際には，このように，本来は連続な変数を離散化してから扱うことがよくあります．変数を離散化するこの処理のことを，**標本化** (sampling) といいます．これに対して，値の方を離散化する処理は **量子化** (quantization) といいます（注）．\n",
        "\n",
        "<br>\n",
        "<hr width=\"50%\" align=\"left\">\n",
        "<span style=\"font-size: 75%\">\n",
        "※注: 量子化についての説明はこの授業では省略します．データ3 の場合，気温の値は 0.1 度刻みとなっていました．コンピュータで扱う場合は，値を 2 のべき乗通りに離散化する量子化が便利なのでよく用いられます．たとえば一般的な画像ファイルでは画素値を 0 から 255 の 256 段階で表します．\n",
        "</span>"
      ],
      "metadata": {
        "id": "K-7UWFMgXVuM"
      }
    },
    {
      "cell_type": "markdown",
      "source": [
        "#### 標本化間隔（標本化周期）と標本化周波数"
      ],
      "metadata": {
        "id": "LHuUC-0P3ho-"
      }
    },
    {
      "cell_type": "markdown",
      "source": [
        "ここでは，変数を一定の間隔で離散化するような標本化の仕方を考えます．この間隔のことを，**標本化間隔** （または **標本化周期**） といいます．\n",
        "\n",
        "次のセルをそのまま実行すると，$x(t) = \\sin{2\\pi t}$ （ $t$ の単位は [s] ）の値を $t = 0, 0.1, 0.2, \\ldots$ と標本化間隔 $0.1[s]$ で取り出す標本化を行った結果が表示されます．\n",
        "灰色の曲線が元の $x(t)$ で，赤い点が標本化によって得られる値です．\n",
        "\n"
      ],
      "metadata": {
        "id": "4HahebWm333k"
      }
    },
    {
      "cell_type": "code",
      "source": [
        "T = 0.1\n",
        "\n",
        "duration = 2.0\n",
        "\n",
        "t_sample = np.arange(0, duration, T)\n",
        "N = len(t_sample)\n",
        "t = np.arange(0, duration, 0.01)\n",
        "x_sample = np.sin(2*np.pi*t_sample)\n",
        "x        = np.sin(2*np.pi*t)\n",
        "\n",
        "print('x = ')\n",
        "print(x_sample, f'N = {N}')\n",
        "\n",
        "fig, ax = plt.subplots(figsize=(8, 4))\n",
        "ax.stem(t_sample, x_sample, linefmt='r--', markerfmt='ro', label='$x_n$')\n",
        "ax.plot(t, x, '-', label=f'$\\sin(2\\pi t)$', color='gray')\n",
        "ax.set_xlabel('t [s]')\n",
        "ax.axhline(0, color='gray')\n",
        "ax.set_xlim(-0.05, 2.05)\n",
        "ax.set_ylim(-1.2, 1.2)\n",
        "ax.set_xticks(np.arange(0, duration+0.1, T))\n",
        "ax.legend()\n",
        "\n",
        "plt.show()"
      ],
      "metadata": {
        "id": "y66OaLrJZihI"
      },
      "execution_count": null,
      "outputs": []
    },
    {
      "cell_type": "markdown",
      "source": [
        "##### 問題1\n",
        "\n",
        "上のコードセルでは，標本化間隔を `T` という変数で指定しています．\n",
        "標本化間隔を $0.12, 0.2, 0.3, 0.4, 0.5$ などと変えて結果を観察しよう．"
      ],
      "metadata": {
        "id": "dZCr824j6B60"
      }
    },
    {
      "cell_type": "markdown",
      "source": [
        "標本化間隔の逆数をとったものを，**標本化周波数** といいます．標本化間隔の単位が [s] の場合，標本化周波数の単位は [Hz] です．標本化間隔が 0.1[s] なら，標本化周波数は 1/0.1 = 10 [Hz] です．標本化の際には，標本化間隔を短く（標本化周波数を高く）しないと，元の波形をちゃんと表せません（注）．\n",
        "\n",
        "<br>\n",
        "<hr width=\"50%\" align=\"left\">\n",
        "<span style=\"font-size: 75%\">\n",
        "※注: 「では標本化間隔／標本化周波数はどう決めたらよいのだろう」という疑問が浮かびますが，これに関して，「標本化定理」という定理が知られています．例えば，notebookAで出てきた 44100 という数字は，音楽などを記録する CD の規格（CD-DA）で定められた標本化周波数です．標本化定理と人間の聴覚について理解すると，なぜこんな数字なのかが分かるようになります．\n",
        "</span>"
      ],
      "metadata": {
        "id": "rII7bHGT7yUM"
      }
    },
    {
      "cell_type": "markdown",
      "source": [
        "---\n",
        "### 正弦波で作った音の解析\n"
      ],
      "metadata": {
        "id": "qwpB_UvyYdkn"
      }
    },
    {
      "cell_type": "markdown",
      "source": [
        "#### データを準備する"
      ],
      "metadata": {
        "id": "6RiPqHcaHD4N"
      }
    },
    {
      "cell_type": "markdown",
      "source": [
        "次のコードセルを実行すると，音のデータを作ります．`signalA` と `signalB` の2つあります．それぞれ，ある周波数の正弦波にノイズを乗せた信号2秒分から 1/8000 秒間隔で値を取り出した（標本化間隔 1/8000 秒で標本化した = 標本化周期 8000 Hz で標本化した）ものとなっています．"
      ],
      "metadata": {
        "id": "jrdk1sF7AlmV"
      }
    },
    {
      "cell_type": "code",
      "source": [
        "sr = 8000        # 標本化周波数\n",
        "vmax = 2**(15-2) # 最大値を16bit量子化での最大振幅の 1/4 に\n",
        "T = 2            # 2秒\n",
        "\n",
        "t = np.linspace(0, T, num=T*sr)\n",
        "signalA = vmax*(np.sin(800*np.pi*t) + 0.1*np.random.randn(T*sr))\n",
        "signalB = 0.5*vmax*(np.sin(500*np.pi*t) + 0.1*np.random.randn(T*sr))"
      ],
      "metadata": {
        "id": "g9yjeBp2BGnW"
      },
      "execution_count": null,
      "outputs": []
    },
    {
      "cell_type": "markdown",
      "source": [
        "##### 問題2\n",
        "\n",
        "次のセルの 3 行目をコメントにしたがって修正してから実行すると，`signalA` と `signalB` を WAVE 形式のファイルとして出力して手元にダウンロードできます．WAVE 形式のファイルは，Windows でも macOS でも，標準の音楽プレイヤーで再生できるはずです．\n",
        "\n",
        "どちらの方が高い音でしょうか？どちらの方が大きい音でしょうか？"
      ],
      "metadata": {
        "id": "Fiec6HNSFIMt"
      }
    },
    {
      "cell_type": "code",
      "source": [
        "from google.colab import files\n",
        "\n",
        "if 1 == 0: # ← の 0 を 1 に修正\n",
        "    write('signalA.wav', sr, signalA.astype('int16'))\n",
        "    write('signalB.wav', sr, signalB.astype('int16'))\n",
        "    files.download('signalA.wav')\n",
        "    files.download('signalB.wav')"
      ],
      "metadata": {
        "id": "ocpx8XAkCT2m"
      },
      "execution_count": null,
      "outputs": []
    },
    {
      "cell_type": "markdown",
      "source": [
        "##### 問題3\n",
        "\n",
        "次のセルを実行すると，`signalA` と `signalB` のグラフを描けます．横軸は，データ点の番号（時系列 $\\{x_t\\}$ の添字 $t$ ）を表します．2つの音の高さや大きさの違いが波形としてはどのように見えるか考えましょう．"
      ],
      "metadata": {
        "id": "HkHOgrNcGLJy"
      }
    },
    {
      "cell_type": "code",
      "source": [
        "fig, ax = plt.subplots(2, 1, figsize=(8, 8))\n",
        "ax[0].plot(signalA, '-o', label='signalA', markersize=3)\n",
        "ax[0].axhline(0, color='gray')\n",
        "ax[0].set_xlabel('t')\n",
        "ax[0].set_xlim(0, 80)\n",
        "ax[0].set_ylim(-2**15, 2**15)\n",
        "ax[0].legend()\n",
        "ax[1].plot(signalB, '-o', label='signalB', markersize=3)\n",
        "ax[1].axhline(0, color='gray')\n",
        "ax[1].set_xlabel('t')\n",
        "ax[1].set_xlim(0, 80)\n",
        "ax[1].set_ylim(-2**15, 2**15)\n",
        "ax[1].legend()\n",
        "plt.tight_layout()\n",
        "plt.show()"
      ],
      "metadata": {
        "id": "11w2UXGt_Fdw"
      },
      "execution_count": null,
      "outputs": []
    },
    {
      "cell_type": "markdown",
      "source": [
        "#### 解析する"
      ],
      "metadata": {
        "id": "q_cURTDxHk2t"
      }
    },
    {
      "cell_type": "markdown",
      "source": [
        "##### 問題4\n",
        "\n",
        "`signalA` と `signalB` の周期/周波数を調べましょう．\n",
        "\n",
        "次のセルを実行すると，それぞれの自己相関 $\\textrm{Corr}[x_t, x_{t-k}]$ を求めてプロットすることができる．横軸はラグ $k$ を表す．それにもとづいて次の問に答えなさい．\n",
        "\n",
        "(1) `signalA` と `signalB` のそれぞれについて，$k > 0$ で自己相関の値がピークとなる $k$ の最小値はいくつか答えなさい．\n",
        "\n",
        "(2) これらの信号は，標本化間隔 1/8000 [s] で標本化して得られた時系列である．したがって，ラグの大きさ 1 は 1/8000 [s] に相当する．(1) の結果から推定される `signalA` と `signalB` の周期を [s] の単位で答えなさい．さらに，周波数を [Hz] の単位で答えなさい．\n",
        "\n",
        "\n",
        "\n"
      ],
      "metadata": {
        "id": "gXXKcqAJN8OX"
      }
    },
    {
      "cell_type": "code",
      "source": [
        "fig, ax = plt.subplots(2, 1, figsize=(8, 6))\n",
        "tsaplots.plot_acf(signalA, ax=ax[0], title='Autocorrelation of signalA')\n",
        "ax[0].set_ylim(-1.1, 1.1)\n",
        "tsaplots.plot_acf(signalB, ax=ax[1], title='Autocorrelation of signalB')\n",
        "ax[1].set_ylim(-1.1, 1.1)\n",
        "plt.tight_layout()\n",
        "plt.show()"
      ],
      "metadata": {
        "id": "1lB2MQ0TB_KP"
      },
      "execution_count": null,
      "outputs": []
    },
    {
      "cell_type": "code",
      "source": [
        "# このセルを実行すると，上記の問に対する解答例が表示されます\n",
        "Q = b'CigxKSBgc2lnbmFsQWAg44Gn44GvIDIwLCBgc2lnbmFsQmAg44Gn44GvIDMyCgooMikgYHNpZ25hbEFgIOOBruWRqOacn+OBryAkXGZyYWN7MjB9ezgwMDB9ID0gXGZyYWN7MX17NDAwfSQgW3Nd77yM5ZGo5rOi5pWw44GvICQ0MDAkIFtIel3vvI4KYHNpZ25hbEJgIOOBruWRqOacn+OBryAkXGZyYWN7MzJ9ezgwMDB9ID0gXGZyYWN7MX17MjUwfSQgW3Nd77yM5ZGo5rOi5pWw44GvICQyNTAkIFtIel3vvI4KCumfs+OCkuiBnuOBhOOBn+e1kOaenOOBqOWQiOOCj+OBm+OCi+OBqO+8jOWRqOazouaVsOOBruWkp+OBjeOBhOato+W8puazouOBruaWueOBjOmrmOOBhOmfs+OBq+iBnuOBk+OBiO+8jOaMr+W5heOBruWkp+OBjeOBhOato+W8puazouOBruaWueOBjOWkp+OBjeOBhOmfs+OBq+iBnuOBk+OBiOOCi+OBk+OBqOOBjOWIhuOBi+OCiuOBvuOBme+8jgo='\n",
        "display(Markdown(base64.b64decode(Q).decode('utf-8')))"
      ],
      "metadata": {
        "id": "dhrSfpYGpphD"
      },
      "execution_count": null,
      "outputs": []
    },
    {
      "cell_type": "markdown",
      "source": [
        "---\n",
        "### ギター音の解析\n",
        "\n",
        "ギターの音を録音したデータを解析しよう．\n"
      ],
      "metadata": {
        "id": "T8mhbM5HSHFz"
      }
    },
    {
      "cell_type": "markdown",
      "source": [
        "#### 楽器が出す音の性質と音の高さの知覚"
      ],
      "metadata": {
        "id": "0ssN6wo5f-bP"
      }
    },
    {
      "cell_type": "markdown",
      "source": [
        "ギターのような弦楽器では，両端が固定された弦が振動しそれが空気を振動させることで音が生み出されます（指で弦を押さえることで固定される位置が変わったりもしますね）．このとき，弦の振動は，下図に示すようなパターンを示します．左は両端が固定された弦の振動としては最も波長が長いもの，真ん中は波長がその $\\frac{1}{2}$，右は波長 $\\frac{1}{3}$ の振動を表しています．これら以外に波長 $\\frac{1}{4}, \\frac{1}{5}, \\ldots$ の振動も現れます．\n",
        "実際の弦の振動はこれらを合成したものとなりますので，そこから生まれる空気の振動もまた，ある波長の波と，その $\\frac{1}{自然数}$ 倍の波長の波が混ざったものとなります．\n",
        "したがって，弦楽器から生み出される音には，最も波長の長い振動に対応した最も低い周波数（これを基本周波数といいます）の成分と，その自然数倍の周波数の成分（倍音）が含まれます．ちなみに，管楽器の場合は少し様子が異なりますが，その音はやはり基本周波数の成分とその倍音から成ります．"
      ],
      "metadata": {
        "id": "ZyTnOL0Es-MM"
      }
    },
    {
      "cell_type": "code",
      "source": [
        "fig, ax = plt.subplots(1, 3, figsize=(8, 3))\n",
        "\n",
        "t = np.linspace(0, np.pi, num=100)\n",
        "\n",
        "# 基本波長\n",
        "ax[0].plot(t, np.sin(t), '-', color='red')\n",
        "ax[0].set_ylim(-1.5, 1.5)\n",
        "ax[0].plot(t, -np.sin(t), '--', color='red')\n",
        "ax[0].axhline(0, color='gray')\n",
        "ax[0].xaxis.set_visible(False)\n",
        "ax[0].yaxis.set_visible(False)\n",
        "\n",
        "# 波長 1/2 = 周波数 2 倍\n",
        "ax[1].plot(t, np.sin(2*t), '-', color='red')\n",
        "ax[1].set_ylim(-1.5, 1.5)\n",
        "ax[1].plot(t, -np.sin(2*t), '--', color='red')\n",
        "ax[1].axhline(0, color='gray')\n",
        "ax[1].xaxis.set_visible(False)\n",
        "ax[1].yaxis.set_visible(False)\n",
        "\n",
        "# 波長 1/3 = 周波数 3 倍\n",
        "ax[2].plot(t, np.sin(3*t), '-', color='red')\n",
        "ax[2].set_ylim(-1.5, 1.5)\n",
        "ax[2].plot(t, -np.sin(3*t), '--', color='red')\n",
        "ax[2].axhline(0, color='gray')\n",
        "ax[2].xaxis.set_visible(False)\n",
        "ax[2].yaxis.set_visible(False)\n",
        "\n",
        "fig.tight_layout()\n",
        "plt.show()"
      ],
      "metadata": {
        "id": "ydLjq_wbDLcl"
      },
      "execution_count": null,
      "outputs": []
    },
    {
      "cell_type": "markdown",
      "source": [
        "一方，人間の聴覚系が知覚する音の高さは基本周波数と強く関連しており，基本的には，基本周波数の高い音ほど高い音に聞こえます．楽器や演奏の仕方が異なると，同じ音の高さでも音色が異なって聞こえますが，これは，基本周波数が同じで，倍音成分の含まれ方が異なるためです．基本周波数の成分がほとんど含まれず周波数2倍以上の倍音成分しか含まれないような音でも，基本周波数に対応した高さの音として知覚されます．"
      ],
      "metadata": {
        "id": "ddbFrVuRJzuO"
      }
    },
    {
      "cell_type": "markdown",
      "source": [
        "#### データの準備"
      ],
      "metadata": {
        "id": "OQ_QlTP7SVMN"
      }
    },
    {
      "cell_type": "markdown",
      "source": [
        "ネットから WAVE 形式のファイルを入手して使うので，WAVE形式のファイルを読み込む関数を定義しておきます．"
      ],
      "metadata": {
        "id": "SxS0wttR-PXe"
      }
    },
    {
      "cell_type": "code",
      "source": [
        "# WAVE ファイルを読み込む関数\n",
        "#\n",
        "def readWAVE(filename):\n",
        "\n",
        "    framerate, data = read(filename)\n",
        "\n",
        "    if data.ndim == 1:\n",
        "        nchannels = 1\n",
        "    else:\n",
        "        nchannels = data.shape[1]\n",
        "    nframes = data.shape[0]\n",
        "\n",
        "    print('filename = ', filename)\n",
        "    print('nchannels = ', nchannels)       # チャンネル数\n",
        "    print('framerate = ', framerate)       # 標本化周波数\n",
        "    print('nframes = ', nframes)             # フレーム数\n",
        "    print('duration = {0:.2f}[sec]'.format(nframes / framerate))   # 長さ（秒単位）\n",
        "    print('dtype = ', data.dtype)            # データ型（量子化ビット数に対応）\n",
        "\n",
        "    assert data.dtype == 'uint8' or data.dtype == 'int16' or data.dtype == 'int32' or data.dtype == 'float32'\n",
        "\n",
        "    # 最初の10秒分だけ取り出す（元がそれより短ければそのまま）\n",
        "    nframesNew = min(framerate * 10, nframes)\n",
        "    if nchannels == 1:\n",
        "        dataNew = data[:nframesNew]\n",
        "    else:\n",
        "        # 多チャンネル信号なら0番目と1番目の平均値を取り出す\n",
        "        if data.dtype == 'float32':  # 浮動小数点数のときは [0, 1] の値なので普通に足して2で割る\n",
        "            dataNew = (data[:nframesNew, 0] + data[:nframesNew, 1])/2\n",
        "        else: # 整数型のときはオーバーフローする可能性があるので，いったん64bit整数にしてから\n",
        "            data64 = (data[:nframesNew, 0].astype(np.int64) + data[:nframesNew, 1].astype(np.int64))//2\n",
        "            dataNew = data64.astype(data.dtype)\n",
        "\n",
        "    return framerate, dataNew"
      ],
      "metadata": {
        "id": "DK5GJ-9w-PXn"
      },
      "execution_count": null,
      "outputs": []
    },
    {
      "cell_type": "markdown",
      "source": [
        "WAVE ファイルを入手します．"
      ],
      "metadata": {
        "id": "KRxdkDYviEKj"
      }
    },
    {
      "cell_type": "code",
      "source": [
        "# WAVE ファイルを入手\n",
        "#\n",
        "! wget -nc https://www-tlab.math.ryukoku.ac.jp/~takataka/course/MVA/Sound-Guitar1-C.wav\n",
        "! wget -nc https://www-tlab.math.ryukoku.ac.jp/~takataka/course/MVA/Sound-Guitar2-E.wav\n",
        "! wget -nc https://www-tlab.math.ryukoku.ac.jp/~takataka/course/MVA/Sound-Guitar3-G.wav\n",
        "! wget -nc https://www-tlab.math.ryukoku.ac.jp/~takataka/course/MVA/Sound-Guitar4-ChordC.wav\n",
        "fnList = ['Sound-Guitar1-C.wav', 'Sound-Guitar2-E.wav', 'Sound-Guitar3-G.wav', 'Sound-Guitar4-ChordC.wav']\n",
        "\n",
        "import os\n",
        "\n",
        "for fn in fnList:\n",
        "    if not os.path.exists(fn):\n",
        "        print(f'{fn}のダウンロードがうまくできていないようです')"
      ],
      "metadata": {
        "id": "b1bEiScviEKj"
      },
      "execution_count": null,
      "outputs": []
    },
    {
      "cell_type": "markdown",
      "source": [
        "4つのWAVEファイルをダウンロードして聞いてみましょう．\n",
        "音感の優れたひとは聞いただけで何の音かわかるでしょうが，わからないふりをして先へ進みましょう．\n",
        "ちなみに，これらの音は，本物のギターを鳴らして録音したものではなく，コンピュータで作り出した音です．ギターの音っぽい倍音成分のパターンを知っていれば，それっぽい波形を合成できる，というわけです．"
      ],
      "metadata": {
        "id": "BM3EvovITSIT"
      }
    },
    {
      "cell_type": "code",
      "source": [
        "from google.colab import files\n",
        "\n",
        "if 1 == 0: # ← の 0 を 1 に修正\n",
        "    for fn in fnList:\n",
        "        files.download(fn)"
      ],
      "metadata": {
        "id": "dl05phvIRlzv"
      },
      "execution_count": null,
      "outputs": []
    },
    {
      "cell_type": "markdown",
      "source": [
        "4つのWAVEファイルのデータを読み込んで，np.array のリストに格納します．`guitar[0]`, `guitar[1]`, `guitar[2]`, `guitar[3]` のそれぞれが音のデータを格納した1次元配列です．"
      ],
      "metadata": {
        "id": "oVMNVqMrV0rb"
      }
    },
    {
      "cell_type": "code",
      "source": [
        "guitar = []\n",
        "\n",
        "for i, fn in enumerate(fnList):\n",
        "    print(f'##### guitar[{i}] #####')\n",
        "    fr, dat = readWAVE(fn)\n",
        "    dat = dat.astype(float)\n",
        "    dat -= np.mean(dat)\n",
        "    guitar.append(dat)\n",
        "    if i == 0:\n",
        "        N_guitar = len(dat)\n",
        "        framerate = fr\n",
        "    else:\n",
        "        assert len(dat) == N_guitar and fr == framerate\n",
        "    print()"
      ],
      "metadata": {
        "id": "xvGpGlLvZmeR"
      },
      "execution_count": null,
      "outputs": []
    },
    {
      "cell_type": "markdown",
      "source": [
        "それぞれの音の信号の波形を眺めてみましょう．"
      ],
      "metadata": {
        "id": "Xq5Cwryomi2x"
      }
    },
    {
      "cell_type": "code",
      "source": [
        "fig, ax = plt.subplots(4, 2, figsize=(16, 10))\n",
        "\n",
        "t = np.linspace(0, N_guitar/framerate, num=N_guitar, endpoint=False)\n",
        "\n",
        "for i in range(len(guitar)):\n",
        "    ax[i, 0].plot(t, guitar[i], label=f'guitar[{i}]')\n",
        "    ax[i, 0].set_ylim(-150, 150)\n",
        "    ax[i, 0].legend()\n",
        "    ax[i, 1].plot(t, guitar[i], 'o', markersize=3, label=f'guitar[{i}]')\n",
        "    ax[i, 1].axhline(0, color='gray')\n",
        "    ax[i, 1].set_xlim(0.3, 0.305)\n",
        "    ax[i, 1].set_ylim(-150, 150)\n",
        "    ax[i, 1].legend()\n",
        "\n",
        "fig.tight_layout()\n",
        "plt.show()"
      ],
      "metadata": {
        "id": "9WVeLDsLAens"
      },
      "execution_count": null,
      "outputs": []
    },
    {
      "cell_type": "markdown",
      "source": [
        "それぞれの図は，横軸を時間（単位は[s]（秒））として音の信号の波形を描いたものです．4つとも2秒強の音です．右の図は，時刻 $0.3$[s] から $0.305[s]$ までの $0.005$ [s] 間のデータ点をプロットしたものです．\n",
        "これらを見ただけでは，どれがどんな音なのかまるで想像がつきません．\n"
      ],
      "metadata": {
        "id": "uti6wL5BmpXb"
      }
    },
    {
      "cell_type": "markdown",
      "source": [
        "#### 自己相関から周期を推定する"
      ],
      "metadata": {
        "id": "nCzDdOgrUQt4"
      }
    },
    {
      "cell_type": "markdown",
      "source": [
        "次のコードセルを実行すると，`guitar[0]`, `guitar[1]`, `guitar[2]` に格納された時系列の自己相関を求めてグラフに描きます．"
      ],
      "metadata": {
        "id": "Yn8wgkwdVXvd"
      }
    },
    {
      "cell_type": "code",
      "source": [
        "fig, ax = plt.subplots(3, 1, figsize=(8, 8))\n",
        "for i in range(3):\n",
        "    tsaplots.plot_acf(guitar[i], ax=ax[i], title=f'Autocorrelation of guitar[{i}]')\n",
        "    ax[i].set_ylim(-1.1, 1.1)\n",
        "plt.tight_layout()\n",
        "plt.show()"
      ],
      "metadata": {
        "id": "-QL4LNEdUZr1"
      },
      "execution_count": null,
      "outputs": []
    },
    {
      "cell_type": "markdown",
      "source": [
        "#### 問題5\n",
        "\n",
        "\n",
        "(1) 自己相関におけるラグを $k$ で表すとする．`guitar[0]`, `guitar[1]`, `guitar[2]` のそれぞれについて，$k > 0$ で自己相関の値がピークとなる $k$ の最小値はいくつか答えなさい．\n",
        "\n",
        "(2) ここで用いているデータは全て標本化周波数 8000 [Hz] （標本化間隔 1/8000 [s]）で標本化されたものである．(1)で求めた値から，それぞれのラグの値が周波数で何[Hz]に相当するか答えなさい．\n",
        "\n",
        "(3) (2) で求めた周波数がそれぞれの音の基本周波数だとすると，3つの音はそれぞれ何の音か．下記の表を参考に答えなさい（注）．\n",
        "\n",
        "|基本周波数[Hz]|音名|ハ長調での...|\n",
        "|---:|:---:|:---:|\n",
        "|261.6|C4|ド|\n",
        "|293.7|D4|レ|\n",
        "|329.6|E4|ミ|\n",
        "|349.2|F4|ファ|\n",
        "|392.0|G4|ソ|\n",
        "|440|A4|ラ|\n",
        "|493.9|B4|シ|\n",
        "\n",
        "<span style=\"font-size: 75%\">\n",
        "※注: ここでは，A4 の基本周波数を 440[Hz]として十二平均律を用いたときの1オクターブの範囲の音の基本周波数の値を示しています．\n",
        "</span>\n",
        "\n"
      ],
      "metadata": {
        "id": "WkblVB68S4tv"
      }
    },
    {
      "cell_type": "markdown",
      "source": [
        "ここでは説明しませんが，「フーリエ級数展開」や「フーリエ変換」の離散バージョンである「離散フーリエ変換」を用いると，もっといろいろな分析ができます．音を加工したりすることもできます．"
      ],
      "metadata": {
        "id": "CLCOkxHOss6A"
      }
    },
    {
      "cell_type": "code",
      "source": [],
      "metadata": {
        "id": "m_UTeZFFVWrC"
      },
      "execution_count": null,
      "outputs": []
    }
  ]
}