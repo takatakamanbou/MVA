{
  "nbformat": 4,
  "nbformat_minor": 0,
  "metadata": {
    "colab": {
      "provenance": [],
      "toc_visible": true,
      "authorship_tag": "ABX9TyO3f8Fu4tEuQzBTHpt/HR4b",
      "include_colab_link": true
    },
    "kernelspec": {
      "name": "python3",
      "display_name": "Python 3"
    },
    "language_info": {
      "name": "python"
    }
  },
  "cells": [
    {
      "cell_type": "markdown",
      "metadata": {
        "id": "view-in-github",
        "colab_type": "text"
      },
      "source": [
        "<a href=\"https://colab.research.google.com/github/takatakamanbou/MVA/blob/main/MVA2024_ex05notebookC.ipynb\" target=\"_parent\"><img src=\"https://colab.research.google.com/assets/colab-badge.svg\" alt=\"Open In Colab\"/></a>"
      ]
    },
    {
      "cell_type": "markdown",
      "source": [
        "# MVA2024 ex05notebookC\n",
        "\n",
        "<img width=64 src=\"https://www-tlab.math.ryukoku.ac.jp/~takataka/course/MVA/MVA-logo.png\"> https://www-tlab.math.ryukoku.ac.jp/wiki/?MVA/2024"
      ],
      "metadata": {
        "id": "P4preLw7SzqH"
      }
    },
    {
      "cell_type": "markdown",
      "source": [
        "----\n",
        "## 次回に備えて実験しよう\n",
        "----"
      ],
      "metadata": {
        "id": "Kjddq7j6S48o"
      }
    },
    {
      "cell_type": "markdown",
      "source": [
        "次回扱うデータ分析手法について，事前に少しだけ学んでおきましょう．"
      ],
      "metadata": {
        "id": "6hC37GBVgm38"
      }
    },
    {
      "cell_type": "code",
      "source": [
        "import pandas as pd\n",
        "import numpy as np\n",
        "import matplotlib.pyplot as plt\n",
        "import seaborn\n",
        "seaborn.set()"
      ],
      "metadata": {
        "id": "VzUhJWKfva1m"
      },
      "execution_count": null,
      "outputs": []
    },
    {
      "cell_type": "markdown",
      "source": [
        "$N$ 個の $D$ 次元列ベクトル $\\pmb{x}_1, \\pmb{x}_2, \\ldots, \\pmb{x}_N$ に対して，$D$ 次元列ベクトル $\\pmb{a}$ を定めると，\n",
        "\n",
        "$$\n",
        "y_n = \\pmb{a}^{\\top}\\pmb{x}_n \\quad (n = 1, 2, \\ldots, N)\n",
        "$$\n",
        "\n",
        "という計算によって，$D$ 次元ベクトルたちをそれぞれ実数値に変換することができます（notebookAの「「行列」＝「ベクトルを並べたもの」」および「直交変換と直交行列」で解説していることです）．\n",
        "\n"
      ],
      "metadata": {
        "id": "wHosh6KChYVF"
      }
    },
    {
      "cell_type": "markdown",
      "source": [
        "ここでは，$D = 2$ の場合について，実際のデータをこのように変換する実験を行ってみましょう．\n",
        "\n"
      ],
      "metadata": {
        "id": "ANc1NeUNl6ZZ"
      }
    },
    {
      "cell_type": "code",
      "source": [
        "# データを読み込む\n",
        "dfRawData = pd.read_csv('https://www-tlab.math.ryukoku.ac.jp/~takataka/course/MVA/HighSchoolPhysicalFitnessMeasurement.csv')\n",
        "dfData = dfRawData[['身長[cm]', '体重[kg]']]\n",
        "dfData -= dfData.mean() # 平均を差し引く => 平均が (0, 0) になる\n",
        "dfData"
      ],
      "metadata": {
        "id": "6s52o123nU10"
      },
      "execution_count": null,
      "outputs": []
    },
    {
      "cell_type": "code",
      "source": [
        "# X という numpy.array に格納する．0列目が身長，1列目が体重\n",
        "X = dfData.to_numpy()\n",
        "print(X)\n",
        "print(X.shape)"
      ],
      "metadata": {
        "id": "YU6ZCgp_nemp"
      },
      "execution_count": null,
      "outputs": []
    },
    {
      "cell_type": "markdown",
      "source": [
        "それでは，`X` に格納された2次元データたちを，2次元ベクトル $\\pmb{a}$ で変換する実験を行いましょう．ただし，$\\|\\pmb{a}\\| = 1$ の場合に限定して考えます（そうする理由は次回分かります）．この条件のもとでは，任意のベクトル $\\pmb{a}$ を\n",
        "\n",
        "$$\n",
        "\\pmb{a} = \\begin{pmatrix}\n",
        "\\cos\\theta \\\\\n",
        "\\sin\\theta\n",
        "\\end{pmatrix} \\quad ( 0 \\leq \\theta < 2\\pi)\n",
        "$$\n",
        "\n",
        "と表せます．\n",
        "次のコードセルの `n:` と書かれた箱に数を入力して実行すると，その数を $n$ として $\\theta = \\frac{n}{8}\\pi$ のときの $\\pmb{a}$ を求め，次のことを行います．\n",
        "\n",
        "1. $\\pmb{x}_n$ の散布図を描き，そこに $\\pmb{a}$ の向きが分かるような半直線を描く（左図）．\n",
        "1. $y_n = \\pmb{a}^{\\top}\\pmb{x}_n$ を求めて，そのヒストグラムを描く．$y_n$ の分散も求める（右図）．\n",
        "\n",
        "なお，$\\pi \\leq \\theta < 2\\pi$ のときは，$\\pmb{a} = \\begin{pmatrix}\n",
        "-\\cos (\\pi-\\theta) \\\\\n",
        "-\\sin (\\pi -\\theta)\n",
        "\\end{pmatrix} = - \\begin{pmatrix}\n",
        "\\cos (\\pi-\\theta) \\\\\n",
        "\\sin (\\pi -\\theta)\n",
        "\\end{pmatrix}$ と表せるので，$\\pi - \\theta$ のときの $y_n$ の符号を反転させた結果が得られるだけです．そのため，次のセルの実験では，$0 \\leq \\theta < \\pi$ の範囲のみを考えればokです．"
      ],
      "metadata": {
        "id": "pYXEBugFmWKb"
      }
    },
    {
      "cell_type": "markdown",
      "source": [],
      "metadata": {
        "id": "K5FlRD9tINeG"
      }
    },
    {
      "cell_type": "code",
      "source": [
        "# @title 実験\n",
        "n = 0 # @param {type:\"number\"}\n",
        "\n",
        "theta = n*np.pi/8\n",
        "a = np.array([np.cos(theta), np.sin(theta)])\n",
        "print(f'theta = {theta:.3f}, a = ({a[0]:.3f}, {a[1]:.3f})')\n",
        "\n",
        "# X を構成する2次元ベクトルたちを a でひとつの数値に変換\n",
        "y = X @ a\n",
        "\n",
        "# y の分散\n",
        "s2 = np.var(y)\n",
        "\n",
        "# 図\n",
        "fig, ax = plt.subplots(1, 2, figsize=(8, 4))\n",
        "xmin, xmax = -50, 50\n",
        "ymin, ymax = -50, 50\n",
        "\n",
        "# 散布図\n",
        "ax[0].scatter(X[:, 0], X[:, 1], marker='.')\n",
        "ax[0].set_xlim(xmin, xmax)\n",
        "ax[0].set_ylim(ymin, ymax)\n",
        "ax[0].axhline(0, color='gray')\n",
        "ax[0].axvline(0, color='gray')\n",
        "ax[0].set_xlabel(r'$x_1$')\n",
        "ax[0].set_ylabel(r'$x_2$')\n",
        "ax[0].set_aspect('equal')\n",
        "ax[0].plot([0, 2*xmax*a[0]], [0, 2*xmax*a[1]], color='orange', linewidth=3, label='a')\n",
        "ax[0].legend()\n",
        "\n",
        "# ヒストグラム\n",
        "ax[1].hist(y, bins=20, label=f'var(y) = {s2:.1f}')\n",
        "ax[1].set_xlim(xmin, xmax)\n",
        "ax[1].set_xlabel(r'$y$')\n",
        "ax[1].legend()\n",
        "\n",
        "fig.tight_layout()\n",
        "plt.show()"
      ],
      "metadata": {
        "id": "7srXGQiZnvhP"
      },
      "execution_count": null,
      "outputs": []
    },
    {
      "cell_type": "markdown",
      "source": [
        "#### 問題1\n",
        "\n",
        "$0 \\leq \\theta < \\pi$ となる範囲で整数 `n` をいろいろ変えて上のコードセルを実行し，次のことを行いなさい．\n",
        "\n",
        "(1) notebookAの「「行列」＝「ベクトルを並べたもの」」および「直交変換と直交行列」の内容をふまえて結果を観察し，何が起こっているのか理解する．\n",
        "\n",
        "(2) 上記の条件で `n` を変えたときに $y_n$ の分散が最大となる $\\theta$ を求める．\n",
        "\n"
      ],
      "metadata": {
        "id": "KInu87u6wjl7"
      }
    },
    {
      "cell_type": "markdown",
      "source": [
        "#### 問題2\n",
        "\n",
        "$\\pmb{a} = \\begin{pmatrix}\n",
        "a_1 \\\\ a_2\n",
        "\\end{pmatrix},\n",
        "\\pmb{x} = \\begin{pmatrix}\n",
        "x_1 \\\\ x_2\n",
        "\\end{pmatrix}$ とおき，$y = \\pmb{a}^{\\top}\\pmb{x}$ とすると，$y = \\pmb{a}\\cdot\\pmb{x} = a_1x_1 + a_2x_2$ です．ここで扱っているデータの場合，$x_1, x_2$ は身長および体重の値からそれぞれの平均を引いたものですので，\n",
        "\n",
        "$$\n",
        "y = a_1(\\mbox{そのひとの身長の値} - \\mbox{身長の平均}) + a_2 (\\mbox{そのひとの体重の値} - \\mbox{体重の平均})\n",
        "$$\n",
        "\n",
        "であるといえます．これをふまえて，上のセルを実行して表示される $\\pmb{a}$ の値や散布図を見ながら，次の問に答えなさい．\n",
        "\n",
        "(1) 「身長体重とも平均より大きいひと」，「どちらも平均より小さいひと」，「身長が平均より大きく体重が平均より小さいひと」，「身長が平均より小さく体重が平均より大きいひと」の点は，それぞれ散布図のどの領域に分布するか．\n",
        "\n",
        "(2) $\\theta = \\frac{\\pi}{4}$ のとき，「身長体重とも平均より大きいひと」と，「どちらも平均より小さいひと」では，どちらの方が $y$ の値が大きくなるか．\n",
        "\n",
        "(3) $\\theta = \\frac{3}{4}\\pi$ のとき，「身長が平均より大きく体重が平均より小さいひと」と，「身長が平均より小さく体重が平均より大きいひと」では，どちらの方が $y$ の値が大きくなるか．"
      ],
      "metadata": {
        "id": "enekdatWxWtz"
      }
    },
    {
      "cell_type": "code",
      "source": [],
      "metadata": {
        "id": "J20KeSOJr4hC"
      },
      "execution_count": null,
      "outputs": []
    }
  ]
}