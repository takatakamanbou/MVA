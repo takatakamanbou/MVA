{
  "nbformat": 4,
  "nbformat_minor": 0,
  "metadata": {
    "colab": {
      "provenance": [],
      "toc_visible": true,
      "authorship_tag": "ABX9TyMToWbbbm8p1mHIb1R/FMQr",
      "include_colab_link": true
    },
    "kernelspec": {
      "name": "python3",
      "display_name": "Python 3"
    },
    "language_info": {
      "name": "python"
    }
  },
  "cells": [
    {
      "cell_type": "markdown",
      "metadata": {
        "id": "view-in-github",
        "colab_type": "text"
      },
      "source": [
        "<a href=\"https://colab.research.google.com/github/takatakamanbou/MVA/blob/2023/ex05notebookC.ipynb\" target=\"_parent\"><img src=\"https://colab.research.google.com/assets/colab-badge.svg\" alt=\"Open In Colab\"/></a>"
      ]
    },
    {
      "cell_type": "markdown",
      "source": [
        "# MVA2023 ex05notebookC\n",
        "\n",
        "<img width=64 src=\"https://www-tlab.math.ryukoku.ac.jp/~takataka/course/MVA/MVA-logo.png\"> https://www-tlab.math.ryukoku.ac.jp/wiki/?MVA/2023"
      ],
      "metadata": {
        "id": "P4preLw7SzqH"
      }
    },
    {
      "cell_type": "markdown",
      "source": [
        "----\n",
        "## 演習課題\n",
        "\n"
      ],
      "metadata": {
        "id": "zDtnBWKha6vx"
      }
    },
    {
      "cell_type": "markdown",
      "metadata": {
        "id": "jZSlqKGs-qQ3"
      },
      "source": [
        "### 問題0\n",
        "\n",
        "問題1以降のために必要な `import` 文を以下のセルに書いておこう．\n"
      ]
    },
    {
      "cell_type": "code",
      "metadata": {
        "id": "I226xIKJbqtM"
      },
      "source": [
        "# 必要なパッケージのインポート\n",
        "\n"
      ],
      "execution_count": null,
      "outputs": []
    },
    {
      "cell_type": "markdown",
      "source": [
        "### 問題1"
      ],
      "metadata": {
        "id": "4xT-TsZvTGhu"
      }
    },
    {
      "cell_type": "code",
      "source": [
        "# 数物情\n",
        "dfMPI = pd.read_csv('https://www-tlab.math.ryukoku.ac.jp/~takataka/course/MVA/mpiS100.csv')\n",
        "dfMPI.head(5)"
      ],
      "metadata": {
        "id": "XyXkTG3K-4Ae"
      },
      "execution_count": null,
      "outputs": []
    },
    {
      "cell_type": "code",
      "source": [
        "Xorg = dfMPI.drop(columns='学籍番号').to_numpy()\n",
        "print(Xorg.shape)"
      ],
      "metadata": {
        "id": "PpwlnG3lSkel"
      },
      "execution_count": null,
      "outputs": []
    },
    {
      "cell_type": "markdown",
      "source": [
        "上記の2つのコードセルを実行すると，`Xorg` に数学・物理・情報という3科目の点数のデータが入ります．\n",
        "次のセルに，`Xorg` の行数を `N` という変数に，列数を `D` という変数に代入するコードを書きなさい．また，`N` と `D` の値を表示してメモしておきなさい．\n",
        "読み込むデータの次元数やデータ数が変化したら `N` や `D` に代入される数が自動的に変化するようにすること．"
      ],
      "metadata": {
        "id": "WWJPghfN_je0"
      }
    },
    {
      "cell_type": "code",
      "source": [
        "\n"
      ],
      "metadata": {
        "id": "uoOS7Lf5_io3"
      },
      "execution_count": null,
      "outputs": []
    },
    {
      "cell_type": "markdown",
      "source": [
        "### 問題2"
      ],
      "metadata": {
        "id": "H3Epi4h2AeXT"
      }
    },
    {
      "cell_type": "markdown",
      "source": [
        "次のセルに `Xorg` に格納されたデータの平均，分散共分散行列，分散共分散行列の固有値と固有ベクトルを求めるコードを書きなさい．ただし，それぞれの値を print してメモしておくこと．"
      ],
      "metadata": {
        "id": "gqTz8FPsSbj0"
      }
    },
    {
      "cell_type": "code",
      "source": [
        "\n"
      ],
      "metadata": {
        "id": "zB-wSpoWMM6S"
      },
      "execution_count": null,
      "outputs": []
    },
    {
      "cell_type": "markdown",
      "source": [
        "### 問題3"
      ],
      "metadata": {
        "id": "cijJwDlaDMg4"
      }
    },
    {
      "cell_type": "markdown",
      "source": [
        "次のセルに，主成分分析を利用して問題1で読み込んだデータを2次元にする次元削減の変換を行うコードを書きなさい．ただし，\n",
        "- 問題1と問題2の結果を利用すること\n",
        "- notebookA や notebookB の説明で $W$ という記号で表されている $2\\times D$ 行列を `W` という変数で表すようにすること\n",
        "- 変換して得られる主成分スコアを `Y` という変数に格納し，その値を print すること\n",
        "- 最初の二人分の主成分スコアをメモしておくこと\n",
        "\n"
      ],
      "metadata": {
        "id": "HqsYd57-TWiH"
      }
    },
    {
      "cell_type": "code",
      "source": [
        "\n"
      ],
      "metadata": {
        "id": "8ZYxuGbZS-e3"
      },
      "execution_count": null,
      "outputs": []
    }
  ]
}