{
  "nbformat": 4,
  "nbformat_minor": 0,
  "metadata": {
    "colab": {
      "provenance": [],
      "collapsed_sections": [],
      "toc_visible": true,
      "authorship_tag": "ABX9TyMbWbrma4ICPXwMtRnX3p+i",
      "include_colab_link": true
    },
    "kernelspec": {
      "name": "python3",
      "display_name": "Python 3"
    },
    "language_info": {
      "name": "python"
    }
  },
  "cells": [
    {
      "cell_type": "markdown",
      "metadata": {
        "id": "view-in-github",
        "colab_type": "text"
      },
      "source": [
        "<a href=\"https://colab.research.google.com/github/takatakamanbou/MVA/blob/2022/ex03notebookB.ipynb\" target=\"_parent\"><img src=\"https://colab.research.google.com/assets/colab-badge.svg\" alt=\"Open In Colab\"/></a>"
      ]
    },
    {
      "cell_type": "markdown",
      "source": [
        "# MVA2022 ex03notebookB\n",
        "\n",
        "<img width=64 src=\"https://www-tlab.math.ryukoku.ac.jp/~takataka/course/MVA/MVA-logo.png\"> https://www-tlab.math.ryukoku.ac.jp/wiki/?MVA/2022"
      ],
      "metadata": {
        "id": "P4preLw7SzqH"
      }
    },
    {
      "cell_type": "markdown",
      "source": [
        "----\n",
        "## 演習課題\n",
        "\n"
      ],
      "metadata": {
        "id": "zDtnBWKha6vx"
      }
    },
    {
      "cell_type": "markdown",
      "metadata": {
        "id": "weuyu8H6bqtL"
      },
      "source": [
        "### 問題0\n",
        "\n",
        "問題1以降のために必要な `import` 文を以下のセルに書いておこう．\n"
      ]
    },
    {
      "cell_type": "code",
      "metadata": {
        "id": "I226xIKJbqtM"
      },
      "source": [
        "# 必要なパッケージのインポート\n"
      ],
      "execution_count": null,
      "outputs": []
    },
    {
      "cell_type": "markdown",
      "source": [
        "### 問題1\n",
        "\n",
        "次のセルを実行すると，notebookA で使っていたのと同じデータを読み込んで変数 `X` と `Y` に代入してくれます（変数のならび順の違いに注意）．\n",
        "実行して結果を観察し，次のことをやりなさい：\n",
        "- notebookA の解説で使っている記号を使うと，このデータの場合の $N$ と $D$ はそれぞれいくつか考え，メモしておきなさい\n",
        "- `X.shape` と `Y.shape` の値を print する行を追加して，それぞれの値をメモしておきなさい．"
      ],
      "metadata": {
        "id": "bXPrFBHeogbD"
      }
    },
    {
      "cell_type": "code",
      "source": [
        "# pandas パッケージのインポート\n",
        "import pandas as pd\n",
        "\n",
        "# データの読み込み\n",
        "df = pd.read_csv('https://github.com/ghmagazine/python_stat_sample/raw/master/data/ch12_scores_reg.csv')\n",
        "X = df.loc[:, ['睡眠時間', '小テスト']].to_numpy()\n",
        "print(X)\n",
        "print()\n",
        "Y = df['期末テスト'].to_numpy()\n",
        "print(Y)"
      ],
      "metadata": {
        "id": "omDHUAcmQ8Xg"
      },
      "execution_count": null,
      "outputs": []
    },
    {
      "cell_type": "markdown",
      "source": [
        "### 問題2\n",
        "\n",
        "問題1で読み込んだデータに対して，最小二乗法で平面を当てはめてみよう．\n",
        "次のことをやりなさい．\n",
        "\n",
        "1. 以下のセルを実行すると回帰係数（平面を表す式のパラメータ）が print されるように，空行部分を埋めなさい．\n",
        "1. 得られた回帰係数が正しいことを，notebookA の値と比較して確認しなさい．\n",
        "変数の並び順に注意．\n",
        "1. `XtX` と `XtY` を print して，その値をメモしておきなさい．"
      ],
      "metadata": {
        "id": "P6T3k1MvSj71"
      }
    },
    {
      "cell_type": "code",
      "source": [
        "\n",
        "\n",
        "\n",
        "\n",
        "\n",
        "# ここから下の行は変更してはならない\n",
        "w = np.linalg.solve(XtX, XtY)\n",
        "print(f'w_0 = {w[0]:.3f},  w_1 = {w[1]:.3f},  w_2 = {w[2]:.3f}')"
      ],
      "metadata": {
        "id": "6q-s1DDBSjLW"
      },
      "execution_count": null,
      "outputs": []
    },
    {
      "cell_type": "markdown",
      "source": [
        "### 問題3\n",
        "\n",
        "`np.linalg.lstsq` を使って問題2と同じことをやろう．\n",
        "次のセルの1行目を修正して，問題2と同じ結果が得られるようにしなさい．"
      ],
      "metadata": {
        "id": "UhUsS5hPVGwo"
      }
    },
    {
      "cell_type": "code",
      "source": [
        "rv = np.linalg.lstsq(ほげほげ, rcond=None) # lstsq の引数を修正しよう\n",
        "# ここから下の行は変更してはならない\n",
        "w = rv[0]\n",
        "print(f'w_0 = {w[0]:.3f},  w_1 = {w[1]:.3f},  w_2 = {w[2]:.3f}')"
      ],
      "metadata": {
        "id": "z8E3cHpaVRJP"
      },
      "execution_count": null,
      "outputs": []
    },
    {
      "cell_type": "markdown",
      "source": [
        "### 問題4\n",
        "\n",
        "上記のデータから得られた回帰係数 $(w_0, w_1, w_2)$ を用いて，予測値を計算してみよう．"
      ],
      "metadata": {
        "id": "-0aAmjXtWTTg"
      }
    },
    {
      "cell_type": "markdown",
      "source": [
        "(1) 次のセルが何をやっているかを理解しなさい．"
      ],
      "metadata": {
        "id": "IksMPdYJYGdg"
      }
    },
    {
      "cell_type": "code",
      "source": [
        "XX = np.array([[1, 5, 8], [1, 8, 5]])\n",
        "YY = XX @ w\n",
        "print(YY)"
      ],
      "metadata": {
        "id": "fbEPHKGxXIgS"
      },
      "execution_count": null,
      "outputs": []
    },
    {
      "cell_type": "markdown",
      "source": [
        "(2) (1) をふまえて，次のセルに，与えられたデータ（配列`X`に入っていたデータ）に対する予測値を求めてそれらを配列 `Yp` に代入するコードを書きなさい．"
      ],
      "metadata": {
        "id": "j_0MX7m9YKlT"
      }
    },
    {
      "cell_type": "code",
      "source": [
        "\n",
        "# ここから下の行は変更してはならない\n",
        "print(Yp)"
      ],
      "metadata": {
        "id": "a6pBDK_JYAwA"
      },
      "execution_count": null,
      "outputs": []
    },
    {
      "cell_type": "markdown",
      "source": [
        "### 問題5\n",
        "\n",
        "決定係数を求めてみよう．"
      ],
      "metadata": {
        "id": "ym7QsKb5Yosq"
      }
    },
    {
      "cell_type": "markdown",
      "source": [
        "(1) 問題4までの結果を使って，\n",
        "$$\n",
        "\\sum_{n=1}^{N}(y_n - \\hat{y}_n)^2\n",
        "$$\n",
        "の値を求めて適当な名前の変数に代入するコードを書きなさい．\n",
        "この式の記号の意味は notebookA で説明している通りである．"
      ],
      "metadata": {
        "id": "wPErpWMmZIId"
      }
    },
    {
      "cell_type": "code",
      "source": [],
      "metadata": {
        "id": "HyKPUg88Yhsb"
      },
      "execution_count": null,
      "outputs": []
    },
    {
      "cell_type": "markdown",
      "source": [
        "(2) (1)と同様に，\n",
        "$$\n",
        "\\sum_{n=1}^{N}(y_n - \\bar{y})^2\n",
        "$$\n",
        "の値を求めて適当な名前の変数に代入するコードを書きなさい．\n"
      ],
      "metadata": {
        "id": "jdRObYETZdnU"
      }
    },
    {
      "cell_type": "code",
      "source": [],
      "metadata": {
        "id": "z4eYGdVxZry9"
      },
      "execution_count": null,
      "outputs": []
    },
    {
      "cell_type": "markdown",
      "source": [
        "(3) 決定係数の値を計算して print するコードを書きなさい．\n",
        "得られた決定係数の値をメモしておきなさい（小数第4位を四捨五入して第3位までにした値でよい）．"
      ],
      "metadata": {
        "id": "fYr_FC5SZ1Gx"
      }
    },
    {
      "cell_type": "code",
      "source": [],
      "metadata": {
        "id": "CjUhqdTuZyEB"
      },
      "execution_count": null,
      "outputs": []
    }
  ]
}