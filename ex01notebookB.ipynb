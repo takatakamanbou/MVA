{
  "nbformat": 4,
  "nbformat_minor": 0,
  "metadata": {
    "colab": {
      "provenance": [],
      "collapsed_sections": [],
      "toc_visible": true,
      "authorship_tag": "ABX9TyPdSG2OMHFerT1CpeBdWUI1",
      "include_colab_link": true
    },
    "kernelspec": {
      "name": "python3",
      "display_name": "Python 3"
    },
    "language_info": {
      "name": "python"
    }
  },
  "cells": [
    {
      "cell_type": "markdown",
      "metadata": {
        "id": "view-in-github",
        "colab_type": "text"
      },
      "source": [
        "<a href=\"https://colab.research.google.com/github/takatakamanbou/MVA/blob/2022/ex01notebookB.ipynb\" target=\"_parent\"><img src=\"https://colab.research.google.com/assets/colab-badge.svg\" alt=\"Open In Colab\"/></a>"
      ]
    },
    {
      "cell_type": "markdown",
      "source": [
        "# MVA2022 ex01notebookB\n",
        "\n",
        "<img width=64 src=\"https://www-tlab.math.ryukoku.ac.jp/~takataka/course/MVA/MVA-logo.png\"> https://www-tlab.math.ryukoku.ac.jp/wiki/?MVA/2022"
      ],
      "metadata": {
        "id": "P4preLw7SzqH"
      }
    },
    {
      "cell_type": "markdown",
      "source": [
        "----\n",
        "## ［復習］回帰分析"
      ],
      "metadata": {
        "id": "Kjddq7j6S48o"
      }
    },
    {
      "cell_type": "markdown",
      "source": [
        "「データ分析」で学んだ **回帰分析** は，$x$ と $y$ という二つの変数の間に\n",
        "$$\n",
        "y = ax+b\n",
        "$$\n",
        "という関係が成り立つと仮定して，与えられたデータから $a, b$ を推定する方法です．\n",
        "$x$ に相当する変数を **説明変数**，$y$ に相当する変数を **被説明変数** といいます（注）．\n",
        "また，この直線を **回帰直線** といい，$a, b$ のことを **回帰係数** といいます．\n",
        "\n",
        "\n",
        "※注: $y$ の方を **目的変数** と呼ぶこともあります．また，$x$ を **独立変数**，$y$を **従属変数** と呼ぶこともあります．\n"
      ],
      "metadata": {
        "id": "hHiVhy3jHUm-"
      }
    },
    {
      "cell_type": "markdown",
      "source": [
        "実際のデータとして，あるバネにいろいろな重さのおもりを吊るしたときのバネの長さを測ったものを考えてみます．\n",
        "\n",
        "\n",
        "|$n$|$x_n$（おもりの重さ[g]）|$y_n$（バネの長さ[mm]）|\n",
        "|:----:|----:|----:|\n",
        "|1|6|119|\n",
        "|2|8|145|\n",
        "|3|12|175|\n",
        "|4|14|191|\n",
        "|5|18|204|\n",
        "|6|20|209|\n",
        "|7|24|244|\n",
        "|8|26|233|\n",
        "|9|30|272|\n",
        "|10|32|268|\n",
        "\n",
        "「改訂版 日本統計学会公式認定 統計検定3級対応 データ分析」 日本統計学会，東京図書，p.102 より．\n",
        "\n",
        "「おもりの重さ」を説明変数，「バネの長さ」を被説明変数として，回帰分析を行ってみましょう（データから回帰係数を求める手順の説明は省略します）．\n",
        "以下，現時点ではコードの詳細を理解する必要はありませんが，コード中のコメントを読んで大まかな流れはつかんでおいてください．\n"
      ],
      "metadata": {
        "id": "O4Zs2asHtlwH"
      }
    },
    {
      "cell_type": "code",
      "execution_count": null,
      "metadata": {
        "id": "XMOkxD0Ks7cx"
      },
      "outputs": [],
      "source": [
        "# 各種パッケージのインポートなど\n",
        "import numpy as np\n",
        "import matplotlib.pyplot as plt"
      ]
    },
    {
      "cell_type": "code",
      "source": [
        "# おもりの重さの配列を用意\n",
        "x = np.array([6, 8, 12, 14, 18, 20, 24, 26, 30, 32])\n",
        "print(x)\n",
        "print(x.shape) \n",
        "\n",
        "# バネの長さの配列を用意\n",
        "y = np.array([119, 145, 175, 191, 204, 209, 244, 233, 272, 268])\n",
        "print(y)\n",
        "print(y.shape) "
      ],
      "metadata": {
        "id": "qimzzQoMQeeV"
      },
      "execution_count": null,
      "outputs": []
    },
    {
      "cell_type": "code",
      "source": [
        "## データの散布図を描く\n",
        "fig, ax = plt.subplots()\n",
        "ax.scatter(x, y) # xの各要素をX軸，yの各要素をY軸として散布図を描く\n",
        "ax.set_xlim(0, 35)   # X軸の範囲\n",
        "ax.set_ylim(0, 300)  # Y軸の範囲\n",
        "plt.show()"
      ],
      "metadata": {
        "id": "dnIxMDUDRUhY"
      },
      "execution_count": null,
      "outputs": []
    },
    {
      "cell_type": "code",
      "source": [
        "## 回帰係数を求める\n",
        "xx = np.vstack([x, np.ones_like(x)]).T\n",
        "rv = np.linalg.lstsq(xx, y, rcond=None)\n",
        "a, b = rv[0]\n",
        "print(f'a = {a:.3f}  b = {b:.3f}')"
      ],
      "metadata": {
        "id": "jlJHEc1XRjAx"
      },
      "execution_count": null,
      "outputs": []
    },
    {
      "cell_type": "code",
      "source": [
        "## 得られた回帰式を使い，様々な x の値に対する y の予測値を算出\n",
        "xx = np.linspace(0, 50, 11) # 区間 [0, 50] を 10 等分  [0, 5, 10, ..., 50]\n",
        "yy = a*xx + b              # 回帰式を使って被説明変数の予測値を計算\n",
        "for n in range(len(xx)):\n",
        "    print(f'x = {xx[n]}    y = {yy[n]:.3f}')"
      ],
      "metadata": {
        "id": "e5YxY5hTR5po"
      },
      "execution_count": null,
      "outputs": []
    },
    {
      "cell_type": "code",
      "source": [
        "## 散布図に回帰直線を重ねて描く\n",
        "xx = np.array([0, 35])\n",
        "yy = a*xx + b\n",
        "fig, ax = plt.subplots()\n",
        "ax.scatter(x, y)\n",
        "ax.plot(xx, yy, color='red')\n",
        "ax.set_xlim(0, 35)\n",
        "ax.set_ylim(0, 300)\n",
        "plt.show()"
      ],
      "metadata": {
        "id": "IpDPrqUMSHdO"
      },
      "execution_count": null,
      "outputs": []
    },
    {
      "cell_type": "markdown",
      "metadata": {
        "id": "Z4c3TGUV38Ri"
      },
      "source": [
        "----\n",
        "## Python の初歩\n"
      ]
    },
    {
      "cell_type": "markdown",
      "source": [
        "実際のデータに多変量解析の手法を適用しようとすると，計算の手間が大きくて手計算ではとてもやってられません．\n",
        "この授業では，Google Colab 上で Python のプログラムを動かして多変量解析をやってみることにします．\n",
        "\n",
        "というわけで Python の初歩を学びましょう（注）．\n",
        "といっても，授業の主目的は多変量解析を学ぶことですので，一般的な Python プログラミングの話はほんの少しだけ．\n",
        "\n",
        "\n",
        "※注: Python についてもっと知りたいひとは，以下のリンク先へどうぞ．\n",
        "この授業では Google Colab 上で Python のコード（の断片）を動かすことしかやりませんが，Python そのものは一般的プログラミング言語ですので，C言語などと同様に自分のPCで動かして様々なことができます．\n",
        "\n",
        "https://www-tlab.math.ryukoku.ac.jp/wiki/?MVA/2022/info\n"
      ],
      "metadata": {
        "id": "ptMAVlVKGOIu"
      }
    },
    {
      "cell_type": "markdown",
      "source": [
        "### とりあえず数値の計算"
      ],
      "metadata": {
        "id": "F3YifLPaW45X"
      }
    },
    {
      "cell_type": "markdown",
      "metadata": {
        "id": "mGDLYnwg71kh"
      },
      "source": [
        "C言語と同様に四則演算の演算子 `+`,`-`, `*`, `/` が使えます．適当に数値や式を変えて実行し直してみるとよいでしょう．"
      ]
    },
    {
      "cell_type": "code",
      "metadata": {
        "id": "mH1RWEw54RPv"
      },
      "source": [
        "5963 - 1314"
      ],
      "execution_count": null,
      "outputs": []
    },
    {
      "cell_type": "code",
      "metadata": {
        "id": "ROG8mPBJ4Uln"
      },
      "source": [
        "5+9*6-3"
      ],
      "execution_count": null,
      "outputs": []
    },
    {
      "cell_type": "markdown",
      "metadata": {
        "id": "3jFj7YAV74ZQ"
      },
      "source": [
        "整数だけでなく実数も扱えます（C言語の `float`型や`double`型と同様に浮動小数点数が扱える）．"
      ]
    },
    {
      "cell_type": "code",
      "metadata": {
        "id": "QQ8M3640S1W7"
      },
      "source": [
        "4*1 + 6*0.1 + 4*0.01 + 9*0.001"
      ],
      "execution_count": null,
      "outputs": []
    },
    {
      "cell_type": "markdown",
      "metadata": {
        "id": "TMg8Ia6q7raX"
      },
      "source": [
        "**要注意** C言語と違い，`/` 演算の結果は浮動小数点数になります．"
      ]
    },
    {
      "cell_type": "code",
      "metadata": {
        "id": "_m3xjXyX9HLL"
      },
      "source": [
        "4/3  # C言語だと整数 4 と整数 3 の除算は整数の範囲で行うので，結果は整数 1 になるはず"
      ],
      "execution_count": null,
      "outputs": []
    },
    {
      "cell_type": "code",
      "metadata": {
        "id": "3ra7p5YU9Nc5"
      },
      "source": [
        "2/3  # Cだと 0"
      ],
      "execution_count": null,
      "outputs": []
    },
    {
      "cell_type": "markdown",
      "metadata": {
        "id": "w-XyBY3X9Q33"
      },
      "source": [
        "C言語の `/` と同じことをさせたい場合は，`//` を使います"
      ]
    },
    {
      "cell_type": "code",
      "metadata": {
        "id": "CPlf1XnQ9XtK"
      },
      "source": [
        "4//3"
      ],
      "execution_count": null,
      "outputs": []
    },
    {
      "cell_type": "markdown",
      "metadata": {
        "id": "4XlzpDSD9cnE"
      },
      "source": [
        "べき乗の演算子 `**` というのもあります．また，C言語の普通の整数型（`int`や`long`など）よりも遥かに桁数の多い数も扱えます．"
      ]
    },
    {
      "cell_type": "code",
      "metadata": {
        "id": "E9K_sJ_w9roL"
      },
      "source": [
        "2**13 - 1  # メルセンヌ素数の一つ"
      ],
      "execution_count": null,
      "outputs": []
    },
    {
      "cell_type": "code",
      "metadata": {
        "id": "spGNVmIp9trV"
      },
      "source": [
        "2**127 - 1 # これもメルセンヌ素数"
      ],
      "execution_count": null,
      "outputs": []
    },
    {
      "cell_type": "code",
      "metadata": {
        "id": "XXo27BYC-Grt"
      },
      "source": [
        "2**607 - 1 # 同じく"
      ],
      "execution_count": null,
      "outputs": []
    },
    {
      "cell_type": "markdown",
      "metadata": {
        "id": "XuOD4gtu-7Zi"
      },
      "source": [
        "### 変数を使う"
      ]
    },
    {
      "cell_type": "markdown",
      "metadata": {
        "id": "jMiLyVUZ_Dt6"
      },
      "source": [
        "もちろん変数も使えます．ただし，C言語と使い方に大きな違いがあります．C言語の変数は，\n",
        "```\n",
        "int x;      // x という名前の変数を int 型で使うよ，と宣言\n",
        "double y;  // y は double 型だよ，と宣言\n",
        "\n",
        "x = 1 + 2 + 3 + 4 + 5;\n",
        "y = 3.1415\n",
        "```\n",
        "のようにあらかじめ型を決めて宣言しておく必要があります．宣言した型と違うものを代入することはできません．\n",
        "\n",
        "しかし，Python の変数は，宣言不要でいきなり代入して使えます．"
      ]
    },
    {
      "cell_type": "code",
      "metadata": {
        "id": "kX1m9-g0AYnG"
      },
      "source": [
        "x = 1 + 2 + 3 + 4 + 5\n",
        "print(x)  # x の値を表示"
      ],
      "execution_count": null,
      "outputs": []
    },
    {
      "cell_type": "markdown",
      "metadata": {
        "id": "NhnWrdDEAnWW"
      },
      "source": [
        "上記の例では変数 `x` は整数を扱う型になっています．ですが，次のようにその変数 `x` に実数値を代入してしまうこともできます．"
      ]
    },
    {
      "cell_type": "code",
      "metadata": {
        "id": "s9ExSlHZA5wk"
      },
      "source": [
        "x = 3.1415\n",
        "print(x)"
      ],
      "execution_count": null,
      "outputs": []
    },
    {
      "cell_type": "markdown",
      "metadata": {
        "id": "R63uO69iBQXi"
      },
      "source": [
        "上記の例を見ると，「Python の変数には整数型と浮動小数点型の区別がない」と思うかもしれませんが，実際にはそうではありません．「Python の変数は，代入したときに右辺の値に応じた型になる」ということです．\n",
        "\n",
        "整数と浮動小数点数は，値を表示させてみると区別できます．"
      ]
    },
    {
      "cell_type": "code",
      "metadata": {
        "id": "pwKZVmFUByFa"
      },
      "source": [
        "x = 5-5+1+9 # 全て整数で演算結果も整数\n",
        "print(x)  # このときの変数 x は整数型"
      ],
      "execution_count": null,
      "outputs": []
    },
    {
      "cell_type": "code",
      "metadata": {
        "id": "hwEUOMGLB8aL"
      },
      "source": [
        "x = 5/5+1*9 # 5/5 の値が浮動小数点数 1.0 → その後の加算も浮動小数点数として行われるので結果も浮動小数点数\n",
        "print(x)  # このときの変数 x は浮動小数点数型"
      ],
      "execution_count": null,
      "outputs": []
    },
    {
      "cell_type": "markdown",
      "metadata": {
        "id": "y6jPpnncCklO"
      },
      "source": [
        "当然，変数同士の四則演算もできます．"
      ]
    },
    {
      "cell_type": "code",
      "metadata": {
        "id": "Q-R9M3u_CY4M"
      },
      "source": [
        "x = 4649\n",
        "y = 1314\n",
        "print(x+y)"
      ],
      "execution_count": null,
      "outputs": []
    },
    {
      "cell_type": "code",
      "metadata": {
        "id": "yU3SKcpqCsts"
      },
      "source": [
        "x = 4649\n",
        "y = 1314\n",
        "print(x+y, x-y, x*y, x/y)  # この場合，除算の結果のみ浮動小数点数"
      ],
      "execution_count": null,
      "outputs": []
    },
    {
      "cell_type": "markdown",
      "metadata": {
        "id": "_DV5GkiQDDBp"
      },
      "source": [
        "C言語と同様に `+=`, `-=`, `*=`, `/=` などの演算子もあります．"
      ]
    },
    {
      "cell_type": "code",
      "metadata": {
        "id": "fPpnKgWKC6vy"
      },
      "source": [
        "x = 4649\n",
        "x += 1314\n",
        "print(x)"
      ],
      "execution_count": null,
      "outputs": []
    },
    {
      "cell_type": "code",
      "metadata": {
        "id": "I6GhuJvFDMIV"
      },
      "source": [
        "x = 128\n",
        "x *= 2\n",
        "print(x)"
      ],
      "execution_count": null,
      "outputs": []
    },
    {
      "cell_type": "markdown",
      "metadata": {
        "id": "CtHL55JBDkdW"
      },
      "source": [
        "ただし，残念ながら C言語の `++` や `--` 相当の演算子はありません．`+=1`や`-=1`を使うことになります．"
      ]
    },
    {
      "cell_type": "code",
      "metadata": {
        "id": "lnpYenYFDYcq"
      },
      "source": [
        "# このセルはエラーになる\n",
        "x = 5962\n",
        "x++"
      ],
      "execution_count": null,
      "outputs": []
    },
    {
      "cell_type": "markdown",
      "source": [
        "### for文とかif文とか\n",
        "\n",
        "Python にも for 文や if 文がありますが，ここでは説明を省略します．\n",
        "興味のあるひとは自分で調べてみてね．\n",
        "\n",
        "cf. https://www-tlab.math.ryukoku.ac.jp/wiki/?MVA/2022/info\n"
      ],
      "metadata": {
        "id": "wX1X-GknXK0K"
      }
    },
    {
      "cell_type": "markdown",
      "source": [
        "----\n",
        "## NumPy の初歩\n"
      ],
      "metadata": {
        "id": "zDtnBWKha6vx"
      }
    },
    {
      "cell_type": "markdown",
      "metadata": {
        "id": "weuyu8H6bqtL"
      },
      "source": [
        "\n",
        "\n",
        "NumPy は，Python で数値計算を行うためのパッケージです．ベクトルや行列の形で表される数値データの演算・処理を得意とします．\n",
        "https://numpy.org/\n"
      ]
    },
    {
      "cell_type": "markdown",
      "metadata": {
        "id": "FEgKDDF4bqtM"
      },
      "source": [
        "NumPy を使うためには，次のようにして「`numpy` モジュールをインポート」する必要があります．「モジュール」とか「インポート」とかそういったことはここでは説明しませんので，興味を持ったら自分で調べてみてね．\n",
        "\n"
      ]
    },
    {
      "cell_type": "code",
      "metadata": {
        "id": "I226xIKJbqtM"
      },
      "source": [
        "import numpy as np  # numpy モジュールをインポートして np という名前で呼べるようにする"
      ],
      "execution_count": null,
      "outputs": []
    },
    {
      "cell_type": "markdown",
      "source": [
        "自分のPC等に Python 環境を構築している場合は，事前にNumPyパッケージをインストールすることが必要です．\n",
        "試してみたいひとは takataka に相談するか，自分で調べてみてください．\n",
        "Google Colab の環境にはあらかじめインストールされているので，インポートするだけで使えます．\n"
      ],
      "metadata": {
        "id": "Ti-K-DJhTJ3Z"
      }
    },
    {
      "cell_type": "markdown",
      "source": [
        "### NumPy の配列 `np.array`"
      ],
      "metadata": {
        "id": "bXPrFBHeogbD"
      }
    },
    {
      "cell_type": "markdown",
      "metadata": {
        "id": "ZnE7_3uaRFDn"
      },
      "source": [
        "`np.array` に数値を並べたリスト（注）を渡すと，配列を作ることができます．\n",
        "\n",
        "注: **リスト** は Python の基本的なデータ構造の一つですが，ここでは説明しません．\n",
        "ものすごく大雑把にいうと，数値や文字列などを `[1, 2, 3.14, 'hoge', '五']` のようにカンマ区切りで並べて `[` と `]` で囲んだものです．"
      ]
    },
    {
      "cell_type": "code",
      "source": [
        "x = np.array([1, 2, 3, 4, 5]) # 整数の配列\n",
        "print(x)\n",
        "print(x.shape) # 配列 x の shape（形）．要素数 5 のベクトル（一次元配列）であることがわかる\n",
        "print(x.dtype) # 配列 x の要素のデータ型．要素は整数型であることがわかる"
      ],
      "metadata": {
        "id": "z8byvBOBPEQQ"
      },
      "execution_count": null,
      "outputs": []
    },
    {
      "cell_type": "code",
      "source": [
        "y = np.array([1, 2, np.pi, 4.56, 7.89]) # 浮動小数点数の配列． np.pi は円周率\n",
        "print(y)\n",
        "print(y.shape)\n",
        "print(y.dtype)"
      ],
      "metadata": {
        "id": "FEebHACWPb9R"
      },
      "execution_count": null,
      "outputs": []
    },
    {
      "cell_type": "markdown",
      "source": [
        "C言語の配列と同じように，要素にアクセスすることもできます．\n",
        "以下の例からわかるように，要素番号は 0 からはじまります．"
      ],
      "metadata": {
        "id": "qAr5goBPdTaO"
      }
    },
    {
      "cell_type": "code",
      "source": [
        "print(x[2])\n",
        "print(y[2])"
      ],
      "metadata": {
        "id": "Hdb188w-dhIH"
      },
      "execution_count": null,
      "outputs": []
    },
    {
      "cell_type": "code",
      "source": [
        "x[2] = 999\n",
        "print(x)"
      ],
      "metadata": {
        "id": "4y7ntgVed0Kn"
      },
      "execution_count": null,
      "outputs": []
    },
    {
      "cell_type": "markdown",
      "source": [
        "整数の配列に浮動小数点数を代入しようとすると..."
      ],
      "metadata": {
        "id": "s7rjF1LhdaFB"
      }
    },
    {
      "cell_type": "code",
      "source": [
        "x[2] = 123.456789\n",
        "print(x)"
      ],
      "metadata": {
        "id": "v2CV0z5EeP1_"
      },
      "execution_count": null,
      "outputs": []
    },
    {
      "cell_type": "markdown",
      "source": [
        "### 配列に対する演算"
      ],
      "metadata": {
        "id": "e-717bwcotMJ"
      }
    },
    {
      "cell_type": "markdown",
      "source": [
        "次の演算が何を行っているか考えよう．"
      ],
      "metadata": {
        "id": "hKMryDJyP_PG"
      }
    },
    {
      "cell_type": "code",
      "source": [
        "x2 = x + 2\n",
        "print(x2)"
      ],
      "metadata": {
        "id": "Quu1irglPy0n"
      },
      "execution_count": null,
      "outputs": []
    },
    {
      "cell_type": "code",
      "metadata": {
        "id": "LZ8kdYXGbqtN"
      },
      "source": [
        "z = x + y\n",
        "print(x)\n",
        "print(y)\n",
        "print(z)"
      ],
      "execution_count": null,
      "outputs": []
    },
    {
      "cell_type": "markdown",
      "source": [
        "`x2` は，配列`x` の各要素に 2 を加えてできた配列です．\n",
        "`z` は，配列`x` と `y` の「要素ごとの和」となっています．\n",
        "\n",
        "当然，二つの配列の要素数が合わなければエラーになります．"
      ],
      "metadata": {
        "id": "zCEEwb9hel4H"
      }
    },
    {
      "cell_type": "code",
      "source": [
        "x = np.array([1, 2, 3])\n",
        "y = np.array([11, 12, 13, 14])\n",
        "print(x + y)"
      ],
      "metadata": {
        "id": "z31_g8xNgT_9"
      },
      "execution_count": null,
      "outputs": []
    },
    {
      "cell_type": "markdown",
      "source": [
        "`+`演算子と同じように，`*` 演算子も使えます．"
      ],
      "metadata": {
        "id": "1zdZ0KEfghON"
      }
    },
    {
      "cell_type": "code",
      "source": [
        "x = np.array([1, 2, np.pi, 4, 5])\n",
        "x2 = x * 2\n",
        "print(x2)"
      ],
      "metadata": {
        "id": "04luKTzRhzxX"
      },
      "execution_count": null,
      "outputs": []
    },
    {
      "cell_type": "code",
      "source": [
        "y = np.array([10, 5, 10.0/np.pi, 2.5, 2])\n",
        "z = x * y\n",
        "print(z)"
      ],
      "metadata": {
        "id": "emk8RZTuh7BR"
      },
      "execution_count": null,
      "outputs": []
    },
    {
      "cell_type": "markdown",
      "source": [
        "`-` や `/` も同様に使えますが，説明は省略します．"
      ],
      "metadata": {
        "id": "xZu2Urg5jWL1"
      }
    },
    {
      "cell_type": "markdown",
      "source": [
        "`@` 演算子でベクトルとベクトルの内積を求めることができます．"
      ],
      "metadata": {
        "id": "YszYww6ckANl"
      }
    },
    {
      "cell_type": "code",
      "source": [
        "a = np.array([1, 2, 3, 4, 5])\n",
        "b = np.array([2, 0, -1, 1, 0])\n",
        "c = np.array([0, 99, 2, 2, np.pi])\n",
        "p = a @ b\n",
        "q = b @ c\n",
        "print(p, q)"
      ],
      "metadata": {
        "id": "FHQtZlDglEJ-"
      },
      "execution_count": null,
      "outputs": []
    },
    {
      "cell_type": "markdown",
      "source": [
        "`a @ b` は，`np.dot(a, b)` と書くこともできます．"
      ],
      "metadata": {
        "id": "5OyaH1qemeH5"
      }
    },
    {
      "cell_type": "markdown",
      "source": [
        "### いろいろ"
      ],
      "metadata": {
        "id": "EOLr_RW4o0fL"
      }
    },
    {
      "cell_type": "markdown",
      "source": [
        "配列の作り方いろいろ："
      ],
      "metadata": {
        "id": "lIOG-ZQSl-w-"
      }
    },
    {
      "cell_type": "code",
      "source": [
        "x = np.zeros(3)\n",
        "y = np.ones(5)\n",
        "z = np.arange(1, 11)  # 1以上11「未満」の数を1刻みで作る． [1, 2, 3, ..., 10]\n",
        "print(x)\n",
        "print(y)\n",
        "print(z)"
      ],
      "metadata": {
        "id": "t3aoEqN1l7FM"
      },
      "execution_count": null,
      "outputs": []
    },
    {
      "cell_type": "markdown",
      "source": [
        "関数 `np.sum` で要素の和，`np.mean` で平均，`np.var` で分散を求められます．"
      ],
      "metadata": {
        "id": "t0ACQzF0Qirw"
      }
    },
    {
      "cell_type": "code",
      "source": [
        "print(z)\n",
        "print(np.sum(z), np.mean(z), np.var(z))"
      ],
      "metadata": {
        "id": "5XudrBvNQSfX"
      },
      "execution_count": null,
      "outputs": []
    },
    {
      "cell_type": "markdown",
      "metadata": {
        "id": "Hd046TELUaLL"
      },
      "source": [
        "NumPy には他にも様々な機能がありますが，ここでは説明を省略します．"
      ]
    },
    {
      "cell_type": "markdown",
      "source": [
        "----\n",
        "## Matplotlib の初歩"
      ],
      "metadata": {
        "id": "qag6-7dnmySs"
      }
    },
    {
      "cell_type": "markdown",
      "source": [
        "Matplotlib は，Python で様々なグラフを描くことができるパッケージです．NumPy の配列などのデータを可視化するのに便利です．\n",
        "https://matplotlib.org/\n",
        "\n",
        "すごく多機能なんですが，ここでは詳しい使い方は説明せず，ごく簡単な例を示すだけにとどめます．興味を持ったらいろいろ調べてみてください．"
      ],
      "metadata": {
        "id": "jtT_0_BApJta"
      }
    },
    {
      "cell_type": "markdown",
      "source": [
        "NumPy を使う際は，次のようにインポートするのが基本です．"
      ],
      "metadata": {
        "id": "abHK1n5tqEMW"
      }
    },
    {
      "cell_type": "code",
      "source": [
        "import matplotlib.pyplot as plt # matplotlib の pyplot モジュールを plt という名前でインポート"
      ],
      "metadata": {
        "id": "TD2-DT6Lm1cA"
      },
      "execution_count": null,
      "outputs": []
    },
    {
      "cell_type": "code",
      "source": [
        "x = np.array([0, 1, 2, 5.5, 4])\n",
        "y = np.array([10, 6, 8, 4, 7])"
      ],
      "metadata": {
        "id": "sXAkN9bqp_Xe"
      },
      "execution_count": null,
      "outputs": []
    },
    {
      "cell_type": "code",
      "source": [
        "fig, ax = plt.subplots() # 描画の準備\n",
        "ax.plot(x, y) # x の要素をX座標の値，y の要素をY座標の値として折れ線グラフを描く\n",
        "plt.show()  # グラフを表示"
      ],
      "metadata": {
        "id": "QQUEDpqHq0__"
      },
      "execution_count": null,
      "outputs": []
    },
    {
      "cell_type": "code",
      "source": [
        "fig, ax = plt.subplots()\n",
        "ax.plot([1, 3, 5], [5, 9, 7]) # 一つ目\n",
        "ax.plot(x, y)                 # 二つ目\n",
        "plt.show()"
      ],
      "metadata": {
        "id": "rRk8QJxwrDbD"
      },
      "execution_count": null,
      "outputs": []
    },
    {
      "cell_type": "code",
      "source": [
        "fig, ax = plt.subplots()\n",
        "ax.plot(x, y, color='red', marker='o')  # 色を変えたりデータ点に印を付けたり\n",
        "plt.show()"
      ],
      "metadata": {
        "id": "r9Oebhk3r1Qf"
      },
      "execution_count": null,
      "outputs": []
    },
    {
      "cell_type": "code",
      "source": [
        "fig, ax = plt.subplots()\n",
        "ax.scatter(x, y)  # 散布図\n",
        "plt.show()"
      ],
      "metadata": {
        "id": "YuKKVNQkstlX"
      },
      "execution_count": null,
      "outputs": []
    },
    {
      "cell_type": "code",
      "source": [
        "fig, ax = plt.subplots()\n",
        "ax.scatter(x, y)\n",
        "ax.set_xlim(-5, 10) # X軸の範囲を指定\n",
        "ax.set_ylim(0, 15)  # Y軸の範囲を指定\n",
        "plt.show()"
      ],
      "metadata": {
        "id": "ivEBL5vwvQED"
      },
      "execution_count": null,
      "outputs": []
    },
    {
      "cell_type": "markdown",
      "source": [
        "余談ですが， seaborn というデータ可視化ライブラリがあります．これを使うと，matplotlib を使ってより素敵なグラフを描けます．\n",
        "https://seaborn.pydata.org/\n",
        "\n",
        "次のようにするだけで matplotlib で描画するグラフがよりいい感じ(?)になります．\n"
      ],
      "metadata": {
        "id": "GpvHoxUotkko"
      }
    },
    {
      "cell_type": "code",
      "source": [
        "# このセルを実行したあとで，上の方の matplotlib を使うコードを実行し直してみよう\n",
        "import seaborn\n",
        "seaborn.set()"
      ],
      "metadata": {
        "id": "6HSvc9wvuqo4"
      },
      "execution_count": null,
      "outputs": []
    }
  ]
}