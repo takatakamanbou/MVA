{
  "nbformat": 4,
  "nbformat_minor": 0,
  "metadata": {
    "colab": {
      "provenance": [],
      "toc_visible": true,
      "authorship_tag": "ABX9TyO/DL+FaRdre+Znp37xaqI8",
      "include_colab_link": true
    },
    "kernelspec": {
      "name": "python3",
      "display_name": "Python 3"
    },
    "language_info": {
      "name": "python"
    }
  },
  "cells": [
    {
      "cell_type": "markdown",
      "metadata": {
        "id": "view-in-github",
        "colab_type": "text"
      },
      "source": [
        "<a href=\"https://colab.research.google.com/github/takatakamanbou/MVA/blob/2023/ex14notebookB.ipynb\" target=\"_parent\"><img src=\"https://colab.research.google.com/assets/colab-badge.svg\" alt=\"Open In Colab\"/></a>"
      ]
    },
    {
      "cell_type": "markdown",
      "source": [
        "# MVA2023 ex14notebookB\n",
        "\n",
        "<img width=64 src=\"https://www-tlab.math.ryukoku.ac.jp/~takataka/course/MVA/MVA-logo15.png\"> https://www-tlab.math.ryukoku.ac.jp/wiki/?MVA/2023"
      ],
      "metadata": {
        "id": "P4preLw7SzqH"
      }
    },
    {
      "cell_type": "code",
      "source": [
        "# いつものいろいろインポート\n",
        "import numpy as np\n",
        "import matplotlib.pyplot as plt\n",
        "import pandas as pd\n",
        "import seaborn\n",
        "seaborn.set()\n",
        "\n",
        "# SciPy の DCT の関数\n",
        "from scipy.fft import dct, idct\n",
        "\n",
        "# 科学技術計算のライブラリ SciPy の中の WAVE ファイルを扱うモジュール\n",
        "from scipy.io.wavfile import read, write"
      ],
      "metadata": {
        "id": "9HCsHgFjR6jo"
      },
      "execution_count": null,
      "outputs": []
    },
    {
      "cell_type": "markdown",
      "source": [
        "---\n",
        "## 演習問題 直交展開，離散コサイン変換\n",
        "---\n",
        "\n"
      ],
      "metadata": {
        "id": "Snu_5I6aGJS8"
      }
    },
    {
      "cell_type": "markdown",
      "source": [
        "---\n",
        "### 直交展開の練習問題"
      ],
      "metadata": {
        "id": "kYW_yzpSQnDN"
      }
    },
    {
      "cell_type": "markdown",
      "source": [
        "#### 問題1"
      ],
      "metadata": {
        "id": "-fkqUS62fjsZ"
      }
    },
    {
      "cell_type": "markdown",
      "source": [
        "$a, b, c, d$ を実数として\n",
        "\n",
        "$$\n",
        "\\mathbf{u}_1 = \\left( \\frac{1}{2}, \\frac{1}{2}, \\frac{1}{2}, \\frac{1}{2} \\right)\\quad\n",
        "\\mathbf{u}_2 = \\left( \\frac{1}{\\sqrt{2}}, -\\frac{1}{\\sqrt{2}}, 0, 0 \\right)\n",
        "\\quad\n",
        "\\mathbf{u}_3 = \\left( 0, 0, \\frac{1}{\\sqrt{2}}, -\\frac{1}{\\sqrt{2}} \\right)\n",
        "\\quad\n",
        "\\mathbf{u}_4 = ( a, b, c, d )\n",
        "$$\n",
        "\n",
        "とおく．$\\{ \\mathbf{u}_1, \\mathbf{u}_2, \\mathbf{u}_3, \\mathbf{u}_4 \\}$ が正規直交基底を成すとき，次の問に答えなさい．ただし，$a>0$ とする．\n",
        "\n",
        "(1) $a, b, c, d$ の値を求めなさい．\n",
        "\n",
        "(2) $\\mathbf{x} = (6, 2, 2, 12)$ を $\\{\\mathbf{u}_1, \\mathbf{u}_2, \\mathbf{u}_3, \\mathbf{u}_4\\}$ で展開したときの展開係数を $c_1, c_2, c_3, c_4$ とおくとき，これらの値を求めなさい．ただし，$c_k$ は $\\mathbf{u}_k$ に対応する展開係数とする（$k = 1, 2, 3, 4$）．\n",
        "\n",
        "(3) (2) で求めた展開係数を用いて，$c_1\\mathbf{u}_1 + c_2\\mathbf{u}_2 + c_3\\mathbf{u}_3 + c_4\\mathbf{u}_4 = \\mathbf{x}$ であることを示しなさい．"
      ],
      "metadata": {
        "id": "g-1K0PIIjpu8"
      }
    },
    {
      "cell_type": "markdown",
      "source": [
        "---\n",
        "### 大津市の日平均気温のDCT"
      ],
      "metadata": {
        "id": "hOJUNaMPfcBZ"
      }
    },
    {
      "cell_type": "markdown",
      "source": [
        "#### データの準備\n"
      ],
      "metadata": {
        "id": "qwpB_UvyYdkn"
      }
    },
    {
      "cell_type": "markdown",
      "source": [
        "大津市の2004年度の気温（日ごとの平均気温）のデータを読み込んで `temp2004` という変数に代入します．この年はうるう年ですので，値が $366$ 個あります．"
      ],
      "metadata": {
        "id": "h-hZ43plbDKO"
      }
    },
    {
      "cell_type": "code",
      "source": [
        "temp2004 = np.loadtxt('https://www-tlab.math.ryukoku.ac.jp/~takataka/course/MVA/temp2004.txt')\n",
        "N_temp2004 = len(temp2004)\n",
        "temp2004"
      ],
      "metadata": {
        "id": "xvGpGlLvZmeR"
      },
      "execution_count": null,
      "outputs": []
    },
    {
      "cell_type": "code",
      "source": [
        "fig, ax = plt.subplots(figsize=(8, 6))\n",
        "ax.plot(temp2004, '-', color='blue', label='temp2004')\n",
        "ax.axhline(0, color='gray')\n",
        "ax.legend()\n",
        "plt.show()"
      ],
      "metadata": {
        "id": "kGBwQOe6Zts5"
      },
      "execution_count": null,
      "outputs": []
    },
    {
      "cell_type": "markdown",
      "source": [
        "以下，この気温のデータを表す $N$ 次元ベクトルを $\\mathbf{x}$ と表記することにします．\n",
        "記号をちゃんと定義せずに使っているところがあります．notebookA を参照して補ってね．"
      ],
      "metadata": {
        "id": "5Ey8Fa97dR-J"
      }
    },
    {
      "cell_type": "markdown",
      "source": [
        "#### DCTしてみよう\n",
        "\n",
        "上記の気温のデータをDCTしてみましょう．"
      ],
      "metadata": {
        "id": "gTvaZGEORZPb"
      }
    },
    {
      "cell_type": "markdown",
      "source": [
        "次のセルを実行すると，$N$ 次元のDCTの基底のうち最初の4つ $\\mathbf{u}_0, \\mathbf{u}_1, \\mathbf{u}_2, \\mathbf{u}_3$ をグラフに描きます．曲線に見えますが，実際にはそれぞれ $N$ 個の点がプロットされています．"
      ],
      "metadata": {
        "id": "ZIIwsiCyRZPj"
      }
    },
    {
      "cell_type": "code",
      "source": [
        "# DCT の基底を求める\n",
        "U_dct = dct(np.eye(len(temp2004)), norm='ortho')\n",
        "\n",
        "# 0 番から 3 番の基底ベクトルを可視化\n",
        "fig, ax = plt.subplots(figsize=(8, 6))\n",
        "for k in range(4):\n",
        "    ax.plot(U_dct[:, k], '.', label=f'u{k}')\n",
        "ax.axhline(0, color='gray')\n",
        "ax.set_ylim(-0.1, 0.1)\n",
        "ax.legend()\n",
        "plt.show()"
      ],
      "metadata": {
        "id": "6zIx03s0RZPj"
      },
      "execution_count": null,
      "outputs": []
    },
    {
      "cell_type": "markdown",
      "source": [
        "##### 問題2\n",
        "\n",
        "次のことを考えて／調べてメモしておこう：\n",
        "\n",
        "(1) ここでは $N$ はいくつか．基底は，何次元のベクトルが全部で何本から成るか．\n",
        "\n",
        "(2) 基底ベクトル $\\mathbf{u}_1, \\mathbf{u}_2, \\mathbf{u}_3$ の周期はそれぞれいくつか．\n",
        "\n"
      ],
      "metadata": {
        "id": "RKTqOpL_RAuC"
      }
    },
    {
      "cell_type": "markdown",
      "source": [
        "次のセルを実行すると，`temp2004` にDCTを適用します．`c_temp2004` という配列に展開係数の値 $c_k$ ($k = 0, 1, \\ldots, N-1$)が格納されます．"
      ],
      "metadata": {
        "id": "IQU2YOmyRAuD"
      }
    },
    {
      "cell_type": "code",
      "source": [
        "# temp2004 の DCT\n",
        "c_temp2004 = dct(temp2004, norm='ortho')\n",
        "print(c_temp2004)"
      ],
      "metadata": {
        "id": "_ziFu2yURAuD"
      },
      "execution_count": null,
      "outputs": []
    },
    {
      "cell_type": "markdown",
      "source": [
        "次のセルを実行すると，`c_temp2004` の値を可視化します．横軸が $k$ で縦軸が $c_k$ です．"
      ],
      "metadata": {
        "id": "N9fTTewORAuE"
      }
    },
    {
      "cell_type": "code",
      "source": [
        "# 展開係数の可視化\n",
        "fig, ax = plt.subplots(1, 2, figsize=(16, 6))\n",
        "ax[0].stem(c_temp2004, markerfmt=' ')\n",
        "ax[0].set_ylim(-330, 330)\n",
        "ax[1].stem(c_temp2004, markerfmt='o')\n",
        "ax[1].set_xlim(-0.5,10.5)\n",
        "ax[1].set_ylim(-330, 330)\n",
        "plt.show()"
      ],
      "metadata": {
        "id": "V8U96dEIRAuE"
      },
      "execution_count": null,
      "outputs": []
    },
    {
      "cell_type": "markdown",
      "source": [
        "次のセルを実行すると，$0$ 以上 $N-1$ 未満の整数 $H$ に対して\n",
        "\n",
        "$$\n",
        "\\begin{aligned}\n",
        "\\mathbf{z}_\\textrm{low} &= c_0\\mathbf{u}_0 + c_1\\mathbf{u}_1 + \\cdots + c_{H}\\mathbf{u}_{H}\\\\\n",
        "\\mathbf{z}_\\textrm{high} &= c_{H+1}\\mathbf{u}_{H+1} +  \\cdots + c_{N-1}\\mathbf{u}_{N-1}\n",
        "\\end{aligned}\n",
        "$$\n",
        "\n",
        "を計算し，$\\mathbf{x}$ と重ねて表示します．\n"
      ],
      "metadata": {
        "id": "N1D5FghGRAuE"
      }
    },
    {
      "cell_type": "code",
      "source": [
        "H = 0 #@param {type:\"number\", min:0, max:366}\n",
        "N = len(c_temp2004)\n",
        "assert 0 <= H and H < N-1\n",
        "\n",
        "fig, ax = plt.subplots(1, 2, figsize=(16, 6))\n",
        "\n",
        "z_low = c_temp2004[:H+1] @ U_dct[:, :H+1].T\n",
        "ax[0].plot(temp2004, '-', label='temp2004')\n",
        "ax[0].plot(z_low, '-', color='red', label='z_low', linewidth=2)\n",
        "ax[0].axhline(0, color='gray')\n",
        "ax[0].legend()\n",
        "\n",
        "z_high = c_temp2004[H+1:] @ U_dct[:, H+1:].T\n",
        "ax[1].plot(temp2004, '-', label='temp2004')\n",
        "ax[1].plot(z_high, '-', color='red', label='z_high', linewidth=2)\n",
        "ax[1].axhline(0, color='gray')\n",
        "ax[1].legend()\n",
        "\n",
        "plt.show()"
      ],
      "metadata": {
        "id": "dvrAJNzURAuE"
      },
      "execution_count": null,
      "outputs": []
    },
    {
      "cell_type": "markdown",
      "source": [
        "$\\mathbf{z}_\\textrm{low}$ の方は，元のベクトルから長い周期の（周波数の低い）波の成分のみを取り出して表したものとなっており，$\\mathbf{z}_\\textrm{high}$ の方は逆に，短い周期の（周波数の高い）波の成分のみを取り出して表したものとなっています．"
      ],
      "metadata": {
        "id": "kzyYQ8AeRAuE"
      }
    },
    {
      "cell_type": "markdown",
      "source": [
        "##### 問題3\n",
        "\n",
        "次のことをやろう／考えよう．\n",
        "\n",
        "(1) $H = 0, 1, 2, 3$ で実行して結果を観察しよう．もっと大きな $H$ でもやってみよう．\n",
        "\n",
        "(2) $k = 104$ のとき $\\frac{2N}{k} =7.04$ なので，$\\mathbf{u}_{104}$ はおよそ1週間周期の変動の成分と言えます．$H=104$ として実行しよう．$\\{\\mathbf{u}_0, \\ldots, \\mathbf{u}_{104}\\}$ と $\\{\\mathbf{u}_{105}, \\ldots, \\mathbf{u}_{366}\\}$ のうち，1週間より短い周期での変動を表す成分はどっち？\n",
        "\n"
      ],
      "metadata": {
        "id": "PQWslC8URAuE"
      }
    },
    {
      "cell_type": "markdown",
      "source": [
        "### 猫の鳴き声のDCT"
      ],
      "metadata": {
        "id": "aCvVeSgl_2FV"
      }
    },
    {
      "cell_type": "markdown",
      "source": [
        "#### データの準備"
      ],
      "metadata": {
        "id": "tCFJFK23R5uW"
      }
    },
    {
      "cell_type": "markdown",
      "source": [
        "ネットから WAVE 形式のファイルを入手します．まずは，WAVE形式のファイルを読み込む関数を定義します．"
      ],
      "metadata": {
        "id": "gRATQGBBTl3c"
      }
    },
    {
      "cell_type": "code",
      "source": [
        "# WAVE ファイルを読み込む関数\n",
        "#\n",
        "def readWAVE(filename):\n",
        "\n",
        "    framerate, data = read(filename)\n",
        "\n",
        "    # チャンネル数とフレーム数（データ点の数）を求める\n",
        "    if data.ndim == 1:\n",
        "        nchannels = 1\n",
        "    else:\n",
        "        nchannels = data.shape[1]\n",
        "    nframes = data.shape[0]\n",
        "\n",
        "    print('filename = ', filename)\n",
        "    print('nchannels = ', nchannels)       # チャンネル数\n",
        "    print('framerate = ', framerate)       # 標本化周波数\n",
        "    print('nframes = ', nframes)             # フレーム数\n",
        "    print('duration = {0:.2f}[sec]'.format(nframes / framerate))   # 長さ（秒単位）\n",
        "    print('dtype = ', data.dtype)            # データ型（量子化ビット数に対応）\n",
        "\n",
        "    assert data.dtype == 'uint8' or data.dtype == 'int16' or data.dtype == 'int32' or data.dtype == 'float32'\n",
        "\n",
        "    # 最初の10秒分だけ取り出す（元がそれより短ければそのまま）\n",
        "    nframesNew = min(framerate * 10, nframes)\n",
        "    if nchannels == 1:\n",
        "        dataNew = data[:nframesNew]\n",
        "    else:\n",
        "        # 多チャンネル信号なら0番目と1番目の平均値を取り出す\n",
        "        if data.dtype == 'float32':  # 浮動小数点数のときは [0, 1] の値なので普通に足して2で割る\n",
        "            dataNew = (data[:nframesNew, 0] + data[:nframesNew, 1])/2\n",
        "        else: # 整数型のときはオーバーフローする可能性があるので，いったん64bit整数にしてから\n",
        "            data64 = (data[:nframesNew, 0].astype(np.int64) + data[:nframesNew, 1].astype(np.int64))//2\n",
        "            dataNew = data64.astype(data.dtype)\n",
        "\n",
        "    return framerate, dataNew"
      ],
      "metadata": {
        "id": "HKcL3PWiMcEI"
      },
      "execution_count": null,
      "outputs": []
    },
    {
      "cell_type": "markdown",
      "source": [
        "WAVE ファイルを入手します．"
      ],
      "metadata": {
        "id": "ULqRtKvzUBaY"
      }
    },
    {
      "cell_type": "code",
      "source": [
        "# WAVE ファイルを入手\n",
        "#\n",
        "### こちらのサイトの素材を利用させてもらってます http://www.ne.jp/asahi/music/myuu/wave/wave.htm\n",
        "\n",
        "! wget -nc http://www.ne.jp/asahi/music/myuu/wave/cat1.wav\n",
        "fnCat = 'cat1.wav'\n",
        "\n",
        "import os\n",
        "\n",
        "if not os.path.exists(fnCat):\n",
        "    print(f'{fnCat}のダウンロードがうまくできていないようです')"
      ],
      "metadata": {
        "id": "ZMHnlYjpKBw2"
      },
      "execution_count": null,
      "outputs": []
    },
    {
      "cell_type": "code",
      "source": [
        "# cat1\n",
        "fr_cat1, cat1 = readWAVE('cat1.wav')\n",
        "\n",
        "# cat1 に正弦波を重ねる\n",
        "t = np.linspace(0, len(cat1)/fr_cat1, num=len(cat1))\n",
        "vmax = 2**(15-2) # 16bit量子化で最大振幅の 1/4\n",
        "cat1 = cat1.astype(float) + 0.1*vmax*(np.sin(2*3400*np.pi*t) + np.sin(2*3600*np.pi*t)) # 3400Hz, 3600Hz の正弦波をのせる\n",
        "\n",
        "N_cat1 = len(cat1)\n",
        "print(fr_cat1, N_cat1)"
      ],
      "metadata": {
        "id": "zT6_AxcyB4ct"
      },
      "execution_count": null,
      "outputs": []
    },
    {
      "cell_type": "markdown",
      "source": [
        "データをグラフに描くと次のようになります．2段目のグラフは，1段目のグラフの一部区間を拡大したものです．\n",
        "横軸はデータ点の番号を表しています．このデータは標本化周波数 44100 [Hz] の音信号なので，横軸の長さ 1 は $1/44100$ [s] に対応しています．データ点の数 $N = 187392$ ですので，$N/44100 = 4.25$ [s] の長さの音です．"
      ],
      "metadata": {
        "id": "N393E_kPSiYN"
      }
    },
    {
      "cell_type": "code",
      "source": [
        "fig, ax = plt.subplots(2, 1, figsize=(10, 8))\n",
        "ax[0].plot(cat1, '-', label='cat1')\n",
        "ax[0].axhline(0, color='gray')\n",
        "ax[0].set_xlim(0, len(cat1))\n",
        "ax[0].set_ylim(-2**15, 2**15)\n",
        "ax[0].legend()\n",
        "ax[1].plot(cat1, '.')\n",
        "ax[1].axhline(0, color='gray', label='cat1')\n",
        "ax[1].set_xlim(441*50, 441*51)\n",
        "ax[1].set_ylim(-2**15, 2**15)\n",
        "ax[1].legend()\n",
        "plt.tight_layout()\n",
        "plt.show()"
      ],
      "metadata": {
        "id": "OTcdflRRB8V6"
      },
      "execution_count": null,
      "outputs": []
    },
    {
      "cell_type": "markdown",
      "source": [
        "次のセルを指示に従って書き換えて実行すると，上記で作った `cat1` を WAVE 形式のファイルとしてダウンロードできます．音を聞いてみましょう．"
      ],
      "metadata": {
        "id": "cOuApcPEUDeA"
      }
    },
    {
      "cell_type": "code",
      "source": [
        "from google.colab import files\n",
        "\n",
        "if 1 == 0: # ← の 0 を 1 に修正\n",
        "    write('cat1.wav', fr_cat1, cat1.astype('int16'))\n",
        "    files.download('cat1.wav')"
      ],
      "metadata": {
        "id": "jraLY2gTT4so"
      },
      "execution_count": null,
      "outputs": []
    },
    {
      "cell_type": "markdown",
      "source": [
        "#### DCT してみよう"
      ],
      "metadata": {
        "id": "2eu9aYwdT5tj"
      }
    },
    {
      "cell_type": "markdown",
      "source": [
        "`cat1` の音を聞いてみると，猫の鳴き声に高音のノイズが加わっています．\n",
        "DCT の展開係数がどのようになっているか，眺めてみましょう．"
      ],
      "metadata": {
        "id": "bvdZExIrUCjC"
      }
    },
    {
      "cell_type": "code",
      "source": [
        "# cat1 の DCT\n",
        "c_cat1 = dct(cat1, norm='ortho')\n",
        "print(c_cat1, c_cat1.shape)"
      ],
      "metadata": {
        "id": "Gmhk1eP1CXky"
      },
      "execution_count": null,
      "outputs": []
    },
    {
      "cell_type": "code",
      "source": [
        "# 展開係数の可視化\n",
        "fig, ax = plt.subplots(figsize=(8, 6))\n",
        "ax.stem(c_cat1, markerfmt=' ', label='c_cat1')\n",
        "kmax = 5000*2*N_cat1/fr_cat1\n",
        "ax.set_xlim(0, kmax)\n",
        "#ax.stem(np.arange(len(c_dct))*fr_cat1/(2*N_cat1), c_dct, markerfmt=' ')\n",
        "#ax.set_xlim(0, 5000)\n",
        "ax.legend()\n",
        "plt.show()"
      ],
      "metadata": {
        "id": "uOOhGM5dDVt7"
      },
      "execution_count": null,
      "outputs": []
    },
    {
      "cell_type": "markdown",
      "source": [
        "上の図の左が DCT の展開係数を可視化したものです．横軸は展開係数の番号 $k$ を表します．\n",
        "このグラフを見ると，$k = 30000$ の前後に大きなトゲが見えます．実は，これらが高音のノイズの成分です．\n",
        "\n"
      ],
      "metadata": {
        "id": "do_62zXXXRh0"
      }
    },
    {
      "cell_type": "markdown",
      "source": [
        "これらの成分を取り除くために，$k = 25000$ 以上の成分を無視して元の信号を近似させてみましょう．元の信号 $\\mathbf{x}$ は，$N = 187392$ として\n",
        "\n",
        "$$\n",
        "\\mathbf{x} = c_0\\mathbf{u}_0 + c_1\\mathbf{u}_1 + \\cdots + c_{N-1}\\mathbf{u}_{N-1}\n",
        "$$\n",
        "\n",
        "と表せますが，$k = 24500$ 番以降の成分を捨てて\n",
        "\n",
        "$$\n",
        "\\mathbf{z} = c_0\\mathbf{u}_0 + c_1\\mathbf{u}_1 + \\cdots + c_{2499}\\mathbf{u}_{2499}\n",
        "$$\n",
        "\n",
        "という信号を作ってみます．"
      ],
      "metadata": {
        "id": "eSIMhKLZZS3s"
      }
    },
    {
      "cell_type": "code",
      "source": [
        "# 25000 番以降の成分を 0 にして再構成\n",
        "c_cat2 = np.copy(c_cat1)\n",
        "c_cat2[25000:] = 0\n",
        "cat2 = idct(c_cat2, norm='ortho')"
      ],
      "metadata": {
        "id": "sz7U97MODZim"
      },
      "execution_count": null,
      "outputs": []
    },
    {
      "cell_type": "code",
      "source": [
        "# 展開係数の可視化\n",
        "fig, ax = plt.subplots(figsize=(8, 6))\n",
        "ax.stem(c_cat2, markerfmt=' ', label='c_cat2')\n",
        "ax.set_xlim(0, 50000)\n",
        "ax.legend()\n",
        "plt.show()"
      ],
      "metadata": {
        "id": "FRKkqaXSHvdQ"
      },
      "execution_count": null,
      "outputs": []
    },
    {
      "cell_type": "markdown",
      "source": [
        "このようにして得られたデータは `cat2` という変数に格納されています．次のセルを実行するとその波形を `cat1` と比較することができます．横軸を時間軸としてグラフを描いても，`cat1` と `cat2` の違いはそれほど大きくはないようです．"
      ],
      "metadata": {
        "id": "gg2TSWReamYI"
      }
    },
    {
      "cell_type": "code",
      "source": [
        "fig, ax = plt.subplots(figsize=(10, 4))\n",
        "ax.plot(cat1, '.', label='cat1')\n",
        "ax.plot(cat2, '.', label='cat2')\n",
        "ax.axhline(0, color='gray')\n",
        "ax.set_xlim(441*50, 441*51)\n",
        "ax.set_ylim(-2**15, 2**15)\n",
        "ax.legend()\n",
        "plt.tight_layout()\n",
        "plt.show()"
      ],
      "metadata": {
        "id": "hzPXaxHsF6wP"
      },
      "execution_count": null,
      "outputs": []
    },
    {
      "cell_type": "markdown",
      "source": [
        "しかし，音を聞いてみるとどうでしょうか．次のセルを実行して WAVE ファイルをダウンロードして聞いてみましょう．"
      ],
      "metadata": {
        "id": "FBM3DwOlbYn2"
      }
    },
    {
      "cell_type": "code",
      "source": [
        "from google.colab import files\n",
        "\n",
        "if 1 == 0: # ← の 0 を 1 に修正\n",
        "    write('cat2.wav', fr_cat1, cat2.astype('int16'))\n",
        "    files.download('cat2.wav')"
      ],
      "metadata": {
        "id": "nmmXU2qOF_4E"
      },
      "execution_count": null,
      "outputs": []
    },
    {
      "cell_type": "markdown",
      "source": [
        "高音のノイズは取り除けていますが，それだけでなく猫の鳴き声も少し変化していることが分かるでしょう．「大きい $k$ に対応する成分」 = 「周期の短い成分」 = 「周波数の高い音の成分」ということで，高い周波数の成分をすべて除いてしまった結果，元の猫の鳴き声の高周波成分も取り除かれてしまった，というわけです．"
      ],
      "metadata": {
        "id": "EBkqAMtQb67v"
      }
    },
    {
      "cell_type": "markdown",
      "source": [
        "##### やってみよう\n",
        "\n",
        "以下のように書かれているコードセルの 3 行目の 25000 を変えると，何番目以降の成分を 0 にするかを変えることができます．適当に変えてからそれ以降のセルを実行して音を聞いてみましょう．\n",
        "```\n",
        "# 25000 番以降の成分を 0 にして再構成\n",
        "c_cat2 = np.copy(c_cat1)\n",
        "c_cat2[25000:] = 0\n",
        "cat2 = idct(c_cat2, norm='ortho')\n",
        "```"
      ],
      "metadata": {
        "id": "y6OTGo82gHWd"
      }
    },
    {
      "cell_type": "code",
      "source": [],
      "metadata": {
        "id": "Nobcnlo-HeJF"
      },
      "execution_count": null,
      "outputs": []
    }
  ]
}