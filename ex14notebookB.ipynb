{
  "nbformat": 4,
  "nbformat_minor": 0,
  "metadata": {
    "colab": {
      "provenance": [],
      "toc_visible": true,
      "authorship_tag": "ABX9TyO9HhcdLpC1yUqTPqjZJ3ly",
      "include_colab_link": true
    },
    "kernelspec": {
      "name": "python3",
      "display_name": "Python 3"
    },
    "language_info": {
      "name": "python"
    }
  },
  "cells": [
    {
      "cell_type": "markdown",
      "metadata": {
        "id": "view-in-github",
        "colab_type": "text"
      },
      "source": [
        "<a href=\"https://colab.research.google.com/github/takatakamanbou/MVA/blob/2022/ex14notebookB.ipynb\" target=\"_parent\"><img src=\"https://colab.research.google.com/assets/colab-badge.svg\" alt=\"Open In Colab\"/></a>"
      ]
    },
    {
      "cell_type": "markdown",
      "source": [
        "# MVA2022 ex14notebookB\n",
        "\n",
        "<img width=64 src=\"https://www-tlab.math.ryukoku.ac.jp/~takataka/course/MVA/MVA-logo14.png\"> https://www-tlab.math.ryukoku.ac.jp/wiki/?MVA/2022"
      ],
      "metadata": {
        "id": "P4preLw7SzqH"
      }
    },
    {
      "cell_type": "code",
      "source": [
        "# いつものいろいろインポート\n",
        "import numpy as np\n",
        "import matplotlib.pyplot as plt\n",
        "import pandas as pd\n",
        "import seaborn\n",
        "seaborn.set()\n",
        "\n",
        "# SciPy の FFT の関数\n",
        "from scipy.fft import fft, ifft, fftfreq\n",
        "\n",
        "# 科学技術計算のライブラリ SciPy の中の WAVE ファイルを扱うモジュール\n",
        "from scipy.io.wavfile import read, write"
      ],
      "metadata": {
        "id": "9HCsHgFjR6jo"
      },
      "execution_count": null,
      "outputs": []
    },
    {
      "cell_type": "markdown",
      "source": [
        "---\n",
        "## 演習問題 標本化\n",
        "---\n",
        "\n"
      ],
      "metadata": {
        "id": "Snu_5I6aGJS8"
      }
    },
    {
      "cell_type": "markdown",
      "source": [
        "#### 準備\n",
        "\n",
        "あとの実験で使う関数とデータを用意しておきます．"
      ],
      "metadata": {
        "id": "qwpB_UvyYdkn"
      }
    },
    {
      "cell_type": "code",
      "source": [
        "# WAVE ファイルを読み込む関数\n",
        "#\n",
        "def readWAVE(filename):\n",
        "    \n",
        "    framerate, data = read(filename)\n",
        "\n",
        "    # チャンネル数とフレーム数（データ点の数）を求める\n",
        "    if data.ndim == 1:\n",
        "        nchannels = 1\n",
        "    else:\n",
        "        nchannels = data.shape[1]\n",
        "    nframes = data.shape[0]\n",
        "    \n",
        "    print('filename = ', filename)\n",
        "    print('nchannels = ', nchannels)       # チャンネル数\n",
        "    print('framerate = ', framerate)       # 標本化周波数\n",
        "    print('nframes = ', nframes)             # フレーム数\n",
        "    print('duration = {0:.2f}[sec]'.format(nframes / framerate))   # 長さ（秒単位）\n",
        "    print('dtype = ', data.dtype)            # データ型（量子化ビット数に対応）\n",
        "\n",
        "    assert data.dtype == 'uint8' or data.dtype == 'int16' or data.dtype == 'int32' or data.dtype == 'float32'\n",
        "    \n",
        "    # 最初の10秒分だけ取り出す（元がそれより短ければそのまま）\n",
        "    nframesNew = min(framerate * 10, nframes)   \n",
        "    if nchannels == 1:\n",
        "        dataNew = data[:nframesNew]\n",
        "    else:\n",
        "        # 多チャンネル信号なら0番目と1番目の平均値を取り出す\n",
        "        if data.dtype == 'float32':  # 浮動小数点数のときは [0, 1] の値なので普通に足して2で割る\n",
        "            dataNew = (data[:nframesNew, 0] + data[:nframesNew, 1])/2\n",
        "        else: # 整数型のときはオーバーフローする可能性があるので，いったん64bit整数にしてから\n",
        "            data64 = (data[:nframesNew, 0].astype(np.int64) + data[:nframesNew, 1].astype(np.int64))//2\n",
        "            dataNew = data64.astype(data.dtype)\n",
        "    \n",
        "    return framerate, dataNew"
      ],
      "metadata": {
        "id": "U-iId7kjiEKi"
      },
      "execution_count": null,
      "outputs": []
    },
    {
      "cell_type": "code",
      "source": [
        "# WAVE ファイルを入手\n",
        "#\n",
        "! wget -nc https://www-tlab.math.ryukoku.ac.jp/~takataka/course/MVA/Sound-Guitar1-C.wav\n",
        "fn = 'Sound-Guitar1-C.wav'\n",
        "\n",
        "import os\n",
        "\n",
        "if not os.path.exists(fn):\n",
        "    print(f'{fn}のダウンロードがうまくできていないようです')"
      ],
      "metadata": {
        "id": "0M4ryekSWK8e"
      },
      "execution_count": null,
      "outputs": []
    },
    {
      "cell_type": "code",
      "source": [
        "# WAVE ファイルを読み込む\n",
        "#\n",
        "framerate, dat = readWAVE(fn)\n",
        "dat = dat.astype(float)\n",
        "dat -= np.mean(dat)\n",
        "guitar = dat"
      ],
      "metadata": {
        "id": "_7T1KYg_WVlU"
      },
      "execution_count": null,
      "outputs": []
    },
    {
      "cell_type": "code",
      "source": [
        "# WAVE ファイルを入手\n",
        "#\n",
        "### こちらのサイトの素材を利用させてもらってます http://www.ne.jp/asahi/music/myuu/wave/wave.htm\n",
        "\n",
        "! wget -nc http://www.ne.jp/asahi/music/myuu/wave/cat1.wav\n",
        "fnCat = 'cat1.wav'\n",
        "\n",
        "import os\n",
        "\n",
        "if not os.path.exists(fnCat):\n",
        "    print(f'{fnCat}のダウンロードがうまくできていないようです')"
      ],
      "metadata": {
        "id": "rxXkOXeo6iJt"
      },
      "execution_count": null,
      "outputs": []
    },
    {
      "cell_type": "markdown",
      "source": [
        "#### 問題1\n",
        "\n",
        "次のセルを実行すると，3つの正弦波のグラフが描かれます．\n",
        "それぞれの周期[s]と周波数[Hz]を答えなさい．\n",
        "\n"
      ],
      "metadata": {
        "id": "gXXKcqAJN8OX"
      }
    },
    {
      "cell_type": "code",
      "source": [
        "f = np.array([3*np.pi, 60*np.pi, 1200*np.pi])\n",
        "\n",
        "fig, ax = plt.subplots(3, 1, figsize=(10, 10))\n",
        "for i in range(3):\n",
        "\n",
        "    t = np.linspace(0, 6*np.pi/f[i], num=1000)\n",
        "    ax[i].plot(t, np.sin(f[i]*t))\n",
        "    ax[i].axhline(0, color='gray')\n",
        "    ax[i].set_xlabel('t [s]')\n",
        "\n",
        "plt.show()"
      ],
      "metadata": {
        "id": "4MdfSWj7svaK"
      },
      "execution_count": null,
      "outputs": []
    },
    {
      "cell_type": "markdown",
      "source": [
        "#### 問題2\n",
        "\n",
        "次のセルを実行すると，`guitar` という配列に格納された信号という配列に格納された信号をグラフに描きます．\n",
        "横軸は時間でその単位は[s]です．この信号は，音の波を等間隔に標本化したものです．\n",
        "ここから標本化間隔[s]と標本化周波数[Hz]を求めなさい．\n",
        "\n"
      ],
      "metadata": {
        "id": "3oyXWNx9xp3E"
      }
    },
    {
      "cell_type": "code",
      "source": [
        "N = len(guitar)\n",
        "t = np.linspace(0, N/framerate, num=N, endpoint=False)\n",
        "fig, ax = plt.subplots(figsize=(10, 5))\n",
        "ax.plot(t, guitar, 'o')\n",
        "ax.axhline(0, color='gray')\n",
        "ax.set_xlim(0.2995, 0.3025)\n",
        "ax.set_ylim(-150, 150)\n",
        "ax.set_xlabel('t [s]')\n",
        "plt.show()"
      ],
      "metadata": {
        "id": "08Y2ZTTdweZB"
      },
      "execution_count": null,
      "outputs": []
    },
    {
      "cell_type": "markdown",
      "source": [
        "#### 問題3\n",
        "\n",
        "次のセルを実行すると，`guitar` に格納された信号に離散フーリエ変換を適用して振幅スペクトルを描きます．スペクトルの横軸は，フーリエ係数の番号 $k$ を表します．下段のスペクトルは，上段のもののの $1060 \\leq k \\leq 1090$ の範囲を拡大表示したものです．次の問に答えなさい．\n",
        "\n",
        "(1) 次のセルを実行すると表示される `N` の値は，`guitar` に格納された値の数を表します．これと，問題2で求めた標本化周波数から，$k$番目のフーリエ係数が何[Hz]の波の成分に対応するかを求めなさい．\n",
        "\n",
        "(2) 下段のスペクトルに示された周波数成分のうち，振幅の値が最も大きいものは，何[Hz]の音に相当するか答えなさい．\n",
        "\n",
        "\n"
      ],
      "metadata": {
        "id": "VZCtnIAu0dC3"
      }
    },
    {
      "cell_type": "code",
      "source": [
        "print(f'N = {N}')\n",
        "coef = fft(guitar) # DFT\n",
        "amp = np.abs(coef)/N # 振幅スペクトル\n",
        "fig, ax = plt.subplots(2, 1, figsize=(10, 10))\n",
        "ax[0].stem(amp, markerfmt=' ', use_line_collection=True)\n",
        "ax[0].set_xlim(0, 4000)\n",
        "ax[0].set_xlabel('k')\n",
        "ax[1].stem(amp, markerfmt=' ', use_line_collection=True)\n",
        "ax[1].set_xlim(1060, 1090)\n",
        "ax[1].set_xlabel('k')\n",
        "plt.show()"
      ],
      "metadata": {
        "id": "UZSj-7NfyO3w"
      },
      "execution_count": null,
      "outputs": []
    },
    {
      "cell_type": "markdown",
      "source": [
        "#### 問題4\n",
        "\n",
        "ウェブで検索する等して，次のものについて調べなさい．\n",
        "- ヒトの可聴域（音として感じることのできる鼓膜振動の周波数範囲）\n",
        "- CD-DA規格における標本化周波数（CD-DA(Compact Disc Digital Audio）は，音響信号を記録するCDのための規格）\n",
        "\n",
        "後者は前者の最大値より高いはずだが，なぜそんなに高いのか理由を考えなさい．\n",
        "\n"
      ],
      "metadata": {
        "id": "2lm5o-3V26Of"
      }
    },
    {
      "cell_type": "markdown",
      "source": [
        "###標本化定理の教えを守らないと...\n",
        "\n",
        "標本化定理の教えを守らないとどういうことになるのか実験してみましょう．"
      ],
      "metadata": {
        "id": "x21I5Cnu5esA"
      }
    },
    {
      "cell_type": "code",
      "source": [
        "print('##### cat1 #####')\n",
        "fr_cat1, cat1 = readWAVE('cat1.wav')\n",
        "N_cat1 = len(cat1)\n",
        "print()"
      ],
      "metadata": {
        "id": "0IHze0W0DQ8t"
      },
      "execution_count": null,
      "outputs": []
    },
    {
      "cell_type": "markdown",
      "source": [
        "`cat1` は前回も使ったもふもふの鳴き声のデータです．標本化周波数 44100[Hz] で標本化されています．次のセルを実行すると，その振幅スペクトルを描きます．"
      ],
      "metadata": {
        "id": "O0xP2krTDqO4"
      }
    },
    {
      "cell_type": "code",
      "source": [
        "fig, ax = plt.subplots(figsize=(10, 5))\n",
        "coef = fft(cat1)\n",
        "amp = np.abs(coef)/N_cat1\n",
        "freq = fftfreq(N_cat1, d=1.0/fr_cat1)\n",
        "ax.stem(freq, amp, markerfmt=' ', use_line_collection=True, label='cat1')\n",
        "ax.set_xlim(0, 6000)\n",
        "ax.set_xlabel('frequency [Hz]')\n",
        "ax.legend()\n",
        "plt.show()"
      ],
      "metadata": {
        "id": "zs0mZu1vDnEO"
      },
      "execution_count": null,
      "outputs": []
    },
    {
      "cell_type": "markdown",
      "source": [
        "3000[Hz]以上の高い周波数の成分が含まれていますね．\n",
        "\n",
        "この `cat1` の値を10個おきに取り出すことで，標本化間隔$10$倍，標本化周波数$\\frac{1}{10}$で標本化しなおしてみます．新たな信号 `cat2` の標本化周波数は 4410 [Hz] となります．"
      ],
      "metadata": {
        "id": "MHa2ggtXENH-"
      }
    },
    {
      "cell_type": "code",
      "source": [
        "print('##### cat2 #####')\n",
        "cat2 = cat1[::10] # cat1 を10個おきに標本化しなおす\n",
        "N_cat2 = len(cat2)\n",
        "fr_cat2 = fr_cat1//10\n",
        "print(f'framerate = {fr_cat2}')\n",
        "print(f'nframes = {N_cat2}')\n",
        "\n",
        "fig, ax = plt.subplots(figsize=(10, 5))\n",
        "t1 = np.linspace(0, N_cat1/fr_cat1, num=N_cat1, endpoint=False)\n",
        "t2 = np.linspace(0, N_cat2/fr_cat2, num=N_cat2, endpoint=False)\n",
        "ax.plot(t1, cat1, 'o', label='cat1')\n",
        "ax.plot(t2, cat2, 'o', label='cat2')\n",
        "ax.axhline(0, color='gray')\n",
        "ax.set_xlim(0.5, 0.502)\n",
        "ax.set_ylim(-16384, 16384)\n",
        "ax.legend()\n",
        "plt.show()"
      ],
      "metadata": {
        "id": "h6K8WyW37nSF"
      },
      "execution_count": null,
      "outputs": []
    },
    {
      "cell_type": "markdown",
      "source": [
        "次のセルを実行すると，`cat1` と `cat2` をWAVE形式のファイルに保存し，それを自分の手元にダウンロードすることができます．聴き比べてみましょう．"
      ],
      "metadata": {
        "id": "lgq_5OC4FgVS"
      }
    },
    {
      "cell_type": "code",
      "source": [
        "write('cat1.wav', fr_cat1, cat1.astype('int16'))\n",
        "write('cat2.wav', fr_cat2, cat2.astype('int16'))\n",
        "from google.colab import files\n",
        "if 1 == 0: # ← の 0 を 1 に修正\n",
        "    files.download('cat2.wav')\n",
        "    files.download('cat1.wav')"
      ],
      "metadata": {
        "id": "nhS7xMru7xUP"
      },
      "execution_count": null,
      "outputs": []
    },
    {
      "cell_type": "markdown",
      "source": [
        "`cat2.wav` の方はおかしなことになっていますね．振幅スペクトルを描いてみると..."
      ],
      "metadata": {
        "id": "T0r9PAF1Fwk1"
      }
    },
    {
      "cell_type": "code",
      "source": [
        "fig, ax = plt.subplots(2, 1, figsize=(10, 10))\n",
        "coef = [fft(cat1), fft(cat2)] # DFT\n",
        "amp = [np.abs(coef[0])/N_cat1, np.abs(coef[1])/N_cat2]\n",
        "freq = [fftfreq(N_cat1, d=1.0/fr_cat1), fftfreq(N_cat2, d=1.0/fr_cat2)]\n",
        "for i in range(2):\n",
        "    ax[i].stem(freq[i], amp[i], markerfmt=' ', use_line_collection=True, label=f'cat{i+1}')\n",
        "    ax[i].set_xlim(0, 6000)\n",
        "    ax[i].set_xlabel('frequency [Hz]')\n",
        "    ax[i].legend()\n",
        "plt.show()"
      ],
      "metadata": {
        "id": "-rVEPEeN76PS"
      },
      "execution_count": null,
      "outputs": []
    },
    {
      "cell_type": "markdown",
      "source": [
        "`cat2` の標本化周波数は 4410 [Hz] です．標本化定理によれば，元の信号に含まれる成分の最高周波数がこの半分すなわち 2205 [Hz] 未満であれば，標本化した信号から元の成分を再現することができます．しかし，今の場合，元の信号 `cat1` には明らかに 2205 [Hz] 以上の成分が含まれていました．それを無理やり低い標本化周波数で標本化してしまいました．\n",
        "\n",
        "`cat2` の振幅スペクトルを見ると，元の信号の 2205 [Hz] 以上の成分が， 2205 [Hz] を軸に折り返されて低い周波数の方へ現れてしまっています．このような現象を **エイリアシング** (aliasing) といいます．\n",
        "`cat2` はエイリアシングのせいで元の音とは違う音に聞こえるようになってしまいました．"
      ],
      "metadata": {
        "id": "BzKlYGl2G-vp"
      }
    },
    {
      "cell_type": "code",
      "source": [],
      "metadata": {
        "id": "2Es1rTI78zGI"
      },
      "execution_count": null,
      "outputs": []
    }
  ]
}