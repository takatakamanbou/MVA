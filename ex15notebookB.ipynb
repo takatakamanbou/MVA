{
  "nbformat": 4,
  "nbformat_minor": 0,
  "metadata": {
    "colab": {
      "provenance": [],
      "toc_visible": true,
      "authorship_tag": "ABX9TyOCpPrY3Xac9RQ2fHsj40DM",
      "include_colab_link": true
    },
    "kernelspec": {
      "name": "python3",
      "display_name": "Python 3"
    },
    "language_info": {
      "name": "python"
    }
  },
  "cells": [
    {
      "cell_type": "markdown",
      "metadata": {
        "id": "view-in-github",
        "colab_type": "text"
      },
      "source": [
        "<a href=\"https://colab.research.google.com/github/takatakamanbou/MVA/blob/2022/ex15notebookB.ipynb\" target=\"_parent\"><img src=\"https://colab.research.google.com/assets/colab-badge.svg\" alt=\"Open In Colab\"/></a>"
      ]
    },
    {
      "cell_type": "markdown",
      "source": [
        "# MVA2022 ex15notebookB\n",
        "\n",
        "<img width=64 src=\"https://www-tlab.math.ryukoku.ac.jp/~takataka/course/MVA/MVA-logo15.png\"> https://www-tlab.math.ryukoku.ac.jp/wiki/?MVA/2022"
      ],
      "metadata": {
        "id": "P4preLw7SzqH"
      }
    },
    {
      "cell_type": "code",
      "source": [
        "# いつものいろいろインポート\n",
        "import numpy as np\n",
        "import matplotlib.pyplot as plt\n",
        "import pandas as pd\n",
        "import seaborn\n",
        "seaborn.set()\n",
        "\n",
        "from statsmodels import tsa\n",
        "from statsmodels.graphics import tsaplots\n",
        "from statsmodels.tsa import ar_model\n",
        "from statsmodels.tsa.arima.model import ARIMA"
      ],
      "metadata": {
        "id": "9HCsHgFjR6jo"
      },
      "execution_count": null,
      "outputs": []
    },
    {
      "cell_type": "markdown",
      "source": [
        "---\n",
        "## 演習問題 時系列解析してみよう\n",
        "---\n",
        "\n"
      ],
      "metadata": {
        "id": "Snu_5I6aGJS8"
      }
    },
    {
      "cell_type": "markdown",
      "source": [
        "---\n",
        "### データの準備\n"
      ],
      "metadata": {
        "id": "qwpB_UvyYdkn"
      }
    },
    {
      "cell_type": "markdown",
      "source": [
        "#### データ5: 世帯あたりアイスクリーム・シャーベット購入額\n",
        "\n"
      ],
      "metadata": {
        "id": "xdgX_p0sLj83"
      }
    },
    {
      "cell_type": "markdown",
      "source": [
        "政府統計の総合窓口 e-Stat ( https://www.e-stat.go.jp/ )から入手した，2人以上世帯のアイスクリーム・シャーベットへの支出金額のデータです．2000年1月から2022年10月までの毎月の金額[円]の値から成る時系列です．\n",
        "\n",
        "このデータは，以下の書籍とウェブページの情報を参考にして作成しました．\n",
        "\n",
        "- 「時系列解析 ―自己回帰型モデル・状態空間モデル・異常検知―」島田直希，共立出版，2019， https://www.kyoritsu-pub.co.jp/book/b10003204.html\n",
        "- 「アイスクリームの売れ方」奥村晴彦 https://oku.edu.mie-u.ac.jp/~okumura/stat/160118.html"
      ],
      "metadata": {
        "id": "wznUWdgUDQGf"
      }
    },
    {
      "cell_type": "code",
      "source": [
        "# 2000年1月から2022年10月までの毎月のアイスクリーム・シャーベットへの支出金額（世帯あたり）[円]\n",
        "URL = 'https://www-tlab.math.ryukoku.ac.jp/~takataka/course/MVA/icecream2.csv'\n",
        "dfIce2 = pd.read_csv(URL, index_col=0)\n",
        "assert dfIce2.index[0] == '2000-01-01' and dfIce2.index[-1] == '2022-10-01'\n",
        "dfIce2.index = pd.date_range('2000-01', end='2022-10', freq='MS')\n",
        "dfIce2"
      ],
      "metadata": {
        "id": "2a7HEcP7MAPw"
      },
      "execution_count": null,
      "outputs": []
    },
    {
      "cell_type": "markdown",
      "source": [
        "各行に月始の日付が入っていますが，これはデータ作成の都合でそうなっているだけです．各行の値はその月の金額です．"
      ],
      "metadata": {
        "id": "oI8zRUrbEu02"
      }
    },
    {
      "cell_type": "code",
      "source": [
        "X_ice = dfIce2['356 アイスクリーム・シャーベット【円】']\n",
        "fig, ax = plt.subplots(2, 1, figsize=(10, 6))\n",
        "ax[0].plot(X_ice, '-o')\n",
        "ax[0].axhline(0, color='gray')\n",
        "ax[1].plot(X_ice[:'2002'], '-o')\n",
        "ax[1].axhline(0, color='gray')\n",
        "plt.tight_layout()\n",
        "plt.show()"
      ],
      "metadata": {
        "id": "-HJEb9_vNcCI"
      },
      "execution_count": null,
      "outputs": []
    },
    {
      "cell_type": "markdown",
      "source": [
        "#### `signalA` と `signalB`"
      ],
      "metadata": {
        "id": "--0U1pDyLY-_"
      }
    },
    {
      "cell_type": "code",
      "source": [
        "sr = 8000\n",
        "T = 2\n",
        "t = np.linspace(0, T, num=T*sr)\n",
        "signalA = 2 * np.sin(800*np.pi*t) + 0.2*np.random.randn(T*sr)\n",
        "signalB = 2/3 * np.sin(500*np.pi*t) + 0.2*np.random.randn(T*sr)"
      ],
      "metadata": {
        "id": "IugQZyAn98-L"
      },
      "execution_count": null,
      "outputs": []
    },
    {
      "cell_type": "markdown",
      "source": [
        "---\n",
        "### 問題1\n",
        "\n",
        "データ5を見ると，明らかに周期的な変動があります．その周期を調べましょう．\n",
        "\n",
        "次のセルを実行すると，データ5の時系列の自己相関 $\\textrm{Corr}[x_t, x_{t-k}]$ を求めてプロットすることができる．横軸はラグ $k$ を表す．この図を読解して，この時系列の主な季節変動成分の周期は何ヶ月といえるか答えなさい．\n"
      ],
      "metadata": {
        "id": "d5ZvYXN3L0aN"
      }
    },
    {
      "cell_type": "code",
      "source": [
        "fig, ax = plt.subplots(figsize=(8, 6))\n",
        "tsaplots.plot_acf(X_ice, ax=ax)\n",
        "ax.set_ylim(-1.1, 1.1)\n",
        "plt.tight_layout()\n",
        "plt.show()"
      ],
      "metadata": {
        "id": "kT4ZWFi-MNoC"
      },
      "execution_count": null,
      "outputs": []
    },
    {
      "cell_type": "markdown",
      "source": [
        "---\n",
        "### 問題2\n",
        "\n",
        "`signalA` と `signalB` という2つの配列に，正弦波信号（にノイズをのせた信号）を標本化して得られる値から成る時系列データが格納されている．いずれも標本化周波数は 8000 [Hz] だった．\n",
        "次のセルを実行すると，それぞれの自己相関 $\\textrm{Corr}[x_t, x_{t-k}]$ を求めてプロットすることができる．横軸はラグ $k$ を表す．\n",
        "この図から，`signalA`, `signalB` それぞれの元の正弦波信号の周期 [s] と周波数 [Hz] を求めなさい．\n",
        "\n"
      ],
      "metadata": {
        "id": "gXXKcqAJN8OX"
      }
    },
    {
      "cell_type": "code",
      "source": [
        "fig, ax = plt.subplots(2, 1, figsize=(10, 8))\n",
        "tsaplots.plot_acf(signalA, ax=ax[0], title='Autocorrelation of signalA')\n",
        "ax[0].set_ylim(-1.1, 1.1)\n",
        "tsaplots.plot_acf(signalB, ax=ax[1], title='Autocorrelation of signalB')\n",
        "ax[1].set_ylim(-1.1, 1.1)\n",
        "plt.tight_layout()\n",
        "plt.show()"
      ],
      "metadata": {
        "id": "1lB2MQ0TB_KP"
      },
      "execution_count": null,
      "outputs": []
    },
    {
      "cell_type": "markdown",
      "source": [
        "次のセルをコメントに従って修正して実行すると，`signalA` と `signalB` の波形を横軸の単位を [s] として描くことができます．その図を読み取れば，上記の問題の正解がわかります．↑の答えを考えたあとで確認しましょう．\n",
        "\n",
        "ヒント: 横軸の範囲の中にそれぞれの波は何周期分あるだろうか．"
      ],
      "metadata": {
        "id": "tH8n6O7QJT5n"
      }
    },
    {
      "cell_type": "code",
      "source": [
        "hoge # ←をコメントアウトしてこのセルを実行し，図を読み取れば，上記の正解が分かる...はず\n",
        "\n",
        "fig, ax = plt.subplots(2, 1, figsize=(10, 8))\n",
        "ax[0].plot(t, signalA, '-o', label='signalA')\n",
        "ax[0].axhline(0, color='gray')\n",
        "ax[0].set_xlabel('t [s]')\n",
        "ax[0].set_xlim(0, 0.01)\n",
        "ax[0].set_ylim(-2.5, 2.5)\n",
        "ax[0].legend()\n",
        "ax[1].plot(t, signalB, '-o')\n",
        "ax[1].axhline(0, color='gray', label='signalB')\n",
        "ax[1].set_xlabel('t [s]')\n",
        "ax[1].set_xlim(0, 0.02)\n",
        "ax[1].set_ylim(-2.5, 2.5)\n",
        "ax[1].legend()\n",
        "plt.tight_layout()\n",
        "plt.show()"
      ],
      "metadata": {
        "id": "9yFkFBVaIkfB"
      },
      "execution_count": null,
      "outputs": []
    },
    {
      "cell_type": "markdown",
      "source": [
        "---\n",
        "### 問題3\n",
        "\n",
        "次の2つのコードセルを実行すると，データ5の時系列にARモデルを当てはめる実験が行える．\n",
        "ARモデルの次数を $6, 9, 12, 24$ 等と変えて実行し，結果を観察しなさい．\n",
        "コードセルの下の［補足］も参考にしてね．\n",
        "\n",
        " "
      ],
      "metadata": {
        "id": "PHETwLNXTXKi"
      }
    },
    {
      "cell_type": "code",
      "source": [
        "X_train = X_ice[:'2014-12'] # モデルパラメータの推定に使うデータ\n",
        "X_test  = X_ice['2015-01':] # 予測の検証用に使うデータ\n",
        "\n",
        "K = 2 # ARモデルの次数\n",
        "\n",
        "# X_train を使ってモデルパラメータを推定\n",
        "model = ar_model.AutoReg(X_train, K, old_names=False)\n",
        "result = model.fit()\n",
        "print(result.summary())"
      ],
      "metadata": {
        "id": "EQ0B50luTast"
      },
      "execution_count": null,
      "outputs": []
    },
    {
      "cell_type": "code",
      "source": [
        "# 得られたモデルを使って予測\n",
        "X_predicted = result.predict(end='2023-12')\n",
        "\n",
        "# 結果をプロット\n",
        "fig, ax = plt.subplots(2, 1, figsize=(10, 10))\n",
        "XX_predicted = X_predicted[:'2014-12']\n",
        "ax[0].plot(X_train, '-o', label='true')\n",
        "ax[0].plot(XX_predicted, '-o', color='red', label=f'predicted (K={K})')\n",
        "ax[0].axhline(0, color='gray')\n",
        "ax[0].set_ylim(top=2000)\n",
        "ax[0].legend()\n",
        "XX_predicted = X_predicted['2015-01':]\n",
        "resid = X_test - XX_predicted\n",
        "ax[1].plot(X_test, '-o', label='true')\n",
        "ax[1].plot(XX_predicted, '-o', color='red', label=f'predicted (K={K})')\n",
        "ax[1].axhline(0, color='gray')\n",
        "ax[1].set_ylim(top=2000)\n",
        "ax[1].legend()\n",
        "plt.tight_layout()\n",
        "plt.show()"
      ],
      "metadata": {
        "id": "5DE3QstPczax"
      },
      "execution_count": null,
      "outputs": []
    },
    {
      "cell_type": "markdown",
      "source": [
        "［補足］\n",
        "\n",
        "`AutoReg Model Results` の `Log Likelihood` は，モデルの対数尤度の値を示します．この値を最大化するようパラメータを決めているので，これが大きい方がデータへの当てはまりがよいと言えます．上段のグラフは，モデルパラメータの推定に用いたデータ（ `true` とラベルがついているもの， `X_train`）と，それに対するモデルの予測値（`predicted`，過去 $K$ 時点のデータの値から次の時点の値を予測したもの）を描いたものです．下段のグラフは，2014-12 までの値だけから 2015-01 以降の値を予測したものです．`true` とラベルがついているのがその時期の真の値（`X_test`）です．\n",
        "\n",
        "- モデル次数を変えると当てはまりの良さはどう変わるだろうか？\n",
        "- モデル次数を変えると予測の正しさはどう変わるだろうか？\n"
      ],
      "metadata": {
        "id": "OFqVHD0JXmsM"
      }
    },
    {
      "cell_type": "markdown",
      "source": [
        "---\n",
        "### 問題4\n",
        "\n",
        "次の2つのコードセルを実行すると，データ5の時系列に SARIMA という時系列モデルを当てはめることができる（解説は後述）．1行目をコメントに従って修正して実行すると，AR(12) モデルに切り替えることもできる．両者の結果を比較しなさい．"
      ],
      "metadata": {
        "id": "ZlqwynQZdBNX"
      }
    },
    {
      "cell_type": "code",
      "source": [
        "isSARIMA = True  # SARIMA モデルを使う (True) / AR(12) を使う (False) か\n",
        "\n",
        "X_train = X_ice[:'2014-12']\n",
        "X_test  = X_ice['2015-01':]\n",
        "\n",
        "if isSARIMA:\n",
        "    order = (3, 2, 1)\n",
        "    sorder = (1, 1, 0, 12)\n",
        "else:\n",
        "    order = (12, 0, 0)\n",
        "    sorder = (0, 0, 0, 0)\n",
        "\n",
        "# X_train を使ってモデルパラメータを推定\n",
        "model = ARIMA(X_train, order=order, seasonal_order=sorder)\n",
        "result = model.fit()\n",
        "print(result.summary())"
      ],
      "metadata": {
        "id": "QX1wwMxLdmxX"
      },
      "execution_count": null,
      "outputs": []
    },
    {
      "cell_type": "code",
      "source": [
        "# 得られたモデルを使って予測\n",
        "X_predicted = result.predict(end='2023-12')\n",
        "\n",
        "# 結果をプロット\n",
        "if isSARIMA:\n",
        "    s = 'predicted (SARIMA)'\n",
        "else:\n",
        "    s = 'predicted (AR(12))'\n",
        "fig, ax = plt.subplots(2, 1, figsize=(10, 10))\n",
        "XX_predicted = X_predicted[:'2014-12']\n",
        "ax[0].plot(X_train, '-o', label='true')\n",
        "ax[0].plot(XX_predicted, '-o', color='red', label=s)\n",
        "ax[0].axhline(0, color='gray')\n",
        "ax[0].set_ylim(top=2000)\n",
        "ax[0].legend()\n",
        "XX_predicted = X_predicted['2015-01':]\n",
        "resid = X_test - XX_predicted\n",
        "ax[1].plot(X_test, '-o', label='true')\n",
        "ax[1].plot(XX_predicted, '-o', color='red', label=s)\n",
        "ax[1].axhline(0, color='gray')\n",
        "ax[1].set_ylim(top=2000)\n",
        "ax[1].legend()\n",
        "plt.tight_layout()\n",
        "plt.show()"
      ],
      "metadata": {
        "id": "nDHU_3NwfQv7"
      },
      "execution_count": null,
      "outputs": []
    },
    {
      "cell_type": "markdown",
      "source": [
        "SARIMA がどのようなものかの真面目な説明はしませんが，ざっくりいうとこんな感じです．\n",
        "\n",
        "1. AR と移動平均 (Moving Average, MA) モデルというもうひとつのモデルを組み合わせた，ARMA というモデルがある\n",
        "1. ARMA を発展させた ARIMA というモデルがある\n",
        "1. ARIMA に季節変動 (Seasonal Variation) を取り入れたものが SARIMA\n",
        "\n",
        "AR モデルは定常性を仮定したモデルでしたが，SARIMAは平均の変動や季節変動なども考慮したものとなっています．この実験の条件では，SARIMA の方がデータの当てはまりや予測精度が良い結果が得られます．\n",
        "\n"
      ],
      "metadata": {
        "id": "ZP20tBrfhy2G"
      }
    },
    {
      "cell_type": "markdown",
      "source": [
        "---\n",
        "### 新型コロナウイルス感染症関連の時系列データを眺めてみよう\n",
        "\n",
        "厚生労働省のウェブページ「[データからわかる－新型コロナウイルス感染症情報－](https://covid19.mhlw.go.jp/)」へ行くと，COVID-19 の感染者数，重症者数，死亡者数等のデータを入手することができます（毎日更新）．最新のデータを入手して眺めてみましょう．"
      ],
      "metadata": {
        "id": "11DO6hv7o4pi"
      }
    },
    {
      "cell_type": "markdown",
      "source": [
        "#### 人口10万人当たり新規陽性者数\n",
        "\n",
        "上記ウェブページの「人口10万人当たり新規陽性者数」の項の「オープンデータ」から CSV ファイルを入手できます．"
      ],
      "metadata": {
        "id": "g4xnJe4rqccm"
      }
    },
    {
      "cell_type": "code",
      "source": [
        "# 人口10万人当たり新規陽性者数\n",
        "URL = 'https://covid19.mhlw.go.jp/public/opendata/newly_confirmed_cases_per_100_thousand_population_daily.csv'\n",
        "df = pd.read_csv(URL, index_col=0, parse_dates=True)\n",
        "df"
      ],
      "metadata": {
        "id": "aE1jlZb9o-LR"
      },
      "execution_count": null,
      "outputs": []
    },
    {
      "cell_type": "code",
      "source": [
        "fig, ax = plt.subplots(figsize=(12, 6))\n",
        "ax.plot(df['ALL'])\n",
        "ax.axhline(0, color='gray')\n",
        "plt.show()"
      ],
      "metadata": {
        "id": "qJ39fw7TqWDI"
      },
      "execution_count": null,
      "outputs": []
    },
    {
      "cell_type": "markdown",
      "source": [
        "毎日のデータですが，土日等の分の集計が遅れる影響が見られるようです．そこで，7日の幅で移動平均をとってみましょう．"
      ],
      "metadata": {
        "id": "r0l9oo9RrEoJ"
      }
    },
    {
      "cell_type": "code",
      "source": [
        "fig, ax = plt.subplots(figsize=(12, 6))\n",
        "for key in ['ALL', 'Tokyo', 'Osaka', 'Kyoto', 'Shiga']:\n",
        "    X = df[key].rolling(window=7).mean()\n",
        "    ax.plot(X['2022-01':], label=key)\n",
        "ax.axhline(0, color='gray')\n",
        "ax.legend()\n",
        "plt.show()"
      ],
      "metadata": {
        "id": "8FNM-jgRq2Q8"
      },
      "execution_count": null,
      "outputs": []
    },
    {
      "cell_type": "markdown",
      "source": [
        "ついでに，いくつかの都府県ごとの値も出してみました．「人口10万人当たり」新規陽性者数であることに注意．"
      ],
      "metadata": {
        "id": "RBHw-U5lsIJM"
      }
    },
    {
      "cell_type": "markdown",
      "source": [
        "#### 入院治療等を要する者等推移\n",
        "\n",
        "新規陽性者数と同様に「入院治療等を要する者等推移」から CSV ファイルをダウンロードして表示させてみましょう．"
      ],
      "metadata": {
        "id": "a2-6Oh1xuCmO"
      }
    },
    {
      "cell_type": "code",
      "source": [
        "# 入院治療等を要する者等推移\n",
        "URL = 'https://covid19.mhlw.go.jp/public/opendata/requiring_inpatient_care_etc_daily.csv'\n",
        "df = pd.read_csv(URL, index_col=0, parse_dates=True)\n",
        "df"
      ],
      "metadata": {
        "id": "BuTir569rf3J"
      },
      "execution_count": null,
      "outputs": []
    },
    {
      "cell_type": "code",
      "source": [
        "fig, ax = plt.subplots(figsize=(12, 6))\n",
        "ax.plot(df['(ALL) Requiring inpatient care'])\n",
        "ax.axhline(0, color='gray')\n",
        "plt.show()"
      ],
      "metadata": {
        "id": "89LWA1ZluqRR"
      },
      "execution_count": null,
      "outputs": []
    },
    {
      "cell_type": "markdown",
      "source": [
        "全国の「入院治療等を要する者」の数です．縦軸は $\\times 10^6$ つまり100万人単位です．"
      ],
      "metadata": {
        "id": "iBDEyPzKvDhE"
      }
    },
    {
      "cell_type": "code",
      "source": [
        "fig, ax = plt.subplots(figsize=(12, 6))\n",
        "for key in ['Tokyo', 'Osaka', 'Kyoto', 'Shiga']:\n",
        "    X = df[f'({key}) Requiring inpatient care']\n",
        "    ax.plot(X, label=key)\n",
        "ax.axhline(0, color='gray')\n",
        "ax.legend()\n",
        "plt.show()"
      ],
      "metadata": {
        "id": "BIP_pxQ8u6F0"
      },
      "execution_count": null,
      "outputs": []
    },
    {
      "cell_type": "markdown",
      "source": [
        "さきほどのデータと違って，こちらの数は人口が大きく影響すること，様々な要因がある（集計法の違いや地域特性の違い，地域によって流行中の変異株が異なり重症化の度合いが異なる場合がある，etc.）ことに注意．ちなみに，東京と大阪の人口比はだいたい 1400万人 : 880万人 = 1 : 0.6 ．"
      ],
      "metadata": {
        "id": "bZm8UY6ewaHt"
      }
    },
    {
      "cell_type": "markdown",
      "source": [
        "#### 死亡者数の推移\n",
        "\n"
      ],
      "metadata": {
        "id": "UL4q_tDsz7vP"
      }
    },
    {
      "cell_type": "code",
      "source": [
        "# 死亡者数の推移\n",
        "URL = 'https://covid19.mhlw.go.jp/public/opendata/number_of_deaths_daily.csv'\n",
        "df = pd.read_csv(URL, index_col=0, parse_dates=True)\n",
        "df"
      ],
      "metadata": {
        "id": "Id6AIIESwK94"
      },
      "execution_count": null,
      "outputs": []
    },
    {
      "cell_type": "code",
      "source": [
        "fig, ax = plt.subplots(figsize=(12, 6))\n",
        "ax.plot(df['ALL'])\n",
        "ax.axhline(0, color='gray')\n",
        "plt.show()"
      ],
      "metadata": {
        "id": "yQDen5lJ0NKF"
      },
      "execution_count": null,
      "outputs": []
    },
    {
      "cell_type": "code",
      "source": [
        "fig, ax = plt.subplots(figsize=(12, 6))\n",
        "for key in ['Tokyo', 'Osaka', 'Kyoto', 'Shiga']:\n",
        "    X = df[key]\n",
        "    ax.plot(X, label=key)\n",
        "ax.axhline(0, color='gray')\n",
        "ax.legend()\n",
        "plt.show()"
      ],
      "metadata": {
        "id": "1yIspEQx0ajt"
      },
      "execution_count": null,
      "outputs": []
    },
    {
      "cell_type": "markdown",
      "source": [
        "---\n",
        "### ［よだんだよん］ モデル選択"
      ],
      "metadata": {
        "id": "pnRKlViHoudx"
      }
    },
    {
      "cell_type": "markdown",
      "source": [
        "問題3の実験では，ARモデルの次数を大きくした方がデータへの当てはまりが良くなることを見ました．しかし，次数の大きい，すなわちパラメータの数が多いモデルの方が予測の精度が高いとは限りません．パラメータ数の多い複雑なモデルは，与えられたデータにはよく当てはまる一方で，予測がうまくできないこともよくあります（この辺のことは「機械学習I/II」もっとちゃんと扱います．ちなみに，重回帰分析の回にも似たような話が出てきました（自由度調整済み決定係数））．そのため，いろいろなモデルを作ってみて，それらの中から何らかの規準にもとづいて良さそうなものを選ぶ，という方法がよくとられます．これを「モデル選択」といいます．\n",
        "\n",
        "モデル選択のために用いられる規準の一つに，AIC（Akaike's Information Criterion, 赤池情報量規準）というものがあります．上の実験結果でも表中に `AIC` として記されています．\n",
        "\n",
        "参考: Wikipedia の「[赤池情報量規準](https://ja.wikipedia.org/wiki/%E8%B5%A4%E6%B1%A0%E6%83%85%E5%A0%B1%E9%87%8F%E8%A6%8F%E6%BA%96\n",
        ")」\n",
        "\n",
        "\n"
      ],
      "metadata": {
        "id": "2hbNOonDFfpd"
      }
    },
    {
      "cell_type": "markdown",
      "source": [
        "AR(K)の K をいろいろ変えたものと上記で用いた SARIMA モデルの一つについて，AICの値を見てみましょう．"
      ],
      "metadata": {
        "id": "_lm_xRVXbPku"
      }
    },
    {
      "cell_type": "code",
      "source": [
        "X_train = X_ice[:'2014-12']\n",
        "X_test  = X_ice['2015-01':]\n",
        "\n",
        "# AR\n",
        "for K in range(25):\n",
        "    order = (K, 0, 0)\n",
        "    sorder = (0, 0, 0, 0)\n",
        "    model = ARIMA(X_train, order=order, seasonal_order=sorder)\n",
        "    nparams = len(model.param_names)\n",
        "    result = model.fit()\n",
        "    print(f'AR({K}): {nparams}   {result.llf:.2f}   {result.aic:.2f}')\n",
        "\n",
        "# SARIMA\n",
        "order = (3, 2, 1)\n",
        "sorder = (1, 1, 0, 12)\n",
        "model = ARIMA(X_train, order=order, seasonal_order=sorder)\n",
        "nparams = len(model.param_names)\n",
        "result = model.fit()\n",
        "print(f'SARIMA: {nparams}   {result.llf:.4f}   {result.aic:.4f}')"
      ],
      "metadata": {
        "id": "6YqDLabchhIy"
      },
      "execution_count": null,
      "outputs": []
    },
    {
      "cell_type": "markdown",
      "source": [
        "各行の3つの数値は，左から順に，モデルのパラメータの数，データに対する対数尤度，AICの値，を表します．ARモデルでは，次数 $K$ を大きくすればするほど対数尤度の値が大きくなりデータへの当てはまりが良くなっていますが，AICは $K=13$ で最小となっています．このことから，これらの中では $K=13$ のモデルが予測精度の点では最良であると推測されます．\n",
        "\n",
        "SARIMAモデルは，この例ではパラメータ数 6 と AR(13) よりも少ないパラメータ数で，データへの当てはまりも AIC もよりよい結果となっています．"
      ],
      "metadata": {
        "id": "U_kDHszTcQIf"
      }
    },
    {
      "cell_type": "code",
      "source": [],
      "metadata": {
        "id": "9kfBB4UjPqwX"
      },
      "execution_count": null,
      "outputs": []
    }
  ]
}