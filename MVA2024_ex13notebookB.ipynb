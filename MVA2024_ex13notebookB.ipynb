{
  "nbformat": 4,
  "nbformat_minor": 0,
  "metadata": {
    "colab": {
      "provenance": [],
      "toc_visible": true,
      "authorship_tag": "ABX9TyPkAkU7yld82o9k4f28It0p",
      "include_colab_link": true
    },
    "kernelspec": {
      "name": "python3",
      "display_name": "Python 3"
    },
    "language_info": {
      "name": "python"
    }
  },
  "cells": [
    {
      "cell_type": "markdown",
      "metadata": {
        "id": "view-in-github",
        "colab_type": "text"
      },
      "source": [
        "<a href=\"https://colab.research.google.com/github/takatakamanbou/MVA/blob/main/MVA2024_ex13notebookB.ipynb\" target=\"_parent\"><img src=\"https://colab.research.google.com/assets/colab-badge.svg\" alt=\"Open In Colab\"/></a>"
      ]
    },
    {
      "cell_type": "markdown",
      "source": [
        "# MVA2024 ex13notebookB\n",
        "\n",
        "<img width=64 src=\"https://www-tlab.math.ryukoku.ac.jp/~takataka/course/MVA/MVA-logo13.png\"> https://www-tlab.math.ryukoku.ac.jp/wiki/?MVA/2024"
      ],
      "metadata": {
        "id": "P4preLw7SzqH"
      }
    },
    {
      "cell_type": "markdown",
      "source": [
        "----\n",
        "## 演習問題: 外食支出金額データのクラスタリング / $K$-平均法の実験\n",
        "----\n",
        "\n",
        "次の二つのことをやってみましょう：\n",
        "\n",
        "1. 「SSDSE-家計消費」データを階層型クラスタリング手法でクラスタリングする\n",
        "1. 人工的に作った2次元データを $K$-平均法でクラスタリングする\n",
        "\n",
        "<b><font color=\"#ff0000\">\n",
        "注意:\n",
        "今回の notebook の中には，コードセルを実行すると問題の解答が表示されるようになっている箇所があります．\n",
        "</font>\n",
        "</b>"
      ],
      "metadata": {
        "id": "zDtnBWKha6vx"
      }
    },
    {
      "cell_type": "code",
      "metadata": {
        "id": "I226xIKJbqtM"
      },
      "source": [
        "# 準備あれこれ\n",
        "import numpy as np\n",
        "import matplotlib.pyplot as plt\n",
        "import pandas as pd\n",
        "import seaborn\n",
        "seaborn.set()\n",
        "\n",
        "# SciPy の階層型クラスタリングパッケージ\n",
        "import scipy.cluster.hierarchy as hierarchy\n",
        "\n",
        "# scikit-learn の K-平均法のクラス\n",
        "from sklearn.cluster import KMeans\n",
        "\n",
        "# 「解答」を示す際に文字列を復号するのに使う\n",
        "import base64\n",
        "# 復号した文字列を Markdown 形式で（数式は LaTeX でフォーマットして）表示\n",
        "from IPython.display import display, Markdown"
      ],
      "execution_count": null,
      "outputs": []
    },
    {
      "cell_type": "markdown",
      "source": [
        "---\n",
        "### 外食支出金額データのクラスタリング"
      ],
      "metadata": {
        "id": "o469U47TWkI4"
      }
    },
    {
      "cell_type": "markdown",
      "source": [
        "主成分分析の回でも使った「SSDSE-家計消費」データに階層型クラスタリング手法を適用してみましょう．"
      ],
      "metadata": {
        "id": "a57adI9UWp-e"
      }
    },
    {
      "cell_type": "markdown",
      "source": [
        "#### データを準備する"
      ],
      "metadata": {
        "id": "1ocybrBeW4e_"
      }
    },
    {
      "cell_type": "code",
      "source": [
        "# データを扱うためのプログラムを入手\n",
        "!wget -nc https://www-tlab.math.ryukoku.ac.jp/~takataka/course/MVA/DiningOutSpendingData.py\n",
        "# それをインポートして実行\n",
        "from DiningOutSpendingData import DiningOutSpendingData\n",
        "dosd = DiningOutSpendingData(dropcolumns=True)\n",
        "dosd.info()\n",
        "# DataFrame を入手して表示\n",
        "dfDining = dosd.getDataFrame()\n",
        "dfDining"
      ],
      "metadata": {
        "id": "3-rDcz7JuCTQ"
      },
      "execution_count": null,
      "outputs": []
    },
    {
      "cell_type": "markdown",
      "source": [
        "次のコードセルでは，読み込んだデータを NumPy array にして，変数ごとに標準化する前処理を行っています．"
      ],
      "metadata": {
        "id": "NttJnEwmX3Fl"
      }
    },
    {
      "cell_type": "code",
      "source": [
        "# NumPy array を作る\n",
        "Xtmp = dosd.getArray()\n",
        "\n",
        "# 標準化する\n",
        "from sklearn.preprocessing import StandardScaler\n",
        "ss = StandardScaler()\n",
        "X_Dining = ss.fit_transform(Xtmp)\n",
        "N_Dining, D_Dining = X_Dining.shape\n",
        "\n",
        "# 最初の5つを表示\n",
        "print(X_Dining[:5, :])\n",
        "print(X_Dining.shape)"
      ],
      "metadata": {
        "id": "rMaPUnvYXL-P"
      },
      "execution_count": null,
      "outputs": []
    },
    {
      "cell_type": "markdown",
      "source": [
        "---\n",
        "#### 階層型クラスタリングしてみよう\n",
        "\n"
      ],
      "metadata": {
        "id": "3Y6cgkmtJ4Hy"
      }
    },
    {
      "cell_type": "markdown",
      "source": [
        "上記の配列 `X_Dining` を学習データとして，階層型クラスタリングを実行します．\n",
        "[scipy.cluster.hiearchy.linkage](https://docs.scipy.org/doc/scipy/reference/generated/scipy.cluster.hierarchy.linkage.html) でクラスタリングして，\n",
        "[scipy.cluster.hierarchy.dendrogram](https://docs.scipy.org/doc/scipy/reference/generated/scipy.cluster.hierarchy.dendrogram.html) でデンドログラムを描きます．\n",
        "標本間の距離はユークリッド距離，クラスタ間の距離はウォード法で測ります．"
      ],
      "metadata": {
        "id": "NDnxplQspxx1"
      }
    },
    {
      "cell_type": "code",
      "source": [
        "# 階層型クラスタリングを実行\n",
        "link = hierarchy.linkage(X_Dining, method='ward', metric='euclidean')\n",
        "# デンドログラムを描く\n",
        "fig, ax = plt.subplots(facecolor=\"white\", figsize=(12, 6))\n",
        "hierarchy.dendrogram(link, distance_sort='descending', show_leaf_counts=True, leaf_font_size=16, ax=ax)\n",
        "plt.show()"
      ],
      "metadata": {
        "id": "aW9hRlfj_TaK"
      },
      "execution_count": null,
      "outputs": []
    },
    {
      "cell_type": "markdown",
      "source": [
        "以下のセルを実行すると，`threshold` で指定した値をクラスタ間距離のしきい値として，データをクラスタに分けた結果を表示します．表示される値のうち，`label` の列がクラスタの番号に相当します（0ではなく1からはじまる番号）．"
      ],
      "metadata": {
        "id": "XpyqGERQrPhw"
      }
    },
    {
      "cell_type": "code",
      "source": [
        "threshold = 12 # クラスタ間距離のしきい値\n",
        "\n",
        "label = hierarchy.fcluster(link, t=threshold, criterion='distance')\n",
        "df_result = dosd.city.iloc[1:, :].copy()\n",
        "df_result['label'] = label\n",
        "df_result['idx'] = np.arange(47, dtype=int)\n",
        "df_result = df_result.set_index('idx')\n",
        "df_result = df_result.sort_values('label')\n",
        "df_result[['label','Prefecture', 'City']]"
      ],
      "metadata": {
        "id": "4yJXWcjAqtqg"
      },
      "execution_count": null,
      "outputs": []
    },
    {
      "cell_type": "markdown",
      "source": [
        "#### 問題\n",
        "\n",
        "次の問に対する答えを考えよう．\n",
        "\n",
        "(1) この実験では何をやっている？どんな手法を使っている？\n",
        "\n",
        "(2) 使っているデータのデータ数と次元数はいくつ？\n"
      ],
      "metadata": {
        "id": "gXXKcqAJN8OX"
      }
    },
    {
      "cell_type": "code",
      "source": [
        "# このセルを実行すると，上記の問に対する解答例が表示されます\n",
        "Q = b'CigxKSDlpJblh7rmlK/lh7rph5HpoY3jg4fjg7zjgr/jga7jgq/jg6njgrnjgr/jg6rjg7PjgrDjgpLooYzjgaPjgabjgYTjgovvvI7pmo7lsaTlnovjgq/jg6njgrnjgr/jg6rjg7PjgrDvvIjjga7kuK3jgafjgoLlh53pm4blnovjgq/jg6njgrnjgr/jg6rjg7PjgrDvvInjga7miYvms5XjgpLnlKjjgYTjgabjgYrjgorvvIzmqJnmnKzplpPjga7ot53pm6Ljga/jg6bjg7zjgq/jg6rjg4Pjg4not53pm6LjgafvvIzjgq/jg6njgrnjgr/plpPjga7ot53pm6Ljga/jgqbjgqnjg7zjg4nms5XjgaflrprjgoHjgabjgYTjgovvvI4KCigyKSDjg4fjg7zjgr/mlbDjga8gNDcg44Gn5qyh5YWD5pWw44GvIDnvvI5gWERpbmluZy5zaGFwZWAg44Gu5YCk44KSIHByaW50IOOBl+OBpuOBhOOCi+OCs+ODvOODieOCu+ODq+OBruWun+ihjOe1kOaenOOCkuimi+OCi+OBqOWIhuOBi+OCi++8jgo='\n",
        "display(Markdown(base64.b64decode(Q).decode('utf-8')))"
      ],
      "metadata": {
        "id": "DimdDWizbZT5"
      },
      "execution_count": null,
      "outputs": []
    },
    {
      "cell_type": "markdown",
      "source": [
        "(3) クラスタ間距離のしきい値を 9 とした場合，このデータはいくつのクラスタに分けられるか．また，しきい値が 5 のときはいくつに分けられるか．\n",
        "\n",
        "(4) 名古屋市と外食支出の傾向がよく似ている都市を2つ挙げなさい．\n",
        "\n",
        "\n"
      ],
      "metadata": {
        "id": "ScQfE5VyYxaa"
      }
    },
    {
      "cell_type": "code",
      "source": [
        "# このセルを実行すると，上記の問に対する解答例が表示されます\n",
        "Q = b'CigzKSDkuIroqJjjga7jg4fjg7Pjg4njg63jgrDjg6njg6Djgafjga/jgq/jg6njgrnjgr/plpPot53pm6Ljga7jgZfjgY3jgYTlgKTjgYznuKbou7jjgavooajjgZXjgozjgabjgYTjgovvvI7nuKbou7jjga7lgKQgOSDjgafmqKrou7jjgajlubPooYzjgarnm7Tnt5rjgpLlvJXjgY/jgajvvIw05pys44Gu5p6d44Go5Lqk44KP44KL77yOCuOBl+OBn+OBjOOBo+OBpu+8jOOCr+ODqeOCueOCv+mWk+i3nembouOBruOBl+OBjeOBhOWApOOCkiA5IOOBqOOBmeOCi+OBqO+8jOODh+ODvOOCv+OBryA0IOOBpOOBruOCr+ODqeOCueOCv+OBq+WIhuOBkeOCieOCjOOCi++8jgrlkIzmp5jjgavvvIzjgZfjgY3jgYTlgKTjgYwgNSDjga7jgajjgY3jga/vvIw55YCL44Gu44Kv44Op44K544K/44Gr5YiG44GR44KJ44KM44KL77yOCuWun+mam+OBqyBgdGhyZXNob2xkYCDjga7lgKTjgpIgOSDjgYrjgojjgbMgNSDjgajjgZfjgabjgq/jg6njgrnjgr/jg6rjg7PjgrDntZDmnpzjgpLooajnpLrjgZnjgovjgrPjg7zjg4njgrvjg6vjgpLlrp/ooYzjgZfvvIzjgZ3jga7pgJrjgorjga7ntZDmnpzjgYzlvpfjgonjgozjgovjgZPjgajjgpLnorroqo3jgZfjgojjgYbvvI4KCig0KSDlkI3lj6TlsYvluILjga8gMjIg55Wq77yO44OH44Oz44OJ44Ot44Kw44Op44Og44KS6KaL44KL44Go77yM44Kv44Op44K544K/6ZaT6Led6Zui44Gu44GX44GN44GE5YCk44KS44GC44GS44Gm44GE44Gj44Gf44Go44GN77yMMjIg55Wq44Gv5pyA5Yid44GrIDEyIOeVqu+8iOadseS6rOmDveWMuumDqO+8ieOBqOWQiOS9teOBl++8jOasoeOBqyAgMjAg55Wq77yI5bKQ6Zic55yM5bKQ6Zic5biC77yJ44Go5ZCI5L2144GX44Gm44GE44KL77yOCuOBneOBruW+jOOBr+OBl+OBjeOBhOWApOOCkuOBi+OBquOCiuWkp+OBjeOBj+OBmeOCi+OBvuOBp+OBk+OBrjPpg73luILjga7jgb/jgafkuIDjgaTjga7jgq/jg6njgrnjgr/jgpLmiJDjgZfjgabjgYTjgovvvI4K44GX44Gf44GM44Gj44Gm77yM5ZCN5Y+k5bGL5biC44Gu5aSW6aOf5pSv5Ye65YK+5ZCR44Gv77yM5bKQ6Zic55yM5bKQ6Zic5biC44GK44KI44Gz5p2x5Lqs6YO95Yy66YOo44Go44KI44GP5Ly844Gm44GE44KL44Go44GE44GI44KL77yOCg=='\n",
        "display(Markdown(base64.b64decode(Q).decode('utf-8')))"
      ],
      "metadata": {
        "id": "4Q_95LCdckjU"
      },
      "execution_count": null,
      "outputs": []
    },
    {
      "cell_type": "markdown",
      "source": [
        "(5) デンドログラムを見て，クラスタの数がそれぞれ 4, 6, 9 となるようなしきい値を選ぼう．それぞれのしきい値設定でクラスタリングした結果を観察しよう．\n",
        "\n",
        "(6) (5) の結果から考えると，近畿5府県（滋賀，京都，大阪，兵庫，奈良）の県庁所在市の外食支出傾向は，互いに似てる？ 似てない？ それぞれのクラスタ数の条件で同じクラスタに入っているかどうか見てみよう．\n",
        "\n",
        "(7) 47県庁所在市の中で，他の市との違いが大きくて最も孤立しているのはどこだろう？\n",
        "孤立した点でなくなる（他のクラスタと合併される）ときのクラスタ間距離が最も大きい市を探そう．"
      ],
      "metadata": {
        "id": "3CEGbaINhAMO"
      }
    },
    {
      "cell_type": "code",
      "source": [
        "# このセルを実行すると，上記の問に対する解答例が表示されます\n",
        "Q = b'Cig1KSDjg4fjg7Pjg4njg63jgrDjg6njg6DjgavmqKrou7jjgajlubPooYzjgarnm7Tnt5rjgpLlvJXjgYTjgabjgb/jgovjgajvvIzkvovjgYjjgbDvvIznuKbou7jjga7lgKTjgYwgOSwgNywgNSDjga7jgajjgY3jgavvvIzjgZ3jgozjgZ7jgowgNCwgNiwgOSDmnKzjga7mnp3jgajkuqTjgo/jgovvvI4K44GX44Gf44GM44Gj44Gm77yM44Kv44Op44K544K/6ZaT6Led6Zui44Gu44GX44GN44GE5YCk44KS5L6L44GI44GwIDksIDcsIDUg44Go44GZ44KM44Gw44KI44GE77yI44CM6Kaz5a+f44GX44KI44GG44CN44Gr5a++44GZ44KL6Kej562U5L6L44Gv55yB55Wl77yJ77yOCgooNikg6L+R55W/NeW6nOecjOOBr++8jOOCr+ODqeOCueOCv+mWk+i3nembouOBruOBl+OBjeOBhOWApOOCkiA1IOeoi+W6puOBvuOBp+S4i+OBkuOBpuOCr+ODqeOCueOCv+aVsOOBjCA5IOOBqOOBquOBo+OBpuOCguWQjOOBmOOCr+ODqeOCueOCv+OBq+WxnuOBl+OBpuOBhOOCiwrvvIjjgZfjgY3jgYTlgKTjgpLjgoLjgYblsJHjgZfkuIvjgZLjgovjgagy44Gk44Gr5YiG44GL44KM44KL44GM77yJ77yO44GX44Gf44GM44Gj44Gm77yM5aSW6aOf5pSv5Ye65YK+5ZCR44Gv5Ly844Gm44GE44KL44Go5Yik5pat44Gn44GN44KL77yOCgooNykg44Kv44Op44K544K/6ZaT6Led6Zui44Gu44GX44GN44GE5YCk44KS5aSn44GN44GP44GX44Gm44GE44Gj44Gf44Go44GN77yM5pyA5b6M44Gr77yI5pyA44KC5aSn44GN44GE44GX44GN44GE5YCk44Gn77yJ5a2k56uL44GX44Gf54K544Gn44Gq44GP44Gq44KL44Gu44GvIDM2IOeVqu+8iOmmmeW3neecjOmrmOadvuW4gu+8ieOBp+OBguOCi++8jgo='\n",
        "display(Markdown(base64.b64decode(Q).decode('utf-8')))"
      ],
      "metadata": {
        "id": "8j-jWf_yicgX"
      },
      "execution_count": null,
      "outputs": []
    },
    {
      "cell_type": "markdown",
      "source": [
        "---\n",
        "### $K$-平均法の実験\n",
        "\n",
        "非階層型クラスタリングの代表的手法である$K$-平均法について，簡単な実験を通してちょびっとだけ学びましょう．$K$-平均法では，データをいくつのクラスタに分けるかをあらかじめ指定する必要があります．また，クラスタリングの過程で，各クラスタに所属するデータの平均（これをセントロイドといいます）を計算します．クラスタ数を $K$ とすると，$K$ 個の平均(mean)を求めることになるので，$K$-means 法と呼ばれます．"
      ],
      "metadata": {
        "id": "tUL390jgmO5q"
      }
    },
    {
      "cell_type": "markdown",
      "source": [
        "#### データを準備する"
      ],
      "metadata": {
        "id": "-evwJfS932xk"
      }
    },
    {
      "cell_type": "code",
      "source": [
        "# 実験用データの入手\n",
        "df = pd.read_csv('https://www-tlab.math.ryukoku.ac.jp/~takataka/course/MVA/data4kmeans.csv')\n",
        "X = df[['x1', 'x2']].to_numpy()\n",
        "print('最初の5件')\n",
        "print(X[:5, :], X.shape)\n",
        "\n",
        "# 散布図\n",
        "fig, ax = plt.subplots(figsize=(6, 6))\n",
        "ax.scatter(X[:, 0], X[:, 1])\n",
        "ax.set_xlim(-5, 5)\n",
        "ax.set_ylim(-5, 5)\n",
        "ax.set_aspect('equal')\n",
        "plt.show()"
      ],
      "metadata": {
        "id": "oxOU09OYNKt4"
      },
      "execution_count": null,
      "outputs": []
    },
    {
      "cell_type": "markdown",
      "source": [
        "2次元ベクトル100個から成るデータをクラスタリングしてみましょう．散布図は上の通りです．なんとなく3つくらいの塊があるように見えますが...．"
      ],
      "metadata": {
        "id": "mU8iup104L1O"
      }
    },
    {
      "cell_type": "markdown",
      "source": [
        "#### K-means クラスタリングを実行して結果を観察しよう"
      ],
      "metadata": {
        "id": "gz_ldV3N4dTv"
      }
    },
    {
      "cell_type": "markdown",
      "source": [
        "ここでは，scikit-learn の [sklearn.cluster.KMeans](https://scikit-learn.org/stable/modules/generated/sklearn.cluster.KMeans.html) クラスを使い，上記の2次元データを $K$-平均法でクラスタリングする実験をやってみましょう．\n"
      ],
      "metadata": {
        "id": "FG0Rr_M6INdy"
      }
    },
    {
      "cell_type": "markdown",
      "source": [
        "\n",
        "次のセルの `K` にクラスタ数を指定して実行すると，配列 `X` に格納されたデータのクラスタリングに対して $K$-平均法を適用した結果を表示します．"
      ],
      "metadata": {
        "id": "fYSGrguh5Vaz"
      }
    },
    {
      "cell_type": "code",
      "source": [
        "K = 2 #@param  {type: \"number\"}\n",
        "\n",
        "# K-means 法\n",
        "km = KMeans(n_clusters=K, verbose=0)\n",
        "km.fit(X) # 学習\n",
        "centroid = km.cluster_centers_ # セントロイド\n",
        "label = km.predict(X) # 各データの所属クラスタを求める\n",
        "print(f'K = {K}')\n",
        "for ik in range(K):\n",
        "    print(f'cluster{ik}: num = {np.sum(label == ik)}')\n",
        "\n",
        "# クラスタリング結果描画用のデータ\n",
        "xmin, xmax = -5, 5\n",
        "ymin, ymax = -5, 5\n",
        "p = np.dstack(np.mgrid[xmin:xmax:0.05, ymin:ymax:0.05])\n",
        "P = p.reshape((-1, p.shape[2]))\n",
        "labelP = km.predict(P)\n",
        "\n",
        "# クラスタ割り振り結果を描画\n",
        "colors = seaborn.color_palette(n_colors=K)\n",
        "fig = plt.figure(figsize=(10, 6))\n",
        "ax0 = fig.add_subplot(121)\n",
        "ax0.set_xlim(xmin, xmax)\n",
        "ax0.set_ylim(ymin, ymax)\n",
        "ax0.set_aspect('equal')\n",
        "for ik in range(K):\n",
        "    Xk = X[label==ik, :]\n",
        "    Pk = P[labelP==ik, :]\n",
        "    ax0.scatter(Xk[:, 0], Xk[:, 1], color=colors[ik], s=12)\n",
        "    ax0.plot(centroid[ik, 0], centroid[ik, 1], color='white', marker='*', markerfacecolor=colors[ik], markersize=25)\n",
        "    ax0.scatter(Pk[:, 0], Pk[:, 1], marker='.', alpha=0.05, color=colors[ik])\n",
        "\n",
        "plt.show()"
      ],
      "metadata": {
        "id": "dA3iw1wkIUcP",
        "cellView": "form"
      },
      "execution_count": null,
      "outputs": []
    },
    {
      "cell_type": "markdown",
      "source": [
        "`clusterX: num = N` という表示は，データ点のうち，`X` 番目のクラスタに属すと判断されたものが `N` 個あったことを意味します．`K` 個のクラスタにほぼ同数ずつ割り振られることもあれば，偏ることもあります．\n",
        "\n",
        "図は，各データ点および平面上の各点をクラスタに振り分けた結果を色分けして示しています．また，各クラスタのセントロイドを ★ で表示しています．セントロイドは，そのクラスタに所属すると判断されたデータたちの平均（重心）です．\n",
        "\n",
        "`K` の値をいろいろ変えて結果を観察しましょう．ちなみに，$K$-平均法のアルゴリズムにはランダムな処理が含まれますので，同じデータで同じ`K`の設定でも，実行のたびに結果が変わります．"
      ],
      "metadata": {
        "id": "1Bq9kXzyOEjR"
      }
    }
  ]
}