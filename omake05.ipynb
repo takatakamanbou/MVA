{
  "nbformat": 4,
  "nbformat_minor": 0,
  "metadata": {
    "colab": {
      "provenance": [],
      "toc_visible": true,
      "authorship_tag": "ABX9TyO1XliZDHYRGKYUG5sDYZZK",
      "include_colab_link": true
    },
    "kernelspec": {
      "name": "python3",
      "display_name": "Python 3"
    }
  },
  "cells": [
    {
      "cell_type": "markdown",
      "metadata": {
        "id": "view-in-github",
        "colab_type": "text"
      },
      "source": [
        "<a href=\"https://colab.research.google.com/github/takatakamanbou/MVA/blob/2023/omake05.ipynb\" target=\"_parent\"><img src=\"https://colab.research.google.com/assets/colab-badge.svg\" alt=\"Open In Colab\"/></a>"
      ]
    },
    {
      "cell_type": "markdown",
      "metadata": {
        "id": "2UzDNLmVS3po"
      },
      "source": [
        "# MVA2023 omake05\n",
        "\n",
        "<img width=64 src=\"https://www-tlab.math.ryukoku.ac.jp/~takataka/course/MVA/MVA-logo.png\"> https://www-tlab.math.ryukoku.ac.jp/wiki/?MVA/2023\n"
      ]
    },
    {
      "cell_type": "markdown",
      "metadata": {
        "id": "_4-TmUdCd9FJ"
      },
      "source": [
        "----\n",
        "## おまけ課題 05 Python + OpenCV 入門\n",
        "----\n",
        "\n",
        "画像処理してみましょー"
      ]
    },
    {
      "cell_type": "markdown",
      "source": [
        "ここでは，OpenCV というライブラリを利用して画像処理してみます．OpenCV は，**コンピュータビジョン**のためのライブラリです．「コンピュータビジョン」(Computer Vision)は，人間のような視覚機能をコンピュータ・ロボットに持たせるための技術です．ここでは画像処理に限定して紹介しますが，それ以外にも様々なコンピュータビジョン関係の手法をC++とPythonで使うことができます．\n",
        "\n",
        "自分のPCの Python 環境で OpenCV を使いたい場合は，NumPy等の場合と同じで，Python とは別にインストール作業が必要です．興味のあるひとは takataka に聞いてください．Google Colab の環境には最初からインストールされています．"
      ],
      "metadata": {
        "id": "DTpjo72YRcqt"
      }
    },
    {
      "cell_type": "markdown",
      "source": [
        "----\n",
        "### とりあえず画像を読み込んで表示させてみる\n",
        "\n"
      ],
      "metadata": {
        "id": "trUgzh_bnVGj"
      }
    },
    {
      "cell_type": "markdown",
      "source": [
        "OpenCV と NumPy のモジュールをインポートします． OpenCV は画像を NumPy の array として扱うので， ついでに NumPy のモジュールもインポートしときます．"
      ],
      "metadata": {
        "id": "TV3MT7DcnqTW"
      }
    },
    {
      "cell_type": "code",
      "source": [
        "import cv2  # cv2 モジュール（OpenCVのモジュール）をインポート\n",
        "import numpy as np  # numpy モジュールをインポートして np という名前で呼べるようにする"
      ],
      "metadata": {
        "id": "x_dIHCJWnXwR"
      },
      "execution_count": null,
      "outputs": []
    },
    {
      "cell_type": "markdown",
      "source": [
        "画像を入手．最初は，takataka のウェブサーバからゲットしたのを使うことにします．"
      ],
      "metadata": {
        "id": "jI0e37oRozw_"
      }
    },
    {
      "cell_type": "code",
      "source": [
        "# takataka のウェブサーバから uni3-192.144.jpg という名前の画像を Colab 環境へ転送\n",
        "! wget -nc https://www-tlab.math.ryukoku.ac.jp/~takataka/course/AProg/uni3-192x144.jpg\n",
        "! ls"
      ],
      "metadata": {
        "id": "ahyFupg_ja4_"
      },
      "execution_count": null,
      "outputs": []
    },
    {
      "cell_type": "markdown",
      "source": [
        "自分のPCにPython + NumPy + OpenCV をインストールした環境では，OpenCV の関数 `cv2.imshow` を使って画像を表示できるのですが， Colab ではエラーになります．そこで，どちらでも動く関数 `imshow` というのを定義しておくことにします．普通の環境なら `cv2.imshow` 呼ぶだけ．"
      ],
      "metadata": {
        "id": "JLL7sE6jn0ZV"
      }
    },
    {
      "cell_type": "code",
      "source": [
        "# OpenCVの形式の画像を表示する関数\n",
        "#\n",
        "def imshow(img):\n",
        "    try:\n",
        "        from google.colab.patches import cv2_imshow\n",
        "        cv2_imshow(img) # Colab上で実行している場合\n",
        "    except:\n",
        "        cv2.imshow(img)  # それ以外の場合"
      ],
      "metadata": {
        "id": "dTJyEaY4l1sW"
      },
      "execution_count": null,
      "outputs": []
    },
    {
      "cell_type": "markdown",
      "source": [
        "画像を読み込んで表示させてみましょう． OpenCV の `cv2.imread` 関数は，引数に指定されたファイル名の画像を読み込んで，画素値の入った NumPy array を返します．画像のファイル形式としては，JPEG, PNG等様々なものに対応しています．"
      ],
      "metadata": {
        "id": "U58a6opkpR_L"
      }
    },
    {
      "cell_type": "code",
      "source": [
        "# cv2.imread は指定された名前の画像ファイルを読み込む関数．画素値の入った Numpy array を返す\n",
        "imgUni3 = cv2.imread('uni3-192x144.jpg')\n",
        "imshow(imgUni3)"
      ],
      "metadata": {
        "id": "bS2YueI3jyIZ"
      },
      "execution_count": null,
      "outputs": []
    },
    {
      "cell_type": "markdown",
      "source": [
        "変数 `imgUni3` の中身と shape を眺めてみましょう．"
      ],
      "metadata": {
        "id": "VSFWYJo7qxdl"
      }
    },
    {
      "cell_type": "code",
      "source": [
        "print(imgUni3)\n",
        "print(imgUni3.shape)"
      ],
      "metadata": {
        "id": "IuMPBFcclOyK"
      },
      "execution_count": null,
      "outputs": []
    },
    {
      "cell_type": "markdown",
      "source": [
        "この画像は幅192画素，高さ144画素のカラー画像です．一つの画素は 青(B)，緑(G)，赤(R) の3色の数値の大きさで表現されています．各色の値は $0$ から $255$ までの $256 (=2^8)$ 段階の整数値です（「余談」参照）．\n",
        "\n",
        "例えば，上記の最後の方に出力されている `[99 102 100]` というのは，この画像のとある位置の色が，「青成分が 99，緑成分が 102，赤成分が100」でできていることを表しています．色を表す数字は小さいほど黒に近く，大きいほどその色味が強くなります．`[0 0 0]` は黒， `[0 0 255]`は赤，`[255 255 255]` は白，`[0 255 255]` は黄色．\n",
        "\n",
        "余談: この形式の場合， $256^3 = 2^{24} = 16777216$ 通りの色を表せることになります．また，一つの画素のデータ量は 24 [bit] です．"
      ],
      "metadata": {
        "id": "HwryEDvUrEmP"
      }
    },
    {
      "cell_type": "markdown",
      "source": [
        "上記の出力の最後に `imgUni3.shape` の値がありますが，見ての通り， `imgUni3` は $144\\times 192\\times 3$ の大きさの3次元配列です． 画素値は画像の左上から右に向かってならんでいます．したがって，"
      ],
      "metadata": {
        "id": "lOdkLT5ntmoi"
      }
    },
    {
      "cell_type": "code",
      "source": [
        "print(imgUni3[50, 100, :])"
      ],
      "metadata": {
        "id": "64lQByHYuffa"
      },
      "execution_count": null,
      "outputs": []
    },
    {
      "cell_type": "markdown",
      "source": [
        "は，この画像の上から50画素，左から100画素の位置のB, G, Rの値です．"
      ],
      "metadata": {
        "id": "Oewg8AmTulfL"
      }
    },
    {
      "cell_type": "markdown",
      "source": [
        "----\n",
        "### 画像を加工してみる\n"
      ],
      "metadata": {
        "id": "NTjE-TrHvtn9"
      }
    },
    {
      "cell_type": "markdown",
      "source": [
        "次のセルを実行するとどんな画像が表示されるでしょうか？"
      ],
      "metadata": {
        "id": "cJmtXeNavtBf"
      }
    },
    {
      "cell_type": "code",
      "source": [
        "img2 = 255 - imgUni3\n",
        "imshow(img2)"
      ],
      "metadata": {
        "id": "-GgTzCXowEni"
      },
      "execution_count": null,
      "outputs": []
    },
    {
      "cell_type": "markdown",
      "source": [
        "化け猫になりました．\n",
        "\n",
        "画素値は 0 から 255 の整数値ですので，上記の計算を行うと，色が反転します．赤`[0 0 255]`がシアン（青緑）`[255 255 0]`になる，といった具合です．画像は色を表す数値の集まりですから，数値を変えれば見た目が変わるわけです．"
      ],
      "metadata": {
        "id": "i1BzbiQ6wWh2"
      }
    },
    {
      "cell_type": "markdown",
      "source": [
        "ここで扱っている画像はただの NumPy array ですので，自分で地道にプログラムを書いていろんな画像処理を行うことができます．ですが，ここでは OpenCV の機能を利用してみることにします．"
      ],
      "metadata": {
        "id": "oBf873-rxFmi"
      }
    },
    {
      "cell_type": "code",
      "source": [
        "# 画像の上下左右反転\n",
        "img3 = cv2.flip(img2, 0) # 第2引数が 0 なら上下反転， 1 なら左右反転， -1 なら...\n",
        "imshow(img3)"
      ],
      "metadata": {
        "id": "Kdim33GCxpME"
      },
      "execution_count": null,
      "outputs": []
    },
    {
      "cell_type": "code",
      "source": [
        "# 画像の拡大縮小\n",
        "img3 = cv2.resize(img2, (300, 400)) # 第2引数は出力の (幅, 高さ)\n",
        "imshow(img3)"
      ],
      "metadata": {
        "id": "SFRt65QlyERB"
      },
      "execution_count": null,
      "outputs": []
    },
    {
      "cell_type": "code",
      "source": [
        "# 画像中に円を描く．他の関数と違って引数で渡された画像そのものを書き換える\n",
        "cv2.circle(img2, (185, 60), 6, color=(0, 255, 255), thickness=2)\n",
        "cv2.circle(img2, (160, 135), 6, color=(0, 255, 255), thickness=2)\n",
        "imshow(img2)"
      ],
      "metadata": {
        "id": "8LxPrmv8zhig"
      },
      "execution_count": null,
      "outputs": []
    },
    {
      "cell_type": "markdown",
      "source": [
        "それぞれの関数の詳しい使い方等を知りたいときは，適当にググってみましょう．例えば `cv2.circle` の引数の意味を知りたいときは，\n",
        "https://note.nkmk.me/python-opencv-draw-function/\n",
        "などが参考になるでしょう．"
      ],
      "metadata": {
        "id": "06xfqmKL07um"
      }
    },
    {
      "cell_type": "markdown",
      "source": [
        "----\n",
        "### 画像の保存，Colabへのアップロード，Colabからのダウンロード"
      ],
      "metadata": {
        "id": "OQEd5zuVyis9"
      }
    },
    {
      "cell_type": "markdown",
      "source": [
        "`cv2.imwrite`関数で画像をファイルに保存することができます．ファイルの形式は，引数に指定したファイル名の拡張子から自動的に判断されます．"
      ],
      "metadata": {
        "id": "cIt1kTJE3M_2"
      }
    },
    {
      "cell_type": "code",
      "source": [
        "# 変数 img2 が表す画像を hoge.png というファイル名で保存\n",
        "cv2.imwrite('hoge.png', img2)"
      ],
      "metadata": {
        "id": "EHRE3Vlq31jf"
      },
      "execution_count": null,
      "outputs": []
    },
    {
      "cell_type": "markdown",
      "source": [
        "普通の環境では上記を実行するだけで自分のPC上に hoge.png が出来ます．しかしColabの場合は，これだと Colab 環境上に hoge.png ができるだけなので，それを手元にダウンロードする操作も行う必要があります．"
      ],
      "metadata": {
        "id": "Hsoc125b4KyK"
      }
    },
    {
      "cell_type": "markdown",
      "source": [
        "以下のセルを実行すると，Colab上のファイル `hoge.png` を自分のPCにダウンロードすることができます．ブラウザ上に「ファイルのダウンロードを許可しますか？」みたいなポップアップウィンドウが出てくるかもしれませんので，許可しましょう．"
      ],
      "metadata": {
        "id": "PAdwOXHxVPQl"
      }
    },
    {
      "cell_type": "code",
      "source": [
        "# Colab からファイルをダウンロード\n",
        "try:\n",
        "    from google.colab import files\n",
        "    files.download('hoge.png')\n",
        "except:\n",
        "    print('このコードは Colab 以外の環境では実行できないよ．Colabで実行してるのにこのメッセージが出る場合は，ファイル hoge.png が存在していないようです．これ以前のセルを先に実行してね')"
      ],
      "metadata": {
        "id": "7kaLhF-5TrFE"
      },
      "execution_count": null,
      "outputs": []
    },
    {
      "cell_type": "markdown",
      "source": [
        "ダウンロードした画像を自分のPCで表示させてみてください．"
      ],
      "metadata": {
        "id": "Bjrwqg7cV-wx"
      }
    },
    {
      "cell_type": "markdown",
      "source": [
        "以下のセルを実行すると，ファイルを Colab 上へアップロードすることができます．「ファイルを選択」というボタンを押して，自分のPC上の適当な画像ファイルをアップロードしてみましょう．\n",
        "ファイル名に日本語や空白が含まれているとあとあと面倒なので，あらかじめ名前をつけ直しておくとよいです．"
      ],
      "metadata": {
        "id": "hgoGrChkWm6r"
      }
    },
    {
      "cell_type": "code",
      "source": [
        "# Colab へファイルをアップロード\n",
        "try:\n",
        "    from google.colab import files\n",
        "    rv = files.upload()\n",
        "except:\n",
        "    print('このコードは Colab 以外の環境では実行できないよ．')"
      ],
      "metadata": {
        "id": "BIfLF_NSWUlK"
      },
      "execution_count": null,
      "outputs": []
    },
    {
      "cell_type": "markdown",
      "source": [
        "以下のセルを実行すると，Colab上のファイル一覧を表示させることができます．アップロードしたファイルが存在していることを確認しましょう．\n",
        "\n",
        "Colab は，Linux仮想マシン上に構築されているので，Linux のコマンドを呼び出すことができます．`!` につづけて書いている `ls` は，みなさんご存知の `ls` コマンドです．情報実習室のLinux環境や自分のPCの WSL 環境でおなじみですね．"
      ],
      "metadata": {
        "id": "ohZFpbVvXU03"
      }
    },
    {
      "cell_type": "code",
      "source": [
        "! ls"
      ],
      "metadata": {
        "id": "X7YZSaJzXdqs"
      },
      "execution_count": null,
      "outputs": []
    },
    {
      "cell_type": "markdown",
      "source": [
        "アップロードできていることが確認できたら，以下に `imshow` するセルを追加して，表示させてみましょう．"
      ],
      "metadata": {
        "id": "LkG884KbYFIs"
      }
    },
    {
      "cell_type": "markdown",
      "metadata": {
        "id": "oV9c8hEiPog9"
      },
      "source": [
        "----\n",
        "### 練習問題\n"
      ]
    },
    {
      "cell_type": "markdown",
      "source": [
        "(1) takatakaが用意したもの以外の適当な画像をアップロードし，OpenCV の機能を利用して様々な画像処理を行ってみましょう．上記で説明している以外の関数も使ってみてください．"
      ],
      "metadata": {
        "id": "WgmpmFN5hCQY"
      }
    },
    {
      "cell_type": "markdown",
      "source": [
        "(2) (1)でアップロードした画像の適当な範囲の画素値を反転させる処理を行いましょう．ただし...\n",
        "- OpenCV の機能を使うのではなく，NumPy array に対する処理として実現しましょう．\n",
        "- 繰り返しは使ってはいけません． array のスライスを使って1行で書けます．"
      ],
      "metadata": {
        "id": "t_b3XH5_Yt7y"
      }
    },
    {
      "cell_type": "markdown",
      "metadata": {
        "id": "k--F3OL6SJdT"
      },
      "source": [
        "(3) この notebook でわからないこと疑問に思うこと気になることを探して， takataka に質問しましょう．"
      ]
    },
    {
      "cell_type": "code",
      "source": [],
      "metadata": {
        "id": "i-Idhzloib85"
      },
      "execution_count": null,
      "outputs": []
    }
  ]
}