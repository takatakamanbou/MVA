{
  "nbformat": 4,
  "nbformat_minor": 0,
  "metadata": {
    "colab": {
      "provenance": [],
      "toc_visible": true,
      "authorship_tag": "ABX9TyMKSF6dI2jVKz1C/l0rEnoF",
      "include_colab_link": true
    },
    "kernelspec": {
      "name": "python3",
      "display_name": "Python 3"
    },
    "language_info": {
      "name": "python"
    }
  },
  "cells": [
    {
      "cell_type": "markdown",
      "metadata": {
        "id": "view-in-github",
        "colab_type": "text"
      },
      "source": [
        "<a href=\"https://colab.research.google.com/github/takatakamanbou/MVA/blob/2023/ex06notebookC.ipynb\" target=\"_parent\"><img src=\"https://colab.research.google.com/assets/colab-badge.svg\" alt=\"Open In Colab\"/></a>"
      ]
    },
    {
      "cell_type": "markdown",
      "source": [
        "# MVA2023 ex06notebookC\n",
        "\n",
        "<img width=64 src=\"https://www-tlab.math.ryukoku.ac.jp/~takataka/course/MVA/MVA-logo.png\"> https://www-tlab.math.ryukoku.ac.jp/wiki/?MVA/2023"
      ],
      "metadata": {
        "id": "P4preLw7SzqH"
      }
    },
    {
      "cell_type": "markdown",
      "source": [
        "----\n",
        "## 演習課題\n",
        "\n"
      ],
      "metadata": {
        "id": "zDtnBWKha6vx"
      }
    },
    {
      "cell_type": "markdown",
      "metadata": {
        "id": "jZSlqKGs-qQ3"
      },
      "source": [
        "### 準備\n",
        "\n",
        "\n"
      ]
    },
    {
      "cell_type": "code",
      "source": [
        "# いろいろインポート\n",
        "import numpy as np\n",
        "import matplotlib.pyplot as plt\n",
        "import pandas as pd\n",
        "import seaborn\n",
        "seaborn.set()"
      ],
      "metadata": {
        "id": "9HCsHgFjR6jo"
      },
      "execution_count": null,
      "outputs": []
    },
    {
      "cell_type": "markdown",
      "source": [
        "このセクションでは，この notebook で使うデータの準備をします．\n",
        "**講義の notebook で使ったのと同じデータですが，簡単のため，いくつかの変数を削除して扱うことにします**．\n",
        "\n",
        "\n",
        "独立行政法人統計センターが作成している 教育用標準データセット(SSDSE) の中の「SSDSE-家計消費」というデータを使います．\n",
        "\n",
        "「SSDSE-家計消費」は，47都道府県の県庁所在市で調査された家計消費に関する226項目の数値から成るデータです．「二人以上の世帯の1世帯あたりの焼き肉（外食）への年間支出金額」みたいな数値が含まれています．\n",
        "\n",
        "データの詳細はこちら: https://www.nstac.go.jp/sys/files/kaisetsu-C-2022.pdf\n",
        "\n",
        "このセクションのコードの作成にあたっては，データの前処理の部分でこちらを参考にさせていただきました： https://studiolab.sagemaker.aws/import/github/icoxfog417/mlnote-note/blob/main/notebooks/chapter10_answer.ipynb\n",
        "\n",
        "以下のコードを上から順に実行しましょう"
      ],
      "metadata": {
        "id": "bkqZa3xN-dUk"
      }
    },
    {
      "cell_type": "code",
      "source": [
        "##### CSV ファイルを読み込む #####\n",
        "URL = 'https://www.nstac.go.jp/sys/files/SSDSE-C-2022.csv'\n",
        "df_raw = pd.read_csv(URL, encoding='cp932') # 文字コードが UTF8 ではなく ShiftJIS なので，encoding オプションを指定して変換\n",
        "df_raw.head(10) # 最初の10行を表示"
      ],
      "metadata": {
        "id": "i2AizqgTR0fp"
      },
      "execution_count": null,
      "outputs": []
    },
    {
      "cell_type": "code",
      "source": [
        "#####  データの前処理 step1  #####\n",
        "\n",
        "# df_raw の見出し行に記されたコードと，1行目に記されたその項目名との対応表を作り，項目名の行を削除\n",
        "code = df_raw.iloc[0, :]\n",
        "print('##### コードと項目名の対応')\n",
        "print(code)\n",
        "df1 = df_raw.drop(0, axis=0)\n",
        "\n",
        "# 'SSDSE-C-2022'列の都市コードと'Prefecture'列の都道府県名，'City'列の県庁所在地名を整理\n",
        "city = df1.iloc[:, :3]\n",
        "print()\n",
        "print('##### 都市コード，都道府県名，県庁所在地名')\n",
        "print(city.head(5))\n",
        "df1 = df1.drop(['Prefecture', 'City'], axis=1)\n",
        "df1 = df1.set_index('SSDSE-C-2022')\n",
        "\n",
        "df1 = df1.drop('R00000', axis=0) # 'R00000'列は「全国」のデータなのでこれを削除\n",
        "df1 = df1.astype('float32') # 値を浮動小数点型に変換\n",
        "\n",
        "print()\n",
        "df1.head(5)"
      ],
      "metadata": {
        "id": "zg228twxSC8_"
      },
      "execution_count": null,
      "outputs": []
    },
    {
      "cell_type": "code",
      "source": [
        "#####  データの前処理 step2  #####\n",
        "\n",
        "# 一人あたりの外食支出金額のデータを作成\n",
        "df2 = pd.DataFrame()\n",
        "\n",
        "# コードが 'LB12' で始まる列が，様々な品目の外食支出額．ただし，1世帯あたりの金額\n",
        "columns = {}\n",
        "for c in df1.columns:\n",
        "    if c.startswith('LB12') and c != 'LB12':\n",
        "        #print(c, code[c])\n",
        "        columns[c] = code[c]\n",
        "        df2[c] = df1[c]\n",
        "\n",
        "# 列名をコードから項目名に変更\n",
        "df2 = df2.rename(columns=columns)\n",
        "\n",
        "# 都道府県ごとの平均世帯人数で割って一人あたりの金額にする\n",
        "df2 = df2.divide(df1['LA03'], axis=0)\n",
        "\n",
        "# 県庁所在地名の列を追加\n",
        "df2 = pd.merge(city.loc[:, ['SSDSE-C-2022', 'City']], df2, left_on='SSDSE-C-2022', right_index=True)\n",
        "df2 = df2.reset_index(drop=True)\n",
        "\n",
        "df_feature = df2\n",
        "\n",
        "# DataFrame 表示時の小数部の表示桁数\n",
        "pd.options.display.precision = 1\n",
        "\n",
        "# いくつかの列を削除\n",
        "df_feature.drop(columns=['他の麺類外食', '他の主食的外食', '学校給食', '飲酒代'], inplace=True)\n",
        "\n",
        "# 最初の5件\n",
        "df_feature.head(5)"
      ],
      "metadata": {
        "id": "N8P0-_z8SGSf"
      },
      "execution_count": null,
      "outputs": []
    },
    {
      "cell_type": "markdown",
      "source": [
        "### 問題1\n"
      ],
      "metadata": {
        "id": "IctNHxiAaai0"
      }
    },
    {
      "cell_type": "markdown",
      "source": [
        "(1) 次のコードを実行すると，`Xorg` にデータの値が格納されます．コードを追加して，`N` と `D` という変数に，このデータの数と次元数をそれぞれ代入して print させましょう．\n"
      ],
      "metadata": {
        "id": "_1ZTfoKoawiz"
      }
    },
    {
      "cell_type": "code",
      "source": [
        "Xorg = df_feature.drop(columns=['SSDSE-C-2022', 'City']).to_numpy()\n",
        "\n"
      ],
      "metadata": {
        "id": "iGqLmsg0ajoP"
      },
      "execution_count": null,
      "outputs": []
    },
    {
      "cell_type": "markdown",
      "source": [
        "(2) 次のセルに，`Xorg` を標準化したデータに主成分分析を行い，2次元に次元削減するコードを書きましょう．\n",
        "ただし，いくつかの変数について，次のように名前を付けてください．\n",
        "- `X`: 標準化したデータを格納した shape が (N, D) の配列\n",
        "- `Vx`: `X` の分散共分散行列\n",
        "- `eval`: `Vx` の固有値\n",
        "- `U`: `Vx` の固有ベクトル．値の並べ方はこれまでと同様に\n",
        "- `Y`: `X` を2次元に変換したデータを格納した shape が (N, 2) の配列"
      ],
      "metadata": {
        "id": "DckgmQWdbGkV"
      }
    },
    {
      "cell_type": "code",
      "source": [
        "\n"
      ],
      "metadata": {
        "id": "h0FtOccscNjR"
      },
      "execution_count": null,
      "outputs": []
    },
    {
      "cell_type": "markdown",
      "source": [
        "(3) 次のセルに，`eval` を用いて寄与率と累積寄与率を求めて print するコードを書きましょう．その結果を見て，次の問の答えを考え，メモしておきなさい．\n",
        "- 元のデータの「変数ごとの分散の和」の 80% 以上を表すためには，削減後の次元数をいくつ以上にするべきか\n",
        "- 同じく 90% 以上を表すためには（以下同文）"
      ],
      "metadata": {
        "id": "0YHIzjzqdw1J"
      }
    },
    {
      "cell_type": "code",
      "source": [
        "\n"
      ],
      "metadata": {
        "id": "Hswvp5rydsow"
      },
      "execution_count": null,
      "outputs": []
    },
    {
      "cell_type": "markdown",
      "source": [
        "### 問題2"
      ],
      "metadata": {
        "id": "lPMT3Pxreh4a"
      }
    },
    {
      "cell_type": "markdown",
      "source": [
        "(1) 問題1が正しくできていれば，次のコードを実行することで，横軸に第1主成分，縦軸に第2主成分をとった散布図が描かれるはずです．（散布図の考察はあとにして）実行できることを確認しましょう．\n",
        "\n",
        "ちなみに，0から数えて1番目から6番目までが東北6県，24番目から28番目までが近畿5府県です．"
      ],
      "metadata": {
        "id": "WQNHVzqRfY8r"
      }
    },
    {
      "cell_type": "code",
      "source": [
        "# Y の散布図\n",
        "fig, ax = plt.subplots(figsize=(8,8))\n",
        "ax.scatter(Y[:, 0], Y[:, 1])\n",
        "ax.scatter(Y[24:29, 0], Y[24:29, 1], label='kinki5')\n",
        "ax.scatter(Y[ 1: 7, 0], Y[ 1: 7, 1], label='tohoku6')\n",
        "ax.set_xlim(-4.5, 4.5)\n",
        "ax.set_ylim(-4.5, 4.5)\n",
        "ax.set_aspect('equal')\n",
        "ax.axhline(0, color='gray')\n",
        "ax.axvline(0, color='gray')\n",
        "ax.legend()\n",
        "for n in range(len(Y)):\n",
        "    plt.annotate(f'{n}', (Y[n, 0]+0.1, Y[n, 1]+0.1))\n",
        "plt.show()"
      ],
      "metadata": {
        "id": "FVsq4osNc6o2"
      },
      "execution_count": null,
      "outputs": []
    },
    {
      "cell_type": "markdown",
      "source": [
        "(2) 次のセルに，最大固有値に対応する固有ベクトルの値を print するコードを書きなさい．"
      ],
      "metadata": {
        "id": "JTy6u3tngUeV"
      }
    },
    {
      "cell_type": "code",
      "source": [],
      "metadata": {
        "id": "eUJwoPT3gb5S"
      },
      "execution_count": null,
      "outputs": []
    },
    {
      "cell_type": "markdown",
      "source": [
        "その値を見て，散布図の右の方に描かれた市／左の方に描かれた市はどのような外食傾向にあるか考えなさい．メモしておくこと．\n",
        "\n",
        "次のセルを実行すると，22番目と41番目の市の元データを表示させられます．上で考えた通りになっているかどうか確かめましょう．"
      ],
      "metadata": {
        "id": "KXPgq6WcgiU2"
      }
    },
    {
      "cell_type": "code",
      "source": [
        "df_feature.iloc[[22, 41], :]"
      ],
      "metadata": {
        "id": "jBQaSADSghW8"
      },
      "execution_count": null,
      "outputs": []
    },
    {
      "cell_type": "markdown",
      "source": [
        "(3) 次のセルに，2番目に大きな固有値に対応する固有ベクトルの値を print するコードを書きなさい．"
      ],
      "metadata": {
        "id": "Mx2JZYdYhoFU"
      }
    },
    {
      "cell_type": "code",
      "source": [],
      "metadata": {
        "id": "CvzJlIfbhx3Z"
      },
      "execution_count": null,
      "outputs": []
    },
    {
      "cell_type": "markdown",
      "source": [
        "値の正負や大きさを考えて，散布図の上の方に描かれた市／下の方に描かれた市はどのような外食傾向にあるか考えなさい．メモしておくこと．"
      ],
      "metadata": {
        "id": "sANPgG8nh4Yj"
      }
    },
    {
      "cell_type": "code",
      "source": [
        "df_feature.iloc[[27, 5], :]"
      ],
      "metadata": {
        "id": "oh0RhgguZ2T1"
      },
      "execution_count": null,
      "outputs": []
    },
    {
      "cell_type": "markdown",
      "source": [
        "(4) 上記の結果と散布図上の位置から，東北6県と近畿5府県のおおまかな外食傾向を考察してメモしておきましょう．お金たくさん使う？比較的何をよく食べる？,etc."
      ],
      "metadata": {
        "id": "lrPonT_RjRxf"
      }
    },
    {
      "cell_type": "markdown",
      "source": [
        "うどん県高松市"
      ],
      "metadata": {
        "id": "GiDNCfqJjpsj"
      }
    },
    {
      "cell_type": "code",
      "source": [
        "# うどん県高松市\n",
        "df_feature.iloc[[36], :]"
      ],
      "metadata": {
        "id": "uoOS7Lf5_io3"
      },
      "execution_count": null,
      "outputs": []
    },
    {
      "cell_type": "code",
      "source": [],
      "metadata": {
        "id": "s4mi7uxLi8Qy"
      },
      "execution_count": null,
      "outputs": []
    }
  ]
}