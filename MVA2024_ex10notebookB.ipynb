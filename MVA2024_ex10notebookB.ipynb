{
  "nbformat": 4,
  "nbformat_minor": 0,
  "metadata": {
    "colab": {
      "provenance": [],
      "toc_visible": true,
      "authorship_tag": "ABX9TyPcySuKYgYEn6/2jBhxClMt",
      "include_colab_link": true
    },
    "kernelspec": {
      "name": "python3",
      "display_name": "Python 3"
    },
    "language_info": {
      "name": "python"
    }
  },
  "cells": [
    {
      "cell_type": "markdown",
      "metadata": {
        "id": "view-in-github",
        "colab_type": "text"
      },
      "source": [
        "<a href=\"https://colab.research.google.com/github/takatakamanbou/MVA/blob/main/MVA2024_ex10notebookB.ipynb\" target=\"_parent\"><img src=\"https://colab.research.google.com/assets/colab-badge.svg\" alt=\"Open In Colab\"/></a>"
      ]
    },
    {
      "cell_type": "markdown",
      "source": [
        "# MVA2024 ex09notebookC\n",
        "\n",
        "<img width=64 src=\"https://www-tlab.math.ryukoku.ac.jp/~takataka/course/MVA/MVA-logo.png\"> https://www-tlab.math.ryukoku.ac.jp/wiki/?MVA/2024"
      ],
      "metadata": {
        "id": "P4preLw7SzqH"
      }
    },
    {
      "cell_type": "markdown",
      "source": [
        "----\n",
        "## 演習課題: データに正規分布を当てはめてみよう\n",
        "---\n",
        "\n",
        "<b><font color=\"#ff0000\">\n",
        "注意:\n",
        "今回の notebook の中には，コードセルを実行すると問題の解答が表示されるようになっている箇所があります．\n",
        "</font>\n",
        "</b>"
      ],
      "metadata": {
        "id": "zDtnBWKha6vx"
      }
    },
    {
      "cell_type": "code",
      "metadata": {
        "id": "I226xIKJbqtM"
      },
      "source": [
        "# 必要なパッケージのインポート\n",
        "import numpy as np\n",
        "import matplotlib.pyplot as plt\n",
        "import pandas as pd\n",
        "import seaborn\n",
        "seaborn.set()\n",
        "\n",
        "# SciPy の 統計関数群の中の正規分布モジュール (scipy.stats.norm) と多変量正規分布モジュール (scipy.stats.multivariate_normal)\n",
        "from scipy.stats import norm, multivariate_normal\n",
        "\n",
        "# NumPy の 疑似乱数生成器（rng = random number generator）\n",
        "from numpy.random import default_rng\n",
        "rng = default_rng() # 疑似乱数生成器を初期化\n",
        "\n",
        "# 「解答」を示す際に文字列を復号するのに使う\n",
        "import base64\n",
        "# 復号した文字列を Markdown 形式で（数式は LaTeX でフォーマットして）表示\n",
        "from IPython.display import display, Markdown"
      ],
      "execution_count": null,
      "outputs": []
    },
    {
      "cell_type": "markdown",
      "source": [
        "---\n",
        "### データの準備"
      ],
      "metadata": {
        "id": "7g6sZ-PQ_3kN"
      }
    },
    {
      "cell_type": "code",
      "source": [
        "##### CSV ファイルを読み込む #####\n",
        "URL = 'https://www-tlab.math.ryukoku.ac.jp/~takataka/course/MVA/MVA2024-QvsE1107.csv'\n",
        "df = pd.read_csv(URL, index_col=0)\n",
        "X = df.to_numpy()\n",
        "N, D = X.shape\n",
        "print(f'N = {N}, D = {D}')\n",
        "df"
      ],
      "metadata": {
        "id": "7cmvd60S4Nx9"
      },
      "execution_count": null,
      "outputs": []
    },
    {
      "cell_type": "markdown",
      "source": [
        "これは，この授業の第7回までの Quiz の得点率 [%]（Quiz）と，先日の小テストの得点率 [%]（Exam）のデータです．小テスト受験者の分のみ含んでいます．\n",
        "\n",
        "散布図を描くと次のようになります．"
      ],
      "metadata": {
        "id": "GK7s9pgP_-Cn"
      }
    },
    {
      "cell_type": "code",
      "source": [
        "fig, ax = plt.subplots(1, figsize=(5, 5))\n",
        "ax.scatter(X[:, 0], X[:, 1], s=10)\n",
        "ax.set_xlim(-10, 110)\n",
        "ax.set_ylim(-10, 110)\n",
        "ax.axhline(0, color='gray')\n",
        "ax.axvline(0, color='gray')\n",
        "ax.set_xlabel('Quiz')\n",
        "ax.set_ylabel('Exam')\n",
        "ax.set_aspect('equal')\n",
        "plt.show()"
      ],
      "metadata": {
        "id": "bgPVLaNUOIz_"
      },
      "execution_count": null,
      "outputs": []
    },
    {
      "cell_type": "markdown",
      "source": [
        "---\n",
        "### 平均と分散共分散行列を推定する"
      ],
      "metadata": {
        "id": "9R8X-nGqAhUw"
      }
    },
    {
      "cell_type": "markdown",
      "source": [
        "「データの準備」のところで読み込んだ Quiz vs Exam のデータが2次元の正規分布から得られた標本であると仮定して，この正規分布パラメータを最尤推定してみましょう．\n",
        "つまり，標本平均と標本分散共分散行列を求めましょう．\n",
        "\n",
        "\n",
        "データは `X` という名前の NumPy array に格納されています．\n",
        "また，`N` と `D` がデータの数（サンプルサイズ）と次元数を表します．"
      ],
      "metadata": {
        "id": "lGDGcByhQdE2"
      }
    },
    {
      "cell_type": "code",
      "source": [
        "print('(X の最初の5行) = ')\n",
        "print(X[:5, :])\n",
        "print(X.shape)\n",
        "print(f'N = {N}, D = {D}')"
      ],
      "metadata": {
        "id": "4RljDBIOPmcr"
      },
      "execution_count": null,
      "outputs": []
    },
    {
      "cell_type": "markdown",
      "source": [
        "#### 問題1"
      ],
      "metadata": {
        "id": "4yYXnp5BSLju"
      }
    },
    {
      "cell_type": "markdown",
      "source": [
        "(1) 次のコードセルに，`X` の行方向の平均（Quizの平均とExamの平均）を求めて `mu` という変数に代入し，それを print するコードを書きなさい．NumPy の関数 np.mean を用いること．オプション引数 `axis` の指定が必要ですね．"
      ],
      "metadata": {
        "id": "uZSYUV8YAqKm"
      }
    },
    {
      "cell_type": "code",
      "source": [
        "\n"
      ],
      "metadata": {
        "id": "NE38m8i3A06p"
      },
      "execution_count": null,
      "outputs": []
    },
    {
      "cell_type": "code",
      "source": [
        "# このセルを実行すると上記の解答例を表示します\n",
        "Q = b'CmBgYAptdSA9IG5wLm1lYW4oWCwgYXhpcz0wKQpwcmludChtdSkKYGBgCg=='\n",
        "display(Markdown(base64.b64decode(Q).decode('utf-8')))"
      ],
      "metadata": {
        "id": "div5tO2FdESX"
      },
      "execution_count": null,
      "outputs": []
    },
    {
      "cell_type": "markdown",
      "source": [
        "(2) 次のコードセルに，`X` の分散共分散行列を求めて `cov` という変数に代入し，それを print するコードを書きなさい．NumPy の関数を使うこともできますが，ここでは，次のヒントを参考にして自分で式を書いてみましょう．\n",
        "\n",
        "［ヒント］ ベクトルを **列ベクトル** として扱うものとして，$N$ 個の $D$ 次元列ベクトルを $\\pmb{x}_1, \\pmb{x}_2, \\ldots, \\pmb{x}_N$ とおき，$\\pmb{\\mu} = \\frac{1}{N}\\sum_{n=1}^N \\pmb{x}_n$ とする．これらの分散共分散行列を $\\Sigma$ とおくと，\n",
        "\n",
        "$$\n",
        "\\Sigma = \\frac{1}{N}\\sum_{n=1}^N (\\pmb{x}_n - \\pmb{\\mu}) (\\pmb{x}_n - \\pmb{\\mu})^{\\top}\n",
        "$$\n",
        "\n",
        "である．このとき，$D \\times N$ 行列 $X'$ を $X' = \\begin{pmatrix} \\pmb{x}_1 - \\pmb{\\mu} & \\pmb{x}_2 - \\pmb{\\mu} & \\cdots & \\pmb{x}_N - \\pmb{\\mu} \\end{pmatrix}$ とおくと，\n",
        "\n",
        "$$\n",
        "\\Sigma = \\frac{1}{N} X' X'^{\\top}\n",
        "$$\n",
        "\n",
        "となる．この notebook では，ベクトルを **行ベクトル** として扱い，変数 `X` は $\\pmb{x}_1, \\ldots, \\pmb{x}_N$ をならべた $N \\times D$ 行列を表している．この場合，`X - mu` が上記の行列 $X'$ に対応する．"
      ],
      "metadata": {
        "id": "PBwYCdvhBB0D"
      }
    },
    {
      "cell_type": "code",
      "source": [
        "\n",
        "\n"
      ],
      "metadata": {
        "id": "hu5jgxTp7W9K"
      },
      "execution_count": null,
      "outputs": []
    },
    {
      "cell_type": "code",
      "source": [
        "# このセルを実行すると上記の解答例を表示します\n",
        "Q = b'CmBgYApYZCA9IFggLSBtdQpjb3YgPSBYZC5UIEAgWGQgLyBOCnByaW50KGNvdikKYGBgCg=='\n",
        "display(Markdown(base64.b64decode(Q).decode('utf-8')))"
      ],
      "metadata": {
        "id": "LIUViUt3doLx"
      },
      "execution_count": null,
      "outputs": []
    },
    {
      "cell_type": "markdown",
      "source": [
        "`X` に格納されている値は，0 列目が Quiz，1列目が Exam ですので，`cov[0, 0]` が Quiz の分散，`cov[1, 1]` が Exam の分散，`cov[0, 1]` と `cov[1, 0]` が Quiz と Exam の共分散を表します．したがって，両者の相関係数は次のように計算できます．\n"
      ],
      "metadata": {
        "id": "TxKfXc85d8yE"
      }
    },
    {
      "cell_type": "code",
      "source": [
        "rho = cov[0, 1] / np.sqrt(cov[0, 0]*cov[1, 1])\n",
        "print(rho)"
      ],
      "metadata": {
        "id": "AXVzd-aLUh7e"
      },
      "execution_count": null,
      "outputs": []
    },
    {
      "cell_type": "markdown",
      "source": [
        "### 散布図に確率密度関数を重ねて描画する"
      ],
      "metadata": {
        "id": "q4SMBMB9AlG1"
      }
    },
    {
      "cell_type": "markdown",
      "source": [
        "上で求めた平均と分散共分散行列は，Quiz vs Exam のデータが2次元正規分布から得られていると仮定したときに，そのパラメータ（平均と分散共分散行列）を最尤推定によって求めたものとなっています．\n",
        "得られた正規分布の確率密度関数を $f(\\mathbf{x})$ とおくとき，いくつかの定数 $c$ に対して $f(\\mathbf{x}) = c$ となる点の座標を求め，データの散布図に重ねて描いてみると，次のようになります．\n",
        "\n"
      ],
      "metadata": {
        "id": "4g9f4lqZk5pJ"
      }
    },
    {
      "cell_type": "code",
      "source": [
        "# 平均 mu 分散共分散行列 cov に従う正規乱数でデータを生成\n",
        "#samples = rng.multivariate_normal(mu, cov, size=500)\n",
        "\n",
        "# 確率密度描画のためのグリッドデータの作成\n",
        "xmin, xmax = -10, 110\n",
        "xx, yy = np.mgrid[xmin:xmax:1.0, xmin:xmax:1.0]\n",
        "zz = multivariate_normal.pdf(np.dstack((xx, yy)), mean=mu, cov=cov)\n",
        "\n",
        "# データの散布図と正規分布の確率密度関数を重ねて描く\n",
        "fig, ax = plt.subplots(figsize=(5, 5))\n",
        "ax.scatter(X[:, 0], X[:, 1], s=10)\n",
        "ax.contour(xx, yy, zz, colors=['#ffa0a0', '#ff5050', '#ff0000'], levels=[0.00002, 0.0001, 0.0005])\n",
        "ax.plot(mu[0], mu[1], '+', markersize=16, color='r')\n",
        "ax.axvline(mu[0], linestyle='dotted', color='gray')\n",
        "ax.axhline(mu[1], linestyle='dotted', color='gray')\n",
        "ax.axvline(0, color='gray')\n",
        "ax.axhline(0, color='gray')\n",
        "ax.set_xlim(xmin, xmax)\n",
        "ax.set_ylim(xmin, xmax)\n",
        "ax.set_xlabel('Quiz')\n",
        "ax.set_ylabel('Exam')\n",
        "ax.set_aspect('equal')\n",
        "plt.show()"
      ],
      "metadata": {
        "id": "GsxErCzbKdkm"
      },
      "execution_count": null,
      "outputs": []
    },
    {
      "cell_type": "markdown",
      "source": [
        "### 乱数データに正規分布を当てはめてみる"
      ],
      "metadata": {
        "id": "0GkdqKPNPzp2"
      }
    },
    {
      "cell_type": "markdown",
      "source": [
        "上の例では，実在の，正規分布から得られたかどうかが定かでないデータに正規分布を当てはめる（正規分布のパラメータを推定する）実験を行いました．\n",
        "ここでは，疑似乱数によって正規分布に従うデータを生成し，そのパラメータを推定する実験を行ってみましょう．この場合，データの生成に用いたパラメータ（真のパラメータと呼ぶことにします）が分かっているので，推定されたパラメータの正しさを評価することができます．\n",
        "\n",
        "推定に用いるデータ数（サンプルサイズ）の多い少ないは，推定の正しさに影響するでしょうか？"
      ],
      "metadata": {
        "id": "pHApYCyE6ows"
      }
    },
    {
      "cell_type": "code",
      "source": [
        "#@title 問題2\n",
        "#@markdown 問題文はこのセルの下にあります．\n",
        "N = 10  #@param [10, 100, 1000] {type: \"raw\"}\n",
        "\n",
        "# 真の（母集団の）平均と分散\n",
        "mu, sig2 = 3, 4\n",
        "\n",
        "# 平均 mu, 分散 sig2 に従う正規乱数の標本を N 個抽出\n",
        "X = np.sqrt(sig2) * rng.standard_normal(N) + mu\n",
        "\n",
        "# 平均と分散を推定\n",
        "mu_est   = np.mean(X)\n",
        "sig2_est = np.var(X)\n",
        "\n",
        "# 標本のヒストグラムと推定された正規分布を描く\n",
        "xmin, xmax = mu - 5*np.sqrt(sig2), mu + 5*np.sqrt(sig2)\n",
        "xx = np.linspace(xmin, xmax, num=100)\n",
        "fig, ax = plt.subplots(1, figsize=(6, 4))\n",
        "\n",
        "# ヒストグラム\n",
        "ax.hist(X, density=True)\n",
        "\n",
        "# 真の正規分布\n",
        "px = norm.pdf(xx, loc=mu, scale=np.sqrt(sig2))\n",
        "ax.plot(xx, px, linewidth=3, color='#0000ff', label='true')\n",
        "ax.axvline(mu, color='#0000ff', linestyle='--')\n",
        "\n",
        "# 推定された正規分布\n",
        "px = norm.pdf(xx, loc=mu_est, scale=np.sqrt(sig2_est))\n",
        "ax.plot(xx, px, linewidth=3, color='red', label='estimated')\n",
        "ax.axvline(mu_est, color='#ff0000', linestyle='--')\n",
        "\n",
        "#ax.axvline(0, color='gray')\n",
        "ax.set_xlim(xmin, xmax)\n",
        "ax.set_ylim(0, 0.4)\n",
        "ax.legend()\n",
        "plt.show()\n",
        "print(f'N = {N}')\n",
        "print(f'真の平均: {mu:.2f} 推定された平均: {mu_est:.2f}')\n",
        "print(f'真の分散: {sig2:.2f} 推定された分散: {sig2_est:.2f}')"
      ],
      "metadata": {
        "id": "trKq6y--7NR2",
        "cellView": "form"
      },
      "execution_count": null,
      "outputs": []
    },
    {
      "cell_type": "markdown",
      "source": [
        "上のセルを実行すると，1次元正規乱数の標本からその正規分布の平均と分散を推定します．\n",
        "青色が真の分布の確率密度関数を，赤色がデータから推定された分布の確率密度関数を表します．\n",
        "`N`はサンプルサイズを表します．次のことをやりましょう：\n",
        "\n",
        "(1) `N` を 10 として，セルを実行し，結果を観察しましょう．同じ `N` でも実行のたびに乱数値が変わるので，何度も実行してみましょう．\n",
        "\n",
        "(2) `N` を 100 や 1000 にして (1) と同様のことをやりましょう．\n",
        "\n",
        "観察結果をふまえて，次の質問に対する答えを考えなさい．\n",
        "\n",
        "「推定の良さとサンプルサイズの間に関係はありそうか？サンプルサイズが大きい場合と小さい場合では，どちらのほうが真のパラメータ値に近い推定値が得られそうか？」\n"
      ],
      "metadata": {
        "id": "fG_SH4LV7HLw"
      }
    },
    {
      "cell_type": "markdown",
      "source": [
        "次のコードセルは，上と同様の実験を2次元正規分布で行うものです．"
      ],
      "metadata": {
        "id": "emz7g_yt-Mu3"
      }
    },
    {
      "cell_type": "code",
      "source": [
        "N = 20  #@param [20, 200, 2000] {type: \"raw\"}\n",
        "\n",
        "# 真の（母集団の）平均と分散\n",
        "mu  = np.array([7, 5])\n",
        "cov = np.array([[6, -2],\n",
        "                [-2, 3]])\n",
        "\n",
        "# 平均 mu, 共分散 cov に従う正規乱数の標本を N 個抽出\n",
        "X = rng.multivariate_normal(mu, cov, size=N)\n",
        "\n",
        "# 平均と分散を推定\n",
        "mu_est  = np.mean(X, axis=0)\n",
        "XX = X - mu_est\n",
        "cov_est = XX.T @ XX / N\n",
        "\n",
        "# 散布図\n",
        "fig, ax = plt.subplots(figsize=(5, 5))\n",
        "xmin, xmax = -5, 15\n",
        "ymin, ymax = -5, 15\n",
        "ax.scatter(X[:, 0], X[:, 1], s=10)\n",
        "\n",
        "# 真の正規分布\n",
        "xx, yy = np.mgrid[xmin:xmax:0.1, ymin:ymax:0.1]\n",
        "zz = multivariate_normal.pdf(np.dstack((xx, yy)), mu ,cov)\n",
        "ax.contour(xx, yy, zz, linewidths=3, colors=['#a0a0ff', '#0000ff'], levels=[0.002, 0.02])\n",
        "\n",
        "# 推定された正規分布\n",
        "zz = multivariate_normal.pdf(np.dstack((xx, yy)), mu_est ,cov_est)\n",
        "ax.contour(xx, yy, zz, linewidths=3, colors=['#ffa0a0', '#ff0000'], levels=[0.002, 0.02])\n",
        "\n",
        "ax.axhline(0, color='gray')\n",
        "ax.axvline(0, color='gray')\n",
        "ax.set_xlim(xmin, xmax)\n",
        "ax.set_ylim(ymin, ymax)\n",
        "ax.set_aspect('equal')\n",
        "plt.show()\n",
        "\n",
        "print(f'N = {N}')\n",
        "print(f'真の平均: {mu} 推定された平均: {mu_est}')\n",
        "print('真の分散共分散行列')\n",
        "print(cov)\n",
        "print('推定された分散共分散行列')\n",
        "print(cov_est)\n"
      ],
      "metadata": {
        "id": "uERpjwc4AHcb",
        "cellView": "form"
      },
      "execution_count": null,
      "outputs": []
    },
    {
      "cell_type": "markdown",
      "source": [
        "観察結果をふまえて，上の問題と同じ質問に対する答えを考えましょう．\n"
      ],
      "metadata": {
        "id": "4P2PWRRAEuVj"
      }
    },
    {
      "cell_type": "markdown",
      "source": [
        "---\n",
        "### 1次元正規分布のパラメータの最尤推定の解を導出してみよう"
      ],
      "metadata": {
        "id": "TfRUnFHX4DZ8"
      }
    },
    {
      "cell_type": "markdown",
      "source": [
        "#### 問題3"
      ],
      "metadata": {
        "id": "aEJiPZ773Rmb"
      }
    },
    {
      "cell_type": "markdown",
      "source": [
        "(1) notebookA の式$(*)$ を $\\mu$ で微分したもの，つまり $\\frac{\\partial L}{\\partial \\mu}$ を求めなさい．\n",
        "\n",
        "(2) $\\frac{\\partial L}{\\partial \\mu} = 0$ を $\\mu$ について解いて，notebookA の式$(1)$が得られることを示しなさい．\n",
        "\n",
        "(3) notebookA の式$(*)$ を $\\sigma^2$ で微分したもの，つまり $\\frac{\\partial L}{\\partial \\sigma^2}$ を求めなさい．ここでは，$\\sigma$ではなく$\\sigma^2$ をひとかたまりの変数として扱っていることに注意．\n",
        "\n",
        "(4) $\\frac{\\partial L}{\\partial \\sigma^2} = 0$ を $\\sigma^2$ について解いて，notebookA の式$(2)$が得られることを示しなさい．"
      ],
      "metadata": {
        "id": "OJFeMa5B3lF3"
      }
    },
    {
      "cell_type": "code",
      "source": [
        "# このセルを実行すると上記の略解を表示します\n",
        "Q = b'CigxKQokJApcYmVnaW57YWxpZ25lZH0KXGZyYWN7XHBhcnRpYWwgTH17XHBhcnRpYWwgXG11fSAmPSAtXGZyYWN7Mn17MlxzaWdtYV4yfVxzdW1fe249MX1ee059KHhfbiAtIFxtdSkoLTEpID0gXGZyYWN7MX17XHNpZ21hXjJ9XHN1bV97bj0xfV57Tn0oeF9uIC0gXG11KVxcCiY9IFxmcmFjezF9e1xzaWdtYV4yfVxsZWZ0KFxzdW1fe249MX1ee059eF9uIC0gTlxtdVxyaWdodCkKXGVuZHthbGlnbmVkfQokJAoKKDIpIOecgeeVpQoKKDMpCiQkClxiZWdpbnthbGlnbmVkfQpcZnJhY3tccGFydGlhbCBMfXtccGFydGlhbCBcc2lnbWFeMn0gJj0gLVxmcmFje059ezJ9XGZyYWN7MX17XHNpZ21hXjJ9ICsgXGZyYWN7MX17Mihcc2lnbWFeMileMn1cc3VtX3tuPTF9XntOfSh4X24gLSBcbXUpXjIgXFwKJj0gXGZyYWN7MX17Mihcc2lnbWFeMileMn1cbGVmdChcc3VtX3tuPTF9XntOfSh4X24gLSBcbXUpXjIgLSBOXHNpZ21hXjJccmlnaHQpIFxcClxlbmR7YWxpZ25lZH0KJCQKCig0KSDnnIHnlaUK'\n",
        "display(Markdown(base64.b64decode(Q).decode('utf-8')))"
      ],
      "metadata": {
        "id": "o1PXEDQkAMH4"
      },
      "execution_count": null,
      "outputs": []
    },
    {
      "cell_type": "code",
      "source": [],
      "metadata": {
        "id": "aADLC2JMAPe-"
      },
      "execution_count": null,
      "outputs": []
    }
  ]
}