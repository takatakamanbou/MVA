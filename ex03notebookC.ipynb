{
  "nbformat": 4,
  "nbformat_minor": 0,
  "metadata": {
    "colab": {
      "provenance": [],
      "collapsed_sections": [],
      "toc_visible": true,
      "authorship_tag": "ABX9TyPpLtGK9Eg/BVUCkz6To3Rm",
      "include_colab_link": true
    },
    "kernelspec": {
      "name": "python3",
      "display_name": "Python 3"
    },
    "language_info": {
      "name": "python"
    }
  },
  "cells": [
    {
      "cell_type": "markdown",
      "metadata": {
        "id": "view-in-github",
        "colab_type": "text"
      },
      "source": [
        "<a href=\"https://colab.research.google.com/github/takatakamanbou/MVA/blob/2022/ex03notebookC.ipynb\" target=\"_parent\"><img src=\"https://colab.research.google.com/assets/colab-badge.svg\" alt=\"Open In Colab\"/></a>"
      ]
    },
    {
      "cell_type": "markdown",
      "source": [
        "# MVA2022 ex03notebookC\n",
        "\n",
        "<img width=64 src=\"https://www-tlab.math.ryukoku.ac.jp/~takataka/course/MVA/MVA-logo.png\"> https://www-tlab.math.ryukoku.ac.jp/wiki/?MVA/2022"
      ],
      "metadata": {
        "id": "P4preLw7SzqH"
      }
    },
    {
      "cell_type": "markdown",
      "source": [
        "----\n",
        "## 演習課題\n",
        "\n"
      ],
      "metadata": {
        "id": "zDtnBWKha6vx"
      }
    },
    {
      "cell_type": "markdown",
      "metadata": {
        "id": "weuyu8H6bqtL"
      },
      "source": [
        "### 問題0\n",
        "\n",
        "問題1以降のために必要な `import` 文を以下のセルに書いておこう．\n"
      ]
    },
    {
      "cell_type": "code",
      "metadata": {
        "id": "I226xIKJbqtM"
      },
      "source": [
        "# 必要なパッケージのインポート\n",
        "import pandas as pd\n",
        "import numpy as np"
      ],
      "execution_count": null,
      "outputs": []
    },
    {
      "cell_type": "markdown",
      "source": [
        "### 問題1\n",
        "\n",
        "次の二つのコードセルを実行すると，以前の説明でも使ったことのあるワインのデータを読み込んで 2 つの NumPy array `X` と `Y` を作ります．\n",
        "実行して結果を観察しよう．\n",
        "notebookA の解説で使っている記号を使うと，このデータの場合の $N$ と $D$ はそれぞれいくつか考え，メモしておきなさい．\n",
        "\n",
        "※データの説明: ここで使うのは，機械学習の学習や実験に使えるデータセットを収集している [UCI Machine Learning Repository](https://archive.ics.uci.edu/ml/index.php) というサイトにある [Wine Quality Data Set](https://archive.ics.uci.edu/ml/datasets/wine+quality) というもの（のうちの赤ワインのデータ）です．"
      ],
      "metadata": {
        "id": "bXPrFBHeogbD"
      }
    },
    {
      "cell_type": "code",
      "source": [
        "# データを読み込む\n",
        "dfWine = pd.read_csv('https://archive.ics.uci.edu/ml/machine-learning-databases/wine-quality/winequality-red.csv', header=0, sep=';')\n",
        "dfWine"
      ],
      "metadata": {
        "id": "omDHUAcmQ8Xg"
      },
      "execution_count": null,
      "outputs": []
    },
    {
      "cell_type": "code",
      "source": [
        "# 'quality' を除いた変数の値を集めて X とする\n",
        "X = dfWine.drop(columns='quality').to_numpy()\n",
        "# 'quality' の値を Y とする\n",
        "Y = dfWine['quality'].to_numpy()\n",
        "print(X.shape, Y.shape)"
      ],
      "metadata": {
        "id": "XA228aE0l-bf"
      },
      "execution_count": null,
      "outputs": []
    },
    {
      "cell_type": "markdown",
      "source": [
        "### 問題2\n",
        "\n",
        "重回帰分析をしてみよう．\n",
        "\n",
        "- 以下のセルを実行すると回帰係数が print されるように，空行部分を埋めなさい．\n",
        "つまり，変数 `w` に求めた回帰係数の値が代入されるようにしなさい．\n",
        "- ただし，回帰係数を求める計算には `np.linalg.lstsq` を用いること．"
      ],
      "metadata": {
        "id": "P6T3k1MvSj71"
      }
    },
    {
      "cell_type": "code",
      "source": [
        "\n",
        "\n",
        "# ここから下の行は変更してはならない\n",
        "print(w)"
      ],
      "metadata": {
        "id": "6q-s1DDBSjLW"
      },
      "execution_count": null,
      "outputs": []
    },
    {
      "cell_type": "markdown",
      "source": [
        "### 問題3\n",
        "\n",
        "与えられたデータに対する quality の予測値を求めてみよう．"
      ],
      "metadata": {
        "id": "UhUsS5hPVGwo"
      }
    },
    {
      "cell_type": "markdown",
      "source": [
        "次のセルを実行すると，`XX` に3つのデータの値が代入される．\n",
        "先頭列に 1 が入っていることと，`XX.shape` の値を確認しておこう．"
      ],
      "metadata": {
        "id": "9qEaKzwvuezI"
      }
    },
    {
      "cell_type": "code",
      "source": [
        "# このセルの中味をいじる必要はない\n",
        "XX = np.array([\n",
        "    [ 1., 4.9, 1.13, 0.09, 1.5, 0.172, 7., 19., 0.994, 3.5, 0.48, 9.8 ],\n",
        "    [ 1., 5.15, 0.735, 0.02, 7.9, 0.122, 68., 124., 0.9994, 3.47, 0.53, 9.9 ],\n",
        "    [ 1., 1., 0.27, 0.53, 2.4, 0.074, 2., 18., 0.9962, 3.2, 1.13, 12. ],\n",
        "])\n",
        "print(XX.shape)"
      ],
      "metadata": {
        "id": "AwETrwAmuO9l"
      },
      "execution_count": null,
      "outputs": []
    },
    {
      "cell_type": "markdown",
      "source": [
        "このとき，次のセルを実行すると，`XX` に格納された 3 つのデータに対する quality の予測値が表示されるようにしなさい．\n",
        "セルのコメントに記された指示に従うこと．\n",
        "ヒント: 複雑な計算式は必要ない．1行で（もっと言うと数文字で）済むはず． w を使う．"
      ],
      "metadata": {
        "id": "rTXN09GDuw5L"
      }
    },
    {
      "cell_type": "code",
      "source": [
        "yy = [11, 22, 33]  # この行を修正して yy が 3つの予測値の格納された (3,) の array になるようにする\n",
        "# ここから下の行は変更してはならない\n",
        "for n, y in enumerate(yy):\n",
        "    print(f'{n+1}番目のデータに対する予測値は {y:.2f}')"
      ],
      "metadata": {
        "id": "g0QmaQH7uwAx"
      },
      "execution_count": null,
      "outputs": []
    },
    {
      "cell_type": "markdown",
      "source": [
        "### 問題4\n",
        "\n",
        "決定係数を求めよう．\n",
        "\n",
        "次のセルに，元のデータ（問題3で出てきた3つの方ではなく，問題1と2で使っているデータ）を用いた重回帰分析で得られた結果の決定係数を計算して print するコードを書きなさい．\n",
        "得られた決定係数の値をメモしておきなさい（小数第4位を四捨五入して第3位までにした値でよい）．"
      ],
      "metadata": {
        "id": "-0aAmjXtWTTg"
      }
    },
    {
      "cell_type": "code",
      "source": [],
      "metadata": {
        "id": "fbEPHKGxXIgS"
      },
      "execution_count": null,
      "outputs": []
    }
  ]
}