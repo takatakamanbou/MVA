{
  "nbformat": 4,
  "nbformat_minor": 0,
  "metadata": {
    "colab": {
      "provenance": [],
      "toc_visible": true,
      "authorship_tag": "ABX9TyMuVV1kURH4PDQQRiVgJ25n",
      "include_colab_link": true
    },
    "kernelspec": {
      "name": "python3",
      "display_name": "Python 3"
    },
    "language_info": {
      "name": "python"
    }
  },
  "cells": [
    {
      "cell_type": "markdown",
      "metadata": {
        "id": "view-in-github",
        "colab_type": "text"
      },
      "source": [
        "<a href=\"https://colab.research.google.com/github/takatakamanbou/MVA/blob/main/MVA2024_ex12notebookA.ipynb\" target=\"_parent\"><img src=\"https://colab.research.google.com/assets/colab-badge.svg\" alt=\"Open In Colab\"/></a>"
      ]
    },
    {
      "cell_type": "markdown",
      "source": [
        "# MVA2024 ex12notebookA\n",
        "\n",
        "<img width=64 src=\"https://www-tlab.math.ryukoku.ac.jp/~takataka/course/MVA/MVA-logo.png\"> https://www-tlab.math.ryukoku.ac.jp/wiki/?MVA/2024"
      ],
      "metadata": {
        "id": "P4preLw7SzqH"
      }
    },
    {
      "cell_type": "markdown",
      "source": [
        "---\n",
        "## 判別分析 (2)\n",
        "---\n",
        "\n"
      ],
      "metadata": {
        "id": "Snu_5I6aGJS8"
      }
    },
    {
      "cell_type": "code",
      "source": [
        "# いつものいろいろインポート\n",
        "import numpy as np\n",
        "import matplotlib.pyplot as plt\n",
        "import pandas as pd\n",
        "import seaborn\n",
        "seaborn.set()\n",
        "\n",
        "# SciPy のもろもろ\n",
        "import scipy as sp\n",
        "from scipy.stats import norm, multivariate_normal\n",
        "\n",
        "# scikit-learn のもろもろ\n",
        "from sklearn.datasets import load_iris\n",
        "from sklearn.discriminant_analysis import LinearDiscriminantAnalysis, QuadraticDiscriminantAnalysis\n",
        "from sklearn.metrics import confusion_matrix\n",
        "\n",
        "# 文字列を Markdown 形式で（数式は LaTeX でフォーマットして）表示\n",
        "from IPython.display import display, Markdown"
      ],
      "metadata": {
        "id": "9HCsHgFjR6jo"
      },
      "execution_count": null,
      "outputs": []
    },
    {
      "cell_type": "markdown",
      "source": [
        "---\n",
        "### 線形判別分析と二次判別分析\n",
        "\n"
      ],
      "metadata": {
        "id": "SkG61I8sW7en"
      }
    },
    {
      "cell_type": "markdown",
      "source": [
        "$D$次元のデータを「クラス1」と「クラス2」の2クラスに分類する問題に対して，前回説明した判別分析は，次のことを行うものでした．\n",
        "\n",
        "1. それぞれのクラスのデータに正規分布を当てはめる．すなわち，クラス1の正規分布の平均 $\\pmb{\\mu}_1$ と分散共分散行列 $\\Sigma_1$ およびクラス2の正規分布の平均 $\\pmb{\\mu}_2$ と分散共分散行列 $\\Sigma_2$ を推定する．\n",
        "1. 判別関数 $h(\\pmb{x})$ を次式で定める（$\\ell_1(\\pmb{x})$ および $\\ell_2(\\pmb{x})$ は，クラス1の正規分布およびクラス2の正規分布に対する $\\pmb{x}$ の尤度 ）．\n",
        "$$\n",
        "\\begin{aligned}\n",
        "h(\\pmb{x}) &= \\log{\\ell_1(\\pmb{x})} - \\log{\\ell_2(\\pmb{x})} & (1) \\\\\n",
        "&=  -\\frac{1}{2} (\\pmb{x}-\\pmb{\\mu}_1)^{\\top}\\Sigma_1^{-1}(\\pmb{x}-\\pmb{\\mu}_1) + \\frac{1}{2} (\\pmb{x}-\\pmb{\\mu}_2)^{\\top}\\Sigma_2^{-1}(\\pmb{x}-\\pmb{\\mu}_2) + \\frac{1}{2}\\log{\\frac{|\\Sigma_2|}{|\\Sigma_1|}} & (2)\n",
        "\\end{aligned}\n",
        "$$\n",
        "1. データ $\\pmb{x}$ のクラスを， $h(\\pmb{x}) > 0$ ならばクラス1，$h(\\pmb{x}) < 0$ ならばクラス2と予測する．\n",
        "\n",
        "実は，この判別分析の手法には，**二次判別分析** (Quadratic Discriminant Analysis, QDA) という名前がついています（注）．\n",
        "二次判別分析は，クラスごとに分散共分散行列を推定しなければならない点や，判別関数が複雑になる点で，計算の手間の多い手法です．この計算の負担を軽減するため，分散共分散行列の扱いを簡略化し，より効率的に計算を行う手法として，**線形判別分析** (Linear Discriminant Analysis, LDA) が考案されています（注）．次節では，2クラスの線形判別分析について説明します\n",
        "\n",
        "<br>\n",
        "<hr width=\"50%\" align=\"left\">\n",
        "<span style=\"font-size: 75%\">\n",
        "※注: 二つの判別分析の名前の由来（なぜ「二次」なのか，何が「線形」なのか）については後述します．\n",
        "</span>"
      ],
      "metadata": {
        "id": "noPtv3rpXRsL"
      }
    },
    {
      "cell_type": "markdown",
      "source": [
        "---\n",
        "### 線形判別分析"
      ],
      "metadata": {
        "id": "o25HVwHIe_Dh"
      }
    },
    {
      "cell_type": "markdown",
      "source": [
        "#### 線形判別分析とは"
      ],
      "metadata": {
        "id": "UVqwLTfrrOlE"
      }
    },
    {
      "cell_type": "markdown",
      "source": [
        "**線形判別分析** (Linear Discriminant Analysis, LDA)（注） は，二次判別分析に「各クラスの正規分布は全て同一の分散共分散行列を持つ（平均のみが異なる）」という制約条件を加えて計算を簡略化した判別分析手法です．\n",
        "\n",
        "2クラスの二次判別分析の場合，\n",
        "クラス1の正規分布の平均 $\\pmb{\\mu}_1$，分散共分散行列 $\\Sigma_1$，クラス2の正規分布の平均 $\\pmb{\\mu}_2$，分散共分散行列 $\\Sigma_2$ の4つを求めていましたが，線形判別分析では，$\\Sigma_1 = \\Sigma_2$ と仮定します．この場合，$\\Sigma = \\Sigma_1 = \\Sigma_2$ とおくと，式(2)の第3項は $\\frac{1}{2}\\log{\\frac{|\\Sigma|}{|\\Sigma|}} = \\log 1 = 0$ となるので，判別関数は次の通りとなります．\n",
        "\n",
        "$$\n",
        "\\begin{aligned}\n",
        "h(\\pmb{x}) &= -\\frac{1}{2} (\\pmb{x}-\\pmb{\\mu}_1)^{\\top}\\Sigma^{-1}(\\pmb{x}-\\pmb{\\mu}_1) + \\frac{1}{2} (\\pmb{x}-\\pmb{\\mu}_2)^{\\top}\\Sigma^{-1}(\\pmb{x}-\\pmb{\\mu}_2) & (3)\\\\\n",
        "&= \\frac{d_{2}^2(\\pmb{x}) - d_{1}^2(\\pmb{x})}{2} & (4)\n",
        "\\end{aligned}\n",
        "$$\n",
        "\n",
        "ただし，$d_{1}(\\pmb{x}), d_{2}(\\pmb{x})$ はそれぞれ，平均 $\\pmb{\\mu}_1$ 分散共分散行列 $\\Sigma$ の正規分布に対するマハラノビス距離，平均 $\\pmb{\\mu}_2$ 分散共分散行列 $\\Sigma$ の正規分布に対するマハラノビス距離です．\n",
        "\n",
        "\n",
        "<br>\n",
        "<hr width=\"50%\" align=\"left\">\n",
        "<span style=\"font-size: 75%\">\n",
        "※注: 線形判別分析は，Ronald Fisher が最初に研究したと考えられており，<i>Fisher's Linear Discriminant</i> と呼ばれることもあります．Ronald Fisher は，前回の notebookA の「Fisher のアヤメのデータ」の節で紹介した，著名な統計学者です．\n",
        "</span>"
      ],
      "metadata": {
        "id": "Bjge1v5zfXaz"
      }
    },
    {
      "cell_type": "markdown",
      "source": [
        "式(3)の判別関数は，以下に示すように，変形していくと $\\pmb{x}$ の一次式となっています．\n",
        "\n",
        "$$\n",
        "\\begin{aligned}\n",
        "h(\\pmb{x}) &= \\frac{1}{2}\\left(\n",
        "(\\pmb{x}-\\pmb{\\mu}_2)^{\\top}\\Sigma^{-1}(\\pmb{x}-\\pmb{\\mu}_2) - (\\pmb{x}-\\pmb{\\mu}_1)^{\\top}\\Sigma^{-1}(\\pmb{x}-\\pmb{\\mu}_1)  \\right)\\\\\n",
        "&= \\frac{1}{2}\\left( \\pmb{x}^{\\top}\\Sigma^{-1}\\pmb{x} - \\pmb{x}^{\\top}\\Sigma^{-1}\\pmb{\\mu}_2 - \\pmb{\\mu}_2^{\\top}\\Sigma^{-1}\\pmb{x} + \\pmb{\\mu}_2^{\\top}\\Sigma^{-1}\\pmb{\\mu}_2 -\\left( \\pmb{x}^{\\top}\\Sigma^{-1}\\pmb{x} - \\pmb{x}^{\\top}\\Sigma^{-1}\\pmb{\\mu}_1 - \\pmb{\\mu}_1^{\\top}\\Sigma^{-1}\\pmb{x} + \\pmb{\\mu}_1^{\\top}\\Sigma^{-1}\\pmb{\\mu}_1\\right) \\right)\\\\\n",
        "&= \\frac{1}{2}\\left( -2\\pmb{\\mu}_2^{\\top}\\Sigma^{-1}\\pmb{x} + \\pmb{\\mu}_2^{\\top}\\Sigma^{-1}\\pmb{\\mu}_2 + 2\\pmb{\\mu}_1^{\\top}\\Sigma^{-1}\\pmb{x} - \\pmb{\\mu}_1^{\\top}\\Sigma^{-1}\\pmb{\\mu}_1 \\right)\\\\\n",
        "&= (\\pmb{\\mu}_1 - \\pmb{\\mu}_2)^{\\top}\\Sigma^{-1}\\pmb{x} - \\frac{1}{2}(\\pmb{\\mu}_1 - \\pmb{\\mu}_2)^{\\top}\\Sigma^{-1}(\\pmb{\\mu}_1+\\pmb{\\mu}_2)\\\\\n",
        "&= (\\pmb{\\mu}_1 - \\pmb{\\mu}_2)^{\\top}\\Sigma^{-1}\\left( \\pmb{x} - \\frac{\\pmb{\\mu}_1+\\pmb{\\mu}_2}{2} \\right) \\qquad (5)\n",
        "\\end{aligned}\n",
        "$$\n",
        "\n",
        "$h(\\pmb{x}) = 0 \\Leftrightarrow \\pmb{x} = \\frac{\\pmb{\\mu}_1+\\pmb{\\mu}_2}{2}$ ですので，クラス1とクラス2を分ける境界は，2つの平均の中点 $\\frac{\\pmb{\\mu}_1+\\pmb{\\mu}_2}{2}$ を通り，ベクトル $\\Sigma^{-1}(\\pmb{\\mu}_1 - \\pmb{\\mu}_2)$ に垂直な 平面（$(D-1)$次元平面，$D=2$のときは直線）となります（注）．\n",
        "このことに由来して，線形判別分析は「線形」判別分析と呼ばれます．また，線形判別分析における判別関数は「線形判別関数」と呼ばれます．\n",
        "\n",
        "一方，二次判別分析の判別関数（式(2)の $h(\\pmb{x})$）を $0$ とおいて得られる2クラスの境界は，二次曲面（$D=2$のときは二次曲線，すなわち，楕円 or 放物線 or 双曲線）となっています．そのため，二次判別分析は「二次」判別分析と呼ばれます．また，二次判別分析における判別関数は「二次判別関数」と呼ばれます．\n",
        "\n",
        "<br>\n",
        "<hr width=\"50%\" align=\"left\">\n",
        "<span style=\"font-size: 75%\">\n",
        "※注: 高校のベクトルの項で学ぶ直線の方程式の話の3次元以上への一般化．$\\pmb{n}^{\\top}(\\pmb{x}-\\pmb{p}) = \\pmb{n}\\cdot (\\pmb{x}-\\pmb{p}) = 0$ を満たす点 $\\pmb{x}$ は，点 $\\pmb{p}$ を通り $\\pmb{n}$ を法線ベクトルとする平面上にあります．\n",
        "</span>\n"
      ],
      "metadata": {
        "id": "pc5YzcRlmL_G"
      }
    },
    {
      "cell_type": "markdown",
      "source": [
        "#### 1次元の線形判別分析の例"
      ],
      "metadata": {
        "id": "LNcMMok-rWrD"
      }
    },
    {
      "cell_type": "markdown",
      "source": [
        "クラス1, クラス2の2クラスデータに線形判別分析を適用する場合，クラス1の平均を $\\mu_1$，クラス2の平均を $\\mu_2$，両クラス共通の分散を $\\sigma^2$ とおくと，\n",
        "\n",
        "$$\n",
        "d_1^2(x) = \\frac{(x-\\mu_1)^2}{\\sigma^2}, \\quad d_2^2(x) = \\frac{(x-\\mu_2)^2}{\\sigma^2} \\qquad (6)\n",
        "$$\n",
        "\n",
        "より，判別関数は次の通りとなります．\n",
        "\n",
        "$$\n",
        "\\begin{aligned}\n",
        "h(x) &= \\frac{1}{2\\sigma^2}\\left( (x-\\mu_2)^2 - (x-\\mu_1)^2 \\right) = \\frac{1}{2\\sigma^2}\\left( x^2 - 2\\mu_2 x + \\mu_2^2 - (x^2 - 2\\mu_1 x + \\mu_1^2) \\right)\\\\\n",
        "&= \\frac{1}{2\\sigma^2}\\left( 2(\\mu_1 - \\mu_2)x - (\\mu_1^2 - \\mu_2^2) \\right)\n",
        "= \\frac{\\mu_1 - \\mu_2}{2\\sigma^2}\\left( 2x - (\\mu_1 + \\mu_2)\\right) \\\\\n",
        "&= \\frac{\\mu_1 - \\mu_2}{\\sigma^2}\\left( x - \\frac{\\mu_1 + \\mu_2}{2}\\right) & (7)\n",
        "\\end{aligned}\n",
        "$$\n",
        "\n",
        "$h(x) = 0 \\Leftrightarrow x = \\frac{\\mu_1+\\mu_2}{2}$ ですので，2つの平均の中点がクラス1とクラス2を分ける境界となります．"
      ],
      "metadata": {
        "id": "QGlruvR3sFGo"
      }
    },
    {
      "cell_type": "markdown",
      "source": [
        "前回と同じ「人間」vs「ほげ星人」のデータのうち身長の方のみを使い，線形判別分析と二次判別分析の違いを見てみましょう．"
      ],
      "metadata": {
        "id": "JepVvsolzlT-"
      }
    },
    {
      "cell_type": "code",
      "source": [
        "# 人間 vs ほげ星人\n",
        "URL = 'https://www-tlab.math.ryukoku.ac.jp/~takataka/course/MVA/humanvshoge.csv'\n",
        "dfHoge = pd.read_csv(URL)\n",
        "#dfHoge\n",
        "\n",
        "# X_Human が「人間」の身長，X_Hoge が「ほげ星人」の身長\n",
        "X_Human = dfHoge.loc[dfHoge['Class'] == 'Human', 'Height'].to_numpy()\n",
        "X_Hoge  = dfHoge.loc[dfHoge['Class'] == 'Hoge',  'Height'].to_numpy()"
      ],
      "metadata": {
        "id": "D0iL8nWit5Fx"
      },
      "execution_count": null,
      "outputs": []
    },
    {
      "cell_type": "markdown",
      "source": [
        "次のセルで二次判別分析を実行します．"
      ],
      "metadata": {
        "id": "J7QOSmSGz9_a"
      }
    },
    {
      "cell_type": "code",
      "source": [
        "##### 二次判別分析（1次元） #####\n",
        "\n",
        "# クラス1，クラス2それぞれの平均を推定\n",
        "mu1 = np.mean(X_Human)\n",
        "mu2 = np.mean(X_Hoge)\n",
        "print(f'mu1 = {mu1:.2f}, mu2 = {mu2:.2f}')\n",
        "\n",
        "# クラス1, クラス2それぞれの分散を推定\n",
        "s1 = np.var(X_Human)\n",
        "s2 = np.var(X_Hoge)\n",
        "print(f's1 = {s1:.2f}, s2 = {s2:.2f}')\n",
        "\n",
        "# 二次判別関数の定義（ここでは scipy.stats.norm.logpdf を利用）\n",
        "def hQ(x, mu1, s1, mu2, s2):\n",
        "    return norm.logpdf(x, loc=mu1, scale=np.sqrt(s1)) - norm.logpdf(x, loc=mu2, scale=np.sqrt(s2))"
      ],
      "metadata": {
        "id": "yre2Fdc9vBt8"
      },
      "execution_count": null,
      "outputs": []
    },
    {
      "cell_type": "markdown",
      "source": [
        "次のセルで線形判別分析を実行します．2クラス共通の分散は，標本分散を用いて次のように推定します．\n",
        "\n",
        "$$\n",
        "\\hat{\\sigma}^2 = \\frac{1}{\\mbox{データの総数}}\\left( \\sum_{n:\\mbox{人間}} (x_n - \\mu_1)^2 + \\sum_{n:\\mbox{ほげ星人}} (x_n - \\mu_2)^2 \\right) \\qquad (8)\n",
        "$$\n"
      ],
      "metadata": {
        "id": "ZVIMjd2x0Doh"
      }
    },
    {
      "cell_type": "code",
      "source": [
        "##### 線形判別分析（1次元） #####\n",
        "\n",
        "# クラス1，クラス2それぞれの平均を推定\n",
        "mu1 = np.mean(X_Human)\n",
        "mu2 = np.mean(X_Hoge)\n",
        "print(f'mu1 = {mu1:.2f}, mu2 = {mu2:.2f}')\n",
        "\n",
        "# 共通の分散\n",
        "XX = np.hstack((X_Human - mu1, X_Hoge - mu2))\n",
        "s = np.mean(XX**2)\n",
        "print(f's = {s:.2f}')\n",
        "\n",
        "# 線形判別関数の定義\n",
        "def hL(x, mu1, mu2, s):\n",
        "    return (mu1 - mu2) / s * (x - (mu1 + mu2) / 2)"
      ],
      "metadata": {
        "id": "NzKIogkkvXor"
      },
      "execution_count": null,
      "outputs": []
    },
    {
      "cell_type": "markdown",
      "source": [
        "それぞれの結果を可視化してみると，次のようになります．"
      ],
      "metadata": {
        "id": "nJY1cnpX0jdE"
      }
    },
    {
      "cell_type": "code",
      "source": [
        "### 身長のヒストグラム，推定された正規分布の確率密度関数，判別境界\n",
        "#\n",
        "xmin, xmax = 80, 220\n",
        "bins = np.linspace(xmin, xmax, 28)\n",
        "xx = np.linspace(xmin, xmax, 100)\n",
        "\n",
        "fig, ax = plt.subplots(1, 2, figsize=(10, 4))\n",
        "\n",
        "# 二次判別分析\n",
        "ax[0].hist(X_Human, bins=bins, alpha=0.8, label='Human', density=True)\n",
        "ax[0].hist(X_Hoge,  bins=bins, alpha=0.8, label='Hoge',  density=True)\n",
        "px1 = norm.pdf(xx, loc=mu1, scale=np.sqrt(s1))\n",
        "ax[0].plot(xx, px1, linewidth=2, color='blue')\n",
        "px2 = norm.pdf(xx, loc=mu2, scale=np.sqrt(s2))\n",
        "ax[0].plot(xx, px2, linewidth=2, color='red')\n",
        "hx = lambda x: hQ(x, mu1, s1, mu2, s2)\n",
        "pQ = sp.optimize.brentq(hx, xmin, xmax)\n",
        "ax[0].axvline(pQ, linewidth=2, color='purple', label=f'h(x) = 0')\n",
        "ax[0].set_xlim(xmin, xmax)\n",
        "ax[0].set_title('QDA')\n",
        "ax[0].legend()\n",
        "\n",
        "# 線形判別分析\n",
        "ax[1].hist(X_Human, bins=bins, alpha=0.8, label='Human', density=True)\n",
        "ax[1].hist(X_Hoge,  bins=bins, alpha=0.8, label='Hoge',  density=True)\n",
        "px1 = norm.pdf(xx, loc=mu1, scale=np.sqrt(s))\n",
        "ax[1].plot(xx, px1, linewidth=2, color='blue')\n",
        "px2 = norm.pdf(xx, loc=mu2, scale=np.sqrt(s))\n",
        "ax[1].plot(xx, px2, linewidth=2, color='red')\n",
        "pL = (mu1 + mu2) / 2\n",
        "ax[1].axvline(pL, linewidth=2, color='purple', label=f'h(x) = 0')\n",
        "ax[1].set_xlim(xmin, xmax)\n",
        "ax[1].set_title('LDA')\n",
        "ax[1].legend()\n",
        "\n",
        "fig.tight_layout()\n",
        "plt.show()\n",
        "\n",
        "print(f'二次判別の判別境界: x = {pQ:.2f}     線形判別の判別境界: x = {pL:.2f}')"
      ],
      "metadata": {
        "id": "_wzaQvaSwtH3"
      },
      "execution_count": null,
      "outputs": []
    },
    {
      "cell_type": "markdown",
      "source": [
        "左が二次判別分析，右が線形判別分析の結果です．線形判別分析では，2クラスの正規分布の分散が等しいと仮定しているため，確率密度関数の形が等しくなっています．\n",
        "判別境界（$h(x) = 0$ となる $x$ の値）も異なっています．"
      ],
      "metadata": {
        "id": "oHdS_nnivBLS"
      }
    },
    {
      "cell_type": "markdown",
      "source": [
        "#### 2次元の線形判別分析の例"
      ],
      "metadata": {
        "id": "EwE00is81yAp"
      }
    },
    {
      "cell_type": "markdown",
      "source": [
        "「人間」vs「ほげ星人」のデータの2変数（身長，体重）を両方用いて2次元の判別分析を行ってみましょう．"
      ],
      "metadata": {
        "id": "fAeQ5xtj13x7"
      }
    },
    {
      "cell_type": "code",
      "source": [
        "# 人間 vs ほげ星人のデータを格納した2次元配列をつくる\n",
        "X2_Human = dfHoge.loc[dfHoge['Class'] == 'Human', ['Height', 'Weight']].to_numpy()\n",
        "X2_Hoge  = dfHoge.loc[dfHoge['Class'] == 'Hoge',  ['Height', 'Weight']].to_numpy()"
      ],
      "metadata": {
        "id": "JYMVwgP715Qo"
      },
      "execution_count": null,
      "outputs": []
    },
    {
      "cell_type": "markdown",
      "source": [
        "次のセルで二次判別分析を実行します．"
      ],
      "metadata": {
        "id": "9j576D4w6nMZ"
      }
    },
    {
      "cell_type": "code",
      "source": [
        "##### 二次判別分析（2次元） #####\n",
        "\n",
        "# クラス1，クラス2それぞれの平均を推定\n",
        "mu1 = np.mean(X2_Human, axis=0)\n",
        "mu2 = np.mean(X2_Hoge, axis=0)\n",
        "print(f'mu1 = {mu1}, mu2 = {mu2}')\n",
        "\n",
        "# クラス1, クラス2それぞれの分散共分散行列を推定\n",
        "XX = X2_Human - mu1\n",
        "cov1 = XX.T @ XX / XX.shape[0]\n",
        "print('cov1 = ')\n",
        "print(cov1)\n",
        "XX = X2_Hoge - mu2\n",
        "cov2 = XX.T @ XX / XX.shape[0]\n",
        "print('cov2 = ')\n",
        "print(cov2)"
      ],
      "metadata": {
        "id": "TY5534Pz3IAq"
      },
      "execution_count": null,
      "outputs": []
    },
    {
      "cell_type": "markdown",
      "source": [
        "次のセルで線形判別分析を実行します．2クラス共通の分散共分散行列の求め方の説明は省略しますが，考え方は1次元の場合と同様です．\n"
      ],
      "metadata": {
        "id": "5uhIfpOl6qpl"
      }
    },
    {
      "cell_type": "code",
      "source": [
        "##### 線形判別分析（2次元） #####\n",
        "\n",
        "# 平均の表示（↑で求めたもの）\n",
        "print(f'mu1 = {mu1}, mu2 = {mu2}')\n",
        "\n",
        "# 平均を引いたデータ行列をつくる\n",
        "XX = np.vstack((X2_Human - mu1, X2_Hoge - mu2))\n",
        "# それを用いて共通の分散共分散行列を求める\n",
        "cov = XX.T @ XX / XX.shape[0]\n",
        "print('cov = ')\n",
        "print(cov)"
      ],
      "metadata": {
        "id": "hxb-DHfj3l5h"
      },
      "execution_count": null,
      "outputs": []
    },
    {
      "cell_type": "markdown",
      "source": [
        "次のセルで判別関数の値を求める関数を定義します．"
      ],
      "metadata": {
        "id": "vbqiWSFL6_li"
      }
    },
    {
      "cell_type": "code",
      "source": [
        "# 判別関数の定義（scipy.stats.multivariate_normal.logpdf を利用）\n",
        "def h2(X, mu1, cov1, mu2, cov2):\n",
        "    L1 = multivariate_normal.logpdf(X, mean=mu1, cov=cov1)\n",
        "    L2 = multivariate_normal.logpdf(X, mean=mu2, cov=cov2)\n",
        "    return L1 - L2"
      ],
      "metadata": {
        "id": "9SDvj2yL493C"
      },
      "execution_count": null,
      "outputs": []
    },
    {
      "cell_type": "markdown",
      "source": [
        "二次判別・線形判別それぞれの結果を可視化してみると，次のようになります．"
      ],
      "metadata": {
        "id": "nxgBLx0b7MYJ"
      }
    },
    {
      "cell_type": "code",
      "source": [
        "##### 判別分析の結果を可視化する\n",
        "#\n",
        "fig, ax = plt.subplots(1, 2, figsize=(10, 5))\n",
        "xmin, xmax = 50, 250\n",
        "ymin, ymax = 0, 150\n",
        "xx, yy = np.mgrid[xmin:xmax:0.1, ymin:ymax:0.1]\n",
        "\n",
        "# 二次判別分析\n",
        "ax[0].scatter(X2_Human[:, 0], X2_Human[:, 1], label='Human')\n",
        "zz = multivariate_normal.pdf(np.dstack((xx, yy)), mean=mu1, cov=cov1)\n",
        "ax[0].contour(xx, yy, zz, colors='blue')\n",
        "ax[0].scatter(X2_Hoge[:, 0], X2_Hoge[:, 1], label='Hoge')\n",
        "zz = multivariate_normal.pdf(np.dstack((xx, yy)), mean=mu2, cov=cov2)\n",
        "ax[0].contour(xx, yy, zz, colors='red')\n",
        "zz = (h2(np.dstack((xx, yy)), mu1, cov1, mu2, cov2) < 0).astype(float)\n",
        "ax[0].contourf(xx, yy, zz, cmap='bwr', alpha=0.2)\n",
        "ax[0].set_xlim(xmin, xmax)\n",
        "ax[0].set_xlabel('Height')\n",
        "ax[0].set_ylim(ymin, ymax)\n",
        "ax[0].set_ylabel('Weight')\n",
        "ax[0].set_aspect('equal')\n",
        "ax[0].set_title('QDA')\n",
        "ax[0].legend()\n",
        "\n",
        "# 線形判別分析\n",
        "ax[1].scatter(X2_Human[:, 0], X2_Human[:, 1], label='Human')\n",
        "zz = multivariate_normal.pdf(np.dstack((xx, yy)), mean=mu1, cov=cov)\n",
        "ax[1].contour(xx, yy, zz, colors='blue')\n",
        "ax[1].scatter(X2_Hoge[:, 0], X2_Hoge[:, 1], label='Hoge')\n",
        "zz = multivariate_normal.pdf(np.dstack((xx, yy)), mean=mu2, cov=cov)\n",
        "ax[1].contour(xx, yy, zz, colors='red')\n",
        "zz = (h2(np.dstack((xx, yy)), mu1, cov, mu2, cov) < 0).astype(float)\n",
        "ax[1].contourf(xx, yy, zz, cmap='bwr', alpha=0.2)\n",
        "ax[1].set_xlim(xmin, xmax)\n",
        "ax[1].set_xlabel('Height')\n",
        "ax[1].set_ylim(ymin, ymax)\n",
        "ax[1].set_ylabel('Weight')\n",
        "ax[1].set_aspect('equal')\n",
        "ax[1].set_title('LDA')\n",
        "ax[1].legend()\n",
        "\n",
        "fig.tight_layout()\n",
        "plt.show()"
      ],
      "metadata": {
        "id": "P4lgeSdy4lBE"
      },
      "execution_count": null,
      "outputs": []
    },
    {
      "cell_type": "markdown",
      "source": [
        "左が二次判別分析，右が線形判別分析の結果です．線形判別分析では，2クラスの正規分布の分散共分散行列が等しいと仮定しているため，等高線の形や向きが等しくなっています（この例では分かりづらいですが...）．また，判別境界（$h(\\pmb{x}) = 0$ となる $\\pmb{x}$ が描く曲線）は，二次判別分析の場合は二次曲線ですが，線形判別分析の場合は直線となっています．"
      ],
      "metadata": {
        "id": "Z4nsthvf7WT-"
      }
    },
    {
      "cell_type": "markdown",
      "source": [
        "---\n",
        "### 多クラスの場合の判別分析\n",
        "\n",
        "ここまで，クラスの数を2に限定して判別分析を説明してきましたが，判別分析は多クラスの（クラス数3以上の）問題にも適用できます．\n"
      ],
      "metadata": {
        "id": "9xEU7w1Ic1NQ"
      }
    },
    {
      "cell_type": "markdown",
      "source": [
        "#### 方法"
      ],
      "metadata": {
        "id": "4t9_dz9dcN8R"
      }
    },
    {
      "cell_type": "markdown",
      "source": [
        "\n",
        "データを「クラス$1$」から「クラス$K$」までの $K$ 通りのクラスに判別する問題の場合，次のようにします：\n",
        "1. クラス $k$ ($k = 1, 2, \\ldots, K$) のデータが正規分布 $N\\left(\\pmb{\\mu}_k, \\Sigma_k\\right)$ に従うと仮定して，パラメータ $\\pmb{\\mu}_k, \\Sigma_k$ を推定する．\n",
        "1. クラスが未知のデータ $\\pmb{x}$ が与えられたら，それが $N\\left(\\pmb{\\mu}_k, \\Sigma_k\\right)$ から得られたとすることの対数尤度 $\\log\\ell_k(\\pmb{x})$ ($k = 1, 2, \\ldots, K$) を求め，どのクラスに対して尤度が最大となるか調べる：\n",
        "\n",
        "$$\n",
        "\\DeclareMathOperator*{\\argmax}{argmax}\n",
        "k^{*} = \\argmax_{k=1,\\ldots,K}{\\log\\ell_k(\\pmb{x})} \\qquad (9)\n",
        "$$\n",
        "\n",
        "ここで，$\\displaystyle \\DeclareMathOperator*{\\argmax}{argmax} \\argmax_x f(x)$ は，$f(x)$ が最大となるときの $x$ の値を返す演算子です（$\\displaystyle \\DeclareMathOperator*{\\argmin}{argmin} \\argmin$ というのもあります）．\n",
        "例えば $f(x) = -(x-1)^2 + 2$ のとき，\n",
        "\n",
        "$$\n",
        "\\DeclareMathOperator*{\\argmax}{argmax}\n",
        "\\begin{aligned}\n",
        "\\max_{x} f(x) &= 2 & (10) \\\\\n",
        "\\argmax_{x} f(x) &= 1 & (11) \\\\\n",
        "\\end{aligned}\n",
        "$$\n",
        "\n",
        "ということになります．式$(10)$の値は，$x$ を全ての実数値の範囲で変化させたときの $f(x)$ の最大値，式$(11)$の値は，そのときの $x$ の値です．\n",
        "これらのことから分かるように，式$(9)$ の $k^{*}$ は，尤度最大となったクラスの番号となります．\n",
        "\n",
        "上記では，分散共分散行列がクラス毎に異なってもよい考えていますので，二次判別分析の説明となっています．線形判別分析の場合は，全てのクラスの分散共分散行列が共通である，つまり，\n",
        "$\n",
        "\\Sigma_1 = \\Sigma_2 = \\dots = \\Sigma_K = \\Sigma\n",
        "$\n",
        "とすることになります．"
      ],
      "metadata": {
        "id": "ehjr9ZTg9JDx"
      }
    },
    {
      "cell_type": "markdown",
      "source": [
        "#### 実験: Fisher のアヤメのデータの判別分析"
      ],
      "metadata": {
        "id": "pU2FDWNpcQ8G"
      }
    },
    {
      "cell_type": "markdown",
      "source": [
        "前回登場した Fisher のアヤメのデータにはクラスが3つあります．判別分析してみましょう．"
      ],
      "metadata": {
        "id": "3SkQ2EsacYEa"
      }
    },
    {
      "cell_type": "code",
      "source": [
        "# Fisher のアヤメのデータ\n",
        "iris = load_iris(as_frame=True)\n",
        "dfIris = iris.frame\n",
        "dfIris"
      ],
      "metadata": {
        "id": "13XASaZp9g08"
      },
      "execution_count": null,
      "outputs": []
    },
    {
      "cell_type": "code",
      "source": [
        "## データの準備\n",
        "# 被説明変数（'target'列）を除いたものを np.array に\n",
        "X_iris = dfIris.drop(columns='target').to_numpy()\n",
        "print('# X_iris の最初の5行と X_iris.shape')\n",
        "print(X_iris[:5, :], X_iris.shape)\n",
        "print()\n",
        "# 'target' 列にクラス番号が格納されている\n",
        "y_iris = dfIris['target'].to_numpy(dtype=int)\n",
        "for k, tn in enumerate(iris.target_names):\n",
        "    print(f'Class{k}: {tn}')\n",
        "print()\n",
        "print('# y_iris と y_iris.shape')\n",
        "print(y_iris, y_iris.shape)"
      ],
      "metadata": {
        "id": "4b_nzuX5c4FB"
      },
      "execution_count": null,
      "outputs": []
    },
    {
      "cell_type": "markdown",
      "source": [
        "ここでは，[scikit-learn](https://scikit-learn.org/) にある次の二つを利用します．\n",
        "\n",
        "- 線形判別分析: [sklearn.discriminant_analysis.LinearDiscriminantAnalysis](https://scikit-learn.org/stable/modules/generated/sklearn.discriminant_analysis.LinearDiscriminantAnalysis.html)\n",
        "- 二次判別分析: [sklearn.discriminant_analysis.QuadraticDiscriminantAnalysis](https://scikit-learn.org/stable/modules/generated/sklearn.discriminant_analysis.QuadraticDiscriminantAnalysis.html)\n",
        "\n",
        "次の二つのコードセルで判別分析を実行します．"
      ],
      "metadata": {
        "id": "u_MtT6P1-Euu"
      }
    },
    {
      "cell_type": "code",
      "source": [
        "print('##### 線形判別分析 #####')\n",
        "print()\n",
        "N = y_iris.shape[0]\n",
        "lda = LinearDiscriminantAnalysis(priors=np.ones(3)/3)\n",
        "lda.fit(X_iris, y_iris)  # パラメータの推定\n",
        "y_pred = lda.predict(X_iris) # 予測\n",
        "print('# クラス予測結果')\n",
        "print(y_pred)\n",
        "print()\n",
        "\n",
        "# 混同行列 confusion[i, j] は，正解が i 番目のクラスで予測が j 番目のクラスだったデータの数\n",
        "confusion = confusion_matrix(y_iris, y_pred)\n",
        "ncorrect = np.sum(np.diag(confusion))\n",
        "\n",
        "# 混同行列を Markdown の表形式で表示\n",
        "ss = f'''\n",
        "|**LDA**|予測 Class0|予測 Class1|予測 Class2|\n",
        "|:---:|--:|--:|--:|\n",
        "|**正解 Class0**|{confusion[0, 0]}|{confusion[0, 1]}|{confusion[0, 2]}|\n",
        "|**正解 Class1**|{confusion[1, 0]}|{confusion[1, 1]}|{confusion[1, 2]}|\n",
        "|**正解 Class2**|{confusion[2, 0]}|{confusion[2, 1]}|{confusion[2, 2]}|\n",
        "\n",
        "(accuracy) = {ncorrect} / {N} = {ncorrect/N:.2f}\n",
        "'''\n",
        "display(Markdown(ss))"
      ],
      "metadata": {
        "id": "sdphH83eeemn"
      },
      "execution_count": null,
      "outputs": []
    },
    {
      "cell_type": "code",
      "source": [
        "print('##### 二次判別分析 #####')\n",
        "print()\n",
        "N = y_iris.shape[0]\n",
        "qda = QuadraticDiscriminantAnalysis(priors=np.ones(3)/3)\n",
        "qda.fit(X_iris, y_iris)  # パラメータの推定\n",
        "y_pred = qda.predict(X_iris) # 予測\n",
        "print('# クラス予測結果')\n",
        "print(y_pred)\n",
        "print()\n",
        "\n",
        "# 混同行列 confusion[i, j] は，正解が i 番目のクラスで予測が j 番目のクラスだったデータの数\n",
        "confusion = confusion_matrix(y_iris, y_pred)\n",
        "ncorrect = np.sum(np.diag(confusion))\n",
        "\n",
        "# 混同行列を Markdown の表形式で表示\n",
        "ss = f'''\n",
        "|**QDA**|予測 Class0|予測 Class1|予測 Class2|\n",
        "|:---:|--:|--:|--:|\n",
        "|**正解 Class0**|{confusion[0, 0]}|{confusion[0, 1]}|{confusion[0, 2]}|\n",
        "|**正解 Class1**|{confusion[1, 0]}|{confusion[1, 1]}|{confusion[1, 2]}|\n",
        "|**正解 Class2**|{confusion[2, 0]}|{confusion[2, 1]}|{confusion[2, 2]}|\n",
        "\n",
        "(accuracy) = {ncorrect} / {N} = {ncorrect/N:.2f}\n",
        "'''\n",
        "display(Markdown(ss))"
      ],
      "metadata": {
        "id": "R51YdOifCCS8"
      },
      "execution_count": null,
      "outputs": []
    },
    {
      "cell_type": "markdown",
      "source": [
        "「accuracy」は，全てのデータのうちクラスを正しく予測できたものの割合です．このデータでは，線形判別分析と二次判別分析の予測結果は一致しており，両者の違いは見えませんでした．notebookB 以降で他にもいろいろ実験してみましょう．"
      ],
      "metadata": {
        "id": "JBEYvPxsHju2"
      }
    },
    {
      "cell_type": "code",
      "source": [],
      "metadata": {
        "id": "xqITHrk1F_lE"
      },
      "execution_count": null,
      "outputs": []
    }
  ]
}